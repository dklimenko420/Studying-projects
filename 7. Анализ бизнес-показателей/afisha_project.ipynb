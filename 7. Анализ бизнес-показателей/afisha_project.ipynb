{
 "cells": [
  {
   "cell_type": "markdown",
   "metadata": {},
   "source": [
    "# Описание проекта\n",
    "Вас пригласили на стажировку в отдел маркетинговой аналитики Яндекс.Афиши. \n",
    "\n",
    "Первое задание: помочь маркетологам снизить расходы — отказаться от невыгодных источников трафика и перераспределить бюджет.\n",
    "\n",
    "Есть данные Яндекс.Афиши с июня 2017 по конец мая 2018 года:\n",
    "- лог сервера с данными о посещениях сайта Яндекс.Афиши,\n",
    "- выгрузка всех заказов за этот период,\n",
    "- статистика рекламных расходов.\n",
    "\n",
    "\n",
    "Вам предстоит изучить:\n",
    "- как клиенты пользуются сервисом,\n",
    "- когда делают первые покупки на сайте,\n",
    "- сколько денег приносит компании каждый клиент,\n",
    "- когда расходы на привлечение клиента окупаются.\n",
    "\n",
    "Выручка измеряется в условных единицах — у.е."
   ]
  },
  {
   "cell_type": "markdown",
   "metadata": {},
   "source": [
    "# Шаг 1. Загрузите данные и подготовьте их к анализу\n",
    "1.1. Положите данные о визитах, заказах и рекламных расходах в переменные;\n",
    "\n",
    "1.2. Подготовьте данные. Убедитесь, что тип данных во всех колонках соответствует сохранённым в них значениям."
   ]
  },
  {
   "cell_type": "code",
   "execution_count": 1,
   "metadata": {},
   "outputs": [],
   "source": [
    "import pandas as pd\n",
    "import numpy as np\n",
    "import seaborn as sns\n",
    "from matplotlib import pyplot as plt\n",
    "import plotly.express as px"
   ]
  },
  {
   "cell_type": "code",
   "execution_count": 2,
   "metadata": {},
   "outputs": [],
   "source": [
    "pd.set_option('display.max_columns', None)\n",
    "pd.options.display.float_format = '{:,.2f}'.format"
   ]
  },
  {
   "cell_type": "code",
   "execution_count": 3,
   "metadata": {},
   "outputs": [],
   "source": [
    "visits = pd.read_csv('/datasets/visits_log.csv')\n",
    "orders = pd.read_csv('/datasets/orders_log.csv')\n",
    "costs = pd.read_csv('/datasets/costs.csv')"
   ]
  },
  {
   "cell_type": "markdown",
   "metadata": {},
   "source": [
    "# Предобработка visits"
   ]
  },
  {
   "cell_type": "code",
   "execution_count": 4,
   "metadata": {},
   "outputs": [
    {
     "data": {
      "text/html": [
       "<div>\n",
       "<style scoped>\n",
       "    .dataframe tbody tr th:only-of-type {\n",
       "        vertical-align: middle;\n",
       "    }\n",
       "\n",
       "    .dataframe tbody tr th {\n",
       "        vertical-align: top;\n",
       "    }\n",
       "\n",
       "    .dataframe thead th {\n",
       "        text-align: right;\n",
       "    }\n",
       "</style>\n",
       "<table border=\"1\" class=\"dataframe\">\n",
       "  <thead>\n",
       "    <tr style=\"text-align: right;\">\n",
       "      <th></th>\n",
       "      <th>Device</th>\n",
       "      <th>End Ts</th>\n",
       "      <th>Source Id</th>\n",
       "      <th>Start Ts</th>\n",
       "      <th>Uid</th>\n",
       "    </tr>\n",
       "  </thead>\n",
       "  <tbody>\n",
       "    <tr>\n",
       "      <td>0</td>\n",
       "      <td>touch</td>\n",
       "      <td>2017-12-20 17:38:00</td>\n",
       "      <td>4</td>\n",
       "      <td>2017-12-20 17:20:00</td>\n",
       "      <td>16879256277535980062</td>\n",
       "    </tr>\n",
       "    <tr>\n",
       "      <td>1</td>\n",
       "      <td>desktop</td>\n",
       "      <td>2018-02-19 17:21:00</td>\n",
       "      <td>2</td>\n",
       "      <td>2018-02-19 16:53:00</td>\n",
       "      <td>104060357244891740</td>\n",
       "    </tr>\n",
       "    <tr>\n",
       "      <td>2</td>\n",
       "      <td>touch</td>\n",
       "      <td>2017-07-01 01:54:00</td>\n",
       "      <td>5</td>\n",
       "      <td>2017-07-01 01:54:00</td>\n",
       "      <td>7459035603376831527</td>\n",
       "    </tr>\n",
       "    <tr>\n",
       "      <td>3</td>\n",
       "      <td>desktop</td>\n",
       "      <td>2018-05-20 11:23:00</td>\n",
       "      <td>9</td>\n",
       "      <td>2018-05-20 10:59:00</td>\n",
       "      <td>16174680259334210214</td>\n",
       "    </tr>\n",
       "    <tr>\n",
       "      <td>4</td>\n",
       "      <td>desktop</td>\n",
       "      <td>2017-12-27 14:06:00</td>\n",
       "      <td>3</td>\n",
       "      <td>2017-12-27 14:06:00</td>\n",
       "      <td>9969694820036681168</td>\n",
       "    </tr>\n",
       "  </tbody>\n",
       "</table>\n",
       "</div>"
      ],
      "text/plain": [
       "    Device               End Ts  Source Id             Start Ts  \\\n",
       "0    touch  2017-12-20 17:38:00          4  2017-12-20 17:20:00   \n",
       "1  desktop  2018-02-19 17:21:00          2  2018-02-19 16:53:00   \n",
       "2    touch  2017-07-01 01:54:00          5  2017-07-01 01:54:00   \n",
       "3  desktop  2018-05-20 11:23:00          9  2018-05-20 10:59:00   \n",
       "4  desktop  2017-12-27 14:06:00          3  2017-12-27 14:06:00   \n",
       "\n",
       "                    Uid  \n",
       "0  16879256277535980062  \n",
       "1    104060357244891740  \n",
       "2   7459035603376831527  \n",
       "3  16174680259334210214  \n",
       "4   9969694820036681168  "
      ]
     },
     "execution_count": 4,
     "metadata": {},
     "output_type": "execute_result"
    }
   ],
   "source": [
    "visits.head()"
   ]
  },
  {
   "cell_type": "code",
   "execution_count": 5,
   "metadata": {},
   "outputs": [
    {
     "name": "stdout",
     "output_type": "stream",
     "text": [
      "<class 'pandas.core.frame.DataFrame'>\n",
      "RangeIndex: 359400 entries, 0 to 359399\n",
      "Data columns (total 5 columns):\n",
      "Device       359400 non-null object\n",
      "End Ts       359400 non-null object\n",
      "Source Id    359400 non-null int64\n",
      "Start Ts     359400 non-null object\n",
      "Uid          359400 non-null uint64\n",
      "dtypes: int64(1), object(3), uint64(1)\n",
      "memory usage: 13.7+ MB\n"
     ]
    }
   ],
   "source": [
    "visits.info()"
   ]
  },
  {
   "cell_type": "code",
   "execution_count": 6,
   "metadata": {},
   "outputs": [
    {
     "data": {
      "text/plain": [
       "0"
      ]
     },
     "execution_count": 6,
     "metadata": {},
     "output_type": "execute_result"
    }
   ],
   "source": [
    "visits.duplicated().sum()"
   ]
  },
  {
   "cell_type": "code",
   "execution_count": 7,
   "metadata": {},
   "outputs": [
    {
     "data": {
      "text/plain": [
       "['Device', 'End Ts', 'Source Id', 'Start Ts', 'Uid']"
      ]
     },
     "execution_count": 7,
     "metadata": {},
     "output_type": "execute_result"
    }
   ],
   "source": [
    "# Меняем названия столбцов и приводит даты в порядок\n",
    "visits.columns.to_list()"
   ]
  },
  {
   "cell_type": "code",
   "execution_count": 8,
   "metadata": {},
   "outputs": [],
   "source": [
    "#Изменим название колонок и приведём к нужному типу.\n",
    "visits.columns = ['device', 'end_ts', 'source_id', 'start_ss', 'uid']"
   ]
  },
  {
   "cell_type": "code",
   "execution_count": 9,
   "metadata": {},
   "outputs": [],
   "source": [
    "visits['end_ts'] = pd.to_datetime(visits['end_ts'], format = '%Y-%m-%d %H:%M:%S')\n",
    "visits['start_ss'] = pd.to_datetime(visits['start_ss'], format = '%Y-%m-%d %H:%M:%S')"
   ]
  },
  {
   "cell_type": "code",
   "execution_count": 10,
   "metadata": {},
   "outputs": [],
   "source": [
    "visits['device'] = visits['device'].astype('category')"
   ]
  },
  {
   "cell_type": "code",
   "execution_count": 11,
   "metadata": {},
   "outputs": [
    {
     "data": {
      "text/plain": [
       "desktop    262567\n",
       "touch       96833\n",
       "Name: device, dtype: int64"
      ]
     },
     "execution_count": 11,
     "metadata": {},
     "output_type": "execute_result"
    }
   ],
   "source": [
    "visits['device'].value_counts()"
   ]
  },
  {
   "cell_type": "code",
   "execution_count": 12,
   "metadata": {},
   "outputs": [
    {
     "name": "stdout",
     "output_type": "stream",
     "text": [
      "<class 'pandas.core.frame.DataFrame'>\n",
      "RangeIndex: 359400 entries, 0 to 359399\n",
      "Data columns (total 5 columns):\n",
      "device       359400 non-null category\n",
      "end_ts       359400 non-null datetime64[ns]\n",
      "source_id    359400 non-null int64\n",
      "start_ss     359400 non-null datetime64[ns]\n",
      "uid          359400 non-null uint64\n",
      "dtypes: category(1), datetime64[ns](2), int64(1), uint64(1)\n",
      "memory usage: 11.3 MB\n"
     ]
    }
   ],
   "source": [
    "visits.info()"
   ]
  },
  {
   "cell_type": "markdown",
   "metadata": {},
   "source": [
    "# Предобработка orders"
   ]
  },
  {
   "cell_type": "code",
   "execution_count": 13,
   "metadata": {},
   "outputs": [
    {
     "data": {
      "text/html": [
       "<div>\n",
       "<style scoped>\n",
       "    .dataframe tbody tr th:only-of-type {\n",
       "        vertical-align: middle;\n",
       "    }\n",
       "\n",
       "    .dataframe tbody tr th {\n",
       "        vertical-align: top;\n",
       "    }\n",
       "\n",
       "    .dataframe thead th {\n",
       "        text-align: right;\n",
       "    }\n",
       "</style>\n",
       "<table border=\"1\" class=\"dataframe\">\n",
       "  <thead>\n",
       "    <tr style=\"text-align: right;\">\n",
       "      <th></th>\n",
       "      <th>Buy Ts</th>\n",
       "      <th>Revenue</th>\n",
       "      <th>Uid</th>\n",
       "    </tr>\n",
       "  </thead>\n",
       "  <tbody>\n",
       "    <tr>\n",
       "      <td>0</td>\n",
       "      <td>2017-06-01 00:10:00</td>\n",
       "      <td>17.00</td>\n",
       "      <td>10329302124590727494</td>\n",
       "    </tr>\n",
       "    <tr>\n",
       "      <td>1</td>\n",
       "      <td>2017-06-01 00:25:00</td>\n",
       "      <td>0.55</td>\n",
       "      <td>11627257723692907447</td>\n",
       "    </tr>\n",
       "    <tr>\n",
       "      <td>2</td>\n",
       "      <td>2017-06-01 00:27:00</td>\n",
       "      <td>0.37</td>\n",
       "      <td>17903680561304213844</td>\n",
       "    </tr>\n",
       "    <tr>\n",
       "      <td>3</td>\n",
       "      <td>2017-06-01 00:29:00</td>\n",
       "      <td>0.55</td>\n",
       "      <td>16109239769442553005</td>\n",
       "    </tr>\n",
       "    <tr>\n",
       "      <td>4</td>\n",
       "      <td>2017-06-01 07:58:00</td>\n",
       "      <td>0.37</td>\n",
       "      <td>14200605875248379450</td>\n",
       "    </tr>\n",
       "  </tbody>\n",
       "</table>\n",
       "</div>"
      ],
      "text/plain": [
       "                Buy Ts  Revenue                   Uid\n",
       "0  2017-06-01 00:10:00    17.00  10329302124590727494\n",
       "1  2017-06-01 00:25:00     0.55  11627257723692907447\n",
       "2  2017-06-01 00:27:00     0.37  17903680561304213844\n",
       "3  2017-06-01 00:29:00     0.55  16109239769442553005\n",
       "4  2017-06-01 07:58:00     0.37  14200605875248379450"
      ]
     },
     "execution_count": 13,
     "metadata": {},
     "output_type": "execute_result"
    }
   ],
   "source": [
    "orders.head()"
   ]
  },
  {
   "cell_type": "code",
   "execution_count": 14,
   "metadata": {},
   "outputs": [
    {
     "name": "stdout",
     "output_type": "stream",
     "text": [
      "<class 'pandas.core.frame.DataFrame'>\n",
      "RangeIndex: 50415 entries, 0 to 50414\n",
      "Data columns (total 3 columns):\n",
      "Buy Ts     50415 non-null object\n",
      "Revenue    50415 non-null float64\n",
      "Uid        50415 non-null uint64\n",
      "dtypes: float64(1), object(1), uint64(1)\n",
      "memory usage: 1.2+ MB\n"
     ]
    }
   ],
   "source": [
    "orders.info()"
   ]
  },
  {
   "cell_type": "code",
   "execution_count": 15,
   "metadata": {},
   "outputs": [
    {
     "data": {
      "text/plain": [
       "0"
      ]
     },
     "execution_count": 15,
     "metadata": {},
     "output_type": "execute_result"
    }
   ],
   "source": [
    "orders.duplicated().sum()"
   ]
  },
  {
   "cell_type": "code",
   "execution_count": 16,
   "metadata": {},
   "outputs": [
    {
     "data": {
      "text/plain": [
       "['Buy Ts', 'Revenue', 'Uid']"
      ]
     },
     "execution_count": 16,
     "metadata": {},
     "output_type": "execute_result"
    }
   ],
   "source": [
    "orders.columns.to_list()"
   ]
  },
  {
   "cell_type": "code",
   "execution_count": 17,
   "metadata": {},
   "outputs": [],
   "source": [
    "orders.columns = ['purchase_ts', 'revenue', 'uid']"
   ]
  },
  {
   "cell_type": "code",
   "execution_count": 18,
   "metadata": {},
   "outputs": [],
   "source": [
    "orders = orders[['uid', 'revenue', 'purchase_ts']]"
   ]
  },
  {
   "cell_type": "code",
   "execution_count": 19,
   "metadata": {},
   "outputs": [],
   "source": [
    "orders['purchase_ts'] = pd.to_datetime(orders['purchase_ts'], format = '%Y-%m-%d %H:%M:%S')"
   ]
  },
  {
   "cell_type": "code",
   "execution_count": 20,
   "metadata": {},
   "outputs": [
    {
     "name": "stdout",
     "output_type": "stream",
     "text": [
      "<class 'pandas.core.frame.DataFrame'>\n",
      "RangeIndex: 50415 entries, 0 to 50414\n",
      "Data columns (total 3 columns):\n",
      "uid            50415 non-null uint64\n",
      "revenue        50415 non-null float64\n",
      "purchase_ts    50415 non-null datetime64[ns]\n",
      "dtypes: datetime64[ns](1), float64(1), uint64(1)\n",
      "memory usage: 1.2 MB\n"
     ]
    }
   ],
   "source": [
    "orders.info()"
   ]
  },
  {
   "cell_type": "markdown",
   "metadata": {},
   "source": [
    "# Предобработка costs"
   ]
  },
  {
   "cell_type": "code",
   "execution_count": 21,
   "metadata": {},
   "outputs": [
    {
     "data": {
      "text/html": [
       "<div>\n",
       "<style scoped>\n",
       "    .dataframe tbody tr th:only-of-type {\n",
       "        vertical-align: middle;\n",
       "    }\n",
       "\n",
       "    .dataframe tbody tr th {\n",
       "        vertical-align: top;\n",
       "    }\n",
       "\n",
       "    .dataframe thead th {\n",
       "        text-align: right;\n",
       "    }\n",
       "</style>\n",
       "<table border=\"1\" class=\"dataframe\">\n",
       "  <thead>\n",
       "    <tr style=\"text-align: right;\">\n",
       "      <th></th>\n",
       "      <th>source_id</th>\n",
       "      <th>dt</th>\n",
       "      <th>costs</th>\n",
       "    </tr>\n",
       "  </thead>\n",
       "  <tbody>\n",
       "    <tr>\n",
       "      <td>0</td>\n",
       "      <td>1</td>\n",
       "      <td>2017-06-01</td>\n",
       "      <td>75.20</td>\n",
       "    </tr>\n",
       "    <tr>\n",
       "      <td>1</td>\n",
       "      <td>1</td>\n",
       "      <td>2017-06-02</td>\n",
       "      <td>62.25</td>\n",
       "    </tr>\n",
       "    <tr>\n",
       "      <td>2</td>\n",
       "      <td>1</td>\n",
       "      <td>2017-06-03</td>\n",
       "      <td>36.53</td>\n",
       "    </tr>\n",
       "    <tr>\n",
       "      <td>3</td>\n",
       "      <td>1</td>\n",
       "      <td>2017-06-04</td>\n",
       "      <td>55.00</td>\n",
       "    </tr>\n",
       "    <tr>\n",
       "      <td>4</td>\n",
       "      <td>1</td>\n",
       "      <td>2017-06-05</td>\n",
       "      <td>57.08</td>\n",
       "    </tr>\n",
       "  </tbody>\n",
       "</table>\n",
       "</div>"
      ],
      "text/plain": [
       "   source_id          dt  costs\n",
       "0          1  2017-06-01  75.20\n",
       "1          1  2017-06-02  62.25\n",
       "2          1  2017-06-03  36.53\n",
       "3          1  2017-06-04  55.00\n",
       "4          1  2017-06-05  57.08"
      ]
     },
     "execution_count": 21,
     "metadata": {},
     "output_type": "execute_result"
    }
   ],
   "source": [
    "costs.head()"
   ]
  },
  {
   "cell_type": "code",
   "execution_count": 22,
   "metadata": {},
   "outputs": [
    {
     "name": "stdout",
     "output_type": "stream",
     "text": [
      "<class 'pandas.core.frame.DataFrame'>\n",
      "RangeIndex: 2542 entries, 0 to 2541\n",
      "Data columns (total 3 columns):\n",
      "source_id    2542 non-null int64\n",
      "dt           2542 non-null object\n",
      "costs        2542 non-null float64\n",
      "dtypes: float64(1), int64(1), object(1)\n",
      "memory usage: 59.7+ KB\n"
     ]
    }
   ],
   "source": [
    "costs.info()"
   ]
  },
  {
   "cell_type": "code",
   "execution_count": 23,
   "metadata": {},
   "outputs": [
    {
     "data": {
      "text/plain": [
       "0"
      ]
     },
     "execution_count": 23,
     "metadata": {},
     "output_type": "execute_result"
    }
   ],
   "source": [
    "costs.duplicated().sum()"
   ]
  },
  {
   "cell_type": "code",
   "execution_count": 24,
   "metadata": {},
   "outputs": [],
   "source": [
    "costs = costs.rename(columns={\"dt\": \"date\"})"
   ]
  },
  {
   "cell_type": "code",
   "execution_count": 25,
   "metadata": {},
   "outputs": [
    {
     "name": "stdout",
     "output_type": "stream",
     "text": [
      "<class 'pandas.core.frame.DataFrame'>\n",
      "RangeIndex: 2542 entries, 0 to 2541\n",
      "Data columns (total 3 columns):\n",
      "source_id    2542 non-null int64\n",
      "date         2542 non-null object\n",
      "costs        2542 non-null float64\n",
      "dtypes: float64(1), int64(1), object(1)\n",
      "memory usage: 59.7+ KB\n"
     ]
    }
   ],
   "source": [
    "costs.info()"
   ]
  },
  {
   "cell_type": "markdown",
   "metadata": {},
   "source": [
    "# Вывод:\n",
    "Серьезных проблем не было, привел названия столбцов в корректный формат, поменял тип данных в столбцах с датами, убрал пару лишних записей. Данные подготовлены для дальнейших манипуляций и обработки."
   ]
  },
  {
   "cell_type": "markdown",
   "metadata": {},
   "source": [
    "___"
   ]
  },
  {
   "cell_type": "markdown",
   "metadata": {},
   "source": [
    "# Шаг 2. Рассчитайте метрики и постройте графики\n",
    "Посчитайте метрики трёх видов:\n",
    "- продуктовые,\n",
    "- метрики электронной коммерции,\n",
    "- маркетинговые.\n",
    "\n",
    "Отобразите на графиках изменения каждой метрики во времени. Всякий раз старайтесь подобрать наиболее подходящий тип визуализации: в некоторых случаях может быть уместна тепловая карта когортного анализа.\n",
    "\n",
    "После каждого пункта сформулируйте выводы."
   ]
  },
  {
   "cell_type": "markdown",
   "metadata": {},
   "source": [
    "__2.1.1. Рассчитайте DAU, WAU и MAU. Вычислите средние значения этих метрик за весь период. Отобразите изменения метрик во времени на графиках;__"
   ]
  },
  {
   "cell_type": "code",
   "execution_count": 26,
   "metadata": {},
   "outputs": [
    {
     "data": {
      "text/html": [
       "<div>\n",
       "<style scoped>\n",
       "    .dataframe tbody tr th:only-of-type {\n",
       "        vertical-align: middle;\n",
       "    }\n",
       "\n",
       "    .dataframe tbody tr th {\n",
       "        vertical-align: top;\n",
       "    }\n",
       "\n",
       "    .dataframe thead th {\n",
       "        text-align: right;\n",
       "    }\n",
       "</style>\n",
       "<table border=\"1\" class=\"dataframe\">\n",
       "  <thead>\n",
       "    <tr style=\"text-align: right;\">\n",
       "      <th></th>\n",
       "      <th>device</th>\n",
       "      <th>end_ts</th>\n",
       "      <th>source_id</th>\n",
       "      <th>start_ss</th>\n",
       "      <th>uid</th>\n",
       "    </tr>\n",
       "  </thead>\n",
       "  <tbody>\n",
       "    <tr>\n",
       "      <td>0</td>\n",
       "      <td>touch</td>\n",
       "      <td>2017-12-20 17:38:00</td>\n",
       "      <td>4</td>\n",
       "      <td>2017-12-20 17:20:00</td>\n",
       "      <td>16879256277535980062</td>\n",
       "    </tr>\n",
       "    <tr>\n",
       "      <td>1</td>\n",
       "      <td>desktop</td>\n",
       "      <td>2018-02-19 17:21:00</td>\n",
       "      <td>2</td>\n",
       "      <td>2018-02-19 16:53:00</td>\n",
       "      <td>104060357244891740</td>\n",
       "    </tr>\n",
       "    <tr>\n",
       "      <td>2</td>\n",
       "      <td>touch</td>\n",
       "      <td>2017-07-01 01:54:00</td>\n",
       "      <td>5</td>\n",
       "      <td>2017-07-01 01:54:00</td>\n",
       "      <td>7459035603376831527</td>\n",
       "    </tr>\n",
       "    <tr>\n",
       "      <td>3</td>\n",
       "      <td>desktop</td>\n",
       "      <td>2018-05-20 11:23:00</td>\n",
       "      <td>9</td>\n",
       "      <td>2018-05-20 10:59:00</td>\n",
       "      <td>16174680259334210214</td>\n",
       "    </tr>\n",
       "    <tr>\n",
       "      <td>4</td>\n",
       "      <td>desktop</td>\n",
       "      <td>2017-12-27 14:06:00</td>\n",
       "      <td>3</td>\n",
       "      <td>2017-12-27 14:06:00</td>\n",
       "      <td>9969694820036681168</td>\n",
       "    </tr>\n",
       "  </tbody>\n",
       "</table>\n",
       "</div>"
      ],
      "text/plain": [
       "    device              end_ts  source_id            start_ss  \\\n",
       "0    touch 2017-12-20 17:38:00          4 2017-12-20 17:20:00   \n",
       "1  desktop 2018-02-19 17:21:00          2 2018-02-19 16:53:00   \n",
       "2    touch 2017-07-01 01:54:00          5 2017-07-01 01:54:00   \n",
       "3  desktop 2018-05-20 11:23:00          9 2018-05-20 10:59:00   \n",
       "4  desktop 2017-12-27 14:06:00          3 2017-12-27 14:06:00   \n",
       "\n",
       "                    uid  \n",
       "0  16879256277535980062  \n",
       "1    104060357244891740  \n",
       "2   7459035603376831527  \n",
       "3  16174680259334210214  \n",
       "4   9969694820036681168  "
      ]
     },
     "execution_count": 26,
     "metadata": {},
     "output_type": "execute_result"
    }
   ],
   "source": [
    "visits.head()"
   ]
  },
  {
   "cell_type": "code",
   "execution_count": 27,
   "metadata": {},
   "outputs": [],
   "source": [
    "visits['day'] = visits['start_ss'].dt.date\n",
    "visits['day_number'] = visits['start_ss'].dt.day\n",
    "visits['month'] = visits['start_ss'].dt.month\n",
    "visits['year'] = visits['start_ss'].dt.year\n",
    "visits['week_number'] = visits['start_ss'].astype('datetime64[W]')\n",
    "visits['day_of_week'] = visits['start_ss'].astype('datetime64[D]')\n",
    "visits['month_name'] = visits['start_ss'].astype('datetime64[M]')"
   ]
  },
  {
   "cell_type": "code",
   "execution_count": 28,
   "metadata": {},
   "outputs": [
    {
     "data": {
      "text/html": [
       "<div>\n",
       "<style scoped>\n",
       "    .dataframe tbody tr th:only-of-type {\n",
       "        vertical-align: middle;\n",
       "    }\n",
       "\n",
       "    .dataframe tbody tr th {\n",
       "        vertical-align: top;\n",
       "    }\n",
       "\n",
       "    .dataframe thead th {\n",
       "        text-align: right;\n",
       "    }\n",
       "</style>\n",
       "<table border=\"1\" class=\"dataframe\">\n",
       "  <thead>\n",
       "    <tr style=\"text-align: right;\">\n",
       "      <th></th>\n",
       "      <th>device</th>\n",
       "      <th>end_ts</th>\n",
       "      <th>source_id</th>\n",
       "      <th>start_ss</th>\n",
       "      <th>uid</th>\n",
       "      <th>day</th>\n",
       "      <th>day_number</th>\n",
       "      <th>month</th>\n",
       "      <th>year</th>\n",
       "      <th>week_number</th>\n",
       "      <th>day_of_week</th>\n",
       "      <th>month_name</th>\n",
       "    </tr>\n",
       "  </thead>\n",
       "  <tbody>\n",
       "    <tr>\n",
       "      <td>0</td>\n",
       "      <td>touch</td>\n",
       "      <td>2017-12-20 17:38:00</td>\n",
       "      <td>4</td>\n",
       "      <td>2017-12-20 17:20:00</td>\n",
       "      <td>16879256277535980062</td>\n",
       "      <td>2017-12-20</td>\n",
       "      <td>20</td>\n",
       "      <td>12</td>\n",
       "      <td>2017</td>\n",
       "      <td>2017-12-14</td>\n",
       "      <td>2017-12-20</td>\n",
       "      <td>2017-12-01</td>\n",
       "    </tr>\n",
       "    <tr>\n",
       "      <td>1</td>\n",
       "      <td>desktop</td>\n",
       "      <td>2018-02-19 17:21:00</td>\n",
       "      <td>2</td>\n",
       "      <td>2018-02-19 16:53:00</td>\n",
       "      <td>104060357244891740</td>\n",
       "      <td>2018-02-19</td>\n",
       "      <td>19</td>\n",
       "      <td>2</td>\n",
       "      <td>2018</td>\n",
       "      <td>2018-02-15</td>\n",
       "      <td>2018-02-19</td>\n",
       "      <td>2018-02-01</td>\n",
       "    </tr>\n",
       "    <tr>\n",
       "      <td>2</td>\n",
       "      <td>touch</td>\n",
       "      <td>2017-07-01 01:54:00</td>\n",
       "      <td>5</td>\n",
       "      <td>2017-07-01 01:54:00</td>\n",
       "      <td>7459035603376831527</td>\n",
       "      <td>2017-07-01</td>\n",
       "      <td>1</td>\n",
       "      <td>7</td>\n",
       "      <td>2017</td>\n",
       "      <td>2017-06-29</td>\n",
       "      <td>2017-07-01</td>\n",
       "      <td>2017-07-01</td>\n",
       "    </tr>\n",
       "    <tr>\n",
       "      <td>3</td>\n",
       "      <td>desktop</td>\n",
       "      <td>2018-05-20 11:23:00</td>\n",
       "      <td>9</td>\n",
       "      <td>2018-05-20 10:59:00</td>\n",
       "      <td>16174680259334210214</td>\n",
       "      <td>2018-05-20</td>\n",
       "      <td>20</td>\n",
       "      <td>5</td>\n",
       "      <td>2018</td>\n",
       "      <td>2018-05-17</td>\n",
       "      <td>2018-05-20</td>\n",
       "      <td>2018-05-01</td>\n",
       "    </tr>\n",
       "    <tr>\n",
       "      <td>4</td>\n",
       "      <td>desktop</td>\n",
       "      <td>2017-12-27 14:06:00</td>\n",
       "      <td>3</td>\n",
       "      <td>2017-12-27 14:06:00</td>\n",
       "      <td>9969694820036681168</td>\n",
       "      <td>2017-12-27</td>\n",
       "      <td>27</td>\n",
       "      <td>12</td>\n",
       "      <td>2017</td>\n",
       "      <td>2017-12-21</td>\n",
       "      <td>2017-12-27</td>\n",
       "      <td>2017-12-01</td>\n",
       "    </tr>\n",
       "  </tbody>\n",
       "</table>\n",
       "</div>"
      ],
      "text/plain": [
       "    device              end_ts  source_id            start_ss  \\\n",
       "0    touch 2017-12-20 17:38:00          4 2017-12-20 17:20:00   \n",
       "1  desktop 2018-02-19 17:21:00          2 2018-02-19 16:53:00   \n",
       "2    touch 2017-07-01 01:54:00          5 2017-07-01 01:54:00   \n",
       "3  desktop 2018-05-20 11:23:00          9 2018-05-20 10:59:00   \n",
       "4  desktop 2017-12-27 14:06:00          3 2017-12-27 14:06:00   \n",
       "\n",
       "                    uid         day  day_number  month  year week_number  \\\n",
       "0  16879256277535980062  2017-12-20          20     12  2017  2017-12-14   \n",
       "1    104060357244891740  2018-02-19          19      2  2018  2018-02-15   \n",
       "2   7459035603376831527  2017-07-01           1      7  2017  2017-06-29   \n",
       "3  16174680259334210214  2018-05-20          20      5  2018  2018-05-17   \n",
       "4   9969694820036681168  2017-12-27          27     12  2017  2017-12-21   \n",
       "\n",
       "  day_of_week month_name  \n",
       "0  2017-12-20 2017-12-01  \n",
       "1  2018-02-19 2018-02-01  \n",
       "2  2017-07-01 2017-07-01  \n",
       "3  2018-05-20 2018-05-01  \n",
       "4  2017-12-27 2017-12-01  "
      ]
     },
     "execution_count": 28,
     "metadata": {},
     "output_type": "execute_result"
    }
   ],
   "source": [
    "visits.head()"
   ]
  },
  {
   "cell_type": "code",
   "execution_count": 29,
   "metadata": {},
   "outputs": [
    {
     "name": "stdout",
     "output_type": "stream",
     "text": [
      "Ежедневная аудитория DAU 907 человек\n"
     ]
    }
   ],
   "source": [
    "DAU_mean = int(visits.groupby('day_of_week').agg({'uid': 'nunique'}).mean())\n",
    "print(\"Ежедневная аудитория DAU\", DAU_mean, 'человек')"
   ]
  },
  {
   "cell_type": "code",
   "execution_count": 30,
   "metadata": {},
   "outputs": [
    {
     "name": "stdout",
     "output_type": "stream",
     "text": [
      "Еженедельная аудитория WAU 5724 человек\n"
     ]
    }
   ],
   "source": [
    "WAU_mean = int(visits.groupby('week_number').agg({'uid': 'nunique'}).mean())\n",
    "print(\"Еженедельная аудитория WAU\", WAU_mean, 'человек')"
   ]
  },
  {
   "cell_type": "code",
   "execution_count": 31,
   "metadata": {},
   "outputs": [
    {
     "name": "stdout",
     "output_type": "stream",
     "text": [
      "Ежемесячная аудитория MAU 23228 человек\n"
     ]
    }
   ],
   "source": [
    "MAU_mean = int(visits.groupby('month_name').agg({'uid': 'nunique'}).mean())\n",
    "print(\"Ежемесячная аудитория MAU\", MAU_mean, 'человек')"
   ]
  },
  {
   "cell_type": "code",
   "execution_count": 32,
   "metadata": {},
   "outputs": [
    {
     "name": "stdout",
     "output_type": "stream",
     "text": [
      "sticky factor =  0.16\n"
     ]
    }
   ],
   "source": [
    "#Так же посчитаем среднее количество посещений\n",
    "print(\"sticky factor = \", round(DAU_mean/WAU_mean, 2))"
   ]
  },
  {
   "cell_type": "code",
   "execution_count": 33,
   "metadata": {},
   "outputs": [],
   "source": [
    "#Построим графики метрик\n",
    "DAU = visits.groupby('day').agg({'uid': 'nunique'})\n",
    "WAU = visits.groupby('week_number').agg({'uid': 'nunique'})\n",
    "MAU = visits.groupby('month').agg({'uid': 'nunique'})"
   ]
  },
  {
   "cell_type": "code",
   "execution_count": 34,
   "metadata": {},
   "outputs": [
    {
     "data": {
      "image/png": "[encoded data removed]",
      "text/plain": [
       "<Figure size 864x360 with 1 Axes>"
      ]
     },
     "metadata": {
      "needs_background": "light"
     },
     "output_type": "display_data"
    }
   ],
   "source": [
    "DAU.plot(grid=True, figsize=(12, 5), legend=None)\n",
    "plt.xlabel(\"День\")\n",
    "plt.ylabel(\"Посетители\")\n",
    "plt.title(\"Количество посещений по дням\")\n",
    "plt.show()"
   ]
  },
  {
   "cell_type": "code",
   "execution_count": 35,
   "metadata": {},
   "outputs": [
    {
     "data": {
      "image/png": "[encoded data removed]",
      "text/plain": [
       "<Figure size 864x360 with 1 Axes>"
      ]
     },
     "metadata": {
      "needs_background": "light"
     },
     "output_type": "display_data"
    }
   ],
   "source": [
    "WAU.plot(grid=True, figsize=(12, 5), legend=None)\n",
    "plt.xlabel(\"Номер недели/месяц\")\n",
    "plt.ylabel(\"Посетители\")\n",
    "plt.title(\"Количество посещений по неделям\")\n",
    "plt.show()"
   ]
  },
  {
   "cell_type": "code",
   "execution_count": 36,
   "metadata": {},
   "outputs": [
    {
     "data": {
      "image/png": "[encoded data removed]",
      "text/plain": [
       "<Figure size 864x360 with 1 Axes>"
      ]
     },
     "metadata": {
      "needs_background": "light"
     },
     "output_type": "display_data"
    }
   ],
   "source": [
    "MAU.plot(grid=True, figsize=(12, 5), legend=None)\n",
    "plt.xlabel(\"Номер месяца\")\n",
    "plt.ylabel(\"Посетители\")\n",
    "plt.title(\"Количество посещений по месяцам\")\n",
    "plt.show()"
   ]
  },
  {
   "cell_type": "markdown",
   "metadata": {},
   "source": [
    "__Вывод:__\n",
    "\n",
    "Итого \"липкий фактор\" является практически среднестатическим - 16%. \n",
    "- Ежедневная аудитория - 907 человек\n",
    "- Еженедельная аудитория - 5724 человек\n",
    "- Ежемесячная аудитория - 23228 человек."
   ]
  },
  {
   "cell_type": "markdown",
   "metadata": {},
   "source": [
    "____"
   ]
  },
  {
   "cell_type": "markdown",
   "metadata": {},
   "source": [
    "__2.1.2. Определите, сколько раз за день пользователи в среднем заходят на сайт. Постройте график, отражающий изменения метрики во времени__"
   ]
  },
  {
   "cell_type": "code",
   "execution_count": 37,
   "metadata": {},
   "outputs": [
    {
     "name": "stdout",
     "output_type": "stream",
     "text": [
      "Среднее количество сессий в день 987\n"
     ]
    }
   ],
   "source": [
    "sessions_by_day = visits.groupby(['day']).agg({'uid':['count']}).mean()\n",
    "print('Среднее количество сессий в день', int(sessions_by_day))"
   ]
  },
  {
   "cell_type": "code",
   "execution_count": 38,
   "metadata": {},
   "outputs": [
    {
     "data": {
      "text/plain": [
       "uid  count   1.09\n",
       "dtype: float64"
      ]
     },
     "execution_count": 38,
     "metadata": {},
     "output_type": "execute_result"
    }
   ],
   "source": [
    "session_per_user = sessions_by_day / DAU_mean\n",
    "session_per_user"
   ]
  },
  {
   "cell_type": "markdown",
   "metadata": {},
   "source": [
    "____"
   ]
  },
  {
   "cell_type": "markdown",
   "metadata": {},
   "source": [
    "__2.1.3. Исследуйте, сколько времени пользователи проводят на сайте. Узнайте продолжительность типичной пользовательской сессии за весь период. Чтобы выбрать подходящую среднюю меру, постройте график распределения. Изменение продолжительности сессий во времени изучать необязательно__"
   ]
  },
  {
   "cell_type": "code",
   "execution_count": 39,
   "metadata": {},
   "outputs": [],
   "source": [
    "visits['session_duration_minutes'] = (visits['end_ts'] - visits['start_ss']).dt.total_seconds() / 60"
   ]
  },
  {
   "cell_type": "code",
   "execution_count": 40,
   "metadata": {},
   "outputs": [
    {
     "data": {
      "text/plain": [
       "count   359,400.00\n",
       "mean         10.72\n",
       "std          16.62\n",
       "min         -46.00\n",
       "25%           2.00\n",
       "50%           5.00\n",
       "75%          14.00\n",
       "max         711.00\n",
       "Name: session_duration_minutes, dtype: float64"
      ]
     },
     "execution_count": 40,
     "metadata": {},
     "output_type": "execute_result"
    }
   ],
   "source": [
    "#Очень странно, что получаются отрицательные сессии. Удалим их.\n",
    "visits['session_duration_minutes'].describe()"
   ]
  },
  {
   "cell_type": "code",
   "execution_count": 41,
   "metadata": {},
   "outputs": [],
   "source": [
    "visits = visits.query('session_duration_minutes >= 0')"
   ]
  },
  {
   "cell_type": "code",
   "execution_count": 42,
   "metadata": {},
   "outputs": [
    {
     "data": {
      "text/plain": [
       "count   359,398.00\n",
       "mean         10.72\n",
       "std          16.62\n",
       "min           0.00\n",
       "25%           2.00\n",
       "50%           5.00\n",
       "75%          14.00\n",
       "max         711.00\n",
       "Name: session_duration_minutes, dtype: float64"
      ]
     },
     "execution_count": 42,
     "metadata": {},
     "output_type": "execute_result"
    }
   ],
   "source": [
    "visits['session_duration_minutes'].describe()"
   ]
  },
  {
   "cell_type": "code",
   "execution_count": 43,
   "metadata": {},
   "outputs": [
    {
     "data": {
      "text/plain": [
       "0   1.00\n",
       "dtype: float64"
      ]
     },
     "execution_count": 43,
     "metadata": {},
     "output_type": "execute_result"
    }
   ],
   "source": [
    "#Тут лучше всего будет взять моду для того, чтобы узнать каким будет подавляющее большинство\n",
    "visits['session_duration_minutes'].mode()"
   ]
  },
  {
   "cell_type": "code",
   "execution_count": 44,
   "metadata": {},
   "outputs": [
    {
     "data": {
      "text/plain": [
       "<matplotlib.axes._subplots.AxesSubplot at 0x7fd7a944b090>"
      ]
     },
     "execution_count": 44,
     "metadata": {},
     "output_type": "execute_result"
    },
    {
     "data": {
      "image/png": "[encoded data removed]",
      "text/plain": [
       "<Figure size 432x288 with 1 Axes>"
      ]
     },
     "metadata": {
      "needs_background": "light"
     },
     "output_type": "display_data"
    }
   ],
   "source": [
    "visits['session_duration_minutes'].hist(bins=20, range=(0,100))"
   ]
  },
  {
   "cell_type": "code",
   "execution_count": 45,
   "metadata": {},
   "outputs": [
    {
     "name": "stdout",
     "output_type": "stream",
     "text": [
      "Самая часто встречающаяся продолжительность сессии : 1.0000000000000002\n"
     ]
    }
   ],
   "source": [
    "print('Самая часто встречающаяся продолжительность сессии :',visits['session_duration_minutes'].mode()[0])"
   ]
  },
  {
   "cell_type": "markdown",
   "metadata": {},
   "source": [
    "__Вывод:__\n",
    "Самая часто встречающаяся продолжительность сессии - 1 минута. Тут либо клиенты уже нзаходят и уже знают, что конкретно будут покупать. Либо есть какой-то нерабочий функционал, который может отталкивать потребителя."
   ]
  },
  {
   "cell_type": "markdown",
   "metadata": {},
   "source": [
    "___"
   ]
  },
  {
   "cell_type": "markdown",
   "metadata": {},
   "source": [
    "__2.1.4. Рассчитайте Retention Rate, применяя когортный анализ. Покажите изменения метрики во времени на графике. Найдите средний Retention Rate на второй месяц «жизни» когорт.__"
   ]
  },
  {
   "cell_type": "code",
   "execution_count": 46,
   "metadata": {},
   "outputs": [
    {
     "data": {
      "text/html": [
       "<div>\n",
       "<style scoped>\n",
       "    .dataframe tbody tr th:only-of-type {\n",
       "        vertical-align: middle;\n",
       "    }\n",
       "\n",
       "    .dataframe tbody tr th {\n",
       "        vertical-align: top;\n",
       "    }\n",
       "\n",
       "    .dataframe thead th {\n",
       "        text-align: right;\n",
       "    }\n",
       "</style>\n",
       "<table border=\"1\" class=\"dataframe\">\n",
       "  <thead>\n",
       "    <tr style=\"text-align: right;\">\n",
       "      <th></th>\n",
       "      <th>device</th>\n",
       "      <th>end_ts</th>\n",
       "      <th>source_id</th>\n",
       "      <th>start_ss</th>\n",
       "      <th>uid</th>\n",
       "      <th>day</th>\n",
       "      <th>day_number</th>\n",
       "      <th>month</th>\n",
       "      <th>year</th>\n",
       "      <th>week_number</th>\n",
       "      <th>day_of_week</th>\n",
       "      <th>month_name</th>\n",
       "      <th>session_duration_minutes</th>\n",
       "      <th>first_visit</th>\n",
       "    </tr>\n",
       "  </thead>\n",
       "  <tbody>\n",
       "    <tr>\n",
       "      <td>0</td>\n",
       "      <td>touch</td>\n",
       "      <td>2017-12-20 17:38:00</td>\n",
       "      <td>4</td>\n",
       "      <td>2017-12-20 17:20:00</td>\n",
       "      <td>16879256277535980062</td>\n",
       "      <td>2017-12-20</td>\n",
       "      <td>20</td>\n",
       "      <td>12</td>\n",
       "      <td>2017</td>\n",
       "      <td>2017-12-14</td>\n",
       "      <td>2017-12-20</td>\n",
       "      <td>2017-12-01</td>\n",
       "      <td>18.00</td>\n",
       "      <td>2017-12-01</td>\n",
       "    </tr>\n",
       "    <tr>\n",
       "      <td>1</td>\n",
       "      <td>desktop</td>\n",
       "      <td>2018-02-19 17:21:00</td>\n",
       "      <td>2</td>\n",
       "      <td>2018-02-19 16:53:00</td>\n",
       "      <td>104060357244891740</td>\n",
       "      <td>2018-02-19</td>\n",
       "      <td>19</td>\n",
       "      <td>2</td>\n",
       "      <td>2018</td>\n",
       "      <td>2018-02-15</td>\n",
       "      <td>2018-02-19</td>\n",
       "      <td>2018-02-01</td>\n",
       "      <td>28.00</td>\n",
       "      <td>2018-02-01</td>\n",
       "    </tr>\n",
       "    <tr>\n",
       "      <td>2</td>\n",
       "      <td>touch</td>\n",
       "      <td>2017-07-01 01:54:00</td>\n",
       "      <td>5</td>\n",
       "      <td>2017-07-01 01:54:00</td>\n",
       "      <td>7459035603376831527</td>\n",
       "      <td>2017-07-01</td>\n",
       "      <td>1</td>\n",
       "      <td>7</td>\n",
       "      <td>2017</td>\n",
       "      <td>2017-06-29</td>\n",
       "      <td>2017-07-01</td>\n",
       "      <td>2017-07-01</td>\n",
       "      <td>0.00</td>\n",
       "      <td>2017-07-01</td>\n",
       "    </tr>\n",
       "    <tr>\n",
       "      <td>3</td>\n",
       "      <td>desktop</td>\n",
       "      <td>2018-05-20 11:23:00</td>\n",
       "      <td>9</td>\n",
       "      <td>2018-05-20 10:59:00</td>\n",
       "      <td>16174680259334210214</td>\n",
       "      <td>2018-05-20</td>\n",
       "      <td>20</td>\n",
       "      <td>5</td>\n",
       "      <td>2018</td>\n",
       "      <td>2018-05-17</td>\n",
       "      <td>2018-05-20</td>\n",
       "      <td>2018-05-01</td>\n",
       "      <td>24.00</td>\n",
       "      <td>2018-03-01</td>\n",
       "    </tr>\n",
       "    <tr>\n",
       "      <td>4</td>\n",
       "      <td>desktop</td>\n",
       "      <td>2017-12-27 14:06:00</td>\n",
       "      <td>3</td>\n",
       "      <td>2017-12-27 14:06:00</td>\n",
       "      <td>9969694820036681168</td>\n",
       "      <td>2017-12-27</td>\n",
       "      <td>27</td>\n",
       "      <td>12</td>\n",
       "      <td>2017</td>\n",
       "      <td>2017-12-21</td>\n",
       "      <td>2017-12-27</td>\n",
       "      <td>2017-12-01</td>\n",
       "      <td>0.00</td>\n",
       "      <td>2017-12-01</td>\n",
       "    </tr>\n",
       "  </tbody>\n",
       "</table>\n",
       "</div>"
      ],
      "text/plain": [
       "    device              end_ts  source_id            start_ss  \\\n",
       "0    touch 2017-12-20 17:38:00          4 2017-12-20 17:20:00   \n",
       "1  desktop 2018-02-19 17:21:00          2 2018-02-19 16:53:00   \n",
       "2    touch 2017-07-01 01:54:00          5 2017-07-01 01:54:00   \n",
       "3  desktop 2018-05-20 11:23:00          9 2018-05-20 10:59:00   \n",
       "4  desktop 2017-12-27 14:06:00          3 2017-12-27 14:06:00   \n",
       "\n",
       "                    uid         day  day_number  month  year week_number  \\\n",
       "0  16879256277535980062  2017-12-20          20     12  2017  2017-12-14   \n",
       "1    104060357244891740  2018-02-19          19      2  2018  2018-02-15   \n",
       "2   7459035603376831527  2017-07-01           1      7  2017  2017-06-29   \n",
       "3  16174680259334210214  2018-05-20          20      5  2018  2018-05-17   \n",
       "4   9969694820036681168  2017-12-27          27     12  2017  2017-12-21   \n",
       "\n",
       "  day_of_week month_name  session_duration_minutes first_visit  \n",
       "0  2017-12-20 2017-12-01                     18.00  2017-12-01  \n",
       "1  2018-02-19 2018-02-01                     28.00  2018-02-01  \n",
       "2  2017-07-01 2017-07-01                      0.00  2017-07-01  \n",
       "3  2018-05-20 2018-05-01                     24.00  2018-03-01  \n",
       "4  2017-12-27 2017-12-01                      0.00  2017-12-01  "
      ]
     },
     "execution_count": 46,
     "metadata": {},
     "output_type": "execute_result"
    }
   ],
   "source": [
    "first_visits = visits.groupby('uid')['start_ss'].min()\n",
    "first_visits.name='first_visit'\n",
    "visits = visits.join(first_visits, on='uid')\n",
    "visits['first_visit'] = visits['first_visit'].astype('datetime64[M]')\n",
    "\n",
    "visits.head()"
   ]
  },
  {
   "cell_type": "code",
   "execution_count": 47,
   "metadata": {},
   "outputs": [],
   "source": [
    "# добавим год/месяц визита\n",
    "visits['visit_month'] =  visits['start_ss'].astype('datetime64[M]')\n",
    "visits['lifetime'] = ((visits['visit_month'] - visits['first_visit']) / np.timedelta64(1,'M')).round().astype('int')"
   ]
  },
  {
   "cell_type": "code",
   "execution_count": 48,
   "metadata": {},
   "outputs": [
    {
     "data": {
      "text/html": [
       "<div>\n",
       "<style scoped>\n",
       "    .dataframe tbody tr th:only-of-type {\n",
       "        vertical-align: middle;\n",
       "    }\n",
       "\n",
       "    .dataframe tbody tr th {\n",
       "        vertical-align: top;\n",
       "    }\n",
       "\n",
       "    .dataframe thead th {\n",
       "        text-align: right;\n",
       "    }\n",
       "</style>\n",
       "<table border=\"1\" class=\"dataframe\">\n",
       "  <thead>\n",
       "    <tr style=\"text-align: right;\">\n",
       "      <th></th>\n",
       "      <th>first_visit</th>\n",
       "      <th>lifetime</th>\n",
       "      <th>uid</th>\n",
       "    </tr>\n",
       "  </thead>\n",
       "  <tbody>\n",
       "    <tr>\n",
       "      <td>0</td>\n",
       "      <td>2017-06-01</td>\n",
       "      <td>0</td>\n",
       "      <td>13259</td>\n",
       "    </tr>\n",
       "    <tr>\n",
       "      <td>1</td>\n",
       "      <td>2017-06-01</td>\n",
       "      <td>1</td>\n",
       "      <td>1043</td>\n",
       "    </tr>\n",
       "    <tr>\n",
       "      <td>2</td>\n",
       "      <td>2017-06-01</td>\n",
       "      <td>2</td>\n",
       "      <td>713</td>\n",
       "    </tr>\n",
       "    <tr>\n",
       "      <td>3</td>\n",
       "      <td>2017-06-01</td>\n",
       "      <td>3</td>\n",
       "      <td>814</td>\n",
       "    </tr>\n",
       "    <tr>\n",
       "      <td>4</td>\n",
       "      <td>2017-06-01</td>\n",
       "      <td>4</td>\n",
       "      <td>909</td>\n",
       "    </tr>\n",
       "  </tbody>\n",
       "</table>\n",
       "</div>"
      ],
      "text/plain": [
       "  first_visit  lifetime    uid\n",
       "0  2017-06-01         0  13259\n",
       "1  2017-06-01         1   1043\n",
       "2  2017-06-01         2    713\n",
       "3  2017-06-01         3    814\n",
       "4  2017-06-01         4    909"
      ]
     },
     "execution_count": 48,
     "metadata": {},
     "output_type": "execute_result"
    }
   ],
   "source": [
    "# посчитаем сколько пользвателей было в каждой когорте в определенный lifetime\n",
    "visit_cohorts = visits.groupby(['first_visit','lifetime'])['uid'].nunique().reset_index()\n",
    "visit_cohorts.head()"
   ]
  },
  {
   "cell_type": "code",
   "execution_count": 49,
   "metadata": {},
   "outputs": [
    {
     "data": {
      "text/html": [
       "<div>\n",
       "<style scoped>\n",
       "    .dataframe tbody tr th:only-of-type {\n",
       "        vertical-align: middle;\n",
       "    }\n",
       "\n",
       "    .dataframe tbody tr th {\n",
       "        vertical-align: top;\n",
       "    }\n",
       "\n",
       "    .dataframe thead th {\n",
       "        text-align: right;\n",
       "    }\n",
       "</style>\n",
       "<table border=\"1\" class=\"dataframe\">\n",
       "  <thead>\n",
       "    <tr style=\"text-align: right;\">\n",
       "      <th></th>\n",
       "      <th>first_visit</th>\n",
       "      <th>initial_users</th>\n",
       "    </tr>\n",
       "  </thead>\n",
       "  <tbody>\n",
       "    <tr>\n",
       "      <td>0</td>\n",
       "      <td>2017-06-01</td>\n",
       "      <td>13259</td>\n",
       "    </tr>\n",
       "    <tr>\n",
       "      <td>12</td>\n",
       "      <td>2017-07-01</td>\n",
       "      <td>13140</td>\n",
       "    </tr>\n",
       "    <tr>\n",
       "      <td>23</td>\n",
       "      <td>2017-08-01</td>\n",
       "      <td>10181</td>\n",
       "    </tr>\n",
       "    <tr>\n",
       "      <td>33</td>\n",
       "      <td>2017-09-01</td>\n",
       "      <td>16704</td>\n",
       "    </tr>\n",
       "    <tr>\n",
       "      <td>42</td>\n",
       "      <td>2017-10-01</td>\n",
       "      <td>25977</td>\n",
       "    </tr>\n",
       "  </tbody>\n",
       "</table>\n",
       "</div>"
      ],
      "text/plain": [
       "   first_visit  initial_users\n",
       "0   2017-06-01          13259\n",
       "12  2017-07-01          13140\n",
       "23  2017-08-01          10181\n",
       "33  2017-09-01          16704\n",
       "42  2017-10-01          25977"
      ]
     },
     "execution_count": 49,
     "metadata": {},
     "output_type": "execute_result"
    }
   ],
   "source": [
    "# сохраним сколько пользователей было в 0ой lifetime в каждой когорте\n",
    "initial_cohorts_users = visit_cohorts[visit_cohorts['lifetime'] == 0][['first_visit','uid']]\n",
    "initial_cohorts_users.rename(columns={'uid':'initial_users'}, inplace=True)\n",
    "initial_cohorts_users.head()"
   ]
  },
  {
   "cell_type": "code",
   "execution_count": 50,
   "metadata": {},
   "outputs": [],
   "source": [
    "visit_cohorts = visit_cohorts.merge(initial_cohorts_users, on='first_visit')"
   ]
  },
  {
   "cell_type": "code",
   "execution_count": 51,
   "metadata": {},
   "outputs": [
    {
     "data": {
      "text/html": [
       "<div>\n",
       "<style scoped>\n",
       "    .dataframe tbody tr th:only-of-type {\n",
       "        vertical-align: middle;\n",
       "    }\n",
       "\n",
       "    .dataframe tbody tr th {\n",
       "        vertical-align: top;\n",
       "    }\n",
       "\n",
       "    .dataframe thead th {\n",
       "        text-align: right;\n",
       "    }\n",
       "</style>\n",
       "<table border=\"1\" class=\"dataframe\">\n",
       "  <thead>\n",
       "    <tr style=\"text-align: right;\">\n",
       "      <th></th>\n",
       "      <th>first_visit</th>\n",
       "      <th>lifetime</th>\n",
       "      <th>uid</th>\n",
       "      <th>initial_users</th>\n",
       "    </tr>\n",
       "  </thead>\n",
       "  <tbody>\n",
       "    <tr>\n",
       "      <td>0</td>\n",
       "      <td>2017-06-01</td>\n",
       "      <td>0</td>\n",
       "      <td>13259</td>\n",
       "      <td>13259</td>\n",
       "    </tr>\n",
       "    <tr>\n",
       "      <td>1</td>\n",
       "      <td>2017-06-01</td>\n",
       "      <td>1</td>\n",
       "      <td>1043</td>\n",
       "      <td>13259</td>\n",
       "    </tr>\n",
       "    <tr>\n",
       "      <td>2</td>\n",
       "      <td>2017-06-01</td>\n",
       "      <td>2</td>\n",
       "      <td>713</td>\n",
       "      <td>13259</td>\n",
       "    </tr>\n",
       "    <tr>\n",
       "      <td>3</td>\n",
       "      <td>2017-06-01</td>\n",
       "      <td>3</td>\n",
       "      <td>814</td>\n",
       "      <td>13259</td>\n",
       "    </tr>\n",
       "    <tr>\n",
       "      <td>4</td>\n",
       "      <td>2017-06-01</td>\n",
       "      <td>4</td>\n",
       "      <td>909</td>\n",
       "      <td>13259</td>\n",
       "    </tr>\n",
       "    <tr>\n",
       "      <td>...</td>\n",
       "      <td>...</td>\n",
       "      <td>...</td>\n",
       "      <td>...</td>\n",
       "      <td>...</td>\n",
       "    </tr>\n",
       "    <tr>\n",
       "      <td>73</td>\n",
       "      <td>2018-03-01</td>\n",
       "      <td>1</td>\n",
       "      <td>861</td>\n",
       "      <td>20589</td>\n",
       "    </tr>\n",
       "    <tr>\n",
       "      <td>74</td>\n",
       "      <td>2018-03-01</td>\n",
       "      <td>2</td>\n",
       "      <td>557</td>\n",
       "      <td>20589</td>\n",
       "    </tr>\n",
       "    <tr>\n",
       "      <td>75</td>\n",
       "      <td>2018-04-01</td>\n",
       "      <td>0</td>\n",
       "      <td>15709</td>\n",
       "      <td>15709</td>\n",
       "    </tr>\n",
       "    <tr>\n",
       "      <td>76</td>\n",
       "      <td>2018-04-01</td>\n",
       "      <td>1</td>\n",
       "      <td>760</td>\n",
       "      <td>15709</td>\n",
       "    </tr>\n",
       "    <tr>\n",
       "      <td>77</td>\n",
       "      <td>2018-05-01</td>\n",
       "      <td>0</td>\n",
       "      <td>15273</td>\n",
       "      <td>15273</td>\n",
       "    </tr>\n",
       "  </tbody>\n",
       "</table>\n",
       "<p>78 rows × 4 columns</p>\n",
       "</div>"
      ],
      "text/plain": [
       "   first_visit  lifetime    uid  initial_users\n",
       "0   2017-06-01         0  13259          13259\n",
       "1   2017-06-01         1   1043          13259\n",
       "2   2017-06-01         2    713          13259\n",
       "3   2017-06-01         3    814          13259\n",
       "4   2017-06-01         4    909          13259\n",
       "..         ...       ...    ...            ...\n",
       "73  2018-03-01         1    861          20589\n",
       "74  2018-03-01         2    557          20589\n",
       "75  2018-04-01         0  15709          15709\n",
       "76  2018-04-01         1    760          15709\n",
       "77  2018-05-01         0  15273          15273\n",
       "\n",
       "[78 rows x 4 columns]"
      ]
     },
     "execution_count": 51,
     "metadata": {},
     "output_type": "execute_result"
    }
   ],
   "source": [
    "visit_cohorts"
   ]
  },
  {
   "cell_type": "code",
   "execution_count": 52,
   "metadata": {},
   "outputs": [
    {
     "data": {
      "text/html": [
       "<div>\n",
       "<style scoped>\n",
       "    .dataframe tbody tr th:only-of-type {\n",
       "        vertical-align: middle;\n",
       "    }\n",
       "\n",
       "    .dataframe tbody tr th {\n",
       "        vertical-align: top;\n",
       "    }\n",
       "\n",
       "    .dataframe thead th {\n",
       "        text-align: right;\n",
       "    }\n",
       "</style>\n",
       "<table border=\"1\" class=\"dataframe\">\n",
       "  <thead>\n",
       "    <tr style=\"text-align: right;\">\n",
       "      <th>lifetime</th>\n",
       "      <th>0</th>\n",
       "      <th>1</th>\n",
       "      <th>2</th>\n",
       "      <th>3</th>\n",
       "      <th>4</th>\n",
       "      <th>5</th>\n",
       "      <th>6</th>\n",
       "      <th>7</th>\n",
       "      <th>8</th>\n",
       "      <th>9</th>\n",
       "      <th>10</th>\n",
       "      <th>11</th>\n",
       "    </tr>\n",
       "    <tr>\n",
       "      <th>first_visit</th>\n",
       "      <th></th>\n",
       "      <th></th>\n",
       "      <th></th>\n",
       "      <th></th>\n",
       "      <th></th>\n",
       "      <th></th>\n",
       "      <th></th>\n",
       "      <th></th>\n",
       "      <th></th>\n",
       "      <th></th>\n",
       "      <th></th>\n",
       "      <th></th>\n",
       "    </tr>\n",
       "  </thead>\n",
       "  <tbody>\n",
       "    <tr>\n",
       "      <td>2017-06</td>\n",
       "      <td>100.00</td>\n",
       "      <td>7.87</td>\n",
       "      <td>5.38</td>\n",
       "      <td>6.14</td>\n",
       "      <td>6.86</td>\n",
       "      <td>7.14</td>\n",
       "      <td>6.10</td>\n",
       "      <td>5.78</td>\n",
       "      <td>5.23</td>\n",
       "      <td>5.08</td>\n",
       "      <td>4.07</td>\n",
       "      <td>4.50</td>\n",
       "    </tr>\n",
       "    <tr>\n",
       "      <td>2017-07</td>\n",
       "      <td>100.00</td>\n",
       "      <td>5.61</td>\n",
       "      <td>5.13</td>\n",
       "      <td>5.62</td>\n",
       "      <td>5.82</td>\n",
       "      <td>4.82</td>\n",
       "      <td>4.54</td>\n",
       "      <td>4.57</td>\n",
       "      <td>3.88</td>\n",
       "      <td>2.86</td>\n",
       "      <td>2.75</td>\n",
       "      <td></td>\n",
       "    </tr>\n",
       "    <tr>\n",
       "      <td>2017-08</td>\n",
       "      <td>100.00</td>\n",
       "      <td>7.69</td>\n",
       "      <td>6.29</td>\n",
       "      <td>6.28</td>\n",
       "      <td>5.01</td>\n",
       "      <td>4.40</td>\n",
       "      <td>3.63</td>\n",
       "      <td>3.95</td>\n",
       "      <td>2.79</td>\n",
       "      <td>2.60</td>\n",
       "      <td></td>\n",
       "      <td></td>\n",
       "    </tr>\n",
       "    <tr>\n",
       "      <td>2017-09</td>\n",
       "      <td>100.00</td>\n",
       "      <td>8.55</td>\n",
       "      <td>6.92</td>\n",
       "      <td>5.07</td>\n",
       "      <td>3.94</td>\n",
       "      <td>3.78</td>\n",
       "      <td>3.59</td>\n",
       "      <td>2.42</td>\n",
       "      <td>2.28</td>\n",
       "      <td></td>\n",
       "      <td></td>\n",
       "      <td></td>\n",
       "    </tr>\n",
       "    <tr>\n",
       "      <td>2017-10</td>\n",
       "      <td>100.00</td>\n",
       "      <td>7.86</td>\n",
       "      <td>5.22</td>\n",
       "      <td>3.90</td>\n",
       "      <td>3.43</td>\n",
       "      <td>3.22</td>\n",
       "      <td>2.14</td>\n",
       "      <td>2.04</td>\n",
       "      <td></td>\n",
       "      <td></td>\n",
       "      <td></td>\n",
       "      <td></td>\n",
       "    </tr>\n",
       "    <tr>\n",
       "      <td>2017-11</td>\n",
       "      <td>100.00</td>\n",
       "      <td>7.83</td>\n",
       "      <td>4.41</td>\n",
       "      <td>3.87</td>\n",
       "      <td>3.37</td>\n",
       "      <td>2.34</td>\n",
       "      <td>2.18</td>\n",
       "      <td></td>\n",
       "      <td></td>\n",
       "      <td></td>\n",
       "      <td></td>\n",
       "      <td></td>\n",
       "    </tr>\n",
       "    <tr>\n",
       "      <td>2017-12</td>\n",
       "      <td>100.00</td>\n",
       "      <td>5.58</td>\n",
       "      <td>3.80</td>\n",
       "      <td>3.11</td>\n",
       "      <td>2.03</td>\n",
       "      <td>1.90</td>\n",
       "      <td></td>\n",
       "      <td></td>\n",
       "      <td></td>\n",
       "      <td></td>\n",
       "      <td></td>\n",
       "      <td></td>\n",
       "    </tr>\n",
       "    <tr>\n",
       "      <td>2018-01</td>\n",
       "      <td>100.00</td>\n",
       "      <td>5.97</td>\n",
       "      <td>3.93</td>\n",
       "      <td>2.50</td>\n",
       "      <td>2.02</td>\n",
       "      <td></td>\n",
       "      <td></td>\n",
       "      <td></td>\n",
       "      <td></td>\n",
       "      <td></td>\n",
       "      <td></td>\n",
       "      <td></td>\n",
       "    </tr>\n",
       "    <tr>\n",
       "      <td>2018-02</td>\n",
       "      <td>100.00</td>\n",
       "      <td>5.71</td>\n",
       "      <td>2.55</td>\n",
       "      <td>2.01</td>\n",
       "      <td></td>\n",
       "      <td></td>\n",
       "      <td></td>\n",
       "      <td></td>\n",
       "      <td></td>\n",
       "      <td></td>\n",
       "      <td></td>\n",
       "      <td></td>\n",
       "    </tr>\n",
       "    <tr>\n",
       "      <td>2018-03</td>\n",
       "      <td>100.00</td>\n",
       "      <td>4.18</td>\n",
       "      <td>2.71</td>\n",
       "      <td></td>\n",
       "      <td></td>\n",
       "      <td></td>\n",
       "      <td></td>\n",
       "      <td></td>\n",
       "      <td></td>\n",
       "      <td></td>\n",
       "      <td></td>\n",
       "      <td></td>\n",
       "    </tr>\n",
       "    <tr>\n",
       "      <td>2018-04</td>\n",
       "      <td>100.00</td>\n",
       "      <td>4.84</td>\n",
       "      <td></td>\n",
       "      <td></td>\n",
       "      <td></td>\n",
       "      <td></td>\n",
       "      <td></td>\n",
       "      <td></td>\n",
       "      <td></td>\n",
       "      <td></td>\n",
       "      <td></td>\n",
       "      <td></td>\n",
       "    </tr>\n",
       "    <tr>\n",
       "      <td>2018-05</td>\n",
       "      <td>100.00</td>\n",
       "      <td></td>\n",
       "      <td></td>\n",
       "      <td></td>\n",
       "      <td></td>\n",
       "      <td></td>\n",
       "      <td></td>\n",
       "      <td></td>\n",
       "      <td></td>\n",
       "      <td></td>\n",
       "      <td></td>\n",
       "      <td></td>\n",
       "    </tr>\n",
       "  </tbody>\n",
       "</table>\n",
       "</div>"
      ],
      "text/plain": [
       "lifetime        0    1    2    3    4    5    6    7    8    9    10   11\n",
       "first_visit                                                              \n",
       "2017-06     100.00 7.87 5.38 6.14 6.86 7.14 6.10 5.78 5.23 5.08 4.07 4.50\n",
       "2017-07     100.00 5.61 5.13 5.62 5.82 4.82 4.54 4.57 3.88 2.86 2.75     \n",
       "2017-08     100.00 7.69 6.29 6.28 5.01 4.40 3.63 3.95 2.79 2.60          \n",
       "2017-09     100.00 8.55 6.92 5.07 3.94 3.78 3.59 2.42 2.28               \n",
       "2017-10     100.00 7.86 5.22 3.90 3.43 3.22 2.14 2.04                    \n",
       "2017-11     100.00 7.83 4.41 3.87 3.37 2.34 2.18                         \n",
       "2017-12     100.00 5.58 3.80 3.11 2.03 1.90                              \n",
       "2018-01     100.00 5.97 3.93 2.50 2.02                                   \n",
       "2018-02     100.00 5.71 2.55 2.01                                        \n",
       "2018-03     100.00 4.18 2.71                                             \n",
       "2018-04     100.00 4.84                                                  \n",
       "2018-05     100.00                                                       "
      ]
     },
     "execution_count": 52,
     "metadata": {},
     "output_type": "execute_result"
    }
   ],
   "source": [
    "visit_cohorts['retention'] = (visit_cohorts['uid']/visit_cohorts['initial_users'])*100\n",
    "visit_cohorts['first_visit'] = visit_cohorts['first_visit'].dt.strftime('%Y-%m')\n",
    "visit_groupby_cohorts = visit_cohorts.pivot_table(index='first_visit', columns='lifetime', \n",
    "                          values='retention', aggfunc='mean')\n",
    "visit_groupby_cohorts.fillna('')"
   ]
  },
  {
   "cell_type": "code",
   "execution_count": 53,
   "metadata": {},
   "outputs": [
    {
     "data": {
      "text/plain": [
       "<matplotlib.axes._subplots.AxesSubplot at 0x7fd7a93edf90>"
      ]
     },
     "execution_count": 53,
     "metadata": {},
     "output_type": "execute_result"
    },
    {
     "data": {
      "image/png": "[encoded data removed]",
      "text/plain": [
       "<Figure size 936x648 with 2 Axes>"
      ]
     },
     "metadata": {
      "needs_background": "light"
     },
     "output_type": "display_data"
    }
   ],
   "source": [
    "#Отбросим первый месяц жизни когорт\n",
    "visit_groupby_cohorts.drop(0, axis=1, inplace=True)\n",
    "visit_groupby_cohorts\n",
    "plt.figure(figsize=(13, 9))\n",
    "plt.title('Retention rate')\n",
    "sns.heatmap(visit_groupby_cohorts,annot=True, fmt='.2f', linewidths=1, cmap=\"RdYlGn\")"
   ]
  },
  {
   "cell_type": "code",
   "execution_count": 54,
   "metadata": {},
   "outputs": [
    {
     "name": "stdout",
     "output_type": "stream",
     "text": [
      "Средний Retention Rate на 2-ой месяц: 6.52\n"
     ]
    }
   ],
   "source": [
    "#Рассчитаем средний Retention Rate по второму месяцу.\n",
    "print(\"Средний Retention Rate на 2-ой месяц:\", visit_groupby_cohorts[1].mean().round(2))"
   ]
  },
  {
   "cell_type": "markdown",
   "metadata": {},
   "source": [
    "__Вывод:__\n",
    "\n",
    "Retention rate показывает, что на следующий месяц жизни мы теряем большую часть пользователей из когорты! Однако, в последующем отток становится уже не таким существенным, и с нами остается достаточно лояльная аудитория. По первой когорте в крайний год жизни видим даже увеличение retention. Как бы увеличить процент возврата...\n",
    "Средний Retention Rate на 2-ой месяц равняется 6,52\n",
    "\n",
    "Кроме того, каждый день сервисом пользуется в среднем 1к пользователей, в то время как среднее количество сессий тоже около 1к, то есть один пользователей, как правило незаходит за день дважды. Чаще всего пользователи проводят на сервисе минуту. Так же, судя по графику распределения, пользователям хватает около 5 минут нахождения в Я.Афише, нашлись даже такие, кто сидел на Афише почти сутки (возможно ошибка). "
   ]
  },
  {
   "cell_type": "markdown",
   "metadata": {},
   "source": [
    "___"
   ]
  },
  {
   "cell_type": "markdown",
   "metadata": {},
   "source": [
    "__2.2.1. Исследуйте, сколько времени в среднем проходит с момента первого посещения сайта до совершения покупки. Изучать изменение этой метрики во времени необязательно.__"
   ]
  },
  {
   "cell_type": "code",
   "execution_count": 55,
   "metadata": {},
   "outputs": [],
   "source": [
    "# найдем дату первой покупки и добавим в df с покупками\n",
    "first_buy = orders.groupby('uid')['purchase_ts'].min()\n",
    "first_buy.name = 'first_buy' \n",
    "orders = orders.join(first_buy, on='uid')\n",
    "orders['first_buy_month'] = orders['first_buy'].astype('datetime64[M]')"
   ]
  },
  {
   "cell_type": "code",
   "execution_count": 56,
   "metadata": {},
   "outputs": [],
   "source": [
    "# добавим в таблицу с визитами данные о первой покупке левым мерджем, так как не все посетители совершают покупки\n",
    "visits = visits.merge(orders[['uid','first_buy_month']], on='uid', how='left')"
   ]
  },
  {
   "cell_type": "code",
   "execution_count": 57,
   "metadata": {},
   "outputs": [],
   "source": [
    "# посчитаем сколько дней проходит между первой покупкой и первым визитом\n",
    "visits['days_before_first_order'] = ((visits['first_buy_month'] - visits['first_visit'])/ np.timedelta64(1,'D')).astype('Int64')"
   ]
  },
  {
   "cell_type": "code",
   "execution_count": 58,
   "metadata": {},
   "outputs": [
    {
     "data": {
      "text/plain": [
       "[touch, desktop]\n",
       "Categories (2, object): [touch, desktop]"
      ]
     },
     "execution_count": 58,
     "metadata": {},
     "output_type": "execute_result"
    }
   ],
   "source": [
    "visits['device'].unique()"
   ]
  },
  {
   "cell_type": "code",
   "execution_count": 59,
   "metadata": {},
   "outputs": [
    {
     "data": {
      "text/plain": [
       "count   48,615.00\n",
       "mean        53.95\n",
       "std         78.49\n",
       "min          0.00\n",
       "25%          0.00\n",
       "50%          0.00\n",
       "75%         92.00\n",
       "max        334.00\n",
       "Name: days_before_first_order, dtype: float64"
      ]
     },
     "execution_count": 59,
     "metadata": {},
     "output_type": "execute_result"
    }
   ],
   "source": [
    "visits[visits['device'] == 'touch']['days_before_first_order'].describe()"
   ]
  },
  {
   "cell_type": "code",
   "execution_count": 60,
   "metadata": {},
   "outputs": [
    {
     "data": {
      "text/plain": [
       "count   713,192.00\n",
       "mean         13.70\n",
       "std          37.81\n",
       "min           0.00\n",
       "25%           0.00\n",
       "50%           0.00\n",
       "75%           0.00\n",
       "max         334.00\n",
       "Name: days_before_first_order, dtype: float64"
      ]
     },
     "execution_count": 60,
     "metadata": {},
     "output_type": "execute_result"
    }
   ],
   "source": [
    "visits[visits['device'] == 'desktop']['days_before_first_order'].describe()"
   ]
  },
  {
   "cell_type": "code",
   "execution_count": 61,
   "metadata": {},
   "outputs": [
    {
     "data": {
      "image/png": "[encoded data removed]",
      "text/plain": [
       "<Figure size 432x288 with 1 Axes>"
      ]
     },
     "metadata": {
      "needs_background": "light"
     },
     "output_type": "display_data"
    }
   ],
   "source": [
    "visits.loc[visits['days_before_first_order'].notna(),'days_before_first_order'].hist()\n",
    "plt.title('Количество дней с первого визита до первой покупки для всех устройств');"
   ]
  },
  {
   "cell_type": "markdown",
   "metadata": {},
   "source": [
    "__Вывод:__\n",
    "\n",
    "Среднее время между первой покупкой и первым визитом для мобильных устрйоств - 53 дня, для декстопов 13. По всей видимости это значение слишком завышено, так как находятся посетители, которым требуется почти год на то чтобы решиться что-то купить.\n",
    "\n",
    "Медиана же тут более показательна, она равна 0 у всех устройств, значит в большинстве случаев первая покупка приходится на первый визит. Чтобы наверняка, построим гистограмму."
   ]
  },
  {
   "cell_type": "markdown",
   "metadata": {},
   "source": [
    "____"
   ]
  },
  {
   "cell_type": "markdown",
   "metadata": {},
   "source": [
    "__2.2.2. Применяя когортный анализ или другой метод, рассчитайте среднее количество покупок на одного покупателя за определённый период, например за 6 месяцев. Изучать изменение этой метрики во времени необязательно__"
   ]
  },
  {
   "cell_type": "code",
   "execution_count": 62,
   "metadata": {},
   "outputs": [],
   "source": [
    "# определим месяц покупки \n",
    "#purchases_grouped = orders.groupby(['first_buy_month', 'buy_month']).agg({'revenue' : 'count', 'uid' : 'nunique'})\n",
    "#purchases_grouped"
   ]
  },
  {
   "cell_type": "code",
   "execution_count": 63,
   "metadata": {},
   "outputs": [],
   "source": [
    "#purchases_grouped['purchases_per_user'] = purchases_grouped['revenue'] / purchases_grouped['uid']\n",
    "#purchases_grouped = purchases_grouped.reset_index()\n",
    "#purchases_grouped['lifetime'] = purchases_grouped['buy_month'] - purchases_grouped['first_buy_month']\n",
    "#purchases_grouped['lifetime'] = ((purchases_grouped['lifetime'] / np.timedelta64(1, 'M'))).round().astype('int')\n",
    "#purchases_per_user_cohorts = purchases_grouped.pivot_table(index = 'first_buy_month', \n",
    "#                                                           columns = 'lifetime',\n",
    "#                                                           values = 'purchases_per_user', \n",
    "#                                                           aggfunc = 'mean'\n",
    "#                                                           ).cumsum(axis = 1)\n",
    "#purchases_per_user_cohorts"
   ]
  },
  {
   "cell_type": "code",
   "execution_count": 64,
   "metadata": {},
   "outputs": [],
   "source": [
    "#purchases_per_user_cohorts[5].mean()"
   ]
  },
  {
   "cell_type": "code",
   "execution_count": 65,
   "metadata": {},
   "outputs": [
    {
     "data": {
      "text/html": [
       "<div>\n",
       "<style scoped>\n",
       "    .dataframe tbody tr th:only-of-type {\n",
       "        vertical-align: middle;\n",
       "    }\n",
       "\n",
       "    .dataframe tbody tr th {\n",
       "        vertical-align: top;\n",
       "    }\n",
       "\n",
       "    .dataframe thead th {\n",
       "        text-align: right;\n",
       "    }\n",
       "</style>\n",
       "<table border=\"1\" class=\"dataframe\">\n",
       "  <thead>\n",
       "    <tr style=\"text-align: right;\">\n",
       "      <th></th>\n",
       "      <th>uid</th>\n",
       "      <th>revenue</th>\n",
       "      <th>purchase_ts</th>\n",
       "      <th>first_buy</th>\n",
       "      <th>first_buy_month</th>\n",
       "    </tr>\n",
       "  </thead>\n",
       "  <tbody>\n",
       "    <tr>\n",
       "      <td>0</td>\n",
       "      <td>10329302124590727494</td>\n",
       "      <td>17.00</td>\n",
       "      <td>2017-06-01 00:10:00</td>\n",
       "      <td>2017-06-01 00:10:00</td>\n",
       "      <td>2017-06-01</td>\n",
       "    </tr>\n",
       "    <tr>\n",
       "      <td>1</td>\n",
       "      <td>11627257723692907447</td>\n",
       "      <td>0.55</td>\n",
       "      <td>2017-06-01 00:25:00</td>\n",
       "      <td>2017-06-01 00:25:00</td>\n",
       "      <td>2017-06-01</td>\n",
       "    </tr>\n",
       "    <tr>\n",
       "      <td>2</td>\n",
       "      <td>17903680561304213844</td>\n",
       "      <td>0.37</td>\n",
       "      <td>2017-06-01 00:27:00</td>\n",
       "      <td>2017-06-01 00:27:00</td>\n",
       "      <td>2017-06-01</td>\n",
       "    </tr>\n",
       "    <tr>\n",
       "      <td>3</td>\n",
       "      <td>16109239769442553005</td>\n",
       "      <td>0.55</td>\n",
       "      <td>2017-06-01 00:29:00</td>\n",
       "      <td>2017-06-01 00:29:00</td>\n",
       "      <td>2017-06-01</td>\n",
       "    </tr>\n",
       "    <tr>\n",
       "      <td>4</td>\n",
       "      <td>14200605875248379450</td>\n",
       "      <td>0.37</td>\n",
       "      <td>2017-06-01 07:58:00</td>\n",
       "      <td>2017-06-01 07:58:00</td>\n",
       "      <td>2017-06-01</td>\n",
       "    </tr>\n",
       "    <tr>\n",
       "      <td>...</td>\n",
       "      <td>...</td>\n",
       "      <td>...</td>\n",
       "      <td>...</td>\n",
       "      <td>...</td>\n",
       "      <td>...</td>\n",
       "    </tr>\n",
       "    <tr>\n",
       "      <td>50410</td>\n",
       "      <td>12296626599487328624</td>\n",
       "      <td>4.64</td>\n",
       "      <td>2018-05-31 23:50:00</td>\n",
       "      <td>2018-05-31 23:50:00</td>\n",
       "      <td>2018-05-01</td>\n",
       "    </tr>\n",
       "    <tr>\n",
       "      <td>50411</td>\n",
       "      <td>11369640365507475976</td>\n",
       "      <td>5.80</td>\n",
       "      <td>2018-05-31 23:50:00</td>\n",
       "      <td>2018-05-31 23:50:00</td>\n",
       "      <td>2018-05-01</td>\n",
       "    </tr>\n",
       "    <tr>\n",
       "      <td>50412</td>\n",
       "      <td>1786462140797698849</td>\n",
       "      <td>0.30</td>\n",
       "      <td>2018-05-31 23:54:00</td>\n",
       "      <td>2018-05-31 23:54:00</td>\n",
       "      <td>2018-05-01</td>\n",
       "    </tr>\n",
       "    <tr>\n",
       "      <td>50413</td>\n",
       "      <td>3993697860786194247</td>\n",
       "      <td>3.67</td>\n",
       "      <td>2018-05-31 23:56:00</td>\n",
       "      <td>2018-05-31 23:56:00</td>\n",
       "      <td>2018-05-01</td>\n",
       "    </tr>\n",
       "    <tr>\n",
       "      <td>50414</td>\n",
       "      <td>83872787173869366</td>\n",
       "      <td>3.42</td>\n",
       "      <td>2018-06-01 00:02:00</td>\n",
       "      <td>2018-06-01 00:02:00</td>\n",
       "      <td>2018-06-01</td>\n",
       "    </tr>\n",
       "  </tbody>\n",
       "</table>\n",
       "<p>50415 rows × 5 columns</p>\n",
       "</div>"
      ],
      "text/plain": [
       "                        uid  revenue         purchase_ts           first_buy  \\\n",
       "0      10329302124590727494    17.00 2017-06-01 00:10:00 2017-06-01 00:10:00   \n",
       "1      11627257723692907447     0.55 2017-06-01 00:25:00 2017-06-01 00:25:00   \n",
       "2      17903680561304213844     0.37 2017-06-01 00:27:00 2017-06-01 00:27:00   \n",
       "3      16109239769442553005     0.55 2017-06-01 00:29:00 2017-06-01 00:29:00   \n",
       "4      14200605875248379450     0.37 2017-06-01 07:58:00 2017-06-01 07:58:00   \n",
       "...                     ...      ...                 ...                 ...   \n",
       "50410  12296626599487328624     4.64 2018-05-31 23:50:00 2018-05-31 23:50:00   \n",
       "50411  11369640365507475976     5.80 2018-05-31 23:50:00 2018-05-31 23:50:00   \n",
       "50412   1786462140797698849     0.30 2018-05-31 23:54:00 2018-05-31 23:54:00   \n",
       "50413   3993697860786194247     3.67 2018-05-31 23:56:00 2018-05-31 23:56:00   \n",
       "50414     83872787173869366     3.42 2018-06-01 00:02:00 2018-06-01 00:02:00   \n",
       "\n",
       "      first_buy_month  \n",
       "0          2017-06-01  \n",
       "1          2017-06-01  \n",
       "2          2017-06-01  \n",
       "3          2017-06-01  \n",
       "4          2017-06-01  \n",
       "...               ...  \n",
       "50410      2018-05-01  \n",
       "50411      2018-05-01  \n",
       "50412      2018-05-01  \n",
       "50413      2018-05-01  \n",
       "50414      2018-06-01  \n",
       "\n",
       "[50415 rows x 5 columns]"
      ]
     },
     "execution_count": 65,
     "metadata": {},
     "output_type": "execute_result"
    }
   ],
   "source": [
    "orders"
   ]
  },
  {
   "cell_type": "code",
   "execution_count": 66,
   "metadata": {},
   "outputs": [],
   "source": [
    "orders['buy_month'] = orders['purchase_ts'].astype('datetime64[M]')\n",
    "orders_period = orders.rename(columns={'purchase_ts':'buy_date'})\n",
    "orders_period = orders_period.rename(columns={'buy_ts':'first_buy'})\n",
    "\n",
    "orders_period['first_buy'] = orders_period['first_buy'].astype('datetime64[M]')\n",
    "orders_period['buy_date'] = orders_period['buy_date'].astype('datetime64[M]')"
   ]
  },
  {
   "cell_type": "code",
   "execution_count": 67,
   "metadata": {},
   "outputs": [],
   "source": [
    "orders_period['cohort_lifetime'] = orders_period['buy_date'] - orders_period['first_buy']\n",
    "orders_period['cohort_lifetime'] = orders_period['cohort_lifetime'] / np.timedelta64(1, 'M')\n",
    "orders_period['cohort_lifetime'] = orders_period['cohort_lifetime'].round().astype('int')"
   ]
  },
  {
   "cell_type": "code",
   "execution_count": 68,
   "metadata": {},
   "outputs": [
    {
     "data": {
      "text/html": [
       "<div>\n",
       "<style scoped>\n",
       "    .dataframe tbody tr th:only-of-type {\n",
       "        vertical-align: middle;\n",
       "    }\n",
       "\n",
       "    .dataframe tbody tr th {\n",
       "        vertical-align: top;\n",
       "    }\n",
       "\n",
       "    .dataframe thead th {\n",
       "        text-align: right;\n",
       "    }\n",
       "</style>\n",
       "<table border=\"1\" class=\"dataframe\">\n",
       "  <thead>\n",
       "    <tr style=\"text-align: right;\">\n",
       "      <th>cohort_lifetime</th>\n",
       "      <th>0</th>\n",
       "      <th>1</th>\n",
       "      <th>2</th>\n",
       "      <th>3</th>\n",
       "      <th>4</th>\n",
       "      <th>5</th>\n",
       "      <th>6</th>\n",
       "      <th>7</th>\n",
       "      <th>8</th>\n",
       "      <th>9</th>\n",
       "      <th>10</th>\n",
       "      <th>11</th>\n",
       "    </tr>\n",
       "    <tr>\n",
       "      <th>first_buy</th>\n",
       "      <th></th>\n",
       "      <th></th>\n",
       "      <th></th>\n",
       "      <th></th>\n",
       "      <th></th>\n",
       "      <th></th>\n",
       "      <th></th>\n",
       "      <th></th>\n",
       "      <th></th>\n",
       "      <th></th>\n",
       "      <th></th>\n",
       "      <th></th>\n",
       "    </tr>\n",
       "  </thead>\n",
       "  <tbody>\n",
       "    <tr>\n",
       "      <td>2017-06-01</td>\n",
       "      <td>1.16</td>\n",
       "      <td>1.25</td>\n",
       "      <td>1.34</td>\n",
       "      <td>1.45</td>\n",
       "      <td>1.59</td>\n",
       "      <td>1.70</td>\n",
       "      <td>1.84</td>\n",
       "      <td>1.92</td>\n",
       "      <td>2.03</td>\n",
       "      <td>2.10</td>\n",
       "      <td>2.15</td>\n",
       "      <td>2.19</td>\n",
       "    </tr>\n",
       "    <tr>\n",
       "      <td>2017-07-01</td>\n",
       "      <td>1.14</td>\n",
       "      <td>1.19</td>\n",
       "      <td>1.25</td>\n",
       "      <td>1.31</td>\n",
       "      <td>1.34</td>\n",
       "      <td>1.39</td>\n",
       "      <td>1.42</td>\n",
       "      <td>1.44</td>\n",
       "      <td>1.47</td>\n",
       "      <td>1.49</td>\n",
       "      <td>1.51</td>\n",
       "      <td>nan</td>\n",
       "    </tr>\n",
       "    <tr>\n",
       "      <td>2017-08-01</td>\n",
       "      <td>1.12</td>\n",
       "      <td>1.20</td>\n",
       "      <td>1.27</td>\n",
       "      <td>1.33</td>\n",
       "      <td>1.39</td>\n",
       "      <td>1.44</td>\n",
       "      <td>1.47</td>\n",
       "      <td>1.53</td>\n",
       "      <td>1.56</td>\n",
       "      <td>1.60</td>\n",
       "      <td>nan</td>\n",
       "      <td>nan</td>\n",
       "    </tr>\n",
       "    <tr>\n",
       "      <td>2017-09-01</td>\n",
       "      <td>1.14</td>\n",
       "      <td>1.22</td>\n",
       "      <td>1.28</td>\n",
       "      <td>1.35</td>\n",
       "      <td>1.37</td>\n",
       "      <td>1.42</td>\n",
       "      <td>1.46</td>\n",
       "      <td>1.48</td>\n",
       "      <td>1.50</td>\n",
       "      <td>nan</td>\n",
       "      <td>nan</td>\n",
       "      <td>nan</td>\n",
       "    </tr>\n",
       "    <tr>\n",
       "      <td>2017-10-01</td>\n",
       "      <td>1.14</td>\n",
       "      <td>1.22</td>\n",
       "      <td>1.25</td>\n",
       "      <td>1.28</td>\n",
       "      <td>1.31</td>\n",
       "      <td>1.34</td>\n",
       "      <td>1.35</td>\n",
       "      <td>1.38</td>\n",
       "      <td>nan</td>\n",
       "      <td>nan</td>\n",
       "      <td>nan</td>\n",
       "      <td>nan</td>\n",
       "    </tr>\n",
       "    <tr>\n",
       "      <td>2017-11-01</td>\n",
       "      <td>1.18</td>\n",
       "      <td>1.28</td>\n",
       "      <td>1.32</td>\n",
       "      <td>1.37</td>\n",
       "      <td>1.41</td>\n",
       "      <td>1.42</td>\n",
       "      <td>1.45</td>\n",
       "      <td>nan</td>\n",
       "      <td>nan</td>\n",
       "      <td>nan</td>\n",
       "      <td>nan</td>\n",
       "      <td>nan</td>\n",
       "    </tr>\n",
       "    <tr>\n",
       "      <td>2017-12-01</td>\n",
       "      <td>1.15</td>\n",
       "      <td>1.21</td>\n",
       "      <td>1.26</td>\n",
       "      <td>1.30</td>\n",
       "      <td>1.32</td>\n",
       "      <td>1.34</td>\n",
       "      <td>nan</td>\n",
       "      <td>nan</td>\n",
       "      <td>nan</td>\n",
       "      <td>nan</td>\n",
       "      <td>nan</td>\n",
       "      <td>nan</td>\n",
       "    </tr>\n",
       "    <tr>\n",
       "      <td>2018-01-01</td>\n",
       "      <td>1.12</td>\n",
       "      <td>1.19</td>\n",
       "      <td>1.24</td>\n",
       "      <td>1.25</td>\n",
       "      <td>1.28</td>\n",
       "      <td>nan</td>\n",
       "      <td>nan</td>\n",
       "      <td>nan</td>\n",
       "      <td>nan</td>\n",
       "      <td>nan</td>\n",
       "      <td>nan</td>\n",
       "      <td>nan</td>\n",
       "    </tr>\n",
       "    <tr>\n",
       "      <td>2018-02-01</td>\n",
       "      <td>1.12</td>\n",
       "      <td>1.18</td>\n",
       "      <td>1.21</td>\n",
       "      <td>1.22</td>\n",
       "      <td>nan</td>\n",
       "      <td>nan</td>\n",
       "      <td>nan</td>\n",
       "      <td>nan</td>\n",
       "      <td>nan</td>\n",
       "      <td>nan</td>\n",
       "      <td>nan</td>\n",
       "      <td>nan</td>\n",
       "    </tr>\n",
       "    <tr>\n",
       "      <td>2018-03-01</td>\n",
       "      <td>1.17</td>\n",
       "      <td>1.22</td>\n",
       "      <td>1.27</td>\n",
       "      <td>nan</td>\n",
       "      <td>nan</td>\n",
       "      <td>nan</td>\n",
       "      <td>nan</td>\n",
       "      <td>nan</td>\n",
       "      <td>nan</td>\n",
       "      <td>nan</td>\n",
       "      <td>nan</td>\n",
       "      <td>nan</td>\n",
       "    </tr>\n",
       "    <tr>\n",
       "      <td>2018-04-01</td>\n",
       "      <td>1.10</td>\n",
       "      <td>1.18</td>\n",
       "      <td>nan</td>\n",
       "      <td>nan</td>\n",
       "      <td>nan</td>\n",
       "      <td>nan</td>\n",
       "      <td>nan</td>\n",
       "      <td>nan</td>\n",
       "      <td>nan</td>\n",
       "      <td>nan</td>\n",
       "      <td>nan</td>\n",
       "      <td>nan</td>\n",
       "    </tr>\n",
       "    <tr>\n",
       "      <td>2018-05-01</td>\n",
       "      <td>1.09</td>\n",
       "      <td>nan</td>\n",
       "      <td>nan</td>\n",
       "      <td>nan</td>\n",
       "      <td>nan</td>\n",
       "      <td>nan</td>\n",
       "      <td>nan</td>\n",
       "      <td>nan</td>\n",
       "      <td>nan</td>\n",
       "      <td>nan</td>\n",
       "      <td>nan</td>\n",
       "      <td>nan</td>\n",
       "    </tr>\n",
       "    <tr>\n",
       "      <td>2018-06-01</td>\n",
       "      <td>1.00</td>\n",
       "      <td>nan</td>\n",
       "      <td>nan</td>\n",
       "      <td>nan</td>\n",
       "      <td>nan</td>\n",
       "      <td>nan</td>\n",
       "      <td>nan</td>\n",
       "      <td>nan</td>\n",
       "      <td>nan</td>\n",
       "      <td>nan</td>\n",
       "      <td>nan</td>\n",
       "      <td>nan</td>\n",
       "    </tr>\n",
       "  </tbody>\n",
       "</table>\n",
       "</div>"
      ],
      "text/plain": [
       "cohort_lifetime   0    1    2    3    4    5    6    7    8    9    10   11\n",
       "first_buy                                                                  \n",
       "2017-06-01      1.16 1.25 1.34 1.45 1.59 1.70 1.84 1.92 2.03 2.10 2.15 2.19\n",
       "2017-07-01      1.14 1.19 1.25 1.31 1.34 1.39 1.42 1.44 1.47 1.49 1.51  nan\n",
       "2017-08-01      1.12 1.20 1.27 1.33 1.39 1.44 1.47 1.53 1.56 1.60  nan  nan\n",
       "2017-09-01      1.14 1.22 1.28 1.35 1.37 1.42 1.46 1.48 1.50  nan  nan  nan\n",
       "2017-10-01      1.14 1.22 1.25 1.28 1.31 1.34 1.35 1.38  nan  nan  nan  nan\n",
       "2017-11-01      1.18 1.28 1.32 1.37 1.41 1.42 1.45  nan  nan  nan  nan  nan\n",
       "2017-12-01      1.15 1.21 1.26 1.30 1.32 1.34  nan  nan  nan  nan  nan  nan\n",
       "2018-01-01      1.12 1.19 1.24 1.25 1.28  nan  nan  nan  nan  nan  nan  nan\n",
       "2018-02-01      1.12 1.18 1.21 1.22  nan  nan  nan  nan  nan  nan  nan  nan\n",
       "2018-03-01      1.17 1.22 1.27  nan  nan  nan  nan  nan  nan  nan  nan  nan\n",
       "2018-04-01      1.10 1.18  nan  nan  nan  nan  nan  nan  nan  nan  nan  nan\n",
       "2018-05-01      1.09  nan  nan  nan  nan  nan  nan  nan  nan  nan  nan  nan\n",
       "2018-06-01      1.00  nan  nan  nan  nan  nan  nan  nan  nan  nan  nan  nan"
      ]
     },
     "execution_count": 68,
     "metadata": {},
     "output_type": "execute_result"
    }
   ],
   "source": [
    "cohorts_avg_buys = orders_period.groupby(['first_buy', 'cohort_lifetime']).agg({'uid':'nunique', \n",
    "                                                                                'revenue':'count'}).reset_index() \n",
    "cohorts_avg_buys = cohorts_avg_buys.rename(columns={'revenue':'n_of_buys'})\n",
    "cohorts_for_buyers = orders_period.groupby('first_buy').agg({'uid':'nunique'}).reset_index()\n",
    "cohorts_for_buyers = cohorts_for_buyers.rename(columns={'uid':'initial_uid'})\n",
    "\n",
    "cohorts_avg_buys = pd.merge(cohorts_avg_buys, cohorts_for_buyers, on='first_buy')\n",
    "cohorts_avg_buys['buys_per_user'] = cohorts_avg_buys['n_of_buys']/cohorts_avg_buys['initial_uid']\n",
    "avg_buys_pivot = cohorts_avg_buys.pivot_table(index='first_buy', columns='cohort_lifetime', \n",
    "                                              values='buys_per_user', aggfunc='mean').cumsum(axis=1)\n",
    "avg_buys_pivot"
   ]
  },
  {
   "cell_type": "code",
   "execution_count": 69,
   "metadata": {},
   "outputs": [
    {
     "name": "stdout",
     "output_type": "stream",
     "text": [
      "На 6-ой месяц жизни когорты в среднем на пользователя приходится: 1.43 покупки\n"
     ]
    }
   ],
   "source": [
    "print(\"На 6-ой месяц жизни когорты в среднем на пользователя приходится:\",avg_buys_pivot[5].mean().round(2), \"покупки\")"
   ]
  },
  {
   "cell_type": "markdown",
   "metadata": {},
   "source": [
    "__2.2.3. Рассчитайте средний чек, применяя группировку по времени совершения покупки. Когортный анализ не подходит — он может исказить расчёты. Постройте график, отражающий изменения метрики во времени.__"
   ]
  },
  {
   "cell_type": "code",
   "execution_count": 70,
   "metadata": {},
   "outputs": [],
   "source": [
    "# определим месяц покупки \n",
    "orders['year'] = orders['purchase_ts'].dt.year\n",
    "orders['month'] = orders['purchase_ts'].dt.month\n",
    "orders['week'] = orders['purchase_ts'].dt.week\n",
    "orders['day'] = orders['purchase_ts'].dt.date"
   ]
  },
  {
   "cell_type": "code",
   "execution_count": 71,
   "metadata": {},
   "outputs": [
    {
     "name": "stdout",
     "output_type": "stream",
     "text": [
      "Количество заказов по годам\n"
     ]
    },
    {
     "data": {
      "text/plain": [
       "year\n",
       "2017    27467\n",
       "2018    22948\n",
       "Name: revenue, dtype: int64"
      ]
     },
     "metadata": {},
     "output_type": "display_data"
    }
   ],
   "source": [
    "print('Количество заказов по годам')\n",
    "display(orders.groupby('year')['revenue'].count())"
   ]
  },
  {
   "cell_type": "code",
   "execution_count": 72,
   "metadata": {},
   "outputs": [],
   "source": [
    "# удалим единственный заказ в июне, так как он \"заваливает\" график\n",
    "orders['purchase_ts'].max()\n",
    "orders = orders.query('purchase_ts != \"2018-06-01 00:02:00\"')"
   ]
  },
  {
   "cell_type": "code",
   "execution_count": 73,
   "metadata": {},
   "outputs": [
    {
     "data": {
      "image/png": "[encoded data removed]",
      "text/plain": [
       "<Figure size 1080x360 with 2 Axes>"
      ]
     },
     "metadata": {
      "needs_background": "light"
     },
     "output_type": "display_data"
    }
   ],
   "source": [
    "fig, axs = plt.subplots(1,2, figsize=(15,5))\n",
    "orders.groupby(['year','month'])['revenue'].count().plot(grid=True, ax=axs[0]).set_title('Продажи по месяцам')\n",
    "orders.groupby(['year','week'])['revenue'].count().plot(grid=True, ax=axs[1]).set_title('Продажи по неделям');"
   ]
  },
  {
   "cell_type": "code",
   "execution_count": 74,
   "metadata": {},
   "outputs": [
    {
     "data": {
      "image/png": "[encoded data removed]",
      "text/plain": [
       "<Figure size 720x360 with 1 Axes>"
      ]
     },
     "metadata": {
      "needs_background": "light"
     },
     "output_type": "display_data"
    }
   ],
   "source": [
    "plt.figure(figsize=(10, 5))\n",
    "orders.groupby(['year','month'])['revenue'].mean().plot(grid=True)\n",
    "plt.title('Динамика среднего чека по месяцам');"
   ]
  },
  {
   "cell_type": "markdown",
   "metadata": {},
   "source": [
    "__Вывод:__\n",
    "Средний чек колеблится по стоимости от 4 - 5,75., пиковые значения были ближе под Новый Год (что не удивительно). И, вроде бы, после январского спада пошел подъем, но потом опять падение."
   ]
  },
  {
   "cell_type": "markdown",
   "metadata": {},
   "source": [
    "___"
   ]
  },
  {
   "cell_type": "markdown",
   "metadata": {},
   "source": [
    "__2.2.4. Выясните, как меняется LTV на покупателя по когортам. Помните, что LTV — накопительная метрика. Рассчитайте средний LTV по когортам за 6 месяцев; в расчёт включайте когорты, «прожившие» не менее 6 месяцев. Маржинальность сервиса — 100%. Отразите изменения метрики во времени на графике.__"
   ]
  },
  {
   "cell_type": "code",
   "execution_count": 75,
   "metadata": {},
   "outputs": [
    {
     "data": {
      "text/html": [
       "<div>\n",
       "<style scoped>\n",
       "    .dataframe tbody tr th:only-of-type {\n",
       "        vertical-align: middle;\n",
       "    }\n",
       "\n",
       "    .dataframe tbody tr th {\n",
       "        vertical-align: top;\n",
       "    }\n",
       "\n",
       "    .dataframe thead th {\n",
       "        text-align: right;\n",
       "    }\n",
       "</style>\n",
       "<table border=\"1\" class=\"dataframe\">\n",
       "  <thead>\n",
       "    <tr style=\"text-align: right;\">\n",
       "      <th></th>\n",
       "      <th>first_buy_month</th>\n",
       "      <th>buyers</th>\n",
       "    </tr>\n",
       "  </thead>\n",
       "  <tbody>\n",
       "    <tr>\n",
       "      <td>0</td>\n",
       "      <td>2017-06-01</td>\n",
       "      <td>2023</td>\n",
       "    </tr>\n",
       "    <tr>\n",
       "      <td>1</td>\n",
       "      <td>2017-07-01</td>\n",
       "      <td>1923</td>\n",
       "    </tr>\n",
       "    <tr>\n",
       "      <td>2</td>\n",
       "      <td>2017-08-01</td>\n",
       "      <td>1370</td>\n",
       "    </tr>\n",
       "    <tr>\n",
       "      <td>3</td>\n",
       "      <td>2017-09-01</td>\n",
       "      <td>2581</td>\n",
       "    </tr>\n",
       "    <tr>\n",
       "      <td>4</td>\n",
       "      <td>2017-10-01</td>\n",
       "      <td>4340</td>\n",
       "    </tr>\n",
       "    <tr>\n",
       "      <td>5</td>\n",
       "      <td>2017-11-01</td>\n",
       "      <td>4081</td>\n",
       "    </tr>\n",
       "    <tr>\n",
       "      <td>6</td>\n",
       "      <td>2017-12-01</td>\n",
       "      <td>4383</td>\n",
       "    </tr>\n",
       "    <tr>\n",
       "      <td>7</td>\n",
       "      <td>2018-01-01</td>\n",
       "      <td>3373</td>\n",
       "    </tr>\n",
       "    <tr>\n",
       "      <td>8</td>\n",
       "      <td>2018-02-01</td>\n",
       "      <td>3651</td>\n",
       "    </tr>\n",
       "    <tr>\n",
       "      <td>9</td>\n",
       "      <td>2018-03-01</td>\n",
       "      <td>3533</td>\n",
       "    </tr>\n",
       "    <tr>\n",
       "      <td>10</td>\n",
       "      <td>2018-04-01</td>\n",
       "      <td>2276</td>\n",
       "    </tr>\n",
       "    <tr>\n",
       "      <td>11</td>\n",
       "      <td>2018-05-01</td>\n",
       "      <td>2988</td>\n",
       "    </tr>\n",
       "  </tbody>\n",
       "</table>\n",
       "</div>"
      ],
      "text/plain": [
       "   first_buy_month  buyers\n",
       "0       2017-06-01    2023\n",
       "1       2017-07-01    1923\n",
       "2       2017-08-01    1370\n",
       "3       2017-09-01    2581\n",
       "4       2017-10-01    4340\n",
       "5       2017-11-01    4081\n",
       "6       2017-12-01    4383\n",
       "7       2018-01-01    3373\n",
       "8       2018-02-01    3651\n",
       "9       2018-03-01    3533\n",
       "10      2018-04-01    2276\n",
       "11      2018-05-01    2988"
      ]
     },
     "execution_count": 75,
     "metadata": {},
     "output_type": "execute_result"
    }
   ],
   "source": [
    "# посчитаем количество пользователей каждой когорты \n",
    "orders_cohort_size = orders.groupby('first_buy_month').agg({'uid':'nunique'}).reset_index()\n",
    "orders_cohort_size.columns = ['first_buy_month', 'buyers']\n",
    "orders_cohort_size"
   ]
  },
  {
   "cell_type": "code",
   "execution_count": 76,
   "metadata": {},
   "outputs": [],
   "source": [
    "# рассчитаем выручку каждой когорты по месяцам и объединим таблицу с количеством пользователей и выручкой\n",
    "orders_revenue = orders.groupby(['first_buy_month', 'buy_month'])['revenue'].sum().reset_index()\n",
    "ltv_report = pd.merge(orders_cohort_size,orders_revenue, on='first_buy_month')"
   ]
  },
  {
   "cell_type": "code",
   "execution_count": 77,
   "metadata": {},
   "outputs": [
    {
     "data": {
      "text/html": [
       "<div>\n",
       "<style scoped>\n",
       "    .dataframe tbody tr th:only-of-type {\n",
       "        vertical-align: middle;\n",
       "    }\n",
       "\n",
       "    .dataframe tbody tr th {\n",
       "        vertical-align: top;\n",
       "    }\n",
       "\n",
       "    .dataframe thead th {\n",
       "        text-align: right;\n",
       "    }\n",
       "</style>\n",
       "<table border=\"1\" class=\"dataframe\">\n",
       "  <thead>\n",
       "    <tr style=\"text-align: right;\">\n",
       "      <th>lifetime</th>\n",
       "      <th>0</th>\n",
       "      <th>1</th>\n",
       "      <th>2</th>\n",
       "      <th>3</th>\n",
       "      <th>4</th>\n",
       "      <th>5</th>\n",
       "      <th>6</th>\n",
       "      <th>7</th>\n",
       "      <th>8</th>\n",
       "      <th>9</th>\n",
       "      <th>10</th>\n",
       "      <th>11</th>\n",
       "      <th>All</th>\n",
       "    </tr>\n",
       "    <tr>\n",
       "      <th>first_buy_month</th>\n",
       "      <th></th>\n",
       "      <th></th>\n",
       "      <th></th>\n",
       "      <th></th>\n",
       "      <th></th>\n",
       "      <th></th>\n",
       "      <th></th>\n",
       "      <th></th>\n",
       "      <th></th>\n",
       "      <th></th>\n",
       "      <th></th>\n",
       "      <th></th>\n",
       "      <th></th>\n",
       "    </tr>\n",
       "  </thead>\n",
       "  <tbody>\n",
       "    <tr>\n",
       "      <td>2017-06-01 00:00:00</td>\n",
       "      <td>4.72</td>\n",
       "      <td>0.49</td>\n",
       "      <td>0.44</td>\n",
       "      <td>0.95</td>\n",
       "      <td>1.02</td>\n",
       "      <td>0.74</td>\n",
       "      <td>0.95</td>\n",
       "      <td>0.58</td>\n",
       "      <td>0.55</td>\n",
       "      <td>0.61</td>\n",
       "      <td>0.57</td>\n",
       "      <td>0.26</td>\n",
       "      <td>11.88</td>\n",
       "    </tr>\n",
       "    <tr>\n",
       "      <td>2017-07-01 00:00:00</td>\n",
       "      <td>6.01</td>\n",
       "      <td>0.34</td>\n",
       "      <td>0.62</td>\n",
       "      <td>0.36</td>\n",
       "      <td>0.18</td>\n",
       "      <td>0.16</td>\n",
       "      <td>0.12</td>\n",
       "      <td>0.14</td>\n",
       "      <td>0.16</td>\n",
       "      <td>0.15</td>\n",
       "      <td>0.16</td>\n",
       "      <td></td>\n",
       "      <td>8.39</td>\n",
       "    </tr>\n",
       "    <tr>\n",
       "      <td>2017-08-01 00:00:00</td>\n",
       "      <td>5.28</td>\n",
       "      <td>0.47</td>\n",
       "      <td>0.46</td>\n",
       "      <td>0.39</td>\n",
       "      <td>0.49</td>\n",
       "      <td>0.28</td>\n",
       "      <td>0.21</td>\n",
       "      <td>0.41</td>\n",
       "      <td>0.29</td>\n",
       "      <td>0.19</td>\n",
       "      <td></td>\n",
       "      <td></td>\n",
       "      <td>8.47</td>\n",
       "    </tr>\n",
       "    <tr>\n",
       "      <td>2017-09-01 00:00:00</td>\n",
       "      <td>5.64</td>\n",
       "      <td>1.12</td>\n",
       "      <td>0.52</td>\n",
       "      <td>3.98</td>\n",
       "      <td>0.40</td>\n",
       "      <td>0.65</td>\n",
       "      <td>0.70</td>\n",
       "      <td>0.24</td>\n",
       "      <td>0.18</td>\n",
       "      <td></td>\n",
       "      <td></td>\n",
       "      <td></td>\n",
       "      <td>13.44</td>\n",
       "    </tr>\n",
       "    <tr>\n",
       "      <td>2017-10-01 00:00:00</td>\n",
       "      <td>5.00</td>\n",
       "      <td>0.54</td>\n",
       "      <td>0.19</td>\n",
       "      <td>0.16</td>\n",
       "      <td>0.15</td>\n",
       "      <td>0.12</td>\n",
       "      <td>0.08</td>\n",
       "      <td>0.12</td>\n",
       "      <td></td>\n",
       "      <td></td>\n",
       "      <td></td>\n",
       "      <td></td>\n",
       "      <td>6.36</td>\n",
       "    </tr>\n",
       "    <tr>\n",
       "      <td>2017-11-01 00:00:00</td>\n",
       "      <td>5.15</td>\n",
       "      <td>0.40</td>\n",
       "      <td>0.20</td>\n",
       "      <td>0.32</td>\n",
       "      <td>0.15</td>\n",
       "      <td>0.05</td>\n",
       "      <td>0.11</td>\n",
       "      <td></td>\n",
       "      <td></td>\n",
       "      <td></td>\n",
       "      <td></td>\n",
       "      <td></td>\n",
       "      <td>6.40</td>\n",
       "    </tr>\n",
       "    <tr>\n",
       "      <td>2017-12-01 00:00:00</td>\n",
       "      <td>4.74</td>\n",
       "      <td>0.26</td>\n",
       "      <td>0.93</td>\n",
       "      <td>1.07</td>\n",
       "      <td>0.31</td>\n",
       "      <td>0.34</td>\n",
       "      <td></td>\n",
       "      <td></td>\n",
       "      <td></td>\n",
       "      <td></td>\n",
       "      <td></td>\n",
       "      <td></td>\n",
       "      <td>7.64</td>\n",
       "    </tr>\n",
       "    <tr>\n",
       "      <td>2018-01-01 00:00:00</td>\n",
       "      <td>4.14</td>\n",
       "      <td>0.29</td>\n",
       "      <td>0.30</td>\n",
       "      <td>0.14</td>\n",
       "      <td>0.06</td>\n",
       "      <td></td>\n",
       "      <td></td>\n",
       "      <td></td>\n",
       "      <td></td>\n",
       "      <td></td>\n",
       "      <td></td>\n",
       "      <td></td>\n",
       "      <td>4.94</td>\n",
       "    </tr>\n",
       "    <tr>\n",
       "      <td>2018-02-01 00:00:00</td>\n",
       "      <td>4.16</td>\n",
       "      <td>0.28</td>\n",
       "      <td>0.08</td>\n",
       "      <td>0.07</td>\n",
       "      <td></td>\n",
       "      <td></td>\n",
       "      <td></td>\n",
       "      <td></td>\n",
       "      <td></td>\n",
       "      <td></td>\n",
       "      <td></td>\n",
       "      <td></td>\n",
       "      <td>4.59</td>\n",
       "    </tr>\n",
       "    <tr>\n",
       "      <td>2018-03-01 00:00:00</td>\n",
       "      <td>4.84</td>\n",
       "      <td>0.30</td>\n",
       "      <td>0.32</td>\n",
       "      <td></td>\n",
       "      <td></td>\n",
       "      <td></td>\n",
       "      <td></td>\n",
       "      <td></td>\n",
       "      <td></td>\n",
       "      <td></td>\n",
       "      <td></td>\n",
       "      <td></td>\n",
       "      <td>5.46</td>\n",
       "    </tr>\n",
       "    <tr>\n",
       "      <td>2018-04-01 00:00:00</td>\n",
       "      <td>4.66</td>\n",
       "      <td>0.53</td>\n",
       "      <td></td>\n",
       "      <td></td>\n",
       "      <td></td>\n",
       "      <td></td>\n",
       "      <td></td>\n",
       "      <td></td>\n",
       "      <td></td>\n",
       "      <td></td>\n",
       "      <td></td>\n",
       "      <td></td>\n",
       "      <td>5.19</td>\n",
       "    </tr>\n",
       "    <tr>\n",
       "      <td>2018-05-01 00:00:00</td>\n",
       "      <td>4.66</td>\n",
       "      <td></td>\n",
       "      <td></td>\n",
       "      <td></td>\n",
       "      <td></td>\n",
       "      <td></td>\n",
       "      <td></td>\n",
       "      <td></td>\n",
       "      <td></td>\n",
       "      <td></td>\n",
       "      <td></td>\n",
       "      <td></td>\n",
       "      <td>4.66</td>\n",
       "    </tr>\n",
       "    <tr>\n",
       "      <td>All</td>\n",
       "      <td>59.00</td>\n",
       "      <td>5.01</td>\n",
       "      <td>4.05</td>\n",
       "      <td>7.45</td>\n",
       "      <td>2.77</td>\n",
       "      <td>2.33</td>\n",
       "      <td>2.18</td>\n",
       "      <td>1.49</td>\n",
       "      <td>1.19</td>\n",
       "      <td>0.94</td>\n",
       "      <td>0.73</td>\n",
       "      <td>0.26</td>\n",
       "      <td>87.40</td>\n",
       "    </tr>\n",
       "  </tbody>\n",
       "</table>\n",
       "</div>"
      ],
      "text/plain": [
       "lifetime                0    1    2    3    4    5    6    7    8    9   10  \\\n",
       "first_buy_month                                                               \n",
       "2017-06-01 00:00:00  4.72 0.49 0.44 0.95 1.02 0.74 0.95 0.58 0.55 0.61 0.57   \n",
       "2017-07-01 00:00:00  6.01 0.34 0.62 0.36 0.18 0.16 0.12 0.14 0.16 0.15 0.16   \n",
       "2017-08-01 00:00:00  5.28 0.47 0.46 0.39 0.49 0.28 0.21 0.41 0.29 0.19        \n",
       "2017-09-01 00:00:00  5.64 1.12 0.52 3.98 0.40 0.65 0.70 0.24 0.18             \n",
       "2017-10-01 00:00:00  5.00 0.54 0.19 0.16 0.15 0.12 0.08 0.12                  \n",
       "2017-11-01 00:00:00  5.15 0.40 0.20 0.32 0.15 0.05 0.11                       \n",
       "2017-12-01 00:00:00  4.74 0.26 0.93 1.07 0.31 0.34                            \n",
       "2018-01-01 00:00:00  4.14 0.29 0.30 0.14 0.06                                 \n",
       "2018-02-01 00:00:00  4.16 0.28 0.08 0.07                                      \n",
       "2018-03-01 00:00:00  4.84 0.30 0.32                                           \n",
       "2018-04-01 00:00:00  4.66 0.53                                                \n",
       "2018-05-01 00:00:00  4.66                                                     \n",
       "All                 59.00 5.01 4.05 7.45 2.77 2.33 2.18 1.49 1.19 0.94 0.73   \n",
       "\n",
       "lifetime              11   All  \n",
       "first_buy_month                 \n",
       "2017-06-01 00:00:00 0.26 11.88  \n",
       "2017-07-01 00:00:00       8.39  \n",
       "2017-08-01 00:00:00       8.47  \n",
       "2017-09-01 00:00:00      13.44  \n",
       "2017-10-01 00:00:00       6.36  \n",
       "2017-11-01 00:00:00       6.40  \n",
       "2017-12-01 00:00:00       7.64  \n",
       "2018-01-01 00:00:00       4.94  \n",
       "2018-02-01 00:00:00       4.59  \n",
       "2018-03-01 00:00:00       5.46  \n",
       "2018-04-01 00:00:00       5.19  \n",
       "2018-05-01 00:00:00       4.66  \n",
       "All                 0.26 87.40  "
      ]
     },
     "execution_count": 77,
     "metadata": {},
     "output_type": "execute_result"
    }
   ],
   "source": [
    "# выделим срок жизни когорт, посчитаем ltv и посмотрим на результат\n",
    "ltv_report['lifetime'] = ((ltv_report['buy_month'] - ltv_report['first_buy_month']) / np.timedelta64(1,'M')).round().astype('int')\n",
    "ltv_report['ltv'] = ltv_report['revenue']/ltv_report['buyers']\n",
    "ltv = ltv_report.pivot_table(index='first_buy_month', values='ltv', columns='lifetime', \n",
    "                       aggfunc='sum', fill_value='', margins=True)\n",
    "#ltv = ltv.cumsum(axis=1)\n",
    "ltv"
   ]
  },
  {
   "cell_type": "markdown",
   "metadata": {},
   "source": [
    "__Вывод:__\n",
    "\n",
    "В среднем пользователи начинают покупать на 13 (десктопы) и 53 (мобильные) день. Однако, чаще всего это происходит в день первого визита. Тем не менее, стоит задуматься, может на мобильных устрйоствах процесс покупки затруднен?\n",
    "\n",
    "Пик покупок пришелся на первое полугодие и это связано с активностью на НГ, там было зафиксировано большее всего покупок. В свою очередь, месячный средний чек находится в районе +-5 у.е. с пиковым значением на НГ и падением в январе.\n",
    "\n",
    "Самой прибыльной когортой оказалась 2017-09-01, и, естественно, самая первая, в силу того что она старше всех."
   ]
  },
  {
   "cell_type": "markdown",
   "metadata": {},
   "source": [
    "___"
   ]
  },
  {
   "cell_type": "markdown",
   "metadata": {},
   "source": [
    "__2.3.1. Посчитайте общую сумму расходов на маркетинг. Выясните, как траты распределены по источникам. Визуализируйте изменения метрик во времени.__"
   ]
  },
  {
   "cell_type": "code",
   "execution_count": 79,
   "metadata": {},
   "outputs": [
    {
     "data": {
      "text/html": [
       "<div>\n",
       "<style scoped>\n",
       "    .dataframe tbody tr th:only-of-type {\n",
       "        vertical-align: middle;\n",
       "    }\n",
       "\n",
       "    .dataframe tbody tr th {\n",
       "        vertical-align: top;\n",
       "    }\n",
       "\n",
       "    .dataframe thead th {\n",
       "        text-align: right;\n",
       "    }\n",
       "</style>\n",
       "<table border=\"1\" class=\"dataframe\">\n",
       "  <thead>\n",
       "    <tr style=\"text-align: right;\">\n",
       "      <th></th>\n",
       "      <th>source_id</th>\n",
       "      <th>date</th>\n",
       "      <th>costs</th>\n",
       "    </tr>\n",
       "  </thead>\n",
       "  <tbody>\n",
       "    <tr>\n",
       "      <td>0</td>\n",
       "      <td>1</td>\n",
       "      <td>2017-06-01</td>\n",
       "      <td>75.20</td>\n",
       "    </tr>\n",
       "    <tr>\n",
       "      <td>1</td>\n",
       "      <td>1</td>\n",
       "      <td>2017-06-02</td>\n",
       "      <td>62.25</td>\n",
       "    </tr>\n",
       "    <tr>\n",
       "      <td>2</td>\n",
       "      <td>1</td>\n",
       "      <td>2017-06-03</td>\n",
       "      <td>36.53</td>\n",
       "    </tr>\n",
       "    <tr>\n",
       "      <td>3</td>\n",
       "      <td>1</td>\n",
       "      <td>2017-06-04</td>\n",
       "      <td>55.00</td>\n",
       "    </tr>\n",
       "    <tr>\n",
       "      <td>4</td>\n",
       "      <td>1</td>\n",
       "      <td>2017-06-05</td>\n",
       "      <td>57.08</td>\n",
       "    </tr>\n",
       "  </tbody>\n",
       "</table>\n",
       "</div>"
      ],
      "text/plain": [
       "   source_id        date  costs\n",
       "0          1  2017-06-01  75.20\n",
       "1          1  2017-06-02  62.25\n",
       "2          1  2017-06-03  36.53\n",
       "3          1  2017-06-04  55.00\n",
       "4          1  2017-06-05  57.08"
      ]
     },
     "execution_count": 79,
     "metadata": {},
     "output_type": "execute_result"
    }
   ],
   "source": [
    "costs.head()"
   ]
  },
  {
   "cell_type": "code",
   "execution_count": 80,
   "metadata": {},
   "outputs": [
    {
     "name": "stdout",
     "output_type": "stream",
     "text": [
      "Всего потрачего на маркетинг - 329131.62\n"
     ]
    }
   ],
   "source": [
    "print('Всего потрачего на маркетинг -',costs['costs'].sum())"
   ]
  },
  {
   "cell_type": "code",
   "execution_count": 81,
   "metadata": {},
   "outputs": [
    {
     "name": "stdout",
     "output_type": "stream",
     "text": [
      "Выручка всего - 252053.77999999997\n"
     ]
    }
   ],
   "source": [
    "print('Выручка всего -',orders['revenue'].sum())"
   ]
  },
  {
   "cell_type": "code",
   "execution_count": 82,
   "metadata": {},
   "outputs": [
    {
     "data": {
      "image/png": "[encoded data removed]",
      "text/plain": [
       "<Figure size 432x288 with 1 Axes>"
      ]
     },
     "metadata": {
      "needs_background": "light"
     },
     "output_type": "display_data"
    }
   ],
   "source": [
    "costs_by_source = costs.groupby('source_id')['costs'].sum().reset_index()\n",
    "sns.barplot(x=\"source_id\", y=\"costs\", data=costs_by_source)\n",
    "plt.title('Распределение расходов по источникам');"
   ]
  },
  {
   "cell_type": "markdown",
   "metadata": {},
   "source": [
    "Итого на источник №3 было потрачено ДС больше всего."
   ]
  },
  {
   "cell_type": "code",
   "execution_count": 83,
   "metadata": {},
   "outputs": [],
   "source": [
    "costs['dt_month'] = costs['date'].astype('datetime64[M]')"
   ]
  },
  {
   "cell_type": "code",
   "execution_count": 84,
   "metadata": {},
   "outputs": [
    {
     "data": {
      "image/png": "[encoded data removed]",
      "text/plain": [
       "<Figure size 432x288 with 1 Axes>"
      ]
     },
     "metadata": {
      "needs_background": "light"
     },
     "output_type": "display_data"
    }
   ],
   "source": [
    "costs_by_months = costs.groupby(['dt_month'])['costs'].sum()\n",
    "costs_by_months.plot(grid=True, title='Распределение расходов по месяцам');"
   ]
  },
  {
   "cell_type": "code",
   "execution_count": 85,
   "metadata": {},
   "outputs": [
    {
     "data": {
      "image/png": "[encoded data removed]",
      "text/plain": [
       "<Figure size 720x360 with 1 Axes>"
      ]
     },
     "metadata": {
      "needs_background": "light"
     },
     "output_type": "display_data"
    }
   ],
   "source": [
    "sources_costs_by_month = costs.pivot_table(index='dt_month', columns='source_id', values='costs', aggfunc='sum')\n",
    "sources_costs_by_month.plot(figsize=(10, 5), title='Распределение расходов на разные источники, по месяцам');"
   ]
  },
  {
   "cell_type": "markdown",
   "metadata": {},
   "source": [
    "__Вывод:__\n",
    "\n",
    "Пик наших расходов (как и доходов) пришелся на осень/зиму 2017. Примечательно, хоть мы и тратитились в октябре/ноябре/декабре практически одинаково, действительно значимый результат был только в под новый год."
   ]
  },
  {
   "cell_type": "markdown",
   "metadata": {},
   "source": [
    "___"
   ]
  },
  {
   "cell_type": "markdown",
   "metadata": {},
   "source": [
    "__2.3.2. Рассчитайте средний CAC на одного покупателя для всего проекта и для каждого источника трафика. Отразите изменения метрик на графиках__"
   ]
  },
  {
   "cell_type": "code",
   "execution_count": 86,
   "metadata": {},
   "outputs": [],
   "source": [
    "first_visit_full = visits.groupby(['uid'])['start_ss'].min().reset_index()\n",
    "first_visit_full.columns = ['uid', 'first_visit_full']\n",
    "visits = visits.merge(first_visit_full)"
   ]
  },
  {
   "cell_type": "code",
   "execution_count": 87,
   "metadata": {
    "scrolled": false
   },
   "outputs": [
    {
     "data": {
      "text/html": [
       "<div>\n",
       "<style scoped>\n",
       "    .dataframe tbody tr th:only-of-type {\n",
       "        vertical-align: middle;\n",
       "    }\n",
       "\n",
       "    .dataframe tbody tr th {\n",
       "        vertical-align: top;\n",
       "    }\n",
       "\n",
       "    .dataframe thead th {\n",
       "        text-align: right;\n",
       "    }\n",
       "</style>\n",
       "<table border=\"1\" class=\"dataframe\">\n",
       "  <thead>\n",
       "    <tr style=\"text-align: right;\">\n",
       "      <th></th>\n",
       "      <th>customers</th>\n",
       "    </tr>\n",
       "    <tr>\n",
       "      <th>source_id</th>\n",
       "      <th></th>\n",
       "    </tr>\n",
       "  </thead>\n",
       "  <tbody>\n",
       "    <tr>\n",
       "      <td>1</td>\n",
       "      <td>2899</td>\n",
       "    </tr>\n",
       "    <tr>\n",
       "      <td>2</td>\n",
       "      <td>3506</td>\n",
       "    </tr>\n",
       "    <tr>\n",
       "      <td>3</td>\n",
       "      <td>10473</td>\n",
       "    </tr>\n",
       "    <tr>\n",
       "      <td>4</td>\n",
       "      <td>10295</td>\n",
       "    </tr>\n",
       "    <tr>\n",
       "      <td>5</td>\n",
       "      <td>6931</td>\n",
       "    </tr>\n",
       "    <tr>\n",
       "      <td>7</td>\n",
       "      <td>1</td>\n",
       "    </tr>\n",
       "    <tr>\n",
       "      <td>9</td>\n",
       "      <td>1088</td>\n",
       "    </tr>\n",
       "    <tr>\n",
       "      <td>10</td>\n",
       "      <td>1329</td>\n",
       "    </tr>\n",
       "  </tbody>\n",
       "</table>\n",
       "</div>"
      ],
      "text/plain": [
       "           customers\n",
       "source_id           \n",
       "1               2899\n",
       "2               3506\n",
       "3              10473\n",
       "4              10295\n",
       "5               6931\n",
       "7                  1\n",
       "9               1088\n",
       "10              1329"
      ]
     },
     "execution_count": 87,
     "metadata": {},
     "output_type": "execute_result"
    }
   ],
   "source": [
    "visits_by_source = visits.query('start_ss == first_visit_full')\n",
    "customers_by_source = (orders.merge(visits_by_source, on='uid', how='inner')).groupby('source_id').agg({'uid':'nunique'})\\\n",
    "                        .rename(columns={'uid':'customers'})\n",
    "customers_by_source"
   ]
  },
  {
   "cell_type": "code",
   "execution_count": 88,
   "metadata": {},
   "outputs": [
    {
     "data": {
      "text/html": [
       "<div>\n",
       "<style scoped>\n",
       "    .dataframe tbody tr th:only-of-type {\n",
       "        vertical-align: middle;\n",
       "    }\n",
       "\n",
       "    .dataframe tbody tr th {\n",
       "        vertical-align: top;\n",
       "    }\n",
       "\n",
       "    .dataframe thead th {\n",
       "        text-align: right;\n",
       "    }\n",
       "</style>\n",
       "<table border=\"1\" class=\"dataframe\">\n",
       "  <thead>\n",
       "    <tr style=\"text-align: right;\">\n",
       "      <th></th>\n",
       "      <th>index</th>\n",
       "      <th>source_id</th>\n",
       "      <th>customers</th>\n",
       "      <th>costs</th>\n",
       "      <th>cac</th>\n",
       "    </tr>\n",
       "  </thead>\n",
       "  <tbody>\n",
       "    <tr>\n",
       "      <td>2</td>\n",
       "      <td>2</td>\n",
       "      <td>3</td>\n",
       "      <td>10473</td>\n",
       "      <td>141,321.63</td>\n",
       "      <td>13.49</td>\n",
       "    </tr>\n",
       "    <tr>\n",
       "      <td>1</td>\n",
       "      <td>1</td>\n",
       "      <td>2</td>\n",
       "      <td>3506</td>\n",
       "      <td>42,806.04</td>\n",
       "      <td>12.21</td>\n",
       "    </tr>\n",
       "    <tr>\n",
       "      <td>4</td>\n",
       "      <td>4</td>\n",
       "      <td>5</td>\n",
       "      <td>6931</td>\n",
       "      <td>51,757.10</td>\n",
       "      <td>7.47</td>\n",
       "    </tr>\n",
       "    <tr>\n",
       "      <td>0</td>\n",
       "      <td>0</td>\n",
       "      <td>1</td>\n",
       "      <td>2899</td>\n",
       "      <td>20,833.27</td>\n",
       "      <td>7.19</td>\n",
       "    </tr>\n",
       "    <tr>\n",
       "      <td>3</td>\n",
       "      <td>3</td>\n",
       "      <td>4</td>\n",
       "      <td>10295</td>\n",
       "      <td>61,073.60</td>\n",
       "      <td>5.93</td>\n",
       "    </tr>\n",
       "    <tr>\n",
       "      <td>5</td>\n",
       "      <td>5</td>\n",
       "      <td>9</td>\n",
       "      <td>1088</td>\n",
       "      <td>5,517.49</td>\n",
       "      <td>5.07</td>\n",
       "    </tr>\n",
       "    <tr>\n",
       "      <td>6</td>\n",
       "      <td>6</td>\n",
       "      <td>10</td>\n",
       "      <td>1329</td>\n",
       "      <td>5,822.49</td>\n",
       "      <td>4.38</td>\n",
       "    </tr>\n",
       "  </tbody>\n",
       "</table>\n",
       "</div>"
      ],
      "text/plain": [
       "   index  source_id  customers      costs   cac\n",
       "2      2          3      10473 141,321.63 13.49\n",
       "1      1          2       3506  42,806.04 12.21\n",
       "4      4          5       6931  51,757.10  7.47\n",
       "0      0          1       2899  20,833.27  7.19\n",
       "3      3          4      10295  61,073.60  5.93\n",
       "5      5          9       1088   5,517.49  5.07\n",
       "6      6         10       1329   5,822.49  4.38"
      ]
     },
     "execution_count": 88,
     "metadata": {},
     "output_type": "execute_result"
    }
   ],
   "source": [
    "cac = customers_by_source.merge(costs_by_source, on = 'source_id').reset_index()\n",
    "cac = cac.fillna(0)\n",
    "cac['cac'] = cac['costs'] / cac['customers']\n",
    "cac.sort_values('cac', ascending = False)"
   ]
  },
  {
   "cell_type": "code",
   "execution_count": 89,
   "metadata": {
    "scrolled": false
   },
   "outputs": [
    {
     "data": {
      "image/png": "[encoded data removed]",
      "text/plain": [
       "<Figure size 1152x648 with 1 Axes>"
      ]
     },
     "metadata": {
      "needs_background": "light"
     },
     "output_type": "display_data"
    }
   ],
   "source": [
    "plt.figure(figsize = (16, 9))\n",
    "ax = sns.barplot(x=\"source_id\", y=\"cac\", data=cac)\n",
    "plt.title('CAC по источнику')\n",
    "ax.set_xlabel('Тип источника')\n",
    "ax.set_ylabel('Стоимость привлечения')\n",
    "plt.show()"
   ]
  },
  {
   "cell_type": "markdown",
   "metadata": {},
   "source": [
    "__Вывод:__\n",
    "\n",
    "Дешевле всего обошлись посетители из 6 и 7 источника, там затраты приравниваются к нулю.\n",
    "\n",
    "Топ-3 по самым низким затратам: 9, 10, 4\n",
    "\n",
    "Видно, что самые дорогие пользователи из источника - 3 и 2. Может не стоит так много тратить на них, учитывая что из 4го (дешевого), к нам приходит на много больше пользователей чем с 3го. И второй тоже не выглядит сильно перспективным, в то время как с не дорого 5го мы получили больше клиентов."
   ]
  },
  {
   "cell_type": "markdown",
   "metadata": {},
   "source": [
    "__2.3.3. Рассчитайте ROMI по когортам в разрезе источников. Сравните окупаемость за одинаковые периоды жизни когорт. Обратите внимание, что клиенты, пришедшие из разных источников, могут иметь разный LTV. Постройте графики, отражающие изменения метрик во времени.__"
   ]
  },
  {
   "cell_type": "code",
   "execution_count": 90,
   "metadata": {},
   "outputs": [],
   "source": [
    "romi_report = ltv_report.merge(costs_by_months, left_on='first_buy_month', right_on='dt_month')\n",
    "romi_report['cac'] = romi_report['costs'] / romi_report['buyers']\n",
    "romi_report['romi'] = (romi_report['ltv'] /  romi_report['cac']).round(2)"
   ]
  },
  {
   "cell_type": "code",
   "execution_count": 91,
   "metadata": {},
   "outputs": [],
   "source": [
    "# приводим дату в более читабельный вид\n",
    "romi_report['first_buy_month'] = romi_report['first_buy_month'].dt.strftime('%Y-%m')"
   ]
  },
  {
   "cell_type": "code",
   "execution_count": 92,
   "metadata": {},
   "outputs": [],
   "source": [
    "romi = romi_report.pivot_table(index='first_buy_month', columns='lifetime', values='romi', aggfunc='mean').cumsum(axis=1)"
   ]
  },
  {
   "cell_type": "code",
   "execution_count": 93,
   "metadata": {
    "scrolled": false
   },
   "outputs": [
    {
     "data": {
      "image/png": "[encoded data removed]",
      "text/plain": [
       "<Figure size 936x648 with 2 Axes>"
      ]
     },
     "metadata": {
      "needs_background": "light"
     },
     "output_type": "display_data"
    }
   ],
   "source": [
    "plt.figure(figsize=(13, 9))\n",
    "plt.title('romi по когортам')\n",
    "sns.heatmap(romi,annot=True, fmt='.2f', linewidths=1, cmap=\"RdYlGn\");"
   ]
  },
  {
   "cell_type": "code",
   "execution_count": 94,
   "metadata": {},
   "outputs": [
    {
     "data": {
      "text/html": [
       "<div>\n",
       "<style scoped>\n",
       "    .dataframe tbody tr th:only-of-type {\n",
       "        vertical-align: middle;\n",
       "    }\n",
       "\n",
       "    .dataframe tbody tr th {\n",
       "        vertical-align: top;\n",
       "    }\n",
       "\n",
       "    .dataframe thead th {\n",
       "        text-align: right;\n",
       "    }\n",
       "</style>\n",
       "<table border=\"1\" class=\"dataframe\">\n",
       "  <thead>\n",
       "    <tr style=\"text-align: right;\">\n",
       "      <th></th>\n",
       "      <th>source_id</th>\n",
       "      <th>costs</th>\n",
       "    </tr>\n",
       "  </thead>\n",
       "  <tbody>\n",
       "    <tr>\n",
       "      <td>0</td>\n",
       "      <td>1</td>\n",
       "      <td>20,833.27</td>\n",
       "    </tr>\n",
       "    <tr>\n",
       "      <td>1</td>\n",
       "      <td>2</td>\n",
       "      <td>42,806.04</td>\n",
       "    </tr>\n",
       "    <tr>\n",
       "      <td>2</td>\n",
       "      <td>3</td>\n",
       "      <td>141,321.63</td>\n",
       "    </tr>\n",
       "    <tr>\n",
       "      <td>3</td>\n",
       "      <td>4</td>\n",
       "      <td>61,073.60</td>\n",
       "    </tr>\n",
       "    <tr>\n",
       "      <td>4</td>\n",
       "      <td>5</td>\n",
       "      <td>51,757.10</td>\n",
       "    </tr>\n",
       "    <tr>\n",
       "      <td>5</td>\n",
       "      <td>9</td>\n",
       "      <td>5,517.49</td>\n",
       "    </tr>\n",
       "    <tr>\n",
       "      <td>6</td>\n",
       "      <td>10</td>\n",
       "      <td>5,822.49</td>\n",
       "    </tr>\n",
       "  </tbody>\n",
       "</table>\n",
       "</div>"
      ],
      "text/plain": [
       "   source_id      costs\n",
       "0          1  20,833.27\n",
       "1          2  42,806.04\n",
       "2          3 141,321.63\n",
       "3          4  61,073.60\n",
       "4          5  51,757.10\n",
       "5          9   5,517.49\n",
       "6         10   5,822.49"
      ]
     },
     "execution_count": 94,
     "metadata": {},
     "output_type": "execute_result"
    }
   ],
   "source": [
    "costs_by_source = costs.groupby('source_id').agg({'costs':'sum'})\n",
    "costs_by_source.reset_index()"
   ]
  },
  {
   "cell_type": "code",
   "execution_count": 95,
   "metadata": {},
   "outputs": [
    {
     "data": {
      "text/html": [
       "<div>\n",
       "<style scoped>\n",
       "    .dataframe tbody tr th:only-of-type {\n",
       "        vertical-align: middle;\n",
       "    }\n",
       "\n",
       "    .dataframe tbody tr th {\n",
       "        vertical-align: top;\n",
       "    }\n",
       "\n",
       "    .dataframe thead th {\n",
       "        text-align: right;\n",
       "    }\n",
       "</style>\n",
       "<table border=\"1\" class=\"dataframe\">\n",
       "  <thead>\n",
       "    <tr style=\"text-align: right;\">\n",
       "      <th></th>\n",
       "      <th>device</th>\n",
       "      <th>end_ts</th>\n",
       "      <th>source_id</th>\n",
       "      <th>start_ss</th>\n",
       "      <th>uid</th>\n",
       "      <th>day</th>\n",
       "      <th>day_number</th>\n",
       "      <th>month</th>\n",
       "      <th>year</th>\n",
       "      <th>week_number</th>\n",
       "      <th>day_of_week</th>\n",
       "      <th>month_name</th>\n",
       "      <th>session_duration_minutes</th>\n",
       "      <th>first_visit</th>\n",
       "      <th>visit_month</th>\n",
       "      <th>lifetime</th>\n",
       "      <th>first_buy_month</th>\n",
       "      <th>days_before_first_order</th>\n",
       "      <th>first_visit_full</th>\n",
       "    </tr>\n",
       "  </thead>\n",
       "  <tbody>\n",
       "    <tr>\n",
       "      <td>0</td>\n",
       "      <td>touch</td>\n",
       "      <td>2017-12-20 17:38:00</td>\n",
       "      <td>4</td>\n",
       "      <td>2017-12-20 17:20:00</td>\n",
       "      <td>16879256277535980062</td>\n",
       "      <td>2017-12-20</td>\n",
       "      <td>20</td>\n",
       "      <td>12</td>\n",
       "      <td>2017</td>\n",
       "      <td>2017-12-14</td>\n",
       "      <td>2017-12-20</td>\n",
       "      <td>2017-12-01</td>\n",
       "      <td>18.00</td>\n",
       "      <td>2017-12-01</td>\n",
       "      <td>2017-12-01</td>\n",
       "      <td>0</td>\n",
       "      <td>NaT</td>\n",
       "      <td>NaN</td>\n",
       "      <td>2017-12-20 17:20:00</td>\n",
       "    </tr>\n",
       "    <tr>\n",
       "      <td>1</td>\n",
       "      <td>desktop</td>\n",
       "      <td>2018-02-19 17:21:00</td>\n",
       "      <td>2</td>\n",
       "      <td>2018-02-19 16:53:00</td>\n",
       "      <td>104060357244891740</td>\n",
       "      <td>2018-02-19</td>\n",
       "      <td>19</td>\n",
       "      <td>2</td>\n",
       "      <td>2018</td>\n",
       "      <td>2018-02-15</td>\n",
       "      <td>2018-02-19</td>\n",
       "      <td>2018-02-01</td>\n",
       "      <td>28.00</td>\n",
       "      <td>2018-02-01</td>\n",
       "      <td>2018-02-01</td>\n",
       "      <td>0</td>\n",
       "      <td>NaT</td>\n",
       "      <td>NaN</td>\n",
       "      <td>2018-02-19 16:53:00</td>\n",
       "    </tr>\n",
       "    <tr>\n",
       "      <td>2</td>\n",
       "      <td>touch</td>\n",
       "      <td>2017-07-01 01:54:00</td>\n",
       "      <td>5</td>\n",
       "      <td>2017-07-01 01:54:00</td>\n",
       "      <td>7459035603376831527</td>\n",
       "      <td>2017-07-01</td>\n",
       "      <td>1</td>\n",
       "      <td>7</td>\n",
       "      <td>2017</td>\n",
       "      <td>2017-06-29</td>\n",
       "      <td>2017-07-01</td>\n",
       "      <td>2017-07-01</td>\n",
       "      <td>0.00</td>\n",
       "      <td>2017-07-01</td>\n",
       "      <td>2017-07-01</td>\n",
       "      <td>0</td>\n",
       "      <td>NaT</td>\n",
       "      <td>NaN</td>\n",
       "      <td>2017-07-01 01:54:00</td>\n",
       "    </tr>\n",
       "    <tr>\n",
       "      <td>4</td>\n",
       "      <td>desktop</td>\n",
       "      <td>2018-03-09 20:33:00</td>\n",
       "      <td>4</td>\n",
       "      <td>2018-03-09 20:05:00</td>\n",
       "      <td>16174680259334210214</td>\n",
       "      <td>2018-03-09</td>\n",
       "      <td>9</td>\n",
       "      <td>3</td>\n",
       "      <td>2018</td>\n",
       "      <td>2018-03-08</td>\n",
       "      <td>2018-03-09</td>\n",
       "      <td>2018-03-01</td>\n",
       "      <td>28.00</td>\n",
       "      <td>2018-03-01</td>\n",
       "      <td>2018-03-01</td>\n",
       "      <td>0</td>\n",
       "      <td>2018-03-01</td>\n",
       "      <td>0</td>\n",
       "      <td>2018-03-09 20:05:00</td>\n",
       "    </tr>\n",
       "    <tr>\n",
       "      <td>5</td>\n",
       "      <td>desktop</td>\n",
       "      <td>2017-12-27 14:06:00</td>\n",
       "      <td>3</td>\n",
       "      <td>2017-12-27 14:06:00</td>\n",
       "      <td>9969694820036681168</td>\n",
       "      <td>2017-12-27</td>\n",
       "      <td>27</td>\n",
       "      <td>12</td>\n",
       "      <td>2017</td>\n",
       "      <td>2017-12-21</td>\n",
       "      <td>2017-12-27</td>\n",
       "      <td>2017-12-01</td>\n",
       "      <td>0.00</td>\n",
       "      <td>2017-12-01</td>\n",
       "      <td>2017-12-01</td>\n",
       "      <td>0</td>\n",
       "      <td>NaT</td>\n",
       "      <td>NaN</td>\n",
       "      <td>2017-12-27 14:06:00</td>\n",
       "    </tr>\n",
       "    <tr>\n",
       "      <td>...</td>\n",
       "      <td>...</td>\n",
       "      <td>...</td>\n",
       "      <td>...</td>\n",
       "      <td>...</td>\n",
       "      <td>...</td>\n",
       "      <td>...</td>\n",
       "      <td>...</td>\n",
       "      <td>...</td>\n",
       "      <td>...</td>\n",
       "      <td>...</td>\n",
       "      <td>...</td>\n",
       "      <td>...</td>\n",
       "      <td>...</td>\n",
       "      <td>...</td>\n",
       "      <td>...</td>\n",
       "      <td>...</td>\n",
       "      <td>...</td>\n",
       "      <td>...</td>\n",
       "      <td>...</td>\n",
       "    </tr>\n",
       "    <tr>\n",
       "      <td>1023806</td>\n",
       "      <td>desktop</td>\n",
       "      <td>2018-04-23 21:19:00</td>\n",
       "      <td>10</td>\n",
       "      <td>2018-04-23 21:11:00</td>\n",
       "      <td>12734910664455613822</td>\n",
       "      <td>2018-04-23</td>\n",
       "      <td>23</td>\n",
       "      <td>4</td>\n",
       "      <td>2018</td>\n",
       "      <td>2018-04-19</td>\n",
       "      <td>2018-04-23</td>\n",
       "      <td>2018-04-01</td>\n",
       "      <td>8.00</td>\n",
       "      <td>2018-04-01</td>\n",
       "      <td>2018-04-01</td>\n",
       "      <td>0</td>\n",
       "      <td>2018-04-01</td>\n",
       "      <td>0</td>\n",
       "      <td>2018-04-23 21:11:00</td>\n",
       "    </tr>\n",
       "    <tr>\n",
       "      <td>1023807</td>\n",
       "      <td>desktop</td>\n",
       "      <td>2017-11-08 13:39:00</td>\n",
       "      <td>4</td>\n",
       "      <td>2017-11-08 13:39:00</td>\n",
       "      <td>6761309174945977743</td>\n",
       "      <td>2017-11-08</td>\n",
       "      <td>8</td>\n",
       "      <td>11</td>\n",
       "      <td>2017</td>\n",
       "      <td>2017-11-02</td>\n",
       "      <td>2017-11-08</td>\n",
       "      <td>2017-11-01</td>\n",
       "      <td>0.00</td>\n",
       "      <td>2017-11-01</td>\n",
       "      <td>2017-11-01</td>\n",
       "      <td>0</td>\n",
       "      <td>NaT</td>\n",
       "      <td>NaN</td>\n",
       "      <td>2017-11-08 13:39:00</td>\n",
       "    </tr>\n",
       "    <tr>\n",
       "      <td>1023808</td>\n",
       "      <td>desktop</td>\n",
       "      <td>2017-07-31 12:31:00</td>\n",
       "      <td>3</td>\n",
       "      <td>2017-07-31 12:13:00</td>\n",
       "      <td>11102751930812818282</td>\n",
       "      <td>2017-07-31</td>\n",
       "      <td>31</td>\n",
       "      <td>7</td>\n",
       "      <td>2017</td>\n",
       "      <td>2017-07-27</td>\n",
       "      <td>2017-07-31</td>\n",
       "      <td>2017-07-01</td>\n",
       "      <td>18.00</td>\n",
       "      <td>2017-07-01</td>\n",
       "      <td>2017-07-01</td>\n",
       "      <td>0</td>\n",
       "      <td>2017-07-01</td>\n",
       "      <td>0</td>\n",
       "      <td>2017-07-31 12:13:00</td>\n",
       "    </tr>\n",
       "    <tr>\n",
       "      <td>1023809</td>\n",
       "      <td>desktop</td>\n",
       "      <td>2018-03-20 15:25:00</td>\n",
       "      <td>4</td>\n",
       "      <td>2018-03-20 15:11:00</td>\n",
       "      <td>272012551460639309</td>\n",
       "      <td>2018-03-20</td>\n",
       "      <td>20</td>\n",
       "      <td>3</td>\n",
       "      <td>2018</td>\n",
       "      <td>2018-03-15</td>\n",
       "      <td>2018-03-20</td>\n",
       "      <td>2018-03-01</td>\n",
       "      <td>14.00</td>\n",
       "      <td>2018-03-01</td>\n",
       "      <td>2018-03-01</td>\n",
       "      <td>0</td>\n",
       "      <td>NaT</td>\n",
       "      <td>NaN</td>\n",
       "      <td>2018-03-20 15:11:00</td>\n",
       "    </tr>\n",
       "    <tr>\n",
       "      <td>1023810</td>\n",
       "      <td>touch</td>\n",
       "      <td>2018-04-03 11:23:00</td>\n",
       "      <td>5</td>\n",
       "      <td>2018-04-03 11:19:00</td>\n",
       "      <td>3266363999948772866</td>\n",
       "      <td>2018-04-03</td>\n",
       "      <td>3</td>\n",
       "      <td>4</td>\n",
       "      <td>2018</td>\n",
       "      <td>2018-03-29</td>\n",
       "      <td>2018-04-03</td>\n",
       "      <td>2018-04-01</td>\n",
       "      <td>4.00</td>\n",
       "      <td>2018-04-01</td>\n",
       "      <td>2018-04-01</td>\n",
       "      <td>0</td>\n",
       "      <td>NaT</td>\n",
       "      <td>NaN</td>\n",
       "      <td>2018-04-03 11:19:00</td>\n",
       "    </tr>\n",
       "  </tbody>\n",
       "</table>\n",
       "<p>242062 rows × 19 columns</p>\n",
       "</div>"
      ],
      "text/plain": [
       "          device              end_ts  source_id            start_ss  \\\n",
       "0          touch 2017-12-20 17:38:00          4 2017-12-20 17:20:00   \n",
       "1        desktop 2018-02-19 17:21:00          2 2018-02-19 16:53:00   \n",
       "2          touch 2017-07-01 01:54:00          5 2017-07-01 01:54:00   \n",
       "4        desktop 2018-03-09 20:33:00          4 2018-03-09 20:05:00   \n",
       "5        desktop 2017-12-27 14:06:00          3 2017-12-27 14:06:00   \n",
       "...          ...                 ...        ...                 ...   \n",
       "1023806  desktop 2018-04-23 21:19:00         10 2018-04-23 21:11:00   \n",
       "1023807  desktop 2017-11-08 13:39:00          4 2017-11-08 13:39:00   \n",
       "1023808  desktop 2017-07-31 12:31:00          3 2017-07-31 12:13:00   \n",
       "1023809  desktop 2018-03-20 15:25:00          4 2018-03-20 15:11:00   \n",
       "1023810    touch 2018-04-03 11:23:00          5 2018-04-03 11:19:00   \n",
       "\n",
       "                          uid         day  day_number  month  year  \\\n",
       "0        16879256277535980062  2017-12-20          20     12  2017   \n",
       "1          104060357244891740  2018-02-19          19      2  2018   \n",
       "2         7459035603376831527  2017-07-01           1      7  2017   \n",
       "4        16174680259334210214  2018-03-09           9      3  2018   \n",
       "5         9969694820036681168  2017-12-27          27     12  2017   \n",
       "...                       ...         ...         ...    ...   ...   \n",
       "1023806  12734910664455613822  2018-04-23          23      4  2018   \n",
       "1023807   6761309174945977743  2017-11-08           8     11  2017   \n",
       "1023808  11102751930812818282  2017-07-31          31      7  2017   \n",
       "1023809    272012551460639309  2018-03-20          20      3  2018   \n",
       "1023810   3266363999948772866  2018-04-03           3      4  2018   \n",
       "\n",
       "        week_number day_of_week month_name  session_duration_minutes  \\\n",
       "0        2017-12-14  2017-12-20 2017-12-01                     18.00   \n",
       "1        2018-02-15  2018-02-19 2018-02-01                     28.00   \n",
       "2        2017-06-29  2017-07-01 2017-07-01                      0.00   \n",
       "4        2018-03-08  2018-03-09 2018-03-01                     28.00   \n",
       "5        2017-12-21  2017-12-27 2017-12-01                      0.00   \n",
       "...             ...         ...        ...                       ...   \n",
       "1023806  2018-04-19  2018-04-23 2018-04-01                      8.00   \n",
       "1023807  2017-11-02  2017-11-08 2017-11-01                      0.00   \n",
       "1023808  2017-07-27  2017-07-31 2017-07-01                     18.00   \n",
       "1023809  2018-03-15  2018-03-20 2018-03-01                     14.00   \n",
       "1023810  2018-03-29  2018-04-03 2018-04-01                      4.00   \n",
       "\n",
       "        first_visit visit_month  lifetime first_buy_month  \\\n",
       "0        2017-12-01  2017-12-01         0             NaT   \n",
       "1        2018-02-01  2018-02-01         0             NaT   \n",
       "2        2017-07-01  2017-07-01         0             NaT   \n",
       "4        2018-03-01  2018-03-01         0      2018-03-01   \n",
       "5        2017-12-01  2017-12-01         0             NaT   \n",
       "...             ...         ...       ...             ...   \n",
       "1023806  2018-04-01  2018-04-01         0      2018-04-01   \n",
       "1023807  2017-11-01  2017-11-01         0             NaT   \n",
       "1023808  2017-07-01  2017-07-01         0      2017-07-01   \n",
       "1023809  2018-03-01  2018-03-01         0             NaT   \n",
       "1023810  2018-04-01  2018-04-01         0             NaT   \n",
       "\n",
       "         days_before_first_order    first_visit_full  \n",
       "0                            NaN 2017-12-20 17:20:00  \n",
       "1                            NaN 2018-02-19 16:53:00  \n",
       "2                            NaN 2017-07-01 01:54:00  \n",
       "4                              0 2018-03-09 20:05:00  \n",
       "5                            NaN 2017-12-27 14:06:00  \n",
       "...                          ...                 ...  \n",
       "1023806                        0 2018-04-23 21:11:00  \n",
       "1023807                      NaN 2017-11-08 13:39:00  \n",
       "1023808                        0 2017-07-31 12:13:00  \n",
       "1023809                      NaN 2018-03-20 15:11:00  \n",
       "1023810                      NaN 2018-04-03 11:19:00  \n",
       "\n",
       "[242062 rows x 19 columns]"
      ]
     },
     "execution_count": 95,
     "metadata": {},
     "output_type": "execute_result"
    }
   ],
   "source": [
    "visits_by_source"
   ]
  },
  {
   "cell_type": "code",
   "execution_count": 96,
   "metadata": {},
   "outputs": [
    {
     "data": {
      "text/html": [
       "<div>\n",
       "<style scoped>\n",
       "    .dataframe tbody tr th:only-of-type {\n",
       "        vertical-align: middle;\n",
       "    }\n",
       "\n",
       "    .dataframe tbody tr th {\n",
       "        vertical-align: top;\n",
       "    }\n",
       "\n",
       "    .dataframe thead th {\n",
       "        text-align: right;\n",
       "    }\n",
       "</style>\n",
       "<table border=\"1\" class=\"dataframe\">\n",
       "  <thead>\n",
       "    <tr style=\"text-align: right;\">\n",
       "      <th></th>\n",
       "      <th>source_id</th>\n",
       "      <th>revenue</th>\n",
       "    </tr>\n",
       "  </thead>\n",
       "  <tbody>\n",
       "    <tr>\n",
       "      <td>0</td>\n",
       "      <td>1</td>\n",
       "      <td>1,261,771.98</td>\n",
       "    </tr>\n",
       "    <tr>\n",
       "      <td>1</td>\n",
       "      <td>2</td>\n",
       "      <td>901,571.96</td>\n",
       "    </tr>\n",
       "    <tr>\n",
       "      <td>2</td>\n",
       "      <td>3</td>\n",
       "      <td>168,587.35</td>\n",
       "    </tr>\n",
       "    <tr>\n",
       "      <td>3</td>\n",
       "      <td>4</td>\n",
       "      <td>265,311.61</td>\n",
       "    </tr>\n",
       "    <tr>\n",
       "      <td>4</td>\n",
       "      <td>5</td>\n",
       "      <td>1,792,971.99</td>\n",
       "    </tr>\n",
       "    <tr>\n",
       "      <td>5</td>\n",
       "      <td>7</td>\n",
       "      <td>1.22</td>\n",
       "    </tr>\n",
       "    <tr>\n",
       "      <td>6</td>\n",
       "      <td>9</td>\n",
       "      <td>21,260.81</td>\n",
       "    </tr>\n",
       "    <tr>\n",
       "      <td>7</td>\n",
       "      <td>10</td>\n",
       "      <td>6,501.95</td>\n",
       "    </tr>\n",
       "  </tbody>\n",
       "</table>\n",
       "</div>"
      ],
      "text/plain": [
       "   source_id      revenue\n",
       "0          1 1,261,771.98\n",
       "1          2   901,571.96\n",
       "2          3   168,587.35\n",
       "3          4   265,311.61\n",
       "4          5 1,792,971.99\n",
       "5          7         1.22\n",
       "6          9    21,260.81\n",
       "7         10     6,501.95"
      ]
     },
     "execution_count": 96,
     "metadata": {},
     "output_type": "execute_result"
    }
   ],
   "source": [
    "revenue_by_source = (orders.merge(visits_by_source, on='uid', how='inner')).groupby('source_id').agg({'revenue':'sum'})\n",
    "revenue_by_source.reset_index()"
   ]
  },
  {
   "cell_type": "code",
   "execution_count": 97,
   "metadata": {},
   "outputs": [],
   "source": [
    "roi = revenue_by_source.join(costs_by_source)\n",
    "roi['roi'] = (roi['revenue'] - roi['costs']) / roi['costs']"
   ]
  },
  {
   "cell_type": "code",
   "execution_count": 98,
   "metadata": {},
   "outputs": [
    {
     "data": {
      "text/html": [
       "<div>\n",
       "<style scoped>\n",
       "    .dataframe tbody tr th:only-of-type {\n",
       "        vertical-align: middle;\n",
       "    }\n",
       "\n",
       "    .dataframe tbody tr th {\n",
       "        vertical-align: top;\n",
       "    }\n",
       "\n",
       "    .dataframe thead th {\n",
       "        text-align: right;\n",
       "    }\n",
       "</style>\n",
       "<table border=\"1\" class=\"dataframe\">\n",
       "  <thead>\n",
       "    <tr style=\"text-align: right;\">\n",
       "      <th></th>\n",
       "      <th>revenue</th>\n",
       "      <th>costs</th>\n",
       "      <th>roi</th>\n",
       "    </tr>\n",
       "    <tr>\n",
       "      <th>source_id</th>\n",
       "      <th></th>\n",
       "      <th></th>\n",
       "      <th></th>\n",
       "    </tr>\n",
       "  </thead>\n",
       "  <tbody>\n",
       "    <tr>\n",
       "      <td>1</td>\n",
       "      <td>1,261,771.98</td>\n",
       "      <td>20,833.27</td>\n",
       "      <td>59.57</td>\n",
       "    </tr>\n",
       "    <tr>\n",
       "      <td>5</td>\n",
       "      <td>1,792,971.99</td>\n",
       "      <td>51,757.10</td>\n",
       "      <td>33.64</td>\n",
       "    </tr>\n",
       "    <tr>\n",
       "      <td>2</td>\n",
       "      <td>901,571.96</td>\n",
       "      <td>42,806.04</td>\n",
       "      <td>20.06</td>\n",
       "    </tr>\n",
       "    <tr>\n",
       "      <td>4</td>\n",
       "      <td>265,311.61</td>\n",
       "      <td>61,073.60</td>\n",
       "      <td>3.34</td>\n",
       "    </tr>\n",
       "    <tr>\n",
       "      <td>9</td>\n",
       "      <td>21,260.81</td>\n",
       "      <td>5,517.49</td>\n",
       "      <td>2.85</td>\n",
       "    </tr>\n",
       "    <tr>\n",
       "      <td>3</td>\n",
       "      <td>168,587.35</td>\n",
       "      <td>141,321.63</td>\n",
       "      <td>0.19</td>\n",
       "    </tr>\n",
       "    <tr>\n",
       "      <td>10</td>\n",
       "      <td>6,501.95</td>\n",
       "      <td>5,822.49</td>\n",
       "      <td>0.12</td>\n",
       "    </tr>\n",
       "    <tr>\n",
       "      <td>7</td>\n",
       "      <td>1.22</td>\n",
       "      <td>nan</td>\n",
       "      <td>nan</td>\n",
       "    </tr>\n",
       "  </tbody>\n",
       "</table>\n",
       "</div>"
      ],
      "text/plain": [
       "               revenue      costs   roi\n",
       "source_id                              \n",
       "1         1,261,771.98  20,833.27 59.57\n",
       "5         1,792,971.99  51,757.10 33.64\n",
       "2           901,571.96  42,806.04 20.06\n",
       "4           265,311.61  61,073.60  3.34\n",
       "9            21,260.81   5,517.49  2.85\n",
       "3           168,587.35 141,321.63  0.19\n",
       "10            6,501.95   5,822.49  0.12\n",
       "7                 1.22        nan   nan"
      ]
     },
     "execution_count": 98,
     "metadata": {},
     "output_type": "execute_result"
    }
   ],
   "source": [
    "roi.sort_values('roi', ascending = False)"
   ]
  },
  {
   "cell_type": "code",
   "execution_count": 99,
   "metadata": {},
   "outputs": [
    {
     "data": {
      "text/plain": [
       "252053.77999999997"
      ]
     },
     "execution_count": 99,
     "metadata": {},
     "output_type": "execute_result"
    }
   ],
   "source": [
    "#Почему-то значительно начинает расходиться после слияния таблиц. Не понимаю в чём проблема :(\n",
    "orders['revenue'].sum()"
   ]
  },
  {
   "cell_type": "code",
   "execution_count": 100,
   "metadata": {},
   "outputs": [
    {
     "data": {
      "text/plain": [
       "4417978.869999332"
      ]
     },
     "execution_count": 100,
     "metadata": {},
     "output_type": "execute_result"
    }
   ],
   "source": [
    "revenue_by_source['revenue'].sum()"
   ]
  },
  {
   "cell_type": "code",
   "execution_count": 101,
   "metadata": {},
   "outputs": [],
   "source": [
    "revenue_by_source_and_device = (orders.merge(visits_by_source, on='uid', how='inner'))\\\n",
    "                                .groupby(['source_id', 'device']).agg({'revenue':'sum'})"
   ]
  },
  {
   "cell_type": "code",
   "execution_count": 102,
   "metadata": {},
   "outputs": [
    {
     "data": {
      "image/png": "[encoded data removed]",
      "text/plain": [
       "<Figure size 1152x648 with 1 Axes>"
      ]
     },
     "metadata": {
      "needs_background": "light"
     },
     "output_type": "display_data"
    }
   ],
   "source": [
    "plt.figure(figsize = (16, 9))\n",
    "ax = sns.barplot(x=\"source_id\", y=\"revenue\", hue=\"device\", data=revenue_by_source_and_device.reset_index())\n",
    "plt.title('Ревеню по источнику и устройству')\n",
    "ax.set_xlabel('Тип источника')\n",
    "ax.set_ylabel('Ревеню')\n",
    "plt.show()"
   ]
  },
  {
   "cell_type": "markdown",
   "metadata": {},
   "source": [
    "__Вывод:__\n",
    "\n",
    "Как было отмечено ранее, когорта 2017-09 одна из лучших для бизнеса, вышла на окупаемость уже на 3 месяц. Кроме неё окупилась только самая первая когорта, на 6ой месяц жизни. И вторая когорта наиболее близка к тому, чтобы окупиться. Можно отметить, что почти каждая когорта в нулевой месяц жизни окупает свое привлечение +- на половину. Далее, из-за больших потерь пользователей для каждой когорты, окупаемость уже растет не так быстро."
   ]
  },
  {
   "cell_type": "markdown",
   "metadata": {},
   "source": [
    "___"
   ]
  },
  {
   "cell_type": "markdown",
   "metadata": {},
   "source": [
    "# Общий вывод:\n",
    "В работе были достаточно качественные датасеты, ошибок и проблем с ними было мало.\n",
    "\n",
    "Что мы узнали о продукте и какие рекомендации можно дать. Как оказалось, retention Я.Афиши достаточно скромный (по крайней мере был), уже на первый месяц жизни к нам возвращается около 7% пользователей, и почти для каждой новой когорты этот показатель уменьшается. Что неминуемо сказывается на прибыли, окупились все 5 когорт, хотя по некоторым из них затраты на маркетинг достаточно высокие. Необходимо работать над удержанием пользователей, стимулировать их совершать больше покупок, устаривать акции и т.п.\n",
    "Так же есть смысл пересмотреть вложения в источники под номером 3 и 10, т.к. доходы по сравнению с вложениями минимальны. \n",
    "\n",
    "Как показали графики выше, мы получаем больше всего пользователей из источника 4, в то время как тратим на привлечение не так много денег. Как минимум можно взять большу часть бюджета 2го источника и перенаправить на 4ый. Так как из второго мы получаем малый отклик. Аналогично нужно поступить с 5ым, его пользователи не дорогие, но оттуда мы имеем хороший поток посетителей, сопоставымий с 3им, который несмотря на свою дороговизну не оправдывает ожиданий.\n",
    "\n",
    "Нелишним будет дополнительно изучить среднее время покупки на мобильных устройствах, почему-то оно значительно выше чем у десктопов. Наверняка есть вопросы при оплате, либо заказе.."
   ]
  },
  {
   "cell_type": "code",
   "execution_count": null,
   "metadata": {},
   "outputs": [],
   "source": []
  }
 ],
 "metadata": {
  "ExecuteTimeLog": [
   {
    "duration": 1506,
    "start_time": "2021-07-25T17:27:25.522Z"
   },
   {
    "duration": 4,
    "start_time": "2021-07-25T17:27:27.031Z"
   },
   {
    "duration": 839,
    "start_time": "2021-07-25T17:27:27.038Z"
   },
   {
    "duration": 16,
    "start_time": "2021-07-25T17:27:27.880Z"
   },
   {
    "duration": 61,
    "start_time": "2021-07-25T17:27:28.024Z"
   },
   {
    "duration": 356,
    "start_time": "2021-07-25T17:27:28.616Z"
   },
   {
    "duration": 5,
    "start_time": "2021-07-25T17:27:28.975Z"
   },
   {
    "duration": 4,
    "start_time": "2021-07-25T17:27:29.190Z"
   },
   {
    "duration": 249,
    "start_time": "2021-07-25T17:27:29.378Z"
   },
   {
    "duration": 34,
    "start_time": "2021-07-25T17:27:29.631Z"
   },
   {
    "duration": 10,
    "start_time": "2021-07-25T17:27:29.939Z"
   },
   {
    "duration": 12,
    "start_time": "2021-07-25T17:27:30.168Z"
   },
   {
    "duration": 23,
    "start_time": "2021-07-25T17:27:30.357Z"
   },
   {
    "duration": 5,
    "start_time": "2021-07-25T17:27:30.530Z"
   },
   {
    "duration": 5,
    "start_time": "2021-07-25T17:27:30.720Z"
   },
   {
    "duration": 12,
    "start_time": "2021-07-25T17:27:31.015Z"
   },
   {
    "duration": 24,
    "start_time": "2021-07-25T17:27:31.215Z"
   },
   {
    "duration": 11,
    "start_time": "2021-07-25T17:27:31.379Z"
   },
   {
    "duration": 17,
    "start_time": "2021-07-25T17:27:31.712Z"
   },
   {
    "duration": 13,
    "start_time": "2021-07-25T17:27:31.886Z"
   },
   {
    "duration": 8,
    "start_time": "2021-07-25T17:27:32.254Z"
   },
   {
    "duration": 5,
    "start_time": "2021-07-25T17:27:32.461Z"
   },
   {
    "duration": 9,
    "start_time": "2021-07-25T17:27:32.651Z"
   },
   {
    "duration": 8937,
    "start_time": "2021-07-25T17:29:16.960Z"
   },
   {
    "duration": 9066,
    "start_time": "2021-07-25T17:29:54.675Z"
   },
   {
    "duration": 402,
    "start_time": "2021-07-25T17:30:07.131Z"
   },
   {
    "duration": 26,
    "start_time": "2021-07-25T17:30:12.366Z"
   },
   {
    "duration": 14,
    "start_time": "2021-07-25T17:30:14.946Z"
   },
   {
    "duration": 15,
    "start_time": "2021-07-25T17:31:18.398Z"
   },
   {
    "duration": 680,
    "start_time": "2021-07-25T17:32:49.732Z"
   },
   {
    "duration": 487,
    "start_time": "2021-07-25T17:35:04.703Z"
   },
   {
    "duration": 22,
    "start_time": "2021-07-25T17:35:07.693Z"
   },
   {
    "duration": 181,
    "start_time": "2021-07-25T17:35:08.416Z"
   },
   {
    "duration": 130,
    "start_time": "2021-07-25T17:35:09.292Z"
   },
   {
    "duration": 100,
    "start_time": "2021-07-25T17:35:10.261Z"
   },
   {
    "duration": 33,
    "start_time": "2021-07-25T17:41:14.790Z"
   },
   {
    "duration": 54,
    "start_time": "2021-07-25T17:41:22.834Z"
   },
   {
    "duration": 14,
    "start_time": "2021-07-25T17:43:42.010Z"
   },
   {
    "duration": 406,
    "start_time": "2021-07-25T17:46:59.964Z"
   },
   {
    "duration": 44,
    "start_time": "2021-07-25T17:47:07.946Z"
   },
   {
    "duration": 6,
    "start_time": "2021-07-25T17:47:20.090Z"
   },
   {
    "duration": 3,
    "start_time": "2021-07-25T17:47:23.789Z"
   },
   {
    "duration": 13,
    "start_time": "2021-07-25T17:49:35.450Z"
   },
   {
    "duration": 44,
    "start_time": "2021-07-25T17:49:58.350Z"
   },
   {
    "duration": 7,
    "start_time": "2021-07-25T17:49:58.884Z"
   },
   {
    "duration": 373,
    "start_time": "2021-07-25T18:07:52.885Z"
   },
   {
    "duration": 44,
    "start_time": "2021-07-25T18:08:12.720Z"
   },
   {
    "duration": 7,
    "start_time": "2021-07-25T18:08:13.452Z"
   },
   {
    "duration": 17,
    "start_time": "2021-07-25T18:08:14.857Z"
   },
   {
    "duration": 30,
    "start_time": "2021-07-25T18:08:15.342Z"
   },
   {
    "duration": 47,
    "start_time": "2021-07-25T18:08:16.505Z"
   },
   {
    "duration": 28,
    "start_time": "2021-07-25T18:08:16.751Z"
   },
   {
    "duration": 16,
    "start_time": "2021-07-25T18:08:17.139Z"
   },
   {
    "duration": 347,
    "start_time": "2021-07-25T18:08:17.507Z"
   },
   {
    "duration": 20,
    "start_time": "2021-07-25T18:08:18.793Z"
   },
   {
    "duration": 302,
    "start_time": "2021-07-25T18:08:20.807Z"
   },
   {
    "duration": 66,
    "start_time": "2021-07-25T18:08:22.773Z"
   },
   {
    "duration": 162,
    "start_time": "2021-07-25T18:08:23.997Z"
   },
   {
    "duration": 15,
    "start_time": "2021-07-25T18:08:24.469Z"
   },
   {
    "duration": 9,
    "start_time": "2021-07-25T18:08:26.196Z"
   },
   {
    "duration": 16,
    "start_time": "2021-07-25T18:08:26.819Z"
   },
   {
    "duration": 62,
    "start_time": "2021-07-25T18:08:28.262Z"
   },
   {
    "duration": 24,
    "start_time": "2021-07-25T18:08:37.108Z"
   },
   {
    "duration": 14,
    "start_time": "2021-07-25T18:08:40.298Z"
   },
   {
    "duration": 376,
    "start_time": "2021-07-25T18:09:40.615Z"
   },
   {
    "duration": 376,
    "start_time": "2021-07-25T18:09:44.413Z"
   },
   {
    "duration": 419,
    "start_time": "2021-07-25T18:10:07.172Z"
   },
   {
    "duration": 6,
    "start_time": "2021-07-25T18:10:12.391Z"
   },
   {
    "duration": 354,
    "start_time": "2021-07-25T18:10:18.640Z"
   },
   {
    "duration": 44,
    "start_time": "2021-07-25T18:10:25.378Z"
   },
   {
    "duration": 21,
    "start_time": "2021-07-25T18:10:26.025Z"
   },
   {
    "duration": 1115,
    "start_time": "2021-07-25T18:11:49.530Z"
   },
   {
    "duration": 988,
    "start_time": "2021-07-25T18:13:02.263Z"
   },
   {
    "duration": 363,
    "start_time": "2021-07-25T18:13:48.753Z"
   },
   {
    "duration": 1070,
    "start_time": "2021-07-25T18:14:42.156Z"
   },
   {
    "duration": 51,
    "start_time": "2021-07-25T18:16:09.287Z"
   },
   {
    "duration": 963,
    "start_time": "2021-07-25T18:16:24.008Z"
   },
   {
    "duration": 38,
    "start_time": "2021-07-25T18:17:36.157Z"
   },
   {
    "duration": 952,
    "start_time": "2021-07-25T18:17:52.923Z"
   },
   {
    "duration": 41,
    "start_time": "2021-07-25T18:18:35.427Z"
   },
   {
    "duration": 1058,
    "start_time": "2021-07-25T18:18:37.854Z"
   },
   {
    "duration": 41,
    "start_time": "2021-07-25T18:18:44.483Z"
   },
   {
    "duration": 954,
    "start_time": "2021-07-25T18:18:45.988Z"
   },
   {
    "duration": 1585,
    "start_time": "2021-07-25T18:19:02.121Z"
   },
   {
    "duration": 8,
    "start_time": "2021-07-25T18:19:03.711Z"
   },
   {
    "duration": 874,
    "start_time": "2021-07-25T18:19:03.723Z"
   },
   {
    "duration": 25,
    "start_time": "2021-07-25T18:19:04.601Z"
   },
   {
    "duration": 86,
    "start_time": "2021-07-25T18:19:04.634Z"
   },
   {
    "duration": 419,
    "start_time": "2021-07-25T18:19:04.724Z"
   },
   {
    "duration": 5,
    "start_time": "2021-07-25T18:19:05.147Z"
   },
   {
    "duration": 22,
    "start_time": "2021-07-25T18:19:05.156Z"
   },
   {
    "duration": 280,
    "start_time": "2021-07-25T18:19:05.181Z"
   },
   {
    "duration": 42,
    "start_time": "2021-07-25T18:19:05.463Z"
   },
   {
    "duration": 19,
    "start_time": "2021-07-25T18:19:05.508Z"
   },
   {
    "duration": 19,
    "start_time": "2021-07-25T18:19:05.531Z"
   },
   {
    "duration": 9,
    "start_time": "2021-07-25T18:19:05.552Z"
   },
   {
    "duration": 49,
    "start_time": "2021-07-25T18:19:05.563Z"
   },
   {
    "duration": 34,
    "start_time": "2021-07-25T18:19:05.615Z"
   },
   {
    "duration": 5,
    "start_time": "2021-07-25T18:19:05.652Z"
   },
   {
    "duration": 19,
    "start_time": "2021-07-25T18:19:05.659Z"
   },
   {
    "duration": 32,
    "start_time": "2021-07-25T18:19:05.680Z"
   },
   {
    "duration": 23,
    "start_time": "2021-07-25T18:19:05.716Z"
   },
   {
    "duration": 11,
    "start_time": "2021-07-25T18:19:05.742Z"
   },
   {
    "duration": 12,
    "start_time": "2021-07-25T18:19:05.756Z"
   },
   {
    "duration": 38,
    "start_time": "2021-07-25T18:19:05.771Z"
   },
   {
    "duration": 10,
    "start_time": "2021-07-25T18:19:05.818Z"
   },
   {
    "duration": 6,
    "start_time": "2021-07-25T18:19:05.838Z"
   },
   {
    "duration": 18,
    "start_time": "2021-07-25T18:19:05.847Z"
   },
   {
    "duration": 45,
    "start_time": "2021-07-25T18:19:05.867Z"
   },
   {
    "duration": 480,
    "start_time": "2021-07-25T18:19:05.915Z"
   },
   {
    "duration": 32,
    "start_time": "2021-07-25T18:19:06.397Z"
   },
   {
    "duration": 212,
    "start_time": "2021-07-25T18:19:06.432Z"
   },
   {
    "duration": 132,
    "start_time": "2021-07-25T18:19:06.646Z"
   },
   {
    "duration": 103,
    "start_time": "2021-07-25T18:19:06.781Z"
   },
   {
    "duration": 15,
    "start_time": "2021-07-25T18:19:06.887Z"
   },
   {
    "duration": 55,
    "start_time": "2021-07-25T18:19:06.905Z"
   },
   {
    "duration": 665,
    "start_time": "2021-07-25T18:19:06.963Z"
   },
   {
    "duration": 1728,
    "start_time": "2021-07-25T18:19:05.904Z"
   },
   {
    "duration": 1722,
    "start_time": "2021-07-25T18:19:05.911Z"
   },
   {
    "duration": 1718,
    "start_time": "2021-07-25T18:19:05.917Z"
   },
   {
    "duration": 1714,
    "start_time": "2021-07-25T18:19:05.922Z"
   },
   {
    "duration": 1708,
    "start_time": "2021-07-25T18:19:05.929Z"
   },
   {
    "duration": 1706,
    "start_time": "2021-07-25T18:19:05.933Z"
   },
   {
    "duration": 1703,
    "start_time": "2021-07-25T18:19:05.937Z"
   },
   {
    "duration": 1702,
    "start_time": "2021-07-25T18:19:05.940Z"
   },
   {
    "duration": 1700,
    "start_time": "2021-07-25T18:19:05.943Z"
   },
   {
    "duration": 1699,
    "start_time": "2021-07-25T18:19:05.946Z"
   },
   {
    "duration": 1698,
    "start_time": "2021-07-25T18:19:05.949Z"
   },
   {
    "duration": 1697,
    "start_time": "2021-07-25T18:19:05.952Z"
   },
   {
    "duration": 1696,
    "start_time": "2021-07-25T18:19:05.955Z"
   },
   {
    "duration": 1695,
    "start_time": "2021-07-25T18:19:05.958Z"
   },
   {
    "duration": 1694,
    "start_time": "2021-07-25T18:19:05.961Z"
   },
   {
    "duration": 1685,
    "start_time": "2021-07-25T18:19:05.971Z"
   },
   {
    "duration": 1685,
    "start_time": "2021-07-25T18:19:05.973Z"
   },
   {
    "duration": 1683,
    "start_time": "2021-07-25T18:19:05.976Z"
   },
   {
    "duration": 1682,
    "start_time": "2021-07-25T18:19:05.979Z"
   },
   {
    "duration": 1681,
    "start_time": "2021-07-25T18:19:05.982Z"
   },
   {
    "duration": 1680,
    "start_time": "2021-07-25T18:19:05.984Z"
   },
   {
    "duration": 1678,
    "start_time": "2021-07-25T18:19:05.987Z"
   },
   {
    "duration": 1677,
    "start_time": "2021-07-25T18:19:05.990Z"
   },
   {
    "duration": 1676,
    "start_time": "2021-07-25T18:19:05.993Z"
   },
   {
    "duration": 1675,
    "start_time": "2021-07-25T18:19:05.995Z"
   },
   {
    "duration": 1702,
    "start_time": "2021-07-25T18:19:05.998Z"
   },
   {
    "duration": 1701,
    "start_time": "2021-07-25T18:19:06.000Z"
   },
   {
    "duration": 1700,
    "start_time": "2021-07-25T18:19:06.003Z"
   },
   {
    "duration": 1698,
    "start_time": "2021-07-25T18:19:06.006Z"
   },
   {
    "duration": 1670,
    "start_time": "2021-07-25T18:19:06.036Z"
   },
   {
    "duration": 1670,
    "start_time": "2021-07-25T18:19:06.039Z"
   },
   {
    "duration": 1665,
    "start_time": "2021-07-25T18:19:06.048Z"
   },
   {
    "duration": 1669,
    "start_time": "2021-07-25T18:19:06.051Z"
   },
   {
    "duration": 1653,
    "start_time": "2021-07-25T18:19:06.069Z"
   },
   {
    "duration": 1651,
    "start_time": "2021-07-25T18:19:06.073Z"
   },
   {
    "duration": 1649,
    "start_time": "2021-07-25T18:19:06.076Z"
   },
   {
    "duration": 1649,
    "start_time": "2021-07-25T18:19:06.079Z"
   },
   {
    "duration": 1645,
    "start_time": "2021-07-25T18:19:06.084Z"
   },
   {
    "duration": 1644,
    "start_time": "2021-07-25T18:19:06.087Z"
   },
   {
    "duration": 1634,
    "start_time": "2021-07-25T18:19:06.099Z"
   },
   {
    "duration": 1634,
    "start_time": "2021-07-25T18:19:06.101Z"
   },
   {
    "duration": 1632,
    "start_time": "2021-07-25T18:19:06.104Z"
   },
   {
    "duration": 1631,
    "start_time": "2021-07-25T18:19:06.107Z"
   },
   {
    "duration": 1631,
    "start_time": "2021-07-25T18:19:06.109Z"
   },
   {
    "duration": 1628,
    "start_time": "2021-07-25T18:19:06.113Z"
   },
   {
    "duration": 1627,
    "start_time": "2021-07-25T18:19:06.116Z"
   },
   {
    "duration": 1625,
    "start_time": "2021-07-25T18:19:06.119Z"
   },
   {
    "duration": 1617,
    "start_time": "2021-07-25T18:19:06.129Z"
   },
   {
    "duration": 1614,
    "start_time": "2021-07-25T18:19:06.133Z"
   },
   {
    "duration": 1614,
    "start_time": "2021-07-25T18:19:06.135Z"
   },
   {
    "duration": 1610,
    "start_time": "2021-07-25T18:19:06.140Z"
   },
   {
    "duration": 1608,
    "start_time": "2021-07-25T18:19:36.923Z"
   },
   {
    "duration": 4,
    "start_time": "2021-07-25T18:19:38.534Z"
   },
   {
    "duration": 896,
    "start_time": "2021-07-25T18:19:38.541Z"
   },
   {
    "duration": 16,
    "start_time": "2021-07-25T18:19:39.440Z"
   },
   {
    "duration": 85,
    "start_time": "2021-07-25T18:19:39.458Z"
   },
   {
    "duration": 419,
    "start_time": "2021-07-25T18:19:39.546Z"
   },
   {
    "duration": 5,
    "start_time": "2021-07-25T18:19:39.967Z"
   },
   {
    "duration": 10,
    "start_time": "2021-07-25T18:19:39.976Z"
   },
   {
    "duration": 265,
    "start_time": "2021-07-25T18:19:40.008Z"
   },
   {
    "duration": 45,
    "start_time": "2021-07-25T18:19:40.276Z"
   },
   {
    "duration": 16,
    "start_time": "2021-07-25T18:19:40.324Z"
   },
   {
    "duration": 18,
    "start_time": "2021-07-25T18:19:40.343Z"
   },
   {
    "duration": 57,
    "start_time": "2021-07-25T18:19:40.364Z"
   },
   {
    "duration": 18,
    "start_time": "2021-07-25T18:19:40.425Z"
   },
   {
    "duration": 32,
    "start_time": "2021-07-25T18:19:40.446Z"
   },
   {
    "duration": 32,
    "start_time": "2021-07-25T18:19:40.481Z"
   },
   {
    "duration": 9,
    "start_time": "2021-07-25T18:19:40.517Z"
   },
   {
    "duration": 15,
    "start_time": "2021-07-25T18:19:40.530Z"
   },
   {
    "duration": 21,
    "start_time": "2021-07-25T18:19:40.550Z"
   },
   {
    "duration": 16,
    "start_time": "2021-07-25T18:19:40.613Z"
   },
   {
    "duration": 10,
    "start_time": "2021-07-25T18:19:40.632Z"
   },
   {
    "duration": 9,
    "start_time": "2021-07-25T18:19:40.644Z"
   },
   {
    "duration": 7,
    "start_time": "2021-07-25T18:19:40.659Z"
   },
   {
    "duration": 37,
    "start_time": "2021-07-25T18:19:40.670Z"
   },
   {
    "duration": 19,
    "start_time": "2021-07-25T18:19:40.710Z"
   },
   {
    "duration": 15,
    "start_time": "2021-07-25T18:19:40.732Z"
   },
   {
    "duration": 499,
    "start_time": "2021-07-25T18:19:40.750Z"
   },
   {
    "duration": 21,
    "start_time": "2021-07-25T18:19:41.252Z"
   },
   {
    "duration": 210,
    "start_time": "2021-07-25T18:19:41.276Z"
   },
   {
    "duration": 142,
    "start_time": "2021-07-25T18:19:41.488Z"
   },
   {
    "duration": 117,
    "start_time": "2021-07-25T18:19:41.633Z"
   },
   {
    "duration": 6,
    "start_time": "2021-07-25T18:19:41.753Z"
   },
   {
    "duration": 68,
    "start_time": "2021-07-25T18:19:41.762Z"
   },
   {
    "duration": 74,
    "start_time": "2021-07-25T18:19:41.834Z"
   },
   {
    "duration": 13,
    "start_time": "2021-07-25T18:19:41.911Z"
   },
   {
    "duration": 18,
    "start_time": "2021-07-25T18:19:41.926Z"
   },
   {
    "duration": 56,
    "start_time": "2021-07-25T18:19:41.946Z"
   },
   {
    "duration": 53,
    "start_time": "2021-07-25T18:19:42.004Z"
   },
   {
    "duration": 50,
    "start_time": "2021-07-25T18:19:42.060Z"
   },
   {
    "duration": 19,
    "start_time": "2021-07-25T18:19:42.113Z"
   },
   {
    "duration": 436,
    "start_time": "2021-07-25T18:19:42.134Z"
   },
   {
    "duration": 30,
    "start_time": "2021-07-25T18:19:42.572Z"
   },
   {
    "duration": 335,
    "start_time": "2021-07-25T18:19:42.606Z"
   },
   {
    "duration": 72,
    "start_time": "2021-07-25T18:19:42.944Z"
   },
   {
    "duration": 164,
    "start_time": "2021-07-25T18:19:43.019Z"
   },
   {
    "duration": 33,
    "start_time": "2021-07-25T18:19:43.185Z"
   },
   {
    "duration": 10,
    "start_time": "2021-07-25T18:19:43.224Z"
   },
   {
    "duration": 20,
    "start_time": "2021-07-25T18:19:43.237Z"
   },
   {
    "duration": 75,
    "start_time": "2021-07-25T18:19:43.261Z"
   },
   {
    "duration": 1067,
    "start_time": "2021-07-25T18:19:43.339Z"
   },
   {
    "duration": 1716,
    "start_time": "2021-07-25T18:19:42.695Z"
   },
   {
    "duration": 1710,
    "start_time": "2021-07-25T18:19:42.703Z"
   },
   {
    "duration": 1705,
    "start_time": "2021-07-25T18:19:42.710Z"
   },
   {
    "duration": 1703,
    "start_time": "2021-07-25T18:19:42.714Z"
   },
   {
    "duration": 1701,
    "start_time": "2021-07-25T18:19:42.717Z"
   },
   {
    "duration": 1700,
    "start_time": "2021-07-25T18:19:42.720Z"
   },
   {
    "duration": 1698,
    "start_time": "2021-07-25T18:19:42.724Z"
   },
   {
    "duration": 1696,
    "start_time": "2021-07-25T18:19:42.727Z"
   },
   {
    "duration": 1694,
    "start_time": "2021-07-25T18:19:42.730Z"
   },
   {
    "duration": 1693,
    "start_time": "2021-07-25T18:19:42.734Z"
   },
   {
    "duration": 1690,
    "start_time": "2021-07-25T18:19:42.738Z"
   },
   {
    "duration": 1690,
    "start_time": "2021-07-25T18:19:42.740Z"
   },
   {
    "duration": 1688,
    "start_time": "2021-07-25T18:19:42.744Z"
   },
   {
    "duration": 1680,
    "start_time": "2021-07-25T18:19:42.754Z"
   },
   {
    "duration": 1678,
    "start_time": "2021-07-25T18:19:42.757Z"
   },
   {
    "duration": 1676,
    "start_time": "2021-07-25T18:19:42.761Z"
   },
   {
    "duration": 1673,
    "start_time": "2021-07-25T18:19:42.765Z"
   },
   {
    "duration": 1672,
    "start_time": "2021-07-25T18:19:42.768Z"
   },
   {
    "duration": 1670,
    "start_time": "2021-07-25T18:19:42.771Z"
   },
   {
    "duration": 1668,
    "start_time": "2021-07-25T18:19:42.774Z"
   },
   {
    "duration": 1660,
    "start_time": "2021-07-25T18:19:42.783Z"
   },
   {
    "duration": 1659,
    "start_time": "2021-07-25T18:19:42.786Z"
   },
   {
    "duration": 1657,
    "start_time": "2021-07-25T18:19:42.789Z"
   },
   {
    "duration": 1654,
    "start_time": "2021-07-25T18:19:42.793Z"
   },
   {
    "duration": 1652,
    "start_time": "2021-07-25T18:19:42.796Z"
   },
   {
    "duration": 1650,
    "start_time": "2021-07-25T18:19:42.800Z"
   },
   {
    "duration": 1646,
    "start_time": "2021-07-25T18:19:42.805Z"
   },
   {
    "duration": 1690,
    "start_time": "2021-07-25T18:19:42.810Z"
   },
   {
    "duration": 1689,
    "start_time": "2021-07-25T18:19:42.813Z"
   },
   {
    "duration": 1687,
    "start_time": "2021-07-25T18:19:42.816Z"
   },
   {
    "duration": 1684,
    "start_time": "2021-07-25T18:19:42.820Z"
   },
   {
    "duration": 1683,
    "start_time": "2021-07-25T18:19:42.823Z"
   },
   {
    "duration": 1675,
    "start_time": "2021-07-25T18:19:42.832Z"
   },
   {
    "duration": 1673,
    "start_time": "2021-07-25T18:19:42.835Z"
   },
   {
    "duration": 1672,
    "start_time": "2021-07-25T18:19:42.838Z"
   },
   {
    "duration": 5,
    "start_time": "2021-07-25T18:21:20.568Z"
   },
   {
    "duration": 372,
    "start_time": "2021-07-25T18:21:24.382Z"
   },
   {
    "duration": 39,
    "start_time": "2021-07-25T18:21:30.969Z"
   },
   {
    "duration": 773,
    "start_time": "2021-07-25T18:21:34.750Z"
   },
   {
    "duration": 34,
    "start_time": "2021-07-25T18:21:59.431Z"
   },
   {
    "duration": 820,
    "start_time": "2021-07-25T18:22:00.565Z"
   },
   {
    "duration": 34,
    "start_time": "2021-07-25T18:22:27.891Z"
   },
   {
    "duration": 1222,
    "start_time": "2021-07-25T18:22:28.594Z"
   },
   {
    "duration": 30,
    "start_time": "2021-07-25T18:23:01.864Z"
   },
   {
    "duration": 1515,
    "start_time": "2021-07-25T18:23:02.592Z"
   },
   {
    "duration": 33,
    "start_time": "2021-07-25T18:23:14.236Z"
   },
   {
    "duration": 796,
    "start_time": "2021-07-25T18:23:15.172Z"
   },
   {
    "duration": 44,
    "start_time": "2021-07-25T18:23:20.178Z"
   },
   {
    "duration": 801,
    "start_time": "2021-07-25T18:23:21.931Z"
   },
   {
    "duration": 34,
    "start_time": "2021-07-25T18:23:28.547Z"
   },
   {
    "duration": 767,
    "start_time": "2021-07-25T18:23:29.578Z"
   },
   {
    "duration": 1544,
    "start_time": "2021-07-25T18:23:40.145Z"
   },
   {
    "duration": 9,
    "start_time": "2021-07-25T18:23:41.693Z"
   },
   {
    "duration": 808,
    "start_time": "2021-07-25T18:23:41.706Z"
   },
   {
    "duration": 16,
    "start_time": "2021-07-25T18:23:42.517Z"
   },
   {
    "duration": 77,
    "start_time": "2021-07-25T18:23:42.536Z"
   },
   {
    "duration": 356,
    "start_time": "2021-07-25T18:23:42.615Z"
   },
   {
    "duration": 6,
    "start_time": "2021-07-25T18:23:42.973Z"
   },
   {
    "duration": 11,
    "start_time": "2021-07-25T18:23:43.000Z"
   },
   {
    "duration": 248,
    "start_time": "2021-07-25T18:23:43.015Z"
   },
   {
    "duration": 38,
    "start_time": "2021-07-25T18:23:43.265Z"
   },
   {
    "duration": 13,
    "start_time": "2021-07-25T18:23:43.306Z"
   },
   {
    "duration": 21,
    "start_time": "2021-07-25T18:23:43.322Z"
   },
   {
    "duration": 10,
    "start_time": "2021-07-25T18:23:43.345Z"
   },
   {
    "duration": 55,
    "start_time": "2021-07-25T18:23:43.357Z"
   },
   {
    "duration": 23,
    "start_time": "2021-07-25T18:23:43.415Z"
   },
   {
    "duration": 5,
    "start_time": "2021-07-25T18:23:43.441Z"
   },
   {
    "duration": 9,
    "start_time": "2021-07-25T18:23:43.448Z"
   },
   {
    "duration": 9,
    "start_time": "2021-07-25T18:23:43.460Z"
   },
   {
    "duration": 52,
    "start_time": "2021-07-25T18:23:43.472Z"
   },
   {
    "duration": 11,
    "start_time": "2021-07-25T18:23:43.527Z"
   },
   {
    "duration": 10,
    "start_time": "2021-07-25T18:23:43.540Z"
   },
   {
    "duration": 9,
    "start_time": "2021-07-25T18:23:43.553Z"
   },
   {
    "duration": 9,
    "start_time": "2021-07-25T18:23:43.606Z"
   },
   {
    "duration": 5,
    "start_time": "2021-07-25T18:23:43.622Z"
   },
   {
    "duration": 10,
    "start_time": "2021-07-25T18:23:43.629Z"
   },
   {
    "duration": 14,
    "start_time": "2021-07-25T18:23:43.641Z"
   },
   {
    "duration": 470,
    "start_time": "2021-07-25T18:23:43.657Z"
   },
   {
    "duration": 20,
    "start_time": "2021-07-25T18:23:44.129Z"
   },
   {
    "duration": 195,
    "start_time": "2021-07-25T18:23:44.152Z"
   },
   {
    "duration": 122,
    "start_time": "2021-07-25T18:23:44.350Z"
   },
   {
    "duration": 98,
    "start_time": "2021-07-25T18:23:44.474Z"
   },
   {
    "duration": 5,
    "start_time": "2021-07-25T18:23:44.574Z"
   },
   {
    "duration": 49,
    "start_time": "2021-07-25T18:23:44.581Z"
   },
   {
    "duration": 68,
    "start_time": "2021-07-25T18:23:44.632Z"
   },
   {
    "duration": 15,
    "start_time": "2021-07-25T18:23:44.705Z"
   },
   {
    "duration": 16,
    "start_time": "2021-07-25T18:23:44.724Z"
   },
   {
    "duration": 26,
    "start_time": "2021-07-25T18:23:44.742Z"
   },
   {
    "duration": 44,
    "start_time": "2021-07-25T18:23:44.804Z"
   },
   {
    "duration": 24,
    "start_time": "2021-07-25T18:23:44.851Z"
   },
   {
    "duration": 16,
    "start_time": "2021-07-25T18:23:44.909Z"
   },
   {
    "duration": 352,
    "start_time": "2021-07-25T18:23:44.928Z"
   },
   {
    "duration": 29,
    "start_time": "2021-07-25T18:23:45.283Z"
   },
   {
    "duration": 295,
    "start_time": "2021-07-25T18:23:45.315Z"
   },
   {
    "duration": 58,
    "start_time": "2021-07-25T18:23:45.612Z"
   },
   {
    "duration": 168,
    "start_time": "2021-07-25T18:23:45.672Z"
   },
   {
    "duration": 17,
    "start_time": "2021-07-25T18:23:45.843Z"
   },
   {
    "duration": 9,
    "start_time": "2021-07-25T18:23:45.863Z"
   },
   {
    "duration": 47,
    "start_time": "2021-07-25T18:23:45.874Z"
   },
   {
    "duration": 37,
    "start_time": "2021-07-25T18:23:45.924Z"
   },
   {
    "duration": 966,
    "start_time": "2021-07-25T18:23:45.964Z"
   },
   {
    "duration": 1731,
    "start_time": "2021-07-25T18:23:45.204Z"
   },
   {
    "duration": 1727,
    "start_time": "2021-07-25T18:23:45.210Z"
   },
   {
    "duration": 1721,
    "start_time": "2021-07-25T18:23:45.218Z"
   },
   {
    "duration": 1717,
    "start_time": "2021-07-25T18:23:45.224Z"
   },
   {
    "duration": 1712,
    "start_time": "2021-07-25T18:23:45.231Z"
   },
   {
    "duration": 1709,
    "start_time": "2021-07-25T18:23:45.237Z"
   },
   {
    "duration": 1704,
    "start_time": "2021-07-25T18:23:45.244Z"
   },
   {
    "duration": 1690,
    "start_time": "2021-07-25T18:23:45.260Z"
   },
   {
    "duration": 1686,
    "start_time": "2021-07-25T18:23:45.266Z"
   },
   {
    "duration": 1683,
    "start_time": "2021-07-25T18:23:45.271Z"
   },
   {
    "duration": 1681,
    "start_time": "2021-07-25T18:23:45.275Z"
   },
   {
    "duration": 1678,
    "start_time": "2021-07-25T18:23:45.280Z"
   },
   {
    "duration": 1716,
    "start_time": "2021-07-25T18:23:45.285Z"
   },
   {
    "duration": 1714,
    "start_time": "2021-07-25T18:23:45.289Z"
   },
   {
    "duration": 1711,
    "start_time": "2021-07-25T18:23:45.294Z"
   },
   {
    "duration": 1710,
    "start_time": "2021-07-25T18:23:45.298Z"
   },
   {
    "duration": 1708,
    "start_time": "2021-07-25T18:23:45.302Z"
   },
   {
    "duration": 1706,
    "start_time": "2021-07-25T18:23:45.306Z"
   },
   {
    "duration": 1703,
    "start_time": "2021-07-25T18:23:45.311Z"
   },
   {
    "duration": 1701,
    "start_time": "2021-07-25T18:23:45.315Z"
   },
   {
    "duration": 1698,
    "start_time": "2021-07-25T18:23:45.319Z"
   },
   {
    "duration": 1667,
    "start_time": "2021-07-25T18:23:45.352Z"
   },
   {
    "duration": 1655,
    "start_time": "2021-07-25T18:23:45.366Z"
   },
   {
    "duration": 1654,
    "start_time": "2021-07-25T18:23:45.369Z"
   },
   {
    "duration": 1652,
    "start_time": "2021-07-25T18:23:45.373Z"
   },
   {
    "duration": 1652,
    "start_time": "2021-07-25T18:23:45.376Z"
   },
   {
    "duration": 1651,
    "start_time": "2021-07-25T18:23:45.379Z"
   },
   {
    "duration": 1650,
    "start_time": "2021-07-25T18:23:45.382Z"
   },
   {
    "duration": 1649,
    "start_time": "2021-07-25T18:23:45.385Z"
   },
   {
    "duration": 1648,
    "start_time": "2021-07-25T18:23:45.388Z"
   },
   {
    "duration": 1648,
    "start_time": "2021-07-25T18:23:45.391Z"
   },
   {
    "duration": 1648,
    "start_time": "2021-07-25T18:23:45.393Z"
   },
   {
    "duration": 1647,
    "start_time": "2021-07-25T18:23:45.396Z"
   },
   {
    "duration": 1702,
    "start_time": "2021-07-25T18:23:45.399Z"
   },
   {
    "duration": 1700,
    "start_time": "2021-07-25T18:23:45.402Z"
   },
   {
    "duration": 374,
    "start_time": "2021-07-25T18:24:19.622Z"
   },
   {
    "duration": 474,
    "start_time": "2021-07-25T18:24:21.062Z"
   },
   {
    "duration": 32,
    "start_time": "2021-07-25T18:24:24.365Z"
   },
   {
    "duration": 799,
    "start_time": "2021-07-25T18:24:25.085Z"
   },
   {
    "duration": 392,
    "start_time": "2021-07-25T18:26:01.291Z"
   },
   {
    "duration": 1272,
    "start_time": "2021-07-25T18:26:02.766Z"
   },
   {
    "duration": 1558,
    "start_time": "2021-07-25T18:26:10.357Z"
   },
   {
    "duration": 7,
    "start_time": "2021-07-25T18:26:11.918Z"
   },
   {
    "duration": 1088,
    "start_time": "2021-07-25T18:26:11.929Z"
   },
   {
    "duration": 17,
    "start_time": "2021-07-25T18:26:13.020Z"
   },
   {
    "duration": 86,
    "start_time": "2021-07-25T18:26:13.039Z"
   },
   {
    "duration": 356,
    "start_time": "2021-07-25T18:26:13.127Z"
   },
   {
    "duration": 5,
    "start_time": "2021-07-25T18:26:13.485Z"
   },
   {
    "duration": 8,
    "start_time": "2021-07-25T18:26:13.494Z"
   },
   {
    "duration": 274,
    "start_time": "2021-07-25T18:26:13.505Z"
   },
   {
    "duration": 43,
    "start_time": "2021-07-25T18:26:13.781Z"
   },
   {
    "duration": 14,
    "start_time": "2021-07-25T18:26:13.826Z"
   },
   {
    "duration": 17,
    "start_time": "2021-07-25T18:26:13.842Z"
   },
   {
    "duration": 47,
    "start_time": "2021-07-25T18:26:13.862Z"
   },
   {
    "duration": 12,
    "start_time": "2021-07-25T18:26:13.912Z"
   },
   {
    "duration": 24,
    "start_time": "2021-07-25T18:26:13.927Z"
   },
   {
    "duration": 6,
    "start_time": "2021-07-25T18:26:13.953Z"
   },
   {
    "duration": 47,
    "start_time": "2021-07-25T18:26:13.962Z"
   },
   {
    "duration": 17,
    "start_time": "2021-07-25T18:26:14.013Z"
   },
   {
    "duration": 25,
    "start_time": "2021-07-25T18:26:14.032Z"
   },
   {
    "duration": 21,
    "start_time": "2021-07-25T18:26:14.059Z"
   },
   {
    "duration": 23,
    "start_time": "2021-07-25T18:26:14.083Z"
   },
   {
    "duration": 22,
    "start_time": "2021-07-25T18:26:14.109Z"
   },
   {
    "duration": 10,
    "start_time": "2021-07-25T18:26:14.137Z"
   },
   {
    "duration": 10,
    "start_time": "2021-07-25T18:26:14.151Z"
   },
   {
    "duration": 22,
    "start_time": "2021-07-25T18:26:14.164Z"
   },
   {
    "duration": 30,
    "start_time": "2021-07-25T18:26:14.189Z"
   },
   {
    "duration": 446,
    "start_time": "2021-07-25T18:26:14.222Z"
   },
   {
    "duration": 20,
    "start_time": "2021-07-25T18:26:14.670Z"
   },
   {
    "duration": 189,
    "start_time": "2021-07-25T18:26:14.701Z"
   },
   {
    "duration": 134,
    "start_time": "2021-07-25T18:26:14.893Z"
   },
   {
    "duration": 110,
    "start_time": "2021-07-25T18:26:15.030Z"
   },
   {
    "duration": 5,
    "start_time": "2021-07-25T18:26:15.143Z"
   },
   {
    "duration": 56,
    "start_time": "2021-07-25T18:26:15.150Z"
   },
   {
    "duration": 57,
    "start_time": "2021-07-25T18:26:15.211Z"
   },
   {
    "duration": 9,
    "start_time": "2021-07-25T18:26:15.270Z"
   },
   {
    "duration": 23,
    "start_time": "2021-07-25T18:26:15.303Z"
   },
   {
    "duration": 31,
    "start_time": "2021-07-25T18:26:15.329Z"
   },
   {
    "duration": 86,
    "start_time": "2021-07-25T18:26:15.363Z"
   },
   {
    "duration": 28,
    "start_time": "2021-07-25T18:26:15.452Z"
   },
   {
    "duration": 30,
    "start_time": "2021-07-25T18:26:15.483Z"
   },
   {
    "duration": 507,
    "start_time": "2021-07-25T18:26:15.516Z"
   },
   {
    "duration": 14,
    "start_time": "2021-07-25T18:26:16.026Z"
   },
   {
    "duration": 318,
    "start_time": "2021-07-25T18:26:16.043Z"
   },
   {
    "duration": 81,
    "start_time": "2021-07-25T18:26:16.364Z"
   },
   {
    "duration": 172,
    "start_time": "2021-07-25T18:26:16.447Z"
   },
   {
    "duration": 17,
    "start_time": "2021-07-25T18:26:16.622Z"
   },
   {
    "duration": 14,
    "start_time": "2021-07-25T18:26:16.644Z"
   },
   {
    "duration": 49,
    "start_time": "2021-07-25T18:26:16.660Z"
   },
   {
    "duration": 527,
    "start_time": "2021-07-25T18:26:16.714Z"
   },
   {
    "duration": 1744,
    "start_time": "2021-07-25T18:26:15.500Z"
   },
   {
    "duration": 1743,
    "start_time": "2021-07-25T18:26:15.503Z"
   },
   {
    "duration": 1741,
    "start_time": "2021-07-25T18:26:15.506Z"
   },
   {
    "duration": 1733,
    "start_time": "2021-07-25T18:26:15.516Z"
   },
   {
    "duration": 1731,
    "start_time": "2021-07-25T18:26:15.519Z"
   },
   {
    "duration": 1729,
    "start_time": "2021-07-25T18:26:15.523Z"
   },
   {
    "duration": 1727,
    "start_time": "2021-07-25T18:26:15.526Z"
   },
   {
    "duration": 1726,
    "start_time": "2021-07-25T18:26:15.529Z"
   },
   {
    "duration": 1725,
    "start_time": "2021-07-25T18:26:15.531Z"
   },
   {
    "duration": 1723,
    "start_time": "2021-07-25T18:26:15.534Z"
   },
   {
    "duration": 1720,
    "start_time": "2021-07-25T18:26:15.538Z"
   },
   {
    "duration": 1720,
    "start_time": "2021-07-25T18:26:15.540Z"
   },
   {
    "duration": 1718,
    "start_time": "2021-07-25T18:26:15.543Z"
   },
   {
    "duration": 1716,
    "start_time": "2021-07-25T18:26:15.546Z"
   },
   {
    "duration": 1715,
    "start_time": "2021-07-25T18:26:15.549Z"
   },
   {
    "duration": 1706,
    "start_time": "2021-07-25T18:26:15.559Z"
   },
   {
    "duration": 1702,
    "start_time": "2021-07-25T18:26:15.564Z"
   },
   {
    "duration": 1700,
    "start_time": "2021-07-25T18:26:15.567Z"
   },
   {
    "duration": 1699,
    "start_time": "2021-07-25T18:26:15.570Z"
   },
   {
    "duration": 1697,
    "start_time": "2021-07-25T18:26:15.573Z"
   },
   {
    "duration": 1695,
    "start_time": "2021-07-25T18:26:15.576Z"
   },
   {
    "duration": 1692,
    "start_time": "2021-07-25T18:26:15.581Z"
   },
   {
    "duration": 1690,
    "start_time": "2021-07-25T18:26:15.584Z"
   },
   {
    "duration": 1687,
    "start_time": "2021-07-25T18:26:15.588Z"
   },
   {
    "duration": 1685,
    "start_time": "2021-07-25T18:26:15.591Z"
   },
   {
    "duration": 1683,
    "start_time": "2021-07-25T18:26:15.594Z"
   },
   {
    "duration": 1682,
    "start_time": "2021-07-25T18:26:15.597Z"
   },
   {
    "duration": 1681,
    "start_time": "2021-07-25T18:26:15.599Z"
   },
   {
    "duration": 1701,
    "start_time": "2021-07-25T18:26:15.602Z"
   },
   {
    "duration": 1701,
    "start_time": "2021-07-25T18:26:15.604Z"
   },
   {
    "duration": 1699,
    "start_time": "2021-07-25T18:26:15.607Z"
   },
   {
    "duration": 1697,
    "start_time": "2021-07-25T18:26:15.610Z"
   },
   {
    "duration": 1690,
    "start_time": "2021-07-25T18:26:15.619Z"
   },
   {
    "duration": 1688,
    "start_time": "2021-07-25T18:26:15.622Z"
   },
   {
    "duration": 1688,
    "start_time": "2021-07-25T18:26:15.625Z"
   },
   {
    "duration": 1689,
    "start_time": "2021-07-25T18:26:15.627Z"
   },
   {
    "duration": 31,
    "start_time": "2021-07-25T18:26:22.586Z"
   },
   {
    "duration": 1475,
    "start_time": "2021-07-25T18:26:23.341Z"
   },
   {
    "duration": 59,
    "start_time": "2021-07-25T18:31:52.084Z"
   },
   {
    "duration": 525,
    "start_time": "2021-07-25T18:31:58.728Z"
   },
   {
    "duration": 51,
    "start_time": "2021-07-25T18:32:02.242Z"
   },
   {
    "duration": 1234,
    "start_time": "2021-07-25T18:32:03.760Z"
   },
   {
    "duration": 55,
    "start_time": "2021-07-25T18:33:51.668Z"
   },
   {
    "duration": 1132,
    "start_time": "2021-07-25T18:33:53.405Z"
   },
   {
    "duration": 19,
    "start_time": "2021-07-25T18:33:59.302Z"
   },
   {
    "duration": 16,
    "start_time": "2021-07-25T18:33:59.716Z"
   },
   {
    "duration": 20,
    "start_time": "2021-07-25T18:34:00.022Z"
   },
   {
    "duration": 8836,
    "start_time": "2021-07-25T18:34:00.504Z"
   },
   {
    "duration": -94,
    "start_time": "2021-07-25T18:34:09.437Z"
   },
   {
    "duration": 1488,
    "start_time": "2021-07-25T18:34:18.482Z"
   },
   {
    "duration": 4,
    "start_time": "2021-07-25T18:34:19.973Z"
   },
   {
    "duration": 813,
    "start_time": "2021-07-25T18:34:19.980Z"
   },
   {
    "duration": 19,
    "start_time": "2021-07-25T18:34:20.796Z"
   },
   {
    "duration": 64,
    "start_time": "2021-07-25T18:34:20.817Z"
   },
   {
    "duration": 360,
    "start_time": "2021-07-25T18:34:20.901Z"
   },
   {
    "duration": 6,
    "start_time": "2021-07-25T18:34:21.264Z"
   },
   {
    "duration": 28,
    "start_time": "2021-07-25T18:34:21.275Z"
   },
   {
    "duration": 279,
    "start_time": "2021-07-25T18:34:21.307Z"
   },
   {
    "duration": 39,
    "start_time": "2021-07-25T18:34:21.588Z"
   },
   {
    "duration": 10,
    "start_time": "2021-07-25T18:34:21.629Z"
   },
   {
    "duration": 16,
    "start_time": "2021-07-25T18:34:21.642Z"
   },
   {
    "duration": 47,
    "start_time": "2021-07-25T18:34:21.661Z"
   },
   {
    "duration": 11,
    "start_time": "2021-07-25T18:34:21.711Z"
   },
   {
    "duration": 22,
    "start_time": "2021-07-25T18:34:21.725Z"
   },
   {
    "duration": 5,
    "start_time": "2021-07-25T18:34:21.750Z"
   },
   {
    "duration": 4,
    "start_time": "2021-07-25T18:34:21.758Z"
   },
   {
    "duration": 9,
    "start_time": "2021-07-25T18:34:21.803Z"
   },
   {
    "duration": 18,
    "start_time": "2021-07-25T18:34:21.816Z"
   },
   {
    "duration": 12,
    "start_time": "2021-07-25T18:34:21.837Z"
   },
   {
    "duration": 9,
    "start_time": "2021-07-25T18:34:21.852Z"
   },
   {
    "duration": 41,
    "start_time": "2021-07-25T18:34:21.863Z"
   },
   {
    "duration": 8,
    "start_time": "2021-07-25T18:34:21.917Z"
   },
   {
    "duration": 9,
    "start_time": "2021-07-25T18:34:21.929Z"
   },
   {
    "duration": 17,
    "start_time": "2021-07-25T18:34:21.940Z"
   },
   {
    "duration": 44,
    "start_time": "2021-07-25T18:34:21.959Z"
   },
   {
    "duration": 440,
    "start_time": "2021-07-25T18:34:22.010Z"
   },
   {
    "duration": 22,
    "start_time": "2021-07-25T18:34:22.452Z"
   },
   {
    "duration": 196,
    "start_time": "2021-07-25T18:34:22.477Z"
   },
   {
    "duration": 113,
    "start_time": "2021-07-25T18:34:22.675Z"
   },
   {
    "duration": 95,
    "start_time": "2021-07-25T18:34:22.791Z"
   },
   {
    "duration": 14,
    "start_time": "2021-07-25T18:34:22.889Z"
   },
   {
    "duration": 38,
    "start_time": "2021-07-25T18:34:22.912Z"
   },
   {
    "duration": 76,
    "start_time": "2021-07-25T18:34:22.952Z"
   },
   {
    "duration": 9,
    "start_time": "2021-07-25T18:34:23.031Z"
   },
   {
    "duration": 19,
    "start_time": "2021-07-25T18:34:23.043Z"
   },
   {
    "duration": 64,
    "start_time": "2021-07-25T18:34:23.065Z"
   },
   {
    "duration": 44,
    "start_time": "2021-07-25T18:34:23.132Z"
   },
   {
    "duration": 37,
    "start_time": "2021-07-25T18:34:23.178Z"
   },
   {
    "duration": 17,
    "start_time": "2021-07-25T18:34:23.218Z"
   },
   {
    "duration": 386,
    "start_time": "2021-07-25T18:34:23.237Z"
   },
   {
    "duration": 15,
    "start_time": "2021-07-25T18:34:23.627Z"
   },
   {
    "duration": 310,
    "start_time": "2021-07-25T18:34:23.645Z"
   },
   {
    "duration": 77,
    "start_time": "2021-07-25T18:34:23.958Z"
   },
   {
    "duration": 167,
    "start_time": "2021-07-25T18:34:24.038Z"
   },
   {
    "duration": 18,
    "start_time": "2021-07-25T18:34:24.207Z"
   },
   {
    "duration": 13,
    "start_time": "2021-07-25T18:34:24.228Z"
   },
   {
    "duration": 21,
    "start_time": "2021-07-25T18:34:24.244Z"
   },
   {
    "duration": 85,
    "start_time": "2021-07-25T18:34:24.268Z"
   },
   {
    "duration": 1154,
    "start_time": "2021-07-25T18:34:24.356Z"
   },
   {
    "duration": 39,
    "start_time": "2021-07-25T18:34:25.513Z"
   },
   {
    "duration": 473,
    "start_time": "2021-07-25T18:34:25.555Z"
   },
   {
    "duration": 39,
    "start_time": "2021-07-25T18:34:26.031Z"
   },
   {
    "duration": 39,
    "start_time": "2021-07-25T18:34:26.072Z"
   },
   {
    "duration": 177,
    "start_time": "2021-07-25T18:34:26.117Z"
   },
   {
    "duration": 775,
    "start_time": "2021-07-25T18:34:26.301Z"
   },
   {
    "duration": 681,
    "start_time": "2021-07-25T18:34:27.079Z"
   },
   {
    "duration": 71,
    "start_time": "2021-07-25T18:34:27.762Z"
   },
   {
    "duration": 11,
    "start_time": "2021-07-25T18:34:27.835Z"
   },
   {
    "duration": 18,
    "start_time": "2021-07-25T18:34:27.848Z"
   },
   {
    "duration": 577,
    "start_time": "2021-07-25T18:34:27.868Z"
   },
   {
    "duration": 312,
    "start_time": "2021-07-25T18:34:28.448Z"
   },
   {
    "duration": 12,
    "start_time": "2021-07-25T18:34:28.763Z"
   },
   {
    "duration": 47,
    "start_time": "2021-07-25T18:34:28.778Z"
   },
   {
    "duration": 20,
    "start_time": "2021-07-25T18:34:28.828Z"
   },
   {
    "duration": 227,
    "start_time": "2021-07-25T18:34:28.851Z"
   },
   {
    "duration": 62,
    "start_time": "2021-07-25T18:34:29.080Z"
   },
   {
    "duration": 8,
    "start_time": "2021-07-25T18:34:29.150Z"
   },
   {
    "duration": 8,
    "start_time": "2021-07-25T18:34:29.161Z"
   },
   {
    "duration": 40,
    "start_time": "2021-07-25T18:34:29.172Z"
   },
   {
    "duration": 285,
    "start_time": "2021-07-25T18:34:29.216Z"
   },
   {
    "duration": 16,
    "start_time": "2021-07-25T18:34:29.506Z"
   },
   {
    "duration": 311,
    "start_time": "2021-07-25T18:34:29.524Z"
   },
   {
    "duration": 452,
    "start_time": "2021-07-25T18:34:29.837Z"
   },
   {
    "duration": 19234,
    "start_time": "2021-07-25T18:34:30.291Z"
   },
   {
    "duration": 401,
    "start_time": "2021-07-25T18:34:49.528Z"
   },
   {
    "duration": 12,
    "start_time": "2021-07-25T18:34:49.931Z"
   },
   {
    "duration": 380,
    "start_time": "2021-07-25T18:34:49.946Z"
   },
   {
    "duration": 43,
    "start_time": "2021-07-25T18:34:50.329Z"
   },
   {
    "duration": 653,
    "start_time": "2021-07-25T18:34:50.375Z"
   },
   {
    "duration": 19,
    "start_time": "2021-07-25T18:34:51.031Z"
   },
   {
    "duration": 13,
    "start_time": "2021-07-25T18:34:51.053Z"
   },
   {
    "duration": 43,
    "start_time": "2021-07-25T18:34:51.069Z"
   },
   {
    "duration": 32,
    "start_time": "2021-07-25T18:34:51.114Z"
   },
   {
    "duration": 1290,
    "start_time": "2021-07-25T18:34:51.148Z"
   },
   {
    "duration": 26,
    "start_time": "2021-07-25T19:27:57.310Z"
   },
   {
    "duration": 29,
    "start_time": "2021-07-25T19:44:58.404Z"
   },
   {
    "duration": 37,
    "start_time": "2021-07-25T19:45:24.117Z"
   },
   {
    "duration": 29,
    "start_time": "2021-07-25T19:46:36.899Z"
   },
   {
    "duration": 28,
    "start_time": "2021-07-25T19:46:55.529Z"
   },
   {
    "duration": 118,
    "start_time": "2021-07-25T19:58:45.469Z"
   },
   {
    "duration": 20,
    "start_time": "2021-07-25T19:58:55.295Z"
   },
   {
    "duration": 23,
    "start_time": "2021-07-25T19:59:05.928Z"
   },
   {
    "duration": 15,
    "start_time": "2021-07-25T19:59:39.839Z"
   },
   {
    "duration": 20,
    "start_time": "2021-07-25T20:01:37.657Z"
   },
   {
    "duration": 10136,
    "start_time": "2021-07-25T20:02:35.111Z"
   },
   {
    "duration": 9589,
    "start_time": "2021-07-25T20:02:50.923Z"
   },
   {
    "duration": 22,
    "start_time": "2021-07-25T20:03:22.162Z"
   },
   {
    "duration": 8934,
    "start_time": "2021-07-25T20:03:42.638Z"
   },
   {
    "duration": 1568,
    "start_time": "2021-07-31T13:32:27.311Z"
   },
   {
    "duration": 5,
    "start_time": "2021-07-31T13:32:28.883Z"
   },
   {
    "duration": 812,
    "start_time": "2021-07-31T13:32:28.901Z"
   },
   {
    "duration": 17,
    "start_time": "2021-07-31T13:32:29.716Z"
   },
   {
    "duration": 76,
    "start_time": "2021-07-31T13:32:29.736Z"
   },
   {
    "duration": 403,
    "start_time": "2021-07-31T13:32:29.815Z"
   },
   {
    "duration": 5,
    "start_time": "2021-07-31T13:32:30.220Z"
   },
   {
    "duration": 14,
    "start_time": "2021-07-31T13:32:30.231Z"
   },
   {
    "duration": 270,
    "start_time": "2021-07-31T13:32:30.249Z"
   },
   {
    "duration": 30,
    "start_time": "2021-07-31T13:32:30.521Z"
   },
   {
    "duration": 12,
    "start_time": "2021-07-31T13:32:30.554Z"
   },
   {
    "duration": 41,
    "start_time": "2021-07-31T13:32:30.569Z"
   },
   {
    "duration": 10,
    "start_time": "2021-07-31T13:32:30.614Z"
   },
   {
    "duration": 22,
    "start_time": "2021-07-31T13:32:30.627Z"
   },
   {
    "duration": 38,
    "start_time": "2021-07-31T13:32:30.651Z"
   },
   {
    "duration": 12,
    "start_time": "2021-07-31T13:32:30.692Z"
   },
   {
    "duration": 20,
    "start_time": "2021-07-31T13:32:30.707Z"
   },
   {
    "duration": 21,
    "start_time": "2021-07-31T13:32:30.730Z"
   },
   {
    "duration": 38,
    "start_time": "2021-07-31T13:32:30.754Z"
   },
   {
    "duration": 34,
    "start_time": "2021-07-31T13:32:30.795Z"
   },
   {
    "duration": 15,
    "start_time": "2021-07-31T13:32:30.831Z"
   },
   {
    "duration": 22,
    "start_time": "2021-07-31T13:32:30.849Z"
   },
   {
    "duration": 9,
    "start_time": "2021-07-31T13:32:30.877Z"
   },
   {
    "duration": 12,
    "start_time": "2021-07-31T13:32:30.890Z"
   },
   {
    "duration": 28,
    "start_time": "2021-07-31T13:32:30.905Z"
   },
   {
    "duration": 23,
    "start_time": "2021-07-31T13:32:30.936Z"
   },
   {
    "duration": 465,
    "start_time": "2021-07-31T13:32:30.962Z"
   },
   {
    "duration": 22,
    "start_time": "2021-07-31T13:32:31.430Z"
   },
   {
    "duration": 209,
    "start_time": "2021-07-31T13:32:31.454Z"
   },
   {
    "duration": 127,
    "start_time": "2021-07-31T13:32:31.666Z"
   },
   {
    "duration": 114,
    "start_time": "2021-07-31T13:32:31.796Z"
   },
   {
    "duration": 5,
    "start_time": "2021-07-31T13:32:31.913Z"
   },
   {
    "duration": 38,
    "start_time": "2021-07-31T13:32:31.921Z"
   },
   {
    "duration": 80,
    "start_time": "2021-07-31T13:32:31.961Z"
   },
   {
    "duration": 9,
    "start_time": "2021-07-31T13:32:32.043Z"
   },
   {
    "duration": 21,
    "start_time": "2021-07-31T13:32:32.054Z"
   },
   {
    "duration": 54,
    "start_time": "2021-07-31T13:32:32.077Z"
   },
   {
    "duration": 65,
    "start_time": "2021-07-31T13:32:32.134Z"
   },
   {
    "duration": 33,
    "start_time": "2021-07-31T13:32:32.203Z"
   },
   {
    "duration": 15,
    "start_time": "2021-07-31T13:32:32.238Z"
   },
   {
    "duration": 400,
    "start_time": "2021-07-31T13:32:32.256Z"
   },
   {
    "duration": 14,
    "start_time": "2021-07-31T13:32:32.658Z"
   },
   {
    "duration": 309,
    "start_time": "2021-07-31T13:32:32.674Z"
   },
   {
    "duration": 71,
    "start_time": "2021-07-31T13:32:32.985Z"
   },
   {
    "duration": 164,
    "start_time": "2021-07-31T13:32:33.058Z"
   },
   {
    "duration": 15,
    "start_time": "2021-07-31T13:32:33.226Z"
   },
   {
    "duration": 11,
    "start_time": "2021-07-31T13:32:33.244Z"
   },
   {
    "duration": 49,
    "start_time": "2021-07-31T13:32:33.258Z"
   },
   {
    "duration": 53,
    "start_time": "2021-07-31T13:32:33.310Z"
   },
   {
    "duration": 1314,
    "start_time": "2021-07-31T13:32:33.366Z"
   },
   {
    "duration": 49,
    "start_time": "2021-07-31T13:32:34.683Z"
   },
   {
    "duration": 526,
    "start_time": "2021-07-31T13:32:34.734Z"
   },
   {
    "duration": 54,
    "start_time": "2021-07-31T13:32:35.262Z"
   },
   {
    "duration": 15,
    "start_time": "2021-07-31T13:32:35.319Z"
   },
   {
    "duration": 205,
    "start_time": "2021-07-31T13:32:35.337Z"
   },
   {
    "duration": 731,
    "start_time": "2021-07-31T13:32:35.545Z"
   },
   {
    "duration": 686,
    "start_time": "2021-07-31T13:32:36.278Z"
   },
   {
    "duration": 690,
    "start_time": "2021-07-31T13:32:36.966Z"
   },
   {
    "duration": -72,
    "start_time": "2021-07-31T13:32:37.732Z"
   },
   {
    "duration": -77,
    "start_time": "2021-07-31T13:32:37.738Z"
   },
   {
    "duration": -81,
    "start_time": "2021-07-31T13:32:37.744Z"
   },
   {
    "duration": -85,
    "start_time": "2021-07-31T13:32:37.750Z"
   },
   {
    "duration": -89,
    "start_time": "2021-07-31T13:32:37.755Z"
   },
   {
    "duration": -92,
    "start_time": "2021-07-31T13:32:37.759Z"
   },
   {
    "duration": -93,
    "start_time": "2021-07-31T13:32:37.762Z"
   },
   {
    "duration": -96,
    "start_time": "2021-07-31T13:32:37.766Z"
   },
   {
    "duration": -97,
    "start_time": "2021-07-31T13:32:37.769Z"
   },
   {
    "duration": -99,
    "start_time": "2021-07-31T13:32:37.772Z"
   },
   {
    "duration": -108,
    "start_time": "2021-07-31T13:32:37.782Z"
   },
   {
    "duration": -110,
    "start_time": "2021-07-31T13:32:37.786Z"
   },
   {
    "duration": -111,
    "start_time": "2021-07-31T13:32:37.788Z"
   },
   {
    "duration": -112,
    "start_time": "2021-07-31T13:32:37.791Z"
   },
   {
    "duration": -114,
    "start_time": "2021-07-31T13:32:37.794Z"
   },
   {
    "duration": -115,
    "start_time": "2021-07-31T13:32:37.797Z"
   },
   {
    "duration": -117,
    "start_time": "2021-07-31T13:32:37.800Z"
   },
   {
    "duration": -118,
    "start_time": "2021-07-31T13:32:37.802Z"
   },
   {
    "duration": -119,
    "start_time": "2021-07-31T13:32:37.805Z"
   },
   {
    "duration": -121,
    "start_time": "2021-07-31T13:32:37.808Z"
   },
   {
    "duration": -122,
    "start_time": "2021-07-31T13:32:37.810Z"
   },
   {
    "duration": -123,
    "start_time": "2021-07-31T13:32:37.813Z"
   },
   {
    "duration": -125,
    "start_time": "2021-07-31T13:32:37.816Z"
   },
   {
    "duration": -126,
    "start_time": "2021-07-31T13:32:37.819Z"
   },
   {
    "duration": -128,
    "start_time": "2021-07-31T13:32:37.822Z"
   },
   {
    "duration": -123,
    "start_time": "2021-07-31T13:32:37.825Z"
   },
   {
    "duration": -123,
    "start_time": "2021-07-31T13:32:37.828Z"
   },
   {
    "duration": -124,
    "start_time": "2021-07-31T13:32:37.831Z"
   },
   {
    "duration": -125,
    "start_time": "2021-07-31T13:32:37.833Z"
   },
   {
    "duration": 618,
    "start_time": "2021-07-31T13:35:33.236Z"
   },
   {
    "duration": 160,
    "start_time": "2021-07-31T13:35:45.879Z"
   },
   {
    "duration": 203,
    "start_time": "2021-07-31T13:35:49.063Z"
   },
   {
    "duration": 540,
    "start_time": "2021-07-31T13:36:18.875Z"
   },
   {
    "duration": 178,
    "start_time": "2021-07-31T13:40:13.819Z"
   },
   {
    "duration": 362,
    "start_time": "2021-07-31T13:43:43.538Z"
   },
   {
    "duration": 295,
    "start_time": "2021-07-31T13:43:46.852Z"
   },
   {
    "duration": 1470,
    "start_time": "2021-07-31T17:17:13.553Z"
   },
   {
    "duration": 4,
    "start_time": "2021-07-31T17:17:15.026Z"
   },
   {
    "duration": 867,
    "start_time": "2021-07-31T17:17:15.033Z"
   },
   {
    "duration": 20,
    "start_time": "2021-07-31T17:17:15.903Z"
   },
   {
    "duration": 89,
    "start_time": "2021-07-31T17:17:15.926Z"
   },
   {
    "duration": 436,
    "start_time": "2021-07-31T17:17:16.018Z"
   },
   {
    "duration": 6,
    "start_time": "2021-07-31T17:17:16.457Z"
   },
   {
    "duration": 5,
    "start_time": "2021-07-31T17:17:16.469Z"
   },
   {
    "duration": 246,
    "start_time": "2021-07-31T17:17:16.499Z"
   },
   {
    "duration": 29,
    "start_time": "2021-07-31T17:17:16.748Z"
   },
   {
    "duration": 24,
    "start_time": "2021-07-31T17:17:16.780Z"
   },
   {
    "duration": 20,
    "start_time": "2021-07-31T17:17:16.808Z"
   },
   {
    "duration": 10,
    "start_time": "2021-07-31T17:17:16.831Z"
   },
   {
    "duration": 12,
    "start_time": "2021-07-31T17:17:16.844Z"
   },
   {
    "duration": 70,
    "start_time": "2021-07-31T17:17:16.859Z"
   },
   {
    "duration": 5,
    "start_time": "2021-07-31T17:17:16.932Z"
   },
   {
    "duration": 6,
    "start_time": "2021-07-31T17:17:16.939Z"
   },
   {
    "duration": 15,
    "start_time": "2021-07-31T17:17:16.948Z"
   },
   {
    "duration": 55,
    "start_time": "2021-07-31T17:17:16.965Z"
   },
   {
    "duration": 11,
    "start_time": "2021-07-31T17:17:17.023Z"
   },
   {
    "duration": 9,
    "start_time": "2021-07-31T17:17:17.037Z"
   },
   {
    "duration": 9,
    "start_time": "2021-07-31T17:17:17.049Z"
   },
   {
    "duration": 39,
    "start_time": "2021-07-31T17:17:17.066Z"
   },
   {
    "duration": 10,
    "start_time": "2021-07-31T17:17:17.110Z"
   },
   {
    "duration": 11,
    "start_time": "2021-07-31T17:17:17.123Z"
   },
   {
    "duration": 14,
    "start_time": "2021-07-31T17:17:17.137Z"
   },
   {
    "duration": 475,
    "start_time": "2021-07-31T17:17:17.153Z"
   },
   {
    "duration": 19,
    "start_time": "2021-07-31T17:17:17.630Z"
   },
   {
    "duration": 212,
    "start_time": "2021-07-31T17:17:17.652Z"
   },
   {
    "duration": 138,
    "start_time": "2021-07-31T17:17:17.867Z"
   },
   {
    "duration": 116,
    "start_time": "2021-07-31T17:17:18.008Z"
   },
   {
    "duration": 5,
    "start_time": "2021-07-31T17:17:18.127Z"
   },
   {
    "duration": 40,
    "start_time": "2021-07-31T17:17:18.135Z"
   },
   {
    "duration": 77,
    "start_time": "2021-07-31T17:17:18.178Z"
   },
   {
    "duration": 8,
    "start_time": "2021-07-31T17:17:18.258Z"
   },
   {
    "duration": 45,
    "start_time": "2021-07-31T17:17:18.269Z"
   },
   {
    "duration": 30,
    "start_time": "2021-07-31T17:17:18.317Z"
   },
   {
    "duration": 75,
    "start_time": "2021-07-31T17:17:18.350Z"
   },
   {
    "duration": 26,
    "start_time": "2021-07-31T17:17:18.427Z"
   },
   {
    "duration": 15,
    "start_time": "2021-07-31T17:17:18.455Z"
   },
   {
    "duration": 398,
    "start_time": "2021-07-31T17:17:18.473Z"
   },
   {
    "duration": 30,
    "start_time": "2021-07-31T17:17:18.873Z"
   },
   {
    "duration": 304,
    "start_time": "2021-07-31T17:17:18.908Z"
   },
   {
    "duration": 60,
    "start_time": "2021-07-31T17:17:19.216Z"
   },
   {
    "duration": 177,
    "start_time": "2021-07-31T17:17:19.278Z"
   },
   {
    "duration": 14,
    "start_time": "2021-07-31T17:17:19.458Z"
   },
   {
    "duration": 28,
    "start_time": "2021-07-31T17:17:19.474Z"
   },
   {
    "duration": 20,
    "start_time": "2021-07-31T17:17:19.506Z"
   },
   {
    "duration": 87,
    "start_time": "2021-07-31T17:17:19.529Z"
   },
   {
    "duration": 1187,
    "start_time": "2021-07-31T17:17:19.619Z"
   },
   {
    "duration": 38,
    "start_time": "2021-07-31T17:17:20.809Z"
   },
   {
    "duration": 482,
    "start_time": "2021-07-31T17:17:20.849Z"
   },
   {
    "duration": 42,
    "start_time": "2021-07-31T17:17:21.334Z"
   },
   {
    "duration": 32,
    "start_time": "2021-07-31T17:17:21.378Z"
   },
   {
    "duration": 183,
    "start_time": "2021-07-31T17:17:21.412Z"
   },
   {
    "duration": 751,
    "start_time": "2021-07-31T17:17:21.598Z"
   },
   {
    "duration": 694,
    "start_time": "2021-07-31T17:17:22.352Z"
   },
   {
    "duration": 517,
    "start_time": "2021-07-31T17:17:23.049Z"
   },
   {
    "duration": -209,
    "start_time": "2021-07-31T17:17:23.778Z"
   },
   {
    "duration": -210,
    "start_time": "2021-07-31T17:17:23.781Z"
   },
   {
    "duration": -212,
    "start_time": "2021-07-31T17:17:23.785Z"
   },
   {
    "duration": -215,
    "start_time": "2021-07-31T17:17:23.789Z"
   },
   {
    "duration": -216,
    "start_time": "2021-07-31T17:17:23.792Z"
   },
   {
    "duration": -218,
    "start_time": "2021-07-31T17:17:23.795Z"
   },
   {
    "duration": -220,
    "start_time": "2021-07-31T17:17:23.799Z"
   },
   {
    "duration": -223,
    "start_time": "2021-07-31T17:17:23.803Z"
   },
   {
    "duration": -224,
    "start_time": "2021-07-31T17:17:23.806Z"
   },
   {
    "duration": -226,
    "start_time": "2021-07-31T17:17:23.809Z"
   },
   {
    "duration": -228,
    "start_time": "2021-07-31T17:17:23.812Z"
   },
   {
    "duration": -229,
    "start_time": "2021-07-31T17:17:23.815Z"
   },
   {
    "duration": -238,
    "start_time": "2021-07-31T17:17:23.825Z"
   },
   {
    "duration": -240,
    "start_time": "2021-07-31T17:17:23.829Z"
   },
   {
    "duration": -242,
    "start_time": "2021-07-31T17:17:23.832Z"
   },
   {
    "duration": -245,
    "start_time": "2021-07-31T17:17:23.836Z"
   },
   {
    "duration": -246,
    "start_time": "2021-07-31T17:17:23.839Z"
   },
   {
    "duration": -249,
    "start_time": "2021-07-31T17:17:23.843Z"
   },
   {
    "duration": -251,
    "start_time": "2021-07-31T17:17:23.846Z"
   },
   {
    "duration": -253,
    "start_time": "2021-07-31T17:17:23.849Z"
   },
   {
    "duration": -255,
    "start_time": "2021-07-31T17:17:23.852Z"
   },
   {
    "duration": -256,
    "start_time": "2021-07-31T17:17:23.855Z"
   },
   {
    "duration": -258,
    "start_time": "2021-07-31T17:17:23.858Z"
   },
   {
    "duration": -260,
    "start_time": "2021-07-31T17:17:23.862Z"
   },
   {
    "duration": -261,
    "start_time": "2021-07-31T17:17:23.864Z"
   },
   {
    "duration": -262,
    "start_time": "2021-07-31T17:17:23.867Z"
   },
   {
    "duration": -263,
    "start_time": "2021-07-31T17:17:23.870Z"
   },
   {
    "duration": -271,
    "start_time": "2021-07-31T17:17:23.880Z"
   },
   {
    "duration": -272,
    "start_time": "2021-07-31T17:17:23.883Z"
   },
   {
    "duration": 419,
    "start_time": "2021-07-31T17:19:30.217Z"
   },
   {
    "duration": 326,
    "start_time": "2021-07-31T17:19:37.376Z"
   },
   {
    "duration": 9668,
    "start_time": "2021-07-31T17:19:46.111Z"
   },
   {
    "duration": 9,
    "start_time": "2021-07-31T17:20:05.741Z"
   },
   {
    "duration": 764,
    "start_time": "2021-07-31T17:20:53.157Z"
   },
   {
    "duration": 622,
    "start_time": "2021-07-31T17:20:57.976Z"
   },
   {
    "duration": 632,
    "start_time": "2021-07-31T17:21:00.202Z"
   },
   {
    "duration": 672,
    "start_time": "2021-07-31T17:21:03.376Z"
   },
   {
    "duration": 354,
    "start_time": "2021-07-31T17:21:05.922Z"
   },
   {
    "duration": 7,
    "start_time": "2021-07-31T17:21:08.692Z"
   },
   {
    "duration": 304,
    "start_time": "2021-07-31T17:21:11.127Z"
   },
   {
    "duration": 233,
    "start_time": "2021-07-31T17:23:04.933Z"
   },
   {
    "duration": 353,
    "start_time": "2021-07-31T17:24:39.029Z"
   },
   {
    "duration": 366,
    "start_time": "2021-07-31T17:25:47.633Z"
   },
   {
    "duration": 352,
    "start_time": "2021-07-31T17:26:16.136Z"
   },
   {
    "duration": 521,
    "start_time": "2021-07-31T17:26:19.833Z"
   },
   {
    "duration": 994,
    "start_time": "2021-07-31T17:26:23.951Z"
   },
   {
    "duration": 432,
    "start_time": "2021-07-31T17:26:41.555Z"
   },
   {
    "duration": 679,
    "start_time": "2021-07-31T17:26:55.196Z"
   },
   {
    "duration": 354,
    "start_time": "2021-07-31T17:28:12.139Z"
   },
   {
    "duration": 423,
    "start_time": "2021-07-31T17:29:12.197Z"
   },
   {
    "duration": 635,
    "start_time": "2021-07-31T17:29:16.448Z"
   },
   {
    "duration": 570,
    "start_time": "2021-07-31T17:29:17.214Z"
   },
   {
    "duration": -204,
    "start_time": "2021-07-31T17:29:17.991Z"
   },
   {
    "duration": 297,
    "start_time": "2021-07-31T17:29:30.653Z"
   },
   {
    "duration": 249,
    "start_time": "2021-07-31T17:29:30.953Z"
   },
   {
    "duration": 205,
    "start_time": "2021-07-31T17:29:37.223Z"
   },
   {
    "duration": 13,
    "start_time": "2021-07-31T17:29:39.533Z"
   },
   {
    "duration": 11,
    "start_time": "2021-07-31T17:29:56.819Z"
   },
   {
    "duration": 1376,
    "start_time": "2021-08-08T08:57:58.734Z"
   },
   {
    "duration": 3,
    "start_time": "2021-08-08T08:58:00.112Z"
   },
   {
    "duration": 618,
    "start_time": "2021-08-08T08:58:00.117Z"
   },
   {
    "duration": 12,
    "start_time": "2021-08-08T08:58:00.737Z"
   },
   {
    "duration": 58,
    "start_time": "2021-08-08T08:58:00.750Z"
   },
   {
    "duration": 286,
    "start_time": "2021-08-08T08:58:00.809Z"
   },
   {
    "duration": 3,
    "start_time": "2021-08-08T08:58:01.097Z"
   },
   {
    "duration": 13,
    "start_time": "2021-08-08T08:58:01.102Z"
   },
   {
    "duration": 172,
    "start_time": "2021-08-08T08:58:01.117Z"
   },
   {
    "duration": 22,
    "start_time": "2021-08-08T08:58:01.291Z"
   },
   {
    "duration": 7,
    "start_time": "2021-08-08T08:58:01.315Z"
   },
   {
    "duration": 15,
    "start_time": "2021-08-08T08:58:01.323Z"
   },
   {
    "duration": 7,
    "start_time": "2021-08-08T08:58:01.340Z"
   },
   {
    "duration": 20,
    "start_time": "2021-08-08T08:58:01.348Z"
   },
   {
    "duration": 35,
    "start_time": "2021-08-08T08:58:01.369Z"
   },
   {
    "duration": 4,
    "start_time": "2021-08-08T08:58:01.406Z"
   },
   {
    "duration": 8,
    "start_time": "2021-08-08T08:58:01.411Z"
   },
   {
    "duration": 12,
    "start_time": "2021-08-08T08:58:01.420Z"
   },
   {
    "duration": 14,
    "start_time": "2021-08-08T08:58:01.435Z"
   },
   {
    "duration": 7,
    "start_time": "2021-08-08T08:58:01.451Z"
   },
   {
    "duration": 15,
    "start_time": "2021-08-08T08:58:01.460Z"
   },
   {
    "duration": 17,
    "start_time": "2021-08-08T08:58:01.477Z"
   },
   {
    "duration": 7,
    "start_time": "2021-08-08T08:58:01.497Z"
   },
   {
    "duration": 5,
    "start_time": "2021-08-08T08:58:01.507Z"
   },
   {
    "duration": 10,
    "start_time": "2021-08-08T08:58:01.513Z"
   },
   {
    "duration": 12,
    "start_time": "2021-08-08T08:58:01.524Z"
   },
   {
    "duration": 292,
    "start_time": "2021-08-08T08:58:01.538Z"
   },
   {
    "duration": 13,
    "start_time": "2021-08-08T08:58:01.831Z"
   },
   {
    "duration": 134,
    "start_time": "2021-08-08T08:58:01.845Z"
   },
   {
    "duration": 103,
    "start_time": "2021-08-08T08:58:01.981Z"
   },
   {
    "duration": 78,
    "start_time": "2021-08-08T08:58:02.086Z"
   },
   {
    "duration": 3,
    "start_time": "2021-08-08T08:58:02.165Z"
   },
   {
    "duration": 376,
    "start_time": "2021-08-08T08:58:02.170Z"
   },
   {
    "duration": 249,
    "start_time": "2021-08-08T08:58:02.300Z"
   },
   {
    "duration": 243,
    "start_time": "2021-08-08T08:58:02.307Z"
   },
   {
    "duration": 239,
    "start_time": "2021-08-08T08:58:02.312Z"
   },
   {
    "duration": 235,
    "start_time": "2021-08-08T08:58:02.317Z"
   },
   {
    "duration": 221,
    "start_time": "2021-08-08T08:58:02.332Z"
   },
   {
    "duration": 216,
    "start_time": "2021-08-08T08:58:02.338Z"
   },
   {
    "duration": 212,
    "start_time": "2021-08-08T08:58:02.343Z"
   },
   {
    "duration": 208,
    "start_time": "2021-08-08T08:58:02.348Z"
   },
   {
    "duration": 204,
    "start_time": "2021-08-08T08:58:02.353Z"
   },
   {
    "duration": 200,
    "start_time": "2021-08-08T08:58:02.358Z"
   },
   {
    "duration": 196,
    "start_time": "2021-08-08T08:58:02.363Z"
   },
   {
    "duration": 191,
    "start_time": "2021-08-08T08:58:02.369Z"
   },
   {
    "duration": 187,
    "start_time": "2021-08-08T08:58:02.374Z"
   },
   {
    "duration": 182,
    "start_time": "2021-08-08T08:58:02.379Z"
   },
   {
    "duration": 178,
    "start_time": "2021-08-08T08:58:02.384Z"
   },
   {
    "duration": 176,
    "start_time": "2021-08-08T08:58:02.387Z"
   },
   {
    "duration": 173,
    "start_time": "2021-08-08T08:58:02.391Z"
   },
   {
    "duration": 171,
    "start_time": "2021-08-08T08:58:02.394Z"
   },
   {
    "duration": 169,
    "start_time": "2021-08-08T08:58:02.397Z"
   },
   {
    "duration": 167,
    "start_time": "2021-08-08T08:58:02.400Z"
   },
   {
    "duration": 164,
    "start_time": "2021-08-08T08:58:02.403Z"
   },
   {
    "duration": 163,
    "start_time": "2021-08-08T08:58:02.405Z"
   },
   {
    "duration": 161,
    "start_time": "2021-08-08T08:58:02.408Z"
   },
   {
    "duration": 159,
    "start_time": "2021-08-08T08:58:02.411Z"
   },
   {
    "duration": 157,
    "start_time": "2021-08-08T08:58:02.414Z"
   },
   {
    "duration": 155,
    "start_time": "2021-08-08T08:58:02.417Z"
   },
   {
    "duration": 154,
    "start_time": "2021-08-08T08:58:02.419Z"
   },
   {
    "duration": 152,
    "start_time": "2021-08-08T08:58:02.422Z"
   },
   {
    "duration": 151,
    "start_time": "2021-08-08T08:58:02.424Z"
   },
   {
    "duration": 149,
    "start_time": "2021-08-08T08:58:02.427Z"
   },
   {
    "duration": 140,
    "start_time": "2021-08-08T08:58:02.437Z"
   },
   {
    "duration": 138,
    "start_time": "2021-08-08T08:58:02.440Z"
   },
   {
    "duration": 135,
    "start_time": "2021-08-08T08:58:02.443Z"
   },
   {
    "duration": 134,
    "start_time": "2021-08-08T08:58:02.445Z"
   },
   {
    "duration": 132,
    "start_time": "2021-08-08T08:58:02.448Z"
   },
   {
    "duration": 130,
    "start_time": "2021-08-08T08:58:02.451Z"
   },
   {
    "duration": 128,
    "start_time": "2021-08-08T08:58:02.454Z"
   },
   {
    "duration": 126,
    "start_time": "2021-08-08T08:58:02.457Z"
   },
   {
    "duration": 124,
    "start_time": "2021-08-08T08:58:02.460Z"
   },
   {
    "duration": 123,
    "start_time": "2021-08-08T08:58:02.462Z"
   },
   {
    "duration": 121,
    "start_time": "2021-08-08T08:58:02.465Z"
   },
   {
    "duration": 122,
    "start_time": "2021-08-08T08:58:02.468Z"
   },
   {
    "duration": 121,
    "start_time": "2021-08-08T08:58:02.470Z"
   },
   {
    "duration": 119,
    "start_time": "2021-08-08T08:58:02.473Z"
   },
   {
    "duration": 117,
    "start_time": "2021-08-08T08:58:02.476Z"
   },
   {
    "duration": 116,
    "start_time": "2021-08-08T08:58:02.478Z"
   },
   {
    "duration": 115,
    "start_time": "2021-08-08T08:58:02.481Z"
   },
   {
    "duration": 114,
    "start_time": "2021-08-08T08:58:02.483Z"
   },
   {
    "duration": 112,
    "start_time": "2021-08-08T08:58:02.486Z"
   },
   {
    "duration": 111,
    "start_time": "2021-08-08T08:58:02.488Z"
   },
   {
    "duration": 109,
    "start_time": "2021-08-08T08:58:02.491Z"
   },
   {
    "duration": 107,
    "start_time": "2021-08-08T08:58:02.494Z"
   },
   {
    "duration": 106,
    "start_time": "2021-08-08T08:58:02.496Z"
   },
   {
    "duration": 105,
    "start_time": "2021-08-08T08:58:02.498Z"
   },
   {
    "duration": 103,
    "start_time": "2021-08-08T08:58:02.501Z"
   },
   {
    "duration": 103,
    "start_time": "2021-08-08T08:58:02.503Z"
   },
   {
    "duration": 348,
    "start_time": "2021-08-08T09:06:16.582Z"
   },
   {
    "duration": 73,
    "start_time": "2021-08-08T09:06:20.759Z"
   },
   {
    "duration": 72,
    "start_time": "2021-08-08T09:06:31.159Z"
   },
   {
    "duration": 352,
    "start_time": "2021-08-08T09:06:42.930Z"
   },
   {
    "duration": 72,
    "start_time": "2021-08-08T09:06:59.657Z"
   },
   {
    "duration": 70,
    "start_time": "2021-08-08T09:07:14.838Z"
   },
   {
    "duration": 71,
    "start_time": "2021-08-08T09:08:08.283Z"
   },
   {
    "duration": 71,
    "start_time": "2021-08-08T09:08:15.672Z"
   },
   {
    "duration": 85,
    "start_time": "2021-08-08T09:08:19.919Z"
   },
   {
    "duration": 73,
    "start_time": "2021-08-08T09:08:20.652Z"
   },
   {
    "duration": 99,
    "start_time": "2021-08-08T09:08:57.827Z"
   },
   {
    "duration": 112,
    "start_time": "2021-08-08T09:08:59.134Z"
   },
   {
    "duration": 93,
    "start_time": "2021-08-08T09:08:59.613Z"
   },
   {
    "duration": 3,
    "start_time": "2021-08-08T09:09:08.292Z"
   },
   {
    "duration": 98,
    "start_time": "2021-08-08T09:09:39.151Z"
   },
   {
    "duration": 94,
    "start_time": "2021-08-08T09:10:04.073Z"
   },
   {
    "duration": 220,
    "start_time": "2021-08-08T09:10:09.041Z"
   },
   {
    "duration": 175,
    "start_time": "2021-08-08T09:10:38.981Z"
   },
   {
    "duration": 244,
    "start_time": "2021-08-08T09:10:46.861Z"
   },
   {
    "duration": 214,
    "start_time": "2021-08-08T09:10:48.080Z"
   },
   {
    "duration": 299,
    "start_time": "2021-08-08T09:10:48.295Z"
   },
   {
    "duration": 181,
    "start_time": "2021-08-08T09:10:50.592Z"
   },
   {
    "duration": 7,
    "start_time": "2021-08-08T09:20:50.498Z"
   },
   {
    "duration": 259,
    "start_time": "2021-08-08T09:20:51.159Z"
   },
   {
    "duration": 1397,
    "start_time": "2021-08-08T09:21:10.897Z"
   },
   {
    "duration": 2,
    "start_time": "2021-08-08T09:21:12.296Z"
   },
   {
    "duration": 591,
    "start_time": "2021-08-08T09:21:12.300Z"
   },
   {
    "duration": 11,
    "start_time": "2021-08-08T09:21:12.893Z"
   },
   {
    "duration": 54,
    "start_time": "2021-08-08T09:21:12.905Z"
   },
   {
    "duration": 241,
    "start_time": "2021-08-08T09:21:12.960Z"
   },
   {
    "duration": 4,
    "start_time": "2021-08-08T09:21:13.202Z"
   },
   {
    "duration": 10,
    "start_time": "2021-08-08T09:21:13.208Z"
   },
   {
    "duration": 171,
    "start_time": "2021-08-08T09:21:13.220Z"
   },
   {
    "duration": 23,
    "start_time": "2021-08-08T09:21:13.393Z"
   },
   {
    "duration": 7,
    "start_time": "2021-08-08T09:21:13.417Z"
   },
   {
    "duration": 13,
    "start_time": "2021-08-08T09:21:13.425Z"
   },
   {
    "duration": 5,
    "start_time": "2021-08-08T09:21:13.440Z"
   },
   {
    "duration": 9,
    "start_time": "2021-08-08T09:21:13.447Z"
   },
   {
    "duration": 38,
    "start_time": "2021-08-08T09:21:13.458Z"
   },
   {
    "duration": 3,
    "start_time": "2021-08-08T09:21:13.497Z"
   },
   {
    "duration": 5,
    "start_time": "2021-08-08T09:21:13.502Z"
   },
   {
    "duration": 13,
    "start_time": "2021-08-08T09:21:13.508Z"
   },
   {
    "duration": 15,
    "start_time": "2021-08-08T09:21:13.523Z"
   },
   {
    "duration": 6,
    "start_time": "2021-08-08T09:21:13.539Z"
   },
   {
    "duration": 8,
    "start_time": "2021-08-08T09:21:13.546Z"
   },
   {
    "duration": 10,
    "start_time": "2021-08-08T09:21:13.555Z"
   },
   {
    "duration": 13,
    "start_time": "2021-08-08T09:21:13.568Z"
   },
   {
    "duration": 9,
    "start_time": "2021-08-08T09:21:13.584Z"
   },
   {
    "duration": 10,
    "start_time": "2021-08-08T09:21:13.594Z"
   },
   {
    "duration": 13,
    "start_time": "2021-08-08T09:21:13.606Z"
   },
   {
    "duration": 381,
    "start_time": "2021-08-08T09:21:13.620Z"
   },
   {
    "duration": 12,
    "start_time": "2021-08-08T09:21:14.002Z"
   },
   {
    "duration": 138,
    "start_time": "2021-08-08T09:21:14.016Z"
   },
   {
    "duration": 86,
    "start_time": "2021-08-08T09:21:14.156Z"
   },
   {
    "duration": 74,
    "start_time": "2021-08-08T09:21:14.243Z"
   },
   {
    "duration": 3,
    "start_time": "2021-08-08T09:21:14.319Z"
   },
   {
    "duration": 244,
    "start_time": "2021-08-08T09:21:14.324Z"
   },
   {
    "duration": 231,
    "start_time": "2021-08-08T09:21:14.570Z"
   },
   {
    "duration": 298,
    "start_time": "2021-08-08T09:21:14.802Z"
   },
   {
    "duration": 191,
    "start_time": "2021-08-08T09:21:15.102Z"
   },
   {
    "duration": 27,
    "start_time": "2021-08-08T09:21:15.295Z"
   },
   {
    "duration": 364,
    "start_time": "2021-08-08T09:21:15.323Z"
   },
   {
    "duration": 272,
    "start_time": "2021-08-08T09:21:15.418Z"
   },
   {
    "duration": 269,
    "start_time": "2021-08-08T09:21:15.422Z"
   },
   {
    "duration": 252,
    "start_time": "2021-08-08T09:21:15.440Z"
   },
   {
    "duration": 250,
    "start_time": "2021-08-08T09:21:15.443Z"
   },
   {
    "duration": 249,
    "start_time": "2021-08-08T09:21:15.446Z"
   },
   {
    "duration": 242,
    "start_time": "2021-08-08T09:21:15.454Z"
   },
   {
    "duration": 240,
    "start_time": "2021-08-08T09:21:15.457Z"
   },
   {
    "duration": 238,
    "start_time": "2021-08-08T09:21:15.460Z"
   },
   {
    "duration": 235,
    "start_time": "2021-08-08T09:21:15.464Z"
   },
   {
    "duration": 233,
    "start_time": "2021-08-08T09:21:15.467Z"
   },
   {
    "duration": 232,
    "start_time": "2021-08-08T09:21:15.469Z"
   },
   {
    "duration": 229,
    "start_time": "2021-08-08T09:21:15.472Z"
   },
   {
    "duration": 227,
    "start_time": "2021-08-08T09:21:15.475Z"
   },
   {
    "duration": 225,
    "start_time": "2021-08-08T09:21:15.478Z"
   },
   {
    "duration": 223,
    "start_time": "2021-08-08T09:21:15.481Z"
   },
   {
    "duration": 222,
    "start_time": "2021-08-08T09:21:15.483Z"
   },
   {
    "duration": 220,
    "start_time": "2021-08-08T09:21:15.486Z"
   },
   {
    "duration": 217,
    "start_time": "2021-08-08T09:21:15.490Z"
   },
   {
    "duration": 215,
    "start_time": "2021-08-08T09:21:15.493Z"
   },
   {
    "duration": 214,
    "start_time": "2021-08-08T09:21:15.495Z"
   },
   {
    "duration": 212,
    "start_time": "2021-08-08T09:21:15.498Z"
   },
   {
    "duration": 208,
    "start_time": "2021-08-08T09:21:15.502Z"
   },
   {
    "duration": 206,
    "start_time": "2021-08-08T09:21:15.505Z"
   },
   {
    "duration": 205,
    "start_time": "2021-08-08T09:21:15.507Z"
   },
   {
    "duration": 203,
    "start_time": "2021-08-08T09:21:15.510Z"
   },
   {
    "duration": 201,
    "start_time": "2021-08-08T09:21:15.513Z"
   },
   {
    "duration": 197,
    "start_time": "2021-08-08T09:21:15.517Z"
   },
   {
    "duration": 195,
    "start_time": "2021-08-08T09:21:15.520Z"
   },
   {
    "duration": 193,
    "start_time": "2021-08-08T09:21:15.523Z"
   },
   {
    "duration": 191,
    "start_time": "2021-08-08T09:21:15.526Z"
   },
   {
    "duration": 183,
    "start_time": "2021-08-08T09:21:15.535Z"
   },
   {
    "duration": 181,
    "start_time": "2021-08-08T09:21:15.538Z"
   },
   {
    "duration": 173,
    "start_time": "2021-08-08T09:21:15.546Z"
   },
   {
    "duration": 171,
    "start_time": "2021-08-08T09:21:15.549Z"
   },
   {
    "duration": 168,
    "start_time": "2021-08-08T09:21:15.553Z"
   },
   {
    "duration": 161,
    "start_time": "2021-08-08T09:21:15.561Z"
   },
   {
    "duration": 159,
    "start_time": "2021-08-08T09:21:15.564Z"
   },
   {
    "duration": 156,
    "start_time": "2021-08-08T09:21:15.567Z"
   },
   {
    "duration": 150,
    "start_time": "2021-08-08T09:21:15.574Z"
   },
   {
    "duration": 148,
    "start_time": "2021-08-08T09:21:15.577Z"
   },
   {
    "duration": 146,
    "start_time": "2021-08-08T09:21:15.580Z"
   },
   {
    "duration": 142,
    "start_time": "2021-08-08T09:21:15.585Z"
   },
   {
    "duration": 139,
    "start_time": "2021-08-08T09:21:15.588Z"
   },
   {
    "duration": 135,
    "start_time": "2021-08-08T09:21:15.593Z"
   },
   {
    "duration": 131,
    "start_time": "2021-08-08T09:21:15.598Z"
   },
   {
    "duration": 127,
    "start_time": "2021-08-08T09:21:15.603Z"
   },
   {
    "duration": 122,
    "start_time": "2021-08-08T09:21:15.609Z"
   },
   {
    "duration": 177,
    "start_time": "2021-08-08T09:21:15.614Z"
   },
   {
    "duration": 175,
    "start_time": "2021-08-08T09:21:15.617Z"
   },
   {
    "duration": 172,
    "start_time": "2021-08-08T09:21:15.621Z"
   },
   {
    "duration": 168,
    "start_time": "2021-08-08T09:21:15.625Z"
   },
   {
    "duration": 159,
    "start_time": "2021-08-08T09:21:15.635Z"
   },
   {
    "duration": 149,
    "start_time": "2021-08-08T09:21:15.646Z"
   },
   {
    "duration": 144,
    "start_time": "2021-08-08T09:21:15.651Z"
   },
   {
    "duration": 5,
    "start_time": "2021-08-08T09:21:38.131Z"
   },
   {
    "duration": 11,
    "start_time": "2021-08-08T09:21:43.744Z"
   },
   {
    "duration": 20,
    "start_time": "2021-08-08T09:21:44.253Z"
   },
   {
    "duration": 32,
    "start_time": "2021-08-08T09:21:44.647Z"
   },
   {
    "duration": 21,
    "start_time": "2021-08-08T09:21:45.028Z"
   },
   {
    "duration": 10,
    "start_time": "2021-08-08T09:21:45.346Z"
   },
   {
    "duration": 176,
    "start_time": "2021-08-08T09:21:45.728Z"
   },
   {
    "duration": 172,
    "start_time": "2021-08-08T09:21:52.850Z"
   },
   {
    "duration": 40,
    "start_time": "2021-08-08T09:21:53.202Z"
   },
   {
    "duration": 113,
    "start_time": "2021-08-08T09:21:53.742Z"
   },
   {
    "duration": 9,
    "start_time": "2021-08-08T09:21:54.184Z"
   },
   {
    "duration": 6,
    "start_time": "2021-08-08T09:21:54.438Z"
   },
   {
    "duration": 10,
    "start_time": "2021-08-08T09:21:54.900Z"
   },
   {
    "duration": 29,
    "start_time": "2021-08-08T09:21:55.223Z"
   },
   {
    "duration": 748,
    "start_time": "2021-08-08T09:21:55.575Z"
   },
   {
    "duration": 24,
    "start_time": "2021-08-08T09:22:00.268Z"
   },
   {
    "duration": 341,
    "start_time": "2021-08-08T09:22:00.704Z"
   },
   {
    "duration": 36,
    "start_time": "2021-08-08T09:22:01.047Z"
   },
   {
    "duration": 11,
    "start_time": "2021-08-08T09:22:01.417Z"
   },
   {
    "duration": 139,
    "start_time": "2021-08-08T09:22:01.765Z"
   },
   {
    "duration": 488,
    "start_time": "2021-08-08T09:22:02.029Z"
   },
   {
    "duration": 390,
    "start_time": "2021-08-08T09:22:02.519Z"
   },
   {
    "duration": 6,
    "start_time": "2021-08-08T09:22:06.208Z"
   },
   {
    "duration": 19,
    "start_time": "2021-08-08T09:22:07.439Z"
   },
   {
    "duration": 16,
    "start_time": "2021-08-08T09:22:17.020Z"
   },
   {
    "duration": 13,
    "start_time": "2021-08-08T09:23:28.929Z"
   },
   {
    "duration": 366,
    "start_time": "2021-08-08T09:24:35.807Z"
   },
   {
    "duration": 277,
    "start_time": "2021-08-08T09:24:42.307Z"
   },
   {
    "duration": 255,
    "start_time": "2021-08-08T09:24:51.008Z"
   },
   {
    "duration": 59,
    "start_time": "2021-08-08T09:25:30.154Z"
   },
   {
    "duration": 7,
    "start_time": "2021-08-08T09:27:28.315Z"
   },
   {
    "duration": 18,
    "start_time": "2021-08-08T09:27:28.820Z"
   },
   {
    "duration": 15,
    "start_time": "2021-08-08T09:27:29.248Z"
   },
   {
    "duration": 61,
    "start_time": "2021-08-08T09:27:29.692Z"
   },
   {
    "duration": 13,
    "start_time": "2021-08-08T09:29:57.055Z"
   },
   {
    "duration": 24,
    "start_time": "2021-08-08T09:30:20.069Z"
   },
   {
    "duration": 15,
    "start_time": "2021-08-08T09:30:35.630Z"
   },
   {
    "duration": 9,
    "start_time": "2021-08-08T09:30:38.963Z"
   },
   {
    "duration": 14,
    "start_time": "2021-08-08T09:30:44.049Z"
   },
   {
    "duration": 9,
    "start_time": "2021-08-08T09:30:46.510Z"
   },
   {
    "duration": 249,
    "start_time": "2021-08-08T09:31:34.802Z"
   },
   {
    "duration": 7,
    "start_time": "2021-08-08T09:31:36.763Z"
   },
   {
    "duration": 17,
    "start_time": "2021-08-08T09:35:45.218Z"
   },
   {
    "duration": 11,
    "start_time": "2021-08-08T09:35:52.032Z"
   },
   {
    "duration": 232,
    "start_time": "2021-08-08T09:36:57.376Z"
   },
   {
    "duration": 19,
    "start_time": "2021-08-08T09:37:00.543Z"
   },
   {
    "duration": 5,
    "start_time": "2021-08-08T09:37:01.021Z"
   },
   {
    "duration": 14,
    "start_time": "2021-08-08T09:37:05.552Z"
   },
   {
    "duration": 5,
    "start_time": "2021-08-08T09:37:20.867Z"
   },
   {
    "duration": 7,
    "start_time": "2021-08-08T09:37:24.378Z"
   },
   {
    "duration": 13,
    "start_time": "2021-08-08T09:37:28.380Z"
   },
   {
    "duration": 17,
    "start_time": "2021-08-08T09:37:40.471Z"
   },
   {
    "duration": 14,
    "start_time": "2021-08-08T09:37:40.921Z"
   },
   {
    "duration": 10,
    "start_time": "2021-08-08T09:37:52.614Z"
   },
   {
    "duration": 6,
    "start_time": "2021-08-08T09:42:00.071Z"
   },
   {
    "duration": 256,
    "start_time": "2021-08-08T09:42:02.821Z"
   },
   {
    "duration": 272,
    "start_time": "2021-08-08T09:42:22.894Z"
   },
   {
    "duration": 239,
    "start_time": "2021-08-08T09:42:26.047Z"
   },
   {
    "duration": 19,
    "start_time": "2021-08-08T09:44:13.364Z"
   },
   {
    "duration": 9,
    "start_time": "2021-08-08T09:44:14.418Z"
   },
   {
    "duration": 17,
    "start_time": "2021-08-08T09:44:24.975Z"
   },
   {
    "duration": 8,
    "start_time": "2021-08-08T09:45:03.085Z"
   },
   {
    "duration": 367,
    "start_time": "2021-08-08T09:45:35.984Z"
   },
   {
    "duration": 247,
    "start_time": "2021-08-08T09:46:14.518Z"
   },
   {
    "duration": 17,
    "start_time": "2021-08-08T09:46:18.073Z"
   },
   {
    "duration": 9,
    "start_time": "2021-08-08T09:46:18.528Z"
   },
   {
    "duration": 18,
    "start_time": "2021-08-08T09:46:29.642Z"
   },
   {
    "duration": 19,
    "start_time": "2021-08-08T09:48:12.941Z"
   },
   {
    "duration": 344,
    "start_time": "2021-08-08T09:48:23.391Z"
   },
   {
    "duration": 16,
    "start_time": "2021-08-08T09:48:26.661Z"
   },
   {
    "duration": 26,
    "start_time": "2021-08-08T09:48:27.221Z"
   },
   {
    "duration": 4526,
    "start_time": "2021-08-08T09:49:01.027Z"
   },
   {
    "duration": 76,
    "start_time": "2021-08-08T09:49:09.352Z"
   },
   {
    "duration": 5,
    "start_time": "2021-08-08T09:49:10.361Z"
   },
   {
    "duration": 16,
    "start_time": "2021-08-08T09:52:46.610Z"
   },
   {
    "duration": 27,
    "start_time": "2021-08-08T09:52:47.102Z"
   },
   {
    "duration": 26,
    "start_time": "2021-08-08T09:54:09.111Z"
   },
   {
    "duration": 5,
    "start_time": "2021-08-08T09:54:17.639Z"
   },
   {
    "duration": 25,
    "start_time": "2021-08-08T09:54:56.823Z"
   },
   {
    "duration": 11,
    "start_time": "2021-08-08T09:55:25.956Z"
   },
   {
    "duration": 27,
    "start_time": "2021-08-08T10:03:26.098Z"
   },
   {
    "duration": 29,
    "start_time": "2021-08-08T10:03:31.880Z"
   },
   {
    "duration": 26,
    "start_time": "2021-08-08T10:03:39.634Z"
   },
   {
    "duration": 25,
    "start_time": "2021-08-08T10:03:43.471Z"
   },
   {
    "duration": 27,
    "start_time": "2021-08-08T10:03:44.689Z"
   },
   {
    "duration": 27,
    "start_time": "2021-08-08T10:03:52.696Z"
   },
   {
    "duration": 26,
    "start_time": "2021-08-08T10:03:55.018Z"
   },
   {
    "duration": 30,
    "start_time": "2021-08-08T10:04:05.988Z"
   },
   {
    "duration": 25,
    "start_time": "2021-08-08T10:04:09.614Z"
   },
   {
    "duration": 29,
    "start_time": "2021-08-08T10:04:27.813Z"
   },
   {
    "duration": 27,
    "start_time": "2021-08-08T10:04:39.206Z"
   },
   {
    "duration": 4,
    "start_time": "2021-08-08T10:04:44.105Z"
   },
   {
    "duration": 26,
    "start_time": "2021-08-08T10:05:08.348Z"
   },
   {
    "duration": 5,
    "start_time": "2021-08-08T10:05:12.485Z"
   },
   {
    "duration": 26,
    "start_time": "2021-08-08T10:05:34.417Z"
   },
   {
    "duration": 5,
    "start_time": "2021-08-08T10:05:43.704Z"
   },
   {
    "duration": 24,
    "start_time": "2021-08-08T10:07:37.317Z"
   },
   {
    "duration": 28,
    "start_time": "2021-08-08T10:10:51.509Z"
   },
   {
    "duration": 4,
    "start_time": "2021-08-08T10:10:55.041Z"
   },
   {
    "duration": 83,
    "start_time": "2021-08-08T10:12:15.060Z"
   },
   {
    "duration": 284,
    "start_time": "2021-08-08T10:12:21.281Z"
   },
   {
    "duration": 45,
    "start_time": "2021-08-08T10:12:38.519Z"
   },
   {
    "duration": 5,
    "start_time": "2021-08-08T10:12:42.648Z"
   },
   {
    "duration": 1423,
    "start_time": "2021-08-08T10:13:40.916Z"
   },
   {
    "duration": 3,
    "start_time": "2021-08-08T10:13:42.341Z"
   },
   {
    "duration": 649,
    "start_time": "2021-08-08T10:13:42.346Z"
   },
   {
    "duration": 11,
    "start_time": "2021-08-08T10:13:42.997Z"
   },
   {
    "duration": 51,
    "start_time": "2021-08-08T10:13:43.009Z"
   },
   {
    "duration": 257,
    "start_time": "2021-08-08T10:13:43.062Z"
   },
   {
    "duration": 3,
    "start_time": "2021-08-08T10:13:43.320Z"
   },
   {
    "duration": 8,
    "start_time": "2021-08-08T10:13:43.326Z"
   },
   {
    "duration": 161,
    "start_time": "2021-08-08T10:13:43.336Z"
   },
   {
    "duration": 20,
    "start_time": "2021-08-08T10:13:43.499Z"
   },
   {
    "duration": 7,
    "start_time": "2021-08-08T10:13:43.520Z"
   },
   {
    "duration": 12,
    "start_time": "2021-08-08T10:13:43.528Z"
   },
   {
    "duration": 6,
    "start_time": "2021-08-08T10:13:43.541Z"
   },
   {
    "duration": 9,
    "start_time": "2021-08-08T10:13:43.549Z"
   },
   {
    "duration": 43,
    "start_time": "2021-08-08T10:13:43.559Z"
   },
   {
    "duration": 3,
    "start_time": "2021-08-08T10:13:43.603Z"
   },
   {
    "duration": 5,
    "start_time": "2021-08-08T10:13:43.608Z"
   },
   {
    "duration": 11,
    "start_time": "2021-08-08T10:13:43.615Z"
   },
   {
    "duration": 14,
    "start_time": "2021-08-08T10:13:43.628Z"
   },
   {
    "duration": 5,
    "start_time": "2021-08-08T10:13:43.643Z"
   },
   {
    "duration": 8,
    "start_time": "2021-08-08T10:13:43.650Z"
   },
   {
    "duration": 9,
    "start_time": "2021-08-08T10:13:43.659Z"
   },
   {
    "duration": 9,
    "start_time": "2021-08-08T10:13:43.671Z"
   },
   {
    "duration": 4,
    "start_time": "2021-08-08T10:13:43.691Z"
   },
   {
    "duration": 13,
    "start_time": "2021-08-08T10:13:43.696Z"
   },
   {
    "duration": 14,
    "start_time": "2021-08-08T10:13:43.710Z"
   },
   {
    "duration": 274,
    "start_time": "2021-08-08T10:13:43.725Z"
   },
   {
    "duration": 11,
    "start_time": "2021-08-08T10:13:44.001Z"
   },
   {
    "duration": 132,
    "start_time": "2021-08-08T10:13:44.013Z"
   },
   {
    "duration": 83,
    "start_time": "2021-08-08T10:13:44.147Z"
   },
   {
    "duration": 74,
    "start_time": "2021-08-08T10:13:44.231Z"
   },
   {
    "duration": 3,
    "start_time": "2021-08-08T10:13:44.307Z"
   },
   {
    "duration": 243,
    "start_time": "2021-08-08T10:13:44.312Z"
   },
   {
    "duration": 237,
    "start_time": "2021-08-08T10:13:44.557Z"
   },
   {
    "duration": 303,
    "start_time": "2021-08-08T10:13:44.796Z"
   },
   {
    "duration": 194,
    "start_time": "2021-08-08T10:13:45.101Z"
   },
   {
    "duration": 27,
    "start_time": "2021-08-08T10:13:45.297Z"
   },
   {
    "duration": 4,
    "start_time": "2021-08-08T10:13:45.326Z"
   },
   {
    "duration": 14,
    "start_time": "2021-08-08T10:13:45.332Z"
   },
   {
    "duration": 18,
    "start_time": "2021-08-08T10:13:45.348Z"
   },
   {
    "duration": 51,
    "start_time": "2021-08-08T10:13:45.368Z"
   },
   {
    "duration": 20,
    "start_time": "2021-08-08T10:13:45.421Z"
   },
   {
    "duration": 9,
    "start_time": "2021-08-08T10:13:45.442Z"
   },
   {
    "duration": 199,
    "start_time": "2021-08-08T10:13:45.452Z"
   },
   {
    "duration": 9,
    "start_time": "2021-08-08T10:13:45.653Z"
   },
   {
    "duration": 194,
    "start_time": "2021-08-08T10:13:45.663Z"
   },
   {
    "duration": 44,
    "start_time": "2021-08-08T10:13:45.858Z"
   },
   {
    "duration": 116,
    "start_time": "2021-08-08T10:13:45.903Z"
   },
   {
    "duration": 10,
    "start_time": "2021-08-08T10:13:46.021Z"
   },
   {
    "duration": 16,
    "start_time": "2021-08-08T10:13:46.033Z"
   },
   {
    "duration": 29,
    "start_time": "2021-08-08T10:13:46.050Z"
   },
   {
    "duration": 34,
    "start_time": "2021-08-08T10:13:46.080Z"
   },
   {
    "duration": 715,
    "start_time": "2021-08-08T10:13:46.115Z"
   },
   {
    "duration": 23,
    "start_time": "2021-08-08T10:13:46.831Z"
   },
   {
    "duration": 322,
    "start_time": "2021-08-08T10:13:46.855Z"
   },
   {
    "duration": 40,
    "start_time": "2021-08-08T10:13:47.179Z"
   },
   {
    "duration": 10,
    "start_time": "2021-08-08T10:13:47.221Z"
   },
   {
    "duration": 147,
    "start_time": "2021-08-08T10:13:47.232Z"
   },
   {
    "duration": 464,
    "start_time": "2021-08-08T10:13:47.380Z"
   },
   {
    "duration": 372,
    "start_time": "2021-08-08T10:13:47.845Z"
   },
   {
    "duration": 16,
    "start_time": "2021-08-08T10:13:48.218Z"
   },
   {
    "duration": 346,
    "start_time": "2021-08-08T10:13:48.236Z"
   },
   {
    "duration": 186,
    "start_time": "2021-08-08T10:13:48.399Z"
   },
   {
    "duration": 181,
    "start_time": "2021-08-08T10:13:48.405Z"
   },
   {
    "duration": 178,
    "start_time": "2021-08-08T10:13:48.409Z"
   },
   {
    "duration": 176,
    "start_time": "2021-08-08T10:13:48.413Z"
   },
   {
    "duration": 176,
    "start_time": "2021-08-08T10:13:48.415Z"
   },
   {
    "duration": 173,
    "start_time": "2021-08-08T10:13:48.419Z"
   },
   {
    "duration": 172,
    "start_time": "2021-08-08T10:13:48.421Z"
   },
   {
    "duration": 171,
    "start_time": "2021-08-08T10:13:48.424Z"
   },
   {
    "duration": 170,
    "start_time": "2021-08-08T10:13:48.426Z"
   },
   {
    "duration": 168,
    "start_time": "2021-08-08T10:13:48.429Z"
   },
   {
    "duration": 167,
    "start_time": "2021-08-08T10:13:48.432Z"
   },
   {
    "duration": 165,
    "start_time": "2021-08-08T10:13:48.435Z"
   },
   {
    "duration": 163,
    "start_time": "2021-08-08T10:13:48.438Z"
   },
   {
    "duration": 162,
    "start_time": "2021-08-08T10:13:48.441Z"
   },
   {
    "duration": 161,
    "start_time": "2021-08-08T10:13:48.443Z"
   },
   {
    "duration": 159,
    "start_time": "2021-08-08T10:13:48.446Z"
   },
   {
    "duration": 158,
    "start_time": "2021-08-08T10:13:48.449Z"
   },
   {
    "duration": 156,
    "start_time": "2021-08-08T10:13:48.452Z"
   },
   {
    "duration": 148,
    "start_time": "2021-08-08T10:13:48.461Z"
   },
   {
    "duration": 146,
    "start_time": "2021-08-08T10:13:48.464Z"
   },
   {
    "duration": 145,
    "start_time": "2021-08-08T10:13:48.467Z"
   },
   {
    "duration": 143,
    "start_time": "2021-08-08T10:13:48.470Z"
   },
   {
    "duration": 141,
    "start_time": "2021-08-08T10:13:48.473Z"
   },
   {
    "duration": 140,
    "start_time": "2021-08-08T10:13:48.476Z"
   },
   {
    "duration": 138,
    "start_time": "2021-08-08T10:13:48.479Z"
   },
   {
    "duration": 136,
    "start_time": "2021-08-08T10:13:48.482Z"
   },
   {
    "duration": 134,
    "start_time": "2021-08-08T10:13:48.486Z"
   },
   {
    "duration": 132,
    "start_time": "2021-08-08T10:13:48.489Z"
   },
   {
    "duration": 130,
    "start_time": "2021-08-08T10:13:48.492Z"
   },
   {
    "duration": 128,
    "start_time": "2021-08-08T10:13:48.495Z"
   },
   {
    "duration": 1382,
    "start_time": "2021-08-08T10:15:49.314Z"
   },
   {
    "duration": 3,
    "start_time": "2021-08-08T10:15:50.697Z"
   },
   {
    "duration": 606,
    "start_time": "2021-08-08T10:15:50.704Z"
   },
   {
    "duration": 10,
    "start_time": "2021-08-08T10:15:51.312Z"
   },
   {
    "duration": 55,
    "start_time": "2021-08-08T10:15:51.324Z"
   },
   {
    "duration": 235,
    "start_time": "2021-08-08T10:15:51.381Z"
   },
   {
    "duration": 3,
    "start_time": "2021-08-08T10:15:51.618Z"
   },
   {
    "duration": 6,
    "start_time": "2021-08-08T10:15:51.623Z"
   },
   {
    "duration": 161,
    "start_time": "2021-08-08T10:15:51.631Z"
   },
   {
    "duration": 23,
    "start_time": "2021-08-08T10:15:51.794Z"
   },
   {
    "duration": 7,
    "start_time": "2021-08-08T10:15:51.818Z"
   },
   {
    "duration": 13,
    "start_time": "2021-08-08T10:15:51.826Z"
   },
   {
    "duration": 6,
    "start_time": "2021-08-08T10:15:51.840Z"
   },
   {
    "duration": 13,
    "start_time": "2021-08-08T10:15:51.848Z"
   },
   {
    "duration": 35,
    "start_time": "2021-08-08T10:15:51.862Z"
   },
   {
    "duration": 3,
    "start_time": "2021-08-08T10:15:51.898Z"
   },
   {
    "duration": 5,
    "start_time": "2021-08-08T10:15:51.903Z"
   },
   {
    "duration": 10,
    "start_time": "2021-08-08T10:15:51.909Z"
   },
   {
    "duration": 18,
    "start_time": "2021-08-08T10:15:51.921Z"
   },
   {
    "duration": 5,
    "start_time": "2021-08-08T10:15:51.941Z"
   },
   {
    "duration": 8,
    "start_time": "2021-08-08T10:15:51.948Z"
   },
   {
    "duration": 8,
    "start_time": "2021-08-08T10:15:51.960Z"
   },
   {
    "duration": 21,
    "start_time": "2021-08-08T10:15:51.971Z"
   },
   {
    "duration": 3,
    "start_time": "2021-08-08T10:15:51.994Z"
   },
   {
    "duration": 11,
    "start_time": "2021-08-08T10:15:51.998Z"
   },
   {
    "duration": 13,
    "start_time": "2021-08-08T10:15:52.010Z"
   },
   {
    "duration": 286,
    "start_time": "2021-08-08T10:15:52.025Z"
   },
   {
    "duration": 12,
    "start_time": "2021-08-08T10:15:52.312Z"
   },
   {
    "duration": 130,
    "start_time": "2021-08-08T10:15:52.325Z"
   },
   {
    "duration": 90,
    "start_time": "2021-08-08T10:15:52.457Z"
   },
   {
    "duration": 80,
    "start_time": "2021-08-08T10:15:52.549Z"
   },
   {
    "duration": 3,
    "start_time": "2021-08-08T10:15:52.631Z"
   },
   {
    "duration": 256,
    "start_time": "2021-08-08T10:15:52.635Z"
   },
   {
    "duration": 234,
    "start_time": "2021-08-08T10:15:52.893Z"
   },
   {
    "duration": 294,
    "start_time": "2021-08-08T10:15:53.129Z"
   },
   {
    "duration": 183,
    "start_time": "2021-08-08T10:15:53.424Z"
   },
   {
    "duration": 27,
    "start_time": "2021-08-08T10:15:53.608Z"
   },
   {
    "duration": 4,
    "start_time": "2021-08-08T10:15:53.636Z"
   },
   {
    "duration": 11,
    "start_time": "2021-08-08T10:15:53.642Z"
   },
   {
    "duration": 44,
    "start_time": "2021-08-08T10:15:53.655Z"
   },
   {
    "duration": 30,
    "start_time": "2021-08-08T10:15:53.700Z"
   },
   {
    "duration": 19,
    "start_time": "2021-08-08T10:15:53.732Z"
   },
   {
    "duration": 8,
    "start_time": "2021-08-08T10:15:53.753Z"
   },
   {
    "duration": 203,
    "start_time": "2021-08-08T10:15:53.763Z"
   },
   {
    "duration": 9,
    "start_time": "2021-08-08T10:15:53.967Z"
   },
   {
    "duration": 187,
    "start_time": "2021-08-08T10:15:53.978Z"
   },
   {
    "duration": 43,
    "start_time": "2021-08-08T10:15:54.167Z"
   },
   {
    "duration": 118,
    "start_time": "2021-08-08T10:15:54.212Z"
   },
   {
    "duration": 9,
    "start_time": "2021-08-08T10:15:54.332Z"
   },
   {
    "duration": 24,
    "start_time": "2021-08-08T10:15:54.342Z"
   },
   {
    "duration": 17,
    "start_time": "2021-08-08T10:15:54.368Z"
   },
   {
    "duration": 35,
    "start_time": "2021-08-08T10:15:54.387Z"
   },
   {
    "duration": 711,
    "start_time": "2021-08-08T10:15:54.424Z"
   },
   {
    "duration": 22,
    "start_time": "2021-08-08T10:15:55.137Z"
   },
   {
    "duration": 327,
    "start_time": "2021-08-08T10:15:55.161Z"
   },
   {
    "duration": 34,
    "start_time": "2021-08-08T10:15:55.491Z"
   },
   {
    "duration": 10,
    "start_time": "2021-08-08T10:15:55.526Z"
   },
   {
    "duration": 156,
    "start_time": "2021-08-08T10:15:55.537Z"
   },
   {
    "duration": 469,
    "start_time": "2021-08-08T10:15:55.695Z"
   },
   {
    "duration": 420,
    "start_time": "2021-08-08T10:15:56.166Z"
   },
   {
    "duration": 10,
    "start_time": "2021-08-08T10:15:56.591Z"
   },
   {
    "duration": 35,
    "start_time": "2021-08-08T10:15:56.602Z"
   },
   {
    "duration": 58,
    "start_time": "2021-08-08T10:15:56.639Z"
   },
   {
    "duration": 5,
    "start_time": "2021-08-08T10:15:56.699Z"
   },
   {
    "duration": 33,
    "start_time": "2021-08-08T10:15:56.705Z"
   },
   {
    "duration": 9,
    "start_time": "2021-08-08T10:15:56.739Z"
   },
   {
    "duration": 9,
    "start_time": "2021-08-08T10:15:56.753Z"
   },
   {
    "duration": 293,
    "start_time": "2021-08-08T10:15:56.790Z"
   },
   {
    "duration": 173,
    "start_time": "2021-08-08T10:15:57.085Z"
   },
   {
    "duration": 18,
    "start_time": "2021-08-08T10:15:57.260Z"
   },
   {
    "duration": 23,
    "start_time": "2021-08-08T10:15:57.280Z"
   },
   {
    "duration": 57,
    "start_time": "2021-08-08T10:15:57.305Z"
   },
   {
    "duration": 353,
    "start_time": "2021-08-08T10:15:57.364Z"
   },
   {
    "duration": 165,
    "start_time": "2021-08-08T10:15:57.554Z"
   },
   {
    "duration": 159,
    "start_time": "2021-08-08T10:15:57.562Z"
   },
   {
    "duration": 141,
    "start_time": "2021-08-08T10:15:57.581Z"
   },
   {
    "duration": 136,
    "start_time": "2021-08-08T10:15:57.587Z"
   },
   {
    "duration": 134,
    "start_time": "2021-08-08T10:15:57.591Z"
   },
   {
    "duration": 131,
    "start_time": "2021-08-08T10:15:57.595Z"
   },
   {
    "duration": 128,
    "start_time": "2021-08-08T10:15:57.599Z"
   },
   {
    "duration": 124,
    "start_time": "2021-08-08T10:15:57.604Z"
   },
   {
    "duration": 123,
    "start_time": "2021-08-08T10:15:57.607Z"
   },
   {
    "duration": 119,
    "start_time": "2021-08-08T10:15:57.612Z"
   },
   {
    "duration": 117,
    "start_time": "2021-08-08T10:15:57.615Z"
   },
   {
    "duration": 115,
    "start_time": "2021-08-08T10:15:57.618Z"
   },
   {
    "duration": 115,
    "start_time": "2021-08-08T10:15:57.620Z"
   },
   {
    "duration": 113,
    "start_time": "2021-08-08T10:15:57.623Z"
   },
   {
    "duration": 111,
    "start_time": "2021-08-08T10:15:57.626Z"
   },
   {
    "duration": 110,
    "start_time": "2021-08-08T10:15:57.629Z"
   },
   {
    "duration": 109,
    "start_time": "2021-08-08T10:15:57.631Z"
   },
   {
    "duration": 107,
    "start_time": "2021-08-08T10:15:57.634Z"
   },
   {
    "duration": 30,
    "start_time": "2021-08-08T10:16:37.382Z"
   },
   {
    "duration": 1372,
    "start_time": "2021-08-08T10:17:20.630Z"
   },
   {
    "duration": 2,
    "start_time": "2021-08-08T10:17:22.006Z"
   },
   {
    "duration": 593,
    "start_time": "2021-08-08T10:17:22.011Z"
   },
   {
    "duration": 12,
    "start_time": "2021-08-08T10:17:22.606Z"
   },
   {
    "duration": 53,
    "start_time": "2021-08-08T10:17:22.620Z"
   },
   {
    "duration": 241,
    "start_time": "2021-08-08T10:17:22.675Z"
   },
   {
    "duration": 4,
    "start_time": "2021-08-08T10:17:22.918Z"
   },
   {
    "duration": 9,
    "start_time": "2021-08-08T10:17:22.925Z"
   },
   {
    "duration": 159,
    "start_time": "2021-08-08T10:17:22.936Z"
   },
   {
    "duration": 25,
    "start_time": "2021-08-08T10:17:23.097Z"
   },
   {
    "duration": 7,
    "start_time": "2021-08-08T10:17:23.123Z"
   },
   {
    "duration": 13,
    "start_time": "2021-08-08T10:17:23.132Z"
   },
   {
    "duration": 6,
    "start_time": "2021-08-08T10:17:23.147Z"
   },
   {
    "duration": 10,
    "start_time": "2021-08-08T10:17:23.154Z"
   },
   {
    "duration": 15,
    "start_time": "2021-08-08T10:17:23.192Z"
   },
   {
    "duration": 3,
    "start_time": "2021-08-08T10:17:23.208Z"
   },
   {
    "duration": 7,
    "start_time": "2021-08-08T10:17:23.213Z"
   },
   {
    "duration": 10,
    "start_time": "2021-08-08T10:17:23.221Z"
   },
   {
    "duration": 15,
    "start_time": "2021-08-08T10:17:23.232Z"
   },
   {
    "duration": 5,
    "start_time": "2021-08-08T10:17:23.249Z"
   },
   {
    "duration": 9,
    "start_time": "2021-08-08T10:17:23.255Z"
   },
   {
    "duration": 31,
    "start_time": "2021-08-08T10:17:23.265Z"
   },
   {
    "duration": 6,
    "start_time": "2021-08-08T10:17:23.300Z"
   },
   {
    "duration": 5,
    "start_time": "2021-08-08T10:17:23.308Z"
   },
   {
    "duration": 10,
    "start_time": "2021-08-08T10:17:23.315Z"
   },
   {
    "duration": 13,
    "start_time": "2021-08-08T10:17:23.327Z"
   },
   {
    "duration": 276,
    "start_time": "2021-08-08T10:17:23.342Z"
   },
   {
    "duration": 13,
    "start_time": "2021-08-08T10:17:23.619Z"
   },
   {
    "duration": 137,
    "start_time": "2021-08-08T10:17:23.633Z"
   },
   {
    "duration": 91,
    "start_time": "2021-08-08T10:17:23.772Z"
   },
   {
    "duration": 79,
    "start_time": "2021-08-08T10:17:23.864Z"
   },
   {
    "duration": 3,
    "start_time": "2021-08-08T10:17:23.944Z"
   },
   {
    "duration": 250,
    "start_time": "2021-08-08T10:17:23.949Z"
   },
   {
    "duration": 234,
    "start_time": "2021-08-08T10:17:24.201Z"
   },
   {
    "duration": 315,
    "start_time": "2021-08-08T10:17:24.437Z"
   },
   {
    "duration": 191,
    "start_time": "2021-08-08T10:17:24.753Z"
   },
   {
    "duration": 26,
    "start_time": "2021-08-08T10:17:24.946Z"
   },
   {
    "duration": 4,
    "start_time": "2021-08-08T10:17:24.974Z"
   },
   {
    "duration": 10,
    "start_time": "2021-08-08T10:17:24.991Z"
   },
   {
    "duration": 20,
    "start_time": "2021-08-08T10:17:25.002Z"
   },
   {
    "duration": 30,
    "start_time": "2021-08-08T10:17:25.023Z"
   },
   {
    "duration": 43,
    "start_time": "2021-08-08T10:17:25.055Z"
   },
   {
    "duration": 9,
    "start_time": "2021-08-08T10:17:25.100Z"
   },
   {
    "duration": 190,
    "start_time": "2021-08-08T10:17:25.110Z"
   },
   {
    "duration": 9,
    "start_time": "2021-08-08T10:17:25.301Z"
   },
   {
    "duration": 190,
    "start_time": "2021-08-08T10:17:25.312Z"
   },
   {
    "duration": 40,
    "start_time": "2021-08-08T10:17:25.504Z"
   },
   {
    "duration": 124,
    "start_time": "2021-08-08T10:17:25.546Z"
   },
   {
    "duration": 10,
    "start_time": "2021-08-08T10:17:25.672Z"
   },
   {
    "duration": 5,
    "start_time": "2021-08-08T10:17:25.691Z"
   },
   {
    "duration": 12,
    "start_time": "2021-08-08T10:17:25.697Z"
   },
   {
    "duration": 28,
    "start_time": "2021-08-08T10:17:25.710Z"
   },
   {
    "duration": 832,
    "start_time": "2021-08-08T10:17:25.739Z"
   },
   {
    "duration": 32,
    "start_time": "2021-08-08T10:17:26.573Z"
   },
   {
    "duration": 448,
    "start_time": "2021-08-08T10:17:26.607Z"
   },
   {
    "duration": 37,
    "start_time": "2021-08-08T10:17:27.057Z"
   },
   {
    "duration": 10,
    "start_time": "2021-08-08T10:17:27.096Z"
   },
   {
    "duration": 151,
    "start_time": "2021-08-08T10:17:27.108Z"
   },
   {
    "duration": 481,
    "start_time": "2021-08-08T10:17:27.261Z"
   },
   {
    "duration": 383,
    "start_time": "2021-08-08T10:17:27.744Z"
   },
   {
    "duration": 11,
    "start_time": "2021-08-08T10:17:28.128Z"
   },
   {
    "duration": 31,
    "start_time": "2021-08-08T10:17:28.140Z"
   },
   {
    "duration": 62,
    "start_time": "2021-08-08T10:17:28.172Z"
   },
   {
    "duration": 4,
    "start_time": "2021-08-08T10:17:28.235Z"
   },
   {
    "duration": 31,
    "start_time": "2021-08-08T10:17:28.241Z"
   },
   {
    "duration": 22,
    "start_time": "2021-08-08T10:17:28.274Z"
   },
   {
    "duration": 8,
    "start_time": "2021-08-08T10:17:28.298Z"
   },
   {
    "duration": 304,
    "start_time": "2021-08-08T10:17:28.310Z"
   },
   {
    "duration": 175,
    "start_time": "2021-08-08T10:17:28.616Z"
   },
   {
    "duration": 18,
    "start_time": "2021-08-08T10:17:28.792Z"
   },
   {
    "duration": 12,
    "start_time": "2021-08-08T10:17:28.812Z"
   },
   {
    "duration": 76,
    "start_time": "2021-08-08T10:17:28.825Z"
   },
   {
    "duration": 33,
    "start_time": "2021-08-08T10:17:28.903Z"
   },
   {
    "duration": 6,
    "start_time": "2021-08-08T10:17:28.938Z"
   },
   {
    "duration": 7,
    "start_time": "2021-08-08T10:17:28.945Z"
   },
   {
    "duration": 6,
    "start_time": "2021-08-08T10:17:28.954Z"
   },
   {
    "duration": 179,
    "start_time": "2021-08-08T10:17:28.962Z"
   },
   {
    "duration": 4,
    "start_time": "2021-08-08T10:17:29.143Z"
   },
   {
    "duration": 167,
    "start_time": "2021-08-08T10:17:29.149Z"
   },
   {
    "duration": 248,
    "start_time": "2021-08-08T10:17:29.317Z"
   },
   {
    "duration": 15011,
    "start_time": "2021-08-08T10:17:29.566Z"
   },
   {
    "duration": 272,
    "start_time": "2021-08-08T10:17:44.579Z"
   },
   {
    "duration": 6,
    "start_time": "2021-08-08T10:17:44.853Z"
   },
   {
    "duration": 164,
    "start_time": "2021-08-08T10:17:44.861Z"
   },
   {
    "duration": 20,
    "start_time": "2021-08-08T10:17:45.027Z"
   },
   {
    "duration": 329,
    "start_time": "2021-08-08T10:17:45.049Z"
   },
   {
    "duration": 13,
    "start_time": "2021-08-08T10:17:45.379Z"
   },
   {
    "duration": 11,
    "start_time": "2021-08-08T10:17:45.393Z"
   },
   {
    "duration": 6,
    "start_time": "2021-08-08T10:17:45.406Z"
   },
   {
    "duration": 344,
    "start_time": "2021-08-08T10:17:45.414Z"
   },
   {
    "duration": 178,
    "start_time": "2021-08-08T10:17:45.582Z"
   },
   {
    "duration": 25,
    "start_time": "2021-08-08T11:19:38.276Z"
   },
   {
    "duration": 13,
    "start_time": "2021-08-08T11:19:42.513Z"
   },
   {
    "duration": 10,
    "start_time": "2021-08-08T11:23:28.204Z"
   },
   {
    "duration": 274,
    "start_time": "2021-08-08T11:26:20.660Z"
   },
   {
    "duration": 258,
    "start_time": "2021-08-08T11:26:24.495Z"
   },
   {
    "duration": 248,
    "start_time": "2021-08-08T11:26:43.614Z"
   },
   {
    "duration": 236,
    "start_time": "2021-08-08T11:26:46.352Z"
   },
   {
    "duration": 245,
    "start_time": "2021-08-08T11:26:48.235Z"
   },
   {
    "duration": 241,
    "start_time": "2021-08-08T11:27:25.034Z"
   },
   {
    "duration": 165,
    "start_time": "2021-08-08T11:28:06.482Z"
   },
   {
    "duration": 171,
    "start_time": "2021-08-08T11:28:12.839Z"
   },
   {
    "duration": 174,
    "start_time": "2021-08-08T11:28:28.059Z"
   },
   {
    "duration": 185,
    "start_time": "2021-08-08T11:28:30.654Z"
   },
   {
    "duration": 14534,
    "start_time": "2021-08-08T11:30:07.530Z"
   },
   {
    "duration": 175,
    "start_time": "2021-08-08T11:31:24.507Z"
   },
   {
    "duration": 236,
    "start_time": "2021-08-08T11:34:26.129Z"
   },
   {
    "duration": 231,
    "start_time": "2021-08-08T11:35:55.499Z"
   },
   {
    "duration": 234,
    "start_time": "2021-08-08T11:36:03.610Z"
   },
   {
    "duration": 5,
    "start_time": "2021-08-08T11:36:11.260Z"
   },
   {
    "duration": 7,
    "start_time": "2021-08-08T11:36:15.231Z"
   },
   {
    "duration": 13,
    "start_time": "2021-08-08T11:37:03.673Z"
   },
   {
    "duration": 18,
    "start_time": "2021-08-08T11:37:07.876Z"
   },
   {
    "duration": 14,
    "start_time": "2021-08-08T11:37:21.126Z"
   },
   {
    "duration": 91,
    "start_time": "2021-08-08T11:37:43.839Z"
   },
   {
    "duration": 83,
    "start_time": "2021-08-08T11:37:54.551Z"
   },
   {
    "duration": 20,
    "start_time": "2021-08-08T11:38:00.830Z"
   },
   {
    "duration": 26,
    "start_time": "2021-08-08T11:38:06.049Z"
   },
   {
    "duration": 20,
    "start_time": "2021-08-08T11:38:46.576Z"
   },
   {
    "duration": 24,
    "start_time": "2021-08-08T11:38:50.788Z"
   },
   {
    "duration": 231,
    "start_time": "2021-08-08T11:40:31.918Z"
   },
   {
    "duration": 246,
    "start_time": "2021-08-08T11:40:59.415Z"
   },
   {
    "duration": 163,
    "start_time": "2021-08-08T11:41:23.801Z"
   },
   {
    "duration": 170,
    "start_time": "2021-08-08T11:41:27.972Z"
   },
   {
    "duration": 172,
    "start_time": "2021-08-08T11:41:36.595Z"
   },
   {
    "duration": 78,
    "start_time": "2021-08-08T11:44:04.121Z"
   },
   {
    "duration": 204,
    "start_time": "2021-08-08T11:44:09.697Z"
   },
   {
    "duration": 208,
    "start_time": "2021-08-08T11:44:14.038Z"
   },
   {
    "duration": 11,
    "start_time": "2021-08-08T12:03:39.227Z"
   },
   {
    "duration": 223,
    "start_time": "2021-08-08T12:06:51.687Z"
   },
   {
    "duration": 257,
    "start_time": "2021-08-08T12:07:01.002Z"
   },
   {
    "duration": 275,
    "start_time": "2021-08-08T12:08:03.309Z"
   },
   {
    "duration": 229,
    "start_time": "2021-08-08T12:08:22.462Z"
   },
   {
    "duration": 171,
    "start_time": "2021-08-08T12:09:01.735Z"
   },
   {
    "duration": 71,
    "start_time": "2021-08-08T12:10:08.475Z"
   },
   {
    "duration": 185,
    "start_time": "2021-08-08T12:10:19.306Z"
   },
   {
    "duration": 188,
    "start_time": "2021-08-08T12:10:28.375Z"
   },
   {
    "duration": 190,
    "start_time": "2021-08-08T12:10:59.627Z"
   },
   {
    "duration": 500,
    "start_time": "2021-08-08T12:11:14.017Z"
   },
   {
    "duration": 78,
    "start_time": "2021-08-08T12:11:22.965Z"
   },
   {
    "duration": 136,
    "start_time": "2021-08-08T12:11:29.453Z"
   },
   {
    "duration": 576,
    "start_time": "2021-08-08T12:12:57.177Z"
   },
   {
    "duration": 275,
    "start_time": "2021-08-08T12:13:14.700Z"
   },
   {
    "duration": 417,
    "start_time": "2021-08-08T12:13:34.715Z"
   },
   {
    "duration": 415,
    "start_time": "2021-08-08T12:13:53.778Z"
   },
   {
    "duration": 245,
    "start_time": "2021-08-08T12:14:24.114Z"
   },
   {
    "duration": 264,
    "start_time": "2021-08-08T12:14:27.542Z"
   },
   {
    "duration": 1398,
    "start_time": "2021-08-08T12:14:55.512Z"
   },
   {
    "duration": 2,
    "start_time": "2021-08-08T12:14:56.912Z"
   },
   {
    "duration": 579,
    "start_time": "2021-08-08T12:14:56.916Z"
   },
   {
    "duration": 10,
    "start_time": "2021-08-08T12:14:57.497Z"
   },
   {
    "duration": 53,
    "start_time": "2021-08-08T12:14:57.508Z"
   },
   {
    "duration": 238,
    "start_time": "2021-08-08T12:14:57.562Z"
   },
   {
    "duration": 3,
    "start_time": "2021-08-08T12:14:57.801Z"
   },
   {
    "duration": 6,
    "start_time": "2021-08-08T12:14:57.807Z"
   },
   {
    "duration": 161,
    "start_time": "2021-08-08T12:14:57.814Z"
   },
   {
    "duration": 27,
    "start_time": "2021-08-08T12:14:57.976Z"
   },
   {
    "duration": 7,
    "start_time": "2021-08-08T12:14:58.005Z"
   },
   {
    "duration": 14,
    "start_time": "2021-08-08T12:14:58.013Z"
   },
   {
    "duration": 7,
    "start_time": "2021-08-08T12:14:58.028Z"
   },
   {
    "duration": 9,
    "start_time": "2021-08-08T12:14:58.036Z"
   },
   {
    "duration": 14,
    "start_time": "2021-08-08T12:14:58.047Z"
   },
   {
    "duration": 3,
    "start_time": "2021-08-08T12:14:58.091Z"
   },
   {
    "duration": 7,
    "start_time": "2021-08-08T12:14:58.096Z"
   },
   {
    "duration": 10,
    "start_time": "2021-08-08T12:14:58.104Z"
   },
   {
    "duration": 13,
    "start_time": "2021-08-08T12:14:58.116Z"
   },
   {
    "duration": 6,
    "start_time": "2021-08-08T12:14:58.130Z"
   },
   {
    "duration": 10,
    "start_time": "2021-08-08T12:14:58.137Z"
   },
   {
    "duration": 9,
    "start_time": "2021-08-08T12:14:58.149Z"
   },
   {
    "duration": 5,
    "start_time": "2021-08-08T12:14:58.162Z"
   },
   {
    "duration": 22,
    "start_time": "2021-08-08T12:14:58.169Z"
   },
   {
    "duration": 9,
    "start_time": "2021-08-08T12:14:58.193Z"
   },
   {
    "duration": 14,
    "start_time": "2021-08-08T12:14:58.203Z"
   },
   {
    "duration": 276,
    "start_time": "2021-08-08T12:14:58.218Z"
   },
   {
    "duration": 13,
    "start_time": "2021-08-08T12:14:58.495Z"
   },
   {
    "duration": 142,
    "start_time": "2021-08-08T12:14:58.509Z"
   },
   {
    "duration": 90,
    "start_time": "2021-08-08T12:14:58.652Z"
   },
   {
    "duration": 75,
    "start_time": "2021-08-08T12:14:58.744Z"
   },
   {
    "duration": 3,
    "start_time": "2021-08-08T12:14:58.821Z"
   },
   {
    "duration": 259,
    "start_time": "2021-08-08T12:14:58.825Z"
   },
   {
    "duration": 229,
    "start_time": "2021-08-08T12:14:59.086Z"
   },
   {
    "duration": 300,
    "start_time": "2021-08-08T12:14:59.316Z"
   },
   {
    "duration": 191,
    "start_time": "2021-08-08T12:14:59.618Z"
   },
   {
    "duration": 28,
    "start_time": "2021-08-08T12:14:59.810Z"
   },
   {
    "duration": 5,
    "start_time": "2021-08-08T12:14:59.839Z"
   },
   {
    "duration": 13,
    "start_time": "2021-08-08T12:14:59.845Z"
   },
   {
    "duration": 39,
    "start_time": "2021-08-08T12:14:59.860Z"
   },
   {
    "duration": 30,
    "start_time": "2021-08-08T12:14:59.901Z"
   },
   {
    "duration": 23,
    "start_time": "2021-08-08T12:14:59.932Z"
   },
   {
    "duration": 10,
    "start_time": "2021-08-08T12:14:59.957Z"
   },
   {
    "duration": 200,
    "start_time": "2021-08-08T12:14:59.991Z"
   },
   {
    "duration": 10,
    "start_time": "2021-08-08T12:15:00.193Z"
   },
   {
    "duration": 209,
    "start_time": "2021-08-08T12:15:00.206Z"
   },
   {
    "duration": 41,
    "start_time": "2021-08-08T12:15:00.417Z"
   },
   {
    "duration": 132,
    "start_time": "2021-08-08T12:15:00.459Z"
   },
   {
    "duration": 9,
    "start_time": "2021-08-08T12:15:00.593Z"
   },
   {
    "duration": 23,
    "start_time": "2021-08-08T12:15:00.603Z"
   },
   {
    "duration": 21,
    "start_time": "2021-08-08T12:15:00.627Z"
   },
   {
    "duration": 34,
    "start_time": "2021-08-08T12:15:00.649Z"
   },
   {
    "duration": 782,
    "start_time": "2021-08-08T12:15:00.685Z"
   },
   {
    "duration": 33,
    "start_time": "2021-08-08T12:15:01.469Z"
   },
   {
    "duration": 323,
    "start_time": "2021-08-08T12:15:01.503Z"
   },
   {
    "duration": 33,
    "start_time": "2021-08-08T12:15:01.827Z"
   },
   {
    "duration": 12,
    "start_time": "2021-08-08T12:15:01.861Z"
   },
   {
    "duration": 146,
    "start_time": "2021-08-08T12:15:01.891Z"
   },
   {
    "duration": 470,
    "start_time": "2021-08-08T12:15:02.039Z"
   },
   {
    "duration": 371,
    "start_time": "2021-08-08T12:15:02.511Z"
   },
   {
    "duration": 15,
    "start_time": "2021-08-08T12:15:02.884Z"
   },
   {
    "duration": 30,
    "start_time": "2021-08-08T12:15:02.901Z"
   },
   {
    "duration": 27,
    "start_time": "2021-08-08T12:15:02.932Z"
   },
   {
    "duration": 4,
    "start_time": "2021-08-08T12:15:02.961Z"
   },
   {
    "duration": 31,
    "start_time": "2021-08-08T12:15:02.992Z"
   },
   {
    "duration": 8,
    "start_time": "2021-08-08T12:15:03.025Z"
   },
   {
    "duration": 10,
    "start_time": "2021-08-08T12:15:03.035Z"
   },
   {
    "duration": 309,
    "start_time": "2021-08-08T12:15:03.050Z"
   },
   {
    "duration": 177,
    "start_time": "2021-08-08T12:15:03.362Z"
   },
   {
    "duration": 18,
    "start_time": "2021-08-08T12:15:03.541Z"
   },
   {
    "duration": 30,
    "start_time": "2021-08-08T12:15:03.561Z"
   },
   {
    "duration": 57,
    "start_time": "2021-08-08T12:15:03.593Z"
   },
   {
    "duration": 44,
    "start_time": "2021-08-08T12:15:03.651Z"
   },
   {
    "duration": 13,
    "start_time": "2021-08-08T12:15:03.696Z"
   },
   {
    "duration": 6,
    "start_time": "2021-08-08T12:15:03.710Z"
   },
   {
    "duration": 6,
    "start_time": "2021-08-08T12:15:03.718Z"
   },
   {
    "duration": 158,
    "start_time": "2021-08-08T12:15:03.725Z"
   },
   {
    "duration": 8,
    "start_time": "2021-08-08T12:15:03.885Z"
   },
   {
    "duration": 158,
    "start_time": "2021-08-08T12:15:03.895Z"
   },
   {
    "duration": 250,
    "start_time": "2021-08-08T12:15:04.056Z"
   },
   {
    "duration": 15004,
    "start_time": "2021-08-08T12:15:04.308Z"
   },
   {
    "duration": 282,
    "start_time": "2021-08-08T12:15:19.314Z"
   },
   {
    "duration": 6,
    "start_time": "2021-08-08T12:15:19.597Z"
   },
   {
    "duration": 164,
    "start_time": "2021-08-08T12:15:19.604Z"
   },
   {
    "duration": 30,
    "start_time": "2021-08-08T12:15:19.769Z"
   },
   {
    "duration": 318,
    "start_time": "2021-08-08T12:15:19.800Z"
   },
   {
    "duration": 9,
    "start_time": "2021-08-08T12:15:20.120Z"
   },
   {
    "duration": 17,
    "start_time": "2021-08-08T12:15:20.131Z"
   },
   {
    "duration": 12,
    "start_time": "2021-08-08T12:15:20.150Z"
   },
   {
    "duration": 31,
    "start_time": "2021-08-08T12:15:20.164Z"
   },
   {
    "duration": 210,
    "start_time": "2021-08-08T12:15:20.197Z"
   },
   {
    "duration": 5725,
    "start_time": "2021-08-08T12:15:20.408Z"
   },
   {
    "duration": 18,
    "start_time": "2021-08-08T12:15:26.118Z"
   },
   {
    "duration": 14,
    "start_time": "2021-08-08T12:15:26.123Z"
   },
   {
    "duration": 10,
    "start_time": "2021-08-08T12:15:26.128Z"
   },
   {
    "duration": 7,
    "start_time": "2021-08-08T12:15:26.133Z"
   },
   {
    "duration": 3,
    "start_time": "2021-08-08T12:15:26.138Z"
   },
   {
    "duration": 5877,
    "start_time": "2021-08-08T12:16:30.024Z"
   },
   {
    "duration": 226,
    "start_time": "2021-08-08T12:16:41.284Z"
   },
   {
    "duration": 186,
    "start_time": "2021-08-08T12:17:16.206Z"
   },
   {
    "duration": 9,
    "start_time": "2021-08-08T12:19:18.481Z"
   },
   {
    "duration": 281,
    "start_time": "2021-08-08T12:19:30.774Z"
   },
   {
    "duration": 26,
    "start_time": "2021-08-08T12:19:47.875Z"
   },
   {
    "duration": 28,
    "start_time": "2021-08-08T12:20:30.943Z"
   },
   {
    "duration": 27,
    "start_time": "2021-08-08T12:20:44.450Z"
   },
   {
    "duration": 36,
    "start_time": "2021-08-08T12:20:58.336Z"
   },
   {
    "duration": 27,
    "start_time": "2021-08-08T12:21:09.673Z"
   },
   {
    "duration": 28,
    "start_time": "2021-08-08T12:22:43.778Z"
   },
   {
    "duration": 9,
    "start_time": "2021-08-08T12:22:46.890Z"
   },
   {
    "duration": 35,
    "start_time": "2021-08-08T12:22:47.491Z"
   },
   {
    "duration": 1708,
    "start_time": "2021-08-08T12:23:20.069Z"
   },
   {
    "duration": 3,
    "start_time": "2021-08-08T12:23:21.779Z"
   },
   {
    "duration": 588,
    "start_time": "2021-08-08T12:23:21.784Z"
   },
   {
    "duration": 10,
    "start_time": "2021-08-08T12:23:22.374Z"
   },
   {
    "duration": 58,
    "start_time": "2021-08-08T12:23:22.385Z"
   },
   {
    "duration": 249,
    "start_time": "2021-08-08T12:23:22.445Z"
   },
   {
    "duration": 3,
    "start_time": "2021-08-08T12:23:22.696Z"
   },
   {
    "duration": 10,
    "start_time": "2021-08-08T12:23:22.702Z"
   },
   {
    "duration": 157,
    "start_time": "2021-08-08T12:23:22.714Z"
   },
   {
    "duration": 28,
    "start_time": "2021-08-08T12:23:22.873Z"
   },
   {
    "duration": 8,
    "start_time": "2021-08-08T12:23:22.902Z"
   },
   {
    "duration": 14,
    "start_time": "2021-08-08T12:23:22.911Z"
   },
   {
    "duration": 6,
    "start_time": "2021-08-08T12:23:22.927Z"
   },
   {
    "duration": 10,
    "start_time": "2021-08-08T12:23:22.935Z"
   },
   {
    "duration": 44,
    "start_time": "2021-08-08T12:23:22.947Z"
   },
   {
    "duration": 4,
    "start_time": "2021-08-08T12:23:22.993Z"
   },
   {
    "duration": 5,
    "start_time": "2021-08-08T12:23:22.999Z"
   },
   {
    "duration": 7,
    "start_time": "2021-08-08T12:23:23.006Z"
   },
   {
    "duration": 12,
    "start_time": "2021-08-08T12:23:23.015Z"
   },
   {
    "duration": 10,
    "start_time": "2021-08-08T12:23:23.029Z"
   },
   {
    "duration": 8,
    "start_time": "2021-08-08T12:23:23.041Z"
   },
   {
    "duration": 9,
    "start_time": "2021-08-08T12:23:23.050Z"
   },
   {
    "duration": 32,
    "start_time": "2021-08-08T12:23:23.063Z"
   },
   {
    "duration": 3,
    "start_time": "2021-08-08T12:23:23.097Z"
   },
   {
    "duration": 8,
    "start_time": "2021-08-08T12:23:23.102Z"
   },
   {
    "duration": 12,
    "start_time": "2021-08-08T12:23:23.111Z"
   },
   {
    "duration": 282,
    "start_time": "2021-08-08T12:23:23.124Z"
   },
   {
    "duration": 11,
    "start_time": "2021-08-08T12:23:23.408Z"
   },
   {
    "duration": 134,
    "start_time": "2021-08-08T12:23:23.421Z"
   },
   {
    "duration": 88,
    "start_time": "2021-08-08T12:23:23.557Z"
   },
   {
    "duration": 77,
    "start_time": "2021-08-08T12:23:23.646Z"
   },
   {
    "duration": 4,
    "start_time": "2021-08-08T12:23:23.724Z"
   },
   {
    "duration": 248,
    "start_time": "2021-08-08T12:23:23.729Z"
   },
   {
    "duration": 231,
    "start_time": "2021-08-08T12:23:23.978Z"
   },
   {
    "duration": 299,
    "start_time": "2021-08-08T12:23:24.211Z"
   },
   {
    "duration": 213,
    "start_time": "2021-08-08T12:23:24.512Z"
   },
   {
    "duration": 28,
    "start_time": "2021-08-08T12:23:24.726Z"
   },
   {
    "duration": 6,
    "start_time": "2021-08-08T12:23:24.755Z"
   },
   {
    "duration": 34,
    "start_time": "2021-08-08T12:23:24.763Z"
   },
   {
    "duration": 20,
    "start_time": "2021-08-08T12:23:24.798Z"
   },
   {
    "duration": 31,
    "start_time": "2021-08-08T12:23:24.820Z"
   },
   {
    "duration": 41,
    "start_time": "2021-08-08T12:23:24.852Z"
   },
   {
    "duration": 10,
    "start_time": "2021-08-08T12:23:24.895Z"
   },
   {
    "duration": 199,
    "start_time": "2021-08-08T12:23:24.907Z"
   },
   {
    "duration": 8,
    "start_time": "2021-08-08T12:23:25.108Z"
   },
   {
    "duration": 194,
    "start_time": "2021-08-08T12:23:25.118Z"
   },
   {
    "duration": 41,
    "start_time": "2021-08-08T12:23:25.314Z"
   },
   {
    "duration": 125,
    "start_time": "2021-08-08T12:23:25.356Z"
   },
   {
    "duration": 15,
    "start_time": "2021-08-08T12:23:25.483Z"
   },
   {
    "duration": 7,
    "start_time": "2021-08-08T12:23:25.499Z"
   },
   {
    "duration": 12,
    "start_time": "2021-08-08T12:23:25.508Z"
   },
   {
    "duration": 30,
    "start_time": "2021-08-08T12:23:25.521Z"
   },
   {
    "duration": 808,
    "start_time": "2021-08-08T12:23:25.553Z"
   },
   {
    "duration": 39,
    "start_time": "2021-08-08T12:23:26.363Z"
   },
   {
    "duration": 318,
    "start_time": "2021-08-08T12:23:26.404Z"
   },
   {
    "duration": 32,
    "start_time": "2021-08-08T12:23:26.724Z"
   },
   {
    "duration": 11,
    "start_time": "2021-08-08T12:23:26.758Z"
   },
   {
    "duration": 157,
    "start_time": "2021-08-08T12:23:26.771Z"
   },
   {
    "duration": 475,
    "start_time": "2021-08-08T12:23:26.930Z"
   },
   {
    "duration": 374,
    "start_time": "2021-08-08T12:23:27.407Z"
   },
   {
    "duration": 17,
    "start_time": "2021-08-08T12:23:27.783Z"
   },
   {
    "duration": 33,
    "start_time": "2021-08-08T12:23:27.801Z"
   },
   {
    "duration": 27,
    "start_time": "2021-08-08T12:23:27.836Z"
   },
   {
    "duration": 4,
    "start_time": "2021-08-08T12:23:27.864Z"
   },
   {
    "duration": 57,
    "start_time": "2021-08-08T12:23:27.869Z"
   },
   {
    "duration": 7,
    "start_time": "2021-08-08T12:23:27.928Z"
   },
   {
    "duration": 9,
    "start_time": "2021-08-08T12:23:27.936Z"
   },
   {
    "duration": 306,
    "start_time": "2021-08-08T12:23:27.950Z"
   },
   {
    "duration": 177,
    "start_time": "2021-08-08T12:23:28.258Z"
   },
   {
    "duration": 18,
    "start_time": "2021-08-08T12:23:28.437Z"
   },
   {
    "duration": 13,
    "start_time": "2021-08-08T12:23:28.456Z"
   },
   {
    "duration": 74,
    "start_time": "2021-08-08T12:23:28.470Z"
   },
   {
    "duration": 32,
    "start_time": "2021-08-08T12:23:28.545Z"
   },
   {
    "duration": 6,
    "start_time": "2021-08-08T12:23:28.591Z"
   },
   {
    "duration": 7,
    "start_time": "2021-08-08T12:23:28.599Z"
   },
   {
    "duration": 12,
    "start_time": "2021-08-08T12:23:28.607Z"
   },
   {
    "duration": 170,
    "start_time": "2021-08-08T12:23:28.621Z"
   },
   {
    "duration": 5,
    "start_time": "2021-08-08T12:23:28.793Z"
   },
   {
    "duration": 167,
    "start_time": "2021-08-08T12:23:28.799Z"
   },
   {
    "duration": 247,
    "start_time": "2021-08-08T12:23:28.968Z"
   },
   {
    "duration": 15249,
    "start_time": "2021-08-08T12:23:29.217Z"
   },
   {
    "duration": 302,
    "start_time": "2021-08-08T12:23:44.467Z"
   },
   {
    "duration": 7,
    "start_time": "2021-08-08T12:23:44.771Z"
   },
   {
    "duration": 166,
    "start_time": "2021-08-08T12:23:44.791Z"
   },
   {
    "duration": 33,
    "start_time": "2021-08-08T12:23:44.959Z"
   },
   {
    "duration": 327,
    "start_time": "2021-08-08T12:23:44.993Z"
   },
   {
    "duration": 10,
    "start_time": "2021-08-08T12:23:45.321Z"
   },
   {
    "duration": 16,
    "start_time": "2021-08-08T12:23:45.333Z"
   },
   {
    "duration": 10,
    "start_time": "2021-08-08T12:23:45.351Z"
   },
   {
    "duration": 2,
    "start_time": "2021-08-08T12:23:45.363Z"
   },
   {
    "duration": 2,
    "start_time": "2021-08-08T12:23:45.391Z"
   },
   {
    "duration": 11,
    "start_time": "2021-08-08T12:23:45.395Z"
   },
   {
    "duration": 29,
    "start_time": "2021-08-08T12:23:45.407Z"
   },
   {
    "duration": 8,
    "start_time": "2021-08-08T12:23:45.437Z"
   },
   {
    "duration": 7,
    "start_time": "2021-08-08T12:23:45.447Z"
   },
   {
    "duration": 548,
    "start_time": "2021-08-08T12:23:45.455Z"
   },
   {
    "duration": 80,
    "start_time": "2021-08-08T12:23:45.925Z"
   },
   {
    "duration": 53,
    "start_time": "2021-08-08T12:30:15.119Z"
   },
   {
    "duration": 48,
    "start_time": "2021-08-08T12:30:19.162Z"
   },
   {
    "duration": 29,
    "start_time": "2021-08-08T12:30:22.307Z"
   },
   {
    "duration": 29,
    "start_time": "2021-08-08T12:30:36.252Z"
   },
   {
    "duration": 29,
    "start_time": "2021-08-08T12:30:42.224Z"
   },
   {
    "duration": 38,
    "start_time": "2021-08-08T12:30:50.813Z"
   },
   {
    "duration": 38,
    "start_time": "2021-08-08T12:30:58.716Z"
   },
   {
    "duration": 235,
    "start_time": "2021-08-08T12:31:32.568Z"
   },
   {
    "duration": 241,
    "start_time": "2021-08-08T12:31:41.873Z"
   },
   {
    "duration": 260,
    "start_time": "2021-08-08T12:32:02.972Z"
   },
   {
    "duration": 247,
    "start_time": "2021-08-08T12:32:19.655Z"
   },
   {
    "duration": 464,
    "start_time": "2021-08-08T12:36:11.708Z"
   },
   {
    "duration": 258,
    "start_time": "2021-08-08T12:36:17.721Z"
   },
   {
    "duration": 25,
    "start_time": "2021-08-08T12:36:24.383Z"
   },
   {
    "duration": 25,
    "start_time": "2021-08-08T12:36:35.789Z"
   },
   {
    "duration": 227,
    "start_time": "2021-08-08T12:39:34.214Z"
   },
   {
    "duration": 214,
    "start_time": "2021-08-08T12:39:38.914Z"
   },
   {
    "duration": 1490,
    "start_time": "2021-08-08T12:39:57.818Z"
   },
   {
    "duration": 3,
    "start_time": "2021-08-08T12:39:59.309Z"
   },
   {
    "duration": 2667,
    "start_time": "2021-08-08T12:39:59.314Z"
   },
   {
    "duration": 11,
    "start_time": "2021-08-08T12:40:01.983Z"
   },
   {
    "duration": 68,
    "start_time": "2021-08-08T12:40:01.995Z"
   },
   {
    "duration": 269,
    "start_time": "2021-08-08T12:40:02.065Z"
   },
   {
    "duration": 3,
    "start_time": "2021-08-08T12:40:02.336Z"
   },
   {
    "duration": 13,
    "start_time": "2021-08-08T12:40:02.341Z"
   },
   {
    "duration": 163,
    "start_time": "2021-08-08T12:40:02.356Z"
   },
   {
    "duration": 24,
    "start_time": "2021-08-08T12:40:02.521Z"
   },
   {
    "duration": 8,
    "start_time": "2021-08-08T12:40:02.546Z"
   },
   {
    "duration": 27,
    "start_time": "2021-08-08T12:40:02.555Z"
   },
   {
    "duration": 8,
    "start_time": "2021-08-08T12:40:02.584Z"
   },
   {
    "duration": 26,
    "start_time": "2021-08-08T12:40:02.594Z"
   },
   {
    "duration": 27,
    "start_time": "2021-08-08T12:40:02.622Z"
   },
   {
    "duration": 3,
    "start_time": "2021-08-08T12:40:02.651Z"
   },
   {
    "duration": 17,
    "start_time": "2021-08-08T12:40:02.656Z"
   },
   {
    "duration": 36,
    "start_time": "2021-08-08T12:40:02.675Z"
   },
   {
    "duration": 27,
    "start_time": "2021-08-08T12:40:02.713Z"
   },
   {
    "duration": 16,
    "start_time": "2021-08-08T12:40:02.742Z"
   },
   {
    "duration": 18,
    "start_time": "2021-08-08T12:40:02.760Z"
   },
   {
    "duration": 12,
    "start_time": "2021-08-08T12:40:02.780Z"
   },
   {
    "duration": 6,
    "start_time": "2021-08-08T12:40:02.795Z"
   },
   {
    "duration": 8,
    "start_time": "2021-08-08T12:40:02.803Z"
   },
   {
    "duration": 12,
    "start_time": "2021-08-08T12:40:02.812Z"
   },
   {
    "duration": 17,
    "start_time": "2021-08-08T12:40:02.825Z"
   },
   {
    "duration": 294,
    "start_time": "2021-08-08T12:40:02.844Z"
   },
   {
    "duration": 12,
    "start_time": "2021-08-08T12:40:03.139Z"
   },
   {
    "duration": 138,
    "start_time": "2021-08-08T12:40:03.153Z"
   },
   {
    "duration": 80,
    "start_time": "2021-08-08T12:40:03.293Z"
   },
   {
    "duration": 77,
    "start_time": "2021-08-08T12:40:03.375Z"
   },
   {
    "duration": 2,
    "start_time": "2021-08-08T12:40:03.454Z"
   },
   {
    "duration": 249,
    "start_time": "2021-08-08T12:40:03.458Z"
   },
   {
    "duration": 239,
    "start_time": "2021-08-08T12:40:03.708Z"
   },
   {
    "duration": 294,
    "start_time": "2021-08-08T12:40:03.949Z"
   },
   {
    "duration": 189,
    "start_time": "2021-08-08T12:40:04.245Z"
   },
   {
    "duration": 28,
    "start_time": "2021-08-08T12:40:04.436Z"
   },
   {
    "duration": 5,
    "start_time": "2021-08-08T12:40:04.466Z"
   },
   {
    "duration": 12,
    "start_time": "2021-08-08T12:40:04.492Z"
   },
   {
    "duration": 22,
    "start_time": "2021-08-08T12:40:04.505Z"
   },
   {
    "duration": 39,
    "start_time": "2021-08-08T12:40:04.529Z"
   },
   {
    "duration": 24,
    "start_time": "2021-08-08T12:40:04.591Z"
   },
   {
    "duration": 9,
    "start_time": "2021-08-08T12:40:04.616Z"
   },
   {
    "duration": 210,
    "start_time": "2021-08-08T12:40:04.627Z"
   },
   {
    "duration": 11,
    "start_time": "2021-08-08T12:40:04.838Z"
   },
   {
    "duration": 266,
    "start_time": "2021-08-08T12:40:04.851Z"
   },
   {
    "duration": 41,
    "start_time": "2021-08-08T12:40:05.118Z"
   },
   {
    "duration": 245,
    "start_time": "2021-08-08T12:40:05.160Z"
   },
   {
    "duration": 14,
    "start_time": "2021-08-08T12:40:05.407Z"
   },
   {
    "duration": 28,
    "start_time": "2021-08-08T12:40:05.423Z"
   },
   {
    "duration": 10,
    "start_time": "2021-08-08T12:40:05.453Z"
   },
   {
    "duration": 2474,
    "start_time": "2021-08-08T12:40:05.465Z"
   },
   {
    "duration": 22,
    "start_time": "2021-08-08T12:41:47.752Z"
   },
   {
    "duration": 439,
    "start_time": "2021-08-08T12:41:47.775Z"
   },
   {
    "duration": 358,
    "start_time": "2021-08-08T12:41:48.215Z"
   },
   {
    "duration": 21,
    "start_time": "2021-08-08T12:41:48.556Z"
   },
   {
    "duration": 16,
    "start_time": "2021-08-08T12:41:48.563Z"
   },
   {
    "duration": 11,
    "start_time": "2021-08-08T12:41:48.569Z"
   },
   {
    "duration": 5,
    "start_time": "2021-08-08T12:41:48.576Z"
   },
   {
    "duration": 1,
    "start_time": "2021-08-08T12:41:48.582Z"
   },
   {
    "duration": -6,
    "start_time": "2021-08-08T12:41:48.589Z"
   },
   {
    "duration": -12,
    "start_time": "2021-08-08T12:41:48.596Z"
   },
   {
    "duration": -18,
    "start_time": "2021-08-08T12:41:48.603Z"
   },
   {
    "duration": -24,
    "start_time": "2021-08-08T12:41:48.610Z"
   },
   {
    "duration": -29,
    "start_time": "2021-08-08T12:41:48.616Z"
   },
   {
    "duration": -32,
    "start_time": "2021-08-08T12:41:48.620Z"
   },
   {
    "duration": -35,
    "start_time": "2021-08-08T12:41:48.624Z"
   },
   {
    "duration": -39,
    "start_time": "2021-08-08T12:41:48.628Z"
   },
   {
    "duration": -43,
    "start_time": "2021-08-08T12:41:48.633Z"
   },
   {
    "duration": -46,
    "start_time": "2021-08-08T12:41:48.637Z"
   },
   {
    "duration": -48,
    "start_time": "2021-08-08T12:41:48.641Z"
   },
   {
    "duration": -59,
    "start_time": "2021-08-08T12:41:48.653Z"
   },
   {
    "duration": -63,
    "start_time": "2021-08-08T12:41:48.658Z"
   },
   {
    "duration": -66,
    "start_time": "2021-08-08T12:41:48.662Z"
   },
   {
    "duration": -72,
    "start_time": "2021-08-08T12:41:48.669Z"
   },
   {
    "duration": -75,
    "start_time": "2021-08-08T12:41:48.673Z"
   },
   {
    "duration": -78,
    "start_time": "2021-08-08T12:41:48.677Z"
   },
   {
    "duration": -79,
    "start_time": "2021-08-08T12:41:48.679Z"
   },
   {
    "duration": -82,
    "start_time": "2021-08-08T12:41:48.682Z"
   },
   {
    "duration": -84,
    "start_time": "2021-08-08T12:41:48.685Z"
   },
   {
    "duration": -86,
    "start_time": "2021-08-08T12:41:48.688Z"
   },
   {
    "duration": -87,
    "start_time": "2021-08-08T12:41:48.690Z"
   },
   {
    "duration": -89,
    "start_time": "2021-08-08T12:41:48.693Z"
   },
   {
    "duration": -91,
    "start_time": "2021-08-08T12:41:48.696Z"
   },
   {
    "duration": -93,
    "start_time": "2021-08-08T12:41:48.699Z"
   },
   {
    "duration": -95,
    "start_time": "2021-08-08T12:41:48.702Z"
   },
   {
    "duration": -96,
    "start_time": "2021-08-08T12:41:48.704Z"
   },
   {
    "duration": -98,
    "start_time": "2021-08-08T12:41:48.707Z"
   },
   {
    "duration": -100,
    "start_time": "2021-08-08T12:41:48.710Z"
   },
   {
    "duration": -102,
    "start_time": "2021-08-08T12:41:48.713Z"
   },
   {
    "duration": -104,
    "start_time": "2021-08-08T12:41:48.716Z"
   },
   {
    "duration": -105,
    "start_time": "2021-08-08T12:41:48.718Z"
   },
   {
    "duration": -107,
    "start_time": "2021-08-08T12:41:48.721Z"
   },
   {
    "duration": -109,
    "start_time": "2021-08-08T12:41:48.724Z"
   },
   {
    "duration": -112,
    "start_time": "2021-08-08T12:41:48.727Z"
   },
   {
    "duration": -113,
    "start_time": "2021-08-08T12:41:48.729Z"
   },
   {
    "duration": -115,
    "start_time": "2021-08-08T12:41:48.732Z"
   },
   {
    "duration": -117,
    "start_time": "2021-08-08T12:41:48.735Z"
   },
   {
    "duration": -119,
    "start_time": "2021-08-08T12:41:48.738Z"
   },
   {
    "duration": 487,
    "start_time": "2021-08-08T12:56:24.991Z"
   },
   {
    "duration": 1385,
    "start_time": "2021-08-08T12:56:55.813Z"
   },
   {
    "duration": 3,
    "start_time": "2021-08-08T12:56:57.200Z"
   },
   {
    "duration": 573,
    "start_time": "2021-08-08T12:56:57.205Z"
   },
   {
    "duration": 12,
    "start_time": "2021-08-08T12:56:57.780Z"
   },
   {
    "duration": 52,
    "start_time": "2021-08-08T12:56:57.793Z"
   },
   {
    "duration": 254,
    "start_time": "2021-08-08T12:56:57.847Z"
   },
   {
    "duration": 4,
    "start_time": "2021-08-08T12:56:58.103Z"
   },
   {
    "duration": 5,
    "start_time": "2021-08-08T12:56:58.108Z"
   },
   {
    "duration": 164,
    "start_time": "2021-08-08T12:56:58.116Z"
   },
   {
    "duration": 28,
    "start_time": "2021-08-08T12:56:58.283Z"
   },
   {
    "duration": 8,
    "start_time": "2021-08-08T12:56:58.312Z"
   },
   {
    "duration": 15,
    "start_time": "2021-08-08T12:56:58.322Z"
   },
   {
    "duration": 7,
    "start_time": "2021-08-08T12:56:58.339Z"
   },
   {
    "duration": 9,
    "start_time": "2021-08-08T12:56:58.347Z"
   },
   {
    "duration": 44,
    "start_time": "2021-08-08T12:56:58.358Z"
   },
   {
    "duration": 4,
    "start_time": "2021-08-08T12:56:58.404Z"
   },
   {
    "duration": 6,
    "start_time": "2021-08-08T12:56:58.409Z"
   },
   {
    "duration": 9,
    "start_time": "2021-08-08T12:56:58.416Z"
   },
   {
    "duration": 13,
    "start_time": "2021-08-08T12:56:58.427Z"
   },
   {
    "duration": 6,
    "start_time": "2021-08-08T12:56:58.441Z"
   },
   {
    "duration": 7,
    "start_time": "2021-08-08T12:56:58.449Z"
   },
   {
    "duration": 38,
    "start_time": "2021-08-08T12:56:58.458Z"
   },
   {
    "duration": 6,
    "start_time": "2021-08-08T12:56:58.498Z"
   },
   {
    "duration": 4,
    "start_time": "2021-08-08T12:56:58.506Z"
   },
   {
    "duration": 9,
    "start_time": "2021-08-08T12:56:58.512Z"
   },
   {
    "duration": 13,
    "start_time": "2021-08-08T12:56:58.522Z"
   },
   {
    "duration": 297,
    "start_time": "2021-08-08T12:56:58.539Z"
   },
   {
    "duration": 11,
    "start_time": "2021-08-08T12:56:58.839Z"
   },
   {
    "duration": 140,
    "start_time": "2021-08-08T12:56:58.852Z"
   },
   {
    "duration": 85,
    "start_time": "2021-08-08T12:56:58.994Z"
   },
   {
    "duration": 79,
    "start_time": "2021-08-08T12:56:59.080Z"
   },
   {
    "duration": 3,
    "start_time": "2021-08-08T12:56:59.160Z"
   },
   {
    "duration": 355,
    "start_time": "2021-08-08T12:56:59.165Z"
   },
   {
    "duration": 240,
    "start_time": "2021-08-08T12:56:59.522Z"
   },
   {
    "duration": 308,
    "start_time": "2021-08-08T12:56:59.763Z"
   },
   {
    "duration": 185,
    "start_time": "2021-08-08T12:57:00.072Z"
   },
   {
    "duration": 34,
    "start_time": "2021-08-08T12:57:00.258Z"
   },
   {
    "duration": 25,
    "start_time": "2021-08-08T12:57:00.294Z"
   },
   {
    "duration": 20,
    "start_time": "2021-08-08T12:57:00.321Z"
   },
   {
    "duration": 20,
    "start_time": "2021-08-08T12:57:00.343Z"
   },
   {
    "duration": 30,
    "start_time": "2021-08-08T12:57:00.364Z"
   },
   {
    "duration": 19,
    "start_time": "2021-08-08T12:57:00.396Z"
   },
   {
    "duration": 8,
    "start_time": "2021-08-08T12:57:00.416Z"
   },
   {
    "duration": 193,
    "start_time": "2021-08-08T12:57:00.426Z"
   },
   {
    "duration": 9,
    "start_time": "2021-08-08T12:57:00.621Z"
   },
   {
    "duration": 204,
    "start_time": "2021-08-08T12:57:00.631Z"
   },
   {
    "duration": 41,
    "start_time": "2021-08-08T12:57:00.837Z"
   },
   {
    "duration": 124,
    "start_time": "2021-08-08T12:57:00.880Z"
   },
   {
    "duration": 10,
    "start_time": "2021-08-08T12:57:01.006Z"
   },
   {
    "duration": 28,
    "start_time": "2021-08-08T12:57:01.017Z"
   },
   {
    "duration": 19,
    "start_time": "2021-08-08T12:57:01.047Z"
   },
   {
    "duration": 38,
    "start_time": "2021-08-08T12:57:01.068Z"
   },
   {
    "duration": 741,
    "start_time": "2021-08-08T12:57:01.108Z"
   },
   {
    "duration": 23,
    "start_time": "2021-08-08T12:57:01.850Z"
   },
   {
    "duration": 343,
    "start_time": "2021-08-08T12:57:01.875Z"
   },
   {
    "duration": 35,
    "start_time": "2021-08-08T12:57:02.220Z"
   },
   {
    "duration": 10,
    "start_time": "2021-08-08T12:57:02.257Z"
   },
   {
    "duration": 164,
    "start_time": "2021-08-08T12:57:02.268Z"
   },
   {
    "duration": 498,
    "start_time": "2021-08-08T12:57:02.433Z"
   },
   {
    "duration": 395,
    "start_time": "2021-08-08T12:57:02.932Z"
   },
   {
    "duration": 12,
    "start_time": "2021-08-08T12:57:03.328Z"
   },
   {
    "duration": 49,
    "start_time": "2021-08-08T12:57:03.342Z"
   },
   {
    "duration": 27,
    "start_time": "2021-08-08T12:57:03.393Z"
   },
   {
    "duration": 4,
    "start_time": "2021-08-08T12:57:03.421Z"
   },
   {
    "duration": 34,
    "start_time": "2021-08-08T12:57:03.426Z"
   },
   {
    "duration": 7,
    "start_time": "2021-08-08T12:57:03.461Z"
   },
   {
    "duration": 28,
    "start_time": "2021-08-08T12:57:03.470Z"
   },
   {
    "duration": 309,
    "start_time": "2021-08-08T12:57:03.500Z"
   },
   {
    "duration": 182,
    "start_time": "2021-08-08T12:57:03.811Z"
   },
   {
    "duration": 17,
    "start_time": "2021-08-08T12:57:03.995Z"
   },
   {
    "duration": 14,
    "start_time": "2021-08-08T12:57:04.014Z"
   },
   {
    "duration": 84,
    "start_time": "2021-08-08T12:57:04.030Z"
   },
   {
    "duration": 31,
    "start_time": "2021-08-08T12:57:04.116Z"
   },
   {
    "duration": 7,
    "start_time": "2021-08-08T12:57:04.149Z"
   },
   {
    "duration": 5,
    "start_time": "2021-08-08T12:57:04.158Z"
   },
   {
    "duration": 29,
    "start_time": "2021-08-08T12:57:04.165Z"
   },
   {
    "duration": 167,
    "start_time": "2021-08-08T12:57:04.196Z"
   },
   {
    "duration": 6,
    "start_time": "2021-08-08T12:57:04.365Z"
   },
   {
    "duration": 185,
    "start_time": "2021-08-08T12:57:04.373Z"
   },
   {
    "duration": 298,
    "start_time": "2021-08-08T12:57:04.560Z"
   },
   {
    "duration": 15705,
    "start_time": "2021-08-08T12:57:04.863Z"
   },
   {
    "duration": 291,
    "start_time": "2021-08-08T12:57:20.570Z"
   },
   {
    "duration": 8,
    "start_time": "2021-08-08T12:57:20.862Z"
   },
   {
    "duration": 172,
    "start_time": "2021-08-08T12:57:20.872Z"
   },
   {
    "duration": 22,
    "start_time": "2021-08-08T12:57:21.046Z"
   },
   {
    "duration": 326,
    "start_time": "2021-08-08T12:57:21.070Z"
   },
   {
    "duration": 10,
    "start_time": "2021-08-08T12:57:21.398Z"
   },
   {
    "duration": 16,
    "start_time": "2021-08-08T12:57:21.410Z"
   },
   {
    "duration": 12,
    "start_time": "2021-08-08T12:57:21.428Z"
   },
   {
    "duration": 6,
    "start_time": "2021-08-08T12:57:21.441Z"
   },
   {
    "duration": 5,
    "start_time": "2021-08-08T12:57:21.449Z"
   },
   {
    "duration": 12,
    "start_time": "2021-08-08T12:57:21.455Z"
   },
   {
    "duration": 27,
    "start_time": "2021-08-08T12:57:21.491Z"
   },
   {
    "duration": 25,
    "start_time": "2021-08-08T12:57:21.519Z"
   },
   {
    "duration": 359,
    "start_time": "2021-08-08T12:57:21.545Z"
   },
   {
    "duration": 17,
    "start_time": "2021-08-08T12:57:21.888Z"
   },
   {
    "duration": 8,
    "start_time": "2021-08-08T12:57:21.898Z"
   },
   {
    "duration": 1,
    "start_time": "2021-08-08T12:57:21.906Z"
   },
   {
    "duration": -17,
    "start_time": "2021-08-08T12:57:21.925Z"
   },
   {
    "duration": 220,
    "start_time": "2021-08-08T12:58:02.645Z"
   },
   {
    "duration": 24,
    "start_time": "2021-08-08T12:58:05.161Z"
   },
   {
    "duration": 256,
    "start_time": "2021-08-08T13:00:27.768Z"
   },
   {
    "duration": 1462,
    "start_time": "2021-08-08T13:00:38.060Z"
   },
   {
    "duration": 2,
    "start_time": "2021-08-08T13:00:39.525Z"
   },
   {
    "duration": 627,
    "start_time": "2021-08-08T13:00:39.529Z"
   },
   {
    "duration": 10,
    "start_time": "2021-08-08T13:00:40.158Z"
   },
   {
    "duration": 63,
    "start_time": "2021-08-08T13:00:40.170Z"
   },
   {
    "duration": 243,
    "start_time": "2021-08-08T13:00:40.235Z"
   },
   {
    "duration": 11,
    "start_time": "2021-08-08T13:00:40.480Z"
   },
   {
    "duration": 3,
    "start_time": "2021-08-08T13:00:40.493Z"
   },
   {
    "duration": 159,
    "start_time": "2021-08-08T13:00:40.498Z"
   },
   {
    "duration": 24,
    "start_time": "2021-08-08T13:00:40.659Z"
   },
   {
    "duration": 8,
    "start_time": "2021-08-08T13:00:40.691Z"
   },
   {
    "duration": 15,
    "start_time": "2021-08-08T13:00:40.700Z"
   },
   {
    "duration": 7,
    "start_time": "2021-08-08T13:00:40.717Z"
   },
   {
    "duration": 10,
    "start_time": "2021-08-08T13:00:40.725Z"
   },
   {
    "duration": 15,
    "start_time": "2021-08-08T13:00:40.737Z"
   },
   {
    "duration": 4,
    "start_time": "2021-08-08T13:00:40.754Z"
   },
   {
    "duration": 33,
    "start_time": "2021-08-08T13:00:40.759Z"
   },
   {
    "duration": 9,
    "start_time": "2021-08-08T13:00:40.794Z"
   },
   {
    "duration": 13,
    "start_time": "2021-08-08T13:00:40.805Z"
   },
   {
    "duration": 8,
    "start_time": "2021-08-08T13:00:40.819Z"
   },
   {
    "duration": 8,
    "start_time": "2021-08-08T13:00:40.828Z"
   },
   {
    "duration": 10,
    "start_time": "2021-08-08T13:00:40.838Z"
   },
   {
    "duration": 9,
    "start_time": "2021-08-08T13:00:40.851Z"
   },
   {
    "duration": 16,
    "start_time": "2021-08-08T13:00:40.862Z"
   },
   {
    "duration": 15,
    "start_time": "2021-08-08T13:00:40.880Z"
   },
   {
    "duration": 14,
    "start_time": "2021-08-08T13:00:40.897Z"
   },
   {
    "duration": 287,
    "start_time": "2021-08-08T13:00:40.912Z"
   },
   {
    "duration": 12,
    "start_time": "2021-08-08T13:00:41.201Z"
   },
   {
    "duration": 150,
    "start_time": "2021-08-08T13:00:41.215Z"
   },
   {
    "duration": 92,
    "start_time": "2021-08-08T13:00:41.367Z"
   },
   {
    "duration": 78,
    "start_time": "2021-08-08T13:00:41.461Z"
   },
   {
    "duration": 3,
    "start_time": "2021-08-08T13:00:41.541Z"
   },
   {
    "duration": 249,
    "start_time": "2021-08-08T13:00:41.545Z"
   },
   {
    "duration": 241,
    "start_time": "2021-08-08T13:00:41.795Z"
   },
   {
    "duration": 303,
    "start_time": "2021-08-08T13:00:42.038Z"
   },
   {
    "duration": 194,
    "start_time": "2021-08-08T13:00:42.343Z"
   },
   {
    "duration": 30,
    "start_time": "2021-08-08T13:00:42.539Z"
   },
   {
    "duration": 21,
    "start_time": "2021-08-08T13:00:42.571Z"
   },
   {
    "duration": 15,
    "start_time": "2021-08-08T13:00:42.594Z"
   },
   {
    "duration": 19,
    "start_time": "2021-08-08T13:00:42.610Z"
   },
   {
    "duration": 29,
    "start_time": "2021-08-08T13:00:42.631Z"
   },
   {
    "duration": 35,
    "start_time": "2021-08-08T13:00:42.662Z"
   },
   {
    "duration": 10,
    "start_time": "2021-08-08T13:00:42.698Z"
   },
   {
    "duration": 198,
    "start_time": "2021-08-08T13:00:42.709Z"
   },
   {
    "duration": 11,
    "start_time": "2021-08-08T13:00:42.909Z"
   },
   {
    "duration": 555,
    "start_time": "2021-08-08T13:00:42.921Z"
   },
   {
    "duration": 25,
    "start_time": "2021-08-08T13:00:43.454Z"
   },
   {
    "duration": 21,
    "start_time": "2021-08-08T13:00:43.459Z"
   },
   {
    "duration": 19,
    "start_time": "2021-08-08T13:00:43.463Z"
   },
   {
    "duration": 15,
    "start_time": "2021-08-08T13:00:43.468Z"
   },
   {
    "duration": 11,
    "start_time": "2021-08-08T13:00:43.473Z"
   },
   {
    "duration": 8,
    "start_time": "2021-08-08T13:00:43.478Z"
   },
   {
    "duration": 5,
    "start_time": "2021-08-08T13:00:43.482Z"
   },
   {
    "duration": 2,
    "start_time": "2021-08-08T13:00:43.486Z"
   },
   {
    "duration": 0,
    "start_time": "2021-08-08T13:00:43.490Z"
   },
   {
    "duration": -3,
    "start_time": "2021-08-08T13:00:43.494Z"
   },
   {
    "duration": -5,
    "start_time": "2021-08-08T13:00:43.498Z"
   },
   {
    "duration": -9,
    "start_time": "2021-08-08T13:00:43.503Z"
   },
   {
    "duration": -12,
    "start_time": "2021-08-08T13:00:43.507Z"
   },
   {
    "duration": -15,
    "start_time": "2021-08-08T13:00:43.511Z"
   },
   {
    "duration": -18,
    "start_time": "2021-08-08T13:00:43.516Z"
   },
   {
    "duration": -21,
    "start_time": "2021-08-08T13:00:43.520Z"
   },
   {
    "duration": -24,
    "start_time": "2021-08-08T13:00:43.524Z"
   },
   {
    "duration": -27,
    "start_time": "2021-08-08T13:00:43.529Z"
   },
   {
    "duration": -31,
    "start_time": "2021-08-08T13:00:43.534Z"
   },
   {
    "duration": -33,
    "start_time": "2021-08-08T13:00:43.538Z"
   },
   {
    "duration": -36,
    "start_time": "2021-08-08T13:00:43.542Z"
   },
   {
    "duration": -39,
    "start_time": "2021-08-08T13:00:43.546Z"
   },
   {
    "duration": -46,
    "start_time": "2021-08-08T13:00:43.555Z"
   },
   {
    "duration": -48,
    "start_time": "2021-08-08T13:00:43.558Z"
   },
   {
    "duration": -49,
    "start_time": "2021-08-08T13:00:43.561Z"
   },
   {
    "duration": -51,
    "start_time": "2021-08-08T13:00:43.564Z"
   },
   {
    "duration": -53,
    "start_time": "2021-08-08T13:00:43.567Z"
   },
   {
    "duration": -54,
    "start_time": "2021-08-08T13:00:43.570Z"
   },
   {
    "duration": -56,
    "start_time": "2021-08-08T13:00:43.573Z"
   },
   {
    "duration": -58,
    "start_time": "2021-08-08T13:00:43.576Z"
   },
   {
    "duration": -59,
    "start_time": "2021-08-08T13:00:43.579Z"
   },
   {
    "duration": -65,
    "start_time": "2021-08-08T13:00:43.586Z"
   },
   {
    "duration": -66,
    "start_time": "2021-08-08T13:00:43.589Z"
   },
   {
    "duration": -68,
    "start_time": "2021-08-08T13:00:43.592Z"
   },
   {
    "duration": -70,
    "start_time": "2021-08-08T13:00:43.595Z"
   },
   {
    "duration": -72,
    "start_time": "2021-08-08T13:00:43.599Z"
   },
   {
    "duration": -73,
    "start_time": "2021-08-08T13:00:43.601Z"
   },
   {
    "duration": -74,
    "start_time": "2021-08-08T13:00:43.604Z"
   },
   {
    "duration": -75,
    "start_time": "2021-08-08T13:00:43.606Z"
   },
   {
    "duration": -77,
    "start_time": "2021-08-08T13:00:43.609Z"
   },
   {
    "duration": -78,
    "start_time": "2021-08-08T13:00:43.612Z"
   },
   {
    "duration": -23,
    "start_time": "2021-08-08T13:00:43.615Z"
   },
   {
    "duration": -25,
    "start_time": "2021-08-08T13:00:43.618Z"
   },
   {
    "duration": -25,
    "start_time": "2021-08-08T13:00:43.620Z"
   },
   {
    "duration": -27,
    "start_time": "2021-08-08T13:00:43.623Z"
   },
   {
    "duration": -28,
    "start_time": "2021-08-08T13:00:43.626Z"
   },
   {
    "duration": -29,
    "start_time": "2021-08-08T13:00:43.628Z"
   },
   {
    "duration": -31,
    "start_time": "2021-08-08T13:00:43.631Z"
   },
   {
    "duration": -31,
    "start_time": "2021-08-08T13:00:43.633Z"
   },
   {
    "duration": -33,
    "start_time": "2021-08-08T13:00:43.636Z"
   },
   {
    "duration": -34,
    "start_time": "2021-08-08T13:00:43.638Z"
   },
   {
    "duration": -35,
    "start_time": "2021-08-08T13:00:43.641Z"
   },
   {
    "duration": -37,
    "start_time": "2021-08-08T13:00:43.644Z"
   },
   {
    "duration": 368,
    "start_time": "2021-08-08T13:01:05.900Z"
   },
   {
    "duration": 332,
    "start_time": "2021-08-08T13:01:56.926Z"
   },
   {
    "duration": 1390,
    "start_time": "2021-08-08T13:02:29.825Z"
   },
   {
    "duration": 3,
    "start_time": "2021-08-08T13:02:31.216Z"
   },
   {
    "duration": 574,
    "start_time": "2021-08-08T13:02:31.221Z"
   },
   {
    "duration": 10,
    "start_time": "2021-08-08T13:02:31.797Z"
   },
   {
    "duration": 56,
    "start_time": "2021-08-08T13:02:31.809Z"
   },
   {
    "duration": 242,
    "start_time": "2021-08-08T13:02:31.867Z"
   },
   {
    "duration": 3,
    "start_time": "2021-08-08T13:02:32.110Z"
   },
   {
    "duration": 6,
    "start_time": "2021-08-08T13:02:32.116Z"
   },
   {
    "duration": 157,
    "start_time": "2021-08-08T13:02:32.124Z"
   },
   {
    "duration": 27,
    "start_time": "2021-08-08T13:02:32.283Z"
   },
   {
    "duration": 7,
    "start_time": "2021-08-08T13:02:32.312Z"
   },
   {
    "duration": 17,
    "start_time": "2021-08-08T13:02:32.320Z"
   },
   {
    "duration": 7,
    "start_time": "2021-08-08T13:02:32.340Z"
   },
   {
    "duration": 11,
    "start_time": "2021-08-08T13:02:32.349Z"
   },
   {
    "duration": 37,
    "start_time": "2021-08-08T13:02:32.362Z"
   },
   {
    "duration": 3,
    "start_time": "2021-08-08T13:02:32.400Z"
   },
   {
    "duration": 13,
    "start_time": "2021-08-08T13:02:32.405Z"
   },
   {
    "duration": 10,
    "start_time": "2021-08-08T13:02:32.419Z"
   },
   {
    "duration": 20,
    "start_time": "2021-08-08T13:02:32.430Z"
   },
   {
    "duration": 6,
    "start_time": "2021-08-08T13:02:32.451Z"
   },
   {
    "duration": 14,
    "start_time": "2021-08-08T13:02:32.458Z"
   },
   {
    "duration": 10,
    "start_time": "2021-08-08T13:02:32.473Z"
   },
   {
    "duration": 8,
    "start_time": "2021-08-08T13:02:32.486Z"
   },
   {
    "duration": 6,
    "start_time": "2021-08-08T13:02:32.496Z"
   },
   {
    "duration": 16,
    "start_time": "2021-08-08T13:02:32.503Z"
   },
   {
    "duration": 14,
    "start_time": "2021-08-08T13:02:32.521Z"
   },
   {
    "duration": 284,
    "start_time": "2021-08-08T13:02:32.536Z"
   },
   {
    "duration": 12,
    "start_time": "2021-08-08T13:02:32.821Z"
   },
   {
    "duration": 133,
    "start_time": "2021-08-08T13:02:32.835Z"
   },
   {
    "duration": 88,
    "start_time": "2021-08-08T13:02:32.970Z"
   },
   {
    "duration": 71,
    "start_time": "2021-08-08T13:02:33.059Z"
   },
   {
    "duration": 3,
    "start_time": "2021-08-08T13:02:33.132Z"
   },
   {
    "duration": 241,
    "start_time": "2021-08-08T13:02:33.136Z"
   },
   {
    "duration": 230,
    "start_time": "2021-08-08T13:02:33.379Z"
   },
   {
    "duration": 294,
    "start_time": "2021-08-08T13:02:33.610Z"
   },
   {
    "duration": 188,
    "start_time": "2021-08-08T13:02:33.906Z"
   },
   {
    "duration": 27,
    "start_time": "2021-08-08T13:02:34.095Z"
   },
   {
    "duration": 4,
    "start_time": "2021-08-08T13:02:34.123Z"
   },
   {
    "duration": 13,
    "start_time": "2021-08-08T13:02:34.129Z"
   },
   {
    "duration": 19,
    "start_time": "2021-08-08T13:02:34.143Z"
   },
   {
    "duration": 54,
    "start_time": "2021-08-08T13:02:34.164Z"
   },
   {
    "duration": 19,
    "start_time": "2021-08-08T13:02:34.219Z"
   },
   {
    "duration": 9,
    "start_time": "2021-08-08T13:02:34.240Z"
   },
   {
    "duration": 203,
    "start_time": "2021-08-08T13:02:34.250Z"
   },
   {
    "duration": 9,
    "start_time": "2021-08-08T13:02:34.454Z"
   },
   {
    "duration": 195,
    "start_time": "2021-08-08T13:02:34.465Z"
   },
   {
    "duration": 48,
    "start_time": "2021-08-08T13:02:34.662Z"
   },
   {
    "duration": 110,
    "start_time": "2021-08-08T13:02:34.712Z"
   },
   {
    "duration": 8,
    "start_time": "2021-08-08T13:02:34.824Z"
   },
   {
    "duration": 9,
    "start_time": "2021-08-08T13:02:34.834Z"
   },
   {
    "duration": 12,
    "start_time": "2021-08-08T13:02:34.844Z"
   },
   {
    "duration": 38,
    "start_time": "2021-08-08T13:02:34.857Z"
   },
   {
    "duration": 729,
    "start_time": "2021-08-08T13:02:34.897Z"
   },
   {
    "duration": 23,
    "start_time": "2021-08-08T13:02:35.628Z"
   },
   {
    "duration": 334,
    "start_time": "2021-08-08T13:02:35.653Z"
   },
   {
    "duration": 32,
    "start_time": "2021-08-08T13:02:35.989Z"
   },
   {
    "duration": 9,
    "start_time": "2021-08-08T13:02:36.023Z"
   },
   {
    "duration": 155,
    "start_time": "2021-08-08T13:02:36.033Z"
   },
   {
    "duration": 468,
    "start_time": "2021-08-08T13:02:36.189Z"
   },
   {
    "duration": 369,
    "start_time": "2021-08-08T13:02:36.659Z"
   },
   {
    "duration": 11,
    "start_time": "2021-08-08T13:02:37.029Z"
   },
   {
    "duration": 31,
    "start_time": "2021-08-08T13:02:37.041Z"
   },
   {
    "duration": 40,
    "start_time": "2021-08-08T13:02:37.073Z"
   },
   {
    "duration": 3,
    "start_time": "2021-08-08T13:02:37.115Z"
   },
   {
    "duration": 32,
    "start_time": "2021-08-08T13:02:37.120Z"
   },
   {
    "duration": 8,
    "start_time": "2021-08-08T13:02:37.153Z"
   },
   {
    "duration": 28,
    "start_time": "2021-08-08T13:02:37.163Z"
   },
   {
    "duration": 292,
    "start_time": "2021-08-08T13:02:37.196Z"
   },
   {
    "duration": 168,
    "start_time": "2021-08-08T13:02:37.490Z"
   },
   {
    "duration": 17,
    "start_time": "2021-08-08T13:02:37.660Z"
   },
   {
    "duration": 23,
    "start_time": "2021-08-08T13:02:37.679Z"
   },
   {
    "duration": 58,
    "start_time": "2021-08-08T13:02:37.703Z"
   },
   {
    "duration": 50,
    "start_time": "2021-08-08T13:02:37.763Z"
   },
   {
    "duration": 14,
    "start_time": "2021-08-08T13:02:37.815Z"
   },
   {
    "duration": 11,
    "start_time": "2021-08-08T13:02:37.831Z"
   },
   {
    "duration": 5,
    "start_time": "2021-08-08T13:02:37.844Z"
   },
   {
    "duration": 158,
    "start_time": "2021-08-08T13:02:37.851Z"
   },
   {
    "duration": 5,
    "start_time": "2021-08-08T13:02:38.010Z"
   },
   {
    "duration": 164,
    "start_time": "2021-08-08T13:02:38.017Z"
   },
   {
    "duration": 245,
    "start_time": "2021-08-08T13:02:38.183Z"
   },
   {
    "duration": 15429,
    "start_time": "2021-08-08T13:02:38.430Z"
   },
   {
    "duration": 279,
    "start_time": "2021-08-08T13:02:53.861Z"
   },
   {
    "duration": 6,
    "start_time": "2021-08-08T13:02:54.142Z"
   },
   {
    "duration": 166,
    "start_time": "2021-08-08T13:02:54.150Z"
   },
   {
    "duration": 22,
    "start_time": "2021-08-08T13:02:54.318Z"
   },
   {
    "duration": 335,
    "start_time": "2021-08-08T13:02:54.342Z"
   },
   {
    "duration": 14,
    "start_time": "2021-08-08T13:02:54.678Z"
   },
   {
    "duration": 12,
    "start_time": "2021-08-08T13:02:54.694Z"
   },
   {
    "duration": 12,
    "start_time": "2021-08-08T13:02:54.707Z"
   },
   {
    "duration": 7,
    "start_time": "2021-08-08T13:02:54.720Z"
   },
   {
    "duration": 7,
    "start_time": "2021-08-08T13:02:54.728Z"
   },
   {
    "duration": 11,
    "start_time": "2021-08-08T13:02:54.736Z"
   },
   {
    "duration": 687,
    "start_time": "2021-08-08T13:02:54.748Z"
   },
   {
    "duration": 151,
    "start_time": "2021-08-08T13:02:55.437Z"
   },
   {
    "duration": 363,
    "start_time": "2021-08-08T13:02:55.590Z"
   },
   {
    "duration": 33,
    "start_time": "2021-08-08T13:02:55.922Z"
   },
   {
    "duration": 22,
    "start_time": "2021-08-08T13:02:55.934Z"
   },
   {
    "duration": 17,
    "start_time": "2021-08-08T13:02:55.939Z"
   },
   {
    "duration": 10,
    "start_time": "2021-08-08T13:02:55.947Z"
   },
   {
    "duration": 487,
    "start_time": "2021-08-08T13:03:40.452Z"
   },
   {
    "duration": 432,
    "start_time": "2021-08-08T13:04:19.982Z"
   },
   {
    "duration": 1809,
    "start_time": "2021-08-08T13:05:21.857Z"
   },
   {
    "duration": 2,
    "start_time": "2021-08-08T13:05:23.668Z"
   },
   {
    "duration": 573,
    "start_time": "2021-08-08T13:05:23.672Z"
   },
   {
    "duration": 11,
    "start_time": "2021-08-08T13:05:24.246Z"
   },
   {
    "duration": 54,
    "start_time": "2021-08-08T13:05:24.258Z"
   },
   {
    "duration": 236,
    "start_time": "2021-08-08T13:05:24.314Z"
   },
   {
    "duration": 4,
    "start_time": "2021-08-08T13:05:24.551Z"
   },
   {
    "duration": 6,
    "start_time": "2021-08-08T13:05:24.557Z"
   },
   {
    "duration": 156,
    "start_time": "2021-08-08T13:05:24.565Z"
   },
   {
    "duration": 19,
    "start_time": "2021-08-08T13:05:24.723Z"
   },
   {
    "duration": 6,
    "start_time": "2021-08-08T13:05:24.744Z"
   },
   {
    "duration": 13,
    "start_time": "2021-08-08T13:05:24.752Z"
   },
   {
    "duration": 27,
    "start_time": "2021-08-08T13:05:24.766Z"
   },
   {
    "duration": 10,
    "start_time": "2021-08-08T13:05:24.795Z"
   },
   {
    "duration": 15,
    "start_time": "2021-08-08T13:05:24.806Z"
   },
   {
    "duration": 4,
    "start_time": "2021-08-08T13:05:24.822Z"
   },
   {
    "duration": 5,
    "start_time": "2021-08-08T13:05:24.828Z"
   },
   {
    "duration": 8,
    "start_time": "2021-08-08T13:05:24.835Z"
   },
   {
    "duration": 15,
    "start_time": "2021-08-08T13:05:24.845Z"
   },
   {
    "duration": 6,
    "start_time": "2021-08-08T13:05:24.861Z"
   },
   {
    "duration": 6,
    "start_time": "2021-08-08T13:05:24.891Z"
   },
   {
    "duration": 8,
    "start_time": "2021-08-08T13:05:24.899Z"
   },
   {
    "duration": 5,
    "start_time": "2021-08-08T13:05:24.911Z"
   },
   {
    "duration": 6,
    "start_time": "2021-08-08T13:05:24.918Z"
   },
   {
    "duration": 10,
    "start_time": "2021-08-08T13:05:24.925Z"
   },
   {
    "duration": 12,
    "start_time": "2021-08-08T13:05:24.937Z"
   },
   {
    "duration": 390,
    "start_time": "2021-08-08T13:05:24.951Z"
   },
   {
    "duration": 13,
    "start_time": "2021-08-08T13:05:25.343Z"
   },
   {
    "duration": 138,
    "start_time": "2021-08-08T13:05:25.357Z"
   },
   {
    "duration": 82,
    "start_time": "2021-08-08T13:05:25.497Z"
   },
   {
    "duration": 72,
    "start_time": "2021-08-08T13:05:25.591Z"
   },
   {
    "duration": 3,
    "start_time": "2021-08-08T13:05:25.665Z"
   },
   {
    "duration": 264,
    "start_time": "2021-08-08T13:05:25.670Z"
   },
   {
    "duration": 226,
    "start_time": "2021-08-08T13:05:25.936Z"
   },
   {
    "duration": 304,
    "start_time": "2021-08-08T13:05:26.164Z"
   },
   {
    "duration": 189,
    "start_time": "2021-08-08T13:05:26.470Z"
   },
   {
    "duration": 31,
    "start_time": "2021-08-08T13:05:26.661Z"
   },
   {
    "duration": 5,
    "start_time": "2021-08-08T13:05:26.694Z"
   },
   {
    "duration": 14,
    "start_time": "2021-08-08T13:05:26.700Z"
   },
   {
    "duration": 20,
    "start_time": "2021-08-08T13:05:26.716Z"
   },
   {
    "duration": 54,
    "start_time": "2021-08-08T13:05:26.738Z"
   },
   {
    "duration": 20,
    "start_time": "2021-08-08T13:05:26.794Z"
   },
   {
    "duration": 9,
    "start_time": "2021-08-08T13:05:26.815Z"
   },
   {
    "duration": 198,
    "start_time": "2021-08-08T13:05:26.826Z"
   },
   {
    "duration": 10,
    "start_time": "2021-08-08T13:05:27.025Z"
   },
   {
    "duration": 193,
    "start_time": "2021-08-08T13:05:27.037Z"
   },
   {
    "duration": 40,
    "start_time": "2021-08-08T13:05:27.232Z"
   },
   {
    "duration": 127,
    "start_time": "2021-08-08T13:05:27.274Z"
   },
   {
    "duration": 10,
    "start_time": "2021-08-08T13:05:27.402Z"
   },
   {
    "duration": 9,
    "start_time": "2021-08-08T13:05:27.414Z"
   },
   {
    "duration": 12,
    "start_time": "2021-08-08T13:05:27.424Z"
   },
   {
    "duration": 28,
    "start_time": "2021-08-08T13:05:27.437Z"
   },
   {
    "duration": 846,
    "start_time": "2021-08-08T13:05:27.467Z"
   },
   {
    "duration": 23,
    "start_time": "2021-08-08T13:05:28.315Z"
   },
   {
    "duration": 327,
    "start_time": "2021-08-08T13:05:28.340Z"
   },
   {
    "duration": 42,
    "start_time": "2021-08-08T13:05:28.669Z"
   },
   {
    "duration": 11,
    "start_time": "2021-08-08T13:05:28.713Z"
   },
   {
    "duration": 150,
    "start_time": "2021-08-08T13:05:28.726Z"
   },
   {
    "duration": 467,
    "start_time": "2021-08-08T13:05:28.878Z"
   },
   {
    "duration": 391,
    "start_time": "2021-08-08T13:05:29.347Z"
   },
   {
    "duration": 12,
    "start_time": "2021-08-08T13:05:29.740Z"
   },
   {
    "duration": 47,
    "start_time": "2021-08-08T13:05:29.754Z"
   },
   {
    "duration": 27,
    "start_time": "2021-08-08T13:05:29.802Z"
   },
   {
    "duration": 4,
    "start_time": "2021-08-08T13:05:29.831Z"
   },
   {
    "duration": 51,
    "start_time": "2021-08-08T13:05:29.837Z"
   },
   {
    "duration": 9,
    "start_time": "2021-08-08T13:05:29.891Z"
   },
   {
    "duration": 14,
    "start_time": "2021-08-08T13:05:29.901Z"
   },
   {
    "duration": 298,
    "start_time": "2021-08-08T13:05:29.921Z"
   },
   {
    "duration": 171,
    "start_time": "2021-08-08T13:05:30.222Z"
   },
   {
    "duration": 17,
    "start_time": "2021-08-08T13:05:30.394Z"
   },
   {
    "duration": 11,
    "start_time": "2021-08-08T13:05:30.413Z"
   },
   {
    "duration": 71,
    "start_time": "2021-08-08T13:05:30.426Z"
   },
   {
    "duration": 28,
    "start_time": "2021-08-08T13:05:30.498Z"
   },
   {
    "duration": 6,
    "start_time": "2021-08-08T13:05:30.528Z"
   },
   {
    "duration": 12,
    "start_time": "2021-08-08T13:05:30.535Z"
   },
   {
    "duration": 11,
    "start_time": "2021-08-08T13:05:30.549Z"
   },
   {
    "duration": 165,
    "start_time": "2021-08-08T13:05:30.561Z"
   },
   {
    "duration": 5,
    "start_time": "2021-08-08T13:05:30.728Z"
   },
   {
    "duration": 172,
    "start_time": "2021-08-08T13:05:30.735Z"
   },
   {
    "duration": 254,
    "start_time": "2021-08-08T13:05:30.909Z"
   },
   {
    "duration": 15274,
    "start_time": "2021-08-08T13:05:31.165Z"
   },
   {
    "duration": 396,
    "start_time": "2021-08-08T13:05:46.441Z"
   },
   {
    "duration": 7,
    "start_time": "2021-08-08T13:05:46.839Z"
   },
   {
    "duration": 183,
    "start_time": "2021-08-08T13:05:46.848Z"
   },
   {
    "duration": 24,
    "start_time": "2021-08-08T13:05:47.033Z"
   },
   {
    "duration": 332,
    "start_time": "2021-08-08T13:05:47.059Z"
   },
   {
    "duration": 10,
    "start_time": "2021-08-08T13:05:47.393Z"
   },
   {
    "duration": 18,
    "start_time": "2021-08-08T13:05:47.405Z"
   },
   {
    "duration": 11,
    "start_time": "2021-08-08T13:05:47.425Z"
   },
   {
    "duration": 7,
    "start_time": "2021-08-08T13:05:47.437Z"
   },
   {
    "duration": 6,
    "start_time": "2021-08-08T13:05:47.446Z"
   },
   {
    "duration": 12,
    "start_time": "2021-08-08T13:05:47.453Z"
   },
   {
    "duration": 591,
    "start_time": "2021-08-08T13:05:47.466Z"
   },
   {
    "duration": 521,
    "start_time": "2021-08-08T13:05:48.058Z"
   },
   {
    "duration": 339,
    "start_time": "2021-08-08T13:05:48.581Z"
   },
   {
    "duration": 29,
    "start_time": "2021-08-08T13:05:48.892Z"
   },
   {
    "duration": 24,
    "start_time": "2021-08-08T13:05:48.898Z"
   },
   {
    "duration": 20,
    "start_time": "2021-08-08T13:05:48.903Z"
   },
   {
    "duration": 15,
    "start_time": "2021-08-08T13:05:48.909Z"
   },
   {
    "duration": 29,
    "start_time": "2021-08-08T13:06:26.324Z"
   },
   {
    "duration": 329,
    "start_time": "2021-08-08T13:07:27.842Z"
   },
   {
    "duration": 45,
    "start_time": "2021-08-08T13:07:56.013Z"
   },
   {
    "duration": 5515,
    "start_time": "2021-08-08T13:08:04.561Z"
   },
   {
    "duration": 6551,
    "start_time": "2021-08-08T13:08:10.957Z"
   },
   {
    "duration": 1408,
    "start_time": "2021-08-08T13:08:29.185Z"
   },
   {
    "duration": 2,
    "start_time": "2021-08-08T13:08:30.596Z"
   },
   {
    "duration": 646,
    "start_time": "2021-08-08T13:08:30.600Z"
   },
   {
    "duration": 10,
    "start_time": "2021-08-08T13:08:31.248Z"
   },
   {
    "duration": 52,
    "start_time": "2021-08-08T13:08:31.259Z"
   },
   {
    "duration": 249,
    "start_time": "2021-08-08T13:08:31.312Z"
   },
   {
    "duration": 3,
    "start_time": "2021-08-08T13:08:31.563Z"
   },
   {
    "duration": 15,
    "start_time": "2021-08-08T13:08:31.569Z"
   },
   {
    "duration": 153,
    "start_time": "2021-08-08T13:08:31.586Z"
   },
   {
    "duration": 24,
    "start_time": "2021-08-08T13:08:31.741Z"
   },
   {
    "duration": 7,
    "start_time": "2021-08-08T13:08:31.767Z"
   },
   {
    "duration": 14,
    "start_time": "2021-08-08T13:08:31.791Z"
   },
   {
    "duration": 7,
    "start_time": "2021-08-08T13:08:31.806Z"
   },
   {
    "duration": 10,
    "start_time": "2021-08-08T13:08:31.814Z"
   },
   {
    "duration": 15,
    "start_time": "2021-08-08T13:08:31.826Z"
   },
   {
    "duration": 4,
    "start_time": "2021-08-08T13:08:31.843Z"
   },
   {
    "duration": 5,
    "start_time": "2021-08-08T13:08:31.848Z"
   },
   {
    "duration": 15,
    "start_time": "2021-08-08T13:08:31.855Z"
   },
   {
    "duration": 29,
    "start_time": "2021-08-08T13:08:31.872Z"
   },
   {
    "duration": 14,
    "start_time": "2021-08-08T13:08:31.903Z"
   },
   {
    "duration": 16,
    "start_time": "2021-08-08T13:08:31.919Z"
   },
   {
    "duration": 10,
    "start_time": "2021-08-08T13:08:31.936Z"
   },
   {
    "duration": 12,
    "start_time": "2021-08-08T13:08:31.950Z"
   },
   {
    "duration": 11,
    "start_time": "2021-08-08T13:08:31.964Z"
   },
   {
    "duration": 14,
    "start_time": "2021-08-08T13:08:31.976Z"
   },
   {
    "duration": 14,
    "start_time": "2021-08-08T13:08:31.992Z"
   },
   {
    "duration": 281,
    "start_time": "2021-08-08T13:08:32.007Z"
   },
   {
    "duration": 12,
    "start_time": "2021-08-08T13:08:32.290Z"
   },
   {
    "duration": 131,
    "start_time": "2021-08-08T13:08:32.304Z"
   },
   {
    "duration": 90,
    "start_time": "2021-08-08T13:08:32.436Z"
   },
   {
    "duration": 77,
    "start_time": "2021-08-08T13:08:32.527Z"
   },
   {
    "duration": 3,
    "start_time": "2021-08-08T13:08:32.606Z"
   },
   {
    "duration": 248,
    "start_time": "2021-08-08T13:08:32.610Z"
   },
   {
    "duration": 233,
    "start_time": "2021-08-08T13:08:32.860Z"
   },
   {
    "duration": 297,
    "start_time": "2021-08-08T13:08:33.094Z"
   },
   {
    "duration": 187,
    "start_time": "2021-08-08T13:08:33.393Z"
   },
   {
    "duration": 36,
    "start_time": "2021-08-08T13:08:33.581Z"
   },
   {
    "duration": 4,
    "start_time": "2021-08-08T13:08:33.618Z"
   },
   {
    "duration": 14,
    "start_time": "2021-08-08T13:08:33.624Z"
   },
   {
    "duration": 19,
    "start_time": "2021-08-08T13:08:33.640Z"
   },
   {
    "duration": 51,
    "start_time": "2021-08-08T13:08:33.661Z"
   },
   {
    "duration": 20,
    "start_time": "2021-08-08T13:08:33.713Z"
   },
   {
    "duration": 9,
    "start_time": "2021-08-08T13:08:33.734Z"
   },
   {
    "duration": 193,
    "start_time": "2021-08-08T13:08:33.745Z"
   },
   {
    "duration": 9,
    "start_time": "2021-08-08T13:08:33.939Z"
   },
   {
    "duration": 199,
    "start_time": "2021-08-08T13:08:33.950Z"
   },
   {
    "duration": 44,
    "start_time": "2021-08-08T13:08:34.150Z"
   },
   {
    "duration": 115,
    "start_time": "2021-08-08T13:08:34.196Z"
   },
   {
    "duration": 9,
    "start_time": "2021-08-08T13:08:34.312Z"
   },
   {
    "duration": 8,
    "start_time": "2021-08-08T13:08:34.323Z"
   },
   {
    "duration": 18,
    "start_time": "2021-08-08T13:08:34.332Z"
   },
   {
    "duration": 39,
    "start_time": "2021-08-08T13:08:34.352Z"
   },
   {
    "duration": 755,
    "start_time": "2021-08-08T13:08:34.392Z"
   },
   {
    "duration": 22,
    "start_time": "2021-08-08T13:08:35.149Z"
   },
   {
    "duration": 342,
    "start_time": "2021-08-08T13:08:35.173Z"
   },
   {
    "duration": 35,
    "start_time": "2021-08-08T13:08:35.517Z"
   },
   {
    "duration": 10,
    "start_time": "2021-08-08T13:08:35.553Z"
   },
   {
    "duration": 151,
    "start_time": "2021-08-08T13:08:35.564Z"
   },
   {
    "duration": 472,
    "start_time": "2021-08-08T13:08:35.716Z"
   },
   {
    "duration": 368,
    "start_time": "2021-08-08T13:08:36.191Z"
   },
   {
    "duration": 10,
    "start_time": "2021-08-08T13:08:36.561Z"
   },
   {
    "duration": 40,
    "start_time": "2021-08-08T13:08:36.572Z"
   },
   {
    "duration": 25,
    "start_time": "2021-08-08T13:08:36.614Z"
   },
   {
    "duration": 3,
    "start_time": "2021-08-08T13:08:36.641Z"
   },
   {
    "duration": 54,
    "start_time": "2021-08-08T13:08:36.646Z"
   },
   {
    "duration": 7,
    "start_time": "2021-08-08T13:08:36.702Z"
   },
   {
    "duration": 11,
    "start_time": "2021-08-08T13:08:36.710Z"
   },
   {
    "duration": 297,
    "start_time": "2021-08-08T13:08:36.726Z"
   },
   {
    "duration": 172,
    "start_time": "2021-08-08T13:08:37.025Z"
   },
   {
    "duration": 18,
    "start_time": "2021-08-08T13:08:37.199Z"
   },
   {
    "duration": 13,
    "start_time": "2021-08-08T13:08:37.219Z"
   },
   {
    "duration": 86,
    "start_time": "2021-08-08T13:08:37.233Z"
   },
   {
    "duration": 29,
    "start_time": "2021-08-08T13:08:37.320Z"
   },
   {
    "duration": 6,
    "start_time": "2021-08-08T13:08:37.351Z"
   },
   {
    "duration": 5,
    "start_time": "2021-08-08T13:08:37.358Z"
   },
   {
    "duration": 26,
    "start_time": "2021-08-08T13:08:37.365Z"
   },
   {
    "duration": 161,
    "start_time": "2021-08-08T13:08:37.393Z"
   },
   {
    "duration": 5,
    "start_time": "2021-08-08T13:08:37.555Z"
   },
   {
    "duration": 164,
    "start_time": "2021-08-08T13:08:37.561Z"
   },
   {
    "duration": 245,
    "start_time": "2021-08-08T13:08:37.726Z"
   },
   {
    "duration": 15319,
    "start_time": "2021-08-08T13:08:37.973Z"
   },
   {
    "duration": 293,
    "start_time": "2021-08-08T13:08:53.294Z"
   },
   {
    "duration": 6,
    "start_time": "2021-08-08T13:08:53.588Z"
   },
   {
    "duration": 165,
    "start_time": "2021-08-08T13:08:53.595Z"
   },
   {
    "duration": 31,
    "start_time": "2021-08-08T13:08:53.761Z"
   },
   {
    "duration": 327,
    "start_time": "2021-08-08T13:08:53.793Z"
   },
   {
    "duration": 9,
    "start_time": "2021-08-08T13:08:54.122Z"
   },
   {
    "duration": 16,
    "start_time": "2021-08-08T13:08:54.133Z"
   },
   {
    "duration": 10,
    "start_time": "2021-08-08T13:08:54.151Z"
   },
   {
    "duration": 7,
    "start_time": "2021-08-08T13:08:54.163Z"
   },
   {
    "duration": 8,
    "start_time": "2021-08-08T13:08:54.172Z"
   },
   {
    "duration": 16,
    "start_time": "2021-08-08T13:08:54.191Z"
   },
   {
    "duration": 583,
    "start_time": "2021-08-08T13:08:54.209Z"
   },
   {
    "duration": 401,
    "start_time": "2021-08-08T13:08:54.794Z"
   },
   {
    "duration": 45,
    "start_time": "2021-08-08T13:08:55.197Z"
   },
   {
    "duration": 27,
    "start_time": "2021-08-08T13:08:55.244Z"
   },
   {
    "duration": 7,
    "start_time": "2021-08-08T13:08:55.291Z"
   },
   {
    "duration": 6,
    "start_time": "2021-08-08T13:08:55.300Z"
   },
   {
    "duration": 338,
    "start_time": "2021-08-08T13:08:55.307Z"
   },
   {
    "duration": 22,
    "start_time": "2021-08-08T13:08:55.625Z"
   },
   {
    "duration": 7,
    "start_time": "2021-08-08T13:09:05.467Z"
   },
   {
    "duration": 14,
    "start_time": "2021-08-08T13:22:48.263Z"
   },
   {
    "duration": 624,
    "start_time": "2021-08-08T13:22:50.410Z"
   },
   {
    "duration": 9,
    "start_time": "2021-08-08T13:23:48.860Z"
   },
   {
    "duration": 29,
    "start_time": "2021-08-08T13:24:15.049Z"
   },
   {
    "duration": 15,
    "start_time": "2021-08-08T13:24:21.630Z"
   },
   {
    "duration": 6,
    "start_time": "2021-08-08T13:24:36.435Z"
   },
   {
    "duration": 402,
    "start_time": "2021-08-08T13:24:48.893Z"
   },
   {
    "duration": 7,
    "start_time": "2021-08-08T13:24:50.371Z"
   },
   {
    "duration": 427,
    "start_time": "2021-08-08T13:25:35.793Z"
   },
   {
    "duration": 636,
    "start_time": "2021-08-08T13:25:43.639Z"
   },
   {
    "duration": 422,
    "start_time": "2021-08-08T13:25:46.470Z"
   },
   {
    "duration": 10,
    "start_time": "2021-08-08T13:26:02.404Z"
   },
   {
    "duration": 9,
    "start_time": "2021-08-08T13:26:17.851Z"
   },
   {
    "duration": 6,
    "start_time": "2021-08-08T13:26:22.463Z"
   },
   {
    "duration": 11,
    "start_time": "2021-08-08T13:26:33.298Z"
   },
   {
    "duration": 12,
    "start_time": "2021-08-08T13:26:46.260Z"
   },
   {
    "duration": 11,
    "start_time": "2021-08-08T13:26:52.670Z"
   },
   {
    "duration": 258,
    "start_time": "2021-08-08T13:32:59.425Z"
   },
   {
    "duration": 368,
    "start_time": "2021-08-08T13:35:13.728Z"
   },
   {
    "duration": 9,
    "start_time": "2021-08-08T13:35:31.496Z"
   },
   {
    "duration": 417,
    "start_time": "2021-08-08T13:35:32.371Z"
   },
   {
    "duration": 8,
    "start_time": "2021-08-08T13:35:33.442Z"
   },
   {
    "duration": 368,
    "start_time": "2021-08-08T13:35:40.210Z"
   },
   {
    "duration": 417,
    "start_time": "2021-08-08T13:35:41.004Z"
   },
   {
    "duration": 6,
    "start_time": "2021-08-08T13:35:41.423Z"
   },
   {
    "duration": 377,
    "start_time": "2021-08-08T13:36:00.245Z"
   },
   {
    "duration": 5,
    "start_time": "2021-08-08T13:36:14.621Z"
   },
   {
    "duration": 7,
    "start_time": "2021-08-08T13:36:22.155Z"
   },
   {
    "duration": 14,
    "start_time": "2021-08-08T13:37:07.934Z"
   },
   {
    "duration": 5,
    "start_time": "2021-08-08T13:37:14.852Z"
   },
   {
    "duration": 1361,
    "start_time": "2021-08-08T13:37:41.417Z"
   },
   {
    "duration": 3,
    "start_time": "2021-08-08T13:37:42.780Z"
   },
   {
    "duration": 588,
    "start_time": "2021-08-08T13:37:42.785Z"
   },
   {
    "duration": 11,
    "start_time": "2021-08-08T13:37:43.375Z"
   },
   {
    "duration": 52,
    "start_time": "2021-08-08T13:37:43.388Z"
   },
   {
    "duration": 233,
    "start_time": "2021-08-08T13:37:43.442Z"
   },
   {
    "duration": 4,
    "start_time": "2021-08-08T13:37:43.677Z"
   },
   {
    "duration": 10,
    "start_time": "2021-08-08T13:37:43.683Z"
   },
   {
    "duration": 159,
    "start_time": "2021-08-08T13:37:43.695Z"
   },
   {
    "duration": 24,
    "start_time": "2021-08-08T13:37:43.856Z"
   },
   {
    "duration": 14,
    "start_time": "2021-08-08T13:37:43.882Z"
   },
   {
    "duration": 14,
    "start_time": "2021-08-08T13:37:43.898Z"
   },
   {
    "duration": 7,
    "start_time": "2021-08-08T13:37:43.914Z"
   },
   {
    "duration": 9,
    "start_time": "2021-08-08T13:37:43.922Z"
   },
   {
    "duration": 14,
    "start_time": "2021-08-08T13:37:43.933Z"
   },
   {
    "duration": 42,
    "start_time": "2021-08-08T13:37:43.949Z"
   },
   {
    "duration": 3,
    "start_time": "2021-08-08T13:37:43.992Z"
   },
   {
    "duration": 7,
    "start_time": "2021-08-08T13:37:43.997Z"
   },
   {
    "duration": 13,
    "start_time": "2021-08-08T13:37:44.006Z"
   },
   {
    "duration": 5,
    "start_time": "2021-08-08T13:37:44.020Z"
   },
   {
    "duration": 8,
    "start_time": "2021-08-08T13:37:44.027Z"
   },
   {
    "duration": 9,
    "start_time": "2021-08-08T13:37:44.037Z"
   },
   {
    "duration": 8,
    "start_time": "2021-08-08T13:37:44.049Z"
   },
   {
    "duration": 6,
    "start_time": "2021-08-08T13:37:44.059Z"
   },
   {
    "duration": 24,
    "start_time": "2021-08-08T13:37:44.067Z"
   },
   {
    "duration": 8,
    "start_time": "2021-08-08T13:37:44.092Z"
   },
   {
    "duration": 286,
    "start_time": "2021-08-08T13:37:44.101Z"
   },
   {
    "duration": 14,
    "start_time": "2021-08-08T13:37:44.388Z"
   },
   {
    "duration": 134,
    "start_time": "2021-08-08T13:37:44.403Z"
   },
   {
    "duration": 92,
    "start_time": "2021-08-08T13:37:44.538Z"
   },
   {
    "duration": 80,
    "start_time": "2021-08-08T13:37:44.631Z"
   },
   {
    "duration": 3,
    "start_time": "2021-08-08T13:37:44.713Z"
   },
   {
    "duration": 247,
    "start_time": "2021-08-08T13:37:44.718Z"
   },
   {
    "duration": 235,
    "start_time": "2021-08-08T13:37:44.967Z"
   },
   {
    "duration": 308,
    "start_time": "2021-08-08T13:37:45.204Z"
   },
   {
    "duration": 187,
    "start_time": "2021-08-08T13:37:45.513Z"
   },
   {
    "duration": 26,
    "start_time": "2021-08-08T13:37:45.702Z"
   },
   {
    "duration": 7,
    "start_time": "2021-08-08T13:37:45.730Z"
   },
   {
    "duration": 17,
    "start_time": "2021-08-08T13:37:45.739Z"
   },
   {
    "duration": 35,
    "start_time": "2021-08-08T13:37:45.757Z"
   },
   {
    "duration": 30,
    "start_time": "2021-08-08T13:37:45.794Z"
   },
   {
    "duration": 19,
    "start_time": "2021-08-08T13:37:45.826Z"
   },
   {
    "duration": 9,
    "start_time": "2021-08-08T13:37:45.846Z"
   },
   {
    "duration": 199,
    "start_time": "2021-08-08T13:37:45.857Z"
   },
   {
    "duration": 9,
    "start_time": "2021-08-08T13:37:46.057Z"
   },
   {
    "duration": 196,
    "start_time": "2021-08-08T13:37:46.068Z"
   },
   {
    "duration": 43,
    "start_time": "2021-08-08T13:37:46.266Z"
   },
   {
    "duration": 114,
    "start_time": "2021-08-08T13:37:46.311Z"
   },
   {
    "duration": 8,
    "start_time": "2021-08-08T13:37:46.427Z"
   },
   {
    "duration": 11,
    "start_time": "2021-08-08T13:37:46.437Z"
   },
   {
    "duration": 16,
    "start_time": "2021-08-08T13:37:46.449Z"
   },
   {
    "duration": 36,
    "start_time": "2021-08-08T13:37:46.467Z"
   },
   {
    "duration": 739,
    "start_time": "2021-08-08T13:37:46.505Z"
   },
   {
    "duration": 34,
    "start_time": "2021-08-08T13:37:47.245Z"
   },
   {
    "duration": 315,
    "start_time": "2021-08-08T13:37:47.281Z"
   },
   {
    "duration": 32,
    "start_time": "2021-08-08T13:37:47.598Z"
   },
   {
    "duration": 11,
    "start_time": "2021-08-08T13:37:47.632Z"
   },
   {
    "duration": 157,
    "start_time": "2021-08-08T13:37:47.645Z"
   },
   {
    "duration": 477,
    "start_time": "2021-08-08T13:37:47.804Z"
   },
   {
    "duration": 375,
    "start_time": "2021-08-08T13:37:48.283Z"
   },
   {
    "duration": 11,
    "start_time": "2021-08-08T13:37:48.660Z"
   },
   {
    "duration": 47,
    "start_time": "2021-08-08T13:37:48.673Z"
   },
   {
    "duration": 28,
    "start_time": "2021-08-08T13:37:48.721Z"
   },
   {
    "duration": 4,
    "start_time": "2021-08-08T13:37:48.750Z"
   },
   {
    "duration": 49,
    "start_time": "2021-08-08T13:37:48.755Z"
   },
   {
    "duration": 7,
    "start_time": "2021-08-08T13:37:48.806Z"
   },
   {
    "duration": 9,
    "start_time": "2021-08-08T13:37:48.814Z"
   },
   {
    "duration": 297,
    "start_time": "2021-08-08T13:37:48.827Z"
   },
   {
    "duration": 170,
    "start_time": "2021-08-08T13:37:49.126Z"
   },
   {
    "duration": 17,
    "start_time": "2021-08-08T13:37:49.297Z"
   },
   {
    "duration": 12,
    "start_time": "2021-08-08T13:37:49.316Z"
   },
   {
    "duration": 75,
    "start_time": "2021-08-08T13:37:49.329Z"
   },
   {
    "duration": 26,
    "start_time": "2021-08-08T13:37:49.406Z"
   },
   {
    "duration": 6,
    "start_time": "2021-08-08T13:37:49.433Z"
   },
   {
    "duration": 7,
    "start_time": "2021-08-08T13:37:49.440Z"
   },
   {
    "duration": 6,
    "start_time": "2021-08-08T13:37:49.448Z"
   },
   {
    "duration": 173,
    "start_time": "2021-08-08T13:37:49.455Z"
   },
   {
    "duration": 5,
    "start_time": "2021-08-08T13:37:49.629Z"
   },
   {
    "duration": 160,
    "start_time": "2021-08-08T13:37:49.635Z"
   },
   {
    "duration": 244,
    "start_time": "2021-08-08T13:37:49.797Z"
   },
   {
    "duration": 704,
    "start_time": "2021-08-08T13:37:50.042Z"
   },
   {
    "duration": 484,
    "start_time": "2021-08-08T13:37:50.748Z"
   },
   {
    "duration": 327,
    "start_time": "2021-08-08T13:37:51.234Z"
   },
   {
    "duration": -7,
    "start_time": "2021-08-08T13:37:51.570Z"
   },
   {
    "duration": -12,
    "start_time": "2021-08-08T13:37:51.576Z"
   },
   {
    "duration": -17,
    "start_time": "2021-08-08T13:37:51.582Z"
   },
   {
    "duration": -21,
    "start_time": "2021-08-08T13:37:51.587Z"
   },
   {
    "duration": -24,
    "start_time": "2021-08-08T13:37:51.590Z"
   },
   {
    "duration": -26,
    "start_time": "2021-08-08T13:37:51.594Z"
   },
   {
    "duration": -30,
    "start_time": "2021-08-08T13:37:51.598Z"
   },
   {
    "duration": -41,
    "start_time": "2021-08-08T13:37:51.610Z"
   },
   {
    "duration": -44,
    "start_time": "2021-08-08T13:37:51.614Z"
   },
   {
    "duration": -47,
    "start_time": "2021-08-08T13:37:51.618Z"
   },
   {
    "duration": 227,
    "start_time": "2021-08-08T13:38:39.753Z"
   },
   {
    "duration": 236,
    "start_time": "2021-08-08T13:42:02.578Z"
   },
   {
    "duration": 7,
    "start_time": "2021-08-08T13:43:09.790Z"
   },
   {
    "duration": 14,
    "start_time": "2021-08-08T13:43:13.061Z"
   },
   {
    "duration": 271,
    "start_time": "2021-08-08T13:43:19.023Z"
   },
   {
    "duration": 11,
    "start_time": "2021-08-08T13:43:52.939Z"
   },
   {
    "duration": 5,
    "start_time": "2021-08-08T13:43:53.756Z"
   },
   {
    "duration": 13,
    "start_time": "2021-08-08T13:43:54.176Z"
   },
   {
    "duration": 606,
    "start_time": "2021-08-08T13:43:54.545Z"
   },
   {
    "duration": 10,
    "start_time": "2021-08-08T13:43:55.153Z"
   },
   {
    "duration": 352,
    "start_time": "2021-08-08T13:43:55.164Z"
   },
   {
    "duration": 4,
    "start_time": "2021-08-08T13:43:55.518Z"
   },
   {
    "duration": 8,
    "start_time": "2021-08-08T13:43:56.367Z"
   },
   {
    "duration": 5,
    "start_time": "2021-08-08T13:43:56.571Z"
   },
   {
    "duration": 529,
    "start_time": "2021-08-08T13:45:01.027Z"
   },
   {
    "duration": 360,
    "start_time": "2021-08-08T13:45:18.120Z"
   },
   {
    "duration": 363,
    "start_time": "2021-08-08T13:45:34.261Z"
   },
   {
    "duration": 250,
    "start_time": "2021-08-08T13:46:12.763Z"
   },
   {
    "duration": 349,
    "start_time": "2021-08-08T13:46:16.726Z"
   },
   {
    "duration": 347,
    "start_time": "2021-08-08T13:46:34.112Z"
   },
   {
    "duration": 13,
    "start_time": "2021-08-08T13:47:09.469Z"
   },
   {
    "duration": 32,
    "start_time": "2021-08-08T13:47:26.255Z"
   },
   {
    "duration": 255,
    "start_time": "2021-08-08T13:58:42.808Z"
   },
   {
    "duration": 1366,
    "start_time": "2021-08-08T13:58:48.715Z"
   },
   {
    "duration": 3,
    "start_time": "2021-08-08T13:58:50.082Z"
   },
   {
    "duration": 578,
    "start_time": "2021-08-08T13:58:50.087Z"
   },
   {
    "duration": 10,
    "start_time": "2021-08-08T13:58:50.667Z"
   },
   {
    "duration": 52,
    "start_time": "2021-08-08T13:58:50.679Z"
   },
   {
    "duration": 239,
    "start_time": "2021-08-08T13:58:50.733Z"
   },
   {
    "duration": 4,
    "start_time": "2021-08-08T13:58:50.974Z"
   },
   {
    "duration": 7,
    "start_time": "2021-08-08T13:58:50.980Z"
   },
   {
    "duration": 153,
    "start_time": "2021-08-08T13:58:50.992Z"
   },
   {
    "duration": 23,
    "start_time": "2021-08-08T13:58:51.147Z"
   },
   {
    "duration": 7,
    "start_time": "2021-08-08T13:58:51.171Z"
   },
   {
    "duration": 25,
    "start_time": "2021-08-08T13:58:51.179Z"
   },
   {
    "duration": 6,
    "start_time": "2021-08-08T13:58:51.206Z"
   },
   {
    "duration": 12,
    "start_time": "2021-08-08T13:58:51.214Z"
   },
   {
    "duration": 15,
    "start_time": "2021-08-08T13:58:51.228Z"
   },
   {
    "duration": 3,
    "start_time": "2021-08-08T13:58:51.245Z"
   },
   {
    "duration": 5,
    "start_time": "2021-08-08T13:58:51.250Z"
   },
   {
    "duration": 34,
    "start_time": "2021-08-08T13:58:51.257Z"
   },
   {
    "duration": 14,
    "start_time": "2021-08-08T13:58:51.293Z"
   },
   {
    "duration": 5,
    "start_time": "2021-08-08T13:58:51.308Z"
   },
   {
    "duration": 8,
    "start_time": "2021-08-08T13:58:51.315Z"
   },
   {
    "duration": 9,
    "start_time": "2021-08-08T13:58:51.325Z"
   },
   {
    "duration": 6,
    "start_time": "2021-08-08T13:58:51.338Z"
   },
   {
    "duration": 7,
    "start_time": "2021-08-08T13:58:51.346Z"
   },
   {
    "duration": 9,
    "start_time": "2021-08-08T13:58:51.355Z"
   },
   {
    "duration": 13,
    "start_time": "2021-08-08T13:58:51.365Z"
   },
   {
    "duration": 279,
    "start_time": "2021-08-08T13:58:51.391Z"
   },
   {
    "duration": 12,
    "start_time": "2021-08-08T13:58:51.671Z"
   },
   {
    "duration": 125,
    "start_time": "2021-08-08T13:58:51.691Z"
   },
   {
    "duration": 87,
    "start_time": "2021-08-08T13:58:51.818Z"
   },
   {
    "duration": 71,
    "start_time": "2021-08-08T13:58:51.906Z"
   },
   {
    "duration": 14,
    "start_time": "2021-08-08T13:58:51.978Z"
   },
   {
    "duration": 240,
    "start_time": "2021-08-08T13:58:51.994Z"
   },
   {
    "duration": 227,
    "start_time": "2021-08-08T13:58:52.235Z"
   },
   {
    "duration": 393,
    "start_time": "2021-08-08T13:58:52.464Z"
   },
   {
    "duration": 288,
    "start_time": "2021-08-08T13:58:52.858Z"
   },
   {
    "duration": 27,
    "start_time": "2021-08-08T13:58:53.148Z"
   },
   {
    "duration": 16,
    "start_time": "2021-08-08T13:58:53.176Z"
   },
   {
    "duration": 15,
    "start_time": "2021-08-08T13:58:53.193Z"
   },
   {
    "duration": 21,
    "start_time": "2021-08-08T13:58:53.209Z"
   },
   {
    "duration": 30,
    "start_time": "2021-08-08T13:58:53.232Z"
   },
   {
    "duration": 41,
    "start_time": "2021-08-08T13:58:53.264Z"
   },
   {
    "duration": 9,
    "start_time": "2021-08-08T13:58:53.307Z"
   },
   {
    "duration": 298,
    "start_time": "2021-08-08T13:58:53.317Z"
   },
   {
    "duration": 9,
    "start_time": "2021-08-08T13:58:53.616Z"
   },
   {
    "duration": 194,
    "start_time": "2021-08-08T13:58:53.627Z"
   },
   {
    "duration": 39,
    "start_time": "2021-08-08T13:58:53.823Z"
   },
   {
    "duration": 123,
    "start_time": "2021-08-08T13:58:53.864Z"
   },
   {
    "duration": 9,
    "start_time": "2021-08-08T13:58:53.988Z"
   },
   {
    "duration": 10,
    "start_time": "2021-08-08T13:58:53.998Z"
   },
   {
    "duration": 12,
    "start_time": "2021-08-08T13:58:54.009Z"
   },
   {
    "duration": 28,
    "start_time": "2021-08-08T13:58:54.022Z"
   },
   {
    "duration": 873,
    "start_time": "2021-08-08T13:58:54.052Z"
   },
   {
    "duration": 24,
    "start_time": "2021-08-08T13:58:54.926Z"
   },
   {
    "duration": 349,
    "start_time": "2021-08-08T13:58:54.951Z"
   },
   {
    "duration": 34,
    "start_time": "2021-08-08T13:58:55.303Z"
   },
   {
    "duration": 10,
    "start_time": "2021-08-08T13:58:55.339Z"
   },
   {
    "duration": 153,
    "start_time": "2021-08-08T13:58:55.351Z"
   },
   {
    "duration": 573,
    "start_time": "2021-08-08T13:58:55.506Z"
   },
   {
    "duration": 403,
    "start_time": "2021-08-08T13:58:56.080Z"
   },
   {
    "duration": 15,
    "start_time": "2021-08-08T13:58:56.485Z"
   },
   {
    "duration": 31,
    "start_time": "2021-08-08T13:58:56.501Z"
   },
   {
    "duration": 27,
    "start_time": "2021-08-08T13:58:56.534Z"
   },
   {
    "duration": 4,
    "start_time": "2021-08-08T13:58:56.562Z"
   },
   {
    "duration": 51,
    "start_time": "2021-08-08T13:58:56.567Z"
   },
   {
    "duration": 7,
    "start_time": "2021-08-08T13:58:56.620Z"
   },
   {
    "duration": 8,
    "start_time": "2021-08-08T13:58:56.628Z"
   },
   {
    "duration": 309,
    "start_time": "2021-08-08T13:58:56.640Z"
   },
   {
    "duration": 174,
    "start_time": "2021-08-08T13:58:56.951Z"
   },
   {
    "duration": 17,
    "start_time": "2021-08-08T13:58:57.127Z"
   },
   {
    "duration": 12,
    "start_time": "2021-08-08T13:58:57.145Z"
   },
   {
    "duration": 71,
    "start_time": "2021-08-08T13:58:57.158Z"
   },
   {
    "duration": 26,
    "start_time": "2021-08-08T13:58:57.231Z"
   },
   {
    "duration": 5,
    "start_time": "2021-08-08T13:58:57.259Z"
   },
   {
    "duration": 6,
    "start_time": "2021-08-08T13:58:57.265Z"
   },
   {
    "duration": 20,
    "start_time": "2021-08-08T13:58:57.273Z"
   },
   {
    "duration": 162,
    "start_time": "2021-08-08T13:58:57.294Z"
   },
   {
    "duration": 4,
    "start_time": "2021-08-08T13:58:57.458Z"
   },
   {
    "duration": 165,
    "start_time": "2021-08-08T13:58:57.463Z"
   },
   {
    "duration": 249,
    "start_time": "2021-08-08T13:58:57.629Z"
   },
   {
    "duration": 685,
    "start_time": "2021-08-08T13:58:57.879Z"
   },
   {
    "duration": 496,
    "start_time": "2021-08-08T13:58:58.566Z"
   },
   {
    "duration": 13,
    "start_time": "2021-08-08T13:58:59.063Z"
   },
   {
    "duration": 263,
    "start_time": "2021-08-08T13:58:59.077Z"
   },
   {
    "duration": 7,
    "start_time": "2021-08-08T13:58:59.342Z"
   },
   {
    "duration": 7,
    "start_time": "2021-08-08T13:58:59.350Z"
   },
   {
    "duration": 14,
    "start_time": "2021-08-08T13:58:59.359Z"
   },
   {
    "duration": 640,
    "start_time": "2021-08-08T13:58:59.374Z"
   },
   {
    "duration": 9,
    "start_time": "2021-08-08T13:59:00.015Z"
   },
   {
    "duration": 30,
    "start_time": "2021-08-08T13:59:00.026Z"
   },
   {
    "duration": 269,
    "start_time": "2021-08-08T13:59:00.057Z"
   },
   {
    "duration": 405,
    "start_time": "2021-08-08T13:59:00.328Z"
   },
   {
    "duration": 1,
    "start_time": "2021-08-08T13:59:00.734Z"
   },
   {
    "duration": -13,
    "start_time": "2021-08-08T13:59:00.749Z"
   },
   {
    "duration": 274,
    "start_time": "2021-08-08T13:59:15.446Z"
   },
   {
    "duration": 354,
    "start_time": "2021-08-08T13:59:54.241Z"
   },
   {
    "duration": 418,
    "start_time": "2021-08-08T14:00:05.982Z"
   },
   {
    "duration": 386,
    "start_time": "2021-08-08T14:00:19.644Z"
   },
   {
    "duration": 357,
    "start_time": "2021-08-08T14:00:29.637Z"
   },
   {
    "duration": 273,
    "start_time": "2021-08-08T14:00:43.454Z"
   },
   {
    "duration": 306,
    "start_time": "2021-08-08T14:00:55.555Z"
   },
   {
    "duration": 294,
    "start_time": "2021-08-08T14:01:13.170Z"
   },
   {
    "duration": 70,
    "start_time": "2021-08-08T14:01:30.400Z"
   },
   {
    "duration": 358,
    "start_time": "2021-08-08T14:01:39.493Z"
   },
   {
    "duration": 393,
    "start_time": "2021-08-08T14:01:49.091Z"
   },
   {
    "duration": 408,
    "start_time": "2021-08-08T14:01:53.935Z"
   },
   {
    "duration": 305,
    "start_time": "2021-08-08T14:01:58.408Z"
   },
   {
    "duration": 241,
    "start_time": "2021-08-08T14:04:42.483Z"
   },
   {
    "duration": 217,
    "start_time": "2021-08-08T14:04:46.360Z"
   },
   {
    "duration": 239,
    "start_time": "2021-08-08T14:05:29.950Z"
   },
   {
    "duration": 254,
    "start_time": "2021-08-08T14:05:39.972Z"
   },
   {
    "duration": 228,
    "start_time": "2021-08-08T14:05:46.160Z"
   },
   {
    "duration": 275,
    "start_time": "2021-08-08T14:05:49.555Z"
   },
   {
    "duration": 180,
    "start_time": "2021-08-08T14:11:34.727Z"
   },
   {
    "duration": 5,
    "start_time": "2021-08-08T14:11:35.164Z"
   },
   {
    "duration": 238,
    "start_time": "2021-08-08T14:11:58.584Z"
   },
   {
    "duration": 9,
    "start_time": "2021-08-08T14:12:11.348Z"
   },
   {
    "duration": 391,
    "start_time": "2021-08-08T14:12:27.927Z"
   },
   {
    "duration": 9,
    "start_time": "2021-08-08T14:12:31.394Z"
   },
   {
    "duration": 8,
    "start_time": "2021-08-08T14:12:31.920Z"
   },
   {
    "duration": 4,
    "start_time": "2021-08-08T14:13:03.263Z"
   },
   {
    "duration": 4,
    "start_time": "2021-08-08T14:13:20.415Z"
   },
   {
    "duration": 366,
    "start_time": "2021-08-08T14:13:51.360Z"
   },
   {
    "duration": 232,
    "start_time": "2021-08-08T14:13:57.670Z"
   },
   {
    "duration": 329,
    "start_time": "2021-08-08T14:15:56.777Z"
   },
   {
    "duration": 1427,
    "start_time": "2021-08-08T14:16:31.595Z"
   },
   {
    "duration": 2,
    "start_time": "2021-08-08T14:16:33.024Z"
   },
   {
    "duration": 578,
    "start_time": "2021-08-08T14:16:33.028Z"
   },
   {
    "duration": 11,
    "start_time": "2021-08-08T14:16:33.608Z"
   },
   {
    "duration": 54,
    "start_time": "2021-08-08T14:16:33.620Z"
   },
   {
    "duration": 243,
    "start_time": "2021-08-08T14:16:33.675Z"
   },
   {
    "duration": 4,
    "start_time": "2021-08-08T14:16:33.919Z"
   },
   {
    "duration": 8,
    "start_time": "2021-08-08T14:16:33.925Z"
   },
   {
    "duration": 156,
    "start_time": "2021-08-08T14:16:33.935Z"
   },
   {
    "duration": 24,
    "start_time": "2021-08-08T14:16:34.093Z"
   },
   {
    "duration": 7,
    "start_time": "2021-08-08T14:16:34.118Z"
   },
   {
    "duration": 13,
    "start_time": "2021-08-08T14:16:34.127Z"
   },
   {
    "duration": 6,
    "start_time": "2021-08-08T14:16:34.142Z"
   },
   {
    "duration": 10,
    "start_time": "2021-08-08T14:16:34.149Z"
   },
   {
    "duration": 42,
    "start_time": "2021-08-08T14:16:34.161Z"
   },
   {
    "duration": 3,
    "start_time": "2021-08-08T14:16:34.205Z"
   },
   {
    "duration": 6,
    "start_time": "2021-08-08T14:16:34.209Z"
   },
   {
    "duration": 8,
    "start_time": "2021-08-08T14:16:34.216Z"
   },
   {
    "duration": 13,
    "start_time": "2021-08-08T14:16:34.225Z"
   },
   {
    "duration": 7,
    "start_time": "2021-08-08T14:16:34.240Z"
   },
   {
    "duration": 7,
    "start_time": "2021-08-08T14:16:34.249Z"
   },
   {
    "duration": 9,
    "start_time": "2021-08-08T14:16:34.258Z"
   },
   {
    "duration": 5,
    "start_time": "2021-08-08T14:16:34.290Z"
   },
   {
    "duration": 3,
    "start_time": "2021-08-08T14:16:34.298Z"
   },
   {
    "duration": 10,
    "start_time": "2021-08-08T14:16:34.303Z"
   },
   {
    "duration": 12,
    "start_time": "2021-08-08T14:16:34.314Z"
   },
   {
    "duration": 287,
    "start_time": "2021-08-08T14:16:34.328Z"
   },
   {
    "duration": 13,
    "start_time": "2021-08-08T14:16:34.616Z"
   },
   {
    "duration": 136,
    "start_time": "2021-08-08T14:16:34.631Z"
   },
   {
    "duration": 87,
    "start_time": "2021-08-08T14:16:34.769Z"
   },
   {
    "duration": 72,
    "start_time": "2021-08-08T14:16:34.858Z"
   },
   {
    "duration": 2,
    "start_time": "2021-08-08T14:16:34.932Z"
   },
   {
    "duration": 242,
    "start_time": "2021-08-08T14:16:34.936Z"
   },
   {
    "duration": 231,
    "start_time": "2021-08-08T14:16:35.180Z"
   },
   {
    "duration": 303,
    "start_time": "2021-08-08T14:16:35.412Z"
   },
   {
    "duration": 189,
    "start_time": "2021-08-08T14:16:35.716Z"
   },
   {
    "duration": 26,
    "start_time": "2021-08-08T14:16:35.907Z"
   },
   {
    "duration": 5,
    "start_time": "2021-08-08T14:16:35.935Z"
   },
   {
    "duration": 19,
    "start_time": "2021-08-08T14:16:35.941Z"
   },
   {
    "duration": 37,
    "start_time": "2021-08-08T14:16:35.961Z"
   },
   {
    "duration": 30,
    "start_time": "2021-08-08T14:16:36.000Z"
   },
   {
    "duration": 18,
    "start_time": "2021-08-08T14:16:36.032Z"
   },
   {
    "duration": 9,
    "start_time": "2021-08-08T14:16:36.052Z"
   },
   {
    "duration": 201,
    "start_time": "2021-08-08T14:16:36.062Z"
   },
   {
    "duration": 8,
    "start_time": "2021-08-08T14:16:36.265Z"
   },
   {
    "duration": 190,
    "start_time": "2021-08-08T14:16:36.275Z"
   },
   {
    "duration": 49,
    "start_time": "2021-08-08T14:16:36.466Z"
   },
   {
    "duration": 112,
    "start_time": "2021-08-08T14:16:36.516Z"
   },
   {
    "duration": 9,
    "start_time": "2021-08-08T14:16:36.629Z"
   },
   {
    "duration": 10,
    "start_time": "2021-08-08T14:16:36.640Z"
   },
   {
    "duration": 11,
    "start_time": "2021-08-08T14:16:36.651Z"
   },
   {
    "duration": 38,
    "start_time": "2021-08-08T14:16:36.663Z"
   },
   {
    "duration": 746,
    "start_time": "2021-08-08T14:16:36.703Z"
   },
   {
    "duration": 22,
    "start_time": "2021-08-08T14:16:37.450Z"
   },
   {
    "duration": 338,
    "start_time": "2021-08-08T14:16:37.474Z"
   },
   {
    "duration": 33,
    "start_time": "2021-08-08T14:16:37.814Z"
   },
   {
    "duration": 9,
    "start_time": "2021-08-08T14:16:37.848Z"
   },
   {
    "duration": 149,
    "start_time": "2021-08-08T14:16:37.859Z"
   },
   {
    "duration": 473,
    "start_time": "2021-08-08T14:16:38.010Z"
   },
   {
    "duration": 370,
    "start_time": "2021-08-08T14:16:38.484Z"
   },
   {
    "duration": 36,
    "start_time": "2021-08-08T14:16:38.856Z"
   },
   {
    "duration": 27,
    "start_time": "2021-08-08T14:16:38.894Z"
   },
   {
    "duration": 5,
    "start_time": "2021-08-08T14:16:38.923Z"
   },
   {
    "duration": 35,
    "start_time": "2021-08-08T14:16:38.929Z"
   },
   {
    "duration": 7,
    "start_time": "2021-08-08T14:16:38.966Z"
   },
   {
    "duration": 9,
    "start_time": "2021-08-08T14:16:38.991Z"
   },
   {
    "duration": 293,
    "start_time": "2021-08-08T14:16:39.001Z"
   },
   {
    "duration": 171,
    "start_time": "2021-08-08T14:16:39.299Z"
   },
   {
    "duration": 25,
    "start_time": "2021-08-08T14:16:39.472Z"
   },
   {
    "duration": 12,
    "start_time": "2021-08-08T14:16:39.498Z"
   },
   {
    "duration": 89,
    "start_time": "2021-08-08T14:16:39.512Z"
   },
   {
    "duration": 28,
    "start_time": "2021-08-08T14:16:39.602Z"
   },
   {
    "duration": 6,
    "start_time": "2021-08-08T14:16:39.632Z"
   },
   {
    "duration": 8,
    "start_time": "2021-08-08T14:16:39.640Z"
   },
   {
    "duration": 6,
    "start_time": "2021-08-08T14:16:39.650Z"
   },
   {
    "duration": 175,
    "start_time": "2021-08-08T14:16:39.657Z"
   },
   {
    "duration": 6,
    "start_time": "2021-08-08T14:16:39.834Z"
   },
   {
    "duration": 166,
    "start_time": "2021-08-08T14:16:39.841Z"
   },
   {
    "duration": 247,
    "start_time": "2021-08-08T14:16:40.009Z"
   },
   {
    "duration": 717,
    "start_time": "2021-08-08T14:16:40.258Z"
   },
   {
    "duration": 501,
    "start_time": "2021-08-08T14:16:40.977Z"
   },
   {
    "duration": 20,
    "start_time": "2021-08-08T14:16:41.480Z"
   },
   {
    "duration": 265,
    "start_time": "2021-08-08T14:16:41.502Z"
   },
   {
    "duration": 8,
    "start_time": "2021-08-08T14:16:41.769Z"
   },
   {
    "duration": 12,
    "start_time": "2021-08-08T14:16:41.779Z"
   },
   {
    "duration": 15,
    "start_time": "2021-08-08T14:16:41.793Z"
   },
   {
    "duration": 617,
    "start_time": "2021-08-08T14:16:41.809Z"
   },
   {
    "duration": 9,
    "start_time": "2021-08-08T14:16:42.428Z"
   },
   {
    "duration": 27,
    "start_time": "2021-08-08T14:16:42.438Z"
   },
   {
    "duration": 366,
    "start_time": "2021-08-08T14:16:42.466Z"
   },
   {
    "duration": 5,
    "start_time": "2021-08-08T14:16:42.834Z"
   },
   {
    "duration": 10,
    "start_time": "2021-08-08T14:16:42.840Z"
   },
   {
    "duration": 7,
    "start_time": "2021-08-08T14:16:42.851Z"
   },
   {
    "duration": 5,
    "start_time": "2021-08-08T14:16:42.859Z"
   },
   {
    "duration": 378,
    "start_time": "2021-08-08T14:16:42.865Z"
   },
   {
    "duration": 315,
    "start_time": "2021-08-08T14:16:43.244Z"
   },
   {
    "duration": 28,
    "start_time": "2021-08-08T14:28:27.028Z"
   },
   {
    "duration": 29,
    "start_time": "2021-08-08T14:28:30.890Z"
   },
   {
    "duration": 19,
    "start_time": "2021-08-08T14:30:19.464Z"
   },
   {
    "duration": 16,
    "start_time": "2021-08-08T14:31:24.282Z"
   },
   {
    "duration": 20,
    "start_time": "2021-08-08T14:31:26.871Z"
   },
   {
    "duration": 17,
    "start_time": "2021-08-08T14:32:17.037Z"
   },
   {
    "duration": 17,
    "start_time": "2021-08-08T14:33:10.643Z"
   },
   {
    "duration": 24,
    "start_time": "2021-08-08T14:35:53.816Z"
   },
   {
    "duration": 28,
    "start_time": "2021-08-08T14:35:57.319Z"
   },
   {
    "duration": 38,
    "start_time": "2021-08-08T14:36:03.155Z"
   },
   {
    "duration": 356,
    "start_time": "2021-08-08T14:38:04.621Z"
   },
   {
    "duration": 59,
    "start_time": "2021-08-08T14:38:37.362Z"
   },
   {
    "duration": 1362,
    "start_time": "2021-08-08T14:40:52.214Z"
   },
   {
    "duration": 3,
    "start_time": "2021-08-08T14:40:53.578Z"
   },
   {
    "duration": 611,
    "start_time": "2021-08-08T14:40:53.584Z"
   },
   {
    "duration": 11,
    "start_time": "2021-08-08T14:40:54.197Z"
   },
   {
    "duration": 54,
    "start_time": "2021-08-08T14:40:54.210Z"
   },
   {
    "duration": 275,
    "start_time": "2021-08-08T14:40:54.266Z"
   },
   {
    "duration": 3,
    "start_time": "2021-08-08T14:40:54.542Z"
   },
   {
    "duration": 6,
    "start_time": "2021-08-08T14:40:54.548Z"
   },
   {
    "duration": 167,
    "start_time": "2021-08-08T14:40:54.556Z"
   },
   {
    "duration": 25,
    "start_time": "2021-08-08T14:40:54.724Z"
   },
   {
    "duration": 7,
    "start_time": "2021-08-08T14:40:54.751Z"
   },
   {
    "duration": 35,
    "start_time": "2021-08-08T14:40:54.759Z"
   },
   {
    "duration": 6,
    "start_time": "2021-08-08T14:40:54.796Z"
   },
   {
    "duration": 11,
    "start_time": "2021-08-08T14:40:54.803Z"
   },
   {
    "duration": 17,
    "start_time": "2021-08-08T14:40:54.815Z"
   },
   {
    "duration": 4,
    "start_time": "2021-08-08T14:40:54.833Z"
   },
   {
    "duration": 6,
    "start_time": "2021-08-08T14:40:54.838Z"
   },
   {
    "duration": 10,
    "start_time": "2021-08-08T14:40:54.845Z"
   },
   {
    "duration": 35,
    "start_time": "2021-08-08T14:40:54.857Z"
   },
   {
    "duration": 6,
    "start_time": "2021-08-08T14:40:54.895Z"
   },
   {
    "duration": 7,
    "start_time": "2021-08-08T14:40:54.903Z"
   },
   {
    "duration": 10,
    "start_time": "2021-08-08T14:40:54.911Z"
   },
   {
    "duration": 9,
    "start_time": "2021-08-08T14:40:54.925Z"
   },
   {
    "duration": 8,
    "start_time": "2021-08-08T14:40:54.936Z"
   },
   {
    "duration": 15,
    "start_time": "2021-08-08T14:40:54.946Z"
   },
   {
    "duration": 13,
    "start_time": "2021-08-08T14:40:54.962Z"
   },
   {
    "duration": 292,
    "start_time": "2021-08-08T14:40:54.976Z"
   },
   {
    "duration": 12,
    "start_time": "2021-08-08T14:40:55.270Z"
   },
   {
    "duration": 136,
    "start_time": "2021-08-08T14:40:55.291Z"
   },
   {
    "duration": 85,
    "start_time": "2021-08-08T14:40:55.429Z"
   },
   {
    "duration": 79,
    "start_time": "2021-08-08T14:40:55.516Z"
   },
   {
    "duration": 3,
    "start_time": "2021-08-08T14:40:55.596Z"
   },
   {
    "duration": 257,
    "start_time": "2021-08-08T14:40:55.600Z"
   },
   {
    "duration": 234,
    "start_time": "2021-08-08T14:40:55.858Z"
   },
   {
    "duration": 320,
    "start_time": "2021-08-08T14:40:56.094Z"
   },
   {
    "duration": 199,
    "start_time": "2021-08-08T14:40:56.415Z"
   },
   {
    "duration": 28,
    "start_time": "2021-08-08T14:40:56.615Z"
   },
   {
    "duration": 8,
    "start_time": "2021-08-08T14:40:56.645Z"
   },
   {
    "duration": 14,
    "start_time": "2021-08-08T14:40:56.655Z"
   },
   {
    "duration": 35,
    "start_time": "2021-08-08T14:40:56.671Z"
   },
   {
    "duration": 29,
    "start_time": "2021-08-08T14:40:56.708Z"
   },
   {
    "duration": 19,
    "start_time": "2021-08-08T14:40:56.739Z"
   },
   {
    "duration": 9,
    "start_time": "2021-08-08T14:40:56.759Z"
   },
   {
    "duration": 184,
    "start_time": "2021-08-08T14:40:56.791Z"
   },
   {
    "duration": 14,
    "start_time": "2021-08-08T14:40:56.977Z"
   },
   {
    "duration": 185,
    "start_time": "2021-08-08T14:40:56.992Z"
   },
   {
    "duration": 48,
    "start_time": "2021-08-08T14:40:57.179Z"
   },
   {
    "duration": 115,
    "start_time": "2021-08-08T14:40:57.229Z"
   },
   {
    "duration": 8,
    "start_time": "2021-08-08T14:40:57.346Z"
   },
   {
    "duration": 18,
    "start_time": "2021-08-08T14:40:57.355Z"
   },
   {
    "duration": 19,
    "start_time": "2021-08-08T14:40:57.375Z"
   },
   {
    "duration": 34,
    "start_time": "2021-08-08T14:40:57.395Z"
   },
   {
    "duration": 738,
    "start_time": "2021-08-08T14:40:57.431Z"
   },
   {
    "duration": 31,
    "start_time": "2021-08-08T14:40:58.171Z"
   },
   {
    "duration": 321,
    "start_time": "2021-08-08T14:40:58.204Z"
   },
   {
    "duration": 33,
    "start_time": "2021-08-08T14:40:58.526Z"
   },
   {
    "duration": 9,
    "start_time": "2021-08-08T14:40:58.561Z"
   },
   {
    "duration": 152,
    "start_time": "2021-08-08T14:40:58.572Z"
   },
   {
    "duration": 489,
    "start_time": "2021-08-08T14:40:58.725Z"
   },
   {
    "duration": 375,
    "start_time": "2021-08-08T14:40:59.216Z"
   },
   {
    "duration": 28,
    "start_time": "2021-08-08T14:40:59.593Z"
   },
   {
    "duration": 34,
    "start_time": "2021-08-08T14:40:59.622Z"
   },
   {
    "duration": 4,
    "start_time": "2021-08-08T14:40:59.657Z"
   },
   {
    "duration": 55,
    "start_time": "2021-08-08T14:40:59.663Z"
   },
   {
    "duration": 7,
    "start_time": "2021-08-08T14:40:59.719Z"
   },
   {
    "duration": 9,
    "start_time": "2021-08-08T14:40:59.728Z"
   },
   {
    "duration": 325,
    "start_time": "2021-08-08T14:40:59.739Z"
   },
   {
    "duration": 178,
    "start_time": "2021-08-08T14:41:00.069Z"
   },
   {
    "duration": 19,
    "start_time": "2021-08-08T14:41:00.249Z"
   },
   {
    "duration": 26,
    "start_time": "2021-08-08T14:41:00.269Z"
   },
   {
    "duration": 59,
    "start_time": "2021-08-08T14:41:00.297Z"
   },
   {
    "duration": 50,
    "start_time": "2021-08-08T14:41:00.358Z"
   },
   {
    "duration": 6,
    "start_time": "2021-08-08T14:41:00.409Z"
   },
   {
    "duration": 40,
    "start_time": "2021-08-08T14:41:00.417Z"
   },
   {
    "duration": 13,
    "start_time": "2021-08-08T14:41:00.459Z"
   },
   {
    "duration": 160,
    "start_time": "2021-08-08T14:41:00.473Z"
   },
   {
    "duration": 4,
    "start_time": "2021-08-08T14:41:00.635Z"
   },
   {
    "duration": 170,
    "start_time": "2021-08-08T14:41:00.641Z"
   },
   {
    "duration": 284,
    "start_time": "2021-08-08T14:41:00.813Z"
   },
   {
    "duration": 755,
    "start_time": "2021-08-08T14:41:01.099Z"
   },
   {
    "duration": 510,
    "start_time": "2021-08-08T14:41:01.855Z"
   },
   {
    "duration": 14,
    "start_time": "2021-08-08T14:41:02.366Z"
   },
   {
    "duration": 275,
    "start_time": "2021-08-08T14:41:02.391Z"
   },
   {
    "duration": 11,
    "start_time": "2021-08-08T14:41:02.667Z"
   },
   {
    "duration": 13,
    "start_time": "2021-08-08T14:41:02.679Z"
   },
   {
    "duration": 20,
    "start_time": "2021-08-08T14:41:02.694Z"
   },
   {
    "duration": 728,
    "start_time": "2021-08-08T14:41:02.715Z"
   },
   {
    "duration": 12,
    "start_time": "2021-08-08T14:41:03.445Z"
   },
   {
    "duration": 51,
    "start_time": "2021-08-08T14:41:03.458Z"
   },
   {
    "duration": 355,
    "start_time": "2021-08-08T14:41:03.511Z"
   },
   {
    "duration": 5,
    "start_time": "2021-08-08T14:41:03.867Z"
   },
   {
    "duration": 19,
    "start_time": "2021-08-08T14:41:03.874Z"
   },
   {
    "duration": 6,
    "start_time": "2021-08-08T14:41:03.894Z"
   },
   {
    "duration": 5,
    "start_time": "2021-08-08T14:41:03.902Z"
   },
   {
    "duration": 450,
    "start_time": "2021-08-08T14:41:03.909Z"
   },
   {
    "duration": 393,
    "start_time": "2021-08-08T14:41:04.362Z"
   },
   {
    "duration": 2292,
    "start_time": "2021-08-09T05:45:05.371Z"
   },
   {
    "duration": 5,
    "start_time": "2021-08-09T05:45:07.666Z"
   },
   {
    "duration": 814,
    "start_time": "2021-08-09T05:45:07.675Z"
   },
   {
    "duration": 20,
    "start_time": "2021-08-09T05:45:08.492Z"
   },
   {
    "duration": 66,
    "start_time": "2021-08-09T05:45:08.515Z"
   },
   {
    "duration": 408,
    "start_time": "2021-08-09T05:45:08.584Z"
   },
   {
    "duration": 6,
    "start_time": "2021-08-09T05:45:08.995Z"
   },
   {
    "duration": 4,
    "start_time": "2021-08-09T05:45:09.006Z"
   },
   {
    "duration": 447,
    "start_time": "2021-08-09T05:45:09.015Z"
   },
   {
    "duration": 52,
    "start_time": "2021-08-09T05:45:09.466Z"
   },
   {
    "duration": 40,
    "start_time": "2021-08-09T05:45:09.521Z"
   },
   {
    "duration": 19,
    "start_time": "2021-08-09T05:45:09.564Z"
   },
   {
    "duration": 10,
    "start_time": "2021-08-09T05:45:09.585Z"
   },
   {
    "duration": 17,
    "start_time": "2021-08-09T05:45:09.598Z"
   },
   {
    "duration": 64,
    "start_time": "2021-08-09T05:45:09.617Z"
   },
   {
    "duration": 5,
    "start_time": "2021-08-09T05:45:09.683Z"
   },
   {
    "duration": 6,
    "start_time": "2021-08-09T05:45:09.691Z"
   },
   {
    "duration": 11,
    "start_time": "2021-08-09T05:45:09.699Z"
   },
   {
    "duration": 59,
    "start_time": "2021-08-09T05:45:09.713Z"
   },
   {
    "duration": 10,
    "start_time": "2021-08-09T05:45:09.774Z"
   },
   {
    "duration": 11,
    "start_time": "2021-08-09T05:45:09.786Z"
   },
   {
    "duration": 10,
    "start_time": "2021-08-09T05:45:09.800Z"
   },
   {
    "duration": 47,
    "start_time": "2021-08-09T05:45:09.816Z"
   },
   {
    "duration": 6,
    "start_time": "2021-08-09T05:45:09.867Z"
   },
   {
    "duration": 10,
    "start_time": "2021-08-09T05:45:09.876Z"
   },
   {
    "duration": 17,
    "start_time": "2021-08-09T05:45:09.889Z"
   },
   {
    "duration": 476,
    "start_time": "2021-08-09T05:45:09.909Z"
   },
   {
    "duration": 19,
    "start_time": "2021-08-09T05:45:10.388Z"
   },
   {
    "duration": 266,
    "start_time": "2021-08-09T05:45:10.410Z"
   },
   {
    "duration": 166,
    "start_time": "2021-08-09T05:45:10.679Z"
   },
   {
    "duration": 142,
    "start_time": "2021-08-09T05:45:10.848Z"
   },
   {
    "duration": 6,
    "start_time": "2021-08-09T05:45:10.994Z"
   },
   {
    "duration": 486,
    "start_time": "2021-08-09T05:45:11.003Z"
   },
   {
    "duration": 625,
    "start_time": "2021-08-09T05:45:11.492Z"
   },
   {
    "duration": 599,
    "start_time": "2021-08-09T05:45:12.120Z"
   },
   {
    "duration": 373,
    "start_time": "2021-08-09T05:45:12.721Z"
   },
   {
    "duration": 42,
    "start_time": "2021-08-09T05:45:13.097Z"
   },
   {
    "duration": 27,
    "start_time": "2021-08-09T05:45:13.141Z"
   },
   {
    "duration": 16,
    "start_time": "2021-08-09T05:45:13.170Z"
   },
   {
    "duration": 31,
    "start_time": "2021-08-09T05:45:13.189Z"
   },
   {
    "duration": 70,
    "start_time": "2021-08-09T05:45:13.223Z"
   },
   {
    "duration": 27,
    "start_time": "2021-08-09T05:45:13.295Z"
   },
   {
    "duration": 42,
    "start_time": "2021-08-09T05:45:13.325Z"
   },
   {
    "duration": 366,
    "start_time": "2021-08-09T05:45:13.369Z"
   },
   {
    "duration": 27,
    "start_time": "2021-08-09T05:45:13.738Z"
   },
   {
    "duration": 298,
    "start_time": "2021-08-09T05:45:13.767Z"
   },
   {
    "duration": 59,
    "start_time": "2021-08-09T05:45:14.067Z"
   },
   {
    "duration": 177,
    "start_time": "2021-08-09T05:45:14.128Z"
   },
   {
    "duration": 16,
    "start_time": "2021-08-09T05:45:14.307Z"
   },
   {
    "duration": 13,
    "start_time": "2021-08-09T05:45:14.326Z"
   },
   {
    "duration": 23,
    "start_time": "2021-08-09T05:45:14.363Z"
   },
   {
    "duration": 80,
    "start_time": "2021-08-09T05:45:14.389Z"
   },
   {
    "duration": 1201,
    "start_time": "2021-08-09T05:45:14.472Z"
   },
   {
    "duration": 40,
    "start_time": "2021-08-09T05:45:15.676Z"
   },
   {
    "duration": 483,
    "start_time": "2021-08-09T05:45:15.719Z"
   },
   {
    "duration": 57,
    "start_time": "2021-08-09T05:45:16.205Z"
   },
   {
    "duration": 18,
    "start_time": "2021-08-09T05:45:16.264Z"
   },
   {
    "duration": 202,
    "start_time": "2021-08-09T05:45:16.285Z"
   },
   {
    "duration": 722,
    "start_time": "2021-08-09T05:45:16.490Z"
   },
   {
    "duration": 667,
    "start_time": "2021-08-09T05:45:17.215Z"
   },
   {
    "duration": 47,
    "start_time": "2021-08-09T05:45:17.886Z"
   },
   {
    "duration": 72,
    "start_time": "2021-08-09T05:45:17.936Z"
   },
   {
    "duration": 7,
    "start_time": "2021-08-09T05:45:18.011Z"
   },
   {
    "duration": 83,
    "start_time": "2021-08-09T05:45:18.021Z"
   },
   {
    "duration": 12,
    "start_time": "2021-08-09T05:45:18.107Z"
   },
   {
    "duration": 47,
    "start_time": "2021-08-09T05:45:18.122Z"
   },
   {
    "duration": 582,
    "start_time": "2021-08-09T05:45:18.172Z"
   },
   {
    "duration": 330,
    "start_time": "2021-08-09T05:45:18.765Z"
   },
   {
    "duration": 28,
    "start_time": "2021-08-09T05:45:19.099Z"
   },
   {
    "duration": 45,
    "start_time": "2021-08-09T05:45:19.129Z"
   },
   {
    "duration": 132,
    "start_time": "2021-08-09T05:45:19.176Z"
   },
   {
    "duration": 71,
    "start_time": "2021-08-09T05:45:19.310Z"
   },
   {
    "duration": 22,
    "start_time": "2021-08-09T05:45:19.383Z"
   },
   {
    "duration": 8,
    "start_time": "2021-08-09T05:45:19.407Z"
   },
   {
    "duration": 8,
    "start_time": "2021-08-09T05:45:19.418Z"
   },
   {
    "duration": 322,
    "start_time": "2021-08-09T05:45:19.428Z"
   },
   {
    "duration": 12,
    "start_time": "2021-08-09T05:45:19.753Z"
   },
   {
    "duration": 306,
    "start_time": "2021-08-09T05:45:19.767Z"
   },
   {
    "duration": 467,
    "start_time": "2021-08-09T05:45:20.075Z"
   },
   {
    "duration": 877,
    "start_time": "2021-08-09T05:45:20.544Z"
   },
   {
    "duration": 603,
    "start_time": "2021-08-09T05:45:21.424Z"
   },
   {
    "duration": 35,
    "start_time": "2021-08-09T05:45:22.029Z"
   },
   {
    "duration": 490,
    "start_time": "2021-08-09T05:45:22.066Z"
   },
   {
    "duration": 12,
    "start_time": "2021-08-09T05:45:22.558Z"
   },
   {
    "duration": 8,
    "start_time": "2021-08-09T05:45:22.572Z"
   },
   {
    "duration": 22,
    "start_time": "2021-08-09T05:45:22.583Z"
   },
   {
    "duration": 1078,
    "start_time": "2021-08-09T05:45:22.608Z"
   },
   {
    "duration": 12,
    "start_time": "2021-08-09T05:45:23.689Z"
   },
   {
    "duration": 106,
    "start_time": "2021-08-09T05:45:23.704Z"
   },
   {
    "duration": 590,
    "start_time": "2021-08-09T05:45:23.813Z"
   },
   {
    "duration": 10,
    "start_time": "2021-08-09T05:45:24.406Z"
   },
   {
    "duration": 43,
    "start_time": "2021-08-09T05:45:24.419Z"
   },
   {
    "duration": 8,
    "start_time": "2021-08-09T05:45:24.465Z"
   },
   {
    "duration": 6,
    "start_time": "2021-08-09T05:45:24.475Z"
   },
   {
    "duration": 498,
    "start_time": "2021-08-09T05:45:24.484Z"
   },
   {
    "duration": 608,
    "start_time": "2021-08-09T05:45:24.984Z"
   },
   {
    "duration": 2443,
    "start_time": "2021-08-09T05:53:36.139Z"
   },
   {
    "duration": 4,
    "start_time": "2021-08-09T05:53:38.585Z"
   },
   {
    "duration": 807,
    "start_time": "2021-08-09T05:53:38.592Z"
   },
   {
    "duration": 17,
    "start_time": "2021-08-09T05:53:39.402Z"
   },
   {
    "duration": 66,
    "start_time": "2021-08-09T05:53:39.422Z"
   },
   {
    "duration": 376,
    "start_time": "2021-08-09T05:53:39.490Z"
   },
   {
    "duration": 6,
    "start_time": "2021-08-09T05:53:39.868Z"
   },
   {
    "duration": 7,
    "start_time": "2021-08-09T05:53:39.878Z"
   },
   {
    "duration": 259,
    "start_time": "2021-08-09T05:53:39.889Z"
   },
   {
    "duration": 40,
    "start_time": "2021-08-09T05:53:40.150Z"
   },
   {
    "duration": 11,
    "start_time": "2021-08-09T05:53:40.193Z"
   },
   {
    "duration": 38,
    "start_time": "2021-08-09T05:53:40.207Z"
   },
   {
    "duration": 19,
    "start_time": "2021-08-09T05:53:40.248Z"
   },
   {
    "duration": 24,
    "start_time": "2021-08-09T05:53:40.270Z"
   },
   {
    "duration": 27,
    "start_time": "2021-08-09T05:53:40.296Z"
   },
   {
    "duration": 4,
    "start_time": "2021-08-09T05:53:40.326Z"
   },
   {
    "duration": 30,
    "start_time": "2021-08-09T05:53:40.333Z"
   },
   {
    "duration": 22,
    "start_time": "2021-08-09T05:53:40.366Z"
   },
   {
    "duration": 29,
    "start_time": "2021-08-09T05:53:40.390Z"
   },
   {
    "duration": 8,
    "start_time": "2021-08-09T05:53:40.421Z"
   },
   {
    "duration": 34,
    "start_time": "2021-08-09T05:53:40.432Z"
   },
   {
    "duration": 16,
    "start_time": "2021-08-09T05:53:40.469Z"
   },
   {
    "duration": 7,
    "start_time": "2021-08-09T05:53:40.492Z"
   },
   {
    "duration": 7,
    "start_time": "2021-08-09T05:53:40.505Z"
   },
   {
    "duration": 55,
    "start_time": "2021-08-09T05:53:40.516Z"
   },
   {
    "duration": 21,
    "start_time": "2021-08-09T05:53:40.574Z"
   },
   {
    "duration": 456,
    "start_time": "2021-08-09T05:53:40.598Z"
   },
   {
    "duration": 23,
    "start_time": "2021-08-09T05:53:41.056Z"
   },
   {
    "duration": 195,
    "start_time": "2021-08-09T05:53:41.082Z"
   },
   {
    "duration": 129,
    "start_time": "2021-08-09T05:53:41.280Z"
   },
   {
    "duration": 115,
    "start_time": "2021-08-09T05:53:41.412Z"
   },
   {
    "duration": 4,
    "start_time": "2021-08-09T05:53:41.529Z"
   },
   {
    "duration": 485,
    "start_time": "2021-08-09T05:53:41.537Z"
   },
   {
    "duration": 620,
    "start_time": "2021-08-09T05:53:42.025Z"
   },
   {
    "duration": 871,
    "start_time": "2021-08-09T05:53:42.648Z"
   },
   {
    "duration": 502,
    "start_time": "2021-08-09T05:53:43.522Z"
   },
   {
    "duration": 89,
    "start_time": "2021-08-09T05:53:44.027Z"
   },
   {
    "duration": 10,
    "start_time": "2021-08-09T05:53:44.119Z"
   },
   {
    "duration": 41,
    "start_time": "2021-08-09T05:53:44.133Z"
   },
   {
    "duration": 34,
    "start_time": "2021-08-09T05:53:44.178Z"
   },
   {
    "duration": 69,
    "start_time": "2021-08-09T05:53:44.214Z"
   },
   {
    "duration": 25,
    "start_time": "2021-08-09T05:53:44.286Z"
   },
   {
    "duration": 14,
    "start_time": "2021-08-09T05:53:44.313Z"
   },
   {
    "duration": 352,
    "start_time": "2021-08-09T05:53:44.329Z"
   },
   {
    "duration": 13,
    "start_time": "2021-08-09T05:53:44.684Z"
   },
   {
    "duration": 323,
    "start_time": "2021-08-09T05:53:44.699Z"
   },
   {
    "duration": 65,
    "start_time": "2021-08-09T05:53:45.024Z"
   },
   {
    "duration": 208,
    "start_time": "2021-08-09T05:53:45.092Z"
   },
   {
    "duration": 23,
    "start_time": "2021-08-09T05:53:45.304Z"
   },
   {
    "duration": 32,
    "start_time": "2021-08-09T05:53:45.330Z"
   },
   {
    "duration": 28,
    "start_time": "2021-08-09T05:53:45.366Z"
   },
   {
    "duration": 99,
    "start_time": "2021-08-09T05:53:45.397Z"
   },
   {
    "duration": 1707,
    "start_time": "2021-08-09T05:53:45.499Z"
   },
   {
    "duration": 65,
    "start_time": "2021-08-09T05:53:47.209Z"
   },
   {
    "duration": 635,
    "start_time": "2021-08-09T05:53:47.277Z"
   },
   {
    "duration": 58,
    "start_time": "2021-08-09T05:53:47.916Z"
   },
   {
    "duration": 22,
    "start_time": "2021-08-09T05:53:47.977Z"
   },
   {
    "duration": 241,
    "start_time": "2021-08-09T05:53:48.002Z"
   },
   {
    "duration": 723,
    "start_time": "2021-08-09T05:53:48.246Z"
   },
   {
    "duration": 642,
    "start_time": "2021-08-09T05:53:48.971Z"
   },
   {
    "duration": 56,
    "start_time": "2021-08-09T05:53:49.616Z"
   },
   {
    "duration": 49,
    "start_time": "2021-08-09T05:53:49.674Z"
   },
   {
    "duration": 37,
    "start_time": "2021-08-09T05:53:49.725Z"
   },
   {
    "duration": 51,
    "start_time": "2021-08-09T05:53:49.765Z"
   },
   {
    "duration": 14,
    "start_time": "2021-08-09T05:53:49.819Z"
   },
   {
    "duration": 16,
    "start_time": "2021-08-09T05:53:49.863Z"
   },
   {
    "duration": 562,
    "start_time": "2021-08-09T05:53:49.882Z"
   },
   {
    "duration": 315,
    "start_time": "2021-08-09T05:53:50.452Z"
   },
   {
    "duration": 33,
    "start_time": "2021-08-09T05:53:50.770Z"
   },
   {
    "duration": 21,
    "start_time": "2021-08-09T05:53:50.805Z"
   },
   {
    "duration": 161,
    "start_time": "2021-08-09T05:53:50.828Z"
   },
   {
    "duration": 71,
    "start_time": "2021-08-09T05:53:50.991Z"
   },
   {
    "duration": 13,
    "start_time": "2021-08-09T05:53:51.066Z"
   },
   {
    "duration": 33,
    "start_time": "2021-08-09T05:53:51.082Z"
   },
   {
    "duration": 14,
    "start_time": "2021-08-09T05:53:51.118Z"
   },
   {
    "duration": 446,
    "start_time": "2021-08-09T05:53:51.135Z"
   },
   {
    "duration": 10,
    "start_time": "2021-08-09T05:53:51.584Z"
   },
   {
    "duration": 448,
    "start_time": "2021-08-09T05:53:51.597Z"
   },
   {
    "duration": 882,
    "start_time": "2021-08-09T05:53:52.048Z"
   },
   {
    "duration": 898,
    "start_time": "2021-08-09T05:53:52.933Z"
   },
   {
    "duration": 628,
    "start_time": "2021-08-09T05:53:53.834Z"
   },
   {
    "duration": 23,
    "start_time": "2021-08-09T05:53:54.464Z"
   },
   {
    "duration": 500,
    "start_time": "2021-08-09T05:53:54.489Z"
   },
   {
    "duration": 12,
    "start_time": "2021-08-09T05:53:54.992Z"
   },
   {
    "duration": 18,
    "start_time": "2021-08-09T05:53:55.006Z"
   },
   {
    "duration": 36,
    "start_time": "2021-08-09T05:53:55.027Z"
   },
   {
    "duration": 1057,
    "start_time": "2021-08-09T05:53:55.065Z"
   },
   {
    "duration": 13,
    "start_time": "2021-08-09T05:53:56.124Z"
   },
   {
    "duration": 65,
    "start_time": "2021-08-09T05:53:56.140Z"
   },
   {
    "duration": 477,
    "start_time": "2021-08-09T05:53:56.208Z"
   },
   {
    "duration": 7,
    "start_time": "2021-08-09T05:53:56.687Z"
   },
   {
    "duration": 15,
    "start_time": "2021-08-09T05:53:56.696Z"
   },
   {
    "duration": 7,
    "start_time": "2021-08-09T05:53:56.715Z"
   },
   {
    "duration": 9,
    "start_time": "2021-08-09T05:53:56.763Z"
   },
   {
    "duration": 495,
    "start_time": "2021-08-09T05:53:56.774Z"
   },
   {
    "duration": 644,
    "start_time": "2021-08-09T05:53:57.272Z"
   },
   {
    "duration": 1851,
    "start_time": "2021-08-15T15:08:56.596Z"
   },
   {
    "duration": 4,
    "start_time": "2021-08-15T15:08:58.449Z"
   },
   {
    "duration": 772,
    "start_time": "2021-08-15T15:08:58.456Z"
   },
   {
    "duration": 17,
    "start_time": "2021-08-15T15:08:59.231Z"
   },
   {
    "duration": 66,
    "start_time": "2021-08-15T15:08:59.250Z"
   },
   {
    "duration": 370,
    "start_time": "2021-08-15T15:08:59.319Z"
   },
   {
    "duration": 6,
    "start_time": "2021-08-15T15:08:59.692Z"
   },
   {
    "duration": 20,
    "start_time": "2021-08-15T15:08:59.701Z"
   },
   {
    "duration": 247,
    "start_time": "2021-08-15T15:08:59.724Z"
   },
   {
    "duration": 36,
    "start_time": "2021-08-15T15:08:59.973Z"
   },
   {
    "duration": 14,
    "start_time": "2021-08-15T15:09:00.011Z"
   },
   {
    "duration": 41,
    "start_time": "2021-08-15T15:09:00.028Z"
   },
   {
    "duration": 19,
    "start_time": "2021-08-15T15:09:00.072Z"
   },
   {
    "duration": 34,
    "start_time": "2021-08-15T15:09:00.093Z"
   },
   {
    "duration": 37,
    "start_time": "2021-08-15T15:09:00.130Z"
   },
   {
    "duration": 5,
    "start_time": "2021-08-15T15:09:00.170Z"
   },
   {
    "duration": 25,
    "start_time": "2021-08-15T15:09:00.178Z"
   },
   {
    "duration": 30,
    "start_time": "2021-08-15T15:09:00.205Z"
   },
   {
    "duration": 41,
    "start_time": "2021-08-15T15:09:00.238Z"
   },
   {
    "duration": 35,
    "start_time": "2021-08-15T15:09:00.282Z"
   },
   {
    "duration": 18,
    "start_time": "2021-08-15T15:09:00.319Z"
   },
   {
    "duration": 41,
    "start_time": "2021-08-15T15:09:00.340Z"
   },
   {
    "duration": 16,
    "start_time": "2021-08-15T15:09:00.387Z"
   },
   {
    "duration": 30,
    "start_time": "2021-08-15T15:09:00.407Z"
   },
   {
    "duration": 34,
    "start_time": "2021-08-15T15:09:00.440Z"
   },
   {
    "duration": 37,
    "start_time": "2021-08-15T15:09:00.476Z"
   },
   {
    "duration": 444,
    "start_time": "2021-08-15T15:09:00.515Z"
   },
   {
    "duration": 20,
    "start_time": "2021-08-15T15:09:00.962Z"
   },
   {
    "duration": 199,
    "start_time": "2021-08-15T15:09:00.985Z"
   },
   {
    "duration": 122,
    "start_time": "2021-08-15T15:09:01.186Z"
   },
   {
    "duration": 106,
    "start_time": "2021-08-15T15:09:01.310Z"
   },
   {
    "duration": 4,
    "start_time": "2021-08-15T15:09:01.418Z"
   },
   {
    "duration": 343,
    "start_time": "2021-08-15T15:09:01.424Z"
   },
   {
    "duration": 409,
    "start_time": "2021-08-15T15:09:01.770Z"
   },
   {
    "duration": 545,
    "start_time": "2021-08-15T15:09:02.181Z"
   },
   {
    "duration": 356,
    "start_time": "2021-08-15T15:09:02.729Z"
   },
   {
    "duration": 43,
    "start_time": "2021-08-15T15:09:03.088Z"
   },
   {
    "duration": 24,
    "start_time": "2021-08-15T15:09:03.133Z"
   },
   {
    "duration": 35,
    "start_time": "2021-08-15T15:09:03.160Z"
   },
   {
    "duration": 35,
    "start_time": "2021-08-15T15:09:03.197Z"
   },
   {
    "duration": 45,
    "start_time": "2021-08-15T15:09:03.234Z"
   },
   {
    "duration": 28,
    "start_time": "2021-08-15T15:09:03.282Z"
   },
   {
    "duration": 18,
    "start_time": "2021-08-15T15:09:03.312Z"
   },
   {
    "duration": 348,
    "start_time": "2021-08-15T15:09:03.332Z"
   },
   {
    "duration": 13,
    "start_time": "2021-08-15T15:09:03.683Z"
   },
   {
    "duration": 305,
    "start_time": "2021-08-15T15:09:03.698Z"
   },
   {
    "duration": 69,
    "start_time": "2021-08-15T15:09:04.005Z"
   },
   {
    "duration": 146,
    "start_time": "2021-08-15T15:09:04.077Z"
   },
   {
    "duration": 15,
    "start_time": "2021-08-15T15:09:04.226Z"
   },
   {
    "duration": 22,
    "start_time": "2021-08-15T15:09:04.255Z"
   },
   {
    "duration": 44,
    "start_time": "2021-08-15T15:09:04.279Z"
   },
   {
    "duration": 80,
    "start_time": "2021-08-15T15:09:04.325Z"
   },
   {
    "duration": 1190,
    "start_time": "2021-08-15T15:09:04.408Z"
   },
   {
    "duration": 5182,
    "start_time": "2021-08-15T15:09:05.601Z"
   },
   {
    "duration": 129,
    "start_time": "2021-08-15T15:09:10.660Z"
   },
   {
    "duration": 125,
    "start_time": "2021-08-15T15:09:10.666Z"
   },
   {
    "duration": 121,
    "start_time": "2021-08-15T15:09:10.672Z"
   },
   {
    "duration": 117,
    "start_time": "2021-08-15T15:09:10.679Z"
   },
   {
    "duration": 114,
    "start_time": "2021-08-15T15:09:10.684Z"
   },
   {
    "duration": 110,
    "start_time": "2021-08-15T15:09:10.690Z"
   },
   {
    "duration": 107,
    "start_time": "2021-08-15T15:09:10.695Z"
   },
   {
    "duration": 102,
    "start_time": "2021-08-15T15:09:10.702Z"
   },
   {
    "duration": 100,
    "start_time": "2021-08-15T15:09:10.707Z"
   },
   {
    "duration": 85,
    "start_time": "2021-08-15T15:09:10.724Z"
   },
   {
    "duration": 80,
    "start_time": "2021-08-15T15:09:10.731Z"
   },
   {
    "duration": 77,
    "start_time": "2021-08-15T15:09:10.737Z"
   },
   {
    "duration": 73,
    "start_time": "2021-08-15T15:09:10.743Z"
   },
   {
    "duration": 71,
    "start_time": "2021-08-15T15:09:10.747Z"
   },
   {
    "duration": 69,
    "start_time": "2021-08-15T15:09:10.751Z"
   },
   {
    "duration": 67,
    "start_time": "2021-08-15T15:09:10.755Z"
   },
   {
    "duration": 66,
    "start_time": "2021-08-15T15:09:10.759Z"
   },
   {
    "duration": 64,
    "start_time": "2021-08-15T15:09:10.762Z"
   },
   {
    "duration": 60,
    "start_time": "2021-08-15T15:09:10.767Z"
   },
   {
    "duration": 84,
    "start_time": "2021-08-15T15:09:10.771Z"
   },
   {
    "duration": 82,
    "start_time": "2021-08-15T15:09:10.775Z"
   },
   {
    "duration": 80,
    "start_time": "2021-08-15T15:09:10.779Z"
   },
   {
    "duration": -9,
    "start_time": "2021-08-15T15:09:10.871Z"
   },
   {
    "duration": -13,
    "start_time": "2021-08-15T15:09:10.877Z"
   },
   {
    "duration": -24,
    "start_time": "2021-08-15T15:09:10.890Z"
   },
   {
    "duration": -161,
    "start_time": "2021-08-15T15:09:11.030Z"
   },
   {
    "duration": -163,
    "start_time": "2021-08-15T15:09:11.034Z"
   },
   {
    "duration": -166,
    "start_time": "2021-08-15T15:09:11.039Z"
   },
   {
    "duration": -167,
    "start_time": "2021-08-15T15:09:11.042Z"
   },
   {
    "duration": -168,
    "start_time": "2021-08-15T15:09:11.046Z"
   },
   {
    "duration": -171,
    "start_time": "2021-08-15T15:09:11.051Z"
   },
   {
    "duration": -172,
    "start_time": "2021-08-15T15:09:11.054Z"
   },
   {
    "duration": -174,
    "start_time": "2021-08-15T15:09:11.058Z"
   },
   {
    "duration": -176,
    "start_time": "2021-08-15T15:09:11.062Z"
   },
   {
    "duration": -178,
    "start_time": "2021-08-15T15:09:11.066Z"
   },
   {
    "duration": -179,
    "start_time": "2021-08-15T15:09:11.070Z"
   },
   {
    "duration": -121,
    "start_time": "2021-08-15T15:09:11.074Z"
   },
   {
    "duration": -122,
    "start_time": "2021-08-15T15:09:11.078Z"
   },
   {
    "duration": -123,
    "start_time": "2021-08-15T15:09:11.081Z"
   },
   {
    "duration": -131,
    "start_time": "2021-08-15T15:09:11.091Z"
   },
   {
    "duration": -133,
    "start_time": "2021-08-15T15:09:11.095Z"
   },
   {
    "duration": -137,
    "start_time": "2021-08-15T15:09:11.101Z"
   },
   {
    "duration": -139,
    "start_time": "2021-08-15T15:09:11.105Z"
   },
   {
    "duration": 6,
    "start_time": "2021-08-15T15:09:43.700Z"
   },
   {
    "duration": 6,
    "start_time": "2021-08-15T15:09:51.378Z"
   },
   {
    "duration": 7,
    "start_time": "2021-08-15T15:10:03.707Z"
   },
   {
    "duration": 5,
    "start_time": "2021-08-15T15:11:33.336Z"
   },
   {
    "duration": 56,
    "start_time": "2021-08-15T15:14:41.099Z"
   },
   {
    "duration": 1077,
    "start_time": "2021-08-15T15:14:44.580Z"
   },
   {
    "duration": 286,
    "start_time": "2021-08-15T15:15:41.432Z"
   },
   {
    "duration": 277,
    "start_time": "2021-08-15T15:16:01.456Z"
   },
   {
    "duration": 1895,
    "start_time": "2021-08-15T15:16:14.258Z"
   },
   {
    "duration": 4,
    "start_time": "2021-08-15T15:16:16.156Z"
   },
   {
    "duration": 789,
    "start_time": "2021-08-15T15:16:16.163Z"
   },
   {
    "duration": 17,
    "start_time": "2021-08-15T15:16:16.955Z"
   },
   {
    "duration": 82,
    "start_time": "2021-08-15T15:16:16.974Z"
   },
   {
    "duration": 342,
    "start_time": "2021-08-15T15:16:17.058Z"
   },
   {
    "duration": 5,
    "start_time": "2021-08-15T15:16:17.402Z"
   },
   {
    "duration": 5,
    "start_time": "2021-08-15T15:16:17.411Z"
   },
   {
    "duration": 274,
    "start_time": "2021-08-15T15:16:17.419Z"
   },
   {
    "duration": 35,
    "start_time": "2021-08-15T15:16:17.695Z"
   },
   {
    "duration": 27,
    "start_time": "2021-08-15T15:16:17.733Z"
   },
   {
    "duration": 19,
    "start_time": "2021-08-15T15:16:17.762Z"
   },
   {
    "duration": 10,
    "start_time": "2021-08-15T15:16:17.784Z"
   },
   {
    "duration": 19,
    "start_time": "2021-08-15T15:16:17.796Z"
   },
   {
    "duration": 52,
    "start_time": "2021-08-15T15:16:17.818Z"
   },
   {
    "duration": 5,
    "start_time": "2021-08-15T15:16:17.872Z"
   },
   {
    "duration": 12,
    "start_time": "2021-08-15T15:16:17.879Z"
   },
   {
    "duration": 12,
    "start_time": "2021-08-15T15:16:17.894Z"
   },
   {
    "duration": 46,
    "start_time": "2021-08-15T15:16:17.908Z"
   },
   {
    "duration": 9,
    "start_time": "2021-08-15T15:16:17.957Z"
   },
   {
    "duration": 10,
    "start_time": "2021-08-15T15:16:17.968Z"
   },
   {
    "duration": 13,
    "start_time": "2021-08-15T15:16:17.980Z"
   },
   {
    "duration": 7,
    "start_time": "2021-08-15T15:16:17.999Z"
   },
   {
    "duration": 44,
    "start_time": "2021-08-15T15:16:18.010Z"
   },
   {
    "duration": 11,
    "start_time": "2021-08-15T15:16:18.057Z"
   },
   {
    "duration": 15,
    "start_time": "2021-08-15T15:16:18.071Z"
   },
   {
    "duration": 439,
    "start_time": "2021-08-15T15:16:18.088Z"
   },
   {
    "duration": 27,
    "start_time": "2021-08-15T15:16:18.529Z"
   },
   {
    "duration": 184,
    "start_time": "2021-08-15T15:16:18.559Z"
   },
   {
    "duration": 118,
    "start_time": "2021-08-15T15:16:18.753Z"
   },
   {
    "duration": 106,
    "start_time": "2021-08-15T15:16:18.874Z"
   },
   {
    "duration": 6,
    "start_time": "2021-08-15T15:16:18.983Z"
   },
   {
    "duration": 355,
    "start_time": "2021-08-15T15:16:18.992Z"
   },
   {
    "duration": 428,
    "start_time": "2021-08-15T15:16:19.349Z"
   },
   {
    "duration": 575,
    "start_time": "2021-08-15T15:16:19.779Z"
   },
   {
    "duration": 339,
    "start_time": "2021-08-15T15:16:20.356Z"
   },
   {
    "duration": 41,
    "start_time": "2021-08-15T15:16:20.698Z"
   },
   {
    "duration": 8,
    "start_time": "2021-08-15T15:16:20.755Z"
   },
   {
    "duration": 16,
    "start_time": "2021-08-15T15:16:20.765Z"
   },
   {
    "duration": 28,
    "start_time": "2021-08-15T15:16:20.784Z"
   },
   {
    "duration": 72,
    "start_time": "2021-08-15T15:16:20.814Z"
   },
   {
    "duration": 27,
    "start_time": "2021-08-15T15:16:20.889Z"
   },
   {
    "duration": 38,
    "start_time": "2021-08-15T15:16:20.919Z"
   },
   {
    "duration": 335,
    "start_time": "2021-08-15T15:16:20.959Z"
   },
   {
    "duration": 14,
    "start_time": "2021-08-15T15:16:21.296Z"
   },
   {
    "duration": 310,
    "start_time": "2021-08-15T15:16:21.312Z"
   },
   {
    "duration": 64,
    "start_time": "2021-08-15T15:16:21.625Z"
   },
   {
    "duration": 155,
    "start_time": "2021-08-15T15:16:21.692Z"
   },
   {
    "duration": 16,
    "start_time": "2021-08-15T15:16:21.850Z"
   },
   {
    "duration": 10,
    "start_time": "2021-08-15T15:16:21.868Z"
   },
   {
    "duration": 19,
    "start_time": "2021-08-15T15:16:21.880Z"
   },
   {
    "duration": 93,
    "start_time": "2021-08-15T15:16:21.901Z"
   },
   {
    "duration": 5656,
    "start_time": "2021-08-15T15:16:21.996Z"
   },
   {
    "duration": 106,
    "start_time": "2021-08-15T15:16:27.550Z"
   },
   {
    "duration": 103,
    "start_time": "2021-08-15T15:16:27.555Z"
   },
   {
    "duration": 100,
    "start_time": "2021-08-15T15:16:27.559Z"
   },
   {
    "duration": 98,
    "start_time": "2021-08-15T15:16:27.562Z"
   },
   {
    "duration": 96,
    "start_time": "2021-08-15T15:16:27.566Z"
   },
   {
    "duration": 93,
    "start_time": "2021-08-15T15:16:27.570Z"
   },
   {
    "duration": 89,
    "start_time": "2021-08-15T15:16:27.575Z"
   },
   {
    "duration": 88,
    "start_time": "2021-08-15T15:16:27.578Z"
   },
   {
    "duration": 85,
    "start_time": "2021-08-15T15:16:27.582Z"
   },
   {
    "duration": 82,
    "start_time": "2021-08-15T15:16:27.586Z"
   },
   {
    "duration": 81,
    "start_time": "2021-08-15T15:16:27.589Z"
   },
   {
    "duration": 78,
    "start_time": "2021-08-15T15:16:27.593Z"
   },
   {
    "duration": 75,
    "start_time": "2021-08-15T15:16:27.597Z"
   },
   {
    "duration": 73,
    "start_time": "2021-08-15T15:16:27.601Z"
   },
   {
    "duration": 70,
    "start_time": "2021-08-15T15:16:27.605Z"
   },
   {
    "duration": 62,
    "start_time": "2021-08-15T15:16:27.615Z"
   },
   {
    "duration": 59,
    "start_time": "2021-08-15T15:16:27.619Z"
   },
   {
    "duration": 57,
    "start_time": "2021-08-15T15:16:27.623Z"
   },
   {
    "duration": 54,
    "start_time": "2021-08-15T15:16:27.627Z"
   },
   {
    "duration": 51,
    "start_time": "2021-08-15T15:16:27.631Z"
   },
   {
    "duration": 50,
    "start_time": "2021-08-15T15:16:27.634Z"
   },
   {
    "duration": 43,
    "start_time": "2021-08-15T15:16:27.642Z"
   },
   {
    "duration": 41,
    "start_time": "2021-08-15T15:16:27.646Z"
   },
   {
    "duration": 39,
    "start_time": "2021-08-15T15:16:27.649Z"
   },
   {
    "duration": 36,
    "start_time": "2021-08-15T15:16:27.653Z"
   },
   {
    "duration": 35,
    "start_time": "2021-08-15T15:16:27.656Z"
   },
   {
    "duration": 33,
    "start_time": "2021-08-15T15:16:27.659Z"
   },
   {
    "duration": 31,
    "start_time": "2021-08-15T15:16:27.663Z"
   },
   {
    "duration": 29,
    "start_time": "2021-08-15T15:16:27.666Z"
   },
   {
    "duration": 27,
    "start_time": "2021-08-15T15:16:27.669Z"
   },
   {
    "duration": 81,
    "start_time": "2021-08-15T15:16:27.672Z"
   },
   {
    "duration": 79,
    "start_time": "2021-08-15T15:16:27.676Z"
   },
   {
    "duration": 77,
    "start_time": "2021-08-15T15:16:27.679Z"
   },
   {
    "duration": 76,
    "start_time": "2021-08-15T15:16:27.682Z"
   },
   {
    "duration": 74,
    "start_time": "2021-08-15T15:16:27.685Z"
   },
   {
    "duration": 72,
    "start_time": "2021-08-15T15:16:27.688Z"
   },
   {
    "duration": 26,
    "start_time": "2021-08-15T15:16:27.736Z"
   },
   {
    "duration": 24,
    "start_time": "2021-08-15T15:16:27.739Z"
   },
   {
    "duration": 21,
    "start_time": "2021-08-15T15:16:27.743Z"
   },
   {
    "duration": 20,
    "start_time": "2021-08-15T15:16:27.746Z"
   },
   {
    "duration": 18,
    "start_time": "2021-08-15T15:16:27.749Z"
   },
   {
    "duration": 17,
    "start_time": "2021-08-15T15:16:27.752Z"
   },
   {
    "duration": 14,
    "start_time": "2021-08-15T15:16:27.756Z"
   },
   {
    "duration": 12,
    "start_time": "2021-08-15T15:16:27.759Z"
   },
   {
    "duration": 5012,
    "start_time": "2021-08-15T15:17:55.474Z"
   },
   {
    "duration": 48,
    "start_time": "2021-08-15T15:18:17.101Z"
   },
   {
    "duration": 1043,
    "start_time": "2021-08-15T15:18:21.558Z"
   },
   {
    "duration": 2003,
    "start_time": "2021-08-15T15:18:52.557Z"
   },
   {
    "duration": 5,
    "start_time": "2021-08-15T15:18:54.564Z"
   },
   {
    "duration": 795,
    "start_time": "2021-08-15T15:18:54.577Z"
   },
   {
    "duration": 15,
    "start_time": "2021-08-15T15:18:55.374Z"
   },
   {
    "duration": 65,
    "start_time": "2021-08-15T15:18:55.392Z"
   },
   {
    "duration": 351,
    "start_time": "2021-08-15T15:18:55.460Z"
   },
   {
    "duration": 6,
    "start_time": "2021-08-15T15:18:55.817Z"
   },
   {
    "duration": 6,
    "start_time": "2021-08-15T15:18:55.827Z"
   },
   {
    "duration": 238,
    "start_time": "2021-08-15T15:18:55.856Z"
   },
   {
    "duration": 37,
    "start_time": "2021-08-15T15:18:56.096Z"
   },
   {
    "duration": 23,
    "start_time": "2021-08-15T15:18:56.135Z"
   },
   {
    "duration": 19,
    "start_time": "2021-08-15T15:18:56.161Z"
   },
   {
    "duration": 12,
    "start_time": "2021-08-15T15:18:56.183Z"
   },
   {
    "duration": 13,
    "start_time": "2021-08-15T15:18:56.198Z"
   },
   {
    "duration": 24,
    "start_time": "2021-08-15T15:18:56.255Z"
   },
   {
    "duration": 6,
    "start_time": "2021-08-15T15:18:56.283Z"
   },
   {
    "duration": 4,
    "start_time": "2021-08-15T15:18:56.292Z"
   },
   {
    "duration": 9,
    "start_time": "2021-08-15T15:18:56.299Z"
   },
   {
    "duration": 20,
    "start_time": "2021-08-15T15:18:56.355Z"
   },
   {
    "duration": 11,
    "start_time": "2021-08-15T15:18:56.378Z"
   },
   {
    "duration": 10,
    "start_time": "2021-08-15T15:18:56.393Z"
   },
   {
    "duration": 52,
    "start_time": "2021-08-15T15:18:56.409Z"
   },
   {
    "duration": 8,
    "start_time": "2021-08-15T15:18:56.465Z"
   },
   {
    "duration": 6,
    "start_time": "2021-08-15T15:18:56.475Z"
   },
   {
    "duration": 11,
    "start_time": "2021-08-15T15:18:56.483Z"
   },
   {
    "duration": 20,
    "start_time": "2021-08-15T15:18:56.496Z"
   },
   {
    "duration": 432,
    "start_time": "2021-08-15T15:18:56.555Z"
   },
   {
    "duration": 20,
    "start_time": "2021-08-15T15:18:56.989Z"
   },
   {
    "duration": 193,
    "start_time": "2021-08-15T15:18:57.011Z"
   },
   {
    "duration": 124,
    "start_time": "2021-08-15T15:18:57.206Z"
   },
   {
    "duration": 103,
    "start_time": "2021-08-15T15:18:57.332Z"
   },
   {
    "duration": 4,
    "start_time": "2021-08-15T15:18:57.437Z"
   },
   {
    "duration": 335,
    "start_time": "2021-08-15T15:18:57.455Z"
   },
   {
    "duration": 414,
    "start_time": "2021-08-15T15:18:57.792Z"
   },
   {
    "duration": 550,
    "start_time": "2021-08-15T15:18:58.209Z"
   },
   {
    "duration": 347,
    "start_time": "2021-08-15T15:18:58.761Z"
   },
   {
    "duration": 52,
    "start_time": "2021-08-15T15:18:59.110Z"
   },
   {
    "duration": 17,
    "start_time": "2021-08-15T15:18:59.166Z"
   },
   {
    "duration": 43,
    "start_time": "2021-08-15T15:18:59.185Z"
   },
   {
    "duration": 34,
    "start_time": "2021-08-15T15:18:59.230Z"
   },
   {
    "duration": 39,
    "start_time": "2021-08-15T15:18:59.267Z"
   },
   {
    "duration": 46,
    "start_time": "2021-08-15T15:18:59.308Z"
   },
   {
    "duration": 14,
    "start_time": "2021-08-15T15:18:59.357Z"
   },
   {
    "duration": 360,
    "start_time": "2021-08-15T15:18:59.373Z"
   },
   {
    "duration": 25,
    "start_time": "2021-08-15T15:18:59.736Z"
   },
   {
    "duration": 298,
    "start_time": "2021-08-15T15:18:59.764Z"
   },
   {
    "duration": 60,
    "start_time": "2021-08-15T15:19:00.065Z"
   },
   {
    "duration": 176,
    "start_time": "2021-08-15T15:19:00.128Z"
   },
   {
    "duration": 17,
    "start_time": "2021-08-15T15:19:00.307Z"
   },
   {
    "duration": 35,
    "start_time": "2021-08-15T15:19:00.327Z"
   },
   {
    "duration": 43,
    "start_time": "2021-08-15T15:19:00.365Z"
   },
   {
    "duration": 72,
    "start_time": "2021-08-15T15:19:00.412Z"
   },
   {
    "duration": 1114,
    "start_time": "2021-08-15T15:19:00.487Z"
   },
   {
    "duration": 6,
    "start_time": "2021-08-15T15:19:01.603Z"
   },
   {
    "duration": 57,
    "start_time": "2021-08-15T15:19:01.612Z"
   },
   {
    "duration": 472,
    "start_time": "2021-08-15T15:19:01.671Z"
   },
   {
    "duration": 46,
    "start_time": "2021-08-15T15:19:02.145Z"
   },
   {
    "duration": 14,
    "start_time": "2021-08-15T15:19:02.193Z"
   },
   {
    "duration": 190,
    "start_time": "2021-08-15T15:19:02.210Z"
   },
   {
    "duration": 701,
    "start_time": "2021-08-15T15:19:02.403Z"
   },
   {
    "duration": 622,
    "start_time": "2021-08-15T15:19:03.107Z"
   },
   {
    "duration": 58,
    "start_time": "2021-08-15T15:19:03.732Z"
   },
   {
    "duration": 65,
    "start_time": "2021-08-15T15:19:03.793Z"
   },
   {
    "duration": 5,
    "start_time": "2021-08-15T15:19:03.861Z"
   },
   {
    "duration": 67,
    "start_time": "2021-08-15T15:19:03.869Z"
   },
   {
    "duration": 20,
    "start_time": "2021-08-15T15:19:03.938Z"
   },
   {
    "duration": 14,
    "start_time": "2021-08-15T15:19:03.966Z"
   },
   {
    "duration": 549,
    "start_time": "2021-08-15T15:19:03.984Z"
   },
   {
    "duration": 308,
    "start_time": "2021-08-15T15:19:04.536Z"
   },
   {
    "duration": 25,
    "start_time": "2021-08-15T15:19:04.854Z"
   },
   {
    "duration": 20,
    "start_time": "2021-08-15T15:19:04.881Z"
   },
   {
    "duration": 132,
    "start_time": "2021-08-15T15:19:04.903Z"
   },
   {
    "duration": 60,
    "start_time": "2021-08-15T15:19:05.037Z"
   },
   {
    "duration": 10,
    "start_time": "2021-08-15T15:19:05.099Z"
   },
   {
    "duration": 7,
    "start_time": "2021-08-15T15:19:05.111Z"
   },
   {
    "duration": 38,
    "start_time": "2021-08-15T15:19:05.121Z"
   },
   {
    "duration": 305,
    "start_time": "2021-08-15T15:19:05.161Z"
   },
   {
    "duration": 7,
    "start_time": "2021-08-15T15:19:05.469Z"
   },
   {
    "duration": 292,
    "start_time": "2021-08-15T15:19:05.479Z"
   },
   {
    "duration": 434,
    "start_time": "2021-08-15T15:19:05.774Z"
   },
   {
    "duration": 850,
    "start_time": "2021-08-15T15:19:06.210Z"
   },
   {
    "duration": 621,
    "start_time": "2021-08-15T15:19:07.063Z"
   },
   {
    "duration": 22,
    "start_time": "2021-08-15T15:19:07.686Z"
   },
   {
    "duration": 486,
    "start_time": "2021-08-15T15:19:07.711Z"
   },
   {
    "duration": 13,
    "start_time": "2021-08-15T15:19:08.199Z"
   },
   {
    "duration": 13,
    "start_time": "2021-08-15T15:19:08.214Z"
   },
   {
    "duration": 40,
    "start_time": "2021-08-15T15:19:08.229Z"
   },
   {
    "duration": 1031,
    "start_time": "2021-08-15T15:19:08.271Z"
   },
   {
    "duration": 13,
    "start_time": "2021-08-15T15:19:09.304Z"
   },
   {
    "duration": 66,
    "start_time": "2021-08-15T15:19:09.319Z"
   },
   {
    "duration": 442,
    "start_time": "2021-08-15T15:19:09.387Z"
   },
   {
    "duration": 6,
    "start_time": "2021-08-15T15:19:09.831Z"
   },
   {
    "duration": 24,
    "start_time": "2021-08-15T15:19:09.840Z"
   },
   {
    "duration": 13,
    "start_time": "2021-08-15T15:19:09.867Z"
   },
   {
    "duration": 8,
    "start_time": "2021-08-15T15:19:09.882Z"
   },
   {
    "duration": 475,
    "start_time": "2021-08-15T15:19:09.893Z"
   },
   {
    "duration": 584,
    "start_time": "2021-08-15T15:19:10.370Z"
   },
   {
    "duration": 844,
    "start_time": "2021-08-15T15:20:11.670Z"
   },
   {
    "duration": 23,
    "start_time": "2021-08-15T15:20:49.801Z"
   },
   {
    "duration": 23,
    "start_time": "2021-08-15T15:21:08.162Z"
   },
   {
    "duration": 1965,
    "start_time": "2021-08-15T15:21:46.223Z"
   },
   {
    "duration": 3,
    "start_time": "2021-08-15T15:21:48.191Z"
   },
   {
    "duration": 784,
    "start_time": "2021-08-15T15:21:48.197Z"
   },
   {
    "duration": 17,
    "start_time": "2021-08-15T15:21:48.984Z"
   },
   {
    "duration": 67,
    "start_time": "2021-08-15T15:21:49.003Z"
   },
   {
    "duration": 340,
    "start_time": "2021-08-15T15:21:49.072Z"
   },
   {
    "duration": 5,
    "start_time": "2021-08-15T15:21:49.414Z"
   },
   {
    "duration": 23,
    "start_time": "2021-08-15T15:21:49.423Z"
   },
   {
    "duration": 224,
    "start_time": "2021-08-15T15:21:49.449Z"
   },
   {
    "duration": 36,
    "start_time": "2021-08-15T15:21:49.675Z"
   },
   {
    "duration": 11,
    "start_time": "2021-08-15T15:21:49.713Z"
   },
   {
    "duration": 39,
    "start_time": "2021-08-15T15:21:49.727Z"
   },
   {
    "duration": 10,
    "start_time": "2021-08-15T15:21:49.768Z"
   },
   {
    "duration": 14,
    "start_time": "2021-08-15T15:21:49.780Z"
   },
   {
    "duration": 60,
    "start_time": "2021-08-15T15:21:49.797Z"
   },
   {
    "duration": 5,
    "start_time": "2021-08-15T15:21:49.859Z"
   },
   {
    "duration": 10,
    "start_time": "2021-08-15T15:21:49.867Z"
   },
   {
    "duration": 13,
    "start_time": "2021-08-15T15:21:49.879Z"
   },
   {
    "duration": 18,
    "start_time": "2021-08-15T15:21:49.895Z"
   },
   {
    "duration": 11,
    "start_time": "2021-08-15T15:21:49.915Z"
   },
   {
    "duration": 10,
    "start_time": "2021-08-15T15:21:49.956Z"
   },
   {
    "duration": 12,
    "start_time": "2021-08-15T15:21:49.968Z"
   },
   {
    "duration": 8,
    "start_time": "2021-08-15T15:21:49.987Z"
   },
   {
    "duration": 7,
    "start_time": "2021-08-15T15:21:50.000Z"
   },
   {
    "duration": 47,
    "start_time": "2021-08-15T15:21:50.010Z"
   },
   {
    "duration": 18,
    "start_time": "2021-08-15T15:21:50.059Z"
   },
   {
    "duration": 445,
    "start_time": "2021-08-15T15:21:50.080Z"
   },
   {
    "duration": 29,
    "start_time": "2021-08-15T15:21:50.527Z"
   },
   {
    "duration": 189,
    "start_time": "2021-08-15T15:21:50.559Z"
   },
   {
    "duration": 119,
    "start_time": "2021-08-15T15:21:50.750Z"
   },
   {
    "duration": 104,
    "start_time": "2021-08-15T15:21:50.871Z"
   },
   {
    "duration": 5,
    "start_time": "2021-08-15T15:21:50.977Z"
   },
   {
    "duration": 335,
    "start_time": "2021-08-15T15:21:50.984Z"
   },
   {
    "duration": 423,
    "start_time": "2021-08-15T15:21:51.322Z"
   },
   {
    "duration": 557,
    "start_time": "2021-08-15T15:21:51.748Z"
   },
   {
    "duration": 347,
    "start_time": "2021-08-15T15:21:52.307Z"
   },
   {
    "duration": 44,
    "start_time": "2021-08-15T15:21:52.656Z"
   },
   {
    "duration": 7,
    "start_time": "2021-08-15T15:21:52.702Z"
   },
   {
    "duration": 42,
    "start_time": "2021-08-15T15:21:52.712Z"
   },
   {
    "duration": 27,
    "start_time": "2021-08-15T15:21:52.757Z"
   },
   {
    "duration": 41,
    "start_time": "2021-08-15T15:21:52.787Z"
   },
   {
    "duration": 46,
    "start_time": "2021-08-15T15:21:52.831Z"
   },
   {
    "duration": 14,
    "start_time": "2021-08-15T15:21:52.880Z"
   },
   {
    "duration": 357,
    "start_time": "2021-08-15T15:21:52.897Z"
   },
   {
    "duration": 14,
    "start_time": "2021-08-15T15:21:53.256Z"
   },
   {
    "duration": 299,
    "start_time": "2021-08-15T15:21:53.273Z"
   },
   {
    "duration": 57,
    "start_time": "2021-08-15T15:21:53.574Z"
   },
   {
    "duration": 167,
    "start_time": "2021-08-15T15:21:53.633Z"
   },
   {
    "duration": 16,
    "start_time": "2021-08-15T15:21:53.803Z"
   },
   {
    "duration": 34,
    "start_time": "2021-08-15T15:21:53.822Z"
   },
   {
    "duration": 26,
    "start_time": "2021-08-15T15:21:53.859Z"
   },
   {
    "duration": 54,
    "start_time": "2021-08-15T15:21:53.888Z"
   },
   {
    "duration": 1101,
    "start_time": "2021-08-15T15:21:53.953Z"
   },
   {
    "duration": 7,
    "start_time": "2021-08-15T15:21:55.057Z"
   },
   {
    "duration": 41,
    "start_time": "2021-08-15T15:21:55.067Z"
   },
   {
    "duration": 474,
    "start_time": "2021-08-15T15:21:55.111Z"
   },
   {
    "duration": 39,
    "start_time": "2021-08-15T15:21:55.587Z"
   },
   {
    "duration": 29,
    "start_time": "2021-08-15T15:21:55.629Z"
   },
   {
    "duration": 178,
    "start_time": "2021-08-15T15:21:55.661Z"
   },
   {
    "duration": 713,
    "start_time": "2021-08-15T15:21:55.841Z"
   },
   {
    "duration": 623,
    "start_time": "2021-08-15T15:21:56.556Z"
   },
   {
    "duration": 3,
    "start_time": "2021-08-15T15:21:57.182Z"
   },
   {
    "duration": 7,
    "start_time": "2021-08-15T15:21:57.187Z"
   },
   {
    "duration": 8,
    "start_time": "2021-08-15T15:21:57.197Z"
   },
   {
    "duration": 430,
    "start_time": "2021-08-15T15:21:57.207Z"
   },
   {
    "duration": 111,
    "start_time": "2021-08-15T15:21:57.530Z"
   },
   {
    "duration": 105,
    "start_time": "2021-08-15T15:21:57.538Z"
   },
   {
    "duration": 97,
    "start_time": "2021-08-15T15:21:57.547Z"
   },
   {
    "duration": 93,
    "start_time": "2021-08-15T15:21:57.553Z"
   },
   {
    "duration": 86,
    "start_time": "2021-08-15T15:21:57.561Z"
   },
   {
    "duration": 81,
    "start_time": "2021-08-15T15:21:57.568Z"
   },
   {
    "duration": 74,
    "start_time": "2021-08-15T15:21:57.576Z"
   },
   {
    "duration": 70,
    "start_time": "2021-08-15T15:21:57.582Z"
   },
   {
    "duration": 65,
    "start_time": "2021-08-15T15:21:57.589Z"
   },
   {
    "duration": 59,
    "start_time": "2021-08-15T15:21:57.596Z"
   },
   {
    "duration": 53,
    "start_time": "2021-08-15T15:21:57.604Z"
   },
   {
    "duration": 48,
    "start_time": "2021-08-15T15:21:57.611Z"
   },
   {
    "duration": 42,
    "start_time": "2021-08-15T15:21:57.618Z"
   },
   {
    "duration": 26,
    "start_time": "2021-08-15T15:21:57.636Z"
   },
   {
    "duration": 22,
    "start_time": "2021-08-15T15:21:57.641Z"
   },
   {
    "duration": 21,
    "start_time": "2021-08-15T15:21:57.644Z"
   },
   {
    "duration": 18,
    "start_time": "2021-08-15T15:21:57.648Z"
   },
   {
    "duration": 16,
    "start_time": "2021-08-15T15:21:57.652Z"
   },
   {
    "duration": 13,
    "start_time": "2021-08-15T15:21:57.656Z"
   },
   {
    "duration": 11,
    "start_time": "2021-08-15T15:21:57.660Z"
   },
   {
    "duration": 8,
    "start_time": "2021-08-15T15:21:57.664Z"
   },
   {
    "duration": 7,
    "start_time": "2021-08-15T15:21:57.667Z"
   },
   {
    "duration": 5,
    "start_time": "2021-08-15T15:21:57.670Z"
   },
   {
    "duration": 4,
    "start_time": "2021-08-15T15:21:57.673Z"
   },
   {
    "duration": 2,
    "start_time": "2021-08-15T15:21:57.676Z"
   },
   {
    "duration": 0,
    "start_time": "2021-08-15T15:21:57.679Z"
   },
   {
    "duration": -2,
    "start_time": "2021-08-15T15:21:57.682Z"
   },
   {
    "duration": -3,
    "start_time": "2021-08-15T15:21:57.685Z"
   },
   {
    "duration": -5,
    "start_time": "2021-08-15T15:21:57.688Z"
   },
   {
    "duration": -7,
    "start_time": "2021-08-15T15:21:57.691Z"
   },
   {
    "duration": -9,
    "start_time": "2021-08-15T15:21:57.694Z"
   },
   {
    "duration": -11,
    "start_time": "2021-08-15T15:21:57.697Z"
   },
   {
    "duration": -12,
    "start_time": "2021-08-15T15:21:57.700Z"
   },
   {
    "duration": -14,
    "start_time": "2021-08-15T15:21:57.703Z"
   },
   {
    "duration": -25,
    "start_time": "2021-08-15T15:21:57.715Z"
   },
   {
    "duration": 19,
    "start_time": "2021-08-15T15:23:15.314Z"
   },
   {
    "duration": 6405,
    "start_time": "2021-08-15T15:24:34.735Z"
   },
   {
    "duration": 8,
    "start_time": "2021-08-15T15:24:52.774Z"
   },
   {
    "duration": 19,
    "start_time": "2021-08-15T15:25:26.172Z"
   },
   {
    "duration": 6428,
    "start_time": "2021-08-15T15:26:12.519Z"
   },
   {
    "duration": 1958,
    "start_time": "2021-08-15T15:26:22.775Z"
   },
   {
    "duration": 4,
    "start_time": "2021-08-15T15:26:24.736Z"
   },
   {
    "duration": 817,
    "start_time": "2021-08-15T15:26:24.744Z"
   },
   {
    "duration": 17,
    "start_time": "2021-08-15T15:26:25.565Z"
   },
   {
    "duration": 79,
    "start_time": "2021-08-15T15:26:25.585Z"
   },
   {
    "duration": 389,
    "start_time": "2021-08-15T15:26:25.666Z"
   },
   {
    "duration": 6,
    "start_time": "2021-08-15T15:26:26.058Z"
   },
   {
    "duration": 9,
    "start_time": "2021-08-15T15:26:26.068Z"
   },
   {
    "duration": 239,
    "start_time": "2021-08-15T15:26:26.080Z"
   },
   {
    "duration": 44,
    "start_time": "2021-08-15T15:26:26.321Z"
   },
   {
    "duration": 11,
    "start_time": "2021-08-15T15:26:26.367Z"
   },
   {
    "duration": 21,
    "start_time": "2021-08-15T15:26:26.381Z"
   },
   {
    "duration": 11,
    "start_time": "2021-08-15T15:26:26.405Z"
   },
   {
    "duration": 14,
    "start_time": "2021-08-15T15:26:26.456Z"
   },
   {
    "duration": 34,
    "start_time": "2021-08-15T15:26:26.473Z"
   },
   {
    "duration": 6,
    "start_time": "2021-08-15T15:26:26.510Z"
   },
   {
    "duration": 35,
    "start_time": "2021-08-15T15:26:26.519Z"
   },
   {
    "duration": 9,
    "start_time": "2021-08-15T15:26:26.557Z"
   },
   {
    "duration": 20,
    "start_time": "2021-08-15T15:26:26.568Z"
   },
   {
    "duration": 10,
    "start_time": "2021-08-15T15:26:26.591Z"
   },
   {
    "duration": 16,
    "start_time": "2021-08-15T15:26:26.603Z"
   },
   {
    "duration": 40,
    "start_time": "2021-08-15T15:26:26.621Z"
   },
   {
    "duration": 16,
    "start_time": "2021-08-15T15:26:26.668Z"
   },
   {
    "duration": 5,
    "start_time": "2021-08-15T15:26:26.689Z"
   },
   {
    "duration": 22,
    "start_time": "2021-08-15T15:26:26.696Z"
   },
   {
    "duration": 36,
    "start_time": "2021-08-15T15:26:26.720Z"
   },
   {
    "duration": 438,
    "start_time": "2021-08-15T15:26:26.759Z"
   },
   {
    "duration": 21,
    "start_time": "2021-08-15T15:26:27.200Z"
   },
   {
    "duration": 190,
    "start_time": "2021-08-15T15:26:27.224Z"
   },
   {
    "duration": 130,
    "start_time": "2021-08-15T15:26:27.417Z"
   },
   {
    "duration": 102,
    "start_time": "2021-08-15T15:26:27.553Z"
   },
   {
    "duration": 5,
    "start_time": "2021-08-15T15:26:27.658Z"
   },
   {
    "duration": 340,
    "start_time": "2021-08-15T15:26:27.665Z"
   },
   {
    "duration": 419,
    "start_time": "2021-08-15T15:26:28.008Z"
   },
   {
    "duration": 564,
    "start_time": "2021-08-15T15:26:28.430Z"
   },
   {
    "duration": 382,
    "start_time": "2021-08-15T15:26:28.997Z"
   },
   {
    "duration": 42,
    "start_time": "2021-08-15T15:26:29.382Z"
   },
   {
    "duration": 7,
    "start_time": "2021-08-15T15:26:29.426Z"
   },
   {
    "duration": 31,
    "start_time": "2021-08-15T15:26:29.435Z"
   },
   {
    "duration": 29,
    "start_time": "2021-08-15T15:26:29.469Z"
   },
   {
    "duration": 77,
    "start_time": "2021-08-15T15:26:29.500Z"
   },
   {
    "duration": 27,
    "start_time": "2021-08-15T15:26:29.579Z"
   },
   {
    "duration": 14,
    "start_time": "2021-08-15T15:26:29.608Z"
   },
   {
    "duration": 361,
    "start_time": "2021-08-15T15:26:29.624Z"
   },
   {
    "duration": 13,
    "start_time": "2021-08-15T15:26:29.988Z"
   },
   {
    "duration": 317,
    "start_time": "2021-08-15T15:26:30.004Z"
   },
   {
    "duration": 69,
    "start_time": "2021-08-15T15:26:30.323Z"
   },
   {
    "duration": 154,
    "start_time": "2021-08-15T15:26:30.394Z"
   },
   {
    "duration": 14,
    "start_time": "2021-08-15T15:26:30.550Z"
   },
   {
    "duration": 17,
    "start_time": "2021-08-15T15:26:30.567Z"
   },
   {
    "duration": 23,
    "start_time": "2021-08-15T15:26:30.587Z"
   },
   {
    "duration": 62,
    "start_time": "2021-08-15T15:26:30.613Z"
   },
   {
    "duration": 1142,
    "start_time": "2021-08-15T15:26:30.678Z"
   },
   {
    "duration": 5,
    "start_time": "2021-08-15T15:26:31.823Z"
   },
   {
    "duration": 54,
    "start_time": "2021-08-15T15:26:31.830Z"
   },
   {
    "duration": 461,
    "start_time": "2021-08-15T15:26:31.886Z"
   },
   {
    "duration": 41,
    "start_time": "2021-08-15T15:26:32.349Z"
   },
   {
    "duration": 13,
    "start_time": "2021-08-15T15:26:32.392Z"
   },
   {
    "duration": 195,
    "start_time": "2021-08-15T15:26:32.407Z"
   },
   {
    "duration": 706,
    "start_time": "2021-08-15T15:26:32.604Z"
   },
   {
    "duration": 623,
    "start_time": "2021-08-15T15:26:33.312Z"
   },
   {
    "duration": 3,
    "start_time": "2021-08-15T15:26:33.938Z"
   },
   {
    "duration": 15,
    "start_time": "2021-08-15T15:26:33.955Z"
   },
   {
    "duration": 29,
    "start_time": "2021-08-15T15:26:33.972Z"
   },
   {
    "duration": 36,
    "start_time": "2021-08-15T15:26:34.003Z"
   },
   {
    "duration": 454,
    "start_time": "2021-08-15T15:26:34.041Z"
   },
   {
    "duration": 145,
    "start_time": "2021-08-15T15:26:34.357Z"
   },
   {
    "duration": 143,
    "start_time": "2021-08-15T15:26:34.361Z"
   },
   {
    "duration": 141,
    "start_time": "2021-08-15T15:26:34.365Z"
   },
   {
    "duration": 139,
    "start_time": "2021-08-15T15:26:34.369Z"
   },
   {
    "duration": 138,
    "start_time": "2021-08-15T15:26:34.372Z"
   },
   {
    "duration": 137,
    "start_time": "2021-08-15T15:26:34.376Z"
   },
   {
    "duration": 135,
    "start_time": "2021-08-15T15:26:34.380Z"
   },
   {
    "duration": 133,
    "start_time": "2021-08-15T15:26:34.384Z"
   },
   {
    "duration": 131,
    "start_time": "2021-08-15T15:26:34.388Z"
   },
   {
    "duration": 127,
    "start_time": "2021-08-15T15:26:34.394Z"
   },
   {
    "duration": 125,
    "start_time": "2021-08-15T15:26:34.398Z"
   },
   {
    "duration": 119,
    "start_time": "2021-08-15T15:26:34.407Z"
   },
   {
    "duration": 117,
    "start_time": "2021-08-15T15:26:34.411Z"
   },
   {
    "duration": 114,
    "start_time": "2021-08-15T15:26:34.416Z"
   },
   {
    "duration": 111,
    "start_time": "2021-08-15T15:26:34.421Z"
   },
   {
    "duration": 109,
    "start_time": "2021-08-15T15:26:34.425Z"
   },
   {
    "duration": 108,
    "start_time": "2021-08-15T15:26:34.428Z"
   },
   {
    "duration": 121,
    "start_time": "2021-08-15T15:26:34.432Z"
   },
   {
    "duration": 121,
    "start_time": "2021-08-15T15:26:34.435Z"
   },
   {
    "duration": 119,
    "start_time": "2021-08-15T15:26:34.439Z"
   },
   {
    "duration": 117,
    "start_time": "2021-08-15T15:26:34.443Z"
   },
   {
    "duration": 116,
    "start_time": "2021-08-15T15:26:34.446Z"
   },
   {
    "duration": 115,
    "start_time": "2021-08-15T15:26:34.449Z"
   },
   {
    "duration": 113,
    "start_time": "2021-08-15T15:26:34.453Z"
   },
   {
    "duration": 113,
    "start_time": "2021-08-15T15:26:34.455Z"
   },
   {
    "duration": 111,
    "start_time": "2021-08-15T15:26:34.459Z"
   },
   {
    "duration": 110,
    "start_time": "2021-08-15T15:26:34.462Z"
   },
   {
    "duration": 109,
    "start_time": "2021-08-15T15:26:34.465Z"
   },
   {
    "duration": 108,
    "start_time": "2021-08-15T15:26:34.468Z"
   },
   {
    "duration": 106,
    "start_time": "2021-08-15T15:26:34.472Z"
   },
   {
    "duration": 104,
    "start_time": "2021-08-15T15:26:34.475Z"
   },
   {
    "duration": 103,
    "start_time": "2021-08-15T15:26:34.479Z"
   },
   {
    "duration": 102,
    "start_time": "2021-08-15T15:26:34.482Z"
   },
   {
    "duration": 84,
    "start_time": "2021-08-15T15:26:34.503Z"
   },
   {
    "duration": 83,
    "start_time": "2021-08-15T15:26:34.506Z"
   },
   {
    "duration": 20,
    "start_time": "2021-08-15T15:27:00.308Z"
   },
   {
    "duration": 21,
    "start_time": "2021-08-15T15:27:04.588Z"
   },
   {
    "duration": 10,
    "start_time": "2021-08-15T15:27:27.762Z"
   },
   {
    "duration": 20,
    "start_time": "2021-08-15T15:27:32.536Z"
   },
   {
    "duration": 266,
    "start_time": "2021-08-15T15:29:06.023Z"
   },
   {
    "duration": 7,
    "start_time": "2021-08-15T15:29:10.285Z"
   },
   {
    "duration": 8,
    "start_time": "2021-08-15T15:29:18.612Z"
   },
   {
    "duration": 7,
    "start_time": "2021-08-15T15:29:21.576Z"
   },
   {
    "duration": 13,
    "start_time": "2021-08-15T15:29:27.150Z"
   },
   {
    "duration": 91,
    "start_time": "2021-08-15T15:29:49.456Z"
   },
   {
    "duration": 66,
    "start_time": "2021-08-15T15:30:04.244Z"
   },
   {
    "duration": 132,
    "start_time": "2021-08-15T15:30:14.221Z"
   },
   {
    "duration": 6,
    "start_time": "2021-08-15T15:30:52.719Z"
   },
   {
    "duration": 6,
    "start_time": "2021-08-15T15:31:44.284Z"
   },
   {
    "duration": 6,
    "start_time": "2021-08-15T15:31:48.884Z"
   },
   {
    "duration": 5,
    "start_time": "2021-08-15T15:31:55.293Z"
   },
   {
    "duration": 1925,
    "start_time": "2021-08-15T15:41:48.621Z"
   },
   {
    "duration": 4,
    "start_time": "2021-08-15T15:41:50.548Z"
   },
   {
    "duration": 812,
    "start_time": "2021-08-15T15:41:50.555Z"
   },
   {
    "duration": 16,
    "start_time": "2021-08-15T15:41:51.369Z"
   },
   {
    "duration": 71,
    "start_time": "2021-08-15T15:41:51.388Z"
   },
   {
    "duration": 349,
    "start_time": "2021-08-15T15:41:51.462Z"
   },
   {
    "duration": 5,
    "start_time": "2021-08-15T15:41:51.813Z"
   },
   {
    "duration": 5,
    "start_time": "2021-08-15T15:41:51.821Z"
   },
   {
    "duration": 245,
    "start_time": "2021-08-15T15:41:51.829Z"
   },
   {
    "duration": 37,
    "start_time": "2021-08-15T15:41:52.077Z"
   },
   {
    "duration": 12,
    "start_time": "2021-08-15T15:41:52.117Z"
   },
   {
    "duration": 19,
    "start_time": "2021-08-15T15:41:52.156Z"
   },
   {
    "duration": 10,
    "start_time": "2021-08-15T15:41:52.178Z"
   },
   {
    "duration": 13,
    "start_time": "2021-08-15T15:41:52.190Z"
   },
   {
    "duration": 62,
    "start_time": "2021-08-15T15:41:52.205Z"
   },
   {
    "duration": 5,
    "start_time": "2021-08-15T15:41:52.269Z"
   },
   {
    "duration": 4,
    "start_time": "2021-08-15T15:41:52.277Z"
   },
   {
    "duration": 8,
    "start_time": "2021-08-15T15:41:52.284Z"
   },
   {
    "duration": 23,
    "start_time": "2021-08-15T15:41:52.294Z"
   },
   {
    "duration": 39,
    "start_time": "2021-08-15T15:41:52.319Z"
   },
   {
    "duration": 11,
    "start_time": "2021-08-15T15:41:52.360Z"
   },
   {
    "duration": 11,
    "start_time": "2021-08-15T15:41:52.374Z"
   },
   {
    "duration": 8,
    "start_time": "2021-08-15T15:41:52.391Z"
   },
   {
    "duration": 5,
    "start_time": "2021-08-15T15:41:52.403Z"
   },
   {
    "duration": 9,
    "start_time": "2021-08-15T15:41:52.455Z"
   },
   {
    "duration": 16,
    "start_time": "2021-08-15T15:41:52.467Z"
   },
   {
    "duration": 452,
    "start_time": "2021-08-15T15:41:52.486Z"
   },
   {
    "duration": 27,
    "start_time": "2021-08-15T15:41:52.941Z"
   },
   {
    "duration": 196,
    "start_time": "2021-08-15T15:41:52.971Z"
   },
   {
    "duration": 126,
    "start_time": "2021-08-15T15:41:53.170Z"
   },
   {
    "duration": 102,
    "start_time": "2021-08-15T15:41:53.300Z"
   },
   {
    "duration": 5,
    "start_time": "2021-08-15T15:41:53.406Z"
   },
   {
    "duration": 347,
    "start_time": "2021-08-15T15:41:53.414Z"
   },
   {
    "duration": 427,
    "start_time": "2021-08-15T15:41:53.764Z"
   },
   {
    "duration": 580,
    "start_time": "2021-08-15T15:41:54.194Z"
   },
   {
    "duration": 358,
    "start_time": "2021-08-15T15:41:54.777Z"
   },
   {
    "duration": 50,
    "start_time": "2021-08-15T15:41:55.138Z"
   },
   {
    "duration": 7,
    "start_time": "2021-08-15T15:41:55.190Z"
   },
   {
    "duration": 15,
    "start_time": "2021-08-15T15:41:55.199Z"
   },
   {
    "duration": 56,
    "start_time": "2021-08-15T15:41:55.216Z"
   },
   {
    "duration": 39,
    "start_time": "2021-08-15T15:41:55.274Z"
   },
   {
    "duration": 46,
    "start_time": "2021-08-15T15:41:55.316Z"
   },
   {
    "duration": 14,
    "start_time": "2021-08-15T15:41:55.365Z"
   },
   {
    "duration": 359,
    "start_time": "2021-08-15T15:41:55.381Z"
   },
   {
    "duration": 23,
    "start_time": "2021-08-15T15:41:55.742Z"
   },
   {
    "duration": 295,
    "start_time": "2021-08-15T15:41:55.768Z"
   },
   {
    "duration": 57,
    "start_time": "2021-08-15T15:41:56.065Z"
   },
   {
    "duration": 162,
    "start_time": "2021-08-15T15:41:56.124Z"
   },
   {
    "duration": 15,
    "start_time": "2021-08-15T15:41:56.288Z"
   },
   {
    "duration": 23,
    "start_time": "2021-08-15T15:41:56.305Z"
   },
   {
    "duration": 25,
    "start_time": "2021-08-15T15:41:56.330Z"
   },
   {
    "duration": 54,
    "start_time": "2021-08-15T15:41:56.358Z"
   },
   {
    "duration": 1083,
    "start_time": "2021-08-15T15:41:56.414Z"
   },
   {
    "duration": 6,
    "start_time": "2021-08-15T15:41:57.499Z"
   },
   {
    "duration": 59,
    "start_time": "2021-08-15T15:41:57.507Z"
   },
   {
    "duration": 455,
    "start_time": "2021-08-15T15:41:57.568Z"
   },
   {
    "duration": 47,
    "start_time": "2021-08-15T15:41:58.026Z"
   },
   {
    "duration": 15,
    "start_time": "2021-08-15T15:41:58.075Z"
   },
   {
    "duration": 187,
    "start_time": "2021-08-15T15:41:58.092Z"
   },
   {
    "duration": 701,
    "start_time": "2021-08-15T15:41:58.282Z"
   },
   {
    "duration": 721,
    "start_time": "2021-08-15T15:41:58.986Z"
   },
   {
    "duration": 3,
    "start_time": "2021-08-15T15:41:59.710Z"
   },
   {
    "duration": 6,
    "start_time": "2021-08-15T15:41:59.716Z"
   },
   {
    "duration": 9,
    "start_time": "2021-08-15T15:41:59.724Z"
   },
   {
    "duration": 33,
    "start_time": "2021-08-15T15:41:59.735Z"
   },
   {
    "duration": 19,
    "start_time": "2021-08-15T15:41:59.770Z"
   },
   {
    "duration": 10,
    "start_time": "2021-08-15T15:41:59.792Z"
   },
   {
    "duration": 122,
    "start_time": "2021-08-15T15:41:59.811Z"
   },
   {
    "duration": 19,
    "start_time": "2021-08-15T15:41:59.936Z"
   },
   {
    "duration": 57,
    "start_time": "2021-08-15T15:41:59.958Z"
   },
   {
    "duration": 11,
    "start_time": "2021-08-15T15:42:00.017Z"
   },
   {
    "duration": 33,
    "start_time": "2021-08-15T15:42:00.031Z"
   },
   {
    "duration": 563,
    "start_time": "2021-08-15T15:42:00.067Z"
   },
   {
    "duration": 315,
    "start_time": "2021-08-15T15:42:00.632Z"
   },
   {
    "duration": 29,
    "start_time": "2021-08-15T15:42:00.954Z"
   },
   {
    "duration": 459,
    "start_time": "2021-08-15T15:42:00.985Z"
   },
   {
    "duration": 100,
    "start_time": "2021-08-15T15:42:01.347Z"
   },
   {
    "duration": 92,
    "start_time": "2021-08-15T15:42:01.357Z"
   },
   {
    "duration": 86,
    "start_time": "2021-08-15T15:42:01.364Z"
   },
   {
    "duration": 83,
    "start_time": "2021-08-15T15:42:01.369Z"
   },
   {
    "duration": 77,
    "start_time": "2021-08-15T15:42:01.376Z"
   },
   {
    "duration": 74,
    "start_time": "2021-08-15T15:42:01.381Z"
   },
   {
    "duration": 68,
    "start_time": "2021-08-15T15:42:01.388Z"
   },
   {
    "duration": 64,
    "start_time": "2021-08-15T15:42:01.394Z"
   },
   {
    "duration": 59,
    "start_time": "2021-08-15T15:42:01.400Z"
   },
   {
    "duration": 55,
    "start_time": "2021-08-15T15:42:01.405Z"
   },
   {
    "duration": 51,
    "start_time": "2021-08-15T15:42:01.411Z"
   },
   {
    "duration": 46,
    "start_time": "2021-08-15T15:42:01.417Z"
   },
   {
    "duration": 40,
    "start_time": "2021-08-15T15:42:01.424Z"
   },
   {
    "duration": 37,
    "start_time": "2021-08-15T15:42:01.429Z"
   },
   {
    "duration": 32,
    "start_time": "2021-08-15T15:42:01.435Z"
   },
   {
    "duration": 27,
    "start_time": "2021-08-15T15:42:01.441Z"
   },
   {
    "duration": 23,
    "start_time": "2021-08-15T15:42:01.447Z"
   },
   {
    "duration": 21,
    "start_time": "2021-08-15T15:42:01.450Z"
   },
   {
    "duration": 17,
    "start_time": "2021-08-15T15:42:01.455Z"
   },
   {
    "duration": 16,
    "start_time": "2021-08-15T15:42:01.458Z"
   },
   {
    "duration": 13,
    "start_time": "2021-08-15T15:42:01.462Z"
   },
   {
    "duration": 10,
    "start_time": "2021-08-15T15:42:01.466Z"
   },
   {
    "duration": 8,
    "start_time": "2021-08-15T15:42:01.470Z"
   },
   {
    "duration": 6,
    "start_time": "2021-08-15T15:42:01.473Z"
   },
   {
    "duration": 3,
    "start_time": "2021-08-15T15:42:01.477Z"
   },
   {
    "duration": 2,
    "start_time": "2021-08-15T15:42:01.480Z"
   },
   {
    "duration": 22,
    "start_time": "2021-08-15T15:44:31.412Z"
   },
   {
    "duration": 39,
    "start_time": "2021-08-15T15:44:53.301Z"
   },
   {
    "duration": 6770,
    "start_time": "2021-08-15T15:44:54.832Z"
   },
   {
    "duration": 259,
    "start_time": "2021-08-15T15:46:09.232Z"
   },
   {
    "duration": 30,
    "start_time": "2021-08-15T15:47:04.820Z"
   },
   {
    "duration": 1859,
    "start_time": "2021-08-15T15:47:25.185Z"
   },
   {
    "duration": 3,
    "start_time": "2021-08-15T15:47:27.047Z"
   },
   {
    "duration": 783,
    "start_time": "2021-08-15T15:47:27.056Z"
   },
   {
    "duration": 16,
    "start_time": "2021-08-15T15:47:27.841Z"
   },
   {
    "duration": 66,
    "start_time": "2021-08-15T15:47:27.860Z"
   },
   {
    "duration": 346,
    "start_time": "2021-08-15T15:47:27.928Z"
   },
   {
    "duration": 5,
    "start_time": "2021-08-15T15:47:28.277Z"
   },
   {
    "duration": 6,
    "start_time": "2021-08-15T15:47:28.284Z"
   },
   {
    "duration": 249,
    "start_time": "2021-08-15T15:47:28.292Z"
   },
   {
    "duration": 41,
    "start_time": "2021-08-15T15:47:28.544Z"
   },
   {
    "duration": 13,
    "start_time": "2021-08-15T15:47:28.588Z"
   },
   {
    "duration": 52,
    "start_time": "2021-08-15T15:47:28.604Z"
   },
   {
    "duration": 12,
    "start_time": "2021-08-15T15:47:28.659Z"
   },
   {
    "duration": 14,
    "start_time": "2021-08-15T15:47:28.674Z"
   },
   {
    "duration": 26,
    "start_time": "2021-08-15T15:47:28.691Z"
   },
   {
    "duration": 7,
    "start_time": "2021-08-15T15:47:28.755Z"
   },
   {
    "duration": 5,
    "start_time": "2021-08-15T15:47:28.765Z"
   },
   {
    "duration": 10,
    "start_time": "2021-08-15T15:47:28.774Z"
   },
   {
    "duration": 21,
    "start_time": "2021-08-15T15:47:28.786Z"
   },
   {
    "duration": 49,
    "start_time": "2021-08-15T15:47:28.809Z"
   },
   {
    "duration": 10,
    "start_time": "2021-08-15T15:47:28.861Z"
   },
   {
    "duration": 8,
    "start_time": "2021-08-15T15:47:28.878Z"
   },
   {
    "duration": 8,
    "start_time": "2021-08-15T15:47:28.890Z"
   },
   {
    "duration": 5,
    "start_time": "2021-08-15T15:47:28.900Z"
   },
   {
    "duration": 58,
    "start_time": "2021-08-15T15:47:28.907Z"
   },
   {
    "duration": 22,
    "start_time": "2021-08-15T15:47:28.968Z"
   },
   {
    "duration": 449,
    "start_time": "2021-08-15T15:47:28.993Z"
   },
   {
    "duration": 33,
    "start_time": "2021-08-15T15:47:29.445Z"
   },
   {
    "duration": 249,
    "start_time": "2021-08-15T15:47:29.481Z"
   },
   {
    "duration": 158,
    "start_time": "2021-08-15T15:47:29.733Z"
   },
   {
    "duration": 118,
    "start_time": "2021-08-15T15:47:29.894Z"
   },
   {
    "duration": 5,
    "start_time": "2021-08-15T15:47:30.014Z"
   },
   {
    "duration": 433,
    "start_time": "2021-08-15T15:47:30.021Z"
   },
   {
    "duration": 451,
    "start_time": "2021-08-15T15:47:30.456Z"
   },
   {
    "duration": 781,
    "start_time": "2021-08-15T15:47:30.909Z"
   },
   {
    "duration": 450,
    "start_time": "2021-08-15T15:47:31.693Z"
   },
   {
    "duration": 48,
    "start_time": "2021-08-15T15:47:32.145Z"
   },
   {
    "duration": 7,
    "start_time": "2021-08-15T15:47:32.195Z"
   },
   {
    "duration": 15,
    "start_time": "2021-08-15T15:47:32.205Z"
   },
   {
    "duration": 56,
    "start_time": "2021-08-15T15:47:32.222Z"
   },
   {
    "duration": 41,
    "start_time": "2021-08-15T15:47:32.280Z"
   },
   {
    "duration": 54,
    "start_time": "2021-08-15T15:47:32.323Z"
   },
   {
    "duration": 13,
    "start_time": "2021-08-15T15:47:32.379Z"
   },
   {
    "duration": 350,
    "start_time": "2021-08-15T15:47:32.394Z"
   },
   {
    "duration": 14,
    "start_time": "2021-08-15T15:47:32.754Z"
   },
   {
    "duration": 291,
    "start_time": "2021-08-15T15:47:32.770Z"
   },
   {
    "duration": 58,
    "start_time": "2021-08-15T15:47:33.064Z"
   },
   {
    "duration": 169,
    "start_time": "2021-08-15T15:47:33.125Z"
   },
   {
    "duration": 16,
    "start_time": "2021-08-15T15:47:33.297Z"
   },
   {
    "duration": 18,
    "start_time": "2021-08-15T15:47:33.315Z"
   },
   {
    "duration": 29,
    "start_time": "2021-08-15T15:47:33.335Z"
   },
   {
    "duration": 56,
    "start_time": "2021-08-15T15:47:33.366Z"
   },
   {
    "duration": 1089,
    "start_time": "2021-08-15T15:47:33.425Z"
   },
   {
    "duration": 6,
    "start_time": "2021-08-15T15:47:34.516Z"
   },
   {
    "duration": 62,
    "start_time": "2021-08-15T15:47:34.525Z"
   },
   {
    "duration": 445,
    "start_time": "2021-08-15T15:47:34.590Z"
   },
   {
    "duration": 47,
    "start_time": "2021-08-15T15:47:35.037Z"
   },
   {
    "duration": 13,
    "start_time": "2021-08-15T15:47:35.087Z"
   },
   {
    "duration": 195,
    "start_time": "2021-08-15T15:47:35.103Z"
   },
   {
    "duration": 696,
    "start_time": "2021-08-15T15:47:35.300Z"
   },
   {
    "duration": 607,
    "start_time": "2021-08-15T15:47:35.998Z"
   },
   {
    "duration": 3,
    "start_time": "2021-08-15T15:47:36.607Z"
   },
   {
    "duration": 13,
    "start_time": "2021-08-15T15:47:36.612Z"
   },
   {
    "duration": 6,
    "start_time": "2021-08-15T15:47:36.627Z"
   },
   {
    "duration": 30,
    "start_time": "2021-08-15T15:47:36.636Z"
   },
   {
    "duration": 25,
    "start_time": "2021-08-15T15:47:36.668Z"
   },
   {
    "duration": 9,
    "start_time": "2021-08-15T15:47:36.700Z"
   },
   {
    "duration": 110,
    "start_time": "2021-08-15T15:47:36.712Z"
   },
   {
    "duration": 5,
    "start_time": "2021-08-15T15:47:36.825Z"
   },
   {
    "duration": 61,
    "start_time": "2021-08-15T15:47:36.832Z"
   },
   {
    "duration": 10,
    "start_time": "2021-08-15T15:47:36.895Z"
   },
   {
    "duration": 11,
    "start_time": "2021-08-15T15:47:36.908Z"
   },
   {
    "duration": 568,
    "start_time": "2021-08-15T15:47:36.921Z"
   },
   {
    "duration": 308,
    "start_time": "2021-08-15T15:47:37.492Z"
   },
   {
    "duration": 25,
    "start_time": "2021-08-15T15:47:37.802Z"
   },
   {
    "duration": 40,
    "start_time": "2021-08-15T15:47:37.830Z"
   },
   {
    "duration": 122,
    "start_time": "2021-08-15T15:47:37.873Z"
   },
   {
    "duration": 68,
    "start_time": "2021-08-15T15:47:37.997Z"
   },
   {
    "duration": 10,
    "start_time": "2021-08-15T15:47:38.067Z"
   },
   {
    "duration": 28,
    "start_time": "2021-08-15T15:47:38.079Z"
   },
   {
    "duration": 20,
    "start_time": "2021-08-15T15:47:38.110Z"
   },
   {
    "duration": 290,
    "start_time": "2021-08-15T15:47:38.133Z"
   },
   {
    "duration": 8,
    "start_time": "2021-08-15T15:47:38.426Z"
   },
   {
    "duration": 306,
    "start_time": "2021-08-15T15:47:38.437Z"
   },
   {
    "duration": 465,
    "start_time": "2021-08-15T15:47:38.745Z"
   },
   {
    "duration": 877,
    "start_time": "2021-08-15T15:47:39.213Z"
   },
   {
    "duration": 613,
    "start_time": "2021-08-15T15:47:40.092Z"
   },
   {
    "duration": 21,
    "start_time": "2021-08-15T15:47:40.707Z"
   },
   {
    "duration": 496,
    "start_time": "2021-08-15T15:47:40.731Z"
   },
   {
    "duration": 25,
    "start_time": "2021-08-15T15:47:41.229Z"
   },
   {
    "duration": 13,
    "start_time": "2021-08-15T15:47:41.257Z"
   },
   {
    "duration": 42,
    "start_time": "2021-08-15T15:47:41.272Z"
   },
   {
    "duration": 1062,
    "start_time": "2021-08-15T15:47:41.316Z"
   },
   {
    "duration": 14,
    "start_time": "2021-08-15T15:47:42.380Z"
   },
   {
    "duration": 73,
    "start_time": "2021-08-15T15:47:42.396Z"
   },
   {
    "duration": 453,
    "start_time": "2021-08-15T15:47:42.471Z"
   },
   {
    "duration": 6,
    "start_time": "2021-08-15T15:47:42.927Z"
   },
   {
    "duration": 34,
    "start_time": "2021-08-15T15:47:42.935Z"
   },
   {
    "duration": 39,
    "start_time": "2021-08-15T15:47:42.971Z"
   },
   {
    "duration": 24,
    "start_time": "2021-08-15T15:47:43.012Z"
   },
   {
    "duration": 500,
    "start_time": "2021-08-15T15:47:43.038Z"
   },
   {
    "duration": 583,
    "start_time": "2021-08-15T15:47:43.540Z"
   },
   {
    "duration": 76,
    "start_time": "2021-08-15T15:48:40.985Z"
   },
   {
    "duration": 1983,
    "start_time": "2021-08-15T15:49:26.080Z"
   },
   {
    "duration": 5,
    "start_time": "2021-08-15T15:49:28.066Z"
   },
   {
    "duration": 803,
    "start_time": "2021-08-15T15:49:28.074Z"
   },
   {
    "duration": 17,
    "start_time": "2021-08-15T15:49:28.879Z"
   },
   {
    "duration": 66,
    "start_time": "2021-08-15T15:49:28.898Z"
   },
   {
    "duration": 333,
    "start_time": "2021-08-15T15:49:28.966Z"
   },
   {
    "duration": 6,
    "start_time": "2021-08-15T15:49:29.302Z"
   },
   {
    "duration": 5,
    "start_time": "2021-08-15T15:49:29.314Z"
   },
   {
    "duration": 471,
    "start_time": "2021-08-15T15:49:29.323Z"
   },
   {
    "duration": 65,
    "start_time": "2021-08-15T15:49:29.797Z"
   },
   {
    "duration": 11,
    "start_time": "2021-08-15T15:49:29.866Z"
   },
   {
    "duration": 23,
    "start_time": "2021-08-15T15:49:29.879Z"
   },
   {
    "duration": 12,
    "start_time": "2021-08-15T15:49:29.905Z"
   },
   {
    "duration": 42,
    "start_time": "2021-08-15T15:49:29.920Z"
   },
   {
    "duration": 23,
    "start_time": "2021-08-15T15:49:29.965Z"
   },
   {
    "duration": 8,
    "start_time": "2021-08-15T15:49:29.990Z"
   },
   {
    "duration": 20,
    "start_time": "2021-08-15T15:49:30.001Z"
   },
   {
    "duration": 36,
    "start_time": "2021-08-15T15:49:30.023Z"
   },
   {
    "duration": 35,
    "start_time": "2021-08-15T15:49:30.062Z"
   },
   {
    "duration": 15,
    "start_time": "2021-08-15T15:49:30.100Z"
   },
   {
    "duration": 24,
    "start_time": "2021-08-15T15:49:30.118Z"
   },
   {
    "duration": 19,
    "start_time": "2021-08-15T15:49:30.155Z"
   },
   {
    "duration": 13,
    "start_time": "2021-08-15T15:49:30.184Z"
   },
   {
    "duration": 53,
    "start_time": "2021-08-15T15:49:30.202Z"
   },
   {
    "duration": 23,
    "start_time": "2021-08-15T15:49:30.258Z"
   },
   {
    "duration": 72,
    "start_time": "2021-08-15T15:49:30.283Z"
   },
   {
    "duration": 541,
    "start_time": "2021-08-15T15:49:30.358Z"
   },
   {
    "duration": 23,
    "start_time": "2021-08-15T15:49:30.901Z"
   },
   {
    "duration": 203,
    "start_time": "2021-08-15T15:49:30.926Z"
   },
   {
    "duration": 115,
    "start_time": "2021-08-15T15:49:31.131Z"
   },
   {
    "duration": 100,
    "start_time": "2021-08-15T15:49:31.248Z"
   },
   {
    "duration": 6,
    "start_time": "2021-08-15T15:49:31.351Z"
   },
   {
    "duration": 515,
    "start_time": "2021-08-15T15:49:31.359Z"
   },
   {
    "duration": 638,
    "start_time": "2021-08-15T15:49:31.876Z"
   },
   {
    "duration": 591,
    "start_time": "2021-08-15T15:49:32.516Z"
   },
   {
    "duration": 362,
    "start_time": "2021-08-15T15:49:33.110Z"
   },
   {
    "duration": 44,
    "start_time": "2021-08-15T15:49:33.475Z"
   },
   {
    "duration": 32,
    "start_time": "2021-08-15T15:49:33.522Z"
   },
   {
    "duration": 13,
    "start_time": "2021-08-15T15:49:33.557Z"
   },
   {
    "duration": 27,
    "start_time": "2021-08-15T15:49:33.572Z"
   },
   {
    "duration": 67,
    "start_time": "2021-08-15T15:49:33.602Z"
   },
   {
    "duration": 25,
    "start_time": "2021-08-15T15:49:33.672Z"
   },
   {
    "duration": 13,
    "start_time": "2021-08-15T15:49:33.700Z"
   },
   {
    "duration": 366,
    "start_time": "2021-08-15T15:49:33.715Z"
   },
   {
    "duration": 13,
    "start_time": "2021-08-15T15:49:34.083Z"
   },
   {
    "duration": 303,
    "start_time": "2021-08-15T15:49:34.099Z"
   },
   {
    "duration": 74,
    "start_time": "2021-08-15T15:49:34.404Z"
   },
   {
    "duration": 152,
    "start_time": "2021-08-15T15:49:34.480Z"
   },
   {
    "duration": 24,
    "start_time": "2021-08-15T15:49:34.635Z"
   },
   {
    "duration": 14,
    "start_time": "2021-08-15T15:49:34.661Z"
   },
   {
    "duration": 18,
    "start_time": "2021-08-15T15:49:34.678Z"
   },
   {
    "duration": 72,
    "start_time": "2021-08-15T15:49:34.699Z"
   },
   {
    "duration": 1088,
    "start_time": "2021-08-15T15:49:34.774Z"
   },
   {
    "duration": 5,
    "start_time": "2021-08-15T15:49:35.865Z"
   },
   {
    "duration": 41,
    "start_time": "2021-08-15T15:49:35.873Z"
   },
   {
    "duration": 490,
    "start_time": "2021-08-15T15:49:35.917Z"
   },
   {
    "duration": 50,
    "start_time": "2021-08-15T15:49:36.410Z"
   },
   {
    "duration": 13,
    "start_time": "2021-08-15T15:49:36.463Z"
   },
   {
    "duration": 182,
    "start_time": "2021-08-15T15:49:36.478Z"
   },
   {
    "duration": 714,
    "start_time": "2021-08-15T15:49:36.663Z"
   },
   {
    "duration": 623,
    "start_time": "2021-08-15T15:49:37.380Z"
   },
   {
    "duration": 5,
    "start_time": "2021-08-15T15:49:38.006Z"
   },
   {
    "duration": 9,
    "start_time": "2021-08-15T15:49:38.015Z"
   },
   {
    "duration": 28,
    "start_time": "2021-08-15T15:49:38.026Z"
   },
   {
    "duration": 30,
    "start_time": "2021-08-15T15:49:38.057Z"
   },
   {
    "duration": 35,
    "start_time": "2021-08-15T15:49:38.089Z"
   },
   {
    "duration": 9,
    "start_time": "2021-08-15T15:49:38.126Z"
   },
   {
    "duration": 91,
    "start_time": "2021-08-15T15:49:38.143Z"
   },
   {
    "duration": 18,
    "start_time": "2021-08-15T15:49:38.237Z"
   },
   {
    "duration": 59,
    "start_time": "2021-08-15T15:49:38.258Z"
   },
   {
    "duration": 12,
    "start_time": "2021-08-15T15:49:38.319Z"
   },
   {
    "duration": 12,
    "start_time": "2021-08-15T15:49:38.355Z"
   },
   {
    "duration": 562,
    "start_time": "2021-08-15T15:49:38.370Z"
   },
   {
    "duration": 350,
    "start_time": "2021-08-15T15:49:38.935Z"
   },
   {
    "duration": 27,
    "start_time": "2021-08-15T15:49:39.288Z"
   },
   {
    "duration": 50,
    "start_time": "2021-08-15T15:49:39.318Z"
   },
   {
    "duration": 122,
    "start_time": "2021-08-15T15:49:39.371Z"
   },
   {
    "duration": 71,
    "start_time": "2021-08-15T15:49:39.496Z"
   },
   {
    "duration": 21,
    "start_time": "2021-08-15T15:49:39.570Z"
   },
   {
    "duration": 27,
    "start_time": "2021-08-15T15:49:39.593Z"
   },
   {
    "duration": 12,
    "start_time": "2021-08-15T15:49:39.623Z"
   },
   {
    "duration": 467,
    "start_time": "2021-08-15T15:49:39.638Z"
   },
   {
    "duration": 10,
    "start_time": "2021-08-15T15:49:40.108Z"
   },
   {
    "duration": 477,
    "start_time": "2021-08-15T15:49:40.122Z"
   },
   {
    "duration": 553,
    "start_time": "2021-08-15T15:49:40.602Z"
   },
   {
    "duration": 857,
    "start_time": "2021-08-15T15:49:41.157Z"
   },
   {
    "duration": 617,
    "start_time": "2021-08-15T15:49:42.016Z"
   },
   {
    "duration": 44,
    "start_time": "2021-08-15T15:49:42.637Z"
   },
   {
    "duration": 722,
    "start_time": "2021-08-15T15:49:42.684Z"
   },
   {
    "duration": 13,
    "start_time": "2021-08-15T15:49:43.409Z"
   },
   {
    "duration": 16,
    "start_time": "2021-08-15T15:49:43.425Z"
   },
   {
    "duration": 31,
    "start_time": "2021-08-15T15:49:43.443Z"
   },
   {
    "duration": 1079,
    "start_time": "2021-08-15T15:49:43.476Z"
   },
   {
    "duration": 19,
    "start_time": "2021-08-15T15:49:44.558Z"
   },
   {
    "duration": 77,
    "start_time": "2021-08-15T15:49:44.579Z"
   },
   {
    "duration": 449,
    "start_time": "2021-08-15T15:49:44.658Z"
   },
   {
    "duration": 6,
    "start_time": "2021-08-15T15:49:45.110Z"
   },
   {
    "duration": 14,
    "start_time": "2021-08-15T15:49:45.119Z"
   },
   {
    "duration": 23,
    "start_time": "2021-08-15T15:49:45.135Z"
   },
   {
    "duration": 9,
    "start_time": "2021-08-15T15:49:45.160Z"
   },
   {
    "duration": 569,
    "start_time": "2021-08-15T15:49:45.172Z"
   },
   {
    "duration": 605,
    "start_time": "2021-08-15T15:49:45.743Z"
   },
   {
    "duration": 540,
    "start_time": "2021-08-15T15:50:56.907Z"
   },
   {
    "duration": 447,
    "start_time": "2021-08-15T15:51:01.731Z"
   },
   {
    "duration": 536,
    "start_time": "2021-08-15T15:51:39.933Z"
   },
   {
    "duration": 1005,
    "start_time": "2021-08-15T15:51:59.788Z"
   },
   {
    "duration": 800,
    "start_time": "2021-08-15T15:52:06.091Z"
   },
   {
    "duration": 543,
    "start_time": "2021-08-15T15:52:29.007Z"
   },
   {
    "duration": 306,
    "start_time": "2021-08-15T15:52:32.598Z"
   },
   {
    "duration": 387,
    "start_time": "2021-08-15T15:52:40.561Z"
   },
   {
    "duration": 524,
    "start_time": "2021-08-15T15:52:42.034Z"
   },
   {
    "duration": 329,
    "start_time": "2021-08-15T15:52:42.731Z"
   },
   {
    "duration": 173,
    "start_time": "2021-08-15T15:54:06.282Z"
   },
   {
    "duration": 399,
    "start_time": "2021-08-15T15:54:11.328Z"
   },
   {
    "duration": 151,
    "start_time": "2021-08-15T15:54:22.084Z"
   },
   {
    "duration": 325,
    "start_time": "2021-08-15T15:54:27.356Z"
   },
   {
    "duration": 514,
    "start_time": "2021-08-15T15:56:05.921Z"
   },
   {
    "duration": 522,
    "start_time": "2021-08-15T15:56:59.093Z"
   },
   {
    "duration": 754,
    "start_time": "2021-08-15T15:57:33.961Z"
   },
   {
    "duration": 519,
    "start_time": "2021-08-15T15:57:43.927Z"
   },
   {
    "duration": 526,
    "start_time": "2021-08-15T15:58:10.382Z"
   },
   {
    "duration": 533,
    "start_time": "2021-08-15T15:58:35.998Z"
   },
   {
    "duration": 542,
    "start_time": "2021-08-15T15:58:44.129Z"
   },
   {
    "duration": 323,
    "start_time": "2021-08-15T15:59:10.106Z"
   },
   {
    "duration": 428,
    "start_time": "2021-08-15T15:59:32.530Z"
   },
   {
    "duration": 2257,
    "start_time": "2021-08-16T07:26:06.780Z"
   },
   {
    "duration": 4,
    "start_time": "2021-08-16T07:26:09.039Z"
   },
   {
    "duration": 843,
    "start_time": "2021-08-16T07:26:09.046Z"
   },
   {
    "duration": 16,
    "start_time": "2021-08-16T07:26:09.891Z"
   },
   {
    "duration": 68,
    "start_time": "2021-08-16T07:26:09.909Z"
   },
   {
    "duration": 341,
    "start_time": "2021-08-16T07:26:09.979Z"
   },
   {
    "duration": 5,
    "start_time": "2021-08-16T07:26:10.322Z"
   },
   {
    "duration": 11,
    "start_time": "2021-08-16T07:26:10.331Z"
   },
   {
    "duration": 225,
    "start_time": "2021-08-16T07:26:10.356Z"
   },
   {
    "duration": 34,
    "start_time": "2021-08-16T07:26:10.584Z"
   },
   {
    "duration": 9,
    "start_time": "2021-08-16T07:26:10.621Z"
   },
   {
    "duration": 38,
    "start_time": "2021-08-16T07:26:10.633Z"
   },
   {
    "duration": 9,
    "start_time": "2021-08-16T07:26:10.674Z"
   },
   {
    "duration": 23,
    "start_time": "2021-08-16T07:26:10.685Z"
   },
   {
    "duration": 57,
    "start_time": "2021-08-16T07:26:10.710Z"
   },
   {
    "duration": 6,
    "start_time": "2021-08-16T07:26:10.771Z"
   },
   {
    "duration": 18,
    "start_time": "2021-08-16T07:26:10.780Z"
   },
   {
    "duration": 18,
    "start_time": "2021-08-16T07:26:10.800Z"
   },
   {
    "duration": 35,
    "start_time": "2021-08-16T07:26:10.821Z"
   },
   {
    "duration": 9,
    "start_time": "2021-08-16T07:26:10.858Z"
   },
   {
    "duration": 15,
    "start_time": "2021-08-16T07:26:10.869Z"
   },
   {
    "duration": 11,
    "start_time": "2021-08-16T07:26:10.886Z"
   },
   {
    "duration": 18,
    "start_time": "2021-08-16T07:26:10.903Z"
   },
   {
    "duration": 31,
    "start_time": "2021-08-16T07:26:10.925Z"
   },
   {
    "duration": 14,
    "start_time": "2021-08-16T07:26:10.959Z"
   },
   {
    "duration": 31,
    "start_time": "2021-08-16T07:26:10.975Z"
   },
   {
    "duration": 439,
    "start_time": "2021-08-16T07:26:11.008Z"
   },
   {
    "duration": 24,
    "start_time": "2021-08-16T07:26:11.450Z"
   },
   {
    "duration": 155,
    "start_time": "2021-08-16T07:26:11.476Z"
   },
   {
    "duration": 123,
    "start_time": "2021-08-16T07:26:11.633Z"
   },
   {
    "duration": 109,
    "start_time": "2021-08-16T07:26:11.758Z"
   },
   {
    "duration": 4,
    "start_time": "2021-08-16T07:26:11.869Z"
   },
   {
    "duration": 361,
    "start_time": "2021-08-16T07:26:11.875Z"
   },
   {
    "duration": 422,
    "start_time": "2021-08-16T07:26:12.238Z"
   },
   {
    "duration": 550,
    "start_time": "2021-08-16T07:26:12.662Z"
   },
   {
    "duration": 348,
    "start_time": "2021-08-16T07:26:13.214Z"
   },
   {
    "duration": 42,
    "start_time": "2021-08-16T07:26:13.565Z"
   },
   {
    "duration": 7,
    "start_time": "2021-08-16T07:26:13.609Z"
   },
   {
    "duration": 45,
    "start_time": "2021-08-16T07:26:13.618Z"
   },
   {
    "duration": 26,
    "start_time": "2021-08-16T07:26:13.665Z"
   },
   {
    "duration": 63,
    "start_time": "2021-08-16T07:26:13.693Z"
   },
   {
    "duration": 27,
    "start_time": "2021-08-16T07:26:13.758Z"
   },
   {
    "duration": 13,
    "start_time": "2021-08-16T07:26:13.788Z"
   },
   {
    "duration": 370,
    "start_time": "2021-08-16T07:26:13.804Z"
   },
   {
    "duration": 13,
    "start_time": "2021-08-16T07:26:14.177Z"
   },
   {
    "duration": 314,
    "start_time": "2021-08-16T07:26:14.193Z"
   },
   {
    "duration": 77,
    "start_time": "2021-08-16T07:26:14.510Z"
   },
   {
    "duration": 153,
    "start_time": "2021-08-16T07:26:14.589Z"
   },
   {
    "duration": 24,
    "start_time": "2021-08-16T07:26:14.744Z"
   },
   {
    "duration": 11,
    "start_time": "2021-08-16T07:26:14.770Z"
   },
   {
    "duration": 28,
    "start_time": "2021-08-16T07:26:14.783Z"
   },
   {
    "duration": 56,
    "start_time": "2021-08-16T07:26:14.813Z"
   },
   {
    "duration": 951,
    "start_time": "2021-08-16T07:26:14.872Z"
   },
   {
    "duration": 6,
    "start_time": "2021-08-16T07:26:15.825Z"
   },
   {
    "duration": 59,
    "start_time": "2021-08-16T07:26:15.833Z"
   },
   {
    "duration": 464,
    "start_time": "2021-08-16T07:26:15.895Z"
   },
   {
    "duration": 42,
    "start_time": "2021-08-16T07:26:16.361Z"
   },
   {
    "duration": 15,
    "start_time": "2021-08-16T07:26:16.405Z"
   },
   {
    "duration": 194,
    "start_time": "2021-08-16T07:26:16.423Z"
   },
   {
    "duration": 900,
    "start_time": "2021-08-16T07:26:16.619Z"
   },
   {
    "duration": 642,
    "start_time": "2021-08-16T07:26:17.522Z"
   },
   {
    "duration": 2,
    "start_time": "2021-08-16T07:26:18.167Z"
   },
   {
    "duration": 9,
    "start_time": "2021-08-16T07:26:18.172Z"
   },
   {
    "duration": 13,
    "start_time": "2021-08-16T07:26:18.183Z"
   },
   {
    "duration": 18,
    "start_time": "2021-08-16T07:26:18.198Z"
   },
   {
    "duration": 49,
    "start_time": "2021-08-16T07:26:18.218Z"
   },
   {
    "duration": 9,
    "start_time": "2021-08-16T07:26:18.269Z"
   },
   {
    "duration": 95,
    "start_time": "2021-08-16T07:26:18.286Z"
   },
   {
    "duration": 5,
    "start_time": "2021-08-16T07:26:18.384Z"
   },
   {
    "duration": 64,
    "start_time": "2021-08-16T07:26:18.392Z"
   },
   {
    "duration": 10,
    "start_time": "2021-08-16T07:26:18.458Z"
   },
   {
    "duration": 13,
    "start_time": "2021-08-16T07:26:18.471Z"
   },
   {
    "duration": 548,
    "start_time": "2021-08-16T07:26:18.486Z"
   },
   {
    "duration": 301,
    "start_time": "2021-08-16T07:26:19.036Z"
   },
   {
    "duration": 33,
    "start_time": "2021-08-16T07:26:19.340Z"
   },
   {
    "duration": 21,
    "start_time": "2021-08-16T07:26:19.376Z"
   },
   {
    "duration": 125,
    "start_time": "2021-08-16T07:26:19.400Z"
   },
   {
    "duration": 67,
    "start_time": "2021-08-16T07:26:19.528Z"
   },
   {
    "duration": 11,
    "start_time": "2021-08-16T07:26:19.598Z"
   },
   {
    "duration": 8,
    "start_time": "2021-08-16T07:26:19.612Z"
   },
   {
    "duration": 6,
    "start_time": "2021-08-16T07:26:19.657Z"
   },
   {
    "duration": 301,
    "start_time": "2021-08-16T07:26:19.666Z"
   },
   {
    "duration": 9,
    "start_time": "2021-08-16T07:26:19.970Z"
   },
   {
    "duration": 304,
    "start_time": "2021-08-16T07:26:19.982Z"
   },
   {
    "duration": 451,
    "start_time": "2021-08-16T07:26:20.288Z"
   },
   {
    "duration": 1018,
    "start_time": "2021-08-16T07:26:20.741Z"
   },
   {
    "duration": 625,
    "start_time": "2021-08-16T07:26:21.761Z"
   },
   {
    "duration": 22,
    "start_time": "2021-08-16T07:26:22.388Z"
   },
   {
    "duration": 485,
    "start_time": "2021-08-16T07:26:22.413Z"
   },
   {
    "duration": 12,
    "start_time": "2021-08-16T07:26:22.901Z"
   },
   {
    "duration": 23,
    "start_time": "2021-08-16T07:26:22.915Z"
   },
   {
    "duration": 31,
    "start_time": "2021-08-16T07:26:22.940Z"
   },
   {
    "duration": 1014,
    "start_time": "2021-08-16T07:26:22.973Z"
   },
   {
    "duration": 13,
    "start_time": "2021-08-16T07:26:23.990Z"
   },
   {
    "duration": 63,
    "start_time": "2021-08-16T07:26:24.005Z"
   },
   {
    "duration": 453,
    "start_time": "2021-08-16T07:26:24.071Z"
   },
   {
    "duration": 7,
    "start_time": "2021-08-16T07:26:24.526Z"
   },
   {
    "duration": 30,
    "start_time": "2021-08-16T07:26:24.535Z"
   },
   {
    "duration": 16,
    "start_time": "2021-08-16T07:26:24.567Z"
   },
   {
    "duration": 16,
    "start_time": "2021-08-16T07:26:24.586Z"
   },
   {
    "duration": 478,
    "start_time": "2021-08-16T07:26:24.605Z"
   },
   {
    "duration": 589,
    "start_time": "2021-08-16T07:26:25.085Z"
   }
  ],
  "kernelspec": {
   "display_name": "Python 3",
   "language": "python",
   "name": "python3"
  },
  "language_info": {
   "codemirror_mode": {
    "name": "ipython",
    "version": 3
   },
   "file_extension": ".py",
   "mimetype": "text/x-python",
   "name": "python",
   "nbconvert_exporter": "python",
   "pygments_lexer": "ipython3",
   "version": "3.9.5"
  },
  "toc": {
   "base_numbering": 1,
   "nav_menu": {},
   "number_sections": true,
   "sideBar": true,
   "skip_h1_title": true,
   "title_cell": "Table of Contents",
   "title_sidebar": "Contents",
   "toc_cell": false,
   "toc_position": {},
   "toc_section_display": true,
   "toc_window_display": false
  }
 },
 "nbformat": 4,
 "nbformat_minor": 2
}
