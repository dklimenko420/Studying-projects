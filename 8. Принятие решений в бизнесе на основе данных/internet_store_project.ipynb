{
 "cells": [
  {
   "cell_type": "markdown",
   "metadata": {},
   "source": [
    "Вы — аналитик крупного интернет-магазина. \n",
    "Вместе с отделом маркетинга вы подготовили список гипотез для увеличения выручки.\n",
    "\n",
    "Приоритизируйте гипотезы, запустите A/B-тест и проанализируйте результаты."
   ]
  },
  {
   "cell_type": "markdown",
   "metadata": {},
   "source": [
    "# Описание данных:"
   ]
  },
  {
   "cell_type": "markdown",
   "metadata": {},
   "source": [
    "__Файл hypothesis.csv:__\n",
    "\n",
    "- Hypothesis — краткое описание гипотезы;\n",
    "- Reach — охват пользователей по 10-балльной шкале;\n",
    "- Impact — влияние на пользователей по 10-балльной шкале;\n",
    "- Confidence — уверенность в гипотезе по 10-балльной шкале;\n",
    "- Efforts — затраты ресурсов на проверку гипотезы по 10-балльной шкале. Чем больше значение Efforts, тем дороже проверка гипотезы."
   ]
  },
  {
   "cell_type": "markdown",
   "metadata": {},
   "source": [
    "__Файл orders.csv:__\n",
    "- transactionId — идентификатор заказа;\n",
    "- visitorId — идентификатор пользователя, совершившего заказ;\n",
    "- date — дата, когда был совершён заказ;\n",
    "- revenue — выручка заказа;\n",
    "- group — группа A/B-теста, в которую попал заказ."
   ]
  },
  {
   "cell_type": "markdown",
   "metadata": {},
   "source": [
    "__Файл visitors.csv__\n",
    "- date — дата;\n",
    "- group — группа A/B-теста;\n",
    "- visitors — количество пользователей в указанную дату в указанной группе A/B-теста"
   ]
  },
  {
   "cell_type": "markdown",
   "metadata": {},
   "source": [
    "# Часть 1. Приоритизация гипотез."
   ]
  },
  {
   "cell_type": "code",
   "execution_count": 1,
   "metadata": {},
   "outputs": [],
   "source": [
    "import pandas as pd\n",
    "import matplotlib.pyplot as plt\n",
    "from pandas.plotting import register_matplotlib_converters\n",
    "\n",
    "import seaborn as sns\n",
    "sns.set(rc={'figure.figsize':(10, 8)})\n",
    "\n",
    "import scipy.stats as stats\n",
    "from scipy import stats as st\n",
    "\n",
    "import math\n",
    "\n",
    "import numpy as np"
   ]
  },
  {
   "cell_type": "code",
   "execution_count": 2,
   "metadata": {},
   "outputs": [],
   "source": [
    "pd.set_option('display.max_columns', None)\n",
    "pd.options.display.max_colwidth = 150 \n",
    "\n",
    "hypothesis = pd.read_csv('/datasets/hypothesis.csv')\n",
    "orders = pd.read_csv('/datasets/orders.csv')\n",
    "visitors = pd.read_csv('/datasets/visitors.csv')"
   ]
  },
  {
   "cell_type": "code",
   "execution_count": 3,
   "metadata": {},
   "outputs": [
    {
     "data": {
      "text/html": [
       "<div>\n",
       "<style scoped>\n",
       "    .dataframe tbody tr th:only-of-type {\n",
       "        vertical-align: middle;\n",
       "    }\n",
       "\n",
       "    .dataframe tbody tr th {\n",
       "        vertical-align: top;\n",
       "    }\n",
       "\n",
       "    .dataframe thead th {\n",
       "        text-align: right;\n",
       "    }\n",
       "</style>\n",
       "<table border=\"1\" class=\"dataframe\">\n",
       "  <thead>\n",
       "    <tr style=\"text-align: right;\">\n",
       "      <th></th>\n",
       "      <th>Hypothesis</th>\n",
       "      <th>Reach</th>\n",
       "      <th>Impact</th>\n",
       "      <th>Confidence</th>\n",
       "      <th>Efforts</th>\n",
       "    </tr>\n",
       "  </thead>\n",
       "  <tbody>\n",
       "    <tr>\n",
       "      <td>0</td>\n",
       "      <td>Добавить два новых канала привлечения трафика, что позволит привлекать на 30% больше пользователей</td>\n",
       "      <td>3</td>\n",
       "      <td>10</td>\n",
       "      <td>8</td>\n",
       "      <td>6</td>\n",
       "    </tr>\n",
       "    <tr>\n",
       "      <td>1</td>\n",
       "      <td>Запустить собственную службу доставки, что сократит срок доставки заказов</td>\n",
       "      <td>2</td>\n",
       "      <td>5</td>\n",
       "      <td>4</td>\n",
       "      <td>10</td>\n",
       "    </tr>\n",
       "    <tr>\n",
       "      <td>2</td>\n",
       "      <td>Добавить блоки рекомендаций товаров на сайт интернет магазина, чтобы повысить конверсию и средний чек заказа</td>\n",
       "      <td>8</td>\n",
       "      <td>3</td>\n",
       "      <td>7</td>\n",
       "      <td>3</td>\n",
       "    </tr>\n",
       "    <tr>\n",
       "      <td>3</td>\n",
       "      <td>Изменить структура категорий, что увеличит конверсию, т.к. пользователи быстрее найдут нужный товар</td>\n",
       "      <td>8</td>\n",
       "      <td>3</td>\n",
       "      <td>3</td>\n",
       "      <td>8</td>\n",
       "    </tr>\n",
       "    <tr>\n",
       "      <td>4</td>\n",
       "      <td>Изменить цвет фона главной страницы, чтобы увеличить вовлеченность пользователей</td>\n",
       "      <td>3</td>\n",
       "      <td>1</td>\n",
       "      <td>1</td>\n",
       "      <td>1</td>\n",
       "    </tr>\n",
       "  </tbody>\n",
       "</table>\n",
       "</div>"
      ],
      "text/plain": [
       "                                                                                                     Hypothesis  \\\n",
       "0            Добавить два новых канала привлечения трафика, что позволит привлекать на 30% больше пользователей   \n",
       "1                                     Запустить собственную службу доставки, что сократит срок доставки заказов   \n",
       "2  Добавить блоки рекомендаций товаров на сайт интернет магазина, чтобы повысить конверсию и средний чек заказа   \n",
       "3           Изменить структура категорий, что увеличит конверсию, т.к. пользователи быстрее найдут нужный товар   \n",
       "4                              Изменить цвет фона главной страницы, чтобы увеличить вовлеченность пользователей   \n",
       "\n",
       "   Reach  Impact  Confidence  Efforts  \n",
       "0      3      10           8        6  \n",
       "1      2       5           4       10  \n",
       "2      8       3           7        3  \n",
       "3      8       3           3        8  \n",
       "4      3       1           1        1  "
      ]
     },
     "metadata": {},
     "output_type": "display_data"
    },
    {
     "name": "stdout",
     "output_type": "stream",
     "text": [
      "<class 'pandas.core.frame.DataFrame'>\n",
      "RangeIndex: 9 entries, 0 to 8\n",
      "Data columns (total 5 columns):\n",
      "Hypothesis    9 non-null object\n",
      "Reach         9 non-null int64\n",
      "Impact        9 non-null int64\n",
      "Confidence    9 non-null int64\n",
      "Efforts       9 non-null int64\n",
      "dtypes: int64(4), object(1)\n",
      "memory usage: 488.0+ bytes\n"
     ]
    },
    {
     "data": {
      "text/plain": [
       "None"
      ]
     },
     "metadata": {},
     "output_type": "display_data"
    },
    {
     "data": {
      "text/html": [
       "<div>\n",
       "<style scoped>\n",
       "    .dataframe tbody tr th:only-of-type {\n",
       "        vertical-align: middle;\n",
       "    }\n",
       "\n",
       "    .dataframe tbody tr th {\n",
       "        vertical-align: top;\n",
       "    }\n",
       "\n",
       "    .dataframe thead th {\n",
       "        text-align: right;\n",
       "    }\n",
       "</style>\n",
       "<table border=\"1\" class=\"dataframe\">\n",
       "  <thead>\n",
       "    <tr style=\"text-align: right;\">\n",
       "      <th></th>\n",
       "      <th>Reach</th>\n",
       "      <th>Impact</th>\n",
       "      <th>Confidence</th>\n",
       "      <th>Efforts</th>\n",
       "    </tr>\n",
       "  </thead>\n",
       "  <tbody>\n",
       "    <tr>\n",
       "      <td>count</td>\n",
       "      <td>9.000000</td>\n",
       "      <td>9.000000</td>\n",
       "      <td>9.000000</td>\n",
       "      <td>9.000000</td>\n",
       "    </tr>\n",
       "    <tr>\n",
       "      <td>mean</td>\n",
       "      <td>4.777778</td>\n",
       "      <td>4.777778</td>\n",
       "      <td>5.555556</td>\n",
       "      <td>4.888889</td>\n",
       "    </tr>\n",
       "    <tr>\n",
       "      <td>std</td>\n",
       "      <td>3.153481</td>\n",
       "      <td>3.192874</td>\n",
       "      <td>3.045944</td>\n",
       "      <td>2.803767</td>\n",
       "    </tr>\n",
       "    <tr>\n",
       "      <td>min</td>\n",
       "      <td>1.000000</td>\n",
       "      <td>1.000000</td>\n",
       "      <td>1.000000</td>\n",
       "      <td>1.000000</td>\n",
       "    </tr>\n",
       "    <tr>\n",
       "      <td>25%</td>\n",
       "      <td>3.000000</td>\n",
       "      <td>3.000000</td>\n",
       "      <td>3.000000</td>\n",
       "      <td>3.000000</td>\n",
       "    </tr>\n",
       "    <tr>\n",
       "      <td>50%</td>\n",
       "      <td>3.000000</td>\n",
       "      <td>3.000000</td>\n",
       "      <td>7.000000</td>\n",
       "      <td>5.000000</td>\n",
       "    </tr>\n",
       "    <tr>\n",
       "      <td>75%</td>\n",
       "      <td>8.000000</td>\n",
       "      <td>7.000000</td>\n",
       "      <td>8.000000</td>\n",
       "      <td>6.000000</td>\n",
       "    </tr>\n",
       "    <tr>\n",
       "      <td>max</td>\n",
       "      <td>10.000000</td>\n",
       "      <td>10.000000</td>\n",
       "      <td>9.000000</td>\n",
       "      <td>10.000000</td>\n",
       "    </tr>\n",
       "  </tbody>\n",
       "</table>\n",
       "</div>"
      ],
      "text/plain": [
       "           Reach     Impact  Confidence    Efforts\n",
       "count   9.000000   9.000000    9.000000   9.000000\n",
       "mean    4.777778   4.777778    5.555556   4.888889\n",
       "std     3.153481   3.192874    3.045944   2.803767\n",
       "min     1.000000   1.000000    1.000000   1.000000\n",
       "25%     3.000000   3.000000    3.000000   3.000000\n",
       "50%     3.000000   3.000000    7.000000   5.000000\n",
       "75%     8.000000   7.000000    8.000000   6.000000\n",
       "max    10.000000  10.000000    9.000000  10.000000"
      ]
     },
     "metadata": {},
     "output_type": "display_data"
    },
    {
     "name": "stdout",
     "output_type": "stream",
     "text": [
      "Количество дублей: 0\n"
     ]
    }
   ],
   "source": [
    "display(hypothesis.head())\n",
    "display(hypothesis.info())\n",
    "display(hypothesis.describe())\n",
    "print('Количество дублей:', hypothesis.duplicated().sum())"
   ]
  },
  {
   "cell_type": "code",
   "execution_count": 4,
   "metadata": {},
   "outputs": [
    {
     "data": {
      "text/html": [
       "<div>\n",
       "<style scoped>\n",
       "    .dataframe tbody tr th:only-of-type {\n",
       "        vertical-align: middle;\n",
       "    }\n",
       "\n",
       "    .dataframe tbody tr th {\n",
       "        vertical-align: top;\n",
       "    }\n",
       "\n",
       "    .dataframe thead th {\n",
       "        text-align: right;\n",
       "    }\n",
       "</style>\n",
       "<table border=\"1\" class=\"dataframe\">\n",
       "  <thead>\n",
       "    <tr style=\"text-align: right;\">\n",
       "      <th></th>\n",
       "      <th>transactionId</th>\n",
       "      <th>visitorId</th>\n",
       "      <th>date</th>\n",
       "      <th>revenue</th>\n",
       "      <th>group</th>\n",
       "    </tr>\n",
       "  </thead>\n",
       "  <tbody>\n",
       "    <tr>\n",
       "      <td>0</td>\n",
       "      <td>3667963787</td>\n",
       "      <td>3312258926</td>\n",
       "      <td>2019-08-15</td>\n",
       "      <td>1650</td>\n",
       "      <td>B</td>\n",
       "    </tr>\n",
       "    <tr>\n",
       "      <td>1</td>\n",
       "      <td>2804400009</td>\n",
       "      <td>3642806036</td>\n",
       "      <td>2019-08-15</td>\n",
       "      <td>730</td>\n",
       "      <td>B</td>\n",
       "    </tr>\n",
       "    <tr>\n",
       "      <td>2</td>\n",
       "      <td>2961555356</td>\n",
       "      <td>4069496402</td>\n",
       "      <td>2019-08-15</td>\n",
       "      <td>400</td>\n",
       "      <td>A</td>\n",
       "    </tr>\n",
       "    <tr>\n",
       "      <td>3</td>\n",
       "      <td>3797467345</td>\n",
       "      <td>1196621759</td>\n",
       "      <td>2019-08-15</td>\n",
       "      <td>9759</td>\n",
       "      <td>B</td>\n",
       "    </tr>\n",
       "    <tr>\n",
       "      <td>4</td>\n",
       "      <td>2282983706</td>\n",
       "      <td>2322279887</td>\n",
       "      <td>2019-08-15</td>\n",
       "      <td>2308</td>\n",
       "      <td>B</td>\n",
       "    </tr>\n",
       "  </tbody>\n",
       "</table>\n",
       "</div>"
      ],
      "text/plain": [
       "   transactionId   visitorId        date  revenue group\n",
       "0     3667963787  3312258926  2019-08-15     1650     B\n",
       "1     2804400009  3642806036  2019-08-15      730     B\n",
       "2     2961555356  4069496402  2019-08-15      400     A\n",
       "3     3797467345  1196621759  2019-08-15     9759     B\n",
       "4     2282983706  2322279887  2019-08-15     2308     B"
      ]
     },
     "metadata": {},
     "output_type": "display_data"
    },
    {
     "name": "stdout",
     "output_type": "stream",
     "text": [
      "<class 'pandas.core.frame.DataFrame'>\n",
      "RangeIndex: 1197 entries, 0 to 1196\n",
      "Data columns (total 5 columns):\n",
      "transactionId    1197 non-null int64\n",
      "visitorId        1197 non-null int64\n",
      "date             1197 non-null object\n",
      "revenue          1197 non-null int64\n",
      "group            1197 non-null object\n",
      "dtypes: int64(3), object(2)\n",
      "memory usage: 46.9+ KB\n"
     ]
    },
    {
     "data": {
      "text/plain": [
       "None"
      ]
     },
     "metadata": {},
     "output_type": "display_data"
    },
    {
     "data": {
      "text/html": [
       "<div>\n",
       "<style scoped>\n",
       "    .dataframe tbody tr th:only-of-type {\n",
       "        vertical-align: middle;\n",
       "    }\n",
       "\n",
       "    .dataframe tbody tr th {\n",
       "        vertical-align: top;\n",
       "    }\n",
       "\n",
       "    .dataframe thead th {\n",
       "        text-align: right;\n",
       "    }\n",
       "</style>\n",
       "<table border=\"1\" class=\"dataframe\">\n",
       "  <thead>\n",
       "    <tr style=\"text-align: right;\">\n",
       "      <th></th>\n",
       "      <th>transactionId</th>\n",
       "      <th>visitorId</th>\n",
       "      <th>revenue</th>\n",
       "    </tr>\n",
       "  </thead>\n",
       "  <tbody>\n",
       "    <tr>\n",
       "      <td>count</td>\n",
       "      <td>1.197000e+03</td>\n",
       "      <td>1.197000e+03</td>\n",
       "      <td>1.197000e+03</td>\n",
       "    </tr>\n",
       "    <tr>\n",
       "      <td>mean</td>\n",
       "      <td>2.155621e+09</td>\n",
       "      <td>2.165960e+09</td>\n",
       "      <td>8.348006e+03</td>\n",
       "    </tr>\n",
       "    <tr>\n",
       "      <td>std</td>\n",
       "      <td>1.229085e+09</td>\n",
       "      <td>1.236014e+09</td>\n",
       "      <td>3.919113e+04</td>\n",
       "    </tr>\n",
       "    <tr>\n",
       "      <td>min</td>\n",
       "      <td>1.062393e+06</td>\n",
       "      <td>5.114589e+06</td>\n",
       "      <td>5.000000e+01</td>\n",
       "    </tr>\n",
       "    <tr>\n",
       "      <td>25%</td>\n",
       "      <td>1.166776e+09</td>\n",
       "      <td>1.111826e+09</td>\n",
       "      <td>1.220000e+03</td>\n",
       "    </tr>\n",
       "    <tr>\n",
       "      <td>50%</td>\n",
       "      <td>2.145194e+09</td>\n",
       "      <td>2.217985e+09</td>\n",
       "      <td>2.978000e+03</td>\n",
       "    </tr>\n",
       "    <tr>\n",
       "      <td>75%</td>\n",
       "      <td>3.237740e+09</td>\n",
       "      <td>3.177606e+09</td>\n",
       "      <td>8.290000e+03</td>\n",
       "    </tr>\n",
       "    <tr>\n",
       "      <td>max</td>\n",
       "      <td>4.293856e+09</td>\n",
       "      <td>4.283872e+09</td>\n",
       "      <td>1.294500e+06</td>\n",
       "    </tr>\n",
       "  </tbody>\n",
       "</table>\n",
       "</div>"
      ],
      "text/plain": [
       "       transactionId     visitorId       revenue\n",
       "count   1.197000e+03  1.197000e+03  1.197000e+03\n",
       "mean    2.155621e+09  2.165960e+09  8.348006e+03\n",
       "std     1.229085e+09  1.236014e+09  3.919113e+04\n",
       "min     1.062393e+06  5.114589e+06  5.000000e+01\n",
       "25%     1.166776e+09  1.111826e+09  1.220000e+03\n",
       "50%     2.145194e+09  2.217985e+09  2.978000e+03\n",
       "75%     3.237740e+09  3.177606e+09  8.290000e+03\n",
       "max     4.293856e+09  4.283872e+09  1.294500e+06"
      ]
     },
     "metadata": {},
     "output_type": "display_data"
    },
    {
     "name": "stdout",
     "output_type": "stream",
     "text": [
      "Количество дублей: 0\n"
     ]
    }
   ],
   "source": [
    "display(orders.head())\n",
    "display(orders.info())\n",
    "display(orders.describe())\n",
    "print('Количество дублей:', orders.duplicated().sum())"
   ]
  },
  {
   "cell_type": "code",
   "execution_count": 5,
   "metadata": {},
   "outputs": [
    {
     "name": "stdout",
     "output_type": "stream",
     "text": [
      "<class 'pandas.core.frame.DataFrame'>\n",
      "RangeIndex: 1197 entries, 0 to 1196\n",
      "Data columns (total 5 columns):\n",
      "transactionId    1197 non-null int64\n",
      "visitorId        1197 non-null int64\n",
      "date             1197 non-null datetime64[ns]\n",
      "revenue          1197 non-null int64\n",
      "group            1197 non-null object\n",
      "dtypes: datetime64[ns](1), int64(3), object(1)\n",
      "memory usage: 46.9+ KB\n"
     ]
    }
   ],
   "source": [
    "# сразу поменяем формат даты на корректный\n",
    "orders['date'] = pd.to_datetime(orders['date'], format='%Y-%m-%d')\n",
    "orders.info()"
   ]
  },
  {
   "cell_type": "code",
   "execution_count": 6,
   "metadata": {},
   "outputs": [
    {
     "data": {
      "text/html": [
       "<div>\n",
       "<style scoped>\n",
       "    .dataframe tbody tr th:only-of-type {\n",
       "        vertical-align: middle;\n",
       "    }\n",
       "\n",
       "    .dataframe tbody tr th {\n",
       "        vertical-align: top;\n",
       "    }\n",
       "\n",
       "    .dataframe thead th {\n",
       "        text-align: right;\n",
       "    }\n",
       "</style>\n",
       "<table border=\"1\" class=\"dataframe\">\n",
       "  <thead>\n",
       "    <tr style=\"text-align: right;\">\n",
       "      <th></th>\n",
       "      <th>date</th>\n",
       "      <th>group</th>\n",
       "      <th>visitors</th>\n",
       "    </tr>\n",
       "  </thead>\n",
       "  <tbody>\n",
       "    <tr>\n",
       "      <td>0</td>\n",
       "      <td>2019-08-01</td>\n",
       "      <td>A</td>\n",
       "      <td>719</td>\n",
       "    </tr>\n",
       "    <tr>\n",
       "      <td>1</td>\n",
       "      <td>2019-08-02</td>\n",
       "      <td>A</td>\n",
       "      <td>619</td>\n",
       "    </tr>\n",
       "    <tr>\n",
       "      <td>2</td>\n",
       "      <td>2019-08-03</td>\n",
       "      <td>A</td>\n",
       "      <td>507</td>\n",
       "    </tr>\n",
       "    <tr>\n",
       "      <td>3</td>\n",
       "      <td>2019-08-04</td>\n",
       "      <td>A</td>\n",
       "      <td>717</td>\n",
       "    </tr>\n",
       "    <tr>\n",
       "      <td>4</td>\n",
       "      <td>2019-08-05</td>\n",
       "      <td>A</td>\n",
       "      <td>756</td>\n",
       "    </tr>\n",
       "  </tbody>\n",
       "</table>\n",
       "</div>"
      ],
      "text/plain": [
       "         date group  visitors\n",
       "0  2019-08-01     A       719\n",
       "1  2019-08-02     A       619\n",
       "2  2019-08-03     A       507\n",
       "3  2019-08-04     A       717\n",
       "4  2019-08-05     A       756"
      ]
     },
     "metadata": {},
     "output_type": "display_data"
    },
    {
     "name": "stdout",
     "output_type": "stream",
     "text": [
      "<class 'pandas.core.frame.DataFrame'>\n",
      "RangeIndex: 62 entries, 0 to 61\n",
      "Data columns (total 3 columns):\n",
      "date        62 non-null object\n",
      "group       62 non-null object\n",
      "visitors    62 non-null int64\n",
      "dtypes: int64(1), object(2)\n",
      "memory usage: 1.6+ KB\n"
     ]
    },
    {
     "data": {
      "text/plain": [
       "None"
      ]
     },
     "metadata": {},
     "output_type": "display_data"
    },
    {
     "data": {
      "text/html": [
       "<div>\n",
       "<style scoped>\n",
       "    .dataframe tbody tr th:only-of-type {\n",
       "        vertical-align: middle;\n",
       "    }\n",
       "\n",
       "    .dataframe tbody tr th {\n",
       "        vertical-align: top;\n",
       "    }\n",
       "\n",
       "    .dataframe thead th {\n",
       "        text-align: right;\n",
       "    }\n",
       "</style>\n",
       "<table border=\"1\" class=\"dataframe\">\n",
       "  <thead>\n",
       "    <tr style=\"text-align: right;\">\n",
       "      <th></th>\n",
       "      <th>visitors</th>\n",
       "    </tr>\n",
       "  </thead>\n",
       "  <tbody>\n",
       "    <tr>\n",
       "      <td>count</td>\n",
       "      <td>62.000000</td>\n",
       "    </tr>\n",
       "    <tr>\n",
       "      <td>mean</td>\n",
       "      <td>607.290323</td>\n",
       "    </tr>\n",
       "    <tr>\n",
       "      <td>std</td>\n",
       "      <td>114.400560</td>\n",
       "    </tr>\n",
       "    <tr>\n",
       "      <td>min</td>\n",
       "      <td>361.000000</td>\n",
       "    </tr>\n",
       "    <tr>\n",
       "      <td>25%</td>\n",
       "      <td>534.000000</td>\n",
       "    </tr>\n",
       "    <tr>\n",
       "      <td>50%</td>\n",
       "      <td>624.500000</td>\n",
       "    </tr>\n",
       "    <tr>\n",
       "      <td>75%</td>\n",
       "      <td>710.500000</td>\n",
       "    </tr>\n",
       "    <tr>\n",
       "      <td>max</td>\n",
       "      <td>770.000000</td>\n",
       "    </tr>\n",
       "  </tbody>\n",
       "</table>\n",
       "</div>"
      ],
      "text/plain": [
       "         visitors\n",
       "count   62.000000\n",
       "mean   607.290323\n",
       "std    114.400560\n",
       "min    361.000000\n",
       "25%    534.000000\n",
       "50%    624.500000\n",
       "75%    710.500000\n",
       "max    770.000000"
      ]
     },
     "metadata": {},
     "output_type": "display_data"
    },
    {
     "name": "stdout",
     "output_type": "stream",
     "text": [
      "Количество дублей: 0\n"
     ]
    }
   ],
   "source": [
    "display(visitors.head())\n",
    "display(visitors.info())\n",
    "display(visitors.describe())\n",
    "print('Количество дублей:', visitors.duplicated().sum())"
   ]
  },
  {
   "cell_type": "code",
   "execution_count": 7,
   "metadata": {},
   "outputs": [
    {
     "name": "stdout",
     "output_type": "stream",
     "text": [
      "<class 'pandas.core.frame.DataFrame'>\n",
      "RangeIndex: 62 entries, 0 to 61\n",
      "Data columns (total 3 columns):\n",
      "date        62 non-null datetime64[ns]\n",
      "group       62 non-null object\n",
      "visitors    62 non-null int64\n",
      "dtypes: datetime64[ns](1), int64(1), object(1)\n",
      "memory usage: 1.6+ KB\n"
     ]
    }
   ],
   "source": [
    "visitors['date'] = pd.to_datetime(visitors['date'], format='%Y-%m-%d')\n",
    "visitors.info()"
   ]
  },
  {
   "cell_type": "code",
   "execution_count": 8,
   "metadata": {},
   "outputs": [
    {
     "data": {
      "text/plain": [
       "visitorId    58\n",
       "group        58\n",
       "dtype: int64"
      ]
     },
     "execution_count": 8,
     "metadata": {},
     "output_type": "execute_result"
    }
   ],
   "source": [
    "#посчитаем количество пользователей, которые попали в обе группы исследования\n",
    "users = orders.groupby('visitorId')['group'].nunique().reset_index().sort_values('group', ascending=False)\n",
    "users.query('group == 2').sort_values(by='visitorId').count()"
   ]
  },
  {
   "cell_type": "code",
   "execution_count": 9,
   "metadata": {
    "scrolled": true
   },
   "outputs": [
    {
     "data": {
      "text/html": [
       "<div>\n",
       "<style scoped>\n",
       "    .dataframe tbody tr th:only-of-type {\n",
       "        vertical-align: middle;\n",
       "    }\n",
       "\n",
       "    .dataframe tbody tr th {\n",
       "        vertical-align: top;\n",
       "    }\n",
       "\n",
       "    .dataframe thead th {\n",
       "        text-align: right;\n",
       "    }\n",
       "</style>\n",
       "<table border=\"1\" class=\"dataframe\">\n",
       "  <thead>\n",
       "    <tr style=\"text-align: right;\">\n",
       "      <th></th>\n",
       "      <th>index</th>\n",
       "      <th>visitorId</th>\n",
       "      <th>group</th>\n",
       "      <th>date</th>\n",
       "      <th>transactionId</th>\n",
       "      <th>revenue</th>\n",
       "    </tr>\n",
       "  </thead>\n",
       "  <tbody>\n",
       "    <tr>\n",
       "      <td>0</td>\n",
       "      <td>0</td>\n",
       "      <td>5114589</td>\n",
       "      <td>B</td>\n",
       "      <td>2019-08-16</td>\n",
       "      <td>900025958</td>\n",
       "      <td>570</td>\n",
       "    </tr>\n",
       "    <tr>\n",
       "      <td>1</td>\n",
       "      <td>1</td>\n",
       "      <td>6958315</td>\n",
       "      <td>B</td>\n",
       "      <td>2019-08-04</td>\n",
       "      <td>1887336629</td>\n",
       "      <td>1490</td>\n",
       "    </tr>\n",
       "    <tr>\n",
       "      <td>2</td>\n",
       "      <td>4</td>\n",
       "      <td>11685486</td>\n",
       "      <td>A</td>\n",
       "      <td>2019-08-23</td>\n",
       "      <td>797272237</td>\n",
       "      <td>6201</td>\n",
       "    </tr>\n",
       "    <tr>\n",
       "      <td>3</td>\n",
       "      <td>5</td>\n",
       "      <td>39475350</td>\n",
       "      <td>B</td>\n",
       "      <td>2019-08-08</td>\n",
       "      <td>437876380</td>\n",
       "      <td>3990</td>\n",
       "    </tr>\n",
       "    <tr>\n",
       "      <td>4</td>\n",
       "      <td>6</td>\n",
       "      <td>47206413</td>\n",
       "      <td>B</td>\n",
       "      <td>2019-08-10</td>\n",
       "      <td>3778001764</td>\n",
       "      <td>730</td>\n",
       "    </tr>\n",
       "    <tr>\n",
       "      <td>...</td>\n",
       "      <td>...</td>\n",
       "      <td>...</td>\n",
       "      <td>...</td>\n",
       "      <td>...</td>\n",
       "      <td>...</td>\n",
       "      <td>...</td>\n",
       "    </tr>\n",
       "    <tr>\n",
       "      <td>932</td>\n",
       "      <td>1190</td>\n",
       "      <td>4259830713</td>\n",
       "      <td>A</td>\n",
       "      <td>2019-08-11</td>\n",
       "      <td>1266191879</td>\n",
       "      <td>3190</td>\n",
       "    </tr>\n",
       "    <tr>\n",
       "      <td>933</td>\n",
       "      <td>1193</td>\n",
       "      <td>4278982564</td>\n",
       "      <td>A</td>\n",
       "      <td>2019-08-05</td>\n",
       "      <td>51443164</td>\n",
       "      <td>24744</td>\n",
       "    </tr>\n",
       "    <tr>\n",
       "      <td>934</td>\n",
       "      <td>1194</td>\n",
       "      <td>4279090005</td>\n",
       "      <td>B</td>\n",
       "      <td>2019-08-04</td>\n",
       "      <td>2724331495</td>\n",
       "      <td>6716</td>\n",
       "    </tr>\n",
       "    <tr>\n",
       "      <td>935</td>\n",
       "      <td>1195</td>\n",
       "      <td>4281247801</td>\n",
       "      <td>B</td>\n",
       "      <td>2019-08-25</td>\n",
       "      <td>3796325351</td>\n",
       "      <td>2640</td>\n",
       "    </tr>\n",
       "    <tr>\n",
       "      <td>936</td>\n",
       "      <td>1196</td>\n",
       "      <td>4283872382</td>\n",
       "      <td>B</td>\n",
       "      <td>2019-08-22</td>\n",
       "      <td>836739159</td>\n",
       "      <td>3806</td>\n",
       "    </tr>\n",
       "  </tbody>\n",
       "</table>\n",
       "<p>937 rows × 6 columns</p>\n",
       "</div>"
      ],
      "text/plain": [
       "     index   visitorId group       date  transactionId  revenue\n",
       "0        0     5114589     B 2019-08-16      900025958      570\n",
       "1        1     6958315     B 2019-08-04     1887336629     1490\n",
       "2        4    11685486     A 2019-08-23      797272237     6201\n",
       "3        5    39475350     B 2019-08-08      437876380     3990\n",
       "4        6    47206413     B 2019-08-10     3778001764      730\n",
       "..     ...         ...   ...        ...            ...      ...\n",
       "932   1190  4259830713     A 2019-08-11     1266191879     3190\n",
       "933   1193  4278982564     A 2019-08-05       51443164    24744\n",
       "934   1194  4279090005     B 2019-08-04     2724331495     6716\n",
       "935   1195  4281247801     B 2019-08-25     3796325351     2640\n",
       "936   1196  4283872382     B 2019-08-22      836739159     3806\n",
       "\n",
       "[937 rows x 6 columns]"
      ]
     },
     "execution_count": 9,
     "metadata": {},
     "output_type": "execute_result"
    }
   ],
   "source": [
    "#Т.к. пользователей, которые попали в обе группы не так много, по отношению\n",
    "#ко всем, то лучше удалим их, чтобы не искажать результаты тестов\n",
    "clean_users = orders.groupby(['visitorId', 'group', 'date', 'transactionId'], as_index=False)['revenue'].sum()\n",
    "clean_users=clean_users.drop_duplicates(subset='visitorId',keep=False).reset_index()\n",
    "clean_users"
   ]
  },
  {
   "cell_type": "code",
   "execution_count": 10,
   "metadata": {},
   "outputs": [
    {
     "data": {
      "text/html": [
       "<div>\n",
       "<style scoped>\n",
       "    .dataframe tbody tr th:only-of-type {\n",
       "        vertical-align: middle;\n",
       "    }\n",
       "\n",
       "    .dataframe tbody tr th {\n",
       "        vertical-align: top;\n",
       "    }\n",
       "\n",
       "    .dataframe thead th {\n",
       "        text-align: right;\n",
       "    }\n",
       "</style>\n",
       "<table border=\"1\" class=\"dataframe\">\n",
       "  <thead>\n",
       "    <tr style=\"text-align: right;\">\n",
       "      <th></th>\n",
       "      <th>index</th>\n",
       "      <th>visitorId</th>\n",
       "      <th>group</th>\n",
       "      <th>date</th>\n",
       "      <th>transactionId</th>\n",
       "      <th>revenue</th>\n",
       "    </tr>\n",
       "  </thead>\n",
       "  <tbody>\n",
       "    <tr>\n",
       "      <td>0</td>\n",
       "      <td>0</td>\n",
       "      <td>5114589</td>\n",
       "      <td>B</td>\n",
       "      <td>2019-08-16</td>\n",
       "      <td>900025958</td>\n",
       "      <td>570</td>\n",
       "    </tr>\n",
       "    <tr>\n",
       "      <td>1</td>\n",
       "      <td>1</td>\n",
       "      <td>6958315</td>\n",
       "      <td>B</td>\n",
       "      <td>2019-08-04</td>\n",
       "      <td>1887336629</td>\n",
       "      <td>1490</td>\n",
       "    </tr>\n",
       "    <tr>\n",
       "      <td>2</td>\n",
       "      <td>4</td>\n",
       "      <td>11685486</td>\n",
       "      <td>A</td>\n",
       "      <td>2019-08-23</td>\n",
       "      <td>797272237</td>\n",
       "      <td>6201</td>\n",
       "    </tr>\n",
       "    <tr>\n",
       "      <td>3</td>\n",
       "      <td>5</td>\n",
       "      <td>39475350</td>\n",
       "      <td>B</td>\n",
       "      <td>2019-08-08</td>\n",
       "      <td>437876380</td>\n",
       "      <td>3990</td>\n",
       "    </tr>\n",
       "    <tr>\n",
       "      <td>4</td>\n",
       "      <td>6</td>\n",
       "      <td>47206413</td>\n",
       "      <td>B</td>\n",
       "      <td>2019-08-10</td>\n",
       "      <td>3778001764</td>\n",
       "      <td>730</td>\n",
       "    </tr>\n",
       "    <tr>\n",
       "      <td>...</td>\n",
       "      <td>...</td>\n",
       "      <td>...</td>\n",
       "      <td>...</td>\n",
       "      <td>...</td>\n",
       "      <td>...</td>\n",
       "      <td>...</td>\n",
       "    </tr>\n",
       "    <tr>\n",
       "      <td>932</td>\n",
       "      <td>1190</td>\n",
       "      <td>4259830713</td>\n",
       "      <td>A</td>\n",
       "      <td>2019-08-11</td>\n",
       "      <td>1266191879</td>\n",
       "      <td>3190</td>\n",
       "    </tr>\n",
       "    <tr>\n",
       "      <td>933</td>\n",
       "      <td>1193</td>\n",
       "      <td>4278982564</td>\n",
       "      <td>A</td>\n",
       "      <td>2019-08-05</td>\n",
       "      <td>51443164</td>\n",
       "      <td>24744</td>\n",
       "    </tr>\n",
       "    <tr>\n",
       "      <td>934</td>\n",
       "      <td>1194</td>\n",
       "      <td>4279090005</td>\n",
       "      <td>B</td>\n",
       "      <td>2019-08-04</td>\n",
       "      <td>2724331495</td>\n",
       "      <td>6716</td>\n",
       "    </tr>\n",
       "    <tr>\n",
       "      <td>935</td>\n",
       "      <td>1195</td>\n",
       "      <td>4281247801</td>\n",
       "      <td>B</td>\n",
       "      <td>2019-08-25</td>\n",
       "      <td>3796325351</td>\n",
       "      <td>2640</td>\n",
       "    </tr>\n",
       "    <tr>\n",
       "      <td>936</td>\n",
       "      <td>1196</td>\n",
       "      <td>4283872382</td>\n",
       "      <td>B</td>\n",
       "      <td>2019-08-22</td>\n",
       "      <td>836739159</td>\n",
       "      <td>3806</td>\n",
       "    </tr>\n",
       "  </tbody>\n",
       "</table>\n",
       "<p>937 rows × 6 columns</p>\n",
       "</div>"
      ],
      "text/plain": [
       "     index   visitorId group       date  transactionId  revenue\n",
       "0        0     5114589     B 2019-08-16      900025958      570\n",
       "1        1     6958315     B 2019-08-04     1887336629     1490\n",
       "2        4    11685486     A 2019-08-23      797272237     6201\n",
       "3        5    39475350     B 2019-08-08      437876380     3990\n",
       "4        6    47206413     B 2019-08-10     3778001764      730\n",
       "..     ...         ...   ...        ...            ...      ...\n",
       "932   1190  4259830713     A 2019-08-11     1266191879     3190\n",
       "933   1193  4278982564     A 2019-08-05       51443164    24744\n",
       "934   1194  4279090005     B 2019-08-04     2724331495     6716\n",
       "935   1195  4281247801     B 2019-08-25     3796325351     2640\n",
       "936   1196  4283872382     B 2019-08-22      836739159     3806\n",
       "\n",
       "[937 rows x 6 columns]"
      ]
     },
     "execution_count": 10,
     "metadata": {},
     "output_type": "execute_result"
    }
   ],
   "source": [
    "orders = clean_users\n",
    "orders"
   ]
  },
  {
   "cell_type": "markdown",
   "metadata": {},
   "source": [
    "Вывод: Данные загружены и подготовлены. Проблем почти не было, пара преобразований типов данных. Так же было выявлено 58 пользователей, которые попали в обе группы, мы их удалили."
   ]
  },
  {
   "cell_type": "markdown",
   "metadata": {},
   "source": [
    "__Примените фреймворк ICE для приоритизации гипотез. Отсортируйте их по убыванию приоритета.__"
   ]
  },
  {
   "cell_type": "code",
   "execution_count": 11,
   "metadata": {},
   "outputs": [
    {
     "data": {
      "text/html": [
       "<div>\n",
       "<style scoped>\n",
       "    .dataframe tbody tr th:only-of-type {\n",
       "        vertical-align: middle;\n",
       "    }\n",
       "\n",
       "    .dataframe tbody tr th {\n",
       "        vertical-align: top;\n",
       "    }\n",
       "\n",
       "    .dataframe thead th {\n",
       "        text-align: right;\n",
       "    }\n",
       "</style>\n",
       "<table border=\"1\" class=\"dataframe\">\n",
       "  <thead>\n",
       "    <tr style=\"text-align: right;\">\n",
       "      <th></th>\n",
       "      <th>Hypothesis</th>\n",
       "      <th>Reach</th>\n",
       "      <th>Impact</th>\n",
       "      <th>Confidence</th>\n",
       "      <th>Efforts</th>\n",
       "      <th>ICE</th>\n",
       "    </tr>\n",
       "  </thead>\n",
       "  <tbody>\n",
       "    <tr>\n",
       "      <td>8</td>\n",
       "      <td>Запустить акцию, дающую скидку на товар в день рождения</td>\n",
       "      <td>1</td>\n",
       "      <td>9</td>\n",
       "      <td>9</td>\n",
       "      <td>5</td>\n",
       "      <td>16.200000</td>\n",
       "    </tr>\n",
       "    <tr>\n",
       "      <td>0</td>\n",
       "      <td>Добавить два новых канала привлечения трафика, что позволит привлекать на 30% больше пользователей</td>\n",
       "      <td>3</td>\n",
       "      <td>10</td>\n",
       "      <td>8</td>\n",
       "      <td>6</td>\n",
       "      <td>13.333333</td>\n",
       "    </tr>\n",
       "    <tr>\n",
       "      <td>7</td>\n",
       "      <td>Добавить форму подписки на все основные страницы, чтобы собрать базу клиентов для email-рассылок</td>\n",
       "      <td>10</td>\n",
       "      <td>7</td>\n",
       "      <td>8</td>\n",
       "      <td>5</td>\n",
       "      <td>11.200000</td>\n",
       "    </tr>\n",
       "    <tr>\n",
       "      <td>6</td>\n",
       "      <td>Показать на главной странице баннеры с актуальными акциями и распродажами, чтобы увеличить конверсию</td>\n",
       "      <td>5</td>\n",
       "      <td>3</td>\n",
       "      <td>8</td>\n",
       "      <td>3</td>\n",
       "      <td>8.000000</td>\n",
       "    </tr>\n",
       "    <tr>\n",
       "      <td>2</td>\n",
       "      <td>Добавить блоки рекомендаций товаров на сайт интернет магазина, чтобы повысить конверсию и средний чек заказа</td>\n",
       "      <td>8</td>\n",
       "      <td>3</td>\n",
       "      <td>7</td>\n",
       "      <td>3</td>\n",
       "      <td>7.000000</td>\n",
       "    </tr>\n",
       "  </tbody>\n",
       "</table>\n",
       "</div>"
      ],
      "text/plain": [
       "                                                                                                     Hypothesis  \\\n",
       "8                                                       Запустить акцию, дающую скидку на товар в день рождения   \n",
       "0            Добавить два новых канала привлечения трафика, что позволит привлекать на 30% больше пользователей   \n",
       "7              Добавить форму подписки на все основные страницы, чтобы собрать базу клиентов для email-рассылок   \n",
       "6          Показать на главной странице баннеры с актуальными акциями и распродажами, чтобы увеличить конверсию   \n",
       "2  Добавить блоки рекомендаций товаров на сайт интернет магазина, чтобы повысить конверсию и средний чек заказа   \n",
       "\n",
       "   Reach  Impact  Confidence  Efforts        ICE  \n",
       "8      1       9           9        5  16.200000  \n",
       "0      3      10           8        6  13.333333  \n",
       "7     10       7           8        5  11.200000  \n",
       "6      5       3           8        3   8.000000  \n",
       "2      8       3           7        3   7.000000  "
      ]
     },
     "execution_count": 11,
     "metadata": {},
     "output_type": "execute_result"
    }
   ],
   "source": [
    "hypothesis['ICE'] = hypothesis['Impact'] * hypothesis['Confidence'] / hypothesis['Efforts']\n",
    "hypothesis.sort_values('ICE', ascending=False).head()"
   ]
  },
  {
   "cell_type": "code",
   "execution_count": 12,
   "metadata": {},
   "outputs": [
    {
     "data": {
      "image/png": "[encoded data removed]",
      "text/plain": [
       "<Figure size 720x576 with 1 Axes>"
      ]
     },
     "metadata": {},
     "output_type": "display_data"
    }
   ],
   "source": [
    "ax = hypothesis[['Hypothesis', 'ICE']].set_index('Hypothesis').sort_values('ICE', ascending=True).plot(kind='barh')\n",
    "ax.set_xlabel('Приоритет')\n",
    "ax.set_ylabel('Гипотеза')\n",
    "ax.set_title('ICE')\n",
    "plt.show()"
   ]
  },
  {
   "cell_type": "markdown",
   "metadata": {},
   "source": [
    "По ICE приоритет на стороне \n",
    "- \"Запустить акцию, дающую скидку на товар в день рождения\"\n",
    "- \"Добавить два новых канала привлечения трафика, что позволит привлекать на 30% больше пользователей\"\n",
    "- \"Добавить форму подписки на все основные страницы, чтобы собрать базу клиентов для email-рассылок\""
   ]
  },
  {
   "cell_type": "markdown",
   "metadata": {},
   "source": [
    "__Примените фреймворк RICE для приоритизации гипотез. Отсортируйте их по убыванию приоритета__"
   ]
  },
  {
   "cell_type": "code",
   "execution_count": 13,
   "metadata": {},
   "outputs": [
    {
     "data": {
      "text/html": [
       "<div>\n",
       "<style scoped>\n",
       "    .dataframe tbody tr th:only-of-type {\n",
       "        vertical-align: middle;\n",
       "    }\n",
       "\n",
       "    .dataframe tbody tr th {\n",
       "        vertical-align: top;\n",
       "    }\n",
       "\n",
       "    .dataframe thead th {\n",
       "        text-align: right;\n",
       "    }\n",
       "</style>\n",
       "<table border=\"1\" class=\"dataframe\">\n",
       "  <thead>\n",
       "    <tr style=\"text-align: right;\">\n",
       "      <th></th>\n",
       "      <th>Hypothesis</th>\n",
       "      <th>Reach</th>\n",
       "      <th>Impact</th>\n",
       "      <th>Confidence</th>\n",
       "      <th>Efforts</th>\n",
       "      <th>ICE</th>\n",
       "      <th>RICE</th>\n",
       "    </tr>\n",
       "  </thead>\n",
       "  <tbody>\n",
       "    <tr>\n",
       "      <td>7</td>\n",
       "      <td>Добавить форму подписки на все основные страницы, чтобы собрать базу клиентов для email-рассылок</td>\n",
       "      <td>10</td>\n",
       "      <td>7</td>\n",
       "      <td>8</td>\n",
       "      <td>5</td>\n",
       "      <td>11.200000</td>\n",
       "      <td>112.0</td>\n",
       "    </tr>\n",
       "    <tr>\n",
       "      <td>2</td>\n",
       "      <td>Добавить блоки рекомендаций товаров на сайт интернет магазина, чтобы повысить конверсию и средний чек заказа</td>\n",
       "      <td>8</td>\n",
       "      <td>3</td>\n",
       "      <td>7</td>\n",
       "      <td>3</td>\n",
       "      <td>7.000000</td>\n",
       "      <td>56.0</td>\n",
       "    </tr>\n",
       "    <tr>\n",
       "      <td>0</td>\n",
       "      <td>Добавить два новых канала привлечения трафика, что позволит привлекать на 30% больше пользователей</td>\n",
       "      <td>3</td>\n",
       "      <td>10</td>\n",
       "      <td>8</td>\n",
       "      <td>6</td>\n",
       "      <td>13.333333</td>\n",
       "      <td>40.0</td>\n",
       "    </tr>\n",
       "    <tr>\n",
       "      <td>6</td>\n",
       "      <td>Показать на главной странице баннеры с актуальными акциями и распродажами, чтобы увеличить конверсию</td>\n",
       "      <td>5</td>\n",
       "      <td>3</td>\n",
       "      <td>8</td>\n",
       "      <td>3</td>\n",
       "      <td>8.000000</td>\n",
       "      <td>40.0</td>\n",
       "    </tr>\n",
       "    <tr>\n",
       "      <td>8</td>\n",
       "      <td>Запустить акцию, дающую скидку на товар в день рождения</td>\n",
       "      <td>1</td>\n",
       "      <td>9</td>\n",
       "      <td>9</td>\n",
       "      <td>5</td>\n",
       "      <td>16.200000</td>\n",
       "      <td>16.2</td>\n",
       "    </tr>\n",
       "  </tbody>\n",
       "</table>\n",
       "</div>"
      ],
      "text/plain": [
       "                                                                                                     Hypothesis  \\\n",
       "7              Добавить форму подписки на все основные страницы, чтобы собрать базу клиентов для email-рассылок   \n",
       "2  Добавить блоки рекомендаций товаров на сайт интернет магазина, чтобы повысить конверсию и средний чек заказа   \n",
       "0            Добавить два новых канала привлечения трафика, что позволит привлекать на 30% больше пользователей   \n",
       "6          Показать на главной странице баннеры с актуальными акциями и распродажами, чтобы увеличить конверсию   \n",
       "8                                                       Запустить акцию, дающую скидку на товар в день рождения   \n",
       "\n",
       "   Reach  Impact  Confidence  Efforts        ICE   RICE  \n",
       "7     10       7           8        5  11.200000  112.0  \n",
       "2      8       3           7        3   7.000000   56.0  \n",
       "0      3      10           8        6  13.333333   40.0  \n",
       "6      5       3           8        3   8.000000   40.0  \n",
       "8      1       9           9        5  16.200000   16.2  "
      ]
     },
     "execution_count": 13,
     "metadata": {},
     "output_type": "execute_result"
    }
   ],
   "source": [
    "hypothesis['RICE'] = hypothesis['Reach'] * hypothesis['Impact'] * hypothesis['Confidence'] / hypothesis['Efforts']\n",
    "hypothesis.sort_values('RICE', ascending=False).head()"
   ]
  },
  {
   "cell_type": "code",
   "execution_count": 14,
   "metadata": {},
   "outputs": [
    {
     "data": {
      "image/png": "[encoded data removed]",
      "text/plain": [
       "<Figure size 720x576 with 1 Axes>"
      ]
     },
     "metadata": {},
     "output_type": "display_data"
    }
   ],
   "source": [
    "ax = hypothesis[['Hypothesis', 'RICE']].set_index('Hypothesis').sort_values('RICE', ascending=True).plot(kind='barh')\n",
    "ax.set_xlabel('Приоритет')\n",
    "ax.set_ylabel('Гипотеза')\n",
    "ax.set_title('RICE')\n",
    "plt.show()"
   ]
  },
  {
   "cell_type": "markdown",
   "metadata": {},
   "source": [
    "__Укажите, как изменилась приоритизация гипотез при применении RICE вместо ICE. Объясните, почему так произошло.__"
   ]
  },
  {
   "cell_type": "markdown",
   "metadata": {},
   "source": [
    "__Вывод:__По RICE в топ-3 попадают:\n",
    "- \"Добавить форму подписки на все основные страницы, чтобы собрать базу клиентов для email-рассылок\"\n",
    "- \"Добавить блоки рекомендаций товаров на сайт интернет магазина, чтобы повысить конверсию и средний чек заказа\"\n",
    "- \"Добавить два новых канала привлечения трафика, что позволит привлекать на 30% больше пользователей\"\n",
    "\n",
    "\n",
    "Не удивительно, что гипотеза под номером 8(\"Запустить акцию, дающую скидку на товар в день рождения\") так сильно опустилась, ведь её охват равен 1."
   ]
  },
  {
   "cell_type": "markdown",
   "metadata": {},
   "source": [
    "___"
   ]
  },
  {
   "cell_type": "markdown",
   "metadata": {},
   "source": [
    "# Часть 2. Анализ A/B-теста."
   ]
  },
  {
   "cell_type": "markdown",
   "metadata": {},
   "source": [
    "__Постройте график кумулятивной выручки по группам. Сделайте выводы и предположения.__"
   ]
  },
  {
   "cell_type": "code",
   "execution_count": 15,
   "metadata": {},
   "outputs": [],
   "source": [
    "#Приведём название столбцов к нижнему регистру\n",
    "orders.rename(columns={'transactionId':'transactionid', 'visitorId':'visitorid'}, inplace=True)\n",
    "#Приведём даты в порядок\n",
    "orders['date'] = pd.to_datetime(orders['date'])\n",
    "visitors['date'] = pd.to_datetime(visitors['date'])"
   ]
  },
  {
   "cell_type": "code",
   "execution_count": 16,
   "metadata": {},
   "outputs": [],
   "source": [
    "orders_grouped = (orders.groupby(['date','group'], as_index=False)\n",
    "                        .agg({'transactionid':'nunique','visitorid':'nunique','revenue':'sum'}))\\\n",
    "                        .rename(columns={'transactionid':'orders','visitorid':'buyers'})\n",
    "orders_grouped['group_copy'] = orders_grouped['group']\n",
    "orders_grouped = orders_grouped.set_index(['date','group'])\n",
    "orders_cumsum = orders_grouped.sort_values(['date','group']).groupby('group_copy').cumsum().reset_index()"
   ]
  },
  {
   "cell_type": "code",
   "execution_count": 17,
   "metadata": {},
   "outputs": [],
   "source": [
    "orders_grouped = (orders.groupby(['date','group'], as_index=False)\n",
    "                        .agg({'transactionid':'nunique','visitorid':'nunique','revenue':'sum'}))\\\n",
    "                        .rename(columns={'transactionid':'orders','visitorid':'buyers'})\n",
    "orders_grouped['group_copy'] = orders_grouped['group']\n",
    "orders_grouped = orders_grouped.set_index(['date','group'])\n",
    "orders_cumsum = orders_grouped.sort_values(['date','group']).groupby('group_copy').cumsum().reset_index()"
   ]
  },
  {
   "cell_type": "code",
   "execution_count": 18,
   "metadata": {},
   "outputs": [],
   "source": [
    "# посчитаем сумму визитов по дням в каждой группе\n",
    "visitors_cumsum = visitors.groupby(['date','group'], as_index=False).agg({'visitors':'sum'}).sort_values(['date','group'])\n",
    "# скопируем group чтобы провести по ней кумулятивную сумму\n",
    "visitors_cumsum['group_copy'] = visitors_cumsum['group']\n",
    "visitors_cumsum = visitors_cumsum.set_index(['date','group']).groupby('group_copy').cumsum().reset_index()"
   ]
  },
  {
   "cell_type": "code",
   "execution_count": 19,
   "metadata": {},
   "outputs": [],
   "source": [
    "cummulative = orders_cumsum.join(visitors_cumsum[['visitors']])"
   ]
  },
  {
   "cell_type": "code",
   "execution_count": 20,
   "metadata": {},
   "outputs": [],
   "source": [
    "cummulative['average_check'] = cummulative['revenue'] / cummulative['orders']\n",
    "cummulative['conversion'] = cummulative['orders'] / cummulative['visitors']"
   ]
  },
  {
   "cell_type": "code",
   "execution_count": 21,
   "metadata": {},
   "outputs": [
    {
     "data": {
      "text/html": [
       "<div>\n",
       "<style scoped>\n",
       "    .dataframe tbody tr th:only-of-type {\n",
       "        vertical-align: middle;\n",
       "    }\n",
       "\n",
       "    .dataframe tbody tr th {\n",
       "        vertical-align: top;\n",
       "    }\n",
       "\n",
       "    .dataframe thead th {\n",
       "        text-align: right;\n",
       "    }\n",
       "</style>\n",
       "<table border=\"1\" class=\"dataframe\">\n",
       "  <thead>\n",
       "    <tr style=\"text-align: right;\">\n",
       "      <th></th>\n",
       "      <th>date</th>\n",
       "      <th>group</th>\n",
       "      <th>orders</th>\n",
       "      <th>buyers</th>\n",
       "      <th>revenue</th>\n",
       "      <th>visitors</th>\n",
       "      <th>average_check</th>\n",
       "      <th>conversion</th>\n",
       "    </tr>\n",
       "  </thead>\n",
       "  <tbody>\n",
       "    <tr>\n",
       "      <td>0</td>\n",
       "      <td>2019-08-01</td>\n",
       "      <td>A</td>\n",
       "      <td>15</td>\n",
       "      <td>15</td>\n",
       "      <td>89858</td>\n",
       "      <td>719</td>\n",
       "      <td>5990.533333</td>\n",
       "      <td>0.020862</td>\n",
       "    </tr>\n",
       "    <tr>\n",
       "      <td>1</td>\n",
       "      <td>2019-08-01</td>\n",
       "      <td>B</td>\n",
       "      <td>17</td>\n",
       "      <td>17</td>\n",
       "      <td>59758</td>\n",
       "      <td>713</td>\n",
       "      <td>3515.176471</td>\n",
       "      <td>0.023843</td>\n",
       "    </tr>\n",
       "    <tr>\n",
       "      <td>2</td>\n",
       "      <td>2019-08-02</td>\n",
       "      <td>A</td>\n",
       "      <td>30</td>\n",
       "      <td>30</td>\n",
       "      <td>136341</td>\n",
       "      <td>1338</td>\n",
       "      <td>4544.700000</td>\n",
       "      <td>0.022422</td>\n",
       "    </tr>\n",
       "    <tr>\n",
       "      <td>3</td>\n",
       "      <td>2019-08-02</td>\n",
       "      <td>B</td>\n",
       "      <td>37</td>\n",
       "      <td>37</td>\n",
       "      <td>213431</td>\n",
       "      <td>1294</td>\n",
       "      <td>5768.405405</td>\n",
       "      <td>0.028594</td>\n",
       "    </tr>\n",
       "    <tr>\n",
       "      <td>4</td>\n",
       "      <td>2019-08-03</td>\n",
       "      <td>A</td>\n",
       "      <td>54</td>\n",
       "      <td>54</td>\n",
       "      <td>248814</td>\n",
       "      <td>1845</td>\n",
       "      <td>4607.666667</td>\n",
       "      <td>0.029268</td>\n",
       "    </tr>\n",
       "  </tbody>\n",
       "</table>\n",
       "</div>"
      ],
      "text/plain": [
       "        date group  orders  buyers  revenue  visitors  average_check  \\\n",
       "0 2019-08-01     A      15      15    89858       719    5990.533333   \n",
       "1 2019-08-01     B      17      17    59758       713    3515.176471   \n",
       "2 2019-08-02     A      30      30   136341      1338    4544.700000   \n",
       "3 2019-08-02     B      37      37   213431      1294    5768.405405   \n",
       "4 2019-08-03     A      54      54   248814      1845    4607.666667   \n",
       "\n",
       "   conversion  \n",
       "0    0.020862  \n",
       "1    0.023843  \n",
       "2    0.022422  \n",
       "3    0.028594  \n",
       "4    0.029268  "
      ]
     },
     "execution_count": 21,
     "metadata": {},
     "output_type": "execute_result"
    }
   ],
   "source": [
    "cummulative.head()"
   ]
  },
  {
   "cell_type": "code",
   "execution_count": 22,
   "metadata": {},
   "outputs": [
    {
     "data": {
      "image/png": "[encoded data removed]",
      "text/plain": [
       "<Figure size 720x576 with 1 Axes>"
      ]
     },
     "metadata": {},
     "output_type": "display_data"
    }
   ],
   "source": [
    "cummulativeA = cummulative[cummulative['group']=='A'][['date', 'revenue']]\n",
    "cummulativeB = cummulative[cummulative['group']=='B'][['date', 'revenue']]\n",
    "plt.plot(cummulativeA.iloc[:,0].to_frame(), cummulativeA.iloc[:,1].to_frame(), label='A' )\n",
    "plt.annotate('скачок', xy=('2019-08-17', 2800000), xytext=('2019-08-10', 3500000),\n",
    "            arrowprops=dict(facecolor='g'))\n",
    "plt.plot(cummulativeB.iloc[:,0].to_frame(), cummulativeB.iloc[:,1].to_frame(), label='B')\n",
    "plt.annotate('отрыв', xy=('2019-08-05', 800000), xytext=('2019-08-05', 2000000),\n",
    "            arrowprops=dict(facecolor='g')) \n",
    "plt.title('График кумулятивной выручки по группам \"A\" и \"B\"')\n",
    "plt.ylabel(\"Выручка\")\n",
    "plt.legend()\n",
    "plt.show()"
   ]
  },
  {
   "cell_type": "markdown",
   "metadata": {},
   "source": [
    "__Вывод:__\n",
    "Оба графика растут линейно, однако у группы \"В\" наблюдается резкий скачок. Вполне вероятно, что это выброс."
   ]
  },
  {
   "cell_type": "markdown",
   "metadata": {},
   "source": [
    "__Постройте график кумулятивного среднего чека по группам. Сделайте выводы и предположения.__"
   ]
  },
  {
   "cell_type": "code",
   "execution_count": 23,
   "metadata": {},
   "outputs": [
    {
     "data": {
      "image/png": "[encoded data removed]",
      "text/plain": [
       "<Figure size 720x576 with 1 Axes>"
      ]
     },
     "metadata": {},
     "output_type": "display_data"
    }
   ],
   "source": [
    "cummulativeA = cummulative[cummulative['group']=='A'][['date', 'average_check']]\n",
    "cummulativeB = cummulative[cummulative['group']=='B'][['date', 'average_check']]\n",
    "plt.plot(cummulativeA.iloc[:,0].to_frame(), cummulativeA.iloc[:,1].to_frame(), label='A' )\n",
    "plt.plot(cummulativeB.iloc[:,0].to_frame(), cummulativeB.iloc[:,1].to_frame(), label='B')\n",
    "plt.title('График кумулятивного среднего чека по группам')\n",
    "plt.ylabel(\"Выручка\")\n",
    "plt.legend()\n",
    "plt.show()"
   ]
  },
  {
   "cell_type": "markdown",
   "metadata": {},
   "source": [
    "__Вывод:__\n",
    "Опять-таки в тот же период в группе \"В\" наблюдается резкий скачок."
   ]
  },
  {
   "cell_type": "markdown",
   "metadata": {},
   "source": [
    "__Постройте график относительного изменения кумулятивного среднего чека группы B к группе A. Сделайте выводы и предположения.__"
   ]
  },
  {
   "cell_type": "code",
   "execution_count": 24,
   "metadata": {},
   "outputs": [
    {
     "data": {
      "image/png": "[encoded data removed]",
      "text/plain": [
       "<Figure size 720x576 with 1 Axes>"
      ]
     },
     "metadata": {},
     "output_type": "display_data"
    }
   ],
   "source": [
    "CumulativeRevenue  = (cummulativeA[['date', 'average_check']].merge(cummulativeB[['date', 'average_check']], \n",
    "                                            left_on='date', right_on='date', how='left', suffixes=['_A', '_B']))\n",
    "plt.plot(CumulativeRevenue['date'], CumulativeRevenue['average_check_B'] / CumulativeRevenue['average_check_A']-1)\n",
    "plt.title('График относительного изменения кумулятивного среднего чека группы B к группе A')\n",
    "plt.ylabel(\"Средний чек\")\n",
    "plt.axhline(y=0, color='black', linestyle='--')\n",
    "plt.show()"
   ]
  },
  {
   "cell_type": "markdown",
   "metadata": {},
   "source": [
    "__Вывод:__ В нескольких точках график различия между сегментами резко «скачет». Где-то уж точно спрятались крупные заказы и выбросы"
   ]
  },
  {
   "cell_type": "markdown",
   "metadata": {},
   "source": [
    "__Постройте график кумулятивной конверсии по группам. Сделайте выводы и предположения.__"
   ]
  },
  {
   "cell_type": "code",
   "execution_count": 25,
   "metadata": {},
   "outputs": [
    {
     "data": {
      "image/png": "[encoded data removed]",
      "text/plain": [
       "<Figure size 720x576 with 1 Axes>"
      ]
     },
     "metadata": {},
     "output_type": "display_data"
    }
   ],
   "source": [
    "cummulativeA = cummulative[cummulative['group']=='A'][['date', 'conversion']]\n",
    "cummulativeB = cummulative[cummulative['group']=='B'][['date', 'conversion']]\n",
    "plt.plot(cummulativeA.iloc[:,0].to_frame(), cummulativeA.iloc[:,1].to_frame(), label='A' )\n",
    "plt.plot(cummulativeB.iloc[:,0].to_frame(), cummulativeB.iloc[:,1].to_frame(), label='B')\n",
    "plt.title('График кумулятивной конверсии по группам')\n",
    "plt.ylabel(\"Выручка\")\n",
    "plt.legend()\n",
    "plt.show()"
   ]
  },
  {
   "cell_type": "markdown",
   "metadata": {},
   "source": [
    "__Вывод:__\n",
    "У группы А конверсия наблюдается в пределах 0.029 - 0.031. У группы \"В\" конверсия выглядит немного лучше, она колеблется в пределах 0.033-0.035."
   ]
  },
  {
   "cell_type": "markdown",
   "metadata": {},
   "source": [
    "__Постройте график относительного изменения кумулятивной конверсии группы B к группе A. Сделайте выводы и предположения.__"
   ]
  },
  {
   "cell_type": "code",
   "execution_count": 26,
   "metadata": {},
   "outputs": [
    {
     "data": {
      "image/png": "[encoded data removed]",
      "text/plain": [
       "<Figure size 720x576 with 1 Axes>"
      ]
     },
     "metadata": {},
     "output_type": "display_data"
    }
   ],
   "source": [
    "CumulativeConversion = (cummulativeA[['date', 'conversion']].merge(cummulativeB[['date', 'conversion']], \n",
    "                                            left_on='date', right_on='date', how='left', suffixes=['_A', '_B']))\n",
    "plt.plot(CumulativeConversion['date'], CumulativeConversion['conversion_B'] / CumulativeConversion['conversion_A']-1)\n",
    "plt.title('График относительного изменения кумулятивной конверсии группы B к группе A')\n",
    "plt.axhline(y=0, color='black', linestyle='--')\n",
    "plt.xticks(rotation=45)\n",
    "plt.show()"
   ]
  },
  {
   "cell_type": "markdown",
   "metadata": {},
   "source": [
    "__Вывод:__ Однозначно, конверсия группы \"В\" лучше, чем А."
   ]
  },
  {
   "cell_type": "markdown",
   "metadata": {},
   "source": [
    "__Постройте точечный график количества заказов по пользователям. Сделайте выводы и предположения.__"
   ]
  },
  {
   "cell_type": "code",
   "execution_count": 27,
   "metadata": {},
   "outputs": [
    {
     "data": {
      "text/html": [
       "<div>\n",
       "<style scoped>\n",
       "    .dataframe tbody tr th:only-of-type {\n",
       "        vertical-align: middle;\n",
       "    }\n",
       "\n",
       "    .dataframe tbody tr th {\n",
       "        vertical-align: top;\n",
       "    }\n",
       "\n",
       "    .dataframe thead th {\n",
       "        text-align: right;\n",
       "    }\n",
       "</style>\n",
       "<table border=\"1\" class=\"dataframe\">\n",
       "  <thead>\n",
       "    <tr style=\"text-align: right;\">\n",
       "      <th></th>\n",
       "      <th>visitorid</th>\n",
       "      <th>orders</th>\n",
       "    </tr>\n",
       "  </thead>\n",
       "  <tbody>\n",
       "    <tr>\n",
       "      <td>0</td>\n",
       "      <td>5114589</td>\n",
       "      <td>1</td>\n",
       "    </tr>\n",
       "    <tr>\n",
       "      <td>1</td>\n",
       "      <td>6958315</td>\n",
       "      <td>1</td>\n",
       "    </tr>\n",
       "    <tr>\n",
       "      <td>2</td>\n",
       "      <td>11685486</td>\n",
       "      <td>1</td>\n",
       "    </tr>\n",
       "    <tr>\n",
       "      <td>3</td>\n",
       "      <td>39475350</td>\n",
       "      <td>1</td>\n",
       "    </tr>\n",
       "    <tr>\n",
       "      <td>4</td>\n",
       "      <td>47206413</td>\n",
       "      <td>1</td>\n",
       "    </tr>\n",
       "  </tbody>\n",
       "</table>\n",
       "</div>"
      ],
      "text/plain": [
       "   visitorid  orders\n",
       "0    5114589       1\n",
       "1    6958315       1\n",
       "2   11685486       1\n",
       "3   39475350       1\n",
       "4   47206413       1"
      ]
     },
     "execution_count": 27,
     "metadata": {},
     "output_type": "execute_result"
    }
   ],
   "source": [
    "orders_per_user = orders.groupby('visitorid', as_index=False).agg({'transactionid':'nunique'})\\\n",
    "                         .rename(columns={'transactionid':'orders'})\n",
    "orders_per_user.head()"
   ]
  },
  {
   "cell_type": "code",
   "execution_count": 28,
   "metadata": {},
   "outputs": [
    {
     "data": {
      "image/png": "[encoded data removed]",
      "text/plain": [
       "<Figure size 720x576 with 1 Axes>"
      ]
     },
     "metadata": {},
     "output_type": "display_data"
    }
   ],
   "source": [
    "x_values = pd.Series(range(0,len(orders_per_user['orders'])))\n",
    "plt.scatter(x_values, orders_per_user['orders'])\n",
    "plt.title('График количества заказов по пользователям')\n",
    "plt.ylabel(\"Заказы\")\n",
    "plt.xlabel(\"Пользователи\")\n",
    "plt.show()"
   ]
  },
  {
   "cell_type": "markdown",
   "metadata": {},
   "source": [
    "__Вывод:__ Зачастую пользователи совершают 1 покупку, однако и наблюдается люди, которые приобретают 10+ раз."
   ]
  },
  {
   "cell_type": "markdown",
   "metadata": {},
   "source": [
    "__Посчитайте 95-й и 99-й перцентили количества заказов на пользователя. Выберите границу для определения аномальных пользователей.__"
   ]
  },
  {
   "cell_type": "code",
   "execution_count": 29,
   "metadata": {},
   "outputs": [
    {
     "name": "stdout",
     "output_type": "stream",
     "text": [
      "90 перцентиль: 1\n",
      "95 перцентиль: 1\n",
      "99 перцентиль: 1\n"
     ]
    }
   ],
   "source": [
    "print('90 перцентиль: %.0f' % (np.percentile(orders_per_user['orders'], [90])))\n",
    "print('95 перцентиль: %.0f' % (np.percentile(orders_per_user['orders'], [95])))\n",
    "print('99 перцентиль: %.0f' % (np.percentile(orders_per_user['orders'], [99])))\n",
    "orders_per_99 = np.percentile(orders_per_user['orders'], [99])[0]"
   ]
  },
  {
   "cell_type": "code",
   "execution_count": 30,
   "metadata": {},
   "outputs": [
    {
     "name": "stdout",
     "output_type": "stream",
     "text": [
      "Максимальное количество пользователей: 1\n"
     ]
    }
   ],
   "source": [
    "print('Максимальное количество пользователей:', orders_per_user['orders'].max())"
   ]
  },
  {
   "cell_type": "markdown",
   "metadata": {},
   "source": [
    "__Вывод:__ Однозначно можно сказать только одно - всё, что находится за 99 перцентилем аномально."
   ]
  },
  {
   "cell_type": "markdown",
   "metadata": {},
   "source": [
    "__Постройте точечный график стоимостей заказов. Сделайте выводы и предположения.__"
   ]
  },
  {
   "cell_type": "code",
   "execution_count": 31,
   "metadata": {},
   "outputs": [
    {
     "data": {
      "image/png": "[encoded data removed]",
      "text/plain": [
       "<Figure size 720x576 with 1 Axes>"
      ]
     },
     "metadata": {},
     "output_type": "display_data"
    }
   ],
   "source": [
    "x_values = pd.Series(range(0,len(orders['revenue'])))\n",
    "plt.scatter(x_values, orders['revenue'])\n",
    "plt.title('График стоимости заказов')\n",
    "plt.ylabel(\"Заказы\")\n",
    "plt.xlabel(\"Цена\")\n",
    "plt.show()"
   ]
  },
  {
   "cell_type": "markdown",
   "metadata": {},
   "source": [
    "__Вывод:__ Исходя из этого графика мы можем увидеть 2 выброса."
   ]
  },
  {
   "cell_type": "markdown",
   "metadata": {},
   "source": [
    "__Посчитайте 95-й и 99-й перцентили стоимости заказов. Выберите границу для определения аномальных заказов.__"
   ]
  },
  {
   "cell_type": "code",
   "execution_count": 32,
   "metadata": {},
   "outputs": [
    {
     "name": "stdout",
     "output_type": "stream",
     "text": [
      "90 перцентиль: 17990.00\n",
      "95 перцентиль: 28000.00\n",
      "99 перцентиль: 53904.00\n"
     ]
    }
   ],
   "source": [
    "print('90 перцентиль: %.2f' % (np.percentile(orders['revenue'], [90])))\n",
    "print('95 перцентиль: %.2f' % (np.percentile(orders['revenue'], [95])))\n",
    "print('99 перцентиль: %.2f' % (np.percentile(orders['revenue'], [99])))\n",
    "revenue_per_99 = np.percentile(orders['revenue'], [99])[0]"
   ]
  },
  {
   "cell_type": "code",
   "execution_count": 33,
   "metadata": {},
   "outputs": [
    {
     "name": "stdout",
     "output_type": "stream",
     "text": [
      "Максимальная стоимость заказа: 1294500\n"
     ]
    }
   ],
   "source": [
    "print('Максимальная стоимость заказа:', orders['revenue'].max())"
   ]
  },
  {
   "cell_type": "markdown",
   "metadata": {},
   "source": [
    "__Вывод:__ Однозначно можно сказать только одно - всё, что находится за 99 перцентилем аномально."
   ]
  },
  {
   "cell_type": "markdown",
   "metadata": {},
   "source": [
    "__Посчитайте статистическую значимость различий в конверсии между группами по «сырым» данным. Сделайте выводы и предположения.__"
   ]
  },
  {
   "cell_type": "markdown",
   "metadata": {},
   "source": [
    "- Для проверки будем использовать непараметрический критерий Манна-Уитни, так как с большой долей вероятности можно утверждать что данные у нас распределены ненормально."
   ]
  },
  {
   "cell_type": "code",
   "execution_count": 34,
   "metadata": {},
   "outputs": [],
   "source": [
    "# таблицы с данными по заказам на каждого пользователя\n",
    "orders_by_usersA = orders[orders['group']=='A'].groupby('visitorid')['transactionid'].nunique().reset_index()\n",
    "orders_by_usersA.columns=['visitorsid','orders']\n",
    "\n",
    "orders_by_usersB = orders[orders['group']=='B'].groupby('visitorid')['transactionid'].nunique().reset_index()\n",
    "orders_by_usersB.columns=['visitorsid','orders']"
   ]
  },
  {
   "cell_type": "code",
   "execution_count": 35,
   "metadata": {},
   "outputs": [],
   "source": [
    "freeloadersA = pd.Series(0, index=np.arange(visitors[visitors['group']=='A']['visitors'].sum() - len(orders_by_usersA['orders'])), name='orders')\n",
    "freeloadersB = pd.Series(0, index=np.arange(visitors[visitors['group']=='B']['visitors'].sum() - len(orders_by_usersB['orders'])), name='orders')"
   ]
  },
  {
   "cell_type": "code",
   "execution_count": 36,
   "metadata": {},
   "outputs": [],
   "source": [
    "# создаем выборки с сырыми данными для стат тестов\n",
    "sampleA = pd.concat([orders_by_usersA['orders'], freeloadersA])\n",
    "sampleB = pd.concat([orders_by_usersB['orders'], freeloadersB])"
   ]
  },
  {
   "cell_type": "code",
   "execution_count": 37,
   "metadata": {},
   "outputs": [
    {
     "name": "stdout",
     "output_type": "stream",
     "text": [
      "p_value: 0.00469\n",
      "Средняя конверсия группы А: 2.3%\n",
      "Средняя конверсия группы B: 2.7%\n"
     ]
    }
   ],
   "source": [
    "#H0 - конверсия группы А = конверсии группы В\n",
    "#H1 - конверсии групп не равны\n",
    "#Примем для себя уровень значимости alpha = .05\n",
    "print('p_value: {:.5f}'.format(st.mannwhitneyu(sampleA, sampleB)[1]))\n",
    "print('Средняя конверсия группы А: {:.1%}'.format(sampleA.mean()))\n",
    "print('Средняя конверсия группы B: {:.1%}'.format(sampleB.mean()))"
   ]
  },
  {
   "cell_type": "markdown",
   "metadata": {},
   "source": [
    "__Вывод:__ Так как p_value меньше заданного значения alpha, то мы отвергаем гипотизу о равенстве средний конверсий"
   ]
  },
  {
   "cell_type": "markdown",
   "metadata": {},
   "source": [
    "__Посчитайте статистическую значимость различий в среднем чеке заказа между группами по «сырым» данным. Сделайте выводы и предположения.__"
   ]
  },
  {
   "cell_type": "code",
   "execution_count": 38,
   "metadata": {},
   "outputs": [
    {
     "name": "stdout",
     "output_type": "stream",
     "text": [
      "p_value: 0.44482\n",
      "Средний чек группы А: 7124.20\n",
      "Средний чек группы B: 9557.53\n"
     ]
    }
   ],
   "source": [
    "#H0 - средний чек группы А = чеку группы В\n",
    "#H1 - средний чек групп не равен\n",
    "#Примем для себя уровень значимости alpha = .05\n",
    "print('p_value: {:.5f}'.format(\n",
    "    st.mannwhitneyu(orders[orders['group']=='A']['revenue'], orders[orders['group']=='B']['revenue'])[1]\n",
    "))\n",
    "print('Средний чек группы А: {:.2f}'.format(orders[orders['group']=='A']['revenue'].mean()))\n",
    "print('Средний чек группы B: {:.2f}'.format(orders[orders['group']=='B']['revenue'].mean()))"
   ]
  },
  {
   "cell_type": "markdown",
   "metadata": {},
   "source": [
    "__Вывод:__ Несмотря на разницу среднего чека в 2000, тест показывает, что мы не можем отвергнуть нулевую гипотезу о равенстве средних. То есть, такое различие не статистически значимо."
   ]
  },
  {
   "cell_type": "markdown",
   "metadata": {},
   "source": [
    "__Посчитайте статистическую значимость различий в конверсии между группами по «очищенным» данным. Сделайте выводы и предположения.__"
   ]
  },
  {
   "cell_type": "code",
   "execution_count": 39,
   "metadata": {},
   "outputs": [],
   "source": [
    "#Сформируем \"очищенную\" таблицу\n",
    "orders_clean = orders.query('revenue<= @revenue_per_99')\n",
    "orders_clean_users = orders_per_user.query('orders<= @orders_per_99')\n",
    "orders_clean = orders_clean.loc[orders_clean['visitorid'].isin(orders_clean_users['visitorid'])]"
   ]
  },
  {
   "cell_type": "code",
   "execution_count": 40,
   "metadata": {},
   "outputs": [],
   "source": [
    "orders_by_usersA = orders_clean[orders_clean['group']=='A'].groupby('visitorid')['transactionid'].nunique().reset_index()\n",
    "orders_by_usersA.columns=['visitorsid','orders']\n",
    "\n",
    "orders_by_usersB = orders_clean[orders_clean['group']=='B'].groupby('visitorid')['transactionid'].nunique().reset_index()\n",
    "orders_by_usersB.columns=['visitorsid','orders']"
   ]
  },
  {
   "cell_type": "code",
   "execution_count": 41,
   "metadata": {},
   "outputs": [],
   "source": [
    "freeloadersA = pd.Series(0, index=np.arange(visitors[visitors['group']=='A']['visitors'].sum() - len(orders_by_usersA['orders'])), name='orders')\n",
    "freeloadersB = pd.Series(0, index=np.arange(visitors[visitors['group']=='B']['visitors'].sum() - len(orders_by_usersB['orders'])), name='orders')"
   ]
  },
  {
   "cell_type": "code",
   "execution_count": 42,
   "metadata": {},
   "outputs": [],
   "source": [
    "# создаем выборки с чистыми данными для стат тестов\n",
    "sampleA = pd.concat([orders_by_usersA['orders'], freeloadersA])\n",
    "sampleB = pd.concat([orders_by_usersB['orders'], freeloadersB])"
   ]
  },
  {
   "cell_type": "code",
   "execution_count": 43,
   "metadata": {},
   "outputs": [
    {
     "name": "stdout",
     "output_type": "stream",
     "text": [
      "p_value: 0.00818\n",
      "Средняя конверсия (очищенная) группы А: 2.3%\n",
      "Средняя конверсия (очищенная) группы B: 2.7%\n"
     ]
    }
   ],
   "source": [
    "#H0 - конверсия группы А = конверсии группы В\n",
    "#H1 - конверсии групп не равны\n",
    "#Примем для себя уровень значимости alpha = .05\n",
    "print('p_value: {:.5f}'.format(st.mannwhitneyu(sampleA, sampleB,True, 'two-sided')[1]))\n",
    "print('Средняя конверсия (очищенная) группы А: {:.1%}'.format(sampleA.mean()))\n",
    "print('Средняя конверсия (очищенная) группы B: {:.1%}'.format(sampleB.mean()))"
   ]
  },
  {
   "cell_type": "markdown",
   "metadata": {},
   "source": [
    "На очищенных данных ситуация с конверсией почти не изменилась, только конверсия немного уменьшилась. Группа В, по прежнему, в лидерах по конверсии. Отвергаем H0 о равенстве конверсий."
   ]
  },
  {
   "cell_type": "markdown",
   "metadata": {},
   "source": [
    "__Посчитайте статистическую значимость различий в среднем чеке заказа между группами по «очищенным» данным. Сделайте выводы и предположения.__"
   ]
  },
  {
   "cell_type": "code",
   "execution_count": 44,
   "metadata": {},
   "outputs": [
    {
     "name": "stdout",
     "output_type": "stream",
     "text": [
      "p_value: 0.96949\n",
      "Средний чек (очищенный) группы А: 6372.00\n",
      "Средний чек (очищенный) группы B: 6387.22\n"
     ]
    }
   ],
   "source": [
    "print('p_value: {:.5f}'.format(\n",
    "    st.mannwhitneyu(orders_clean[orders_clean['group']=='A']['revenue'], orders_clean[orders_clean['group']=='B']['revenue'], True, 'two-sided')[1]\n",
    "))\n",
    "print('Средний чек (очищенный) группы А: {:.2f}'.format(orders_clean[orders_clean['group']=='A']['revenue'].mean()))\n",
    "print('Средний чек (очищенный) группы B: {:.2f}'.format(orders_clean[orders_clean['group']=='B']['revenue'].mean()))"
   ]
  },
  {
   "cell_type": "markdown",
   "metadata": {},
   "source": [
    "Такая же ситуация с тестом и по среднему чеку, мы по прежнему не можем отвергнуть нулевую гипотезу о равенстве среднего чека. Однако, средние чеки значительно выровнялись, больше нет такой большой разницы между группа А и В по среднему чеку."
   ]
  },
  {
   "cell_type": "markdown",
   "metadata": {},
   "source": [
    "plt.title('График количества заказов по пользователям')\n",
    "plt.ylabel(\"Заказы\")\n",
    "plt.xlabel(\"Пользователи\")"
   ]
  },
  {
   "cell_type": "code",
   "execution_count": 45,
   "metadata": {},
   "outputs": [],
   "source": [
    "dates_groups = orders[['date','group']].drop_duplicates()\n",
    "orders_aggregated = (dates_groups\n",
    "                     .apply(lambda x: orders_clean[np.logical_and(orders_clean['date'] <= x['date']\n",
    "                                                            , orders_clean['group'] ==  x['group'])]\n",
    "                    .agg({'date':'max', 'group':'max', 'revenue':'sum', 'transactionid':'nunique'}), axis=1) \n",
    "                    .sort_values(by=['date','group']))\n",
    "                    \n",
    "orders_aggregated.rename(columns={'transactionid':'orders_clean'}, inplace=True)\n",
    "\n",
    "visitors_aggregated = (dates_groups\n",
    "                     .apply(lambda x: visitors[np.logical_and(visitors['date'] <= x['date']\n",
    "                                                            , visitors['group'] ==  x['group'])]\n",
    "                    .agg({'date':'max', 'group':'max', 'visitors':'sum'}), axis=1) \n",
    "                    .sort_values(by=['date','group']))\n",
    "visitors_aggregated.head()\n",
    "\n",
    "cumulative_data = orders_aggregated.merge(visitors_aggregated, on=['date','group'])\n",
    "cumulative_data.head()\n",
    "\n",
    "\n",
    "\n",
    "register_matplotlib_converters()\n",
    "# Построим график кумулятивной выручки по группам, предварительно изучив количество заказов в каждой из групп\n",
    "cumulative_a = cumulative_data.loc[cumulative_data['group'] == 'A',['date','revenue','orders_clean','visitors']]\n",
    "cumulative_b = cumulative_data.loc[cumulative_data['group'] == 'B',['date','revenue','orders_clean','visitors']]"
   ]
  },
  {
   "cell_type": "code",
   "execution_count": 46,
   "metadata": {},
   "outputs": [
    {
     "data": {
      "image/png": "[encoded data removed]",
      "text/plain": [
       "<Figure size 720x360 with 1 Axes>"
      ]
     },
     "metadata": {},
     "output_type": "display_data"
    }
   ],
   "source": [
    "plt.style.use('seaborn-poster')\n",
    "plt.figure(figsize=(10, 5))\n",
    "plt.plot(cumulative_a['date'], cumulative_a['revenue'], label='A')\n",
    "plt.plot(cumulative_b['date'], cumulative_b['revenue'], label='B')\n",
    "plt.ylabel(\"Выручка\")\n",
    "plt.xticks(rotation=45)\n",
    "plt.title('Кумулятивная выручка по группам на чистых данных')\n",
    "plt.legend(loc='best');"
   ]
  },
  {
   "cell_type": "markdown",
   "metadata": {},
   "source": [
    "# Вывод\n",
    "Данные были загружены и подготовлены. Предобработки данных не понадобилось, лишь пара преобразований типов данных. Так же было выявлено 58 пользователей, которые попали в обе группы, мы их удалили. Оба графика кумулятивной вырочки расли линейно, однако у группы \"В\" наблюдается резкий скачок, это за 99 перцентилем - выброс.\n",
    "\n",
    "По ICE приоритет на стороне\n",
    "- \"Запустить акцию, дающую скидку на товар в день рождения\"\n",
    "- \"Добавить два новых канала привлечения трафика, что позволит привлекать на 30% больше пользователей\"\n",
    "- \"Добавить форму подписки на все основные страницы, чтобы собрать базу клиентов для email-рассылок\"\n",
    "\n",
    "\n",
    "По RICE в топ-3 попадают:\n",
    "- \"Добавить форму подписки на все основные страницы, чтобы собрать базу клиентов для email-рассылок\"\n",
    "- \"Добавить блоки рекомендаций товаров на сайт интернет магазина, чтобы повысить конверсию и средний чек заказа\"\n",
    "- \"Добавить два новых канала привлечения трафика, что позволит привлекать на 30% больше пользователей\"\n",
    "\n",
    "__Хуже всего себя проявила гипотеза под номером 8(\"Запустить акцию, дающую скидку на товар в день рождения\") так сильно опустилась, ведь её охват равен 1.__\n",
    "\n",
    "По результатам проведенного анализа, на чистых данных, была выявлена стат значимость в конверсих двух групп, конверсия в группе В выше. И на графике выше, хоть он и на грязных данных, мы видим что конверсия группы В зафиксировалась примерно на одном уровне.\n",
    "\n",
    "В среднем чеке групп не было найден стат значимых различий. Хоть и у группы В он немного меньше.\n",
    "\n",
    "Учитывая что конверсия группы В больше чем у группы А и больший размер куммулитивной выручки, принимаем решение остановить тест и зафиксировать победу группы В."
   ]
  },
  {
   "cell_type": "code",
   "execution_count": null,
   "metadata": {},
   "outputs": [],
   "source": []
  }
 ],
 "metadata": {
  "ExecuteTimeLog": [
   {
    "duration": 1522,
    "start_time": "2021-10-24T16:01:15.160Z"
   },
   {
    "duration": 4,
    "start_time": "2021-10-24T16:01:34.282Z"
   },
   {
    "duration": 100,
    "start_time": "2021-10-24T16:01:46.154Z"
   },
   {
    "duration": 17,
    "start_time": "2021-10-24T16:02:15.174Z"
   },
   {
    "duration": 18,
    "start_time": "2021-10-24T16:02:20.383Z"
   },
   {
    "duration": 9,
    "start_time": "2021-10-24T16:02:27.466Z"
   },
   {
    "duration": 13,
    "start_time": "2021-10-24T16:02:40.281Z"
   },
   {
    "duration": 9,
    "start_time": "2021-10-24T16:02:45.967Z"
   },
   {
    "duration": 11,
    "start_time": "2021-10-24T16:05:04.908Z"
   },
   {
    "duration": 17,
    "start_time": "2021-10-24T16:05:11.414Z"
   },
   {
    "duration": 845,
    "start_time": "2021-10-24T16:05:30.504Z"
   },
   {
    "duration": 6,
    "start_time": "2021-10-24T16:06:02.164Z"
   },
   {
    "duration": 23,
    "start_time": "2021-10-24T16:06:08.200Z"
   },
   {
    "duration": 703,
    "start_time": "2021-10-24T16:06:18.506Z"
   },
   {
    "duration": 206,
    "start_time": "2021-10-25T10:17:10.287Z"
   },
   {
    "duration": 178,
    "start_time": "2021-10-25T10:17:18.273Z"
   },
   {
    "duration": 1071,
    "start_time": "2021-10-25T10:17:18.968Z"
   },
   {
    "duration": 80,
    "start_time": "2021-10-25T10:17:20.041Z"
   },
   {
    "duration": 12,
    "start_time": "2021-10-25T10:17:20.123Z"
   },
   {
    "duration": 13,
    "start_time": "2021-10-25T10:17:20.136Z"
   },
   {
    "duration": 7,
    "start_time": "2021-10-25T10:17:20.584Z"
   },
   {
    "duration": 9,
    "start_time": "2021-10-25T10:17:20.920Z"
   },
   {
    "duration": 6,
    "start_time": "2021-10-25T10:17:21.160Z"
   },
   {
    "duration": 12,
    "start_time": "2021-10-25T10:17:21.909Z"
   },
   {
    "duration": 458,
    "start_time": "2021-10-25T10:17:22.274Z"
   },
   {
    "duration": 11,
    "start_time": "2021-10-25T10:17:23.398Z"
   },
   {
    "duration": 445,
    "start_time": "2021-10-25T10:17:23.917Z"
   },
   {
    "duration": 4,
    "start_time": "2021-10-25T10:17:25.703Z"
   },
   {
    "duration": 19,
    "start_time": "2021-10-25T10:17:26.133Z"
   },
   {
    "duration": 19,
    "start_time": "2021-10-25T10:17:31.569Z"
   },
   {
    "duration": 15,
    "start_time": "2021-10-25T10:17:43.413Z"
   },
   {
    "duration": 5,
    "start_time": "2021-10-25T10:18:08.793Z"
   },
   {
    "duration": 4,
    "start_time": "2021-10-25T10:18:14.541Z"
   },
   {
    "duration": 10,
    "start_time": "2021-10-25T10:18:23.536Z"
   },
   {
    "duration": 527,
    "start_time": "2021-10-25T10:18:55.069Z"
   },
   {
    "duration": 472,
    "start_time": "2021-10-25T10:19:13.034Z"
   },
   {
    "duration": 8,
    "start_time": "2021-10-25T11:28:59.352Z"
   },
   {
    "duration": 21,
    "start_time": "2021-10-25T11:29:00.109Z"
   },
   {
    "duration": 20,
    "start_time": "2021-10-25T11:29:00.442Z"
   },
   {
    "duration": 16,
    "start_time": "2021-10-25T11:29:00.740Z"
   },
   {
    "duration": 5,
    "start_time": "2021-10-25T11:29:01.075Z"
   },
   {
    "duration": 5,
    "start_time": "2021-10-25T11:29:01.528Z"
   },
   {
    "duration": 10,
    "start_time": "2021-10-25T11:29:02.164Z"
   },
   {
    "duration": 349,
    "start_time": "2021-10-25T11:29:03.385Z"
   },
   {
    "duration": 59,
    "start_time": "2021-10-25T14:13:15.336Z"
   },
   {
    "duration": 366,
    "start_time": "2021-10-25T14:13:27.472Z"
   },
   {
    "duration": 355,
    "start_time": "2021-10-25T14:13:34.172Z"
   },
   {
    "duration": 410,
    "start_time": "2021-10-25T14:15:37.642Z"
   },
   {
    "duration": 457,
    "start_time": "2021-10-25T14:17:13.008Z"
   },
   {
    "duration": 338,
    "start_time": "2021-10-25T14:17:16.542Z"
   },
   {
    "duration": 498,
    "start_time": "2021-10-25T14:17:20.975Z"
   },
   {
    "duration": 431,
    "start_time": "2021-10-25T14:19:28.341Z"
   },
   {
    "duration": 444,
    "start_time": "2021-10-25T14:19:33.862Z"
   },
   {
    "duration": 452,
    "start_time": "2021-10-25T14:20:02.212Z"
   },
   {
    "duration": 352,
    "start_time": "2021-10-25T14:20:30.663Z"
   },
   {
    "duration": 445,
    "start_time": "2021-10-25T14:23:49.213Z"
   },
   {
    "duration": 451,
    "start_time": "2021-10-25T14:24:37.191Z"
   },
   {
    "duration": 6,
    "start_time": "2021-10-25T14:25:48.277Z"
   },
   {
    "duration": 10,
    "start_time": "2021-10-25T14:25:53.642Z"
   },
   {
    "duration": 403,
    "start_time": "2021-10-25T14:26:23.065Z"
   },
   {
    "duration": 509,
    "start_time": "2021-10-25T14:26:44.688Z"
   },
   {
    "duration": 535,
    "start_time": "2021-10-25T14:26:48.678Z"
   },
   {
    "duration": 385,
    "start_time": "2021-10-25T14:26:51.513Z"
   },
   {
    "duration": 371,
    "start_time": "2021-10-25T14:26:56.233Z"
   },
   {
    "duration": 6,
    "start_time": "2021-10-25T14:28:08.886Z"
   },
   {
    "duration": 356,
    "start_time": "2021-10-25T14:31:45.547Z"
   },
   {
    "duration": 6,
    "start_time": "2021-10-25T14:32:25.485Z"
   },
   {
    "duration": 6,
    "start_time": "2021-10-25T14:32:35.244Z"
   },
   {
    "duration": 6,
    "start_time": "2021-10-25T14:33:40.587Z"
   },
   {
    "duration": 6,
    "start_time": "2021-10-25T14:33:45.213Z"
   },
   {
    "duration": 7,
    "start_time": "2021-10-25T14:33:49.474Z"
   },
   {
    "duration": 4,
    "start_time": "2021-10-25T14:34:01.757Z"
   },
   {
    "duration": 71,
    "start_time": "2021-10-25T14:34:17.669Z"
   },
   {
    "duration": 3,
    "start_time": "2021-10-25T14:34:20.451Z"
   },
   {
    "duration": 4,
    "start_time": "2021-10-25T14:34:23.907Z"
   },
   {
    "duration": 4,
    "start_time": "2021-10-25T14:35:42.953Z"
   },
   {
    "duration": 418,
    "start_time": "2021-10-25T14:39:32.871Z"
   },
   {
    "duration": 6,
    "start_time": "2021-10-25T14:40:29.094Z"
   },
   {
    "duration": 6,
    "start_time": "2021-10-25T14:40:34.339Z"
   },
   {
    "duration": 59,
    "start_time": "2021-10-25T14:41:03.999Z"
   },
   {
    "duration": 4,
    "start_time": "2021-10-25T14:41:05.794Z"
   },
   {
    "duration": 11,
    "start_time": "2021-10-25T14:42:53.665Z"
   },
   {
    "duration": 218,
    "start_time": "2021-10-25T15:01:03.648Z"
   },
   {
    "duration": 11,
    "start_time": "2021-10-25T15:01:29.425Z"
   },
   {
    "duration": 9,
    "start_time": "2021-10-25T15:01:54.398Z"
   },
   {
    "duration": 10,
    "start_time": "2021-10-25T15:02:01.035Z"
   },
   {
    "duration": 8,
    "start_time": "2021-10-25T15:02:32.578Z"
   },
   {
    "duration": 4,
    "start_time": "2021-10-25T15:02:43.201Z"
   },
   {
    "duration": 8,
    "start_time": "2021-10-25T15:03:09.738Z"
   },
   {
    "duration": 10,
    "start_time": "2021-10-25T15:05:10.215Z"
   },
   {
    "duration": 7,
    "start_time": "2021-10-25T15:10:08.192Z"
   },
   {
    "duration": 179,
    "start_time": "2021-10-25T15:10:12.469Z"
   },
   {
    "duration": 4,
    "start_time": "2021-10-25T15:10:35.128Z"
   },
   {
    "duration": 6,
    "start_time": "2021-10-25T15:10:59.977Z"
   },
   {
    "duration": 4,
    "start_time": "2021-10-25T15:11:02.397Z"
   },
   {
    "duration": 5,
    "start_time": "2021-10-25T15:11:08.516Z"
   },
   {
    "duration": 5,
    "start_time": "2021-10-25T15:12:59.459Z"
   },
   {
    "duration": 19,
    "start_time": "2021-10-25T15:13:04.467Z"
   },
   {
    "duration": 9,
    "start_time": "2021-10-25T15:13:58.882Z"
   },
   {
    "duration": 7,
    "start_time": "2021-10-25T15:44:43.490Z"
   },
   {
    "duration": 7,
    "start_time": "2021-10-25T15:44:51.974Z"
   },
   {
    "duration": 17,
    "start_time": "2021-10-25T15:45:36.278Z"
   },
   {
    "duration": 10,
    "start_time": "2021-10-25T15:46:43.504Z"
   },
   {
    "duration": 7,
    "start_time": "2021-10-25T15:46:43.824Z"
   },
   {
    "duration": 8,
    "start_time": "2021-10-25T15:46:44.125Z"
   },
   {
    "duration": -500,
    "start_time": "2021-10-25T15:47:22.960Z"
   },
   {
    "duration": 176,
    "start_time": "2021-10-25T15:47:23.380Z"
   },
   {
    "duration": 6,
    "start_time": "2021-10-25T15:48:40.199Z"
   },
   {
    "duration": 4427,
    "start_time": "2021-10-25T15:48:58.616Z"
   },
   {
    "duration": 5,
    "start_time": "2021-10-25T15:49:40.950Z"
   },
   {
    "duration": 198,
    "start_time": "2021-10-25T15:50:07.299Z"
   },
   {
    "duration": 7,
    "start_time": "2021-10-25T15:51:10.651Z"
   },
   {
    "duration": 187,
    "start_time": "2021-10-25T15:51:31.527Z"
   },
   {
    "duration": 7,
    "start_time": "2021-10-25T15:51:42.093Z"
   },
   {
    "duration": 8,
    "start_time": "2021-10-25T15:52:14.795Z"
   },
   {
    "duration": 10,
    "start_time": "2021-10-25T15:52:16.830Z"
   },
   {
    "duration": 7,
    "start_time": "2021-10-25T15:52:17.056Z"
   },
   {
    "duration": 7,
    "start_time": "2021-10-25T15:52:17.417Z"
   },
   {
    "duration": 1082,
    "start_time": "2021-10-25T15:52:28.078Z"
   },
   {
    "duration": 95,
    "start_time": "2021-10-25T15:52:29.162Z"
   },
   {
    "duration": 11,
    "start_time": "2021-10-25T15:52:29.259Z"
   },
   {
    "duration": 16,
    "start_time": "2021-10-25T15:52:29.272Z"
   },
   {
    "duration": 6,
    "start_time": "2021-10-25T15:52:29.290Z"
   },
   {
    "duration": 13,
    "start_time": "2021-10-25T15:52:29.297Z"
   },
   {
    "duration": 7,
    "start_time": "2021-10-25T15:52:29.311Z"
   },
   {
    "duration": 13,
    "start_time": "2021-10-25T15:52:29.320Z"
   },
   {
    "duration": 481,
    "start_time": "2021-10-25T15:52:29.335Z"
   },
   {
    "duration": 13,
    "start_time": "2021-10-25T15:52:29.817Z"
   },
   {
    "duration": 453,
    "start_time": "2021-10-25T15:52:29.832Z"
   },
   {
    "duration": 8,
    "start_time": "2021-10-25T15:52:30.287Z"
   },
   {
    "duration": 22,
    "start_time": "2021-10-25T15:52:30.296Z"
   },
   {
    "duration": 17,
    "start_time": "2021-10-25T15:52:30.320Z"
   },
   {
    "duration": 15,
    "start_time": "2021-10-25T15:52:30.339Z"
   },
   {
    "duration": 4,
    "start_time": "2021-10-25T15:52:30.355Z"
   },
   {
    "duration": 33,
    "start_time": "2021-10-25T15:52:30.361Z"
   },
   {
    "duration": 18,
    "start_time": "2021-10-25T15:52:30.395Z"
   },
   {
    "duration": 350,
    "start_time": "2021-10-25T15:52:30.415Z"
   },
   {
    "duration": 347,
    "start_time": "2021-10-25T15:52:30.767Z"
   },
   {
    "duration": 426,
    "start_time": "2021-10-25T15:52:31.116Z"
   },
   {
    "duration": 351,
    "start_time": "2021-10-25T15:52:31.544Z"
   },
   {
    "duration": 451,
    "start_time": "2021-10-25T15:52:31.898Z"
   },
   {
    "duration": 10,
    "start_time": "2021-10-25T15:52:32.351Z"
   },
   {
    "duration": 459,
    "start_time": "2021-10-25T15:52:32.362Z"
   },
   {
    "duration": 6,
    "start_time": "2021-10-25T15:52:32.823Z"
   },
   {
    "duration": 5,
    "start_time": "2021-10-25T15:52:32.831Z"
   },
   {
    "duration": 399,
    "start_time": "2021-10-25T15:52:32.837Z"
   },
   {
    "duration": 6,
    "start_time": "2021-10-25T15:52:33.238Z"
   },
   {
    "duration": 4,
    "start_time": "2021-10-25T15:52:33.245Z"
   },
   {
    "duration": 10,
    "start_time": "2021-10-25T15:52:33.250Z"
   },
   {
    "duration": 5,
    "start_time": "2021-10-25T15:52:33.262Z"
   },
   {
    "duration": 25,
    "start_time": "2021-10-25T15:52:33.268Z"
   },
   {
    "duration": 9,
    "start_time": "2021-10-25T15:52:33.295Z"
   },
   {
    "duration": 10,
    "start_time": "2021-10-25T15:52:33.305Z"
   },
   {
    "duration": 9,
    "start_time": "2021-10-25T15:52:33.317Z"
   },
   {
    "duration": 16,
    "start_time": "2021-10-25T15:52:33.327Z"
   },
   {
    "duration": 7,
    "start_time": "2021-10-25T15:52:33.345Z"
   },
   {
    "duration": 40,
    "start_time": "2021-10-25T15:52:33.353Z"
   },
   {
    "duration": 4,
    "start_time": "2021-10-25T15:56:11.878Z"
   },
   {
    "duration": 8,
    "start_time": "2021-10-25T15:56:12.306Z"
   },
   {
    "duration": 12,
    "start_time": "2021-10-25T16:25:07.108Z"
   },
   {
    "duration": 275,
    "start_time": "2021-10-25T16:25:41.066Z"
   },
   {
    "duration": 5157,
    "start_time": "2021-10-25T16:26:50.977Z"
   },
   {
    "duration": 296,
    "start_time": "2021-10-25T16:27:08.667Z"
   },
   {
    "duration": 320,
    "start_time": "2021-10-25T16:27:23.335Z"
   },
   {
    "duration": 1067,
    "start_time": "2021-10-25T16:51:46.741Z"
   },
   {
    "duration": 83,
    "start_time": "2021-10-25T16:51:47.810Z"
   },
   {
    "duration": 10,
    "start_time": "2021-10-25T16:51:47.895Z"
   },
   {
    "duration": 11,
    "start_time": "2021-10-25T16:51:47.907Z"
   },
   {
    "duration": 6,
    "start_time": "2021-10-25T16:51:47.919Z"
   },
   {
    "duration": 8,
    "start_time": "2021-10-25T16:51:47.926Z"
   },
   {
    "duration": 6,
    "start_time": "2021-10-25T16:51:47.936Z"
   },
   {
    "duration": 12,
    "start_time": "2021-10-25T16:51:47.944Z"
   },
   {
    "duration": 493,
    "start_time": "2021-10-25T16:51:47.958Z"
   },
   {
    "duration": 11,
    "start_time": "2021-10-25T16:51:48.453Z"
   },
   {
    "duration": 445,
    "start_time": "2021-10-25T16:51:48.466Z"
   },
   {
    "duration": 7,
    "start_time": "2021-10-25T16:51:48.912Z"
   },
   {
    "duration": 22,
    "start_time": "2021-10-25T16:51:48.921Z"
   },
   {
    "duration": 18,
    "start_time": "2021-10-25T16:51:48.944Z"
   },
   {
    "duration": 35,
    "start_time": "2021-10-25T16:51:48.963Z"
   },
   {
    "duration": 4,
    "start_time": "2021-10-25T16:51:49.000Z"
   },
   {
    "duration": 8,
    "start_time": "2021-10-25T16:51:49.005Z"
   },
   {
    "duration": 14,
    "start_time": "2021-10-25T16:51:49.014Z"
   },
   {
    "duration": 382,
    "start_time": "2021-10-25T16:51:49.029Z"
   },
   {
    "duration": 353,
    "start_time": "2021-10-25T16:51:49.413Z"
   },
   {
    "duration": 480,
    "start_time": "2021-10-25T16:51:49.767Z"
   },
   {
    "duration": 352,
    "start_time": "2021-10-25T16:51:50.249Z"
   },
   {
    "duration": 444,
    "start_time": "2021-10-25T16:51:50.604Z"
   },
   {
    "duration": 10,
    "start_time": "2021-10-25T16:51:51.050Z"
   },
   {
    "duration": 457,
    "start_time": "2021-10-25T16:51:51.061Z"
   },
   {
    "duration": 6,
    "start_time": "2021-10-25T16:51:51.520Z"
   },
   {
    "duration": 6,
    "start_time": "2021-10-25T16:51:51.527Z"
   },
   {
    "duration": 397,
    "start_time": "2021-10-25T16:51:51.534Z"
   },
   {
    "duration": 6,
    "start_time": "2021-10-25T16:51:51.933Z"
   },
   {
    "duration": 4,
    "start_time": "2021-10-25T16:51:51.941Z"
   },
   {
    "duration": 11,
    "start_time": "2021-10-25T16:51:51.947Z"
   },
   {
    "duration": 8,
    "start_time": "2021-10-25T16:51:51.959Z"
   },
   {
    "duration": 23,
    "start_time": "2021-10-25T16:51:51.968Z"
   },
   {
    "duration": 15,
    "start_time": "2021-10-25T16:51:51.993Z"
   },
   {
    "duration": 10,
    "start_time": "2021-10-25T16:51:52.009Z"
   },
   {
    "duration": 9,
    "start_time": "2021-10-25T16:51:52.021Z"
   },
   {
    "duration": 11,
    "start_time": "2021-10-25T16:51:52.032Z"
   },
   {
    "duration": 5,
    "start_time": "2021-10-25T16:51:52.045Z"
   },
   {
    "duration": 6,
    "start_time": "2021-10-25T16:51:52.052Z"
   },
   {
    "duration": 8,
    "start_time": "2021-10-25T16:51:52.059Z"
   },
   {
    "duration": 10,
    "start_time": "2021-10-25T16:51:52.091Z"
   },
   {
    "duration": 318,
    "start_time": "2021-10-25T16:51:52.103Z"
   },
   {
    "duration": 314,
    "start_time": "2021-10-25T16:51:52.423Z"
   },
   {
    "duration": 1069,
    "start_time": "2021-10-25T16:55:18.564Z"
   },
   {
    "duration": 95,
    "start_time": "2021-10-25T16:55:19.634Z"
   },
   {
    "duration": 11,
    "start_time": "2021-10-25T16:55:19.731Z"
   },
   {
    "duration": 12,
    "start_time": "2021-10-25T16:55:19.744Z"
   },
   {
    "duration": 9,
    "start_time": "2021-10-25T16:55:19.757Z"
   },
   {
    "duration": 9,
    "start_time": "2021-10-25T16:55:19.768Z"
   },
   {
    "duration": 6,
    "start_time": "2021-10-25T16:55:19.778Z"
   },
   {
    "duration": 10,
    "start_time": "2021-10-25T16:55:19.786Z"
   },
   {
    "duration": 490,
    "start_time": "2021-10-25T16:55:19.798Z"
   },
   {
    "duration": 11,
    "start_time": "2021-10-25T16:55:20.291Z"
   },
   {
    "duration": 451,
    "start_time": "2021-10-25T16:55:20.304Z"
   },
   {
    "duration": 7,
    "start_time": "2021-10-25T16:55:20.756Z"
   },
   {
    "duration": 34,
    "start_time": "2021-10-25T16:55:20.765Z"
   },
   {
    "duration": 18,
    "start_time": "2021-10-25T16:55:20.801Z"
   },
   {
    "duration": 16,
    "start_time": "2021-10-25T16:55:20.820Z"
   },
   {
    "duration": 7,
    "start_time": "2021-10-25T16:55:20.837Z"
   },
   {
    "duration": 7,
    "start_time": "2021-10-25T16:55:20.846Z"
   },
   {
    "duration": 13,
    "start_time": "2021-10-25T16:55:20.855Z"
   },
   {
    "duration": 371,
    "start_time": "2021-10-25T16:55:20.892Z"
   },
   {
    "duration": 346,
    "start_time": "2021-10-25T16:55:21.265Z"
   },
   {
    "duration": 439,
    "start_time": "2021-10-25T16:55:21.613Z"
   },
   {
    "duration": 364,
    "start_time": "2021-10-25T16:55:22.054Z"
   },
   {
    "duration": 439,
    "start_time": "2021-10-25T16:55:22.421Z"
   },
   {
    "duration": 10,
    "start_time": "2021-10-25T16:55:22.862Z"
   },
   {
    "duration": 479,
    "start_time": "2021-10-25T16:55:22.873Z"
   },
   {
    "duration": 6,
    "start_time": "2021-10-25T16:55:23.353Z"
   },
   {
    "duration": 7,
    "start_time": "2021-10-25T16:55:23.361Z"
   },
   {
    "duration": 467,
    "start_time": "2021-10-25T16:55:23.369Z"
   },
   {
    "duration": 7,
    "start_time": "2021-10-25T16:55:23.837Z"
   },
   {
    "duration": 4,
    "start_time": "2021-10-25T16:55:23.846Z"
   },
   {
    "duration": 9,
    "start_time": "2021-10-25T16:55:23.852Z"
   },
   {
    "duration": 29,
    "start_time": "2021-10-25T16:55:23.863Z"
   },
   {
    "duration": 4,
    "start_time": "2021-10-25T16:55:23.894Z"
   },
   {
    "duration": 12,
    "start_time": "2021-10-25T16:55:23.900Z"
   },
   {
    "duration": 10,
    "start_time": "2021-10-25T16:55:23.913Z"
   },
   {
    "duration": 7,
    "start_time": "2021-10-25T16:55:23.925Z"
   },
   {
    "duration": 8,
    "start_time": "2021-10-25T16:55:23.934Z"
   },
   {
    "duration": 6,
    "start_time": "2021-10-25T16:55:23.944Z"
   },
   {
    "duration": 4,
    "start_time": "2021-10-25T16:55:23.951Z"
   },
   {
    "duration": 8,
    "start_time": "2021-10-25T16:55:23.992Z"
   },
   {
    "duration": 10,
    "start_time": "2021-10-25T16:55:24.001Z"
   },
   {
    "duration": 339,
    "start_time": "2021-10-25T16:55:24.013Z"
   },
   {
    "duration": 321,
    "start_time": "2021-10-25T16:55:24.353Z"
   },
   {
    "duration": 1545,
    "start_time": "2021-10-25T17:26:59.228Z"
   },
   {
    "duration": 85,
    "start_time": "2021-10-25T17:27:00.776Z"
   },
   {
    "duration": 16,
    "start_time": "2021-10-25T17:27:00.864Z"
   },
   {
    "duration": 24,
    "start_time": "2021-10-25T17:27:00.883Z"
   },
   {
    "duration": 17,
    "start_time": "2021-10-25T17:27:00.910Z"
   },
   {
    "duration": 22,
    "start_time": "2021-10-25T17:27:00.930Z"
   },
   {
    "duration": 10,
    "start_time": "2021-10-25T17:27:00.954Z"
   },
   {
    "duration": 37,
    "start_time": "2021-10-25T17:27:00.969Z"
   },
   {
    "duration": 812,
    "start_time": "2021-10-25T17:27:01.014Z"
   },
   {
    "duration": 22,
    "start_time": "2021-10-25T17:27:01.829Z"
   },
   {
    "duration": 769,
    "start_time": "2021-10-25T17:27:01.854Z"
   },
   {
    "duration": 13,
    "start_time": "2021-10-25T17:27:02.626Z"
   },
   {
    "duration": 63,
    "start_time": "2021-10-25T17:27:02.641Z"
   },
   {
    "duration": 40,
    "start_time": "2021-10-25T17:27:02.707Z"
   },
   {
    "duration": 28,
    "start_time": "2021-10-25T17:27:02.749Z"
   },
   {
    "duration": 41,
    "start_time": "2021-10-25T17:27:02.780Z"
   },
   {
    "duration": 7,
    "start_time": "2021-10-25T17:27:02.824Z"
   },
   {
    "duration": 22,
    "start_time": "2021-10-25T17:27:02.834Z"
   },
   {
    "duration": 695,
    "start_time": "2021-10-25T17:27:02.859Z"
   },
   {
    "duration": 623,
    "start_time": "2021-10-25T17:27:03.556Z"
   },
   {
    "duration": 783,
    "start_time": "2021-10-25T17:27:04.182Z"
   },
   {
    "duration": 845,
    "start_time": "2021-10-25T17:27:04.968Z"
   },
   {
    "duration": 745,
    "start_time": "2021-10-25T17:27:05.819Z"
   },
   {
    "duration": 14,
    "start_time": "2021-10-25T17:27:06.567Z"
   },
   {
    "duration": 675,
    "start_time": "2021-10-25T17:27:06.584Z"
   },
   {
    "duration": 9,
    "start_time": "2021-10-25T17:27:07.262Z"
   },
   {
    "duration": 28,
    "start_time": "2021-10-25T17:27:07.274Z"
   },
   {
    "duration": 776,
    "start_time": "2021-10-25T17:27:07.304Z"
   },
   {
    "duration": 18,
    "start_time": "2021-10-25T17:27:08.083Z"
   },
   {
    "duration": 11,
    "start_time": "2021-10-25T17:27:08.104Z"
   },
   {
    "duration": 21,
    "start_time": "2021-10-25T17:27:08.118Z"
   },
   {
    "duration": 9,
    "start_time": "2021-10-25T17:27:08.142Z"
   },
   {
    "duration": 9,
    "start_time": "2021-10-25T17:27:08.153Z"
   },
   {
    "duration": 44,
    "start_time": "2021-10-25T17:27:08.165Z"
   },
   {
    "duration": 20,
    "start_time": "2021-10-25T17:27:08.212Z"
   },
   {
    "duration": 13,
    "start_time": "2021-10-25T17:27:08.234Z"
   },
   {
    "duration": 22,
    "start_time": "2021-10-25T17:27:08.249Z"
   },
   {
    "duration": 35,
    "start_time": "2021-10-25T17:27:08.274Z"
   },
   {
    "duration": 10,
    "start_time": "2021-10-25T17:27:08.312Z"
   },
   {
    "duration": 13,
    "start_time": "2021-10-25T17:27:08.325Z"
   },
   {
    "duration": 16,
    "start_time": "2021-10-25T17:27:08.341Z"
   },
   {
    "duration": 618,
    "start_time": "2021-10-25T17:27:08.360Z"
   },
   {
    "duration": 575,
    "start_time": "2021-10-25T17:27:08.981Z"
   },
   {
    "duration": 124,
    "start_time": "2021-10-25T17:27:45.318Z"
   },
   {
    "duration": 333,
    "start_time": "2021-11-07T15:59:10.003Z"
   },
   {
    "duration": 2230,
    "start_time": "2021-11-07T15:59:12.029Z"
   },
   {
    "duration": 66,
    "start_time": "2021-11-07T15:59:14.262Z"
   },
   {
    "duration": 16,
    "start_time": "2021-11-07T15:59:14.331Z"
   },
   {
    "duration": 1463,
    "start_time": "2021-11-07T16:04:29.488Z"
   },
   {
    "duration": 59,
    "start_time": "2021-11-07T16:04:30.954Z"
   },
   {
    "duration": 16,
    "start_time": "2021-11-07T16:04:31.016Z"
   },
   {
    "duration": 32,
    "start_time": "2021-11-07T16:04:31.035Z"
   },
   {
    "duration": 21,
    "start_time": "2021-11-07T16:04:31.070Z"
   },
   {
    "duration": 22,
    "start_time": "2021-11-07T16:04:31.093Z"
   },
   {
    "duration": 14,
    "start_time": "2021-11-07T16:04:31.117Z"
   },
   {
    "duration": 20,
    "start_time": "2021-11-07T16:04:31.135Z"
   },
   {
    "duration": 793,
    "start_time": "2021-11-07T16:04:31.169Z"
   },
   {
    "duration": 18,
    "start_time": "2021-11-07T16:04:31.967Z"
   },
   {
    "duration": 733,
    "start_time": "2021-11-07T16:04:31.988Z"
   },
   {
    "duration": 12,
    "start_time": "2021-11-07T16:04:32.724Z"
   },
   {
    "duration": 59,
    "start_time": "2021-11-07T16:04:32.739Z"
   },
   {
    "duration": 29,
    "start_time": "2021-11-07T16:04:32.800Z"
   },
   {
    "duration": 49,
    "start_time": "2021-11-07T16:04:32.831Z"
   },
   {
    "duration": 9,
    "start_time": "2021-11-07T16:04:32.882Z"
   },
   {
    "duration": 13,
    "start_time": "2021-11-07T16:04:32.894Z"
   },
   {
    "duration": 18,
    "start_time": "2021-11-07T16:04:32.910Z"
   },
   {
    "duration": 775,
    "start_time": "2021-11-07T16:04:32.931Z"
   },
   {
    "duration": 583,
    "start_time": "2021-11-07T16:04:33.709Z"
   },
   {
    "duration": 666,
    "start_time": "2021-11-07T16:04:34.295Z"
   },
   {
    "duration": 595,
    "start_time": "2021-11-07T16:04:34.966Z"
   },
   {
    "duration": 691,
    "start_time": "2021-11-07T16:04:35.572Z"
   },
   {
    "duration": 16,
    "start_time": "2021-11-07T16:04:36.269Z"
   },
   {
    "duration": 705,
    "start_time": "2021-11-07T16:04:36.288Z"
   },
   {
    "duration": 8,
    "start_time": "2021-11-07T16:04:36.996Z"
   },
   {
    "duration": 10,
    "start_time": "2021-11-07T16:04:37.006Z"
   },
   {
    "duration": 701,
    "start_time": "2021-11-07T16:04:37.019Z"
   },
   {
    "duration": 8,
    "start_time": "2021-11-07T16:04:37.723Z"
   },
   {
    "duration": 5,
    "start_time": "2021-11-07T16:04:37.734Z"
   },
   {
    "duration": 37,
    "start_time": "2021-11-07T16:04:37.742Z"
   },
   {
    "duration": 10,
    "start_time": "2021-11-07T16:04:37.782Z"
   },
   {
    "duration": 11,
    "start_time": "2021-11-07T16:04:37.794Z"
   },
   {
    "duration": 443,
    "start_time": "2021-11-07T16:04:37.807Z"
   },
   {
    "duration": 268,
    "start_time": "2021-11-07T16:04:37.985Z"
   },
   {
    "duration": 264,
    "start_time": "2021-11-07T16:04:37.990Z"
   },
   {
    "duration": 262,
    "start_time": "2021-11-07T16:04:37.994Z"
   },
   {
    "duration": 259,
    "start_time": "2021-11-07T16:04:37.998Z"
   },
   {
    "duration": 257,
    "start_time": "2021-11-07T16:04:38.001Z"
   },
   {
    "duration": 250,
    "start_time": "2021-11-07T16:04:38.010Z"
   },
   {
    "duration": 249,
    "start_time": "2021-11-07T16:04:38.013Z"
   },
   {
    "duration": 248,
    "start_time": "2021-11-07T16:04:38.015Z"
   },
   {
    "duration": 247,
    "start_time": "2021-11-07T16:04:38.018Z"
   },
   {
    "duration": 294,
    "start_time": "2021-11-07T16:05:04.861Z"
   },
   {
    "duration": 5,
    "start_time": "2021-11-07T16:05:11.913Z"
   },
   {
    "duration": 13,
    "start_time": "2021-11-07T16:05:15.327Z"
   },
   {
    "duration": 15,
    "start_time": "2021-11-07T16:05:17.835Z"
   },
   {
    "duration": 12,
    "start_time": "2021-11-07T16:05:19.908Z"
   },
   {
    "duration": 16,
    "start_time": "2021-11-07T16:05:20.148Z"
   },
   {
    "duration": 9,
    "start_time": "2021-11-07T16:05:20.794Z"
   },
   {
    "duration": 5,
    "start_time": "2021-11-07T16:05:22.313Z"
   },
   {
    "duration": 9,
    "start_time": "2021-11-07T16:05:23.693Z"
   },
   {
    "duration": 43,
    "start_time": "2021-11-07T16:11:36.448Z"
   },
   {
    "duration": 12,
    "start_time": "2021-11-07T16:12:37.506Z"
   },
   {
    "duration": 38,
    "start_time": "2021-11-07T16:13:06.813Z"
   },
   {
    "duration": 10,
    "start_time": "2021-11-07T16:13:21.171Z"
   },
   {
    "duration": 57,
    "start_time": "2021-11-07T16:13:48.836Z"
   },
   {
    "duration": 628,
    "start_time": "2021-11-07T16:17:58.555Z"
   },
   {
    "duration": 777,
    "start_time": "2021-11-07T16:18:18.254Z"
   },
   {
    "duration": 660,
    "start_time": "2021-11-07T16:21:02.430Z"
   },
   {
    "duration": 307,
    "start_time": "2021-11-07T16:21:39.961Z"
   },
   {
    "duration": 1467,
    "start_time": "2021-11-07T16:21:54.302Z"
   },
   {
    "duration": 74,
    "start_time": "2021-11-07T16:21:55.772Z"
   },
   {
    "duration": 54,
    "start_time": "2021-11-07T16:21:55.849Z"
   },
   {
    "duration": 48,
    "start_time": "2021-11-07T16:21:55.905Z"
   },
   {
    "duration": 18,
    "start_time": "2021-11-07T16:21:55.956Z"
   },
   {
    "duration": 39,
    "start_time": "2021-11-07T16:21:55.976Z"
   },
   {
    "duration": 10,
    "start_time": "2021-11-07T16:21:56.018Z"
   },
   {
    "duration": 19,
    "start_time": "2021-11-07T16:21:56.032Z"
   },
   {
    "duration": 859,
    "start_time": "2021-11-07T16:21:56.056Z"
   },
   {
    "duration": 19,
    "start_time": "2021-11-07T16:21:56.918Z"
   },
   {
    "duration": 981,
    "start_time": "2021-11-07T16:21:56.940Z"
   },
   {
    "duration": 10,
    "start_time": "2021-11-07T16:21:57.924Z"
   },
   {
    "duration": 55,
    "start_time": "2021-11-07T16:21:57.937Z"
   },
   {
    "duration": 33,
    "start_time": "2021-11-07T16:21:57.994Z"
   },
   {
    "duration": 49,
    "start_time": "2021-11-07T16:21:58.029Z"
   },
   {
    "duration": 9,
    "start_time": "2021-11-07T16:21:58.080Z"
   },
   {
    "duration": 12,
    "start_time": "2021-11-07T16:21:58.093Z"
   },
   {
    "duration": 23,
    "start_time": "2021-11-07T16:21:58.108Z"
   },
   {
    "duration": 855,
    "start_time": "2021-11-07T16:21:58.168Z"
   },
   {
    "duration": 608,
    "start_time": "2021-11-07T16:21:59.025Z"
   },
   {
    "duration": 745,
    "start_time": "2021-11-07T16:21:59.635Z"
   },
   {
    "duration": 716,
    "start_time": "2021-11-07T16:22:00.382Z"
   },
   {
    "duration": 678,
    "start_time": "2021-11-07T16:22:01.103Z"
   },
   {
    "duration": 17,
    "start_time": "2021-11-07T16:22:01.784Z"
   },
   {
    "duration": 821,
    "start_time": "2021-11-07T16:22:01.803Z"
   },
   {
    "duration": 9,
    "start_time": "2021-11-07T16:22:02.626Z"
   },
   {
    "duration": 14,
    "start_time": "2021-11-07T16:22:02.638Z"
   },
   {
    "duration": 640,
    "start_time": "2021-11-07T16:22:02.667Z"
   },
   {
    "duration": 10,
    "start_time": "2021-11-07T16:22:03.309Z"
   },
   {
    "duration": 6,
    "start_time": "2021-11-07T16:22:03.322Z"
   },
   {
    "duration": 42,
    "start_time": "2021-11-07T16:22:03.331Z"
   },
   {
    "duration": 13,
    "start_time": "2021-11-07T16:22:03.375Z"
   },
   {
    "duration": 8,
    "start_time": "2021-11-07T16:22:03.391Z"
   },
   {
    "duration": 16,
    "start_time": "2021-11-07T16:22:03.402Z"
   },
   {
    "duration": 52,
    "start_time": "2021-11-07T16:22:03.421Z"
   },
   {
    "duration": 13,
    "start_time": "2021-11-07T16:22:03.476Z"
   },
   {
    "duration": 18,
    "start_time": "2021-11-07T16:22:03.492Z"
   },
   {
    "duration": 9,
    "start_time": "2021-11-07T16:22:03.513Z"
   },
   {
    "duration": 43,
    "start_time": "2021-11-07T16:22:03.525Z"
   },
   {
    "duration": 10,
    "start_time": "2021-11-07T16:22:03.571Z"
   },
   {
    "duration": 16,
    "start_time": "2021-11-07T16:22:03.584Z"
   },
   {
    "duration": 587,
    "start_time": "2021-11-07T16:22:03.602Z"
   },
   {
    "duration": 555,
    "start_time": "2021-11-07T16:22:04.192Z"
   },
   {
    "duration": 690,
    "start_time": "2021-11-07T16:23:09.459Z"
   },
   {
    "duration": 15,
    "start_time": "2021-11-07T16:31:27.653Z"
   },
   {
    "duration": 551,
    "start_time": "2021-11-07T16:33:09.948Z"
   },
   {
    "duration": 100,
    "start_time": "2021-11-07T16:34:41.930Z"
   },
   {
    "duration": 2335,
    "start_time": "2021-11-07T16:34:45.933Z"
   },
   {
    "duration": 331,
    "start_time": "2021-11-07T16:34:54.594Z"
   },
   {
    "duration": 11,
    "start_time": "2021-11-07T16:35:10.184Z"
   },
   {
    "duration": 1644,
    "start_time": "2021-11-08T17:48:25.256Z"
   },
   {
    "duration": 102,
    "start_time": "2021-11-08T17:48:26.904Z"
   },
   {
    "duration": 51,
    "start_time": "2021-11-08T17:48:27.009Z"
   },
   {
    "duration": 72,
    "start_time": "2021-11-08T17:48:27.062Z"
   },
   {
    "duration": 14,
    "start_time": "2021-11-08T17:48:27.137Z"
   },
   {
    "duration": 82,
    "start_time": "2021-11-08T17:48:27.154Z"
   },
   {
    "duration": 10,
    "start_time": "2021-11-08T17:48:27.239Z"
   },
   {
    "duration": 520,
    "start_time": "2021-11-08T17:48:27.252Z"
   },
   {
    "duration": -116,
    "start_time": "2021-11-08T17:48:27.893Z"
   },
   {
    "duration": -123,
    "start_time": "2021-11-08T17:48:27.902Z"
   },
   {
    "duration": -128,
    "start_time": "2021-11-08T17:48:27.908Z"
   },
   {
    "duration": -132,
    "start_time": "2021-11-08T17:48:27.913Z"
   },
   {
    "duration": -136,
    "start_time": "2021-11-08T17:48:27.918Z"
   },
   {
    "duration": -138,
    "start_time": "2021-11-08T17:48:27.922Z"
   },
   {
    "duration": -142,
    "start_time": "2021-11-08T17:48:27.927Z"
   },
   {
    "duration": -145,
    "start_time": "2021-11-08T17:48:27.931Z"
   },
   {
    "duration": -149,
    "start_time": "2021-11-08T17:48:27.936Z"
   },
   {
    "duration": -151,
    "start_time": "2021-11-08T17:48:27.940Z"
   },
   {
    "duration": -155,
    "start_time": "2021-11-08T17:48:27.945Z"
   },
   {
    "duration": -159,
    "start_time": "2021-11-08T17:48:27.950Z"
   },
   {
    "duration": -162,
    "start_time": "2021-11-08T17:48:27.955Z"
   },
   {
    "duration": -166,
    "start_time": "2021-11-08T17:48:27.960Z"
   },
   {
    "duration": -168,
    "start_time": "2021-11-08T17:48:27.963Z"
   },
   {
    "duration": -170,
    "start_time": "2021-11-08T17:48:27.966Z"
   },
   {
    "duration": -178,
    "start_time": "2021-11-08T17:48:27.976Z"
   },
   {
    "duration": -180,
    "start_time": "2021-11-08T17:48:27.979Z"
   },
   {
    "duration": -182,
    "start_time": "2021-11-08T17:48:27.982Z"
   },
   {
    "duration": -185,
    "start_time": "2021-11-08T17:48:27.986Z"
   },
   {
    "duration": -187,
    "start_time": "2021-11-08T17:48:27.989Z"
   },
   {
    "duration": -187,
    "start_time": "2021-11-08T17:48:27.991Z"
   },
   {
    "duration": -190,
    "start_time": "2021-11-08T17:48:27.995Z"
   },
   {
    "duration": -191,
    "start_time": "2021-11-08T17:48:27.997Z"
   },
   {
    "duration": -191,
    "start_time": "2021-11-08T17:48:27.999Z"
   },
   {
    "duration": -192,
    "start_time": "2021-11-08T17:48:28.001Z"
   },
   {
    "duration": -194,
    "start_time": "2021-11-08T17:48:28.004Z"
   },
   {
    "duration": -195,
    "start_time": "2021-11-08T17:48:28.007Z"
   },
   {
    "duration": -195,
    "start_time": "2021-11-08T17:48:28.009Z"
   },
   {
    "duration": -197,
    "start_time": "2021-11-08T17:48:28.012Z"
   },
   {
    "duration": -198,
    "start_time": "2021-11-08T17:48:28.015Z"
   },
   {
    "duration": -199,
    "start_time": "2021-11-08T17:48:28.017Z"
   },
   {
    "duration": -200,
    "start_time": "2021-11-08T17:48:28.019Z"
   },
   {
    "duration": -201,
    "start_time": "2021-11-08T17:48:28.022Z"
   },
   {
    "duration": -202,
    "start_time": "2021-11-08T17:48:28.024Z"
   },
   {
    "duration": -203,
    "start_time": "2021-11-08T17:48:28.026Z"
   },
   {
    "duration": 509,
    "start_time": "2021-11-08T17:49:00.696Z"
   },
   {
    "duration": 21,
    "start_time": "2021-11-08T17:49:04.877Z"
   },
   {
    "duration": 15,
    "start_time": "2021-11-08T17:49:20.746Z"
   },
   {
    "duration": 24,
    "start_time": "2021-11-08T17:49:30.080Z"
   },
   {
    "duration": 16,
    "start_time": "2021-11-08T17:49:36.104Z"
   },
   {
    "duration": 17,
    "start_time": "2021-11-08T17:50:04.209Z"
   },
   {
    "duration": 426,
    "start_time": "2021-11-08T17:55:15.338Z"
   },
   {
    "duration": 23,
    "start_time": "2021-11-08T17:55:21.243Z"
   },
   {
    "duration": 25,
    "start_time": "2021-11-08T17:55:52.232Z"
   },
   {
    "duration": 9,
    "start_time": "2021-11-08T17:59:56.220Z"
   },
   {
    "duration": 14,
    "start_time": "2021-11-08T18:00:02.063Z"
   },
   {
    "duration": 13,
    "start_time": "2021-11-08T18:00:27.830Z"
   },
   {
    "duration": 1516,
    "start_time": "2021-11-08T18:00:48.865Z"
   },
   {
    "duration": 77,
    "start_time": "2021-11-08T18:00:50.384Z"
   },
   {
    "duration": 55,
    "start_time": "2021-11-08T18:00:50.464Z"
   },
   {
    "duration": 47,
    "start_time": "2021-11-08T18:00:50.522Z"
   },
   {
    "duration": 36,
    "start_time": "2021-11-08T18:00:50.571Z"
   },
   {
    "duration": 32,
    "start_time": "2021-11-08T18:00:50.609Z"
   },
   {
    "duration": 10,
    "start_time": "2021-11-08T18:00:50.644Z"
   },
   {
    "duration": 23,
    "start_time": "2021-11-08T18:00:50.702Z"
   },
   {
    "duration": 27,
    "start_time": "2021-11-08T18:00:50.728Z"
   },
   {
    "duration": 53,
    "start_time": "2021-11-08T18:00:50.758Z"
   },
   {
    "duration": 27,
    "start_time": "2021-11-08T18:00:50.814Z"
   },
   {
    "duration": 788,
    "start_time": "2021-11-08T18:00:50.844Z"
   },
   {
    "duration": 17,
    "start_time": "2021-11-08T18:00:51.635Z"
   },
   {
    "duration": 749,
    "start_time": "2021-11-08T18:00:51.655Z"
   },
   {
    "duration": 10462,
    "start_time": "2021-11-08T18:00:52.406Z"
   },
   {
    "duration": -130,
    "start_time": "2021-11-08T18:01:03.003Z"
   },
   {
    "duration": -132,
    "start_time": "2021-11-08T18:01:03.007Z"
   },
   {
    "duration": -134,
    "start_time": "2021-11-08T18:01:03.011Z"
   },
   {
    "duration": -134,
    "start_time": "2021-11-08T18:01:03.014Z"
   },
   {
    "duration": -135,
    "start_time": "2021-11-08T18:01:03.017Z"
   },
   {
    "duration": -137,
    "start_time": "2021-11-08T18:01:03.021Z"
   },
   {
    "duration": -139,
    "start_time": "2021-11-08T18:01:03.025Z"
   },
   {
    "duration": -142,
    "start_time": "2021-11-08T18:01:03.029Z"
   },
   {
    "duration": -142,
    "start_time": "2021-11-08T18:01:03.032Z"
   },
   {
    "duration": -146,
    "start_time": "2021-11-08T18:01:03.037Z"
   },
   {
    "duration": -147,
    "start_time": "2021-11-08T18:01:03.040Z"
   },
   {
    "duration": -147,
    "start_time": "2021-11-08T18:01:03.042Z"
   },
   {
    "duration": -149,
    "start_time": "2021-11-08T18:01:03.045Z"
   },
   {
    "duration": -150,
    "start_time": "2021-11-08T18:01:03.048Z"
   },
   {
    "duration": -151,
    "start_time": "2021-11-08T18:01:03.051Z"
   },
   {
    "duration": -156,
    "start_time": "2021-11-08T18:01:03.058Z"
   },
   {
    "duration": -159,
    "start_time": "2021-11-08T18:01:03.063Z"
   },
   {
    "duration": -159,
    "start_time": "2021-11-08T18:01:03.065Z"
   },
   {
    "duration": -161,
    "start_time": "2021-11-08T18:01:03.068Z"
   },
   {
    "duration": -161,
    "start_time": "2021-11-08T18:01:03.070Z"
   },
   {
    "duration": -162,
    "start_time": "2021-11-08T18:01:03.073Z"
   },
   {
    "duration": -163,
    "start_time": "2021-11-08T18:01:03.076Z"
   },
   {
    "duration": -163,
    "start_time": "2021-11-08T18:01:03.078Z"
   },
   {
    "duration": -163,
    "start_time": "2021-11-08T18:01:03.080Z"
   },
   {
    "duration": -164,
    "start_time": "2021-11-08T18:01:03.083Z"
   },
   {
    "duration": -164,
    "start_time": "2021-11-08T18:01:03.085Z"
   },
   {
    "duration": -165,
    "start_time": "2021-11-08T18:01:03.088Z"
   },
   {
    "duration": -165,
    "start_time": "2021-11-08T18:01:03.090Z"
   },
   {
    "duration": -166,
    "start_time": "2021-11-08T18:01:03.093Z"
   },
   {
    "duration": -173,
    "start_time": "2021-11-08T18:01:03.102Z"
   },
   {
    "duration": -174,
    "start_time": "2021-11-08T18:01:03.105Z"
   },
   {
    "duration": 445,
    "start_time": "2021-11-08T18:01:43.392Z"
   },
   {
    "duration": 1608,
    "start_time": "2021-11-08T18:02:00.392Z"
   },
   {
    "duration": 71,
    "start_time": "2021-11-08T18:02:02.003Z"
   },
   {
    "duration": 57,
    "start_time": "2021-11-08T18:02:02.078Z"
   },
   {
    "duration": 76,
    "start_time": "2021-11-08T18:02:02.138Z"
   },
   {
    "duration": 12,
    "start_time": "2021-11-08T18:02:02.216Z"
   },
   {
    "duration": 40,
    "start_time": "2021-11-08T18:02:02.230Z"
   },
   {
    "duration": 10,
    "start_time": "2021-11-08T18:02:02.300Z"
   },
   {
    "duration": 30,
    "start_time": "2021-11-08T18:02:02.315Z"
   },
   {
    "duration": 25,
    "start_time": "2021-11-08T18:02:02.348Z"
   },
   {
    "duration": 35,
    "start_time": "2021-11-08T18:02:02.376Z"
   },
   {
    "duration": 30,
    "start_time": "2021-11-08T18:02:02.414Z"
   },
   {
    "duration": 800,
    "start_time": "2021-11-08T18:02:02.447Z"
   },
   {
    "duration": 18,
    "start_time": "2021-11-08T18:02:03.250Z"
   },
   {
    "duration": 734,
    "start_time": "2021-11-08T18:02:03.271Z"
   },
   {
    "duration": 9,
    "start_time": "2021-11-08T18:02:04.007Z"
   },
   {
    "duration": 34,
    "start_time": "2021-11-08T18:02:04.019Z"
   },
   {
    "duration": 54,
    "start_time": "2021-11-08T18:02:04.055Z"
   },
   {
    "duration": 25,
    "start_time": "2021-11-08T18:02:04.112Z"
   },
   {
    "duration": 21,
    "start_time": "2021-11-08T18:02:04.140Z"
   },
   {
    "duration": 27,
    "start_time": "2021-11-08T18:02:04.163Z"
   },
   {
    "duration": 18,
    "start_time": "2021-11-08T18:02:04.192Z"
   },
   {
    "duration": 173,
    "start_time": "2021-11-08T18:02:04.213Z"
   },
   {
    "duration": 543,
    "start_time": "2021-11-08T18:02:04.402Z"
   },
   {
    "duration": 631,
    "start_time": "2021-11-08T18:02:04.948Z"
   },
   {
    "duration": 647,
    "start_time": "2021-11-08T18:02:05.582Z"
   },
   {
    "duration": 605,
    "start_time": "2021-11-08T18:02:06.231Z"
   },
   {
    "duration": 14,
    "start_time": "2021-11-08T18:02:06.838Z"
   },
   {
    "duration": 591,
    "start_time": "2021-11-08T18:02:06.854Z"
   },
   {
    "duration": 1047,
    "start_time": "2021-11-08T18:02:07.448Z"
   },
   {
    "duration": -149,
    "start_time": "2021-11-08T18:02:08.648Z"
   },
   {
    "duration": -160,
    "start_time": "2021-11-08T18:02:08.660Z"
   },
   {
    "duration": -167,
    "start_time": "2021-11-08T18:02:08.670Z"
   },
   {
    "duration": -174,
    "start_time": "2021-11-08T18:02:08.679Z"
   },
   {
    "duration": -175,
    "start_time": "2021-11-08T18:02:08.682Z"
   },
   {
    "duration": -177,
    "start_time": "2021-11-08T18:02:08.686Z"
   },
   {
    "duration": -183,
    "start_time": "2021-11-08T18:02:08.694Z"
   },
   {
    "duration": -184,
    "start_time": "2021-11-08T18:02:08.697Z"
   },
   {
    "duration": -190,
    "start_time": "2021-11-08T18:02:08.705Z"
   },
   {
    "duration": -192,
    "start_time": "2021-11-08T18:02:08.709Z"
   },
   {
    "duration": -192,
    "start_time": "2021-11-08T18:02:08.712Z"
   },
   {
    "duration": -198,
    "start_time": "2021-11-08T18:02:08.720Z"
   },
   {
    "duration": -198,
    "start_time": "2021-11-08T18:02:08.722Z"
   },
   {
    "duration": -200,
    "start_time": "2021-11-08T18:02:08.726Z"
   },
   {
    "duration": -205,
    "start_time": "2021-11-08T18:02:08.733Z"
   },
   {
    "duration": -206,
    "start_time": "2021-11-08T18:02:08.736Z"
   },
   {
    "duration": -207,
    "start_time": "2021-11-08T18:02:08.739Z"
   },
   {
    "duration": 468,
    "start_time": "2021-11-08T18:02:17.602Z"
   },
   {
    "duration": 16,
    "start_time": "2021-11-08T18:02:25.629Z"
   },
   {
    "duration": 1563,
    "start_time": "2021-11-08T18:02:52.227Z"
   },
   {
    "duration": 65,
    "start_time": "2021-11-08T18:02:53.794Z"
   },
   {
    "duration": 52,
    "start_time": "2021-11-08T18:02:53.862Z"
   },
   {
    "duration": 43,
    "start_time": "2021-11-08T18:02:53.917Z"
   },
   {
    "duration": 39,
    "start_time": "2021-11-08T18:02:53.962Z"
   },
   {
    "duration": 30,
    "start_time": "2021-11-08T18:02:54.004Z"
   },
   {
    "duration": 9,
    "start_time": "2021-11-08T18:02:54.036Z"
   },
   {
    "duration": 55,
    "start_time": "2021-11-08T18:02:54.049Z"
   },
   {
    "duration": 25,
    "start_time": "2021-11-08T18:02:54.107Z"
   },
   {
    "duration": 14,
    "start_time": "2021-11-08T18:02:54.135Z"
   },
   {
    "duration": 53,
    "start_time": "2021-11-08T18:02:54.152Z"
   },
   {
    "duration": 775,
    "start_time": "2021-11-08T18:02:54.208Z"
   },
   {
    "duration": 26,
    "start_time": "2021-11-08T18:02:54.986Z"
   },
   {
    "duration": 728,
    "start_time": "2021-11-08T18:02:55.015Z"
   },
   {
    "duration": 10736,
    "start_time": "2021-11-08T18:02:55.746Z"
   },
   {
    "duration": -95,
    "start_time": "2021-11-08T18:03:06.581Z"
   },
   {
    "duration": -97,
    "start_time": "2021-11-08T18:03:06.584Z"
   },
   {
    "duration": -98,
    "start_time": "2021-11-08T18:03:06.587Z"
   },
   {
    "duration": -100,
    "start_time": "2021-11-08T18:03:06.590Z"
   },
   {
    "duration": -101,
    "start_time": "2021-11-08T18:03:06.593Z"
   },
   {
    "duration": -102,
    "start_time": "2021-11-08T18:03:06.595Z"
   },
   {
    "duration": -102,
    "start_time": "2021-11-08T18:03:06.597Z"
   },
   {
    "duration": -104,
    "start_time": "2021-11-08T18:03:06.600Z"
   },
   {
    "duration": -106,
    "start_time": "2021-11-08T18:03:06.604Z"
   },
   {
    "duration": -106,
    "start_time": "2021-11-08T18:03:06.606Z"
   },
   {
    "duration": -107,
    "start_time": "2021-11-08T18:03:06.609Z"
   },
   {
    "duration": -107,
    "start_time": "2021-11-08T18:03:06.611Z"
   },
   {
    "duration": -115,
    "start_time": "2021-11-08T18:03:06.620Z"
   },
   {
    "duration": -115,
    "start_time": "2021-11-08T18:03:06.622Z"
   },
   {
    "duration": -116,
    "start_time": "2021-11-08T18:03:06.625Z"
   },
   {
    "duration": -117,
    "start_time": "2021-11-08T18:03:06.628Z"
   },
   {
    "duration": -118,
    "start_time": "2021-11-08T18:03:06.631Z"
   },
   {
    "duration": -118,
    "start_time": "2021-11-08T18:03:06.633Z"
   },
   {
    "duration": -118,
    "start_time": "2021-11-08T18:03:06.635Z"
   },
   {
    "duration": -119,
    "start_time": "2021-11-08T18:03:06.638Z"
   },
   {
    "duration": -120,
    "start_time": "2021-11-08T18:03:06.641Z"
   },
   {
    "duration": -148,
    "start_time": "2021-11-08T18:03:06.671Z"
   },
   {
    "duration": -150,
    "start_time": "2021-11-08T18:03:06.675Z"
   },
   {
    "duration": -152,
    "start_time": "2021-11-08T18:03:06.678Z"
   },
   {
    "duration": -154,
    "start_time": "2021-11-08T18:03:06.683Z"
   },
   {
    "duration": -155,
    "start_time": "2021-11-08T18:03:06.685Z"
   },
   {
    "duration": -156,
    "start_time": "2021-11-08T18:03:06.688Z"
   },
   {
    "duration": -161,
    "start_time": "2021-11-08T18:03:06.695Z"
   },
   {
    "duration": -164,
    "start_time": "2021-11-08T18:03:06.700Z"
   },
   {
    "duration": -164,
    "start_time": "2021-11-08T18:03:06.702Z"
   },
   {
    "duration": -107,
    "start_time": "2021-11-08T18:03:06.706Z"
   },
   {
    "duration": 1527,
    "start_time": "2021-11-08T18:04:41.524Z"
   },
   {
    "duration": 63,
    "start_time": "2021-11-08T18:04:43.054Z"
   },
   {
    "duration": 52,
    "start_time": "2021-11-08T18:04:43.120Z"
   },
   {
    "duration": 56,
    "start_time": "2021-11-08T18:04:43.174Z"
   },
   {
    "duration": 12,
    "start_time": "2021-11-08T18:04:43.232Z"
   },
   {
    "duration": 65,
    "start_time": "2021-11-08T18:04:43.246Z"
   },
   {
    "duration": 9,
    "start_time": "2021-11-08T18:04:43.313Z"
   },
   {
    "duration": 29,
    "start_time": "2021-11-08T18:04:43.326Z"
   },
   {
    "duration": 54,
    "start_time": "2021-11-08T18:04:43.357Z"
   },
   {
    "duration": 15,
    "start_time": "2021-11-08T18:04:43.414Z"
   },
   {
    "duration": 18,
    "start_time": "2021-11-08T18:04:43.432Z"
   },
   {
    "duration": 802,
    "start_time": "2021-11-08T18:04:43.453Z"
   },
   {
    "duration": 21,
    "start_time": "2021-11-08T18:04:44.258Z"
   },
   {
    "duration": 743,
    "start_time": "2021-11-08T18:04:44.301Z"
   },
   {
    "duration": 9603,
    "start_time": "2021-11-08T18:04:45.047Z"
   },
   {
    "duration": -122,
    "start_time": "2021-11-08T18:04:54.776Z"
   },
   {
    "duration": -126,
    "start_time": "2021-11-08T18:04:54.782Z"
   },
   {
    "duration": -130,
    "start_time": "2021-11-08T18:04:54.787Z"
   },
   {
    "duration": -134,
    "start_time": "2021-11-08T18:04:54.792Z"
   },
   {
    "duration": -136,
    "start_time": "2021-11-08T18:04:54.796Z"
   },
   {
    "duration": -139,
    "start_time": "2021-11-08T18:04:54.800Z"
   },
   {
    "duration": -141,
    "start_time": "2021-11-08T18:04:54.803Z"
   },
   {
    "duration": -143,
    "start_time": "2021-11-08T18:04:54.807Z"
   },
   {
    "duration": -144,
    "start_time": "2021-11-08T18:04:54.810Z"
   },
   {
    "duration": -147,
    "start_time": "2021-11-08T18:04:54.814Z"
   },
   {
    "duration": -150,
    "start_time": "2021-11-08T18:04:54.818Z"
   },
   {
    "duration": -153,
    "start_time": "2021-11-08T18:04:54.822Z"
   },
   {
    "duration": -155,
    "start_time": "2021-11-08T18:04:54.826Z"
   },
   {
    "duration": -165,
    "start_time": "2021-11-08T18:04:54.837Z"
   },
   {
    "duration": -168,
    "start_time": "2021-11-08T18:04:54.841Z"
   },
   {
    "duration": -171,
    "start_time": "2021-11-08T18:04:54.845Z"
   },
   {
    "duration": -172,
    "start_time": "2021-11-08T18:04:54.848Z"
   },
   {
    "duration": -176,
    "start_time": "2021-11-08T18:04:54.853Z"
   },
   {
    "duration": -178,
    "start_time": "2021-11-08T18:04:54.857Z"
   },
   {
    "duration": -180,
    "start_time": "2021-11-08T18:04:54.860Z"
   },
   {
    "duration": -182,
    "start_time": "2021-11-08T18:04:54.864Z"
   },
   {
    "duration": -185,
    "start_time": "2021-11-08T18:04:54.868Z"
   },
   {
    "duration": -188,
    "start_time": "2021-11-08T18:04:54.872Z"
   },
   {
    "duration": -190,
    "start_time": "2021-11-08T18:04:54.876Z"
   },
   {
    "duration": -192,
    "start_time": "2021-11-08T18:04:54.879Z"
   },
   {
    "duration": -194,
    "start_time": "2021-11-08T18:04:54.883Z"
   },
   {
    "duration": -196,
    "start_time": "2021-11-08T18:04:54.886Z"
   },
   {
    "duration": -190,
    "start_time": "2021-11-08T18:04:54.890Z"
   },
   {
    "duration": -193,
    "start_time": "2021-11-08T18:04:54.894Z"
   },
   {
    "duration": -196,
    "start_time": "2021-11-08T18:04:54.898Z"
   },
   {
    "duration": -198,
    "start_time": "2021-11-08T18:04:54.902Z"
   },
   {
    "duration": 394,
    "start_time": "2021-11-08T18:06:07.240Z"
   },
   {
    "duration": 7,
    "start_time": "2021-11-08T18:06:19.072Z"
   },
   {
    "duration": 64,
    "start_time": "2021-11-08T18:06:19.574Z"
   },
   {
    "duration": 48,
    "start_time": "2021-11-08T18:06:19.749Z"
   },
   {
    "duration": 44,
    "start_time": "2021-11-08T18:06:20.397Z"
   },
   {
    "duration": 12,
    "start_time": "2021-11-08T18:06:20.604Z"
   },
   {
    "duration": 32,
    "start_time": "2021-11-08T18:06:21.192Z"
   },
   {
    "duration": 12,
    "start_time": "2021-11-08T18:06:22.001Z"
   },
   {
    "duration": 16,
    "start_time": "2021-11-08T18:06:25.900Z"
   },
   {
    "duration": 15,
    "start_time": "2021-11-08T18:06:28.548Z"
   },
   {
    "duration": 7,
    "start_time": "2021-11-08T18:06:29.618Z"
   },
   {
    "duration": 7,
    "start_time": "2021-11-08T18:07:05.769Z"
   },
   {
    "duration": 63,
    "start_time": "2021-11-08T18:07:06.198Z"
   },
   {
    "duration": 48,
    "start_time": "2021-11-08T18:07:06.531Z"
   },
   {
    "duration": 51,
    "start_time": "2021-11-08T18:07:07.713Z"
   },
   {
    "duration": 13,
    "start_time": "2021-11-08T18:07:08.833Z"
   },
   {
    "duration": 31,
    "start_time": "2021-11-08T18:07:09.814Z"
   },
   {
    "duration": 12,
    "start_time": "2021-11-08T18:07:10.598Z"
   },
   {
    "duration": 22,
    "start_time": "2021-11-08T18:07:12.561Z"
   },
   {
    "duration": 14,
    "start_time": "2021-11-08T18:07:13.209Z"
   },
   {
    "duration": 412,
    "start_time": "2021-11-08T18:07:14.624Z"
   },
   {
    "duration": 21,
    "start_time": "2021-11-08T18:07:23.894Z"
   },
   {
    "duration": 1534,
    "start_time": "2021-11-08T18:07:35.362Z"
   },
   {
    "duration": 65,
    "start_time": "2021-11-08T18:07:36.898Z"
   },
   {
    "duration": 52,
    "start_time": "2021-11-08T18:07:36.966Z"
   },
   {
    "duration": 42,
    "start_time": "2021-11-08T18:07:37.021Z"
   },
   {
    "duration": 36,
    "start_time": "2021-11-08T18:07:37.065Z"
   },
   {
    "duration": 34,
    "start_time": "2021-11-08T18:07:37.103Z"
   },
   {
    "duration": 10,
    "start_time": "2021-11-08T18:07:37.140Z"
   },
   {
    "duration": 65,
    "start_time": "2021-11-08T18:07:37.154Z"
   },
   {
    "duration": 15,
    "start_time": "2021-11-08T18:07:37.222Z"
   },
   {
    "duration": 24,
    "start_time": "2021-11-08T18:07:37.239Z"
   },
   {
    "duration": 45,
    "start_time": "2021-11-08T18:07:37.265Z"
   },
   {
    "duration": 788,
    "start_time": "2021-11-08T18:07:37.313Z"
   },
   {
    "duration": 17,
    "start_time": "2021-11-08T18:07:38.104Z"
   },
   {
    "duration": 727,
    "start_time": "2021-11-08T18:07:38.123Z"
   },
   {
    "duration": 10,
    "start_time": "2021-11-08T18:07:38.852Z"
   },
   {
    "duration": 54,
    "start_time": "2021-11-08T18:07:38.865Z"
   },
   {
    "duration": 30,
    "start_time": "2021-11-08T18:07:38.922Z"
   },
   {
    "duration": 24,
    "start_time": "2021-11-08T18:07:38.954Z"
   },
   {
    "duration": 6,
    "start_time": "2021-11-08T18:07:38.999Z"
   },
   {
    "duration": 10,
    "start_time": "2021-11-08T18:07:39.008Z"
   },
   {
    "duration": 17,
    "start_time": "2021-11-08T18:07:39.020Z"
   },
   {
    "duration": 699,
    "start_time": "2021-11-08T18:07:39.040Z"
   },
   {
    "duration": 588,
    "start_time": "2021-11-08T18:07:39.744Z"
   },
   {
    "duration": 641,
    "start_time": "2021-11-08T18:07:40.336Z"
   },
   {
    "duration": 593,
    "start_time": "2021-11-08T18:07:40.980Z"
   },
   {
    "duration": 667,
    "start_time": "2021-11-08T18:07:41.576Z"
   },
   {
    "duration": 15,
    "start_time": "2021-11-08T18:07:42.245Z"
   },
   {
    "duration": 847,
    "start_time": "2021-11-08T18:07:42.262Z"
   },
   {
    "duration": 9,
    "start_time": "2021-11-08T18:07:43.112Z"
   },
   {
    "duration": 7,
    "start_time": "2021-11-08T18:07:43.123Z"
   },
   {
    "duration": 616,
    "start_time": "2021-11-08T18:07:43.133Z"
   },
   {
    "duration": 9,
    "start_time": "2021-11-08T18:07:43.752Z"
   },
   {
    "duration": 8,
    "start_time": "2021-11-08T18:07:43.763Z"
   },
   {
    "duration": 38,
    "start_time": "2021-11-08T18:07:43.773Z"
   },
   {
    "duration": 9,
    "start_time": "2021-11-08T18:07:43.814Z"
   },
   {
    "duration": 7,
    "start_time": "2021-11-08T18:07:43.825Z"
   },
   {
    "duration": 11,
    "start_time": "2021-11-08T18:07:43.835Z"
   },
   {
    "duration": 15,
    "start_time": "2021-11-08T18:07:43.848Z"
   },
   {
    "duration": 13,
    "start_time": "2021-11-08T18:07:43.901Z"
   },
   {
    "duration": 14,
    "start_time": "2021-11-08T18:07:43.916Z"
   },
   {
    "duration": 9,
    "start_time": "2021-11-08T18:07:43.933Z"
   },
   {
    "duration": 8,
    "start_time": "2021-11-08T18:07:43.945Z"
   },
   {
    "duration": 49,
    "start_time": "2021-11-08T18:07:43.956Z"
   },
   {
    "duration": 15,
    "start_time": "2021-11-08T18:07:44.008Z"
   },
   {
    "duration": 578,
    "start_time": "2021-11-08T18:07:44.026Z"
   },
   {
    "duration": 569,
    "start_time": "2021-11-08T18:07:44.607Z"
   },
   {
    "duration": 531,
    "start_time": "2021-11-08T18:12:25.192Z"
   },
   {
    "duration": 620,
    "start_time": "2021-11-08T18:12:44.838Z"
   },
   {
    "duration": 1648,
    "start_time": "2021-11-08T18:12:51.829Z"
   },
   {
    "duration": 67,
    "start_time": "2021-11-08T18:12:53.480Z"
   },
   {
    "duration": 58,
    "start_time": "2021-11-08T18:12:53.551Z"
   },
   {
    "duration": 44,
    "start_time": "2021-11-08T18:12:53.612Z"
   },
   {
    "duration": 43,
    "start_time": "2021-11-08T18:12:53.658Z"
   },
   {
    "duration": 58,
    "start_time": "2021-11-08T18:12:53.703Z"
   },
   {
    "duration": 10,
    "start_time": "2021-11-08T18:12:53.764Z"
   },
   {
    "duration": 30,
    "start_time": "2021-11-08T18:12:53.777Z"
   },
   {
    "duration": 14,
    "start_time": "2021-11-08T18:12:53.810Z"
   },
   {
    "duration": 518,
    "start_time": "2021-11-08T18:12:53.827Z"
   },
   {
    "duration": -96,
    "start_time": "2021-11-08T18:12:54.445Z"
   },
   {
    "duration": -103,
    "start_time": "2021-11-08T18:12:54.454Z"
   },
   {
    "duration": -105,
    "start_time": "2021-11-08T18:12:54.457Z"
   },
   {
    "duration": -106,
    "start_time": "2021-11-08T18:12:54.460Z"
   },
   {
    "duration": -113,
    "start_time": "2021-11-08T18:12:54.468Z"
   },
   {
    "duration": -114,
    "start_time": "2021-11-08T18:12:54.471Z"
   },
   {
    "duration": -122,
    "start_time": "2021-11-08T18:12:54.480Z"
   },
   {
    "duration": -122,
    "start_time": "2021-11-08T18:12:54.482Z"
   },
   {
    "duration": -124,
    "start_time": "2021-11-08T18:12:54.485Z"
   },
   {
    "duration": -131,
    "start_time": "2021-11-08T18:12:54.494Z"
   },
   {
    "duration": -132,
    "start_time": "2021-11-08T18:12:54.497Z"
   },
   {
    "duration": -133,
    "start_time": "2021-11-08T18:12:54.499Z"
   },
   {
    "duration": -141,
    "start_time": "2021-11-08T18:12:54.508Z"
   },
   {
    "duration": -141,
    "start_time": "2021-11-08T18:12:54.510Z"
   },
   {
    "duration": -144,
    "start_time": "2021-11-08T18:12:54.514Z"
   },
   {
    "duration": -145,
    "start_time": "2021-11-08T18:12:54.517Z"
   },
   {
    "duration": -145,
    "start_time": "2021-11-08T18:12:54.519Z"
   },
   {
    "duration": -146,
    "start_time": "2021-11-08T18:12:54.521Z"
   },
   {
    "duration": -147,
    "start_time": "2021-11-08T18:12:54.524Z"
   },
   {
    "duration": -149,
    "start_time": "2021-11-08T18:12:54.527Z"
   },
   {
    "duration": -150,
    "start_time": "2021-11-08T18:12:54.530Z"
   },
   {
    "duration": -151,
    "start_time": "2021-11-08T18:12:54.532Z"
   },
   {
    "duration": -152,
    "start_time": "2021-11-08T18:12:54.534Z"
   },
   {
    "duration": -154,
    "start_time": "2021-11-08T18:12:54.537Z"
   },
   {
    "duration": -156,
    "start_time": "2021-11-08T18:12:54.540Z"
   },
   {
    "duration": -156,
    "start_time": "2021-11-08T18:12:54.542Z"
   },
   {
    "duration": -158,
    "start_time": "2021-11-08T18:12:54.545Z"
   },
   {
    "duration": -148,
    "start_time": "2021-11-08T18:12:54.548Z"
   },
   {
    "duration": -150,
    "start_time": "2021-11-08T18:12:54.551Z"
   },
   {
    "duration": -159,
    "start_time": "2021-11-08T18:12:54.562Z"
   },
   {
    "duration": -161,
    "start_time": "2021-11-08T18:12:54.565Z"
   },
   {
    "duration": -163,
    "start_time": "2021-11-08T18:12:54.568Z"
   },
   {
    "duration": -165,
    "start_time": "2021-11-08T18:12:54.571Z"
   },
   {
    "duration": -165,
    "start_time": "2021-11-08T18:12:54.573Z"
   },
   {
    "duration": -166,
    "start_time": "2021-11-08T18:12:54.575Z"
   },
   {
    "duration": -169,
    "start_time": "2021-11-08T18:12:54.579Z"
   },
   {
    "duration": 388,
    "start_time": "2021-11-08T18:13:03.298Z"
   },
   {
    "duration": 26,
    "start_time": "2021-11-08T18:13:14.805Z"
   },
   {
    "duration": 386,
    "start_time": "2021-11-08T18:13:24.538Z"
   },
   {
    "duration": 48,
    "start_time": "2021-11-08T18:13:36.145Z"
   },
   {
    "duration": 43,
    "start_time": "2021-11-08T18:13:42.225Z"
   },
   {
    "duration": 42,
    "start_time": "2021-11-08T18:15:07.845Z"
   },
   {
    "duration": 1491,
    "start_time": "2021-11-08T18:15:16.130Z"
   },
   {
    "duration": 64,
    "start_time": "2021-11-08T18:15:17.623Z"
   },
   {
    "duration": 51,
    "start_time": "2021-11-08T18:15:17.690Z"
   },
   {
    "duration": 88,
    "start_time": "2021-11-08T18:15:17.744Z"
   },
   {
    "duration": 11,
    "start_time": "2021-11-08T18:15:17.835Z"
   },
   {
    "duration": 62,
    "start_time": "2021-11-08T18:15:17.849Z"
   },
   {
    "duration": 10,
    "start_time": "2021-11-08T18:15:17.914Z"
   },
   {
    "duration": 23,
    "start_time": "2021-11-08T18:15:17.928Z"
   },
   {
    "duration": 69,
    "start_time": "2021-11-08T18:15:17.955Z"
   },
   {
    "duration": 50,
    "start_time": "2021-11-08T18:15:18.027Z"
   },
   {
    "duration": 16,
    "start_time": "2021-11-08T18:15:18.099Z"
   },
   {
    "duration": 782,
    "start_time": "2021-11-08T18:15:18.119Z"
   },
   {
    "duration": 19,
    "start_time": "2021-11-08T18:15:18.904Z"
   },
   {
    "duration": 738,
    "start_time": "2021-11-08T18:15:18.926Z"
   },
   {
    "duration": 10,
    "start_time": "2021-11-08T18:15:19.667Z"
   },
   {
    "duration": 46,
    "start_time": "2021-11-08T18:15:19.679Z"
   },
   {
    "duration": 29,
    "start_time": "2021-11-08T18:15:19.728Z"
   },
   {
    "duration": 48,
    "start_time": "2021-11-08T18:15:19.760Z"
   },
   {
    "duration": 12,
    "start_time": "2021-11-08T18:15:19.810Z"
   },
   {
    "duration": 15,
    "start_time": "2021-11-08T18:15:19.824Z"
   },
   {
    "duration": 20,
    "start_time": "2021-11-08T18:15:19.842Z"
   },
   {
    "duration": 725,
    "start_time": "2021-11-08T18:15:19.864Z"
   },
   {
    "duration": 607,
    "start_time": "2021-11-08T18:15:20.595Z"
   },
   {
    "duration": 698,
    "start_time": "2021-11-08T18:15:21.205Z"
   },
   {
    "duration": 594,
    "start_time": "2021-11-08T18:15:21.906Z"
   },
   {
    "duration": 700,
    "start_time": "2021-11-08T18:15:22.503Z"
   },
   {
    "duration": 16,
    "start_time": "2021-11-08T18:15:23.206Z"
   },
   {
    "duration": 950,
    "start_time": "2021-11-08T18:15:23.225Z"
   },
   {
    "duration": 22,
    "start_time": "2021-11-08T18:15:24.178Z"
   },
   {
    "duration": 6,
    "start_time": "2021-11-08T18:15:24.203Z"
   },
   {
    "duration": 863,
    "start_time": "2021-11-08T18:15:24.211Z"
   },
   {
    "duration": 10,
    "start_time": "2021-11-08T18:15:25.077Z"
   },
   {
    "duration": 6,
    "start_time": "2021-11-08T18:15:25.101Z"
   },
   {
    "duration": 20,
    "start_time": "2021-11-08T18:15:25.109Z"
   },
   {
    "duration": 12,
    "start_time": "2021-11-08T18:15:25.131Z"
   },
   {
    "duration": 13,
    "start_time": "2021-11-08T18:15:25.145Z"
   },
   {
    "duration": 47,
    "start_time": "2021-11-08T18:15:25.160Z"
   },
   {
    "duration": 19,
    "start_time": "2021-11-08T18:15:25.210Z"
   },
   {
    "duration": 14,
    "start_time": "2021-11-08T18:15:25.232Z"
   },
   {
    "duration": 52,
    "start_time": "2021-11-08T18:15:25.249Z"
   },
   {
    "duration": 12,
    "start_time": "2021-11-08T18:15:25.304Z"
   },
   {
    "duration": 7,
    "start_time": "2021-11-08T18:15:25.319Z"
   },
   {
    "duration": 13,
    "start_time": "2021-11-08T18:15:25.329Z"
   },
   {
    "duration": 56,
    "start_time": "2021-11-08T18:15:25.345Z"
   },
   {
    "duration": 773,
    "start_time": "2021-11-08T18:15:25.404Z"
   },
   {
    "duration": 788,
    "start_time": "2021-11-08T18:15:26.180Z"
   },
   {
    "duration": 526,
    "start_time": "2021-11-08T18:15:43.043Z"
   },
   {
    "duration": 1488,
    "start_time": "2021-11-08T18:15:50.654Z"
   },
   {
    "duration": 67,
    "start_time": "2021-11-08T18:15:52.147Z"
   },
   {
    "duration": 50,
    "start_time": "2021-11-08T18:15:52.217Z"
   },
   {
    "duration": 52,
    "start_time": "2021-11-08T18:15:52.270Z"
   },
   {
    "duration": 12,
    "start_time": "2021-11-08T18:15:52.324Z"
   },
   {
    "duration": 67,
    "start_time": "2021-11-08T18:15:52.338Z"
   },
   {
    "duration": 10,
    "start_time": "2021-11-08T18:15:52.408Z"
   },
   {
    "duration": 19,
    "start_time": "2021-11-08T18:15:52.422Z"
   },
   {
    "duration": 58,
    "start_time": "2021-11-08T18:15:52.444Z"
   },
   {
    "duration": 33,
    "start_time": "2021-11-08T18:15:52.504Z"
   },
   {
    "duration": 17,
    "start_time": "2021-11-08T18:15:52.539Z"
   },
   {
    "duration": 797,
    "start_time": "2021-11-08T18:15:52.559Z"
   },
   {
    "duration": 17,
    "start_time": "2021-11-08T18:15:53.359Z"
   },
   {
    "duration": 742,
    "start_time": "2021-11-08T18:15:53.378Z"
   },
   {
    "duration": 10,
    "start_time": "2021-11-08T18:15:54.123Z"
   },
   {
    "duration": 43,
    "start_time": "2021-11-08T18:15:54.135Z"
   },
   {
    "duration": 42,
    "start_time": "2021-11-08T18:15:54.181Z"
   },
   {
    "duration": 24,
    "start_time": "2021-11-08T18:15:54.225Z"
   },
   {
    "duration": 17,
    "start_time": "2021-11-08T18:15:54.252Z"
   },
   {
    "duration": 20,
    "start_time": "2021-11-08T18:15:54.272Z"
   },
   {
    "duration": 18,
    "start_time": "2021-11-08T18:15:54.301Z"
   },
   {
    "duration": 1146,
    "start_time": "2021-11-08T18:15:54.322Z"
   },
   {
    "duration": 643,
    "start_time": "2021-11-08T18:15:55.476Z"
   },
   {
    "duration": 673,
    "start_time": "2021-11-08T18:15:56.122Z"
   },
   {
    "duration": 590,
    "start_time": "2021-11-08T18:15:56.798Z"
   },
   {
    "duration": 710,
    "start_time": "2021-11-08T18:15:57.391Z"
   },
   {
    "duration": 22,
    "start_time": "2021-11-08T18:15:58.104Z"
   },
   {
    "duration": 1090,
    "start_time": "2021-11-08T18:15:58.129Z"
   },
   {
    "duration": 11,
    "start_time": "2021-11-08T18:15:59.223Z"
   },
   {
    "duration": 5,
    "start_time": "2021-11-08T18:15:59.237Z"
   },
   {
    "duration": 706,
    "start_time": "2021-11-08T18:15:59.245Z"
   },
   {
    "duration": 10,
    "start_time": "2021-11-08T18:15:59.954Z"
   },
   {
    "duration": 8,
    "start_time": "2021-11-08T18:15:59.966Z"
   },
   {
    "duration": 35,
    "start_time": "2021-11-08T18:15:59.976Z"
   },
   {
    "duration": 12,
    "start_time": "2021-11-08T18:16:00.014Z"
   },
   {
    "duration": 15,
    "start_time": "2021-11-08T18:16:00.029Z"
   },
   {
    "duration": 36,
    "start_time": "2021-11-08T18:16:00.047Z"
   },
   {
    "duration": 22,
    "start_time": "2021-11-08T18:16:00.086Z"
   },
   {
    "duration": 27,
    "start_time": "2021-11-08T18:16:00.111Z"
   },
   {
    "duration": 18,
    "start_time": "2021-11-08T18:16:00.141Z"
   },
   {
    "duration": 30,
    "start_time": "2021-11-08T18:16:00.162Z"
   },
   {
    "duration": 34,
    "start_time": "2021-11-08T18:16:00.195Z"
   },
   {
    "duration": 40,
    "start_time": "2021-11-08T18:16:00.232Z"
   },
   {
    "duration": 43,
    "start_time": "2021-11-08T18:16:00.276Z"
   },
   {
    "duration": 617,
    "start_time": "2021-11-08T18:16:00.322Z"
   },
   {
    "duration": 573,
    "start_time": "2021-11-08T18:16:00.941Z"
   },
   {
    "duration": 506,
    "start_time": "2021-11-08T18:16:41.662Z"
   },
   {
    "duration": 1571,
    "start_time": "2021-11-08T18:16:49.705Z"
   },
   {
    "duration": 63,
    "start_time": "2021-11-08T18:16:51.278Z"
   },
   {
    "duration": 54,
    "start_time": "2021-11-08T18:16:51.344Z"
   },
   {
    "duration": 44,
    "start_time": "2021-11-08T18:16:51.401Z"
   },
   {
    "duration": 11,
    "start_time": "2021-11-08T18:16:51.447Z"
   },
   {
    "duration": 69,
    "start_time": "2021-11-08T18:16:51.461Z"
   },
   {
    "duration": 12,
    "start_time": "2021-11-08T18:16:51.533Z"
   },
   {
    "duration": 50,
    "start_time": "2021-11-08T18:16:51.553Z"
   },
   {
    "duration": 28,
    "start_time": "2021-11-08T18:16:51.606Z"
   },
   {
    "duration": 34,
    "start_time": "2021-11-08T18:16:51.636Z"
   },
   {
    "duration": 41,
    "start_time": "2021-11-08T18:16:51.672Z"
   },
   {
    "duration": 844,
    "start_time": "2021-11-08T18:16:51.715Z"
   },
   {
    "duration": 38,
    "start_time": "2021-11-08T18:16:52.562Z"
   },
   {
    "duration": 839,
    "start_time": "2021-11-08T18:16:52.602Z"
   },
   {
    "duration": 10,
    "start_time": "2021-11-08T18:16:53.443Z"
   },
   {
    "duration": 65,
    "start_time": "2021-11-08T18:16:53.456Z"
   },
   {
    "duration": 34,
    "start_time": "2021-11-08T18:16:53.524Z"
   },
   {
    "duration": 49,
    "start_time": "2021-11-08T18:16:53.561Z"
   },
   {
    "duration": 6,
    "start_time": "2021-11-08T18:16:53.613Z"
   },
   {
    "duration": 8,
    "start_time": "2021-11-08T18:16:53.622Z"
   },
   {
    "duration": 20,
    "start_time": "2021-11-08T18:16:53.632Z"
   },
   {
    "duration": 782,
    "start_time": "2021-11-08T18:16:53.654Z"
   },
   {
    "duration": 586,
    "start_time": "2021-11-08T18:16:54.440Z"
   },
   {
    "duration": 670,
    "start_time": "2021-11-08T18:16:55.030Z"
   },
   {
    "duration": 620,
    "start_time": "2021-11-08T18:16:55.702Z"
   },
   {
    "duration": 658,
    "start_time": "2021-11-08T18:16:56.325Z"
   },
   {
    "duration": 22,
    "start_time": "2021-11-08T18:16:56.986Z"
   },
   {
    "duration": 721,
    "start_time": "2021-11-08T18:16:57.011Z"
   },
   {
    "duration": 8,
    "start_time": "2021-11-08T18:16:57.735Z"
   },
   {
    "duration": 8,
    "start_time": "2021-11-08T18:16:57.746Z"
   },
   {
    "duration": 693,
    "start_time": "2021-11-08T18:16:57.756Z"
   },
   {
    "duration": 10,
    "start_time": "2021-11-08T18:16:58.451Z"
   },
   {
    "duration": 7,
    "start_time": "2021-11-08T18:16:58.463Z"
   },
   {
    "duration": 35,
    "start_time": "2021-11-08T18:16:58.472Z"
   },
   {
    "duration": 15,
    "start_time": "2021-11-08T18:16:58.510Z"
   },
   {
    "duration": 12,
    "start_time": "2021-11-08T18:16:58.528Z"
   },
   {
    "duration": 16,
    "start_time": "2021-11-08T18:16:58.543Z"
   },
   {
    "duration": 44,
    "start_time": "2021-11-08T18:16:58.562Z"
   },
   {
    "duration": 14,
    "start_time": "2021-11-08T18:16:58.609Z"
   },
   {
    "duration": 16,
    "start_time": "2021-11-08T18:16:58.626Z"
   },
   {
    "duration": 11,
    "start_time": "2021-11-08T18:16:58.644Z"
   },
   {
    "duration": 8,
    "start_time": "2021-11-08T18:16:58.659Z"
   },
   {
    "duration": 12,
    "start_time": "2021-11-08T18:16:58.701Z"
   },
   {
    "duration": 16,
    "start_time": "2021-11-08T18:16:58.715Z"
   },
   {
    "duration": 620,
    "start_time": "2021-11-08T18:16:58.733Z"
   },
   {
    "duration": 726,
    "start_time": "2021-11-08T18:16:59.356Z"
   },
   {
    "duration": 909,
    "start_time": "2021-11-08T18:17:14.973Z"
   },
   {
    "duration": 1623,
    "start_time": "2021-11-08T18:17:20.951Z"
   },
   {
    "duration": 63,
    "start_time": "2021-11-08T18:17:22.577Z"
   },
   {
    "duration": 51,
    "start_time": "2021-11-08T18:17:22.644Z"
   },
   {
    "duration": 42,
    "start_time": "2021-11-08T18:17:22.697Z"
   },
   {
    "duration": 14,
    "start_time": "2021-11-08T18:17:22.742Z"
   },
   {
    "duration": 74,
    "start_time": "2021-11-08T18:17:22.759Z"
   },
   {
    "duration": 13,
    "start_time": "2021-11-08T18:17:22.836Z"
   },
   {
    "duration": 61,
    "start_time": "2021-11-08T18:17:22.854Z"
   },
   {
    "duration": 37,
    "start_time": "2021-11-08T18:17:22.919Z"
   },
   {
    "duration": 625,
    "start_time": "2021-11-08T18:17:22.958Z"
   },
   {
    "duration": -121,
    "start_time": "2021-11-08T18:17:23.709Z"
   },
   {
    "duration": -122,
    "start_time": "2021-11-08T18:17:23.712Z"
   },
   {
    "duration": -124,
    "start_time": "2021-11-08T18:17:23.715Z"
   },
   {
    "duration": -124,
    "start_time": "2021-11-08T18:17:23.717Z"
   },
   {
    "duration": -125,
    "start_time": "2021-11-08T18:17:23.720Z"
   },
   {
    "duration": -126,
    "start_time": "2021-11-08T18:17:23.723Z"
   },
   {
    "duration": -127,
    "start_time": "2021-11-08T18:17:23.726Z"
   },
   {
    "duration": -127,
    "start_time": "2021-11-08T18:17:23.728Z"
   },
   {
    "duration": -127,
    "start_time": "2021-11-08T18:17:23.730Z"
   },
   {
    "duration": -128,
    "start_time": "2021-11-08T18:17:23.732Z"
   },
   {
    "duration": -129,
    "start_time": "2021-11-08T18:17:23.735Z"
   },
   {
    "duration": -129,
    "start_time": "2021-11-08T18:17:23.737Z"
   },
   {
    "duration": -129,
    "start_time": "2021-11-08T18:17:23.739Z"
   },
   {
    "duration": -129,
    "start_time": "2021-11-08T18:17:23.741Z"
   },
   {
    "duration": -130,
    "start_time": "2021-11-08T18:17:23.744Z"
   },
   {
    "duration": -131,
    "start_time": "2021-11-08T18:17:23.747Z"
   },
   {
    "duration": -132,
    "start_time": "2021-11-08T18:17:23.749Z"
   },
   {
    "duration": -138,
    "start_time": "2021-11-08T18:17:23.757Z"
   },
   {
    "duration": -139,
    "start_time": "2021-11-08T18:17:23.760Z"
   },
   {
    "duration": -140,
    "start_time": "2021-11-08T18:17:23.762Z"
   },
   {
    "duration": -141,
    "start_time": "2021-11-08T18:17:23.765Z"
   },
   {
    "duration": -141,
    "start_time": "2021-11-08T18:17:23.767Z"
   },
   {
    "duration": -142,
    "start_time": "2021-11-08T18:17:23.769Z"
   },
   {
    "duration": -142,
    "start_time": "2021-11-08T18:17:23.771Z"
   },
   {
    "duration": -143,
    "start_time": "2021-11-08T18:17:23.774Z"
   },
   {
    "duration": -154,
    "start_time": "2021-11-08T18:17:23.786Z"
   },
   {
    "duration": -155,
    "start_time": "2021-11-08T18:17:23.789Z"
   },
   {
    "duration": -155,
    "start_time": "2021-11-08T18:17:23.791Z"
   },
   {
    "duration": -156,
    "start_time": "2021-11-08T18:17:23.794Z"
   },
   {
    "duration": -98,
    "start_time": "2021-11-08T18:17:23.797Z"
   },
   {
    "duration": -98,
    "start_time": "2021-11-08T18:17:23.800Z"
   },
   {
    "duration": -100,
    "start_time": "2021-11-08T18:17:23.803Z"
   },
   {
    "duration": -100,
    "start_time": "2021-11-08T18:17:23.805Z"
   },
   {
    "duration": -100,
    "start_time": "2021-11-08T18:17:23.807Z"
   },
   {
    "duration": -102,
    "start_time": "2021-11-08T18:17:23.811Z"
   },
   {
    "duration": -103,
    "start_time": "2021-11-08T18:17:23.814Z"
   },
   {
    "duration": 387,
    "start_time": "2021-11-08T18:17:41.216Z"
   },
   {
    "duration": 503,
    "start_time": "2021-11-08T18:18:58.272Z"
   },
   {
    "duration": 473,
    "start_time": "2021-11-08T18:19:08.283Z"
   },
   {
    "duration": 17,
    "start_time": "2021-11-08T18:22:04.510Z"
   },
   {
    "duration": 26,
    "start_time": "2021-11-08T18:22:33.003Z"
   },
   {
    "duration": 26,
    "start_time": "2021-11-08T18:26:27.224Z"
   },
   {
    "duration": 16,
    "start_time": "2021-11-08T18:26:31.905Z"
   },
   {
    "duration": 30,
    "start_time": "2021-11-08T18:27:17.984Z"
   },
   {
    "duration": 398,
    "start_time": "2021-11-08T18:27:47.460Z"
   },
   {
    "duration": 37,
    "start_time": "2021-11-08T18:27:55.494Z"
   },
   {
    "duration": 18,
    "start_time": "2021-11-08T18:28:13.725Z"
   },
   {
    "duration": 1461,
    "start_time": "2021-11-08T18:28:19.044Z"
   },
   {
    "duration": 68,
    "start_time": "2021-11-08T18:28:20.508Z"
   },
   {
    "duration": 58,
    "start_time": "2021-11-08T18:28:20.579Z"
   },
   {
    "duration": 81,
    "start_time": "2021-11-08T18:28:20.639Z"
   },
   {
    "duration": 12,
    "start_time": "2021-11-08T18:28:20.722Z"
   },
   {
    "duration": 35,
    "start_time": "2021-11-08T18:28:20.736Z"
   },
   {
    "duration": 12,
    "start_time": "2021-11-08T18:28:20.801Z"
   },
   {
    "duration": 22,
    "start_time": "2021-11-08T18:28:20.817Z"
   },
   {
    "duration": 67,
    "start_time": "2021-11-08T18:28:20.842Z"
   },
   {
    "duration": 19,
    "start_time": "2021-11-08T18:28:20.911Z"
   },
   {
    "duration": 24,
    "start_time": "2021-11-08T18:28:20.932Z"
   },
   {
    "duration": 804,
    "start_time": "2021-11-08T18:28:20.959Z"
   },
   {
    "duration": 18,
    "start_time": "2021-11-08T18:28:21.766Z"
   },
   {
    "duration": 736,
    "start_time": "2021-11-08T18:28:21.801Z"
   },
   {
    "duration": 11,
    "start_time": "2021-11-08T18:28:22.540Z"
   },
   {
    "duration": 54,
    "start_time": "2021-11-08T18:28:22.554Z"
   },
   {
    "duration": 32,
    "start_time": "2021-11-08T18:28:22.611Z"
   },
   {
    "duration": 27,
    "start_time": "2021-11-08T18:28:22.645Z"
   },
   {
    "duration": 31,
    "start_time": "2021-11-08T18:28:22.674Z"
   },
   {
    "duration": 9,
    "start_time": "2021-11-08T18:28:22.708Z"
   },
   {
    "duration": 18,
    "start_time": "2021-11-08T18:28:22.720Z"
   },
   {
    "duration": 735,
    "start_time": "2021-11-08T18:28:22.741Z"
   },
   {
    "duration": 606,
    "start_time": "2021-11-08T18:28:23.481Z"
   },
   {
    "duration": 685,
    "start_time": "2021-11-08T18:28:24.090Z"
   },
   {
    "duration": 583,
    "start_time": "2021-11-08T18:28:24.777Z"
   },
   {
    "duration": 732,
    "start_time": "2021-11-08T18:28:25.362Z"
   },
   {
    "duration": 15,
    "start_time": "2021-11-08T18:28:26.099Z"
   },
   {
    "duration": 726,
    "start_time": "2021-11-08T18:28:26.117Z"
   },
   {
    "duration": 9,
    "start_time": "2021-11-08T18:28:26.845Z"
   },
   {
    "duration": 9,
    "start_time": "2021-11-08T18:28:26.857Z"
   },
   {
    "duration": 667,
    "start_time": "2021-11-08T18:28:26.869Z"
   },
   {
    "duration": 9,
    "start_time": "2021-11-08T18:28:27.538Z"
   },
   {
    "duration": 11,
    "start_time": "2021-11-08T18:28:27.549Z"
   },
   {
    "duration": 41,
    "start_time": "2021-11-08T18:28:27.563Z"
   },
   {
    "duration": 9,
    "start_time": "2021-11-08T18:28:27.607Z"
   },
   {
    "duration": 8,
    "start_time": "2021-11-08T18:28:27.619Z"
   },
   {
    "duration": 10,
    "start_time": "2021-11-08T18:28:27.630Z"
   },
   {
    "duration": 15,
    "start_time": "2021-11-08T18:28:27.643Z"
   },
   {
    "duration": 48,
    "start_time": "2021-11-08T18:28:27.661Z"
   },
   {
    "duration": 18,
    "start_time": "2021-11-08T18:28:27.711Z"
   },
   {
    "duration": 9,
    "start_time": "2021-11-08T18:28:27.732Z"
   },
   {
    "duration": 7,
    "start_time": "2021-11-08T18:28:27.744Z"
   },
   {
    "duration": 14,
    "start_time": "2021-11-08T18:28:27.753Z"
   },
   {
    "duration": 16,
    "start_time": "2021-11-08T18:28:27.802Z"
   },
   {
    "duration": 584,
    "start_time": "2021-11-08T18:28:27.820Z"
   },
   {
    "duration": 573,
    "start_time": "2021-11-08T18:28:28.407Z"
   },
   {
    "duration": 512,
    "start_time": "2021-11-08T18:28:38.604Z"
   },
   {
    "duration": 1467,
    "start_time": "2021-11-08T18:28:44.339Z"
   },
   {
    "duration": 65,
    "start_time": "2021-11-08T18:28:45.808Z"
   },
   {
    "duration": 58,
    "start_time": "2021-11-08T18:28:45.876Z"
   },
   {
    "duration": 70,
    "start_time": "2021-11-08T18:28:45.937Z"
   },
   {
    "duration": 11,
    "start_time": "2021-11-08T18:28:46.010Z"
   },
   {
    "duration": 40,
    "start_time": "2021-11-08T18:28:46.024Z"
   },
   {
    "duration": 42,
    "start_time": "2021-11-08T18:28:46.066Z"
   },
   {
    "duration": 18,
    "start_time": "2021-11-08T18:28:46.113Z"
   },
   {
    "duration": 38,
    "start_time": "2021-11-08T18:28:46.135Z"
   },
   {
    "duration": 22,
    "start_time": "2021-11-08T18:28:46.202Z"
   },
   {
    "duration": 17,
    "start_time": "2021-11-08T18:28:46.226Z"
   },
   {
    "duration": 806,
    "start_time": "2021-11-08T18:28:46.245Z"
   },
   {
    "duration": 18,
    "start_time": "2021-11-08T18:28:47.053Z"
   },
   {
    "duration": 747,
    "start_time": "2021-11-08T18:28:47.073Z"
   },
   {
    "duration": 12,
    "start_time": "2021-11-08T18:28:47.822Z"
   },
   {
    "duration": 44,
    "start_time": "2021-11-08T18:28:47.837Z"
   },
   {
    "duration": 44,
    "start_time": "2021-11-08T18:28:47.884Z"
   },
   {
    "duration": 28,
    "start_time": "2021-11-08T18:28:47.930Z"
   },
   {
    "duration": 46,
    "start_time": "2021-11-08T18:28:47.961Z"
   },
   {
    "duration": 11,
    "start_time": "2021-11-08T18:28:48.010Z"
   },
   {
    "duration": 21,
    "start_time": "2021-11-08T18:28:48.024Z"
   },
   {
    "duration": 728,
    "start_time": "2021-11-08T18:28:48.047Z"
   },
   {
    "duration": 624,
    "start_time": "2021-11-08T18:28:48.781Z"
   },
   {
    "duration": 704,
    "start_time": "2021-11-08T18:28:49.409Z"
   },
   {
    "duration": 584,
    "start_time": "2021-11-08T18:28:50.116Z"
   },
   {
    "duration": 690,
    "start_time": "2021-11-08T18:28:50.702Z"
   },
   {
    "duration": 21,
    "start_time": "2021-11-08T18:28:51.394Z"
   },
   {
    "duration": 730,
    "start_time": "2021-11-08T18:28:51.418Z"
   },
   {
    "duration": 11,
    "start_time": "2021-11-08T18:28:52.151Z"
   },
   {
    "duration": 7,
    "start_time": "2021-11-08T18:28:52.165Z"
   },
   {
    "duration": 649,
    "start_time": "2021-11-08T18:28:52.200Z"
   },
   {
    "duration": 10,
    "start_time": "2021-11-08T18:28:52.851Z"
   },
   {
    "duration": 5,
    "start_time": "2021-11-08T18:28:52.863Z"
   },
   {
    "duration": 40,
    "start_time": "2021-11-08T18:28:52.871Z"
   },
   {
    "duration": 9,
    "start_time": "2021-11-08T18:28:52.914Z"
   },
   {
    "duration": 6,
    "start_time": "2021-11-08T18:28:52.926Z"
   },
   {
    "duration": 12,
    "start_time": "2021-11-08T18:28:52.934Z"
   },
   {
    "duration": 63,
    "start_time": "2021-11-08T18:28:52.949Z"
   },
   {
    "duration": 14,
    "start_time": "2021-11-08T18:28:53.015Z"
   },
   {
    "duration": 14,
    "start_time": "2021-11-08T18:28:53.031Z"
   },
   {
    "duration": 10,
    "start_time": "2021-11-08T18:28:53.047Z"
   },
   {
    "duration": 41,
    "start_time": "2021-11-08T18:28:53.059Z"
   },
   {
    "duration": 16,
    "start_time": "2021-11-08T18:28:53.103Z"
   },
   {
    "duration": 17,
    "start_time": "2021-11-08T18:28:53.122Z"
   },
   {
    "duration": 608,
    "start_time": "2021-11-08T18:28:53.142Z"
   },
   {
    "duration": 584,
    "start_time": "2021-11-08T18:28:53.752Z"
   }
  ],
  "kernelspec": {
   "display_name": "Python 3",
   "language": "python",
   "name": "python3"
  },
  "language_info": {
   "codemirror_mode": {
    "name": "ipython",
    "version": 3
   },
   "file_extension": ".py",
   "mimetype": "text/x-python",
   "name": "python",
   "nbconvert_exporter": "python",
   "pygments_lexer": "ipython3",
   "version": "3.9.5"
  },
  "toc": {
   "base_numbering": 1,
   "nav_menu": {},
   "number_sections": true,
   "sideBar": true,
   "skip_h1_title": true,
   "title_cell": "Table of Contents",
   "title_sidebar": "Contents",
   "toc_cell": false,
   "toc_position": {},
   "toc_section_display": true,
   "toc_window_display": false
  }
 },
 "nbformat": 4,
 "nbformat_minor": 2
}
