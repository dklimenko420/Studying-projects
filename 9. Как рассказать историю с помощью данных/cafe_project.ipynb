{
 "cells": [
  {
   "cell_type": "markdown",
   "metadata": {},
   "source": [
    "__Вы решили открыть небольшое кафе в Москве. Оно оригинальное — гостей должны обслуживать роботы. Проект многообещающий, но дорогой. Вместе с партнёрами вы решились обратиться к инвесторам. Их интересует текущее положение дел на рынке — сможете ли вы снискать популярность на долгое время, когда все зеваки насмотрятся на роботов-официантов?__\n",
    "\n",
    "__Вы — гуру аналитики, и партнёры просят вас подготовить исследование рынка. У вас есть открытые данные о заведениях общественного питания в Москве.__"
   ]
  },
  {
   "cell_type": "markdown",
   "metadata": {},
   "source": [
    "__Описание данных__\n",
    "\n",
    "Таблица rest_data:\n",
    "- id — идентификатор объекта;\n",
    "- object_name — название объекта общественного питания;\n",
    "- chain — сетевой ресторан;\n",
    "- object_type — тип объекта общественного питания;\n",
    "- address — адрес;\n",
    "- number — количество посадочных мест."
   ]
  },
  {
   "cell_type": "markdown",
   "metadata": {},
   "source": [
    "___"
   ]
  },
  {
   "cell_type": "markdown",
   "metadata": {},
   "source": [
    "# Шаг №1. Загрузите данные и подготовьте их к анализу"
   ]
  },
  {
   "cell_type": "markdown",
   "metadata": {},
   "source": [
    "Загрузите данные о заведениях общественного питания Москвы. Убедитесь, что тип данных в каждой колонке — правильный, а также отсутствуют пропущенные значения и дубликаты. При необходимости обработайте их."
   ]
  },
  {
   "cell_type": "code",
   "execution_count": 1,
   "metadata": {},
   "outputs": [],
   "source": [
    "import pandas as pd\n",
    "import matplotlib.pyplot as plt\n",
    "\n",
    "import seaborn as sns\n",
    "sns.set(rc={'figure.figsize':(10, 8)})\n",
    "import requests\n",
    "\n",
    "import scipy.stats as stats\n",
    "from scipy import stats as st\n",
    "from pandas.io.json import json_normalize\n",
    "from pprint import pprint\n",
    "from io import BytesIO\n",
    "\n",
    "\n",
    "import math\n",
    "import numpy as np"
   ]
  },
  {
   "cell_type": "code",
   "execution_count": 2,
   "metadata": {},
   "outputs": [],
   "source": [
    "pd.set_option('display.max_columns', None)\n",
    "pd.options.display.float_format = '{:,.2f}'.format"
   ]
  },
  {
   "cell_type": "code",
   "execution_count": 3,
   "metadata": {},
   "outputs": [
    {
     "name": "stdout",
     "output_type": "stream",
     "text": [
      "<class 'pandas.core.frame.DataFrame'>\n",
      "RangeIndex: 15366 entries, 0 to 15365\n",
      "Data columns (total 6 columns):\n",
      "id             15366 non-null int64\n",
      "object_name    15366 non-null object\n",
      "chain          15366 non-null object\n",
      "object_type    15366 non-null object\n",
      "address        15366 non-null object\n",
      "number         15366 non-null int64\n",
      "dtypes: int64(2), object(4)\n",
      "memory usage: 720.4+ KB\n"
     ]
    },
    {
     "data": {
      "text/html": [
       "<div>\n",
       "<style scoped>\n",
       "    .dataframe tbody tr th:only-of-type {\n",
       "        vertical-align: middle;\n",
       "    }\n",
       "\n",
       "    .dataframe tbody tr th {\n",
       "        vertical-align: top;\n",
       "    }\n",
       "\n",
       "    .dataframe thead th {\n",
       "        text-align: right;\n",
       "    }\n",
       "</style>\n",
       "<table border=\"1\" class=\"dataframe\">\n",
       "  <thead>\n",
       "    <tr style=\"text-align: right;\">\n",
       "      <th></th>\n",
       "      <th>id</th>\n",
       "      <th>object_name</th>\n",
       "      <th>chain</th>\n",
       "      <th>object_type</th>\n",
       "      <th>address</th>\n",
       "      <th>number</th>\n",
       "    </tr>\n",
       "  </thead>\n",
       "  <tbody>\n",
       "    <tr>\n",
       "      <td>0</td>\n",
       "      <td>151635</td>\n",
       "      <td>СМЕТАНА</td>\n",
       "      <td>нет</td>\n",
       "      <td>кафе</td>\n",
       "      <td>город Москва, улица Егора Абакумова, дом 9</td>\n",
       "      <td>48</td>\n",
       "    </tr>\n",
       "    <tr>\n",
       "      <td>1</td>\n",
       "      <td>77874</td>\n",
       "      <td>Родник</td>\n",
       "      <td>нет</td>\n",
       "      <td>кафе</td>\n",
       "      <td>город Москва, улица Талалихина, дом 2/1, корпус 1</td>\n",
       "      <td>35</td>\n",
       "    </tr>\n",
       "    <tr>\n",
       "      <td>2</td>\n",
       "      <td>24309</td>\n",
       "      <td>Кафе «Академия»</td>\n",
       "      <td>нет</td>\n",
       "      <td>кафе</td>\n",
       "      <td>город Москва, Абельмановская улица, дом 6</td>\n",
       "      <td>95</td>\n",
       "    </tr>\n",
       "    <tr>\n",
       "      <td>3</td>\n",
       "      <td>21894</td>\n",
       "      <td>ПИЦЦЕТОРИЯ</td>\n",
       "      <td>да</td>\n",
       "      <td>кафе</td>\n",
       "      <td>город Москва, Абрамцевская улица, дом 1</td>\n",
       "      <td>40</td>\n",
       "    </tr>\n",
       "    <tr>\n",
       "      <td>4</td>\n",
       "      <td>119365</td>\n",
       "      <td>Кафе «Вишневая метель»</td>\n",
       "      <td>нет</td>\n",
       "      <td>кафе</td>\n",
       "      <td>город Москва, Абрамцевская улица, дом 9, корпус 1</td>\n",
       "      <td>50</td>\n",
       "    </tr>\n",
       "    <tr>\n",
       "      <td>...</td>\n",
       "      <td>...</td>\n",
       "      <td>...</td>\n",
       "      <td>...</td>\n",
       "      <td>...</td>\n",
       "      <td>...</td>\n",
       "      <td>...</td>\n",
       "    </tr>\n",
       "    <tr>\n",
       "      <td>15361</td>\n",
       "      <td>208537</td>\n",
       "      <td>Шоколадница</td>\n",
       "      <td>да</td>\n",
       "      <td>кафе</td>\n",
       "      <td>город Москва, 3-й Крутицкий переулок, дом 18</td>\n",
       "      <td>50</td>\n",
       "    </tr>\n",
       "    <tr>\n",
       "      <td>15362</td>\n",
       "      <td>209264</td>\n",
       "      <td>Шоколадница</td>\n",
       "      <td>да</td>\n",
       "      <td>кафе</td>\n",
       "      <td>город Москва, улица Земляной Вал, дом 33</td>\n",
       "      <td>10</td>\n",
       "    </tr>\n",
       "    <tr>\n",
       "      <td>15363</td>\n",
       "      <td>209186</td>\n",
       "      <td>Шоколадница</td>\n",
       "      <td>да</td>\n",
       "      <td>кафе</td>\n",
       "      <td>город Москва, улица Земляной Вал, дом 33</td>\n",
       "      <td>20</td>\n",
       "    </tr>\n",
       "    <tr>\n",
       "      <td>15364</td>\n",
       "      <td>221900</td>\n",
       "      <td>Шоколадница</td>\n",
       "      <td>да</td>\n",
       "      <td>кафе</td>\n",
       "      <td>город Москва, поселение Московский, Киевское ш...</td>\n",
       "      <td>36</td>\n",
       "    </tr>\n",
       "    <tr>\n",
       "      <td>15365</td>\n",
       "      <td>222535</td>\n",
       "      <td>Шоколадница</td>\n",
       "      <td>да</td>\n",
       "      <td>кафе</td>\n",
       "      <td>город Москва, Ходынский бульвар, дом 4</td>\n",
       "      <td>10</td>\n",
       "    </tr>\n",
       "  </tbody>\n",
       "</table>\n",
       "<p>15366 rows × 6 columns</p>\n",
       "</div>"
      ],
      "text/plain": [
       "           id             object_name chain object_type  \\\n",
       "0      151635                 СМЕТАНА   нет        кафе   \n",
       "1       77874                  Родник   нет        кафе   \n",
       "2       24309         Кафе «Академия»   нет        кафе   \n",
       "3       21894              ПИЦЦЕТОРИЯ    да        кафе   \n",
       "4      119365  Кафе «Вишневая метель»   нет        кафе   \n",
       "...       ...                     ...   ...         ...   \n",
       "15361  208537             Шоколадница    да        кафе   \n",
       "15362  209264             Шоколадница    да        кафе   \n",
       "15363  209186             Шоколадница    да        кафе   \n",
       "15364  221900             Шоколадница    да        кафе   \n",
       "15365  222535             Шоколадница    да        кафе   \n",
       "\n",
       "                                                 address  number  \n",
       "0             город Москва, улица Егора Абакумова, дом 9      48  \n",
       "1      город Москва, улица Талалихина, дом 2/1, корпус 1      35  \n",
       "2              город Москва, Абельмановская улица, дом 6      95  \n",
       "3                город Москва, Абрамцевская улица, дом 1      40  \n",
       "4      город Москва, Абрамцевская улица, дом 9, корпус 1      50  \n",
       "...                                                  ...     ...  \n",
       "15361       город Москва, 3-й Крутицкий переулок, дом 18      50  \n",
       "15362           город Москва, улица Земляной Вал, дом 33      10  \n",
       "15363           город Москва, улица Земляной Вал, дом 33      20  \n",
       "15364  город Москва, поселение Московский, Киевское ш...      36  \n",
       "15365             город Москва, Ходынский бульвар, дом 4      10  \n",
       "\n",
       "[15366 rows x 6 columns]"
      ]
     },
     "execution_count": 3,
     "metadata": {},
     "output_type": "execute_result"
    }
   ],
   "source": [
    "df = pd.read_csv('/datasets/rest_data.csv')\n",
    "df.info()\n",
    "df"
   ]
  },
  {
   "cell_type": "code",
   "execution_count": 4,
   "metadata": {},
   "outputs": [],
   "source": [
    "#Изменим название столбца, чтобы было понятнее\n",
    "df = df.rename(columns={'number':'number_of_seats'})"
   ]
  },
  {
   "cell_type": "code",
   "execution_count": 5,
   "metadata": {},
   "outputs": [
    {
     "data": {
      "text/plain": [
       "0"
      ]
     },
     "execution_count": 5,
     "metadata": {},
     "output_type": "execute_result"
    }
   ],
   "source": [
    "#Проверим есть ли дубликаты\n",
    "df.duplicated().sum()"
   ]
  },
  {
   "cell_type": "code",
   "execution_count": 6,
   "metadata": {},
   "outputs": [],
   "source": [
    "df['chain'] = df['chain'].map({'нет':'сеть','да':'несетевое'})\n",
    "df['object_type'] = df['object_type'].str.replace('предприятие быстрого обслуживания', 'фаст-фуд')\n",
    "df['object_type'] = df['object_type'].str.replace('магазин \\(отдел кулинарии\\)', 'кулинария')\n",
    "df['address'] = df['address'].str.replace('ё','е')"
   ]
  },
  {
   "cell_type": "markdown",
   "metadata": {},
   "source": [
    "__Вывод:__\n",
    "Переименовали столбец, посмотрели инфо по всему фрейму, попробовали почистить дубли, но все равно дублей не нашли. Откорректировали название для чёткости понимания."
   ]
  },
  {
   "cell_type": "markdown",
   "metadata": {},
   "source": [
    "___"
   ]
  },
  {
   "cell_type": "markdown",
   "metadata": {},
   "source": [
    "# Шаг №2. Анализ данных"
   ]
  },
  {
   "cell_type": "markdown",
   "metadata": {},
   "source": [
    "__Исследуйте соотношение видов объектов общественного питания по количеству. Постройте график.__"
   ]
  },
  {
   "cell_type": "code",
   "execution_count": 7,
   "metadata": {},
   "outputs": [
    {
     "data": {
      "image/png": "[encoded data removed]",
      "text/plain": [
       "<Figure size 720x360 with 1 Axes>"
      ]
     },
     "metadata": {},
     "output_type": "display_data"
    }
   ],
   "source": [
    "#Рассчитаем количество посадочных мест в объектах общественного питания\n",
    "fig, ax = plt.subplots(figsize=[10,5])\n",
    "object_type_x_chain = df.pivot_table(index='object_type', values='id', columns='chain', aggfunc='count')\n",
    "object_type_x_chain.plot(kind = 'bar', ax=ax)\n",
    "plt.title('Распределение сетевых заведений по типу объекта',fontsize=16)\n",
    "plt.xticks(fontsize=12, rotation=45)\n",
    "plt.yticks(fontsize=12)\n",
    "plt.xlabel(' ',fontsize=13)\n",
    "plt.legend(fontsize ='large');"
   ]
  },
  {
   "cell_type": "code",
   "execution_count": 8,
   "metadata": {},
   "outputs": [],
   "source": [
    "df_chains = df.loc[df['chain'] == 'сеть']"
   ]
  },
  {
   "cell_type": "code",
   "execution_count": 9,
   "metadata": {},
   "outputs": [
    {
     "data": {
      "text/plain": [
       "<Figure size 720x288 with 0 Axes>"
      ]
     },
     "metadata": {},
     "output_type": "display_data"
    },
    {
     "data": {
      "image/png": "[encoded data removed]",
      "text/plain": [
       "<Figure size 360x360 with 1 Axes>"
      ]
     },
     "metadata": {},
     "output_type": "display_data"
    }
   ],
   "source": [
    "plt.figure(figsize=(10, 4))\n",
    "sns.catplot(data=df_chains, y='object_type', x='number_of_seats')\n",
    "plt.title('Разброс количества посадочных мест в сетевых заведениях',fontsize=16)\n",
    "plt.xlabel('Количество посадочных мест',fontsize=13)\n",
    "plt.ylabel('',fontsize=13);"
   ]
  },
  {
   "cell_type": "markdown",
   "metadata": {},
   "source": [
    "__Вывод:__ Безусловный лидер - кафе. Их более 6 тыс. Далее в топ-4 входят: столовые, рестораны и фаст-фуд."
   ]
  },
  {
   "cell_type": "markdown",
   "metadata": {},
   "source": [
    "___"
   ]
  },
  {
   "cell_type": "markdown",
   "metadata": {},
   "source": [
    "__Исследуйте соотношение сетевых и несетевых заведений по количеству. Постройте график.__"
   ]
  },
  {
   "cell_type": "code",
   "execution_count": 10,
   "metadata": {},
   "outputs": [
    {
     "data": {
      "text/plain": [
       "chain\n",
       "несетевое     2968\n",
       "сеть         12398\n",
       "Name: object_name, dtype: int64"
      ]
     },
     "execution_count": 10,
     "metadata": {},
     "output_type": "execute_result"
    }
   ],
   "source": [
    "df.groupby('chain')['object_name'].count().sort_values()"
   ]
  },
  {
   "cell_type": "code",
   "execution_count": 11,
   "metadata": {},
   "outputs": [
    {
     "data": {
      "image/png": "[encoded data removed]",
      "text/plain": [
       "<Figure size 720x576 with 1 Axes>"
      ]
     },
     "metadata": {},
     "output_type": "display_data"
    }
   ],
   "source": [
    "ax = df.groupby('chain')['object_name'].count().sort_values().plot(kind='bar')\n",
    "ax.set_xlabel('Тип объекта')\n",
    "ax.set_ylabel('Количество объектов')\n",
    "ax.set_title('Кол-во сетевых и несетевых объектов общественного питания в Москве')\n",
    "plt.xticks(rotation=45)\n",
    "plt.show()"
   ]
  },
  {
   "cell_type": "markdown",
   "metadata": {},
   "source": [
    "__Вывод:__ Количество сетевых объектов в 4 раза выше несетевых."
   ]
  },
  {
   "cell_type": "markdown",
   "metadata": {},
   "source": [
    "___"
   ]
  },
  {
   "cell_type": "markdown",
   "metadata": {},
   "source": [
    "__Для какого вида объекта общественного питания характерно сетевое распространение?__"
   ]
  },
  {
   "cell_type": "code",
   "execution_count": 12,
   "metadata": {},
   "outputs": [],
   "source": [
    "web = 'сеть'"
   ]
  },
  {
   "cell_type": "code",
   "execution_count": 13,
   "metadata": {},
   "outputs": [],
   "source": [
    "temp = df.query('chain == @web')"
   ]
  },
  {
   "cell_type": "code",
   "execution_count": 14,
   "metadata": {},
   "outputs": [
    {
     "data": {
      "text/plain": [
       "['кафе',\n",
       " 'столовая',\n",
       " 'закусочная',\n",
       " 'фаст-фуд',\n",
       " 'кафетерий',\n",
       " 'буфет',\n",
       " 'ресторан',\n",
       " 'бар',\n",
       " 'кулинария']"
      ]
     },
     "execution_count": 14,
     "metadata": {},
     "output_type": "execute_result"
    }
   ],
   "source": [
    "web_new = temp['object_type'].unique().tolist()\n",
    "web_new"
   ]
  },
  {
   "cell_type": "code",
   "execution_count": 15,
   "metadata": {},
   "outputs": [
    {
     "data": {
      "text/plain": [
       "object_type\n",
       "кулинария      195\n",
       "закусочная     304\n",
       "кафетерий      346\n",
       "буфет          574\n",
       "бар            819\n",
       "фаст-фуд      1132\n",
       "ресторан      1741\n",
       "столовая      2584\n",
       "кафе          4703\n",
       "Name: object_name, dtype: int64"
      ]
     },
     "execution_count": 15,
     "metadata": {},
     "output_type": "execute_result"
    }
   ],
   "source": [
    "temp.groupby('object_type')['object_name'].count().sort_values()"
   ]
  },
  {
   "cell_type": "code",
   "execution_count": 16,
   "metadata": {},
   "outputs": [
    {
     "data": {
      "text/html": [
       "<div>\n",
       "<style scoped>\n",
       "    .dataframe tbody tr th:only-of-type {\n",
       "        vertical-align: middle;\n",
       "    }\n",
       "\n",
       "    .dataframe tbody tr th {\n",
       "        vertical-align: top;\n",
       "    }\n",
       "\n",
       "    .dataframe thead th {\n",
       "        text-align: right;\n",
       "    }\n",
       "</style>\n",
       "<table border=\"1\" class=\"dataframe\">\n",
       "  <thead>\n",
       "    <tr style=\"text-align: right;\">\n",
       "      <th></th>\n",
       "      <th>chain</th>\n",
       "      <th>object_type</th>\n",
       "      <th>count</th>\n",
       "    </tr>\n",
       "  </thead>\n",
       "  <tbody>\n",
       "    <tr>\n",
       "      <td>12</td>\n",
       "      <td>сеть</td>\n",
       "      <td>кафе</td>\n",
       "      <td>4703</td>\n",
       "    </tr>\n",
       "    <tr>\n",
       "      <td>16</td>\n",
       "      <td>сеть</td>\n",
       "      <td>столовая</td>\n",
       "      <td>2584</td>\n",
       "    </tr>\n",
       "    <tr>\n",
       "      <td>15</td>\n",
       "      <td>сеть</td>\n",
       "      <td>ресторан</td>\n",
       "      <td>1741</td>\n",
       "    </tr>\n",
       "    <tr>\n",
       "      <td>3</td>\n",
       "      <td>несетевое</td>\n",
       "      <td>кафе</td>\n",
       "      <td>1396</td>\n",
       "    </tr>\n",
       "    <tr>\n",
       "      <td>17</td>\n",
       "      <td>сеть</td>\n",
       "      <td>фаст-фуд</td>\n",
       "      <td>1132</td>\n",
       "    </tr>\n",
       "    <tr>\n",
       "      <td>9</td>\n",
       "      <td>сеть</td>\n",
       "      <td>бар</td>\n",
       "      <td>819</td>\n",
       "    </tr>\n",
       "    <tr>\n",
       "      <td>8</td>\n",
       "      <td>несетевое</td>\n",
       "      <td>фаст-фуд</td>\n",
       "      <td>791</td>\n",
       "    </tr>\n",
       "    <tr>\n",
       "      <td>10</td>\n",
       "      <td>сеть</td>\n",
       "      <td>буфет</td>\n",
       "      <td>574</td>\n",
       "    </tr>\n",
       "    <tr>\n",
       "      <td>6</td>\n",
       "      <td>несетевое</td>\n",
       "      <td>ресторан</td>\n",
       "      <td>544</td>\n",
       "    </tr>\n",
       "    <tr>\n",
       "      <td>13</td>\n",
       "      <td>сеть</td>\n",
       "      <td>кафетерий</td>\n",
       "      <td>346</td>\n",
       "    </tr>\n",
       "    <tr>\n",
       "      <td>11</td>\n",
       "      <td>сеть</td>\n",
       "      <td>закусочная</td>\n",
       "      <td>304</td>\n",
       "    </tr>\n",
       "    <tr>\n",
       "      <td>14</td>\n",
       "      <td>сеть</td>\n",
       "      <td>кулинария</td>\n",
       "      <td>195</td>\n",
       "    </tr>\n",
       "    <tr>\n",
       "      <td>5</td>\n",
       "      <td>несетевое</td>\n",
       "      <td>кулинария</td>\n",
       "      <td>78</td>\n",
       "    </tr>\n",
       "    <tr>\n",
       "      <td>2</td>\n",
       "      <td>несетевое</td>\n",
       "      <td>закусочная</td>\n",
       "      <td>56</td>\n",
       "    </tr>\n",
       "    <tr>\n",
       "      <td>4</td>\n",
       "      <td>несетевое</td>\n",
       "      <td>кафетерий</td>\n",
       "      <td>52</td>\n",
       "    </tr>\n",
       "    <tr>\n",
       "      <td>0</td>\n",
       "      <td>несетевое</td>\n",
       "      <td>бар</td>\n",
       "      <td>37</td>\n",
       "    </tr>\n",
       "    <tr>\n",
       "      <td>1</td>\n",
       "      <td>несетевое</td>\n",
       "      <td>буфет</td>\n",
       "      <td>11</td>\n",
       "    </tr>\n",
       "    <tr>\n",
       "      <td>7</td>\n",
       "      <td>несетевое</td>\n",
       "      <td>столовая</td>\n",
       "      <td>3</td>\n",
       "    </tr>\n",
       "  </tbody>\n",
       "</table>\n",
       "</div>"
      ],
      "text/plain": [
       "        chain object_type  count\n",
       "12       сеть        кафе   4703\n",
       "16       сеть    столовая   2584\n",
       "15       сеть    ресторан   1741\n",
       "3   несетевое        кафе   1396\n",
       "17       сеть    фаст-фуд   1132\n",
       "9        сеть         бар    819\n",
       "8   несетевое    фаст-фуд    791\n",
       "10       сеть       буфет    574\n",
       "6   несетевое    ресторан    544\n",
       "13       сеть   кафетерий    346\n",
       "11       сеть  закусочная    304\n",
       "14       сеть   кулинария    195\n",
       "5   несетевое   кулинария     78\n",
       "2   несетевое  закусочная     56\n",
       "4   несетевое   кафетерий     52\n",
       "0   несетевое         бар     37\n",
       "1   несетевое       буфет     11\n",
       "7   несетевое    столовая      3"
      ]
     },
     "execution_count": 16,
     "metadata": {},
     "output_type": "execute_result"
    }
   ],
   "source": [
    "chain_df = df.groupby(['chain', 'object_type'], as_index=False).agg({\n",
    "    'id':'count'}).sort_values('id', ascending=False).rename(columns = {'id':'count'})\n",
    "chain_df"
   ]
  },
  {
   "cell_type": "code",
   "execution_count": 17,
   "metadata": {},
   "outputs": [],
   "source": [
    "y_chain = chain_df[chain_df['chain'] == 'сеть']\n",
    "n_chain = chain_df[chain_df['chain'] == 'несетевое']"
   ]
  },
  {
   "cell_type": "code",
   "execution_count": 18,
   "metadata": {},
   "outputs": [
    {
     "data": {
      "text/html": [
       "<div>\n",
       "<style scoped>\n",
       "    .dataframe tbody tr th:only-of-type {\n",
       "        vertical-align: middle;\n",
       "    }\n",
       "\n",
       "    .dataframe tbody tr th {\n",
       "        vertical-align: top;\n",
       "    }\n",
       "\n",
       "    .dataframe thead th {\n",
       "        text-align: right;\n",
       "    }\n",
       "</style>\n",
       "<table border=\"1\" class=\"dataframe\">\n",
       "  <thead>\n",
       "    <tr style=\"text-align: right;\">\n",
       "      <th></th>\n",
       "      <th>object_type</th>\n",
       "      <th>chain_count</th>\n",
       "      <th>no_chain_count</th>\n",
       "      <th>total</th>\n",
       "      <th>ratio</th>\n",
       "    </tr>\n",
       "  </thead>\n",
       "  <tbody>\n",
       "    <tr>\n",
       "      <td>0</td>\n",
       "      <td>кафе</td>\n",
       "      <td>4703</td>\n",
       "      <td>1396</td>\n",
       "      <td>6099</td>\n",
       "      <td>22.89</td>\n",
       "    </tr>\n",
       "    <tr>\n",
       "      <td>1</td>\n",
       "      <td>столовая</td>\n",
       "      <td>2584</td>\n",
       "      <td>3</td>\n",
       "      <td>2587</td>\n",
       "      <td>0.12</td>\n",
       "    </tr>\n",
       "    <tr>\n",
       "      <td>2</td>\n",
       "      <td>ресторан</td>\n",
       "      <td>1741</td>\n",
       "      <td>544</td>\n",
       "      <td>2285</td>\n",
       "      <td>23.81</td>\n",
       "    </tr>\n",
       "    <tr>\n",
       "      <td>3</td>\n",
       "      <td>фаст-фуд</td>\n",
       "      <td>1132</td>\n",
       "      <td>791</td>\n",
       "      <td>1923</td>\n",
       "      <td>41.13</td>\n",
       "    </tr>\n",
       "    <tr>\n",
       "      <td>4</td>\n",
       "      <td>бар</td>\n",
       "      <td>819</td>\n",
       "      <td>37</td>\n",
       "      <td>856</td>\n",
       "      <td>4.32</td>\n",
       "    </tr>\n",
       "    <tr>\n",
       "      <td>5</td>\n",
       "      <td>буфет</td>\n",
       "      <td>574</td>\n",
       "      <td>11</td>\n",
       "      <td>585</td>\n",
       "      <td>1.88</td>\n",
       "    </tr>\n",
       "    <tr>\n",
       "      <td>6</td>\n",
       "      <td>кафетерий</td>\n",
       "      <td>346</td>\n",
       "      <td>52</td>\n",
       "      <td>398</td>\n",
       "      <td>13.07</td>\n",
       "    </tr>\n",
       "    <tr>\n",
       "      <td>7</td>\n",
       "      <td>закусочная</td>\n",
       "      <td>304</td>\n",
       "      <td>56</td>\n",
       "      <td>360</td>\n",
       "      <td>15.56</td>\n",
       "    </tr>\n",
       "    <tr>\n",
       "      <td>8</td>\n",
       "      <td>кулинария</td>\n",
       "      <td>195</td>\n",
       "      <td>78</td>\n",
       "      <td>273</td>\n",
       "      <td>28.57</td>\n",
       "    </tr>\n",
       "  </tbody>\n",
       "</table>\n",
       "</div>"
      ],
      "text/plain": [
       "  object_type  chain_count  no_chain_count  total  ratio\n",
       "0        кафе         4703            1396   6099  22.89\n",
       "1    столовая         2584               3   2587   0.12\n",
       "2    ресторан         1741             544   2285  23.81\n",
       "3    фаст-фуд         1132             791   1923  41.13\n",
       "4         бар          819              37    856   4.32\n",
       "5       буфет          574              11    585   1.88\n",
       "6   кафетерий          346              52    398  13.07\n",
       "7  закусочная          304              56    360  15.56\n",
       "8   кулинария          195              78    273  28.57"
      ]
     },
     "execution_count": 18,
     "metadata": {},
     "output_type": "execute_result"
    }
   ],
   "source": [
    "chain_new = y_chain.merge(n_chain, how='left', on='object_type')\n",
    "chain_new = chain_new.drop(['chain_x', 'chain_y'], 1).rename(columns = {'count_x':'chain_count', 'count_y':'no_chain_count'})\n",
    "chain_new['total'] = chain_new['chain_count'] + chain_new['no_chain_count']\n",
    "chain_new['ratio'] = ((chain_new['no_chain_count'] / chain_new['total']) *100).round(2)\n",
    "chain_new"
   ]
  },
  {
   "cell_type": "code",
   "execution_count": 19,
   "metadata": {},
   "outputs": [
    {
     "data": {
      "image/png": "[encoded data removed]",
      "text/plain": [
       "<Figure size 720x360 with 1 Axes>"
      ]
     },
     "metadata": {},
     "output_type": "display_data"
    }
   ],
   "source": [
    "sns.set_palette(\"GnBu_d\")\n",
    "fig, ax = plt.subplots(figsize=[10,5])\n",
    "sns.barplot(data=chain_new, y='object_type', x='ratio')\n",
    "plt.title('Доля сетевых заведений от общего количества, по типу заведения')\n",
    "plt.ylabel(' ',fontsize=13);\n",
    "plt.xlabel('ratio, %',fontsize=13);"
   ]
  },
  {
   "cell_type": "markdown",
   "metadata": {},
   "source": [
    "__Вывод:__ По долям сетевых заведений от общего количества однозначно лидируют фаст-фуды и кулинария. Сетевых столовых, буфетов и баров крайне мало."
   ]
  },
  {
   "cell_type": "markdown",
   "metadata": {},
   "source": [
    "___"
   ]
  },
  {
   "cell_type": "markdown",
   "metadata": {},
   "source": [
    "__Что характерно для сетевых заведений: много заведений с небольшим числом посадочных мест в каждом или мало заведений с большим количеством посадочных мест?__"
   ]
  },
  {
   "cell_type": "code",
   "execution_count": 20,
   "metadata": {},
   "outputs": [
    {
     "data": {
      "image/png": "[encoded data removed]",
      "text/plain": [
       "<Figure size 720x576 with 1 Axes>"
      ]
     },
     "metadata": {},
     "output_type": "display_data"
    }
   ],
   "source": [
    "temp['number_of_seats'].hist(bins=20)\n",
    "plt.show()"
   ]
  },
  {
   "cell_type": "code",
   "execution_count": 21,
   "metadata": {},
   "outputs": [
    {
     "data": {
      "image/png": "[encoded data removed]",
      "text/plain": [
       "<Figure size 720x576 with 1 Axes>"
      ]
     },
     "metadata": {},
     "output_type": "display_data"
    }
   ],
   "source": [
    "ax = sns.boxplot(x=temp['number_of_seats'])"
   ]
  },
  {
   "cell_type": "code",
   "execution_count": 22,
   "metadata": {},
   "outputs": [
    {
     "data": {
      "text/plain": [
       "count   12,398.00\n",
       "mean        61.13\n",
       "std         78.28\n",
       "min          0.00\n",
       "25%         12.00\n",
       "50%         40.00\n",
       "75%         80.00\n",
       "max      1,700.00\n",
       "Name: number_of_seats, dtype: float64"
      ]
     },
     "execution_count": 22,
     "metadata": {},
     "output_type": "execute_result"
    }
   ],
   "source": [
    "temp['number_of_seats'].describe()"
   ]
  },
  {
   "cell_type": "markdown",
   "metadata": {},
   "source": [
    "__Вывод:__ Много заведений, но мало мест. Среднее значение по местам - 40."
   ]
  },
  {
   "cell_type": "markdown",
   "metadata": {},
   "source": [
    "___"
   ]
  },
  {
   "cell_type": "markdown",
   "metadata": {},
   "source": [
    "__Для каждого вида объекта общественного питания опишите среднее количество посадочных мест. Какой вид предоставляет в среднем самое большое количество посадочных мест? Постройте графики.__"
   ]
  },
  {
   "cell_type": "code",
   "execution_count": 23,
   "metadata": {},
   "outputs": [
    {
     "data": {
      "image/png": "[encoded data removed]",
      "text/plain": [
       "<Figure size 720x576 with 1 Axes>"
      ]
     },
     "metadata": {},
     "output_type": "display_data"
    }
   ],
   "source": [
    "ax = sns.boxplot(x='number_of_seats', y='object_type', data=df, palette=\"rainbow\")\n",
    "ax.set_xlim(-10,300)\n",
    "plt.show()"
   ]
  },
  {
   "cell_type": "code",
   "execution_count": 24,
   "metadata": {},
   "outputs": [
    {
     "data": {
      "text/html": [
       "<div>\n",
       "<style scoped>\n",
       "    .dataframe tbody tr th:only-of-type {\n",
       "        vertical-align: middle;\n",
       "    }\n",
       "\n",
       "    .dataframe tbody tr th {\n",
       "        vertical-align: top;\n",
       "    }\n",
       "\n",
       "    .dataframe thead th {\n",
       "        text-align: right;\n",
       "    }\n",
       "</style>\n",
       "<table border=\"1\" class=\"dataframe\">\n",
       "  <thead>\n",
       "    <tr style=\"text-align: right;\">\n",
       "      <th></th>\n",
       "      <th>count</th>\n",
       "      <th>mean</th>\n",
       "      <th>std</th>\n",
       "      <th>min</th>\n",
       "      <th>25%</th>\n",
       "      <th>50%</th>\n",
       "      <th>75%</th>\n",
       "      <th>max</th>\n",
       "    </tr>\n",
       "    <tr>\n",
       "      <th>object_type</th>\n",
       "      <th></th>\n",
       "      <th></th>\n",
       "      <th></th>\n",
       "      <th></th>\n",
       "      <th></th>\n",
       "      <th></th>\n",
       "      <th></th>\n",
       "      <th></th>\n",
       "    </tr>\n",
       "  </thead>\n",
       "  <tbody>\n",
       "    <tr>\n",
       "      <td>закусочная</td>\n",
       "      <td>360.00</td>\n",
       "      <td>7.61</td>\n",
       "      <td>16.65</td>\n",
       "      <td>0.00</td>\n",
       "      <td>0.00</td>\n",
       "      <td>0.00</td>\n",
       "      <td>10.00</td>\n",
       "      <td>216.00</td>\n",
       "    </tr>\n",
       "    <tr>\n",
       "      <td>кулинария</td>\n",
       "      <td>273.00</td>\n",
       "      <td>5.59</td>\n",
       "      <td>9.87</td>\n",
       "      <td>0.00</td>\n",
       "      <td>0.00</td>\n",
       "      <td>0.00</td>\n",
       "      <td>8.00</td>\n",
       "      <td>50.00</td>\n",
       "    </tr>\n",
       "    <tr>\n",
       "      <td>фаст-фуд</td>\n",
       "      <td>1,923.00</td>\n",
       "      <td>20.55</td>\n",
       "      <td>38.37</td>\n",
       "      <td>0.00</td>\n",
       "      <td>0.00</td>\n",
       "      <td>5.00</td>\n",
       "      <td>25.00</td>\n",
       "      <td>580.00</td>\n",
       "    </tr>\n",
       "    <tr>\n",
       "      <td>кафетерий</td>\n",
       "      <td>398.00</td>\n",
       "      <td>9.12</td>\n",
       "      <td>14.64</td>\n",
       "      <td>0.00</td>\n",
       "      <td>0.00</td>\n",
       "      <td>6.00</td>\n",
       "      <td>12.00</td>\n",
       "      <td>200.00</td>\n",
       "    </tr>\n",
       "    <tr>\n",
       "      <td>кафе</td>\n",
       "      <td>6,099.00</td>\n",
       "      <td>39.72</td>\n",
       "      <td>37.72</td>\n",
       "      <td>0.00</td>\n",
       "      <td>15.00</td>\n",
       "      <td>30.00</td>\n",
       "      <td>50.00</td>\n",
       "      <td>533.00</td>\n",
       "    </tr>\n",
       "    <tr>\n",
       "      <td>буфет</td>\n",
       "      <td>585.00</td>\n",
       "      <td>51.13</td>\n",
       "      <td>56.33</td>\n",
       "      <td>0.00</td>\n",
       "      <td>14.00</td>\n",
       "      <td>32.00</td>\n",
       "      <td>80.00</td>\n",
       "      <td>320.00</td>\n",
       "    </tr>\n",
       "    <tr>\n",
       "      <td>бар</td>\n",
       "      <td>856.00</td>\n",
       "      <td>43.49</td>\n",
       "      <td>67.08</td>\n",
       "      <td>0.00</td>\n",
       "      <td>20.00</td>\n",
       "      <td>35.00</td>\n",
       "      <td>50.00</td>\n",
       "      <td>1,700.00</td>\n",
       "    </tr>\n",
       "    <tr>\n",
       "      <td>ресторан</td>\n",
       "      <td>2,285.00</td>\n",
       "      <td>96.83</td>\n",
       "      <td>94.76</td>\n",
       "      <td>0.00</td>\n",
       "      <td>46.00</td>\n",
       "      <td>80.00</td>\n",
       "      <td>114.00</td>\n",
       "      <td>1,500.00</td>\n",
       "    </tr>\n",
       "    <tr>\n",
       "      <td>столовая</td>\n",
       "      <td>2,587.00</td>\n",
       "      <td>130.25</td>\n",
       "      <td>95.18</td>\n",
       "      <td>0.00</td>\n",
       "      <td>50.00</td>\n",
       "      <td>103.00</td>\n",
       "      <td>200.00</td>\n",
       "      <td>1,400.00</td>\n",
       "    </tr>\n",
       "  </tbody>\n",
       "</table>\n",
       "</div>"
      ],
      "text/plain": [
       "               count   mean   std  min   25%    50%    75%      max\n",
       "object_type                                                        \n",
       "закусочная    360.00   7.61 16.65 0.00  0.00   0.00  10.00   216.00\n",
       "кулинария     273.00   5.59  9.87 0.00  0.00   0.00   8.00    50.00\n",
       "фаст-фуд    1,923.00  20.55 38.37 0.00  0.00   5.00  25.00   580.00\n",
       "кафетерий     398.00   9.12 14.64 0.00  0.00   6.00  12.00   200.00\n",
       "кафе        6,099.00  39.72 37.72 0.00 15.00  30.00  50.00   533.00\n",
       "буфет         585.00  51.13 56.33 0.00 14.00  32.00  80.00   320.00\n",
       "бар           856.00  43.49 67.08 0.00 20.00  35.00  50.00 1,700.00\n",
       "ресторан    2,285.00  96.83 94.76 0.00 46.00  80.00 114.00 1,500.00\n",
       "столовая    2,587.00 130.25 95.18 0.00 50.00 103.00 200.00 1,400.00"
      ]
     },
     "execution_count": 24,
     "metadata": {},
     "output_type": "execute_result"
    }
   ],
   "source": [
    "df.groupby('object_type')['number_of_seats'].describe().sort_values(by='50%')"
   ]
  },
  {
   "cell_type": "code",
   "execution_count": 25,
   "metadata": {},
   "outputs": [
    {
     "data": {
      "image/png": "[encoded data removed]",
      "text/plain": [
       "<Figure size 720x576 with 1 Axes>"
      ]
     },
     "metadata": {},
     "output_type": "display_data"
    }
   ],
   "source": [
    "ax = sns.barplot(x='object_type', y='number_of_seats', data=df, palette=\"rainbow\")\n",
    "ax.set_xlabel('Тип объекта')\n",
    "ax.set_ylabel('Количество мест')\n",
    "ax.set_title('Кол-во мест на объектах общественного питания в Москве')\n",
    "plt.xticks(rotation=45)\n",
    "plt.show()"
   ]
  },
  {
   "cell_type": "markdown",
   "metadata": {},
   "source": [
    "__Вывод:__ Лучше всего дела обстоят у столовых и ресторанов."
   ]
  },
  {
   "cell_type": "markdown",
   "metadata": {},
   "source": [
    "___"
   ]
  },
  {
   "cell_type": "markdown",
   "metadata": {},
   "source": [
    "__Выделите в отдельный столбец информацию об улице из столбца address .__"
   ]
  },
  {
   "cell_type": "code",
   "execution_count": 26,
   "metadata": {},
   "outputs": [
    {
     "data": {
      "text/html": [
       "<div>\n",
       "<style scoped>\n",
       "    .dataframe tbody tr th:only-of-type {\n",
       "        vertical-align: middle;\n",
       "    }\n",
       "\n",
       "    .dataframe tbody tr th {\n",
       "        vertical-align: top;\n",
       "    }\n",
       "\n",
       "    .dataframe thead th {\n",
       "        text-align: right;\n",
       "    }\n",
       "</style>\n",
       "<table border=\"1\" class=\"dataframe\">\n",
       "  <thead>\n",
       "    <tr style=\"text-align: right;\">\n",
       "      <th></th>\n",
       "      <th>id</th>\n",
       "      <th>object_name</th>\n",
       "      <th>chain</th>\n",
       "      <th>object_type</th>\n",
       "      <th>address</th>\n",
       "      <th>number_of_seats</th>\n",
       "      <th>street</th>\n",
       "    </tr>\n",
       "  </thead>\n",
       "  <tbody>\n",
       "    <tr>\n",
       "      <td>0</td>\n",
       "      <td>151635</td>\n",
       "      <td>СМЕТАНА</td>\n",
       "      <td>сеть</td>\n",
       "      <td>кафе</td>\n",
       "      <td>город Москва, улица Егора Абакумова, дом 9</td>\n",
       "      <td>48</td>\n",
       "      <td>улица Егора Абакумова</td>\n",
       "    </tr>\n",
       "    <tr>\n",
       "      <td>1</td>\n",
       "      <td>77874</td>\n",
       "      <td>Родник</td>\n",
       "      <td>сеть</td>\n",
       "      <td>кафе</td>\n",
       "      <td>город Москва, улица Талалихина, дом 2/1, корпус 1</td>\n",
       "      <td>35</td>\n",
       "      <td>улица Талалихина</td>\n",
       "    </tr>\n",
       "    <tr>\n",
       "      <td>2</td>\n",
       "      <td>24309</td>\n",
       "      <td>Кафе «Академия»</td>\n",
       "      <td>сеть</td>\n",
       "      <td>кафе</td>\n",
       "      <td>город Москва, Абельмановская улица, дом 6</td>\n",
       "      <td>95</td>\n",
       "      <td>Абельмановская улица</td>\n",
       "    </tr>\n",
       "    <tr>\n",
       "      <td>3</td>\n",
       "      <td>21894</td>\n",
       "      <td>ПИЦЦЕТОРИЯ</td>\n",
       "      <td>несетевое</td>\n",
       "      <td>кафе</td>\n",
       "      <td>город Москва, Абрамцевская улица, дом 1</td>\n",
       "      <td>40</td>\n",
       "      <td>Абрамцевская улица</td>\n",
       "    </tr>\n",
       "    <tr>\n",
       "      <td>4</td>\n",
       "      <td>119365</td>\n",
       "      <td>Кафе «Вишневая метель»</td>\n",
       "      <td>сеть</td>\n",
       "      <td>кафе</td>\n",
       "      <td>город Москва, Абрамцевская улица, дом 9, корпус 1</td>\n",
       "      <td>50</td>\n",
       "      <td>Абрамцевская улица</td>\n",
       "    </tr>\n",
       "    <tr>\n",
       "      <td>...</td>\n",
       "      <td>...</td>\n",
       "      <td>...</td>\n",
       "      <td>...</td>\n",
       "      <td>...</td>\n",
       "      <td>...</td>\n",
       "      <td>...</td>\n",
       "      <td>...</td>\n",
       "    </tr>\n",
       "    <tr>\n",
       "      <td>15361</td>\n",
       "      <td>208537</td>\n",
       "      <td>Шоколадница</td>\n",
       "      <td>несетевое</td>\n",
       "      <td>кафе</td>\n",
       "      <td>город Москва, 3-й Крутицкий переулок, дом 18</td>\n",
       "      <td>50</td>\n",
       "      <td>3-й Крутицкий переулок</td>\n",
       "    </tr>\n",
       "    <tr>\n",
       "      <td>15362</td>\n",
       "      <td>209264</td>\n",
       "      <td>Шоколадница</td>\n",
       "      <td>несетевое</td>\n",
       "      <td>кафе</td>\n",
       "      <td>город Москва, улица Земляной Вал, дом 33</td>\n",
       "      <td>10</td>\n",
       "      <td>улица Земляной Вал</td>\n",
       "    </tr>\n",
       "    <tr>\n",
       "      <td>15363</td>\n",
       "      <td>209186</td>\n",
       "      <td>Шоколадница</td>\n",
       "      <td>несетевое</td>\n",
       "      <td>кафе</td>\n",
       "      <td>город Москва, улица Земляной Вал, дом 33</td>\n",
       "      <td>20</td>\n",
       "      <td>улица Земляной Вал</td>\n",
       "    </tr>\n",
       "    <tr>\n",
       "      <td>15364</td>\n",
       "      <td>221900</td>\n",
       "      <td>Шоколадница</td>\n",
       "      <td>несетевое</td>\n",
       "      <td>кафе</td>\n",
       "      <td>город Москва, поселение Московский, Киевское ш...</td>\n",
       "      <td>36</td>\n",
       "      <td>Киевское шоссе</td>\n",
       "    </tr>\n",
       "    <tr>\n",
       "      <td>15365</td>\n",
       "      <td>222535</td>\n",
       "      <td>Шоколадница</td>\n",
       "      <td>несетевое</td>\n",
       "      <td>кафе</td>\n",
       "      <td>город Москва, Ходынский бульвар, дом 4</td>\n",
       "      <td>10</td>\n",
       "      <td>Ходынский бульвар</td>\n",
       "    </tr>\n",
       "  </tbody>\n",
       "</table>\n",
       "<p>15366 rows × 7 columns</p>\n",
       "</div>"
      ],
      "text/plain": [
       "           id             object_name      chain object_type  \\\n",
       "0      151635                 СМЕТАНА       сеть        кафе   \n",
       "1       77874                  Родник       сеть        кафе   \n",
       "2       24309         Кафе «Академия»       сеть        кафе   \n",
       "3       21894              ПИЦЦЕТОРИЯ  несетевое        кафе   \n",
       "4      119365  Кафе «Вишневая метель»       сеть        кафе   \n",
       "...       ...                     ...        ...         ...   \n",
       "15361  208537             Шоколадница  несетевое        кафе   \n",
       "15362  209264             Шоколадница  несетевое        кафе   \n",
       "15363  209186             Шоколадница  несетевое        кафе   \n",
       "15364  221900             Шоколадница  несетевое        кафе   \n",
       "15365  222535             Шоколадница  несетевое        кафе   \n",
       "\n",
       "                                                 address  number_of_seats  \\\n",
       "0             город Москва, улица Егора Абакумова, дом 9               48   \n",
       "1      город Москва, улица Талалихина, дом 2/1, корпус 1               35   \n",
       "2              город Москва, Абельмановская улица, дом 6               95   \n",
       "3                город Москва, Абрамцевская улица, дом 1               40   \n",
       "4      город Москва, Абрамцевская улица, дом 9, корпус 1               50   \n",
       "...                                                  ...              ...   \n",
       "15361       город Москва, 3-й Крутицкий переулок, дом 18               50   \n",
       "15362           город Москва, улица Земляной Вал, дом 33               10   \n",
       "15363           город Москва, улица Земляной Вал, дом 33               20   \n",
       "15364  город Москва, поселение Московский, Киевское ш...               36   \n",
       "15365             город Москва, Ходынский бульвар, дом 4               10   \n",
       "\n",
       "                       street  \n",
       "0       улица Егора Абакумова  \n",
       "1            улица Талалихина  \n",
       "2        Абельмановская улица  \n",
       "3          Абрамцевская улица  \n",
       "4          Абрамцевская улица  \n",
       "...                       ...  \n",
       "15361  3-й Крутицкий переулок  \n",
       "15362      улица Земляной Вал  \n",
       "15363      улица Земляной Вал  \n",
       "15364          Киевское шоссе  \n",
       "15365       Ходынский бульвар  \n",
       "\n",
       "[15366 rows x 7 columns]"
      ]
     },
     "execution_count": 26,
     "metadata": {},
     "output_type": "execute_result"
    }
   ],
   "source": [
    "df['street']=df['address'].str.extract(\n",
    "    '(([A-zА-я0-9\\sёЁ -]+)?(улица|переулок|шоссе|проспект|бульвар|площадь|проезд|набережная|аллея)([ A-zА-я0-9]+)?)')[0]\n",
    "df_street = df[~(df['street'].isnull())]\n",
    "df['street'] = df['street'].str.strip()\n",
    "df"
   ]
  },
  {
   "cell_type": "markdown",
   "metadata": {},
   "source": [
    "___"
   ]
  },
  {
   "cell_type": "markdown",
   "metadata": {},
   "source": [
    "__Постройте график топ-10 улиц по количеству объектов общественного питания. Воспользуйтесь внешней информацией и ответьте на вопрос — в каких районах Москвы находятся эти улицы?__"
   ]
  },
  {
   "cell_type": "code",
   "execution_count": 27,
   "metadata": {
    "scrolled": true
   },
   "outputs": [
    {
     "data": {
      "text/html": [
       "<div>\n",
       "<style scoped>\n",
       "    .dataframe tbody tr th:only-of-type {\n",
       "        vertical-align: middle;\n",
       "    }\n",
       "\n",
       "    .dataframe tbody tr th {\n",
       "        vertical-align: top;\n",
       "    }\n",
       "\n",
       "    .dataframe thead th {\n",
       "        text-align: right;\n",
       "    }\n",
       "</style>\n",
       "<table border=\"1\" class=\"dataframe\">\n",
       "  <thead>\n",
       "    <tr style=\"text-align: right;\">\n",
       "      <th></th>\n",
       "      <th>street</th>\n",
       "      <th>area</th>\n",
       "    </tr>\n",
       "  </thead>\n",
       "  <tbody>\n",
       "    <tr>\n",
       "      <td>0</td>\n",
       "      <td>Выставочный переулок</td>\n",
       "      <td>Пресненский район</td>\n",
       "    </tr>\n",
       "    <tr>\n",
       "      <td>1</td>\n",
       "      <td>улица Гашека</td>\n",
       "      <td>Пресненский район</td>\n",
       "    </tr>\n",
       "    <tr>\n",
       "      <td>2</td>\n",
       "      <td>Большая Никитская улица</td>\n",
       "      <td>Пресненский район</td>\n",
       "    </tr>\n",
       "    <tr>\n",
       "      <td>3</td>\n",
       "      <td>Глубокий переулок</td>\n",
       "      <td>Пресненский район</td>\n",
       "    </tr>\n",
       "    <tr>\n",
       "      <td>4</td>\n",
       "      <td>Большой Гнездниковский переулок</td>\n",
       "      <td>Пресненский район</td>\n",
       "    </tr>\n",
       "    <tr>\n",
       "      <td>...</td>\n",
       "      <td>...</td>\n",
       "      <td>...</td>\n",
       "    </tr>\n",
       "    <tr>\n",
       "      <td>4393</td>\n",
       "      <td>Вознесенский проезд</td>\n",
       "      <td>Пресненский район</td>\n",
       "    </tr>\n",
       "    <tr>\n",
       "      <td>4394</td>\n",
       "      <td>Волков переулок</td>\n",
       "      <td>Пресненский район</td>\n",
       "    </tr>\n",
       "    <tr>\n",
       "      <td>4395</td>\n",
       "      <td>Поварская улица</td>\n",
       "      <td>Пресненский район</td>\n",
       "    </tr>\n",
       "    <tr>\n",
       "      <td>4396</td>\n",
       "      <td>Кудринская площадь</td>\n",
       "      <td>Пресненский район</td>\n",
       "    </tr>\n",
       "    <tr>\n",
       "      <td>4397</td>\n",
       "      <td>Вспольный переулок</td>\n",
       "      <td>Пресненский район</td>\n",
       "    </tr>\n",
       "  </tbody>\n",
       "</table>\n",
       "<p>4398 rows × 2 columns</p>\n",
       "</div>"
      ],
      "text/plain": [
       "                               street               area\n",
       "0                Выставочный переулок  Пресненский район\n",
       "1                        улица Гашека  Пресненский район\n",
       "2             Большая Никитская улица  Пресненский район\n",
       "3                   Глубокий переулок  Пресненский район\n",
       "4     Большой Гнездниковский переулок  Пресненский район\n",
       "...                               ...                ...\n",
       "4393              Вознесенский проезд  Пресненский район\n",
       "4394                  Волков переулок  Пресненский район\n",
       "4395                  Поварская улица  Пресненский район\n",
       "4396               Кудринская площадь  Пресненский район\n",
       "4397               Вспольный переулок  Пресненский район\n",
       "\n",
       "[4398 rows x 2 columns]"
      ]
     },
     "execution_count": 27,
     "metadata": {},
     "output_type": "execute_result"
    }
   ],
   "source": [
    "#импортируем файл с районами из гугл-дока\n",
    "spreadsheet_id = '1cfKSDKpDEx8EYXV3czRv7BwC64gYtySbi27zLQHro_E'\n",
    "file_name = 'https://docs.google.com/spreadsheets/d/{}/export?format=csv'.format(spreadsheet_id)\n",
    "r = requests.get(file_name)\n",
    "mosgaz = pd.read_csv(BytesIO(r.content))\n",
    "mosgaz['street'] = mosgaz['street'].str.strip()\n",
    "mosgaz"
   ]
  },
  {
   "cell_type": "code",
   "execution_count": 28,
   "metadata": {},
   "outputs": [
    {
     "data": {
      "text/html": [
       "<div>\n",
       "<style scoped>\n",
       "    .dataframe tbody tr th:only-of-type {\n",
       "        vertical-align: middle;\n",
       "    }\n",
       "\n",
       "    .dataframe tbody tr th {\n",
       "        vertical-align: top;\n",
       "    }\n",
       "\n",
       "    .dataframe thead th {\n",
       "        text-align: right;\n",
       "    }\n",
       "</style>\n",
       "<table border=\"1\" class=\"dataframe\">\n",
       "  <thead>\n",
       "    <tr style=\"text-align: right;\">\n",
       "      <th></th>\n",
       "      <th>id</th>\n",
       "      <th>object_name</th>\n",
       "      <th>chain</th>\n",
       "      <th>object_type</th>\n",
       "      <th>address</th>\n",
       "      <th>number_of_seats</th>\n",
       "      <th>street</th>\n",
       "      <th>area</th>\n",
       "    </tr>\n",
       "  </thead>\n",
       "  <tbody>\n",
       "    <tr>\n",
       "      <td>0</td>\n",
       "      <td>151635</td>\n",
       "      <td>СМЕТАНА</td>\n",
       "      <td>сеть</td>\n",
       "      <td>кафе</td>\n",
       "      <td>город Москва, улица Егора Абакумова, дом 9</td>\n",
       "      <td>48</td>\n",
       "      <td>улица Егора Абакумова</td>\n",
       "      <td>Ярославский Район</td>\n",
       "    </tr>\n",
       "    <tr>\n",
       "      <td>1</td>\n",
       "      <td>77874</td>\n",
       "      <td>Родник</td>\n",
       "      <td>сеть</td>\n",
       "      <td>кафе</td>\n",
       "      <td>город Москва, улица Талалихина, дом 2/1, корпус 1</td>\n",
       "      <td>35</td>\n",
       "      <td>улица Талалихина</td>\n",
       "      <td>Таганский район</td>\n",
       "    </tr>\n",
       "    <tr>\n",
       "      <td>2</td>\n",
       "      <td>77874</td>\n",
       "      <td>Родник</td>\n",
       "      <td>сеть</td>\n",
       "      <td>кафе</td>\n",
       "      <td>город Москва, улица Талалихина, дом 2/1, корпус 1</td>\n",
       "      <td>35</td>\n",
       "      <td>улица Талалихина</td>\n",
       "      <td>Нижегородский район</td>\n",
       "    </tr>\n",
       "    <tr>\n",
       "      <td>3</td>\n",
       "      <td>77874</td>\n",
       "      <td>Родник</td>\n",
       "      <td>сеть</td>\n",
       "      <td>кафе</td>\n",
       "      <td>город Москва, улица Талалихина, дом 2/1, корпус 1</td>\n",
       "      <td>35</td>\n",
       "      <td>улица Талалихина</td>\n",
       "      <td>Район Южное Бутово</td>\n",
       "    </tr>\n",
       "    <tr>\n",
       "      <td>4</td>\n",
       "      <td>24309</td>\n",
       "      <td>Кафе «Академия»</td>\n",
       "      <td>сеть</td>\n",
       "      <td>кафе</td>\n",
       "      <td>город Москва, Абельмановская улица, дом 6</td>\n",
       "      <td>95</td>\n",
       "      <td>Абельмановская улица</td>\n",
       "      <td>Таганский район</td>\n",
       "    </tr>\n",
       "    <tr>\n",
       "      <td>...</td>\n",
       "      <td>...</td>\n",
       "      <td>...</td>\n",
       "      <td>...</td>\n",
       "      <td>...</td>\n",
       "      <td>...</td>\n",
       "      <td>...</td>\n",
       "      <td>...</td>\n",
       "      <td>...</td>\n",
       "    </tr>\n",
       "    <tr>\n",
       "      <td>29440</td>\n",
       "      <td>209264</td>\n",
       "      <td>Шоколадница</td>\n",
       "      <td>несетевое</td>\n",
       "      <td>кафе</td>\n",
       "      <td>город Москва, улица Земляной Вал, дом 33</td>\n",
       "      <td>10</td>\n",
       "      <td>улица Земляной Вал</td>\n",
       "      <td>Басманный район</td>\n",
       "    </tr>\n",
       "    <tr>\n",
       "      <td>29441</td>\n",
       "      <td>209186</td>\n",
       "      <td>Шоколадница</td>\n",
       "      <td>несетевое</td>\n",
       "      <td>кафе</td>\n",
       "      <td>город Москва, улица Земляной Вал, дом 33</td>\n",
       "      <td>20</td>\n",
       "      <td>улица Земляной Вал</td>\n",
       "      <td>Таганский район</td>\n",
       "    </tr>\n",
       "    <tr>\n",
       "      <td>29442</td>\n",
       "      <td>209186</td>\n",
       "      <td>Шоколадница</td>\n",
       "      <td>несетевое</td>\n",
       "      <td>кафе</td>\n",
       "      <td>город Москва, улица Земляной Вал, дом 33</td>\n",
       "      <td>20</td>\n",
       "      <td>улица Земляной Вал</td>\n",
       "      <td>Басманный район</td>\n",
       "    </tr>\n",
       "    <tr>\n",
       "      <td>29443</td>\n",
       "      <td>221900</td>\n",
       "      <td>Шоколадница</td>\n",
       "      <td>несетевое</td>\n",
       "      <td>кафе</td>\n",
       "      <td>город Москва, поселение Московский, Киевское ш...</td>\n",
       "      <td>36</td>\n",
       "      <td>Киевское шоссе</td>\n",
       "      <td>Район Внуково</td>\n",
       "    </tr>\n",
       "    <tr>\n",
       "      <td>29444</td>\n",
       "      <td>222535</td>\n",
       "      <td>Шоколадница</td>\n",
       "      <td>несетевое</td>\n",
       "      <td>кафе</td>\n",
       "      <td>город Москва, Ходынский бульвар, дом 4</td>\n",
       "      <td>10</td>\n",
       "      <td>Ходынский бульвар</td>\n",
       "      <td>Хорошевский район</td>\n",
       "    </tr>\n",
       "  </tbody>\n",
       "</table>\n",
       "<p>29445 rows × 8 columns</p>\n",
       "</div>"
      ],
      "text/plain": [
       "           id      object_name      chain object_type  \\\n",
       "0      151635          СМЕТАНА       сеть        кафе   \n",
       "1       77874           Родник       сеть        кафе   \n",
       "2       77874           Родник       сеть        кафе   \n",
       "3       77874           Родник       сеть        кафе   \n",
       "4       24309  Кафе «Академия»       сеть        кафе   \n",
       "...       ...              ...        ...         ...   \n",
       "29440  209264      Шоколадница  несетевое        кафе   \n",
       "29441  209186      Шоколадница  несетевое        кафе   \n",
       "29442  209186      Шоколадница  несетевое        кафе   \n",
       "29443  221900      Шоколадница  несетевое        кафе   \n",
       "29444  222535      Шоколадница  несетевое        кафе   \n",
       "\n",
       "                                                 address  number_of_seats  \\\n",
       "0             город Москва, улица Егора Абакумова, дом 9               48   \n",
       "1      город Москва, улица Талалихина, дом 2/1, корпус 1               35   \n",
       "2      город Москва, улица Талалихина, дом 2/1, корпус 1               35   \n",
       "3      город Москва, улица Талалихина, дом 2/1, корпус 1               35   \n",
       "4              город Москва, Абельмановская улица, дом 6               95   \n",
       "...                                                  ...              ...   \n",
       "29440           город Москва, улица Земляной Вал, дом 33               10   \n",
       "29441           город Москва, улица Земляной Вал, дом 33               20   \n",
       "29442           город Москва, улица Земляной Вал, дом 33               20   \n",
       "29443  город Москва, поселение Московский, Киевское ш...               36   \n",
       "29444             город Москва, Ходынский бульвар, дом 4               10   \n",
       "\n",
       "                      street                 area  \n",
       "0      улица Егора Абакумова    Ярославский Район  \n",
       "1           улица Талалихина      Таганский район  \n",
       "2           улица Талалихина  Нижегородский район  \n",
       "3           улица Талалихина   Район Южное Бутово  \n",
       "4       Абельмановская улица      Таганский район  \n",
       "...                      ...                  ...  \n",
       "29440     улица Земляной Вал      Басманный район  \n",
       "29441     улица Земляной Вал      Таганский район  \n",
       "29442     улица Земляной Вал      Басманный район  \n",
       "29443         Киевское шоссе        Район Внуково  \n",
       "29444      Ходынский бульвар    Хорошевский район  \n",
       "\n",
       "[29445 rows x 8 columns]"
      ]
     },
     "execution_count": 28,
     "metadata": {},
     "output_type": "execute_result"
    }
   ],
   "source": [
    "df_merged = df.merge(mosgaz, on='street', how = 'left')\n",
    "df_merged"
   ]
  },
  {
   "cell_type": "code",
   "execution_count": 29,
   "metadata": {
    "scrolled": true
   },
   "outputs": [
    {
     "data": {
      "image/png": "[encoded data removed]",
      "text/plain": [
       "<Figure size 720x360 with 1 Axes>"
      ]
     },
     "metadata": {},
     "output_type": "display_data"
    }
   ],
   "source": [
    "top_10_streets = (df.query('street not in \"город Зеленоград\"')['street']\n",
    "                  .value_counts().head(10).sort_values())\n",
    "plt.figure(figsize=(10, 5))\n",
    "top_10_streets.plot(kind='bar')\n",
    "plt.title('Топ-10 улиц по количеству заведений')\n",
    "plt.xticks(fontsize=12)\n",
    "plt.yticks(fontsize=12);"
   ]
  },
  {
   "cell_type": "code",
   "execution_count": 30,
   "metadata": {},
   "outputs": [
    {
     "data": {
      "text/html": [
       "<div>\n",
       "<style scoped>\n",
       "    .dataframe tbody tr th:only-of-type {\n",
       "        vertical-align: middle;\n",
       "    }\n",
       "\n",
       "    .dataframe tbody tr th {\n",
       "        vertical-align: top;\n",
       "    }\n",
       "\n",
       "    .dataframe thead th {\n",
       "        text-align: right;\n",
       "    }\n",
       "</style>\n",
       "<table border=\"1\" class=\"dataframe\">\n",
       "  <thead>\n",
       "    <tr style=\"text-align: right;\">\n",
       "      <th></th>\n",
       "      <th></th>\n",
       "      <th>object_type</th>\n",
       "    </tr>\n",
       "    <tr>\n",
       "      <th>area</th>\n",
       "      <th>street</th>\n",
       "      <th></th>\n",
       "    </tr>\n",
       "  </thead>\n",
       "  <tbody>\n",
       "    <tr>\n",
       "      <td>Алексеевский район</td>\n",
       "      <td>проспект Мира</td>\n",
       "      <td>204</td>\n",
       "    </tr>\n",
       "    <tr>\n",
       "      <td>Район Марьина роща</td>\n",
       "      <td>проспект Мира</td>\n",
       "      <td>204</td>\n",
       "    </tr>\n",
       "    <tr>\n",
       "      <td>Останкинский район</td>\n",
       "      <td>проспект Мира</td>\n",
       "      <td>204</td>\n",
       "    </tr>\n",
       "    <tr>\n",
       "      <td>Мещанский район</td>\n",
       "      <td>проспект Мира</td>\n",
       "      <td>204</td>\n",
       "    </tr>\n",
       "    <tr>\n",
       "      <td>Район Свиблово</td>\n",
       "      <td>проспект Мира</td>\n",
       "      <td>204</td>\n",
       "    </tr>\n",
       "    <tr>\n",
       "      <td>...</td>\n",
       "      <td>...</td>\n",
       "      <td>...</td>\n",
       "    </tr>\n",
       "    <tr>\n",
       "      <td rowspan=\"2\" valign=\"top\">Район Щукино</td>\n",
       "      <td>улица Маршала Новикова</td>\n",
       "      <td>1</td>\n",
       "    </tr>\n",
       "    <tr>\n",
       "      <td>улица Маршала Мерецкова</td>\n",
       "      <td>1</td>\n",
       "    </tr>\n",
       "    <tr>\n",
       "      <td rowspan=\"2\" valign=\"top\">Район Богородское</td>\n",
       "      <td>Миллионная улица</td>\n",
       "      <td>1</td>\n",
       "    </tr>\n",
       "    <tr>\n",
       "      <td>улица Богородский Вал</td>\n",
       "      <td>1</td>\n",
       "    </tr>\n",
       "    <tr>\n",
       "      <td>Ярославский Район</td>\n",
       "      <td>улица Ротерта</td>\n",
       "      <td>1</td>\n",
       "    </tr>\n",
       "  </tbody>\n",
       "</table>\n",
       "<p>2183 rows × 1 columns</p>\n",
       "</div>"
      ],
      "text/plain": [
       "                                            object_type\n",
       "area               street                              \n",
       "Алексеевский район проспект Мира                    204\n",
       "Район Марьина роща проспект Мира                    204\n",
       "Останкинский район проспект Мира                    204\n",
       "Мещанский район    проспект Мира                    204\n",
       "Район Свиблово     проспект Мира                    204\n",
       "...                                                 ...\n",
       "Район Щукино       улица Маршала Новикова             1\n",
       "                   улица Маршала Мерецкова            1\n",
       "Район Богородское  Миллионная улица                   1\n",
       "                   улица Богородский Вал              1\n",
       "Ярославский Район  улица Ротерта                      1\n",
       "\n",
       "[2183 rows x 1 columns]"
      ]
     },
     "execution_count": 30,
     "metadata": {},
     "output_type": "execute_result"
    }
   ],
   "source": [
    "groupped_area = df_merged.pivot_table(index=('area', 'street'), values='object_type', aggfunc='count').sort_values(by='object_type', ascending=False)\n",
    "groupped_area"
   ]
  },
  {
   "cell_type": "markdown",
   "metadata": {},
   "source": [
    "- Проспект Мира: Мещанский, Марьина Роща, Алексеевский, Останкинский, Свиблово, Ростокино\n",
    "- Профсоюзная улица: Академический, Коньково, Обручевский, Тёплый Стан, Черёмушки, Ясенево\n",
    "- Ленинградский проспект: Беговой, Аэропорт, Сокол, Хорошёвский\n",
    "- Пресненская набережная: Пресненский\n",
    "- Варшавское шоссе: Донской, Нагатино-Садовники, Нагорный\n",
    "- Ленинский проспект: Гагаринский и Донской\n",
    "- Проспект Вернадского: Проспект Вернадского\n",
    "- Кутузовский проспект: Дорогомилово, Фили-Давыдково\n",
    "- Каширское шоссе: Нагатино-Садовники и Нагорный\n",
    "- Ходынский бульвар: Хорошёвский"
   ]
  },
  {
   "cell_type": "markdown",
   "metadata": {},
   "source": [
    "___"
   ]
  },
  {
   "cell_type": "markdown",
   "metadata": {},
   "source": [
    "__Найдите число улиц с одним объектом общественного питания. Воспользуйтесь внешней информацией и ответьте на вопрос — в каких районах Москвы находятся эти улицы?__"
   ]
  },
  {
   "cell_type": "code",
   "execution_count": 31,
   "metadata": {},
   "outputs": [
    {
     "data": {
      "text/plain": [
       "array(['Алексеевский район', 'Алтуфьевский район', 'Бабушкинский район',\n",
       "       'Басманный район', 'Бескудниковский Район', 'Бутырский район',\n",
       "       'Войковский Район', 'Головинский район', 'Даниловский район',\n",
       "       'Дмитровский район', 'Донской район', 'Красносельский район',\n",
       "       'Лосиноостровский район', 'Мещанский район', 'Можайский Район',\n",
       "       'Молжаниновский район', 'Нагорный район', 'Нижегородский район',\n",
       "       'Обручевский район', 'Останкинский район', 'Панфиловский район',\n",
       "       'Пресненский район', 'Район Арбат', 'Район Аэропорт',\n",
       "       'Район Беговой', 'Район Бирюлево Восточное', 'Район Богородское',\n",
       "       'Район Внуково', 'Район Восточное Измайлово', 'Район Восточный',\n",
       "       'Район Выхино-Жулебино', 'Район Гольяново', 'Район Дорогомилово',\n",
       "       'Район Замоскворечье', 'Район Западное Дегунино', 'Район Зюзино',\n",
       "       'Район Ивановское', 'Район Измайлово', 'Район Коньково',\n",
       "       'Район Коптево', 'Район Косино-Ухтомский', 'Район Котловка',\n",
       "       'Район Крюково', 'Район Кузьминки', 'Район Кунцево',\n",
       "       'Район Куркино', 'Район Левобережный', 'Район Лефортово',\n",
       "       'Район Лианозово', 'Район Люблино', 'Район Марфино',\n",
       "       'Район Марьина роща', 'Район Марьино', 'Район Матушкино-Савелки',\n",
       "       'Район Метрогородок', 'Район Митино', 'Район Москворечье-Сабурово',\n",
       "       'Район Ново-Переделкино', 'Район Новогиреево', 'Район Отрадное',\n",
       "       'Район Очаково-Матвеевское', 'Район Перово', 'Район Печатники',\n",
       "       'Район Покровское-Стрешнево', 'Район Преображенское',\n",
       "       'Район Раменки', 'Район Ростокино', 'Район Свиблово',\n",
       "       'Район Северное Бутово', 'Район Северное Измайлово',\n",
       "       'Район Северное Медведково', 'Район Сокол', 'Район Соколиная Гора',\n",
       "       'Район Сокольники', 'Район Солнцево', 'Район Строгино',\n",
       "       'Район Текстильщики', 'Район Фили-Давыдково', 'Район Хамовники',\n",
       "       'Район Хорошево-Мневники', 'Район Царицыно', 'Район Черемушки',\n",
       "       'Район Чертаново Северное', 'Район Чертаново Южное',\n",
       "       'Район Щукино', 'Район Южное Бутово', 'Район Южное Медведково',\n",
       "       'Район Южное Тушино', 'Район Якиманка', 'Район Ясенево',\n",
       "       'Рязанский район', 'Савеловский район', 'Таганский район',\n",
       "       'Тверской район', 'Тимирязевский Район', 'Хорошевский район',\n",
       "       'Южнопортовый Район', 'Ярославский Район'], dtype=object)"
      ]
     },
     "execution_count": 31,
     "metadata": {},
     "output_type": "execute_result"
    }
   ],
   "source": [
    "streets_count = df_merged.groupby(['area','street'])['object_name'].count().reset_index()\n",
    "streets_one_object = streets_count[streets_count['object_name'] == 1]\n",
    "area_one_object = streets_one_object['area'].unique()\n",
    "area_one_object"
   ]
  },
  {
   "cell_type": "code",
   "execution_count": 32,
   "metadata": {},
   "outputs": [
    {
     "name": "stdout",
     "output_type": "stream",
     "text": [
      "Количество улиц с одним заведением: 529\n",
      "Количество районов, в которых находятся улицы с одним заведением: 98\n"
     ]
    }
   ],
   "source": [
    "print(\"Количество улиц с одним заведением:\", streets_one_object['street'].count())\n",
    "print(\"Количество районов, в которых находятся улицы с одним заведением:\", len(area_one_object))"
   ]
  },
  {
   "cell_type": "markdown",
   "metadata": {},
   "source": [
    "___"
   ]
  },
  {
   "cell_type": "markdown",
   "metadata": {},
   "source": [
    "# Посмотрите на распределение количества посадочных мест для улиц с большим количеством объектов общественного питания. Какие закономерности можно выявить?"
   ]
  },
  {
   "cell_type": "code",
   "execution_count": 33,
   "metadata": {},
   "outputs": [],
   "source": [
    "distribution = df.groupby('street').count().sort_values(by='object_type', ascending=False).head(10).reset_index()\n",
    "top_10 = list(distribution['street'])"
   ]
  },
  {
   "cell_type": "code",
   "execution_count": 34,
   "metadata": {},
   "outputs": [
    {
     "data": {
      "image/png": "[encoded data removed]",
      "text/plain": [
       "<Figure size 720x576 with 1 Axes>"
      ]
     },
     "metadata": {},
     "output_type": "display_data"
    }
   ],
   "source": [
    "temp = df[df['street'].isin(top_10)]\n",
    "ax = sns.boxplot(x=temp['number_of_seats'])\n",
    "ax.set_xlim(-10,200)\n",
    "ax.set_xlabel('Кол-во мест')\n",
    "plt.show()"
   ]
  },
  {
   "cell_type": "code",
   "execution_count": 35,
   "metadata": {},
   "outputs": [
    {
     "data": {
      "image/png": "[encoded data removed]",
      "text/plain": [
       "<Figure size 720x576 with 1 Axes>"
      ]
     },
     "metadata": {},
     "output_type": "display_data"
    }
   ],
   "source": [
    "ax = sns.boxplot(x=\"street\", y=\"number_of_seats\", data=temp, orient='v')\n",
    "plt.xticks(rotation=45)\n",
    "ax.set_ylim(-10,300)\n",
    "ax.set_ylabel('Кол-во мест')\n",
    "ax.set_xlabel('Улица')\n",
    "plt.title('Распределение посадочных мест по улицам')\n",
    "plt.show()"
   ]
  },
  {
   "cell_type": "markdown",
   "metadata": {},
   "source": [
    "__Вывод:__ Для большинства улиц, основной характерной чертой является небольшое количество посадочных мест до 50."
   ]
  },
  {
   "cell_type": "markdown",
   "metadata": {},
   "source": [
    "___"
   ]
  },
  {
   "cell_type": "markdown",
   "metadata": {},
   "source": [
    "# Шаг №3. Подготовка презентации"
   ]
  },
  {
   "cell_type": "markdown",
   "metadata": {},
   "source": [
    "https://disk.yandex.by/i/0Ooy3Z4pVzkXHA"
   ]
  },
  {
   "cell_type": "markdown",
   "metadata": {},
   "source": [
    "__Общие выводы и рекомендации вписал в презентации.__"
   ]
  },
  {
   "cell_type": "code",
   "execution_count": null,
   "metadata": {},
   "outputs": [],
   "source": []
  }
 ],
 "metadata": {
  "ExecuteTimeLog": [
   {
    "duration": 1715,
    "start_time": "2021-11-09T17:27:58.405Z"
   },
   {
    "duration": 4,
    "start_time": "2021-11-09T17:28:11.998Z"
   },
   {
    "duration": 61,
    "start_time": "2021-11-09T17:28:18.291Z"
   },
   {
    "duration": 78,
    "start_time": "2021-11-09T17:28:25.416Z"
   },
   {
    "duration": 7,
    "start_time": "2021-11-09T17:29:00.946Z"
   },
   {
    "duration": 65,
    "start_time": "2021-11-09T17:30:06.936Z"
   },
   {
    "duration": 81,
    "start_time": "2021-11-09T17:30:09.900Z"
   },
   {
    "duration": 24,
    "start_time": "2021-11-09T17:30:33.856Z"
   },
   {
    "duration": 20,
    "start_time": "2021-11-09T17:30:43.449Z"
   },
   {
    "duration": 45,
    "start_time": "2021-11-09T17:32:01.992Z"
   },
   {
    "duration": 454,
    "start_time": "2021-11-13T17:36:43.900Z"
   },
   {
    "duration": 1666,
    "start_time": "2021-11-13T17:36:50.893Z"
   },
   {
    "duration": 3,
    "start_time": "2021-11-13T17:36:52.562Z"
   },
   {
    "duration": 102,
    "start_time": "2021-11-13T17:36:52.568Z"
   },
   {
    "duration": 7,
    "start_time": "2021-11-13T17:36:52.674Z"
   },
   {
    "duration": 27,
    "start_time": "2021-11-13T17:36:52.683Z"
   },
   {
    "duration": 69,
    "start_time": "2021-11-13T17:36:52.712Z"
   },
   {
    "duration": 511,
    "start_time": "2021-11-13T17:36:52.784Z"
   },
   {
    "duration": 14,
    "start_time": "2021-11-13T17:38:44.279Z"
   },
   {
    "duration": 508,
    "start_time": "2021-11-13T17:39:19.441Z"
   },
   {
    "duration": 13,
    "start_time": "2021-11-13T17:39:25.083Z"
   },
   {
    "duration": 512,
    "start_time": "2021-11-13T17:39:35.529Z"
   },
   {
    "duration": 529,
    "start_time": "2021-11-13T17:40:25.984Z"
   },
   {
    "duration": 9,
    "start_time": "2021-11-13T17:40:38.277Z"
   },
   {
    "duration": 15,
    "start_time": "2021-11-13T17:40:41.252Z"
   },
   {
    "duration": 127,
    "start_time": "2021-11-13T17:41:40.084Z"
   },
   {
    "duration": 10,
    "start_time": "2021-11-13T17:41:49.873Z"
   },
   {
    "duration": 444,
    "start_time": "2021-11-13T17:41:57.527Z"
   },
   {
    "duration": 4,
    "start_time": "2021-11-13T17:43:47.873Z"
   },
   {
    "duration": 4,
    "start_time": "2021-11-13T17:44:09.882Z"
   },
   {
    "duration": 14,
    "start_time": "2021-11-13T17:44:13.540Z"
   },
   {
    "duration": 9,
    "start_time": "2021-11-13T17:44:24.173Z"
   },
   {
    "duration": 10,
    "start_time": "2021-11-13T17:44:29.825Z"
   },
   {
    "duration": 601,
    "start_time": "2021-11-13T17:47:41.603Z"
   },
   {
    "duration": 483,
    "start_time": "2021-11-13T17:47:51.212Z"
   },
   {
    "duration": 464,
    "start_time": "2021-11-13T17:47:55.278Z"
   },
   {
    "duration": 10,
    "start_time": "2021-11-13T17:48:13.032Z"
   },
   {
    "duration": 117,
    "start_time": "2021-11-13T17:48:50.206Z"
   },
   {
    "duration": 713,
    "start_time": "2021-11-13T17:51:12.004Z"
   },
   {
    "duration": 42,
    "start_time": "2021-11-13T17:51:28.402Z"
   },
   {
    "duration": 1258,
    "start_time": "2021-11-13T17:51:55.670Z"
   },
   {
    "duration": 1327,
    "start_time": "2021-11-13T17:52:46.498Z"
   },
   {
    "duration": 4,
    "start_time": "2021-11-13T17:53:53.631Z"
   },
   {
    "duration": 26,
    "start_time": "2021-11-13T17:54:13.187Z"
   },
   {
    "duration": 8,
    "start_time": "2021-11-13T17:54:21.303Z"
   },
   {
    "duration": 16,
    "start_time": "2021-11-13T17:54:34.498Z"
   },
   {
    "duration": 13,
    "start_time": "2021-11-13T17:55:44.137Z"
   },
   {
    "duration": 34,
    "start_time": "2021-11-13T17:56:50.215Z"
   },
   {
    "duration": 17,
    "start_time": "2021-11-13T17:56:51.581Z"
   },
   {
    "duration": 20,
    "start_time": "2021-11-13T17:56:53.360Z"
   },
   {
    "duration": 29,
    "start_time": "2021-11-13T17:56:57.063Z"
   },
   {
    "duration": 16,
    "start_time": "2021-11-13T17:56:57.508Z"
   },
   {
    "duration": 9,
    "start_time": "2021-11-13T17:56:58.321Z"
   },
   {
    "duration": 38,
    "start_time": "2021-11-13T17:58:41.332Z"
   },
   {
    "duration": 634,
    "start_time": "2021-11-13T17:59:29.925Z"
   },
   {
    "duration": 629,
    "start_time": "2021-11-13T17:59:36.272Z"
   },
   {
    "duration": 21,
    "start_time": "2021-11-13T18:02:13.306Z"
   },
   {
    "duration": 10,
    "start_time": "2021-11-13T18:02:22.872Z"
   },
   {
    "duration": 4,
    "start_time": "2021-11-13T18:02:37.192Z"
   },
   {
    "duration": 8,
    "start_time": "2021-11-13T18:02:43.190Z"
   },
   {
    "duration": 26,
    "start_time": "2021-11-13T18:02:52.198Z"
   },
   {
    "duration": 636,
    "start_time": "2021-11-13T18:10:08.537Z"
   },
   {
    "duration": 3,
    "start_time": "2021-11-13T18:17:54.680Z"
   },
   {
    "duration": 5,
    "start_time": "2021-11-13T18:17:58.724Z"
   },
   {
    "duration": 381,
    "start_time": "2021-11-13T18:18:03.944Z"
   },
   {
    "duration": 4,
    "start_time": "2021-11-13T18:19:16.055Z"
   },
   {
    "duration": 6,
    "start_time": "2021-11-13T18:19:21.750Z"
   },
   {
    "duration": 423,
    "start_time": "2021-11-13T18:41:31.707Z"
   },
   {
    "duration": 696,
    "start_time": "2021-11-13T18:41:41.784Z"
   },
   {
    "duration": 367,
    "start_time": "2021-11-13T18:41:46.583Z"
   },
   {
    "duration": 414,
    "start_time": "2021-11-13T18:42:53.272Z"
   },
   {
    "duration": 25,
    "start_time": "2021-11-13T18:42:57.409Z"
   },
   {
    "duration": 464,
    "start_time": "2021-11-13T18:43:25.510Z"
   },
   {
    "duration": 2741,
    "start_time": "2021-11-13T18:44:19.811Z"
   },
   {
    "duration": 7,
    "start_time": "2021-11-13T18:48:58.843Z"
   },
   {
    "duration": 1665,
    "start_time": "2021-11-13T18:49:02.027Z"
   },
   {
    "duration": 24,
    "start_time": "2021-11-13T18:49:11.025Z"
   },
   {
    "duration": 22,
    "start_time": "2021-11-13T18:49:34.519Z"
   },
   {
    "duration": 1720,
    "start_time": "2021-11-13T18:49:42.108Z"
   },
   {
    "duration": 3,
    "start_time": "2021-11-13T18:49:43.831Z"
   },
   {
    "duration": 104,
    "start_time": "2021-11-13T18:49:43.837Z"
   },
   {
    "duration": 23,
    "start_time": "2021-11-13T18:49:43.944Z"
   },
   {
    "duration": 36,
    "start_time": "2021-11-13T18:49:43.971Z"
   },
   {
    "duration": 77,
    "start_time": "2021-11-13T18:49:44.010Z"
   },
   {
    "duration": 539,
    "start_time": "2021-11-13T18:49:44.089Z"
   },
   {
    "duration": 12,
    "start_time": "2021-11-13T18:49:44.631Z"
   },
   {
    "duration": 525,
    "start_time": "2021-11-13T18:49:44.663Z"
   },
   {
    "duration": 10,
    "start_time": "2021-11-13T18:49:45.192Z"
   },
   {
    "duration": 8,
    "start_time": "2021-11-13T18:49:45.205Z"
   },
   {
    "duration": 397,
    "start_time": "2021-11-13T18:49:45.216Z"
   },
   {
    "duration": 3,
    "start_time": "2021-11-13T18:49:45.616Z"
   },
   {
    "duration": 18,
    "start_time": "2021-11-13T18:49:45.622Z"
   },
   {
    "duration": 24,
    "start_time": "2021-11-13T18:49:45.642Z"
   },
   {
    "duration": 21,
    "start_time": "2021-11-13T18:49:45.670Z"
   },
   {
    "duration": 604,
    "start_time": "2021-11-13T18:49:45.694Z"
   },
   {
    "duration": 594,
    "start_time": "2021-11-13T18:49:46.301Z"
   },
   {
    "duration": 12,
    "start_time": "2021-11-13T18:49:46.897Z"
   },
   {
    "duration": 741,
    "start_time": "2021-11-13T18:49:46.911Z"
   },
   {
    "duration": 53,
    "start_time": "2021-11-13T18:49:47.654Z"
   },
   {
    "duration": 1254,
    "start_time": "2021-11-13T18:49:47.710Z"
   },
   {
    "duration": 6,
    "start_time": "2021-11-13T18:49:48.971Z"
   },
   {
    "duration": 24,
    "start_time": "2021-11-13T18:49:48.980Z"
   },
   {
    "duration": 19,
    "start_time": "2021-11-13T18:49:49.007Z"
   },
   {
    "duration": 44,
    "start_time": "2021-11-13T18:49:49.059Z"
   },
   {
    "duration": 681,
    "start_time": "2021-11-13T18:49:49.106Z"
   },
   {
    "duration": 362,
    "start_time": "2021-11-13T18:49:49.791Z"
   },
   {
    "duration": 477,
    "start_time": "2021-11-13T18:49:50.159Z"
   },
   {
    "duration": 1823,
    "start_time": "2021-11-13T18:49:50.640Z"
   },
   {
    "duration": 28,
    "start_time": "2021-11-13T18:49:52.470Z"
   },
   {
    "duration": 582,
    "start_time": "2021-11-13T18:49:52.500Z"
   },
   {
    "duration": 2347,
    "start_time": "2021-11-13T19:00:18.060Z"
   },
   {
    "duration": 1518,
    "start_time": "2021-11-13T19:00:21.959Z"
   },
   {
    "duration": 644,
    "start_time": "2021-11-13T19:00:59.597Z"
   },
   {
    "duration": 657,
    "start_time": "2021-11-13T19:01:06.016Z"
   },
   {
    "duration": 949,
    "start_time": "2021-11-13T19:10:15.814Z"
   },
   {
    "duration": 1027,
    "start_time": "2021-11-13T19:10:50.698Z"
   },
   {
    "duration": 1148,
    "start_time": "2021-11-13T19:10:58.422Z"
   },
   {
    "duration": 841,
    "start_time": "2021-11-13T19:11:09.653Z"
   },
   {
    "duration": 1670,
    "start_time": "2021-11-13T19:11:49.911Z"
   },
   {
    "duration": 4,
    "start_time": "2021-11-13T19:11:51.584Z"
   },
   {
    "duration": 97,
    "start_time": "2021-11-13T19:11:51.591Z"
   },
   {
    "duration": 8,
    "start_time": "2021-11-13T19:11:51.691Z"
   },
   {
    "duration": 27,
    "start_time": "2021-11-13T19:11:51.701Z"
   },
   {
    "duration": 73,
    "start_time": "2021-11-13T19:11:51.731Z"
   },
   {
    "duration": 535,
    "start_time": "2021-11-13T19:11:51.807Z"
   },
   {
    "duration": 26,
    "start_time": "2021-11-13T19:11:52.346Z"
   },
   {
    "duration": 512,
    "start_time": "2021-11-13T19:11:52.375Z"
   },
   {
    "duration": 11,
    "start_time": "2021-11-13T19:11:52.889Z"
   },
   {
    "duration": 13,
    "start_time": "2021-11-13T19:11:52.902Z"
   },
   {
    "duration": 393,
    "start_time": "2021-11-13T19:11:52.918Z"
   },
   {
    "duration": 3,
    "start_time": "2021-11-13T19:11:53.314Z"
   },
   {
    "duration": 20,
    "start_time": "2021-11-13T19:11:53.320Z"
   },
   {
    "duration": 25,
    "start_time": "2021-11-13T19:11:53.342Z"
   },
   {
    "duration": 10,
    "start_time": "2021-11-13T19:11:53.371Z"
   },
   {
    "duration": 567,
    "start_time": "2021-11-13T19:11:53.383Z"
   },
   {
    "duration": 552,
    "start_time": "2021-11-13T19:11:53.959Z"
   },
   {
    "duration": 10,
    "start_time": "2021-11-13T19:11:54.514Z"
   },
   {
    "duration": 733,
    "start_time": "2021-11-13T19:11:54.526Z"
   },
   {
    "duration": 63,
    "start_time": "2021-11-13T19:11:55.262Z"
   },
   {
    "duration": 1240,
    "start_time": "2021-11-13T19:11:55.327Z"
   },
   {
    "duration": 5,
    "start_time": "2021-11-13T19:11:56.573Z"
   },
   {
    "duration": 30,
    "start_time": "2021-11-13T19:11:56.580Z"
   },
   {
    "duration": 42,
    "start_time": "2021-11-13T19:11:56.612Z"
   },
   {
    "duration": 53,
    "start_time": "2021-11-13T19:11:56.657Z"
   },
   {
    "duration": 633,
    "start_time": "2021-11-13T19:11:56.712Z"
   },
   {
    "duration": 952,
    "start_time": "2021-11-13T19:11:57.347Z"
   },
   {
    "duration": 3,
    "start_time": "2021-11-13T19:11:58.302Z"
   },
   {
    "duration": 368,
    "start_time": "2021-11-13T19:11:58.308Z"
   },
   {
    "duration": 509,
    "start_time": "2021-11-13T19:11:58.679Z"
   },
   {
    "duration": 607,
    "start_time": "2021-11-13T19:11:59.191Z"
   },
   {
    "duration": 31,
    "start_time": "2021-11-13T19:12:20.046Z"
   },
   {
    "duration": 348,
    "start_time": "2021-11-13T19:12:52.345Z"
   },
   {
    "duration": 1044,
    "start_time": "2021-11-13T19:12:52.727Z"
   },
   {
    "duration": 22,
    "start_time": "2021-11-13T19:13:13.427Z"
   },
   {
    "duration": 1033,
    "start_time": "2021-11-13T19:15:14.768Z"
   },
   {
    "duration": 391,
    "start_time": "2021-11-13T19:17:18.822Z"
   },
   {
    "duration": 877,
    "start_time": "2021-11-13T19:17:22.522Z"
   },
   {
    "duration": 377,
    "start_time": "2021-11-13T19:19:16.521Z"
   },
   {
    "duration": 1197,
    "start_time": "2021-11-13T19:20:43.299Z"
   },
   {
    "duration": 434,
    "start_time": "2021-11-13T19:20:44.679Z"
   },
   {
    "duration": 402,
    "start_time": "2021-11-13T19:20:51.723Z"
   },
   {
    "duration": 442,
    "start_time": "2021-11-13T19:21:05.334Z"
   },
   {
    "duration": 1037,
    "start_time": "2021-11-13T19:21:20.533Z"
   },
   {
    "duration": 1078,
    "start_time": "2021-11-13T19:21:41.024Z"
   },
   {
    "duration": 1740,
    "start_time": "2021-11-13T19:21:51.542Z"
   },
   {
    "duration": 3,
    "start_time": "2021-11-13T19:21:53.285Z"
   },
   {
    "duration": 92,
    "start_time": "2021-11-13T19:21:53.291Z"
   },
   {
    "duration": 7,
    "start_time": "2021-11-13T19:21:53.386Z"
   },
   {
    "duration": 25,
    "start_time": "2021-11-13T19:21:53.395Z"
   },
   {
    "duration": 74,
    "start_time": "2021-11-13T19:21:53.422Z"
   },
   {
    "duration": 537,
    "start_time": "2021-11-13T19:21:53.499Z"
   },
   {
    "duration": 22,
    "start_time": "2021-11-13T19:21:54.039Z"
   },
   {
    "duration": 535,
    "start_time": "2021-11-13T19:21:54.067Z"
   },
   {
    "duration": 12,
    "start_time": "2021-11-13T19:21:54.605Z"
   },
   {
    "duration": 11,
    "start_time": "2021-11-13T19:21:54.620Z"
   },
   {
    "duration": 423,
    "start_time": "2021-11-13T19:21:54.660Z"
   },
   {
    "duration": 4,
    "start_time": "2021-11-13T19:21:55.086Z"
   },
   {
    "duration": 27,
    "start_time": "2021-11-13T19:21:55.092Z"
   },
   {
    "duration": 7,
    "start_time": "2021-11-13T19:21:55.121Z"
   },
   {
    "duration": 14,
    "start_time": "2021-11-13T19:21:55.131Z"
   },
   {
    "duration": 603,
    "start_time": "2021-11-13T19:21:55.166Z"
   },
   {
    "duration": 572,
    "start_time": "2021-11-13T19:21:55.773Z"
   },
   {
    "duration": 22,
    "start_time": "2021-11-13T19:21:56.348Z"
   },
   {
    "duration": 733,
    "start_time": "2021-11-13T19:21:56.375Z"
   },
   {
    "duration": 68,
    "start_time": "2021-11-13T19:21:57.110Z"
   },
   {
    "duration": 1222,
    "start_time": "2021-11-13T19:21:57.180Z"
   },
   {
    "duration": 3,
    "start_time": "2021-11-13T19:21:58.405Z"
   },
   {
    "duration": 26,
    "start_time": "2021-11-13T19:21:58.410Z"
   },
   {
    "duration": 38,
    "start_time": "2021-11-13T19:21:58.439Z"
   },
   {
    "duration": 30,
    "start_time": "2021-11-13T19:21:58.479Z"
   },
   {
    "duration": 694,
    "start_time": "2021-11-13T19:21:58.514Z"
   },
   {
    "duration": 384,
    "start_time": "2021-11-13T19:21:59.210Z"
   },
   {
    "duration": 1161,
    "start_time": "2021-11-13T19:21:59.596Z"
   },
   {
    "duration": 641,
    "start_time": "2021-11-13T19:22:00.762Z"
   },
   {
    "duration": 147,
    "start_time": "2021-11-13T19:22:01.258Z"
   },
   {
    "duration": 143,
    "start_time": "2021-11-13T19:22:01.264Z"
   },
   {
    "duration": 142,
    "start_time": "2021-11-13T19:22:01.266Z"
   },
   {
    "duration": 233,
    "start_time": "2021-11-13T19:25:37.612Z"
   },
   {
    "duration": 1087,
    "start_time": "2021-11-13T19:25:48.551Z"
   },
   {
    "duration": 381,
    "start_time": "2021-11-13T19:25:49.745Z"
   },
   {
    "duration": 9771,
    "start_time": "2021-11-13T19:27:12.509Z"
   },
   {
    "duration": 10930,
    "start_time": "2021-11-13T19:27:33.307Z"
   },
   {
    "duration": 14729,
    "start_time": "2021-11-13T19:28:34.872Z"
   },
   {
    "duration": 1050,
    "start_time": "2021-11-13T19:28:55.028Z"
   },
   {
    "duration": 1089,
    "start_time": "2021-11-13T19:29:02.274Z"
   },
   {
    "duration": 23,
    "start_time": "2021-11-13T19:29:07.947Z"
   },
   {
    "duration": 27,
    "start_time": "2021-11-13T19:29:13.223Z"
   },
   {
    "duration": 34,
    "start_time": "2021-11-13T19:33:56.904Z"
   },
   {
    "duration": 1119,
    "start_time": "2021-11-13T19:34:26.794Z"
   },
   {
    "duration": 21,
    "start_time": "2021-11-13T19:39:14.579Z"
   },
   {
    "duration": 1633,
    "start_time": "2021-11-13T19:40:27.500Z"
   },
   {
    "duration": 4,
    "start_time": "2021-11-13T19:40:29.135Z"
   },
   {
    "duration": 101,
    "start_time": "2021-11-13T19:40:29.142Z"
   },
   {
    "duration": 17,
    "start_time": "2021-11-13T19:40:29.246Z"
   },
   {
    "duration": 30,
    "start_time": "2021-11-13T19:40:29.271Z"
   },
   {
    "duration": 70,
    "start_time": "2021-11-13T19:40:29.303Z"
   },
   {
    "duration": 515,
    "start_time": "2021-11-13T19:40:29.376Z"
   },
   {
    "duration": 14,
    "start_time": "2021-11-13T19:40:29.894Z"
   },
   {
    "duration": 536,
    "start_time": "2021-11-13T19:40:29.914Z"
   },
   {
    "duration": 19,
    "start_time": "2021-11-13T19:40:30.458Z"
   },
   {
    "duration": 25,
    "start_time": "2021-11-13T19:40:30.481Z"
   },
   {
    "duration": 399,
    "start_time": "2021-11-13T19:40:30.509Z"
   },
   {
    "duration": 3,
    "start_time": "2021-11-13T19:40:30.911Z"
   },
   {
    "duration": 21,
    "start_time": "2021-11-13T19:40:30.916Z"
   },
   {
    "duration": 18,
    "start_time": "2021-11-13T19:40:30.940Z"
   },
   {
    "duration": 16,
    "start_time": "2021-11-13T19:40:30.961Z"
   },
   {
    "duration": 608,
    "start_time": "2021-11-13T19:40:30.982Z"
   },
   {
    "duration": 557,
    "start_time": "2021-11-13T19:40:31.593Z"
   },
   {
    "duration": 21,
    "start_time": "2021-11-13T19:40:32.152Z"
   },
   {
    "duration": 742,
    "start_time": "2021-11-13T19:40:32.176Z"
   },
   {
    "duration": 65,
    "start_time": "2021-11-13T19:40:32.921Z"
   },
   {
    "duration": 1246,
    "start_time": "2021-11-13T19:40:32.989Z"
   },
   {
    "duration": 4,
    "start_time": "2021-11-13T19:40:34.237Z"
   },
   {
    "duration": 44,
    "start_time": "2021-11-13T19:40:34.243Z"
   },
   {
    "duration": 18,
    "start_time": "2021-11-13T19:40:34.289Z"
   },
   {
    "duration": 295,
    "start_time": "2021-11-13T19:40:34.310Z"
   },
   {
    "duration": 1193,
    "start_time": "2021-11-13T19:40:34.610Z"
   },
   {
    "duration": 37,
    "start_time": "2021-11-13T19:40:35.807Z"
   },
   {
    "duration": 37,
    "start_time": "2021-11-13T19:40:35.847Z"
   },
   {
    "duration": 606,
    "start_time": "2021-11-13T19:40:35.887Z"
   },
   {
    "duration": 506,
    "start_time": "2021-11-13T19:40:36.496Z"
   },
   {
    "duration": 24,
    "start_time": "2021-11-13T19:40:37.005Z"
   },
   {
    "duration": 21,
    "start_time": "2021-11-13T19:41:16.824Z"
   },
   {
    "duration": 34,
    "start_time": "2021-11-13T19:44:03.499Z"
   },
   {
    "duration": 124,
    "start_time": "2021-11-13T19:45:08.618Z"
   },
   {
    "duration": 44,
    "start_time": "2021-11-13T19:45:22.236Z"
   },
   {
    "duration": 1765,
    "start_time": "2021-11-13T19:45:29.184Z"
   },
   {
    "duration": 8,
    "start_time": "2021-11-13T19:45:30.952Z"
   },
   {
    "duration": 114,
    "start_time": "2021-11-13T19:45:30.964Z"
   },
   {
    "duration": 10,
    "start_time": "2021-11-13T19:45:31.088Z"
   },
   {
    "duration": 37,
    "start_time": "2021-11-13T19:45:31.101Z"
   },
   {
    "duration": 70,
    "start_time": "2021-11-13T19:45:31.141Z"
   },
   {
    "duration": 636,
    "start_time": "2021-11-13T19:45:31.214Z"
   },
   {
    "duration": 23,
    "start_time": "2021-11-13T19:45:31.854Z"
   },
   {
    "duration": 559,
    "start_time": "2021-11-13T19:45:31.882Z"
   },
   {
    "duration": 22,
    "start_time": "2021-11-13T19:45:32.443Z"
   },
   {
    "duration": 20,
    "start_time": "2021-11-13T19:45:32.468Z"
   },
   {
    "duration": 410,
    "start_time": "2021-11-13T19:45:32.490Z"
   },
   {
    "duration": 3,
    "start_time": "2021-11-13T19:45:32.902Z"
   },
   {
    "duration": 17,
    "start_time": "2021-11-13T19:45:32.908Z"
   },
   {
    "duration": 6,
    "start_time": "2021-11-13T19:45:32.928Z"
   },
   {
    "duration": 14,
    "start_time": "2021-11-13T19:45:32.966Z"
   },
   {
    "duration": 605,
    "start_time": "2021-11-13T19:45:32.983Z"
   },
   {
    "duration": 605,
    "start_time": "2021-11-13T19:45:33.592Z"
   },
   {
    "duration": 12,
    "start_time": "2021-11-13T19:45:34.200Z"
   },
   {
    "duration": 820,
    "start_time": "2021-11-13T19:45:34.215Z"
   },
   {
    "duration": 68,
    "start_time": "2021-11-13T19:45:35.038Z"
   },
   {
    "duration": 1399,
    "start_time": "2021-11-13T19:45:35.109Z"
   },
   {
    "duration": 5,
    "start_time": "2021-11-13T19:45:36.514Z"
   },
   {
    "duration": 51,
    "start_time": "2021-11-13T19:45:36.522Z"
   },
   {
    "duration": 20,
    "start_time": "2021-11-13T19:45:36.576Z"
   },
   {
    "duration": 245,
    "start_time": "2021-11-13T19:45:36.599Z"
   },
   {
    "duration": 1080,
    "start_time": "2021-11-13T19:45:36.846Z"
   },
   {
    "duration": 63,
    "start_time": "2021-11-13T19:45:37.928Z"
   },
   {
    "duration": 543,
    "start_time": "2021-11-13T19:45:37.994Z"
   },
   {
    "duration": 582,
    "start_time": "2021-11-13T19:45:38.540Z"
   },
   {
    "duration": 100,
    "start_time": "2021-11-13T19:45:39.025Z"
   },
   {
    "duration": 99,
    "start_time": "2021-11-13T19:45:39.027Z"
   },
   {
    "duration": 392,
    "start_time": "2021-11-13T19:46:04.927Z"
   },
   {
    "duration": 51,
    "start_time": "2021-11-13T19:46:13.352Z"
   },
   {
    "duration": 1684,
    "start_time": "2021-11-13T19:46:20.993Z"
   },
   {
    "duration": 4,
    "start_time": "2021-11-13T19:46:22.679Z"
   },
   {
    "duration": 93,
    "start_time": "2021-11-13T19:46:22.685Z"
   },
   {
    "duration": 8,
    "start_time": "2021-11-13T19:46:22.783Z"
   },
   {
    "duration": 31,
    "start_time": "2021-11-13T19:46:22.793Z"
   },
   {
    "duration": 71,
    "start_time": "2021-11-13T19:46:22.826Z"
   },
   {
    "duration": 531,
    "start_time": "2021-11-13T19:46:22.899Z"
   },
   {
    "duration": 13,
    "start_time": "2021-11-13T19:46:23.433Z"
   },
   {
    "duration": 529,
    "start_time": "2021-11-13T19:46:23.463Z"
   },
   {
    "duration": 11,
    "start_time": "2021-11-13T19:46:23.995Z"
   },
   {
    "duration": 12,
    "start_time": "2021-11-13T19:46:24.009Z"
   },
   {
    "duration": 401,
    "start_time": "2021-11-13T19:46:24.024Z"
   },
   {
    "duration": 3,
    "start_time": "2021-11-13T19:46:24.428Z"
   },
   {
    "duration": 27,
    "start_time": "2021-11-13T19:46:24.433Z"
   },
   {
    "duration": 14,
    "start_time": "2021-11-13T19:46:24.464Z"
   },
   {
    "duration": 14,
    "start_time": "2021-11-13T19:46:24.481Z"
   },
   {
    "duration": 623,
    "start_time": "2021-11-13T19:46:24.498Z"
   },
   {
    "duration": 553,
    "start_time": "2021-11-13T19:46:25.123Z"
   },
   {
    "duration": 11,
    "start_time": "2021-11-13T19:46:25.679Z"
   },
   {
    "duration": 741,
    "start_time": "2021-11-13T19:46:25.692Z"
   },
   {
    "duration": 61,
    "start_time": "2021-11-13T19:46:26.435Z"
   },
   {
    "duration": 1247,
    "start_time": "2021-11-13T19:46:26.498Z"
   },
   {
    "duration": 17,
    "start_time": "2021-11-13T19:46:27.747Z"
   },
   {
    "duration": 41,
    "start_time": "2021-11-13T19:46:27.767Z"
   },
   {
    "duration": 20,
    "start_time": "2021-11-13T19:46:27.811Z"
   },
   {
    "duration": 237,
    "start_time": "2021-11-13T19:46:27.833Z"
   },
   {
    "duration": 1199,
    "start_time": "2021-11-13T19:46:28.078Z"
   },
   {
    "duration": 42,
    "start_time": "2021-11-13T19:46:29.279Z"
   },
   {
    "duration": 498,
    "start_time": "2021-11-13T19:46:29.324Z"
   },
   {
    "duration": 561,
    "start_time": "2021-11-13T19:46:29.824Z"
   },
   {
    "duration": 118,
    "start_time": "2021-11-13T19:46:30.269Z"
   },
   {
    "duration": 119,
    "start_time": "2021-11-13T19:46:30.270Z"
   },
   {
    "duration": 1682,
    "start_time": "2021-11-13T19:46:52.121Z"
   },
   {
    "duration": 4,
    "start_time": "2021-11-13T19:46:53.806Z"
   },
   {
    "duration": 96,
    "start_time": "2021-11-13T19:46:53.813Z"
   },
   {
    "duration": 8,
    "start_time": "2021-11-13T19:46:53.911Z"
   },
   {
    "duration": 58,
    "start_time": "2021-11-13T19:46:53.921Z"
   },
   {
    "duration": 40,
    "start_time": "2021-11-13T19:46:53.982Z"
   },
   {
    "duration": 580,
    "start_time": "2021-11-13T19:46:54.025Z"
   },
   {
    "duration": 12,
    "start_time": "2021-11-13T19:46:54.608Z"
   },
   {
    "duration": 560,
    "start_time": "2021-11-13T19:46:54.624Z"
   },
   {
    "duration": 14,
    "start_time": "2021-11-13T19:46:55.187Z"
   },
   {
    "duration": 12,
    "start_time": "2021-11-13T19:46:55.203Z"
   },
   {
    "duration": 393,
    "start_time": "2021-11-13T19:46:55.217Z"
   },
   {
    "duration": 4,
    "start_time": "2021-11-13T19:46:55.612Z"
   },
   {
    "duration": 21,
    "start_time": "2021-11-13T19:46:55.618Z"
   },
   {
    "duration": 21,
    "start_time": "2021-11-13T19:46:55.641Z"
   },
   {
    "duration": 28,
    "start_time": "2021-11-13T19:46:55.665Z"
   },
   {
    "duration": 632,
    "start_time": "2021-11-13T19:46:55.696Z"
   },
   {
    "duration": 559,
    "start_time": "2021-11-13T19:46:56.331Z"
   },
   {
    "duration": 11,
    "start_time": "2021-11-13T19:46:56.892Z"
   },
   {
    "duration": 736,
    "start_time": "2021-11-13T19:46:56.905Z"
   },
   {
    "duration": 60,
    "start_time": "2021-11-13T19:46:57.644Z"
   },
   {
    "duration": 1246,
    "start_time": "2021-11-13T19:46:57.707Z"
   },
   {
    "duration": 5,
    "start_time": "2021-11-13T19:46:58.955Z"
   },
   {
    "duration": 37,
    "start_time": "2021-11-13T19:46:58.963Z"
   },
   {
    "duration": 16,
    "start_time": "2021-11-13T19:46:59.004Z"
   },
   {
    "duration": 273,
    "start_time": "2021-11-13T19:46:59.024Z"
   },
   {
    "duration": 1086,
    "start_time": "2021-11-13T19:46:59.302Z"
   },
   {
    "duration": 37,
    "start_time": "2021-11-13T19:47:00.391Z"
   },
   {
    "duration": 520,
    "start_time": "2021-11-13T19:47:00.430Z"
   },
   {
    "duration": 606,
    "start_time": "2021-11-13T19:47:00.952Z"
   },
   {
    "duration": 108,
    "start_time": "2021-11-13T19:47:01.453Z"
   },
   {
    "duration": 110,
    "start_time": "2021-11-13T19:47:01.454Z"
   },
   {
    "duration": 37,
    "start_time": "2021-11-13T19:47:16.530Z"
   },
   {
    "duration": 1630,
    "start_time": "2021-11-13T19:47:26.424Z"
   },
   {
    "duration": 6,
    "start_time": "2021-11-13T19:47:28.056Z"
   },
   {
    "duration": 96,
    "start_time": "2021-11-13T19:47:28.067Z"
   },
   {
    "duration": 9,
    "start_time": "2021-11-13T19:47:28.167Z"
   },
   {
    "duration": 24,
    "start_time": "2021-11-13T19:47:28.179Z"
   },
   {
    "duration": 80,
    "start_time": "2021-11-13T19:47:28.206Z"
   },
   {
    "duration": 631,
    "start_time": "2021-11-13T19:47:28.288Z"
   },
   {
    "duration": 14,
    "start_time": "2021-11-13T19:47:28.923Z"
   },
   {
    "duration": 548,
    "start_time": "2021-11-13T19:47:28.940Z"
   },
   {
    "duration": 12,
    "start_time": "2021-11-13T19:47:29.491Z"
   },
   {
    "duration": 9,
    "start_time": "2021-11-13T19:47:29.506Z"
   },
   {
    "duration": 387,
    "start_time": "2021-11-13T19:47:29.518Z"
   },
   {
    "duration": 3,
    "start_time": "2021-11-13T19:47:29.908Z"
   },
   {
    "duration": 17,
    "start_time": "2021-11-13T19:47:29.914Z"
   },
   {
    "duration": 7,
    "start_time": "2021-11-13T19:47:29.933Z"
   },
   {
    "duration": 19,
    "start_time": "2021-11-13T19:47:29.960Z"
   },
   {
    "duration": 609,
    "start_time": "2021-11-13T19:47:29.982Z"
   },
   {
    "duration": 607,
    "start_time": "2021-11-13T19:47:30.594Z"
   },
   {
    "duration": 14,
    "start_time": "2021-11-13T19:47:31.204Z"
   },
   {
    "duration": 874,
    "start_time": "2021-11-13T19:47:31.221Z"
   },
   {
    "duration": 44,
    "start_time": "2021-11-13T19:47:32.098Z"
   },
   {
    "duration": 1253,
    "start_time": "2021-11-13T19:47:32.166Z"
   },
   {
    "duration": 4,
    "start_time": "2021-11-13T19:47:33.423Z"
   },
   {
    "duration": 37,
    "start_time": "2021-11-13T19:47:33.430Z"
   },
   {
    "duration": 22,
    "start_time": "2021-11-13T19:47:33.471Z"
   },
   {
    "duration": 243,
    "start_time": "2021-11-13T19:47:33.495Z"
   },
   {
    "duration": 1008,
    "start_time": "2021-11-13T19:47:33.741Z"
   },
   {
    "duration": 45,
    "start_time": "2021-11-13T19:47:34.751Z"
   },
   {
    "duration": 502,
    "start_time": "2021-11-13T19:47:34.799Z"
   },
   {
    "duration": 588,
    "start_time": "2021-11-13T19:47:35.304Z"
   },
   {
    "duration": 101,
    "start_time": "2021-11-13T19:47:35.794Z"
   },
   {
    "duration": 100,
    "start_time": "2021-11-13T19:47:35.796Z"
   },
   {
    "duration": 138,
    "start_time": "2021-11-13T19:48:45.875Z"
   },
   {
    "duration": 44,
    "start_time": "2021-11-13T19:48:57.041Z"
   },
   {
    "duration": 1955,
    "start_time": "2021-11-13T19:49:05.335Z"
   },
   {
    "duration": 4,
    "start_time": "2021-11-13T19:49:07.292Z"
   },
   {
    "duration": 113,
    "start_time": "2021-11-13T19:49:07.299Z"
   },
   {
    "duration": 7,
    "start_time": "2021-11-13T19:49:07.415Z"
   },
   {
    "duration": 48,
    "start_time": "2021-11-13T19:49:07.424Z"
   },
   {
    "duration": 50,
    "start_time": "2021-11-13T19:49:07.475Z"
   },
   {
    "duration": 557,
    "start_time": "2021-11-13T19:49:07.528Z"
   },
   {
    "duration": 14,
    "start_time": "2021-11-13T19:49:08.088Z"
   },
   {
    "duration": 531,
    "start_time": "2021-11-13T19:49:08.106Z"
   },
   {
    "duration": 21,
    "start_time": "2021-11-13T19:49:08.640Z"
   },
   {
    "duration": 15,
    "start_time": "2021-11-13T19:49:08.665Z"
   },
   {
    "duration": 406,
    "start_time": "2021-11-13T19:49:08.683Z"
   },
   {
    "duration": 4,
    "start_time": "2021-11-13T19:49:09.093Z"
   },
   {
    "duration": 21,
    "start_time": "2021-11-13T19:49:09.100Z"
   },
   {
    "duration": 35,
    "start_time": "2021-11-13T19:49:09.124Z"
   },
   {
    "duration": 16,
    "start_time": "2021-11-13T19:49:09.163Z"
   },
   {
    "duration": 662,
    "start_time": "2021-11-13T19:49:09.182Z"
   },
   {
    "duration": 707,
    "start_time": "2021-11-13T19:49:09.847Z"
   },
   {
    "duration": 23,
    "start_time": "2021-11-13T19:49:10.556Z"
   },
   {
    "duration": 795,
    "start_time": "2021-11-13T19:49:10.581Z"
   },
   {
    "duration": 45,
    "start_time": "2021-11-13T19:49:11.378Z"
   },
   {
    "duration": 1273,
    "start_time": "2021-11-13T19:49:11.425Z"
   },
   {
    "duration": 5,
    "start_time": "2021-11-13T19:49:12.702Z"
   },
   {
    "duration": 49,
    "start_time": "2021-11-13T19:49:12.710Z"
   },
   {
    "duration": 21,
    "start_time": "2021-11-13T19:49:12.767Z"
   },
   {
    "duration": 241,
    "start_time": "2021-11-13T19:49:12.791Z"
   },
   {
    "duration": 1042,
    "start_time": "2021-11-13T19:49:13.036Z"
   },
   {
    "duration": 59,
    "start_time": "2021-11-13T19:49:14.083Z"
   },
   {
    "duration": 521,
    "start_time": "2021-11-13T19:49:14.145Z"
   },
   {
    "duration": 551,
    "start_time": "2021-11-13T19:49:14.670Z"
   },
   {
    "duration": 110,
    "start_time": "2021-11-13T19:49:15.114Z"
   },
   {
    "duration": 110,
    "start_time": "2021-11-13T19:49:15.116Z"
   },
   {
    "duration": 111,
    "start_time": "2021-11-13T19:49:44.964Z"
   },
   {
    "duration": 1683,
    "start_time": "2021-11-13T19:50:53.456Z"
   },
   {
    "duration": 3,
    "start_time": "2021-11-13T19:50:55.142Z"
   },
   {
    "duration": 87,
    "start_time": "2021-11-13T19:50:55.148Z"
   },
   {
    "duration": 7,
    "start_time": "2021-11-13T19:50:55.238Z"
   },
   {
    "duration": 35,
    "start_time": "2021-11-13T19:50:55.259Z"
   },
   {
    "duration": 40,
    "start_time": "2021-11-13T19:50:55.297Z"
   },
   {
    "duration": 556,
    "start_time": "2021-11-13T19:50:55.366Z"
   },
   {
    "duration": 12,
    "start_time": "2021-11-13T19:50:55.926Z"
   },
   {
    "duration": 545,
    "start_time": "2021-11-13T19:50:55.941Z"
   },
   {
    "duration": 11,
    "start_time": "2021-11-13T19:50:56.488Z"
   },
   {
    "duration": 11,
    "start_time": "2021-11-13T19:50:56.501Z"
   },
   {
    "duration": 389,
    "start_time": "2021-11-13T19:50:56.514Z"
   },
   {
    "duration": 3,
    "start_time": "2021-11-13T19:50:56.906Z"
   },
   {
    "duration": 18,
    "start_time": "2021-11-13T19:50:56.911Z"
   },
   {
    "duration": 6,
    "start_time": "2021-11-13T19:50:56.931Z"
   },
   {
    "duration": 28,
    "start_time": "2021-11-13T19:50:56.939Z"
   },
   {
    "duration": 582,
    "start_time": "2021-11-13T19:50:56.970Z"
   },
   {
    "duration": 578,
    "start_time": "2021-11-13T19:50:57.554Z"
   },
   {
    "duration": 10,
    "start_time": "2021-11-13T19:50:58.135Z"
   },
   {
    "duration": 769,
    "start_time": "2021-11-13T19:50:58.161Z"
   },
   {
    "duration": 79,
    "start_time": "2021-11-13T19:50:58.933Z"
   },
   {
    "duration": 1232,
    "start_time": "2021-11-13T19:50:59.015Z"
   },
   {
    "duration": 13,
    "start_time": "2021-11-13T19:51:00.251Z"
   },
   {
    "duration": 38,
    "start_time": "2021-11-13T19:51:00.269Z"
   },
   {
    "duration": 47,
    "start_time": "2021-11-13T19:51:00.309Z"
   },
   {
    "duration": 240,
    "start_time": "2021-11-13T19:51:00.360Z"
   },
   {
    "duration": 1146,
    "start_time": "2021-11-13T19:51:00.603Z"
   },
   {
    "duration": 36,
    "start_time": "2021-11-13T19:51:01.751Z"
   },
   {
    "duration": 500,
    "start_time": "2021-11-13T19:51:01.790Z"
   },
   {
    "duration": 600,
    "start_time": "2021-11-13T19:51:02.293Z"
   },
   {
    "duration": 103,
    "start_time": "2021-11-13T19:51:02.792Z"
   },
   {
    "duration": 103,
    "start_time": "2021-11-13T19:51:02.794Z"
   },
   {
    "duration": 49,
    "start_time": "2021-11-13T19:52:24.162Z"
   },
   {
    "duration": 51,
    "start_time": "2021-11-13T19:53:04.453Z"
   },
   {
    "duration": 1718,
    "start_time": "2021-11-13T19:53:10.318Z"
   },
   {
    "duration": 4,
    "start_time": "2021-11-13T19:53:12.039Z"
   },
   {
    "duration": 123,
    "start_time": "2021-11-13T19:53:12.046Z"
   },
   {
    "duration": 9,
    "start_time": "2021-11-13T19:53:12.173Z"
   },
   {
    "duration": 37,
    "start_time": "2021-11-13T19:53:12.185Z"
   },
   {
    "duration": 62,
    "start_time": "2021-11-13T19:53:12.224Z"
   },
   {
    "duration": 576,
    "start_time": "2021-11-13T19:53:12.288Z"
   },
   {
    "duration": 20,
    "start_time": "2021-11-13T19:53:12.870Z"
   },
   {
    "duration": 544,
    "start_time": "2021-11-13T19:53:12.894Z"
   },
   {
    "duration": 28,
    "start_time": "2021-11-13T19:53:13.441Z"
   },
   {
    "duration": 15,
    "start_time": "2021-11-13T19:53:13.477Z"
   },
   {
    "duration": 423,
    "start_time": "2021-11-13T19:53:13.494Z"
   },
   {
    "duration": 4,
    "start_time": "2021-11-13T19:53:13.920Z"
   },
   {
    "duration": 44,
    "start_time": "2021-11-13T19:53:13.927Z"
   },
   {
    "duration": 24,
    "start_time": "2021-11-13T19:53:13.979Z"
   },
   {
    "duration": 18,
    "start_time": "2021-11-13T19:53:14.007Z"
   },
   {
    "duration": 640,
    "start_time": "2021-11-13T19:53:14.027Z"
   },
   {
    "duration": 625,
    "start_time": "2021-11-13T19:53:14.670Z"
   },
   {
    "duration": 11,
    "start_time": "2021-11-13T19:53:15.298Z"
   },
   {
    "duration": 884,
    "start_time": "2021-11-13T19:53:15.311Z"
   },
   {
    "duration": 68,
    "start_time": "2021-11-13T19:53:16.198Z"
   },
   {
    "duration": 1482,
    "start_time": "2021-11-13T19:53:16.270Z"
   },
   {
    "duration": 12,
    "start_time": "2021-11-13T19:53:17.762Z"
   },
   {
    "duration": 28,
    "start_time": "2021-11-13T19:53:17.778Z"
   },
   {
    "duration": 19,
    "start_time": "2021-11-13T19:53:17.809Z"
   },
   {
    "duration": 274,
    "start_time": "2021-11-13T19:53:17.831Z"
   },
   {
    "duration": 1132,
    "start_time": "2021-11-13T19:53:18.107Z"
   },
   {
    "duration": 57,
    "start_time": "2021-11-13T19:53:19.242Z"
   },
   {
    "duration": 628,
    "start_time": "2021-11-13T19:53:19.302Z"
   },
   {
    "duration": 577,
    "start_time": "2021-11-13T19:53:19.933Z"
   },
   {
    "duration": 100,
    "start_time": "2021-11-13T19:53:20.413Z"
   },
   {
    "duration": 99,
    "start_time": "2021-11-13T19:53:20.415Z"
   },
   {
    "duration": 140,
    "start_time": "2021-11-13T19:53:31.339Z"
   },
   {
    "duration": 1730,
    "start_time": "2021-11-13T19:53:49.977Z"
   },
   {
    "duration": 4,
    "start_time": "2021-11-13T19:53:51.709Z"
   },
   {
    "duration": 126,
    "start_time": "2021-11-13T19:53:51.717Z"
   },
   {
    "duration": 19,
    "start_time": "2021-11-13T19:53:51.847Z"
   },
   {
    "duration": 43,
    "start_time": "2021-11-13T19:53:51.869Z"
   },
   {
    "duration": 73,
    "start_time": "2021-11-13T19:53:51.915Z"
   },
   {
    "duration": 537,
    "start_time": "2021-11-13T19:53:51.991Z"
   },
   {
    "duration": 13,
    "start_time": "2021-11-13T19:53:52.531Z"
   },
   {
    "duration": 526,
    "start_time": "2021-11-13T19:53:52.562Z"
   },
   {
    "duration": 11,
    "start_time": "2021-11-13T19:53:53.091Z"
   },
   {
    "duration": 12,
    "start_time": "2021-11-13T19:53:53.105Z"
   },
   {
    "duration": 431,
    "start_time": "2021-11-13T19:53:53.119Z"
   },
   {
    "duration": 9,
    "start_time": "2021-11-13T19:53:53.552Z"
   },
   {
    "duration": 33,
    "start_time": "2021-11-13T19:53:53.566Z"
   },
   {
    "duration": 7,
    "start_time": "2021-11-13T19:53:53.602Z"
   },
   {
    "duration": 12,
    "start_time": "2021-11-13T19:53:53.611Z"
   },
   {
    "duration": 863,
    "start_time": "2021-11-13T19:53:53.625Z"
   },
   {
    "duration": 592,
    "start_time": "2021-11-13T19:53:54.491Z"
   },
   {
    "duration": 11,
    "start_time": "2021-11-13T19:53:55.086Z"
   },
   {
    "duration": 874,
    "start_time": "2021-11-13T19:53:55.099Z"
   },
   {
    "duration": 44,
    "start_time": "2021-11-13T19:53:55.976Z"
   },
   {
    "duration": 1322,
    "start_time": "2021-11-13T19:53:56.023Z"
   },
   {
    "duration": 11,
    "start_time": "2021-11-13T19:53:57.348Z"
   },
   {
    "duration": 37,
    "start_time": "2021-11-13T19:53:57.365Z"
   },
   {
    "duration": 32,
    "start_time": "2021-11-13T19:53:57.404Z"
   },
   {
    "duration": 244,
    "start_time": "2021-11-13T19:53:57.438Z"
   },
   {
    "duration": 1061,
    "start_time": "2021-11-13T19:53:57.687Z"
   },
   {
    "duration": 146,
    "start_time": "2021-11-13T19:53:58.752Z"
   },
   {
    "duration": 117,
    "start_time": "2021-11-13T19:53:58.784Z"
   },
   {
    "duration": 109,
    "start_time": "2021-11-13T19:53:58.795Z"
   },
   {
    "duration": 109,
    "start_time": "2021-11-13T19:53:58.797Z"
   },
   {
    "duration": 109,
    "start_time": "2021-11-13T19:53:58.799Z"
   },
   {
    "duration": 49,
    "start_time": "2021-11-13T19:54:24.033Z"
   },
   {
    "duration": 673,
    "start_time": "2021-11-13T19:54:44.234Z"
   },
   {
    "duration": 673,
    "start_time": "2021-11-13T19:54:49.678Z"
   },
   {
    "duration": 388,
    "start_time": "2021-11-13T19:54:59.403Z"
   },
   {
    "duration": 1731,
    "start_time": "2021-11-13T19:55:36.150Z"
   },
   {
    "duration": 3,
    "start_time": "2021-11-13T19:55:37.884Z"
   },
   {
    "duration": 101,
    "start_time": "2021-11-13T19:55:37.891Z"
   },
   {
    "duration": 6,
    "start_time": "2021-11-13T19:55:37.995Z"
   },
   {
    "duration": 34,
    "start_time": "2021-11-13T19:55:38.004Z"
   },
   {
    "duration": 64,
    "start_time": "2021-11-13T19:55:38.040Z"
   },
   {
    "duration": 544,
    "start_time": "2021-11-13T19:55:38.107Z"
   },
   {
    "duration": 25,
    "start_time": "2021-11-13T19:55:38.653Z"
   },
   {
    "duration": 524,
    "start_time": "2021-11-13T19:55:38.682Z"
   },
   {
    "duration": 11,
    "start_time": "2021-11-13T19:55:39.209Z"
   },
   {
    "duration": 11,
    "start_time": "2021-11-13T19:55:39.222Z"
   },
   {
    "duration": 393,
    "start_time": "2021-11-13T19:55:39.260Z"
   },
   {
    "duration": 3,
    "start_time": "2021-11-13T19:55:39.660Z"
   },
   {
    "duration": 22,
    "start_time": "2021-11-13T19:55:39.665Z"
   },
   {
    "duration": 7,
    "start_time": "2021-11-13T19:55:39.691Z"
   },
   {
    "duration": 10,
    "start_time": "2021-11-13T19:55:39.701Z"
   },
   {
    "duration": 629,
    "start_time": "2021-11-13T19:55:39.714Z"
   },
   {
    "duration": 574,
    "start_time": "2021-11-13T19:55:40.345Z"
   },
   {
    "duration": 11,
    "start_time": "2021-11-13T19:55:40.921Z"
   },
   {
    "duration": 780,
    "start_time": "2021-11-13T19:55:40.935Z"
   },
   {
    "duration": 65,
    "start_time": "2021-11-13T19:55:41.717Z"
   },
   {
    "duration": 1400,
    "start_time": "2021-11-13T19:55:41.784Z"
   },
   {
    "duration": 3,
    "start_time": "2021-11-13T19:55:43.187Z"
   },
   {
    "duration": 23,
    "start_time": "2021-11-13T19:55:43.193Z"
   },
   {
    "duration": 44,
    "start_time": "2021-11-13T19:55:43.219Z"
   },
   {
    "duration": 247,
    "start_time": "2021-11-13T19:55:43.267Z"
   },
   {
    "duration": 1020,
    "start_time": "2021-11-13T19:55:43.519Z"
   },
   {
    "duration": 487,
    "start_time": "2021-11-13T19:55:44.542Z"
   },
   {
    "duration": 769,
    "start_time": "2021-11-13T19:55:45.032Z"
   },
   {
    "duration": 104,
    "start_time": "2021-11-13T19:55:45.701Z"
   },
   {
    "duration": 104,
    "start_time": "2021-11-13T19:55:45.703Z"
   },
   {
    "duration": 407,
    "start_time": "2021-11-13T19:56:05.033Z"
   },
   {
    "duration": 390,
    "start_time": "2021-11-13T19:56:40.382Z"
   },
   {
    "duration": 398,
    "start_time": "2021-11-13T19:56:45.084Z"
   },
   {
    "duration": 7,
    "start_time": "2021-11-13T19:57:16.384Z"
   },
   {
    "duration": 582,
    "start_time": "2021-11-13T19:58:03.615Z"
   },
   {
    "duration": 259,
    "start_time": "2021-11-13T19:59:11.990Z"
   },
   {
    "duration": 1040,
    "start_time": "2021-11-13T19:59:13.267Z"
   },
   {
    "duration": 39,
    "start_time": "2021-11-13T19:59:38.747Z"
   },
   {
    "duration": 60,
    "start_time": "2021-11-13T19:59:40.692Z"
   },
   {
    "duration": 1812,
    "start_time": "2021-11-13T19:59:50.761Z"
   },
   {
    "duration": 5,
    "start_time": "2021-11-13T19:59:52.577Z"
   },
   {
    "duration": 107,
    "start_time": "2021-11-13T19:59:52.585Z"
   },
   {
    "duration": 7,
    "start_time": "2021-11-13T19:59:52.695Z"
   },
   {
    "duration": 28,
    "start_time": "2021-11-13T19:59:52.704Z"
   },
   {
    "duration": 73,
    "start_time": "2021-11-13T19:59:52.735Z"
   },
   {
    "duration": 568,
    "start_time": "2021-11-13T19:59:52.810Z"
   },
   {
    "duration": 12,
    "start_time": "2021-11-13T19:59:53.381Z"
   },
   {
    "duration": 527,
    "start_time": "2021-11-13T19:59:53.397Z"
   },
   {
    "duration": 11,
    "start_time": "2021-11-13T19:59:53.927Z"
   },
   {
    "duration": 24,
    "start_time": "2021-11-13T19:59:53.940Z"
   },
   {
    "duration": 418,
    "start_time": "2021-11-13T19:59:53.966Z"
   },
   {
    "duration": 3,
    "start_time": "2021-11-13T19:59:54.386Z"
   },
   {
    "duration": 21,
    "start_time": "2021-11-13T19:59:54.391Z"
   },
   {
    "duration": 7,
    "start_time": "2021-11-13T19:59:54.414Z"
   },
   {
    "duration": 17,
    "start_time": "2021-11-13T19:59:54.423Z"
   },
   {
    "duration": 617,
    "start_time": "2021-11-13T19:59:54.460Z"
   },
   {
    "duration": 582,
    "start_time": "2021-11-13T19:59:55.080Z"
   },
   {
    "duration": 11,
    "start_time": "2021-11-13T19:59:55.665Z"
   },
   {
    "duration": 803,
    "start_time": "2021-11-13T19:59:55.679Z"
   },
   {
    "duration": 44,
    "start_time": "2021-11-13T19:59:56.484Z"
   },
   {
    "duration": 1336,
    "start_time": "2021-11-13T19:59:56.530Z"
   },
   {
    "duration": 6,
    "start_time": "2021-11-13T19:59:57.871Z"
   },
   {
    "duration": 36,
    "start_time": "2021-11-13T19:59:57.880Z"
   },
   {
    "duration": 61,
    "start_time": "2021-11-13T19:59:57.919Z"
   },
   {
    "duration": 240,
    "start_time": "2021-11-13T19:59:57.983Z"
   },
   {
    "duration": 1020,
    "start_time": "2021-11-13T19:59:58.228Z"
   },
   {
    "duration": 60,
    "start_time": "2021-11-13T19:59:59.251Z"
   },
   {
    "duration": 536,
    "start_time": "2021-11-13T19:59:59.313Z"
   },
   {
    "duration": 802,
    "start_time": "2021-11-13T19:59:59.851Z"
   },
   {
    "duration": 111,
    "start_time": "2021-11-13T20:00:00.545Z"
   },
   {
    "duration": 89,
    "start_time": "2021-11-13T20:00:00.568Z"
   },
   {
    "duration": 93,
    "start_time": "2021-11-13T20:00:25.480Z"
   },
   {
    "duration": 2049,
    "start_time": "2021-11-13T20:00:40.180Z"
   },
   {
    "duration": 4,
    "start_time": "2021-11-13T20:00:42.231Z"
   },
   {
    "duration": 102,
    "start_time": "2021-11-13T20:00:42.239Z"
   },
   {
    "duration": 30,
    "start_time": "2021-11-13T20:00:42.345Z"
   },
   {
    "duration": 27,
    "start_time": "2021-11-13T20:00:42.379Z"
   },
   {
    "duration": 74,
    "start_time": "2021-11-13T20:00:42.408Z"
   },
   {
    "duration": 526,
    "start_time": "2021-11-13T20:00:42.484Z"
   },
   {
    "duration": 13,
    "start_time": "2021-11-13T20:00:43.012Z"
   },
   {
    "duration": 525,
    "start_time": "2021-11-13T20:00:43.029Z"
   },
   {
    "duration": 17,
    "start_time": "2021-11-13T20:00:43.562Z"
   },
   {
    "duration": 10,
    "start_time": "2021-11-13T20:00:43.582Z"
   },
   {
    "duration": 424,
    "start_time": "2021-11-13T20:00:43.595Z"
   },
   {
    "duration": 3,
    "start_time": "2021-11-13T20:00:44.022Z"
   },
   {
    "duration": 37,
    "start_time": "2021-11-13T20:00:44.027Z"
   },
   {
    "duration": 9,
    "start_time": "2021-11-13T20:00:44.067Z"
   },
   {
    "duration": 14,
    "start_time": "2021-11-13T20:00:44.082Z"
   },
   {
    "duration": 873,
    "start_time": "2021-11-13T20:00:44.099Z"
   },
   {
    "duration": 599,
    "start_time": "2021-11-13T20:00:44.976Z"
   },
   {
    "duration": 15,
    "start_time": "2021-11-13T20:00:45.581Z"
   },
   {
    "duration": 1026,
    "start_time": "2021-11-13T20:00:45.599Z"
   },
   {
    "duration": 60,
    "start_time": "2021-11-13T20:00:46.628Z"
   },
   {
    "duration": 1260,
    "start_time": "2021-11-13T20:00:46.691Z"
   },
   {
    "duration": 11,
    "start_time": "2021-11-13T20:00:47.954Z"
   },
   {
    "duration": 45,
    "start_time": "2021-11-13T20:00:47.968Z"
   },
   {
    "duration": 24,
    "start_time": "2021-11-13T20:00:48.016Z"
   },
   {
    "duration": 249,
    "start_time": "2021-11-13T20:00:48.065Z"
   },
   {
    "duration": 1066,
    "start_time": "2021-11-13T20:00:48.321Z"
   },
   {
    "duration": 49,
    "start_time": "2021-11-13T20:00:49.390Z"
   },
   {
    "duration": 518,
    "start_time": "2021-11-13T20:00:49.441Z"
   },
   {
    "duration": 631,
    "start_time": "2021-11-13T20:00:49.964Z"
   },
   {
    "duration": 109,
    "start_time": "2021-11-13T20:00:50.489Z"
   },
   {
    "duration": 94,
    "start_time": "2021-11-13T20:00:50.506Z"
   },
   {
    "duration": 104,
    "start_time": "2021-11-13T20:02:01.463Z"
   },
   {
    "duration": 2240,
    "start_time": "2021-11-13T20:02:09.281Z"
   },
   {
    "duration": 4,
    "start_time": "2021-11-13T20:02:11.524Z"
   },
   {
    "duration": 96,
    "start_time": "2021-11-13T20:02:11.531Z"
   },
   {
    "duration": 7,
    "start_time": "2021-11-13T20:02:11.630Z"
   },
   {
    "duration": 49,
    "start_time": "2021-11-13T20:02:11.639Z"
   },
   {
    "duration": 39,
    "start_time": "2021-11-13T20:02:11.691Z"
   },
   {
    "duration": 553,
    "start_time": "2021-11-13T20:02:11.733Z"
   },
   {
    "duration": 12,
    "start_time": "2021-11-13T20:02:12.288Z"
   },
   {
    "duration": 529,
    "start_time": "2021-11-13T20:02:12.304Z"
   },
   {
    "duration": 30,
    "start_time": "2021-11-13T20:02:12.836Z"
   },
   {
    "duration": 15,
    "start_time": "2021-11-13T20:02:12.877Z"
   },
   {
    "duration": 536,
    "start_time": "2021-11-13T20:02:12.896Z"
   },
   {
    "duration": 5,
    "start_time": "2021-11-13T20:02:13.435Z"
   },
   {
    "duration": 29,
    "start_time": "2021-11-13T20:02:13.443Z"
   },
   {
    "duration": 28,
    "start_time": "2021-11-13T20:02:13.476Z"
   },
   {
    "duration": 14,
    "start_time": "2021-11-13T20:02:13.506Z"
   },
   {
    "duration": 936,
    "start_time": "2021-11-13T20:02:13.523Z"
   },
   {
    "duration": 808,
    "start_time": "2021-11-13T20:02:14.463Z"
   },
   {
    "duration": 15,
    "start_time": "2021-11-13T20:02:15.274Z"
   },
   {
    "duration": 1121,
    "start_time": "2021-11-13T20:02:15.292Z"
   },
   {
    "duration": 80,
    "start_time": "2021-11-13T20:02:16.416Z"
   },
   {
    "duration": 2005,
    "start_time": "2021-11-13T20:02:16.499Z"
   },
   {
    "duration": 5,
    "start_time": "2021-11-13T20:02:18.507Z"
   },
   {
    "duration": 53,
    "start_time": "2021-11-13T20:02:18.515Z"
   },
   {
    "duration": 24,
    "start_time": "2021-11-13T20:02:18.571Z"
   },
   {
    "duration": 361,
    "start_time": "2021-11-13T20:02:18.598Z"
   },
   {
    "duration": 1044,
    "start_time": "2021-11-13T20:02:18.966Z"
   },
   {
    "duration": 61,
    "start_time": "2021-11-13T20:02:20.013Z"
   },
   {
    "duration": 542,
    "start_time": "2021-11-13T20:02:20.078Z"
   },
   {
    "duration": 566,
    "start_time": "2021-11-13T20:02:20.623Z"
   },
   {
    "duration": 121,
    "start_time": "2021-11-13T20:02:21.070Z"
   },
   {
    "duration": 118,
    "start_time": "2021-11-13T20:02:21.075Z"
   },
   {
    "duration": 50,
    "start_time": "2021-11-13T20:04:52.835Z"
   },
   {
    "duration": 50,
    "start_time": "2021-11-13T20:04:58.044Z"
   },
   {
    "duration": 44,
    "start_time": "2021-11-13T20:05:23.957Z"
   },
   {
    "duration": 56,
    "start_time": "2021-11-13T20:05:26.428Z"
   },
   {
    "duration": 450,
    "start_time": "2021-11-13T20:05:46.113Z"
   },
   {
    "duration": 1355,
    "start_time": "2021-11-13T20:05:55.844Z"
   },
   {
    "duration": 543,
    "start_time": "2021-11-13T20:07:27.787Z"
   },
   {
    "duration": 1684,
    "start_time": "2021-11-13T20:07:32.654Z"
   },
   {
    "duration": 3,
    "start_time": "2021-11-13T20:07:34.341Z"
   },
   {
    "duration": 102,
    "start_time": "2021-11-13T20:07:34.347Z"
   },
   {
    "duration": 18,
    "start_time": "2021-11-13T20:07:34.452Z"
   },
   {
    "duration": 30,
    "start_time": "2021-11-13T20:07:34.473Z"
   },
   {
    "duration": 70,
    "start_time": "2021-11-13T20:07:34.505Z"
   },
   {
    "duration": 532,
    "start_time": "2021-11-13T20:07:34.578Z"
   },
   {
    "duration": 14,
    "start_time": "2021-11-13T20:07:35.113Z"
   },
   {
    "duration": 518,
    "start_time": "2021-11-13T20:07:35.131Z"
   },
   {
    "duration": 18,
    "start_time": "2021-11-13T20:07:35.662Z"
   },
   {
    "duration": 10,
    "start_time": "2021-11-13T20:07:35.682Z"
   },
   {
    "duration": 398,
    "start_time": "2021-11-13T20:07:35.695Z"
   },
   {
    "duration": 5,
    "start_time": "2021-11-13T20:07:36.096Z"
   },
   {
    "duration": 21,
    "start_time": "2021-11-13T20:07:36.104Z"
   },
   {
    "duration": 37,
    "start_time": "2021-11-13T20:07:36.129Z"
   },
   {
    "duration": 24,
    "start_time": "2021-11-13T20:07:36.169Z"
   },
   {
    "duration": 611,
    "start_time": "2021-11-13T20:07:36.195Z"
   },
   {
    "duration": 590,
    "start_time": "2021-11-13T20:07:36.808Z"
   },
   {
    "duration": 11,
    "start_time": "2021-11-13T20:07:37.400Z"
   },
   {
    "duration": 819,
    "start_time": "2021-11-13T20:07:37.413Z"
   },
   {
    "duration": 82,
    "start_time": "2021-11-13T20:07:38.236Z"
   },
   {
    "duration": 1315,
    "start_time": "2021-11-13T20:07:38.321Z"
   },
   {
    "duration": 3,
    "start_time": "2021-11-13T20:07:39.639Z"
   },
   {
    "duration": 38,
    "start_time": "2021-11-13T20:07:39.645Z"
   },
   {
    "duration": 16,
    "start_time": "2021-11-13T20:07:39.686Z"
   },
   {
    "duration": 241,
    "start_time": "2021-11-13T20:07:39.705Z"
   },
   {
    "duration": 1090,
    "start_time": "2021-11-13T20:07:39.951Z"
   },
   {
    "duration": 83,
    "start_time": "2021-11-13T20:07:41.044Z"
   },
   {
    "duration": 553,
    "start_time": "2021-11-13T20:07:41.130Z"
   },
   {
    "duration": 719,
    "start_time": "2021-11-13T20:07:41.685Z"
   },
   {
    "duration": 81,
    "start_time": "2021-11-13T20:07:42.326Z"
   },
   {
    "duration": 82,
    "start_time": "2021-11-13T20:07:42.327Z"
   },
   {
    "duration": 427,
    "start_time": "2021-11-13T20:07:56.615Z"
   },
   {
    "duration": 415,
    "start_time": "2021-11-13T20:08:38.270Z"
   },
   {
    "duration": 28,
    "start_time": "2021-11-13T20:11:18.270Z"
   },
   {
    "duration": 507,
    "start_time": "2021-11-13T20:11:33.311Z"
   },
   {
    "duration": 374,
    "start_time": "2021-11-13T20:11:38.872Z"
   },
   {
    "duration": 1649,
    "start_time": "2021-11-13T20:11:48.550Z"
   },
   {
    "duration": 3,
    "start_time": "2021-11-13T20:11:50.202Z"
   },
   {
    "duration": 102,
    "start_time": "2021-11-13T20:11:50.208Z"
   },
   {
    "duration": 7,
    "start_time": "2021-11-13T20:11:50.312Z"
   },
   {
    "duration": 52,
    "start_time": "2021-11-13T20:11:50.322Z"
   },
   {
    "duration": 39,
    "start_time": "2021-11-13T20:11:50.376Z"
   },
   {
    "duration": 528,
    "start_time": "2021-11-13T20:11:50.418Z"
   },
   {
    "duration": 16,
    "start_time": "2021-11-13T20:11:50.950Z"
   },
   {
    "duration": 521,
    "start_time": "2021-11-13T20:11:50.970Z"
   },
   {
    "duration": 11,
    "start_time": "2021-11-13T20:11:51.494Z"
   },
   {
    "duration": 10,
    "start_time": "2021-11-13T20:11:51.507Z"
   },
   {
    "duration": 394,
    "start_time": "2021-11-13T20:11:51.519Z"
   },
   {
    "duration": 4,
    "start_time": "2021-11-13T20:11:51.915Z"
   },
   {
    "duration": 18,
    "start_time": "2021-11-13T20:11:51.921Z"
   },
   {
    "duration": 31,
    "start_time": "2021-11-13T20:11:51.941Z"
   },
   {
    "duration": 15,
    "start_time": "2021-11-13T20:11:51.975Z"
   },
   {
    "duration": 583,
    "start_time": "2021-11-13T20:11:51.992Z"
   },
   {
    "duration": 658,
    "start_time": "2021-11-13T20:11:52.578Z"
   },
   {
    "duration": 26,
    "start_time": "2021-11-13T20:11:53.239Z"
   },
   {
    "duration": 728,
    "start_time": "2021-11-13T20:11:53.269Z"
   },
   {
    "duration": 42,
    "start_time": "2021-11-13T20:11:53.999Z"
   },
   {
    "duration": 1282,
    "start_time": "2021-11-13T20:11:54.044Z"
   },
   {
    "duration": 4,
    "start_time": "2021-11-13T20:11:55.330Z"
   },
   {
    "duration": 42,
    "start_time": "2021-11-13T20:11:55.336Z"
   },
   {
    "duration": 16,
    "start_time": "2021-11-13T20:11:55.381Z"
   },
   {
    "duration": 246,
    "start_time": "2021-11-13T20:11:55.399Z"
   },
   {
    "duration": 1146,
    "start_time": "2021-11-13T20:11:55.647Z"
   },
   {
    "duration": 590,
    "start_time": "2021-11-13T20:11:56.795Z"
   },
   {
    "duration": 80,
    "start_time": "2021-11-13T20:11:57.307Z"
   },
   {
    "duration": 76,
    "start_time": "2021-11-13T20:11:57.313Z"
   },
   {
    "duration": 74,
    "start_time": "2021-11-13T20:11:57.316Z"
   },
   {
    "duration": 73,
    "start_time": "2021-11-13T20:11:57.318Z"
   },
   {
    "duration": 56,
    "start_time": "2021-11-13T20:13:47.647Z"
   },
   {
    "duration": 474,
    "start_time": "2021-11-13T20:15:07.249Z"
   },
   {
    "duration": 482,
    "start_time": "2021-11-13T20:15:15.044Z"
   },
   {
    "duration": 1931,
    "start_time": "2021-11-13T20:15:17.799Z"
   },
   {
    "duration": 1707,
    "start_time": "2021-11-13T20:15:36.126Z"
   },
   {
    "duration": 4,
    "start_time": "2021-11-13T20:15:37.836Z"
   },
   {
    "duration": 102,
    "start_time": "2021-11-13T20:15:37.843Z"
   },
   {
    "duration": 7,
    "start_time": "2021-11-13T20:15:37.948Z"
   },
   {
    "duration": 43,
    "start_time": "2021-11-13T20:15:37.959Z"
   },
   {
    "duration": 41,
    "start_time": "2021-11-13T20:15:38.005Z"
   },
   {
    "duration": 536,
    "start_time": "2021-11-13T20:15:38.048Z"
   },
   {
    "duration": 14,
    "start_time": "2021-11-13T20:15:38.587Z"
   },
   {
    "duration": 510,
    "start_time": "2021-11-13T20:15:38.607Z"
   },
   {
    "duration": 11,
    "start_time": "2021-11-13T20:15:39.120Z"
   },
   {
    "duration": 27,
    "start_time": "2021-11-13T20:15:39.133Z"
   },
   {
    "duration": 375,
    "start_time": "2021-11-13T20:15:39.164Z"
   },
   {
    "duration": 4,
    "start_time": "2021-11-13T20:15:39.541Z"
   },
   {
    "duration": 25,
    "start_time": "2021-11-13T20:15:39.559Z"
   },
   {
    "duration": 9,
    "start_time": "2021-11-13T20:15:39.586Z"
   },
   {
    "duration": 13,
    "start_time": "2021-11-13T20:15:39.597Z"
   },
   {
    "duration": 690,
    "start_time": "2021-11-13T20:15:39.613Z"
   },
   {
    "duration": 554,
    "start_time": "2021-11-13T20:15:40.305Z"
   },
   {
    "duration": 14,
    "start_time": "2021-11-13T20:15:40.863Z"
   },
   {
    "duration": 824,
    "start_time": "2021-11-13T20:15:40.880Z"
   },
   {
    "duration": 58,
    "start_time": "2021-11-13T20:15:41.706Z"
   },
   {
    "duration": 1604,
    "start_time": "2021-11-13T20:15:41.767Z"
   },
   {
    "duration": 5,
    "start_time": "2021-11-13T20:15:43.375Z"
   },
   {
    "duration": 35,
    "start_time": "2021-11-13T20:15:43.383Z"
   },
   {
    "duration": 22,
    "start_time": "2021-11-13T20:15:43.421Z"
   },
   {
    "duration": 261,
    "start_time": "2021-11-13T20:15:43.445Z"
   },
   {
    "duration": 1088,
    "start_time": "2021-11-13T20:15:43.711Z"
   },
   {
    "duration": 49,
    "start_time": "2021-11-13T20:15:44.802Z"
   },
   {
    "duration": 9,
    "start_time": "2021-11-13T20:15:44.854Z"
   },
   {
    "duration": 507,
    "start_time": "2021-11-13T20:15:44.867Z"
   },
   {
    "duration": 30,
    "start_time": "2021-11-13T20:15:45.376Z"
   },
   {
    "duration": 586,
    "start_time": "2021-11-13T20:15:45.408Z"
   },
   {
    "duration": 24,
    "start_time": "2021-11-13T20:15:45.996Z"
   },
   {
    "duration": 4,
    "start_time": "2021-11-13T20:15:54.494Z"
   },
   {
    "duration": 7,
    "start_time": "2021-11-13T20:15:57.902Z"
   },
   {
    "duration": 59,
    "start_time": "2021-11-13T20:16:01.969Z"
   },
   {
    "duration": 47,
    "start_time": "2021-11-13T20:16:15.650Z"
   },
   {
    "duration": 48,
    "start_time": "2021-11-13T20:18:16.436Z"
   },
   {
    "duration": 531,
    "start_time": "2021-11-13T20:18:36.839Z"
   },
   {
    "duration": 144,
    "start_time": "2021-11-13T20:19:57.653Z"
   },
   {
    "duration": 437,
    "start_time": "2021-11-13T20:20:17.103Z"
   },
   {
    "duration": 62,
    "start_time": "2021-11-13T20:20:23.881Z"
   },
   {
    "duration": 1733,
    "start_time": "2021-11-13T20:20:30.085Z"
   },
   {
    "duration": 4,
    "start_time": "2021-11-13T20:20:31.821Z"
   },
   {
    "duration": 100,
    "start_time": "2021-11-13T20:20:31.829Z"
   },
   {
    "duration": 31,
    "start_time": "2021-11-13T20:20:31.933Z"
   },
   {
    "duration": 31,
    "start_time": "2021-11-13T20:20:31.969Z"
   },
   {
    "duration": 66,
    "start_time": "2021-11-13T20:20:32.003Z"
   },
   {
    "duration": 532,
    "start_time": "2021-11-13T20:20:32.073Z"
   },
   {
    "duration": 11,
    "start_time": "2021-11-13T20:20:32.608Z"
   },
   {
    "duration": 524,
    "start_time": "2021-11-13T20:20:32.623Z"
   },
   {
    "duration": 28,
    "start_time": "2021-11-13T20:20:33.150Z"
   },
   {
    "duration": 10,
    "start_time": "2021-11-13T20:20:33.181Z"
   },
   {
    "duration": 416,
    "start_time": "2021-11-13T20:20:33.194Z"
   },
   {
    "duration": 3,
    "start_time": "2021-11-13T20:20:33.612Z"
   },
   {
    "duration": 26,
    "start_time": "2021-11-13T20:20:33.617Z"
   },
   {
    "duration": 22,
    "start_time": "2021-11-13T20:20:33.645Z"
   },
   {
    "duration": 14,
    "start_time": "2021-11-13T20:20:33.670Z"
   },
   {
    "duration": 610,
    "start_time": "2021-11-13T20:20:33.686Z"
   },
   {
    "duration": 605,
    "start_time": "2021-11-13T20:20:34.299Z"
   },
   {
    "duration": 11,
    "start_time": "2021-11-13T20:20:34.906Z"
   },
   {
    "duration": 760,
    "start_time": "2021-11-13T20:20:34.920Z"
   },
   {
    "duration": 46,
    "start_time": "2021-11-13T20:20:35.682Z"
   },
   {
    "duration": 1385,
    "start_time": "2021-11-13T20:20:35.730Z"
   },
   {
    "duration": 5,
    "start_time": "2021-11-13T20:20:37.117Z"
   },
   {
    "duration": 42,
    "start_time": "2021-11-13T20:20:37.124Z"
   },
   {
    "duration": 21,
    "start_time": "2021-11-13T20:20:37.174Z"
   },
   {
    "duration": 348,
    "start_time": "2021-11-13T20:20:37.198Z"
   },
   {
    "duration": 1688,
    "start_time": "2021-11-13T20:20:37.553Z"
   },
   {
    "duration": 53,
    "start_time": "2021-11-13T20:20:39.243Z"
   },
   {
    "duration": 45,
    "start_time": "2021-11-13T20:20:39.299Z"
   },
   {
    "duration": 487,
    "start_time": "2021-11-13T20:20:39.347Z"
   },
   {
    "duration": 49,
    "start_time": "2021-11-13T20:20:39.837Z"
   },
   {
    "duration": 709,
    "start_time": "2021-11-13T20:20:39.889Z"
   },
   {
    "duration": 36,
    "start_time": "2021-11-13T20:20:40.601Z"
   },
   {
    "duration": 36,
    "start_time": "2021-11-13T20:21:05.298Z"
   },
   {
    "duration": 583,
    "start_time": "2021-11-13T20:22:47.930Z"
   },
   {
    "duration": 412,
    "start_time": "2021-11-13T20:23:02.112Z"
   },
   {
    "duration": 22,
    "start_time": "2021-11-13T20:23:08.014Z"
   },
   {
    "duration": 1766,
    "start_time": "2021-11-14T16:08:00.494Z"
   },
   {
    "duration": 4,
    "start_time": "2021-11-14T16:08:02.263Z"
   },
   {
    "duration": 90,
    "start_time": "2021-11-14T16:08:02.270Z"
   },
   {
    "duration": 7,
    "start_time": "2021-11-14T16:08:02.363Z"
   },
   {
    "duration": 49,
    "start_time": "2021-11-14T16:08:02.373Z"
   },
   {
    "duration": 41,
    "start_time": "2021-11-14T16:08:02.425Z"
   },
   {
    "duration": 507,
    "start_time": "2021-11-14T16:08:02.468Z"
   },
   {
    "duration": 13,
    "start_time": "2021-11-14T16:08:02.981Z"
   },
   {
    "duration": 612,
    "start_time": "2021-11-14T16:08:02.999Z"
   },
   {
    "duration": 15,
    "start_time": "2021-11-14T16:08:03.614Z"
   },
   {
    "duration": 11,
    "start_time": "2021-11-14T16:08:03.632Z"
   },
   {
    "duration": 387,
    "start_time": "2021-11-14T16:08:03.645Z"
   },
   {
    "duration": 4,
    "start_time": "2021-11-14T16:08:04.034Z"
   },
   {
    "duration": 19,
    "start_time": "2021-11-14T16:08:04.040Z"
   },
   {
    "duration": 7,
    "start_time": "2021-11-14T16:08:04.061Z"
   },
   {
    "duration": 18,
    "start_time": "2021-11-14T16:08:04.070Z"
   },
   {
    "duration": 585,
    "start_time": "2021-11-14T16:08:04.122Z"
   },
   {
    "duration": 737,
    "start_time": "2021-11-14T16:08:04.710Z"
   },
   {
    "duration": 15,
    "start_time": "2021-11-14T16:08:05.450Z"
   },
   {
    "duration": 711,
    "start_time": "2021-11-14T16:08:05.467Z"
   },
   {
    "duration": 62,
    "start_time": "2021-11-14T16:08:06.181Z"
   },
   {
    "duration": 1185,
    "start_time": "2021-11-14T16:08:06.245Z"
   },
   {
    "duration": 4,
    "start_time": "2021-11-14T16:08:07.435Z"
   },
   {
    "duration": 25,
    "start_time": "2021-11-14T16:08:07.442Z"
   },
   {
    "duration": 24,
    "start_time": "2021-11-14T16:08:07.470Z"
   },
   {
    "duration": 251,
    "start_time": "2021-11-14T16:08:07.497Z"
   },
   {
    "duration": 1558,
    "start_time": "2021-11-14T16:08:07.751Z"
   },
   {
    "duration": 49,
    "start_time": "2021-11-14T16:08:09.311Z"
   },
   {
    "duration": 31,
    "start_time": "2021-11-14T16:08:09.362Z"
   },
   {
    "duration": 460,
    "start_time": "2021-11-14T16:08:09.395Z"
   },
   {
    "duration": 28,
    "start_time": "2021-11-14T16:08:09.858Z"
   },
   {
    "duration": 468,
    "start_time": "2021-11-14T16:08:09.888Z"
   },
   {
    "duration": 24,
    "start_time": "2021-11-14T16:08:10.358Z"
   },
   {
    "duration": 6,
    "start_time": "2021-11-14T16:21:26.578Z"
   },
   {
    "duration": 9757,
    "start_time": "2021-11-14T16:21:46.588Z"
   },
   {
    "duration": 438,
    "start_time": "2021-11-14T16:21:59.372Z"
   },
   {
    "duration": 29,
    "start_time": "2021-11-14T16:22:06.599Z"
   },
   {
    "duration": 39,
    "start_time": "2021-11-14T16:22:11.192Z"
   },
   {
    "duration": 6,
    "start_time": "2021-11-14T16:23:13.736Z"
   },
   {
    "duration": 379,
    "start_time": "2021-11-14T16:23:25.822Z"
   },
   {
    "duration": 39,
    "start_time": "2021-11-14T16:25:34.319Z"
   },
   {
    "duration": 40,
    "start_time": "2021-11-14T16:25:49.956Z"
   },
   {
    "duration": 40,
    "start_time": "2021-11-14T16:26:32.451Z"
   },
   {
    "duration": 301,
    "start_time": "2021-11-14T16:26:40.295Z"
   },
   {
    "duration": 37,
    "start_time": "2021-11-14T16:26:46.103Z"
   },
   {
    "duration": 23,
    "start_time": "2021-11-14T16:27:16.489Z"
   },
   {
    "duration": 309,
    "start_time": "2021-11-14T16:27:42.668Z"
   },
   {
    "duration": 310,
    "start_time": "2021-11-14T16:27:51.362Z"
   },
   {
    "duration": 305,
    "start_time": "2021-11-14T16:27:57.890Z"
   },
   {
    "duration": 32,
    "start_time": "2021-11-14T16:32:31.295Z"
   },
   {
    "duration": 44,
    "start_time": "2021-11-14T16:32:35.121Z"
   },
   {
    "duration": 382,
    "start_time": "2021-11-14T16:32:43.550Z"
   },
   {
    "duration": 43,
    "start_time": "2021-11-14T16:32:52.511Z"
   },
   {
    "duration": 35,
    "start_time": "2021-11-14T16:32:59.595Z"
   },
   {
    "duration": 52,
    "start_time": "2021-11-14T16:33:33.554Z"
   },
   {
    "duration": 40,
    "start_time": "2021-11-14T16:36:45.306Z"
   },
   {
    "duration": 1627,
    "start_time": "2021-11-14T16:44:13.487Z"
   },
   {
    "duration": 5,
    "start_time": "2021-11-14T16:44:15.117Z"
   },
   {
    "duration": 84,
    "start_time": "2021-11-14T16:44:15.129Z"
   },
   {
    "duration": 7,
    "start_time": "2021-11-14T16:44:15.223Z"
   },
   {
    "duration": 26,
    "start_time": "2021-11-14T16:44:15.232Z"
   },
   {
    "duration": 66,
    "start_time": "2021-11-14T16:44:15.261Z"
   },
   {
    "duration": 611,
    "start_time": "2021-11-14T16:44:15.331Z"
   },
   {
    "duration": 16,
    "start_time": "2021-11-14T16:44:15.946Z"
   },
   {
    "duration": 502,
    "start_time": "2021-11-14T16:44:15.965Z"
   },
   {
    "duration": 12,
    "start_time": "2021-11-14T16:44:16.470Z"
   },
   {
    "duration": 10,
    "start_time": "2021-11-14T16:44:16.484Z"
   },
   {
    "duration": 349,
    "start_time": "2021-11-14T16:44:16.523Z"
   },
   {
    "duration": 4,
    "start_time": "2021-11-14T16:44:16.874Z"
   },
   {
    "duration": 19,
    "start_time": "2021-11-14T16:44:16.880Z"
   },
   {
    "duration": 23,
    "start_time": "2021-11-14T16:44:16.901Z"
   },
   {
    "duration": 11,
    "start_time": "2021-11-14T16:44:16.927Z"
   },
   {
    "duration": 565,
    "start_time": "2021-11-14T16:44:16.940Z"
   },
   {
    "duration": 542,
    "start_time": "2021-11-14T16:44:17.507Z"
   },
   {
    "duration": 10,
    "start_time": "2021-11-14T16:44:18.052Z"
   },
   {
    "duration": 689,
    "start_time": "2021-11-14T16:44:18.064Z"
   },
   {
    "duration": 45,
    "start_time": "2021-11-14T16:44:18.756Z"
   },
   {
    "duration": 1167,
    "start_time": "2021-11-14T16:44:18.822Z"
   },
   {
    "duration": 4,
    "start_time": "2021-11-14T16:44:19.993Z"
   },
   {
    "duration": 40,
    "start_time": "2021-11-14T16:44:19.999Z"
   },
   {
    "duration": 19,
    "start_time": "2021-11-14T16:44:20.042Z"
   },
   {
    "duration": 231,
    "start_time": "2021-11-14T16:44:20.064Z"
   },
   {
    "duration": 1381,
    "start_time": "2021-11-14T16:44:20.297Z"
   },
   {
    "duration": 48,
    "start_time": "2021-11-14T16:44:21.680Z"
   },
   {
    "duration": 506,
    "start_time": "2021-11-14T16:44:21.730Z"
   },
   {
    "duration": 1926,
    "start_time": "2021-11-14T16:44:20.312Z"
   },
   {
    "duration": 1921,
    "start_time": "2021-11-14T16:44:20.318Z"
   },
   {
    "duration": 1916,
    "start_time": "2021-11-14T16:44:20.324Z"
   },
   {
    "duration": 1913,
    "start_time": "2021-11-14T16:44:20.329Z"
   },
   {
    "duration": 1909,
    "start_time": "2021-11-14T16:44:20.334Z"
   },
   {
    "duration": 1906,
    "start_time": "2021-11-14T16:44:20.338Z"
   },
   {
    "duration": 25,
    "start_time": "2021-11-14T16:44:43.044Z"
   },
   {
    "duration": 340,
    "start_time": "2021-11-14T16:45:00.750Z"
   },
   {
    "duration": 41,
    "start_time": "2021-11-14T16:45:10.583Z"
   },
   {
    "duration": 44,
    "start_time": "2021-11-14T16:45:31.015Z"
   },
   {
    "duration": 42,
    "start_time": "2021-11-14T16:45:42.429Z"
   },
   {
    "duration": 325,
    "start_time": "2021-11-14T16:46:22.261Z"
   },
   {
    "duration": 48,
    "start_time": "2021-11-14T16:46:32.884Z"
   },
   {
    "duration": 32,
    "start_time": "2021-11-14T16:46:54.195Z"
   },
   {
    "duration": 32,
    "start_time": "2021-11-14T16:47:00.483Z"
   },
   {
    "duration": 351,
    "start_time": "2021-11-14T16:47:09.426Z"
   },
   {
    "duration": 33,
    "start_time": "2021-11-14T16:47:12.893Z"
   },
   {
    "duration": 41,
    "start_time": "2021-11-14T16:47:24.678Z"
   },
   {
    "duration": 26,
    "start_time": "2021-11-14T16:49:38.490Z"
   },
   {
    "duration": 31,
    "start_time": "2021-11-14T16:49:55.136Z"
   },
   {
    "duration": 25,
    "start_time": "2021-11-14T16:50:04.224Z"
   },
   {
    "duration": 39,
    "start_time": "2021-11-14T16:50:09.410Z"
   },
   {
    "duration": 444,
    "start_time": "2021-11-14T16:54:10.585Z"
   },
   {
    "duration": 6,
    "start_time": "2021-11-14T16:54:21.230Z"
   },
   {
    "duration": 451,
    "start_time": "2021-11-14T16:54:47.552Z"
   },
   {
    "duration": 453,
    "start_time": "2021-11-14T16:54:52.584Z"
   },
   {
    "duration": 300,
    "start_time": "2021-11-14T16:58:36.931Z"
   },
   {
    "duration": 21,
    "start_time": "2021-11-14T16:58:42.032Z"
   },
   {
    "duration": 30,
    "start_time": "2021-11-14T16:58:46.355Z"
   },
   {
    "duration": 12,
    "start_time": "2021-11-14T17:01:05.339Z"
   },
   {
    "duration": 34,
    "start_time": "2021-11-14T17:01:09.524Z"
   },
   {
    "duration": 20,
    "start_time": "2021-11-14T17:01:20.678Z"
   },
   {
    "duration": 8349,
    "start_time": "2021-11-14T17:01:42.512Z"
   },
   {
    "duration": 9390,
    "start_time": "2021-11-14T17:01:57.328Z"
   },
   {
    "duration": 1573,
    "start_time": "2021-11-14T17:03:35.241Z"
   },
   {
    "duration": 7,
    "start_time": "2021-11-14T17:03:36.816Z"
   },
   {
    "duration": 88,
    "start_time": "2021-11-14T17:03:36.826Z"
   },
   {
    "duration": 8,
    "start_time": "2021-11-14T17:03:36.921Z"
   },
   {
    "duration": 27,
    "start_time": "2021-11-14T17:03:36.931Z"
   },
   {
    "duration": 72,
    "start_time": "2021-11-14T17:03:36.961Z"
   },
   {
    "duration": 501,
    "start_time": "2021-11-14T17:03:37.036Z"
   },
   {
    "duration": 13,
    "start_time": "2021-11-14T17:03:37.543Z"
   },
   {
    "duration": 519,
    "start_time": "2021-11-14T17:03:37.560Z"
   },
   {
    "duration": 11,
    "start_time": "2021-11-14T17:03:38.082Z"
   },
   {
    "duration": 9,
    "start_time": "2021-11-14T17:03:38.095Z"
   },
   {
    "duration": 377,
    "start_time": "2021-11-14T17:03:38.106Z"
   },
   {
    "duration": 3,
    "start_time": "2021-11-14T17:03:38.486Z"
   },
   {
    "duration": 30,
    "start_time": "2021-11-14T17:03:38.492Z"
   },
   {
    "duration": 12,
    "start_time": "2021-11-14T17:03:38.525Z"
   },
   {
    "duration": 14,
    "start_time": "2021-11-14T17:03:38.539Z"
   },
   {
    "duration": 553,
    "start_time": "2021-11-14T17:03:38.556Z"
   },
   {
    "duration": 521,
    "start_time": "2021-11-14T17:03:39.112Z"
   },
   {
    "duration": 11,
    "start_time": "2021-11-14T17:03:39.635Z"
   },
   {
    "duration": 804,
    "start_time": "2021-11-14T17:03:39.648Z"
   },
   {
    "duration": 46,
    "start_time": "2021-11-14T17:03:40.455Z"
   },
   {
    "duration": 1235,
    "start_time": "2021-11-14T17:03:40.523Z"
   },
   {
    "duration": 5,
    "start_time": "2021-11-14T17:03:41.765Z"
   },
   {
    "duration": 255,
    "start_time": "2021-11-14T17:03:41.774Z"
   },
   {
    "duration": 1086,
    "start_time": "2021-11-14T17:03:42.032Z"
   },
   {
    "duration": 46,
    "start_time": "2021-11-14T17:03:43.120Z"
   },
   {
    "duration": 46,
    "start_time": "2021-11-14T17:03:43.168Z"
   },
   {
    "duration": 451,
    "start_time": "2021-11-14T17:03:43.223Z"
   },
   {
    "duration": 498,
    "start_time": "2021-11-14T17:03:43.677Z"
   },
   {
    "duration": 1901,
    "start_time": "2021-11-14T17:03:42.277Z"
   },
   {
    "duration": 1898,
    "start_time": "2021-11-14T17:03:42.281Z"
   },
   {
    "duration": 1896,
    "start_time": "2021-11-14T17:03:42.284Z"
   },
   {
    "duration": 1894,
    "start_time": "2021-11-14T17:03:42.288Z"
   },
   {
    "duration": 1891,
    "start_time": "2021-11-14T17:03:42.292Z"
   },
   {
    "duration": 1888,
    "start_time": "2021-11-14T17:03:42.296Z"
   },
   {
    "duration": 1621,
    "start_time": "2021-11-14T17:05:53.391Z"
   },
   {
    "duration": 8,
    "start_time": "2021-11-14T17:05:55.014Z"
   },
   {
    "duration": 89,
    "start_time": "2021-11-14T17:05:55.025Z"
   },
   {
    "duration": 10,
    "start_time": "2021-11-14T17:05:55.117Z"
   },
   {
    "duration": 25,
    "start_time": "2021-11-14T17:05:55.129Z"
   },
   {
    "duration": 41,
    "start_time": "2021-11-14T17:05:55.156Z"
   },
   {
    "duration": 502,
    "start_time": "2021-11-14T17:05:55.223Z"
   },
   {
    "duration": 13,
    "start_time": "2021-11-14T17:05:55.729Z"
   },
   {
    "duration": 523,
    "start_time": "2021-11-14T17:05:55.745Z"
   },
   {
    "duration": 11,
    "start_time": "2021-11-14T17:05:56.270Z"
   },
   {
    "duration": 15,
    "start_time": "2021-11-14T17:05:56.284Z"
   },
   {
    "duration": 375,
    "start_time": "2021-11-14T17:05:56.323Z"
   },
   {
    "duration": 4,
    "start_time": "2021-11-14T17:05:56.703Z"
   },
   {
    "duration": 28,
    "start_time": "2021-11-14T17:05:56.709Z"
   },
   {
    "duration": 6,
    "start_time": "2021-11-14T17:05:56.739Z"
   },
   {
    "duration": 10,
    "start_time": "2021-11-14T17:05:56.748Z"
   },
   {
    "duration": 689,
    "start_time": "2021-11-14T17:05:56.761Z"
   },
   {
    "duration": 534,
    "start_time": "2021-11-14T17:05:57.453Z"
   },
   {
    "duration": 10,
    "start_time": "2021-11-14T17:05:57.990Z"
   },
   {
    "duration": 682,
    "start_time": "2021-11-14T17:05:58.002Z"
   },
   {
    "duration": 61,
    "start_time": "2021-11-14T17:05:58.687Z"
   },
   {
    "duration": 1171,
    "start_time": "2021-11-14T17:05:58.751Z"
   },
   {
    "duration": 4,
    "start_time": "2021-11-14T17:05:59.927Z"
   },
   {
    "duration": 237,
    "start_time": "2021-11-14T17:05:59.934Z"
   },
   {
    "duration": 860,
    "start_time": "2021-11-14T17:06:00.174Z"
   },
   {
    "duration": 48,
    "start_time": "2021-11-14T17:06:01.036Z"
   },
   {
    "duration": 69,
    "start_time": "2021-11-14T17:06:01.086Z"
   },
   {
    "duration": 465,
    "start_time": "2021-11-14T17:06:01.157Z"
   },
   {
    "duration": 482,
    "start_time": "2021-11-14T17:06:01.624Z"
   },
   {
    "duration": 1866,
    "start_time": "2021-11-14T17:06:00.242Z"
   },
   {
    "duration": 1865,
    "start_time": "2021-11-14T17:06:00.245Z"
   },
   {
    "duration": 1858,
    "start_time": "2021-11-14T17:06:00.253Z"
   },
   {
    "duration": 1856,
    "start_time": "2021-11-14T17:06:00.256Z"
   },
   {
    "duration": 1855,
    "start_time": "2021-11-14T17:06:00.259Z"
   },
   {
    "duration": 1854,
    "start_time": "2021-11-14T17:06:00.261Z"
   },
   {
    "duration": 384,
    "start_time": "2021-11-14T17:07:29.974Z"
   },
   {
    "duration": 25,
    "start_time": "2021-11-14T17:13:04.085Z"
   },
   {
    "duration": 31,
    "start_time": "2021-11-14T17:13:47.656Z"
   },
   {
    "duration": 27,
    "start_time": "2021-11-14T17:13:53.272Z"
   },
   {
    "duration": 4,
    "start_time": "2021-11-14T17:14:20.513Z"
   },
   {
    "duration": 7,
    "start_time": "2021-11-14T17:15:09.931Z"
   },
   {
    "duration": 42,
    "start_time": "2021-11-14T17:19:31.423Z"
   },
   {
    "duration": 35,
    "start_time": "2021-11-14T17:19:43.652Z"
   },
   {
    "duration": 32,
    "start_time": "2021-11-14T17:20:16.864Z"
   },
   {
    "duration": 333,
    "start_time": "2021-11-14T17:20:22.485Z"
   },
   {
    "duration": 31,
    "start_time": "2021-11-14T17:20:24.934Z"
   },
   {
    "duration": 32,
    "start_time": "2021-11-14T17:21:43.177Z"
   },
   {
    "duration": 32,
    "start_time": "2021-11-14T17:22:23.833Z"
   },
   {
    "duration": 41,
    "start_time": "2021-11-14T17:22:28.836Z"
   },
   {
    "duration": 42,
    "start_time": "2021-11-14T17:22:46.490Z"
   },
   {
    "duration": 9461,
    "start_time": "2021-11-14T17:29:05.844Z"
   },
   {
    "duration": 445,
    "start_time": "2021-11-14T17:29:41.800Z"
   },
   {
    "duration": 109,
    "start_time": "2021-11-14T17:29:46.597Z"
   },
   {
    "duration": 543,
    "start_time": "2021-11-14T17:31:18.395Z"
   },
   {
    "duration": 3,
    "start_time": "2021-11-14T17:31:44.132Z"
   },
   {
    "duration": 425,
    "start_time": "2021-11-14T17:33:01.568Z"
   },
   {
    "duration": 4097,
    "start_time": "2021-11-14T17:33:13.102Z"
   },
   {
    "duration": 4024,
    "start_time": "2021-11-14T17:33:20.391Z"
   },
   {
    "duration": 20,
    "start_time": "2021-11-14T17:35:01.719Z"
   },
   {
    "duration": 8787,
    "start_time": "2021-11-14T17:35:15.931Z"
   },
   {
    "duration": 525,
    "start_time": "2021-11-14T17:35:25.640Z"
   },
   {
    "duration": 444,
    "start_time": "2021-11-14T17:35:49.473Z"
   },
   {
    "duration": 667,
    "start_time": "2021-11-14T17:35:57.772Z"
   },
   {
    "duration": 321,
    "start_time": "2021-11-14T17:37:00.704Z"
   },
   {
    "duration": 967,
    "start_time": "2021-11-14T17:37:07.359Z"
   },
   {
    "duration": 730,
    "start_time": "2021-11-14T17:37:25.462Z"
   },
   {
    "duration": 738,
    "start_time": "2021-11-14T17:55:23.859Z"
   },
   {
    "duration": 452,
    "start_time": "2021-11-14T17:55:32.697Z"
   },
   {
    "duration": 745,
    "start_time": "2021-11-14T17:58:29.902Z"
   },
   {
    "duration": 279,
    "start_time": "2021-11-14T17:59:43.823Z"
   },
   {
    "duration": 8,
    "start_time": "2021-11-14T17:59:47.632Z"
   },
   {
    "duration": 393,
    "start_time": "2021-11-14T18:00:10.567Z"
   },
   {
    "duration": 302,
    "start_time": "2021-11-14T18:01:03.786Z"
   },
   {
    "duration": 13549,
    "start_time": "2021-11-14T18:02:24.850Z"
   },
   {
    "duration": 1606,
    "start_time": "2021-11-14T18:03:48.811Z"
   },
   {
    "duration": 4,
    "start_time": "2021-11-14T18:03:50.419Z"
   },
   {
    "duration": 99,
    "start_time": "2021-11-14T18:03:50.426Z"
   },
   {
    "duration": 7,
    "start_time": "2021-11-14T18:03:50.527Z"
   },
   {
    "duration": 34,
    "start_time": "2021-11-14T18:03:50.537Z"
   },
   {
    "duration": 59,
    "start_time": "2021-11-14T18:03:50.573Z"
   },
   {
    "duration": 592,
    "start_time": "2021-11-14T18:03:50.634Z"
   },
   {
    "duration": 531,
    "start_time": "2021-11-14T18:03:51.231Z"
   },
   {
    "duration": 1875,
    "start_time": "2021-11-14T18:03:49.890Z"
   },
   {
    "duration": 1873,
    "start_time": "2021-11-14T18:03:49.894Z"
   },
   {
    "duration": 1857,
    "start_time": "2021-11-14T18:03:49.911Z"
   },
   {
    "duration": 1855,
    "start_time": "2021-11-14T18:03:49.915Z"
   },
   {
    "duration": 1854,
    "start_time": "2021-11-14T18:03:49.917Z"
   },
   {
    "duration": 1849,
    "start_time": "2021-11-14T18:03:49.923Z"
   },
   {
    "duration": 1849,
    "start_time": "2021-11-14T18:03:49.925Z"
   },
   {
    "duration": 1843,
    "start_time": "2021-11-14T18:03:49.932Z"
   },
   {
    "duration": 1843,
    "start_time": "2021-11-14T18:03:49.934Z"
   },
   {
    "duration": 1842,
    "start_time": "2021-11-14T18:03:49.936Z"
   },
   {
    "duration": 1842,
    "start_time": "2021-11-14T18:03:49.938Z"
   },
   {
    "duration": 1842,
    "start_time": "2021-11-14T18:03:49.940Z"
   },
   {
    "duration": 1838,
    "start_time": "2021-11-14T18:03:49.945Z"
   },
   {
    "duration": 1837,
    "start_time": "2021-11-14T18:03:49.947Z"
   },
   {
    "duration": 1837,
    "start_time": "2021-11-14T18:03:49.949Z"
   },
   {
    "duration": 1836,
    "start_time": "2021-11-14T18:03:49.951Z"
   },
   {
    "duration": 1837,
    "start_time": "2021-11-14T18:03:49.952Z"
   },
   {
    "duration": 1836,
    "start_time": "2021-11-14T18:03:49.954Z"
   },
   {
    "duration": 1835,
    "start_time": "2021-11-14T18:03:49.956Z"
   },
   {
    "duration": 1830,
    "start_time": "2021-11-14T18:03:49.963Z"
   },
   {
    "duration": 1827,
    "start_time": "2021-11-14T18:03:49.967Z"
   },
   {
    "duration": 1822,
    "start_time": "2021-11-14T18:03:49.973Z"
   },
   {
    "duration": 1822,
    "start_time": "2021-11-14T18:03:49.975Z"
   },
   {
    "duration": 1823,
    "start_time": "2021-11-14T18:03:49.977Z"
   },
   {
    "duration": 1823,
    "start_time": "2021-11-14T18:03:49.979Z"
   },
   {
    "duration": 1574,
    "start_time": "2021-11-14T18:04:12.178Z"
   },
   {
    "duration": 5,
    "start_time": "2021-11-14T18:04:13.755Z"
   },
   {
    "duration": 96,
    "start_time": "2021-11-14T18:04:13.764Z"
   },
   {
    "duration": 8,
    "start_time": "2021-11-14T18:04:13.864Z"
   },
   {
    "duration": 52,
    "start_time": "2021-11-14T18:04:13.874Z"
   },
   {
    "duration": 40,
    "start_time": "2021-11-14T18:04:13.929Z"
   },
   {
    "duration": 553,
    "start_time": "2021-11-14T18:04:13.972Z"
   },
   {
    "duration": 8,
    "start_time": "2021-11-14T18:04:14.528Z"
   },
   {
    "duration": 12764,
    "start_time": "2021-11-14T18:04:14.539Z"
   },
   {
    "duration": 10,
    "start_time": "2021-11-14T18:04:27.306Z"
   },
   {
    "duration": 380,
    "start_time": "2021-11-14T18:04:27.323Z"
   },
   {
    "duration": 3,
    "start_time": "2021-11-14T18:04:27.705Z"
   },
   {
    "duration": 16,
    "start_time": "2021-11-14T18:04:27.723Z"
   },
   {
    "duration": 7,
    "start_time": "2021-11-14T18:04:27.741Z"
   },
   {
    "duration": 15,
    "start_time": "2021-11-14T18:04:27.750Z"
   },
   {
    "duration": 645,
    "start_time": "2021-11-14T18:04:27.767Z"
   },
   {
    "duration": 462,
    "start_time": "2021-11-14T18:04:28.415Z"
   },
   {
    "duration": 11,
    "start_time": "2021-11-14T18:04:28.880Z"
   },
   {
    "duration": 709,
    "start_time": "2021-11-14T18:04:28.894Z"
   },
   {
    "duration": 53,
    "start_time": "2021-11-14T18:04:29.606Z"
   },
   {
    "duration": 1160,
    "start_time": "2021-11-14T18:04:29.662Z"
   },
   {
    "duration": 4,
    "start_time": "2021-11-14T18:04:30.824Z"
   },
   {
    "duration": 250,
    "start_time": "2021-11-14T18:04:30.833Z"
   },
   {
    "duration": 1111,
    "start_time": "2021-11-14T18:04:31.086Z"
   },
   {
    "duration": 45,
    "start_time": "2021-11-14T18:04:32.200Z"
   },
   {
    "duration": 466,
    "start_time": "2021-11-14T18:04:32.248Z"
   },
   {
    "duration": 68,
    "start_time": "2021-11-14T18:04:32.721Z"
   },
   {
    "duration": 54,
    "start_time": "2021-11-14T18:04:32.793Z"
   },
   {
    "duration": 6,
    "start_time": "2021-11-14T18:04:32.849Z"
   },
   {
    "duration": 7803,
    "start_time": "2021-11-14T18:04:32.858Z"
   },
   {
    "duration": 1811,
    "start_time": "2021-11-14T18:04:38.853Z"
   },
   {
    "duration": 1804,
    "start_time": "2021-11-14T18:04:38.862Z"
   },
   {
    "duration": 19,
    "start_time": "2021-11-14T18:05:22.625Z"
   },
   {
    "duration": 458,
    "start_time": "2021-11-14T18:05:24.203Z"
   },
   {
    "duration": 668,
    "start_time": "2021-11-14T18:05:24.663Z"
   },
   {
    "duration": 765,
    "start_time": "2021-11-14T18:20:58.148Z"
   },
   {
    "duration": 97,
    "start_time": "2021-11-14T18:32:30.234Z"
   },
   {
    "duration": 1588,
    "start_time": "2021-11-14T18:35:19.916Z"
   },
   {
    "duration": 5,
    "start_time": "2021-11-14T18:35:21.507Z"
   },
   {
    "duration": 90,
    "start_time": "2021-11-14T18:35:21.515Z"
   },
   {
    "duration": 14,
    "start_time": "2021-11-14T18:35:21.608Z"
   },
   {
    "duration": 25,
    "start_time": "2021-11-14T18:35:21.625Z"
   },
   {
    "duration": 40,
    "start_time": "2021-11-14T18:35:21.652Z"
   },
   {
    "duration": 507,
    "start_time": "2021-11-14T18:35:21.695Z"
   },
   {
    "duration": 16,
    "start_time": "2021-11-14T18:35:22.206Z"
   },
   {
    "duration": 12510,
    "start_time": "2021-11-14T18:35:22.225Z"
   },
   {
    "duration": 10,
    "start_time": "2021-11-14T18:35:34.738Z"
   },
   {
    "duration": 376,
    "start_time": "2021-11-14T18:35:34.751Z"
   },
   {
    "duration": 4,
    "start_time": "2021-11-14T18:35:35.129Z"
   },
   {
    "duration": 18,
    "start_time": "2021-11-14T18:35:35.135Z"
   },
   {
    "duration": 7,
    "start_time": "2021-11-14T18:35:35.155Z"
   },
   {
    "duration": 11,
    "start_time": "2021-11-14T18:35:35.165Z"
   },
   {
    "duration": 665,
    "start_time": "2021-11-14T18:35:35.178Z"
   },
   {
    "duration": 462,
    "start_time": "2021-11-14T18:35:35.845Z"
   },
   {
    "duration": 20,
    "start_time": "2021-11-14T18:35:36.309Z"
   },
   {
    "duration": 706,
    "start_time": "2021-11-14T18:35:36.332Z"
   },
   {
    "duration": 45,
    "start_time": "2021-11-14T18:35:37.041Z"
   },
   {
    "duration": 1221,
    "start_time": "2021-11-14T18:35:37.089Z"
   },
   {
    "duration": 229,
    "start_time": "2021-11-14T18:35:38.312Z"
   },
   {
    "duration": 1029,
    "start_time": "2021-11-14T18:35:38.545Z"
   },
   {
    "duration": 47,
    "start_time": "2021-11-14T18:35:39.577Z"
   },
   {
    "duration": 461,
    "start_time": "2021-11-14T18:35:39.626Z"
   },
   {
    "duration": 59,
    "start_time": "2021-11-14T18:35:40.090Z"
   },
   {
    "duration": 25,
    "start_time": "2021-11-14T18:35:40.151Z"
   },
   {
    "duration": 6,
    "start_time": "2021-11-14T18:35:40.178Z"
   },
   {
    "duration": 50,
    "start_time": "2021-11-14T18:35:40.186Z"
   },
   {
    "duration": 467,
    "start_time": "2021-11-14T18:35:40.238Z"
   },
   {
    "duration": 716,
    "start_time": "2021-11-14T18:35:40.707Z"
   },
   {
    "duration": 1287,
    "start_time": "2021-11-14T18:36:38.794Z"
   },
   {
    "duration": 12775,
    "start_time": "2021-11-14T18:36:48.374Z"
   },
   {
    "duration": 1411,
    "start_time": "2021-11-14T18:37:04.207Z"
   },
   {
    "duration": 1562,
    "start_time": "2021-11-15T07:42:24.913Z"
   },
   {
    "duration": 4,
    "start_time": "2021-11-15T07:42:26.478Z"
   },
   {
    "duration": 82,
    "start_time": "2021-11-15T07:42:26.484Z"
   },
   {
    "duration": 17,
    "start_time": "2021-11-15T07:42:26.568Z"
   },
   {
    "duration": 26,
    "start_time": "2021-11-15T07:42:26.595Z"
   },
   {
    "duration": 59,
    "start_time": "2021-11-15T07:42:26.624Z"
   },
   {
    "duration": 585,
    "start_time": "2021-11-15T07:42:26.686Z"
   },
   {
    "duration": 11,
    "start_time": "2021-11-15T07:42:27.275Z"
   },
   {
    "duration": 1282,
    "start_time": "2021-11-15T07:42:27.289Z"
   },
   {
    "duration": 21,
    "start_time": "2021-11-15T07:42:28.573Z"
   },
   {
    "duration": 369,
    "start_time": "2021-11-15T07:42:28.597Z"
   },
   {
    "duration": 3,
    "start_time": "2021-11-15T07:42:28.968Z"
   },
   {
    "duration": 26,
    "start_time": "2021-11-15T07:42:28.974Z"
   },
   {
    "duration": 8,
    "start_time": "2021-11-15T07:42:29.002Z"
   },
   {
    "duration": 13,
    "start_time": "2021-11-15T07:42:29.012Z"
   },
   {
    "duration": 573,
    "start_time": "2021-11-15T07:42:29.028Z"
   },
   {
    "duration": 522,
    "start_time": "2021-11-15T07:42:29.603Z"
   },
   {
    "duration": 10,
    "start_time": "2021-11-15T07:42:30.127Z"
   },
   {
    "duration": 711,
    "start_time": "2021-11-15T07:42:30.140Z"
   },
   {
    "duration": 59,
    "start_time": "2021-11-15T07:42:30.853Z"
   },
   {
    "duration": 1200,
    "start_time": "2021-11-15T07:42:30.914Z"
   },
   {
    "duration": 351,
    "start_time": "2021-11-15T07:42:32.116Z"
   },
   {
    "duration": 1066,
    "start_time": "2021-11-15T07:42:32.472Z"
   },
   {
    "duration": 45,
    "start_time": "2021-11-15T07:42:33.540Z"
   },
   {
    "duration": 463,
    "start_time": "2021-11-15T07:42:33.589Z"
   },
   {
    "duration": 62,
    "start_time": "2021-11-15T07:42:34.054Z"
   },
   {
    "duration": 22,
    "start_time": "2021-11-15T07:42:34.119Z"
   },
   {
    "duration": 6,
    "start_time": "2021-11-15T07:42:34.143Z"
   },
   {
    "duration": 50,
    "start_time": "2021-11-15T07:42:34.151Z"
   },
   {
    "duration": 487,
    "start_time": "2021-11-15T07:42:34.203Z"
   },
   {
    "duration": 697,
    "start_time": "2021-11-15T07:42:34.693Z"
   },
   {
    "duration": 1679,
    "start_time": "2021-11-15T17:54:18.385Z"
   },
   {
    "duration": 4,
    "start_time": "2021-11-15T17:54:20.067Z"
   },
   {
    "duration": 91,
    "start_time": "2021-11-15T17:54:20.082Z"
   },
   {
    "duration": 7,
    "start_time": "2021-11-15T17:54:20.176Z"
   },
   {
    "duration": 26,
    "start_time": "2021-11-15T17:54:20.186Z"
   },
   {
    "duration": 66,
    "start_time": "2021-11-15T17:54:20.215Z"
   },
   {
    "duration": 498,
    "start_time": "2021-11-15T17:54:20.284Z"
   },
   {
    "duration": 8,
    "start_time": "2021-11-15T17:54:20.785Z"
   },
   {
    "duration": 1249,
    "start_time": "2021-11-15T17:54:20.796Z"
   },
   {
    "duration": 10,
    "start_time": "2021-11-15T17:54:22.047Z"
   },
   {
    "duration": 378,
    "start_time": "2021-11-15T17:54:22.060Z"
   },
   {
    "duration": 3,
    "start_time": "2021-11-15T17:54:22.441Z"
   },
   {
    "duration": 19,
    "start_time": "2021-11-15T17:54:22.446Z"
   },
   {
    "duration": 19,
    "start_time": "2021-11-15T17:54:22.467Z"
   },
   {
    "duration": 11,
    "start_time": "2021-11-15T17:54:22.488Z"
   },
   {
    "duration": 574,
    "start_time": "2021-11-15T17:54:22.501Z"
   },
   {
    "duration": 533,
    "start_time": "2021-11-15T17:54:23.081Z"
   },
   {
    "duration": 13,
    "start_time": "2021-11-15T17:54:23.617Z"
   },
   {
    "duration": 711,
    "start_time": "2021-11-15T17:54:23.634Z"
   },
   {
    "duration": 64,
    "start_time": "2021-11-15T17:54:24.348Z"
   },
   {
    "duration": 1157,
    "start_time": "2021-11-15T17:54:24.415Z"
   },
   {
    "duration": 240,
    "start_time": "2021-11-15T17:54:25.574Z"
   },
   {
    "duration": 946,
    "start_time": "2021-11-15T17:54:25.821Z"
   },
   {
    "duration": 44,
    "start_time": "2021-11-15T17:54:26.770Z"
   },
   {
    "duration": 450,
    "start_time": "2021-11-15T17:54:26.816Z"
   },
   {
    "duration": 50,
    "start_time": "2021-11-15T17:54:27.268Z"
   },
   {
    "duration": 26,
    "start_time": "2021-11-15T17:54:27.320Z"
   },
   {
    "duration": 5,
    "start_time": "2021-11-15T17:54:27.348Z"
   },
   {
    "duration": 20,
    "start_time": "2021-11-15T17:54:27.382Z"
   },
   {
    "duration": 481,
    "start_time": "2021-11-15T17:54:27.404Z"
   },
   {
    "duration": 679,
    "start_time": "2021-11-15T17:54:27.888Z"
   },
   {
    "duration": 510,
    "start_time": "2021-11-15T17:59:02.167Z"
   },
   {
    "duration": 7,
    "start_time": "2021-11-15T18:00:20.712Z"
   },
   {
    "duration": 7,
    "start_time": "2021-11-15T18:00:23.232Z"
   },
   {
    "duration": 563,
    "start_time": "2021-11-15T18:00:37.869Z"
   },
   {
    "duration": 1747,
    "start_time": "2021-11-15T18:01:01.841Z"
   },
   {
    "duration": 4,
    "start_time": "2021-11-15T18:01:03.591Z"
   },
   {
    "duration": 102,
    "start_time": "2021-11-15T18:01:03.598Z"
   },
   {
    "duration": 7,
    "start_time": "2021-11-15T18:01:03.703Z"
   },
   {
    "duration": 35,
    "start_time": "2021-11-15T18:01:03.713Z"
   },
   {
    "duration": 66,
    "start_time": "2021-11-15T18:01:03.750Z"
   },
   {
    "duration": 504,
    "start_time": "2021-11-15T18:01:03.818Z"
   },
   {
    "duration": 9,
    "start_time": "2021-11-15T18:01:04.328Z"
   },
   {
    "duration": 1348,
    "start_time": "2021-11-15T18:01:04.340Z"
   },
   {
    "duration": 11,
    "start_time": "2021-11-15T18:01:05.690Z"
   },
   {
    "duration": 401,
    "start_time": "2021-11-15T18:01:05.704Z"
   },
   {
    "duration": 3,
    "start_time": "2021-11-15T18:01:06.107Z"
   },
   {
    "duration": 36,
    "start_time": "2021-11-15T18:01:06.112Z"
   },
   {
    "duration": 6,
    "start_time": "2021-11-15T18:01:06.151Z"
   },
   {
    "duration": 26,
    "start_time": "2021-11-15T18:01:06.160Z"
   },
   {
    "duration": 8,
    "start_time": "2021-11-15T18:01:06.189Z"
   },
   {
    "duration": 7,
    "start_time": "2021-11-15T18:01:06.199Z"
   },
   {
    "duration": 521,
    "start_time": "2021-11-15T18:01:06.209Z"
   },
   {
    "duration": 659,
    "start_time": "2021-11-15T18:01:06.732Z"
   },
   {
    "duration": 467,
    "start_time": "2021-11-15T18:01:07.393Z"
   },
   {
    "duration": 21,
    "start_time": "2021-11-15T18:01:07.862Z"
   },
   {
    "duration": 707,
    "start_time": "2021-11-15T18:01:07.885Z"
   },
   {
    "duration": 46,
    "start_time": "2021-11-15T18:01:08.597Z"
   },
   {
    "duration": 1217,
    "start_time": "2021-11-15T18:01:08.646Z"
   },
   {
    "duration": 241,
    "start_time": "2021-11-15T18:01:09.866Z"
   },
   {
    "duration": 932,
    "start_time": "2021-11-15T18:01:10.110Z"
   },
   {
    "duration": 46,
    "start_time": "2021-11-15T18:01:11.044Z"
   },
   {
    "duration": 457,
    "start_time": "2021-11-15T18:01:11.092Z"
   },
   {
    "duration": 60,
    "start_time": "2021-11-15T18:01:11.551Z"
   },
   {
    "duration": 27,
    "start_time": "2021-11-15T18:01:11.613Z"
   },
   {
    "duration": 6,
    "start_time": "2021-11-15T18:01:11.643Z"
   },
   {
    "duration": 50,
    "start_time": "2021-11-15T18:01:11.652Z"
   },
   {
    "duration": 471,
    "start_time": "2021-11-15T18:01:11.704Z"
   },
   {
    "duration": 716,
    "start_time": "2021-11-15T18:01:12.178Z"
   },
   {
    "duration": 13,
    "start_time": "2021-11-15T18:01:28.813Z"
   },
   {
    "duration": 1580,
    "start_time": "2021-11-15T18:04:13.701Z"
   },
   {
    "duration": 4,
    "start_time": "2021-11-15T18:04:15.283Z"
   },
   {
    "duration": 86,
    "start_time": "2021-11-15T18:04:15.289Z"
   },
   {
    "duration": 8,
    "start_time": "2021-11-15T18:04:15.378Z"
   },
   {
    "duration": 25,
    "start_time": "2021-11-15T18:04:15.388Z"
   },
   {
    "duration": 67,
    "start_time": "2021-11-15T18:04:15.415Z"
   },
   {
    "duration": 478,
    "start_time": "2021-11-15T18:04:15.484Z"
   },
   {
    "duration": 16,
    "start_time": "2021-11-15T18:04:15.965Z"
   },
   {
    "duration": 1401,
    "start_time": "2021-11-15T18:04:15.984Z"
   },
   {
    "duration": 11,
    "start_time": "2021-11-15T18:04:17.387Z"
   },
   {
    "duration": 385,
    "start_time": "2021-11-15T18:04:17.400Z"
   },
   {
    "duration": 3,
    "start_time": "2021-11-15T18:04:17.787Z"
   },
   {
    "duration": 30,
    "start_time": "2021-11-15T18:04:17.792Z"
   },
   {
    "duration": 7,
    "start_time": "2021-11-15T18:04:17.824Z"
   },
   {
    "duration": 16,
    "start_time": "2021-11-15T18:04:17.834Z"
   },
   {
    "duration": 30,
    "start_time": "2021-11-15T18:04:17.853Z"
   },
   {
    "duration": 15,
    "start_time": "2021-11-15T18:04:17.886Z"
   },
   {
    "duration": 613,
    "start_time": "2021-11-15T18:04:17.904Z"
   },
   {
    "duration": 650,
    "start_time": "2021-11-15T18:04:18.520Z"
   },
   {
    "duration": 487,
    "start_time": "2021-11-15T18:04:19.174Z"
   },
   {
    "duration": 23,
    "start_time": "2021-11-15T18:04:19.664Z"
   },
   {
    "duration": 714,
    "start_time": "2021-11-15T18:04:19.690Z"
   },
   {
    "duration": 49,
    "start_time": "2021-11-15T18:04:20.409Z"
   },
   {
    "duration": 1307,
    "start_time": "2021-11-15T18:04:20.461Z"
   },
   {
    "duration": 235,
    "start_time": "2021-11-15T18:04:21.770Z"
   },
   {
    "duration": 662,
    "start_time": "2021-11-15T18:04:22.008Z"
   },
   {
    "duration": 45,
    "start_time": "2021-11-15T18:04:22.673Z"
   },
   {
    "duration": 471,
    "start_time": "2021-11-15T18:04:22.720Z"
   },
   {
    "duration": 46,
    "start_time": "2021-11-15T18:04:23.194Z"
   },
   {
    "duration": 48,
    "start_time": "2021-11-15T18:04:23.242Z"
   },
   {
    "duration": 5,
    "start_time": "2021-11-15T18:04:23.292Z"
   },
   {
    "duration": 21,
    "start_time": "2021-11-15T18:04:23.299Z"
   },
   {
    "duration": 493,
    "start_time": "2021-11-15T18:04:23.323Z"
   },
   {
    "duration": 699,
    "start_time": "2021-11-15T18:04:23.818Z"
   },
   {
    "duration": 9,
    "start_time": "2021-11-15T18:09:17.425Z"
   },
   {
    "duration": 12,
    "start_time": "2021-11-15T18:09:31.184Z"
   },
   {
    "duration": 29,
    "start_time": "2021-11-15T18:09:34.394Z"
   },
   {
    "duration": 492,
    "start_time": "2021-11-15T18:11:20.397Z"
   },
   {
    "duration": 16,
    "start_time": "2021-11-15T18:11:25.567Z"
   },
   {
    "duration": 22,
    "start_time": "2021-11-15T18:11:41.545Z"
   },
   {
    "duration": 6,
    "start_time": "2021-11-15T18:11:55.812Z"
   },
   {
    "duration": 330,
    "start_time": "2021-11-15T18:12:38.418Z"
   },
   {
    "duration": 114,
    "start_time": "2021-11-15T18:12:45.093Z"
   },
   {
    "duration": 12,
    "start_time": "2021-11-15T18:13:54.297Z"
   },
   {
    "duration": 16,
    "start_time": "2021-11-15T18:15:02.088Z"
   },
   {
    "duration": 26,
    "start_time": "2021-11-15T18:15:06.784Z"
   },
   {
    "duration": 522,
    "start_time": "2021-11-15T18:15:48.407Z"
   },
   {
    "duration": 28,
    "start_time": "2021-11-15T18:16:03.974Z"
   },
   {
    "duration": 344,
    "start_time": "2021-11-15T18:16:11.321Z"
   },
   {
    "duration": 26,
    "start_time": "2021-11-15T18:16:14.654Z"
   },
   {
    "duration": 1706,
    "start_time": "2021-11-15T18:18:23.469Z"
   },
   {
    "duration": 6,
    "start_time": "2021-11-15T18:18:25.178Z"
   },
   {
    "duration": 94,
    "start_time": "2021-11-15T18:18:25.187Z"
   },
   {
    "duration": 7,
    "start_time": "2021-11-15T18:18:25.283Z"
   },
   {
    "duration": 30,
    "start_time": "2021-11-15T18:18:25.292Z"
   },
   {
    "duration": 62,
    "start_time": "2021-11-15T18:18:25.325Z"
   },
   {
    "duration": 476,
    "start_time": "2021-11-15T18:18:25.389Z"
   },
   {
    "duration": 18,
    "start_time": "2021-11-15T18:18:25.868Z"
   },
   {
    "duration": 1149,
    "start_time": "2021-11-15T18:18:25.892Z"
   },
   {
    "duration": 45,
    "start_time": "2021-11-15T18:18:27.045Z"
   },
   {
    "duration": 415,
    "start_time": "2021-11-15T18:18:27.097Z"
   },
   {
    "duration": 3,
    "start_time": "2021-11-15T18:18:27.514Z"
   },
   {
    "duration": 20,
    "start_time": "2021-11-15T18:18:27.520Z"
   },
   {
    "duration": 6,
    "start_time": "2021-11-15T18:18:27.542Z"
   },
   {
    "duration": 36,
    "start_time": "2021-11-15T18:18:27.550Z"
   },
   {
    "duration": 23,
    "start_time": "2021-11-15T18:18:27.588Z"
   },
   {
    "duration": 6,
    "start_time": "2021-11-15T18:18:27.614Z"
   },
   {
    "duration": 29,
    "start_time": "2021-11-15T18:18:27.622Z"
   },
   {
    "duration": 534,
    "start_time": "2021-11-15T18:18:27.654Z"
   },
   {
    "duration": 623,
    "start_time": "2021-11-15T18:18:28.191Z"
   },
   {
    "duration": 456,
    "start_time": "2021-11-15T18:18:28.817Z"
   },
   {
    "duration": 15,
    "start_time": "2021-11-15T18:18:29.275Z"
   },
   {
    "duration": 708,
    "start_time": "2021-11-15T18:18:29.292Z"
   },
   {
    "duration": 44,
    "start_time": "2021-11-15T18:18:30.003Z"
   },
   {
    "duration": 1185,
    "start_time": "2021-11-15T18:18:30.049Z"
   },
   {
    "duration": 243,
    "start_time": "2021-11-15T18:18:31.236Z"
   },
   {
    "duration": 866,
    "start_time": "2021-11-15T18:18:31.484Z"
   },
   {
    "duration": 47,
    "start_time": "2021-11-15T18:18:32.352Z"
   },
   {
    "duration": 472,
    "start_time": "2021-11-15T18:18:32.401Z"
   },
   {
    "duration": 51,
    "start_time": "2021-11-15T18:18:32.875Z"
   },
   {
    "duration": 25,
    "start_time": "2021-11-15T18:18:32.929Z"
   },
   {
    "duration": 31,
    "start_time": "2021-11-15T18:18:32.956Z"
   },
   {
    "duration": 22,
    "start_time": "2021-11-15T18:18:32.989Z"
   },
   {
    "duration": 479,
    "start_time": "2021-11-15T18:18:33.014Z"
   },
   {
    "duration": 690,
    "start_time": "2021-11-15T18:18:33.496Z"
   }
  ],
  "kernelspec": {
   "display_name": "Python 3",
   "language": "python",
   "name": "python3"
  },
  "language_info": {
   "codemirror_mode": {
    "name": "ipython",
    "version": 3
   },
   "file_extension": ".py",
   "mimetype": "text/x-python",
   "name": "python",
   "nbconvert_exporter": "python",
   "pygments_lexer": "ipython3",
   "version": "3.9.5"
  },
  "toc": {
   "base_numbering": 1,
   "nav_menu": {},
   "number_sections": true,
   "sideBar": true,
   "skip_h1_title": true,
   "title_cell": "Table of Contents",
   "title_sidebar": "Contents",
   "toc_cell": false,
   "toc_position": {},
   "toc_section_display": true,
   "toc_window_display": false
  }
 },
 "nbformat": 4,
 "nbformat_minor": 2
}
